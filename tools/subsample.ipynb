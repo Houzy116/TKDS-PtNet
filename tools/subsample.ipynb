{
 "cells": [
  {
   "cell_type": "code",
   "execution_count": 1,
   "metadata": {},
   "outputs": [],
   "source": [
    "import scipy.misc as smi\n",
    "import os\n",
    "import numpy as np\n",
    "from glob import glob\n",
    "from tqdm import tqdm\n",
    "from PIL import Image\n",
    "import imageio\n",
    "import torch\n",
    "import random\n"
   ]
  },
  {
   "cell_type": "code",
   "execution_count": 3,
   "metadata": {},
   "outputs": [],
   "source": [
    "files=glob('/data2/Syria_img/Syria_samples/samples/*/*.png')"
   ]
  },
  {
   "cell_type": "code",
   "execution_count": 86,
   "metadata": {},
   "outputs": [
    {
     "name": "stderr",
     "output_type": "stream",
     "text": [
      "100%|██████████| 527540/527540 [07:36<00:00, 1154.48it/s]\n"
     ]
    }
   ],
   "source": [
    "for file in tqdm(files):\n",
    "    image_tensor=torch.tensor(np.array(Image.open(file)).transpose(2,0,1).astype(np.float64))\n",
    "    # print(image_tensor.shape)\n",
    "    image_upsample_tensor = torch.nn.functional.interpolate(image_tensor.unsqueeze_(0), size=[6, 6], mode='area')\n",
    "    img=np.array(image_upsample_tensor[0])\n",
    "    torch.save(img,file.replace('.png','.pth').replace('Syria_samples/samples','Syria_samples/sample_size6_AREA'))\n"
   ]
  },
  {
   "cell_type": "code",
   "execution_count": 88,
   "metadata": {},
   "outputs": [
    {
     "name": "stdout",
     "output_type": "stream",
     "text": [
      "175846 87924\n",
      "175846 87924\n"
     ]
    }
   ],
   "source": [
    "train=torch.load('/data2/Syria_img/Syria_samples/split_havedamaged/train.pth')\n",
    "val=torch.load('/data2/Syria_img/Syria_samples/split_havedamaged/val.pth')\n",
    "print(len(train),len(val))\n",
    "train_size6=[[i[0].replace('.png','.pth').replace('Syria_samples/samples','Syria_samples/sample_size6_AREA'),i[1]] for i in train]\n",
    "val_size6=[[i[0].replace('.png','.pth').replace('Syria_samples/samples','Syria_samples/sample_size6_AREA'),i[1]] for i in val]\n",
    "print(len(train_size6),len(val_size6))\n",
    "torch.save(train_size6,'/data2/Syria_img/Syria_samples/split_havedamaged_size6_AREA/train.pth')\n",
    "torch.save(val_size6,'/data2/Syria_img/Syria_samples/split_havedamaged_size6_AREA/val.pth')"
   ]
  },
  {
   "cell_type": "code",
   "execution_count": 89,
   "metadata": {},
   "outputs": [
    {
     "name": "stderr",
     "output_type": "stream",
     "text": [
      "100%|██████████| 527540/527540 [06:15<00:00, 1404.82it/s]\n"
     ]
    }
   ],
   "source": [
    "for file in tqdm(files):\n",
    "    img=np.array(Image.open(file).resize((6,6),resample=Image.BOX)).transpose(2,0,1)\n",
    "    torch.save(img,file.replace('.png','.pth').replace('Syria_samples/samples','Syria_samples/sample_size6_AREA_int'))"
   ]
  },
  {
   "cell_type": "code",
   "execution_count": 90,
   "metadata": {},
   "outputs": [
    {
     "name": "stdout",
     "output_type": "stream",
     "text": [
      "175846 87924\n",
      "175846 87924\n"
     ]
    }
   ],
   "source": [
    "train=torch.load('/data2/Syria_img/Syria_samples/split_havedamaged/train.pth')\n",
    "val=torch.load('/data2/Syria_img/Syria_samples/split_havedamaged/val.pth')\n",
    "print(len(train),len(val))\n",
    "train_size6=[[i[0].replace('.png','.pth').replace('Syria_samples/samples','Syria_samples/sample_size6_AREA_int'),i[1]] for i in train]\n",
    "val_size6=[[i[0].replace('.png','.pth').replace('Syria_samples/samples','Syria_samples/sample_size6_AREA_int'),i[1]] for i in val]\n",
    "print(len(train_size6),len(val_size6))\n",
    "torch.save(train_size6,'/data2/Syria_img/Syria_samples/split_havedamaged_size6_AREA_int/train.pth')\n",
    "torch.save(val_size6,'/data2/Syria_img/Syria_samples/split_havedamaged_size6_AREA_int/val.pth')"
   ]
  },
  {
   "cell_type": "code",
   "execution_count": 4,
   "metadata": {},
   "outputs": [],
   "source": [
    "train=torch.load('/data2/Syria_img/Syria_samples/split_havedamaged_size6_AREA/train.pth')\n",
    "val=torch.load('/data2/Syria_img/Syria_samples/split_havedamaged_size6_AREA/val.pth')\n",
    "cities=list(set([i[0].split('_')[-3].split('/')[-1] for i in train]))\n",
    "all=train+val"
   ]
  },
  {
   "cell_type": "code",
   "execution_count": 12,
   "metadata": {},
   "outputs": [],
   "source": [
    "train=torch.load('/data2/Syria_img/Syria_samples/split_havedamaged/train.pth')\n",
    "val=torch.load('/data2/Syria_img/Syria_samples/split_havedamaged/val.pth')\n",
    "cities=list(set([i[0].split('_')[-3].split('/')[-1] for i in train]))\n",
    "all=train+val"
   ]
  },
  {
   "cell_type": "code",
   "execution_count": 13,
   "metadata": {},
   "outputs": [
    {
     "name": "stdout",
     "output_type": "stream",
     "text": [
      "Idlib 10232\n",
      "Deir-ez-Zor 26128\n",
      "Hama 23788\n",
      "Aleppo 169692\n",
      "Raqqa 14626\n",
      "Homs 19304\n"
     ]
    }
   ],
   "source": [
    "samples_cities={}\n",
    "for city in cities:\n",
    "    samples_cities[city]=[i for i in all if city in i[0]]\n",
    "    print(city,len(samples_cities[city]))"
   ]
  },
  {
   "cell_type": "code",
   "execution_count": 11,
   "metadata": {},
   "outputs": [],
   "source": [
    "for i in cities:\n",
    "    # torch.save(samples_cities[i],f'/data2/Syria_img/Syria_samples/split_havedamaged_size6_AREA/cities/{i}/sample.pth')\n",
    "    \n",
    "    # os.makedirs(f'/data2/Syria_img/Syria_samples/split_havedamaged_size6_AREA/cities/{i}')"
   ]
  },
  {
   "cell_type": "code",
   "execution_count": 14,
   "metadata": {},
   "outputs": [
    {
     "name": "stdout",
     "output_type": "stream",
     "text": [
      "        n   p   total\n",
      "train 16017 634 16651\n",
      "val    6865 272 7137\n"
     ]
    }
   ],
   "source": [
    "samples_A=samples_cities['Hama']\n",
    "samples_A_n=[i for i in samples_A if i[1]=='n']\n",
    "samples_A_p=[i for i in samples_A if i[1]=='p']\n",
    "k_n=int(len(samples_A_n)*7/10)\n",
    "k_p=int(len(samples_A_p)*7/10)\n",
    "samples_A_nt=samples_A_n[:k_n]\n",
    "samples_A_nv=samples_A_n[k_n:]\n",
    "samples_A_pt=samples_A_p[:k_p]\n",
    "samples_A_pv=samples_A_p[k_p:]\n",
    "\n",
    "samples_A_t=samples_A_nt+samples_A_pt\n",
    "samples_A_v=samples_A_nv+samples_A_pv\n",
    "random.shuffle(samples_A_t)\n",
    "random.shuffle(samples_A_v)\n",
    "print('        n   p   total')\n",
    "print('train',len(samples_A_nt),len(samples_A_pt),len(samples_A_t))\n",
    "print('val   ',len(samples_A_nv),len(samples_A_pv),len(samples_A_v))"
   ]
  },
  {
   "cell_type": "code",
   "execution_count": 10,
   "metadata": {},
   "outputs": [],
   "source": [
    "torch.save(samples_A_v,'/data2/Syria_img/Syria_samples/split_havedamaged_size6_AREA/cities/Hama/val_size120.pth')\n",
    "torch.save(samples_A_t,'/data2/Syria_img/Syria_samples/split_havedamaged_size6_AREA/cities/Hama/train_size120.pth')"
   ]
  },
  {
   "cell_type": "code",
   "execution_count": 10,
   "metadata": {},
   "outputs": [
    {
     "data": {
      "text/plain": [
       "array([0.79983475, 1.20016525])"
      ]
     },
     "execution_count": 10,
     "metadata": {},
     "output_type": "execute_result"
    }
   ],
   "source": [
    "import numpy as np\n",
    "def get_weight(class_num, pixel_count,mod=1):\n",
    "    if mod==1:\n",
    "        W = 1 / np.log(pixel_count)\n",
    "\n",
    "        #除以np.sum(W)，是将权重归一化，让每个类别的权重相加为1。\n",
    "        #乘以class_num，是为了让权重中的每个类别的权重值接近1，使网络在一个正常的水平上进行训练。\n",
    "        W = class_num * W/np.sum(W)  \n",
    "        \n",
    "        return W\n",
    "    else:\n",
    "        W = 1 / np.array(pixel_count)/2*np.array(pixel_count).sum()\n",
    "        return W\n",
    "get_weight(2,[16017,634])"
   ]
  },
  {
   "cell_type": "code",
   "execution_count": 12,
   "metadata": {},
   "outputs": [
    {
     "data": {
      "text/plain": [
       "array([0.86452432, 1.13547568])"
      ]
     },
     "execution_count": 12,
     "metadata": {},
     "output_type": "execute_result"
    }
   ],
   "source": [
    "get_weight(2,[705855,28384],1)"
   ]
  },
  {
   "cell_type": "code",
   "execution_count": 6,
   "metadata": {},
   "outputs": [
    {
     "name": "stderr",
     "output_type": "stream",
     "text": [
      "100%|██████████| 247184/247184 [03:32<00:00, 1163.75it/s]\n"
     ]
    }
   ],
   "source": [
    "files=glob('/data2/Syria_img/Syria_samples/samples_enhance/*/*.png')\n",
    "for file in tqdm(files):\n",
    "    image_tensor=torch.tensor(np.array(Image.open(file)).transpose(2,0,1).astype(np.float64))\n",
    "    # print(image_tensor.shape)\n",
    "    image_upsample_tensor = torch.nn.functional.interpolate(image_tensor.unsqueeze_(0), size=[6, 6], mode='area')\n",
    "    img=np.array(image_upsample_tensor[0])\n",
    "    torch.save(img,file.replace('.png','.pth').replace('Syria_samples/samples_enhance','Syria_samples/samples_enhance_size6_AREA'))"
   ]
  },
  {
   "cell_type": "code",
   "execution_count": 13,
   "metadata": {},
   "outputs": [
    {
     "name": "stdout",
     "output_type": "stream",
     "text": [
      "82394 41198\n",
      "82394 41198\n"
     ]
    }
   ],
   "source": [
    "train=torch.load('/data2/Syria_img/Syria_samples/split_havedamaged_enhance_Hama/train.pth')\n",
    "val=torch.load('/data2/Syria_img/Syria_samples/split_havedamaged_enhance_Hama/val.pth')\n",
    "print(len(train),len(val))\n",
    "train_size6=[[i[0].replace('.png','.pth').replace('Syria_samples/samples_enhance','Syria_samples/samples_enhance_size6_AREA'),i[1]] for i in train]\n",
    "val_size6=[[i[0].replace('.png','.pth').replace('Syria_samples/samples_enhance','Syria_samples/samples_enhance_size6_AREA'),i[1]] for i in val]\n",
    "print(len(train_size6),len(val_size6))\n",
    "torch.save(train_size6,'/data2/Syria_img/Syria_samples/split_havedamaged_enhance_Hama_size6_AREA/train.pth')\n",
    "torch.save(val_size6,'/data2/Syria_img/Syria_samples/split_havedamaged_enhance_Hama_size6_AREA/val.pth')"
   ]
  },
  {
   "cell_type": "code",
   "execution_count": 11,
   "metadata": {},
   "outputs": [],
   "source": [
    "train_enhance=torch.load('/data2/Syria_img/Syria_samples/split_havedamaged_enhance_Hama/train.pth')\n",
    "val_enhance=torch.load('/data2/Syria_img/Syria_samples/split_havedamaged_enhance_Hama/val.pth')"
   ]
  },
  {
   "cell_type": "code",
   "execution_count": 13,
   "metadata": {},
   "outputs": [],
   "source": [
    "train=torch.load('/data2/Syria_img/Syria_samples/split_havedamaged_size6_AREA/cities/Hama/train_size120.pth')\n",
    "val=torch.load('/data2/Syria_img/Syria_samples/split_havedamaged_size6_AREA/cities/Hama/val_size120.pth')"
   ]
  },
  {
   "cell_type": "code",
   "execution_count": 14,
   "metadata": {},
   "outputs": [
    {
     "data": {
      "text/plain": [
       "['/data2/Syria_img/Syria_samples/samples/pre/Hama_C_3065.png', 'n']"
      ]
     },
     "execution_count": 14,
     "metadata": {},
     "output_type": "execute_result"
    }
   ],
   "source": [
    "val[0]"
   ]
  },
  {
   "cell_type": "code",
   "execution_count": 15,
   "metadata": {},
   "outputs": [],
   "source": [
    "train_all=train+train_enhance\n",
    "val_all=val+val_enhance\n",
    "random.shuffle(train_all)\n",
    "random.shuffle(val_all)"
   ]
  },
  {
   "cell_type": "code",
   "execution_count": 16,
   "metadata": {},
   "outputs": [],
   "source": [
    "torch.save(train_all,'/data2/Syria_img/Syria_samples/split_havedamaged_all_Hama/train.pth')\n",
    "torch.save(val_all,'/data2/Syria_img/Syria_samples/split_havedamaged_all_Hama/val.pth')"
   ]
  },
  {
   "cell_type": "code",
   "execution_count": 19,
   "metadata": {},
   "outputs": [],
   "source": [
    "train=torch.load('/data2/Syria_img/Syria_samples/split_havedamaged_all_Hama_size6_AREA/train.pth')\n",
    "val=torch.load('/data2/Syria_img/Syria_samples/split_havedamaged_all_Hama_size6_AREA/val.pth')"
   ]
  },
  {
   "cell_type": "code",
   "execution_count": 20,
   "metadata": {},
   "outputs": [],
   "source": [
    "keys={'label':['B','C'],\n",
    "        'before':['enhance-A-B'],\n",
    "        'after':['enhance-D-Z'],\n",
    "        'interval':['enhance-B-C','enhance-C-D']}\n",
    "split_split={}\n",
    "for k in keys.keys():\n",
    "        s=[]\n",
    "        for kk in keys[k]:\n",
    "                for i in val:\n",
    "                        id=os.path.basename(i[0]).split('_')[1]\n",
    "                        if len(id.split('-'))>1:\n",
    "                                id=id[:-2]\n",
    "                        if id==kk:\n",
    "                                s.append(i)\n",
    "        split_split[k]=s\n"
   ]
  },
  {
   "cell_type": "code",
   "execution_count": 21,
   "metadata": {},
   "outputs": [
    {
     "data": {
      "text/plain": [
       "dict_keys(['label', 'before', 'after', 'interval'])"
      ]
     },
     "execution_count": 21,
     "metadata": {},
     "output_type": "execute_result"
    }
   ],
   "source": [
    "split_split.keys()"
   ]
  },
  {
   "cell_type": "code",
   "execution_count": 23,
   "metadata": {},
   "outputs": [
    {
     "name": "stdout",
     "output_type": "stream",
     "text": [
      "label 7137\n",
      "before 12023\n",
      "after 1535\n",
      "interval 27640\n"
     ]
    }
   ],
   "source": [
    "for k in split_split.keys():\n",
    "    print(k,len(split_split[k]))\n",
    "    torch.save(split_split[k],f'/data2/Syria_img/Syria_samples/split_havedamaged_all_Hama_size6_AREA/val_{k}.pth')"
   ]
  },
  {
   "cell_type": "code",
   "execution_count": 14,
   "metadata": {},
   "outputs": [],
   "source": [
    "\n",
    "cities=['Homs', 'Idlib', 'Raqqa', 'Aleppo', 'Deir-ez-Zor', 'Hama']"
   ]
  },
  {
   "cell_type": "code",
   "execution_count": 3,
   "metadata": {},
   "outputs": [
    {
     "name": "stdout",
     "output_type": "stream",
     "text": [
      "Raqqa\n",
      "interpolate files\n"
     ]
    },
    {
     "name": "stderr",
     "output_type": "stream",
     "text": [
      "100%|██████████| 51678/51678 [00:42<00:00, 1215.61it/s]\n"
     ]
    },
    {
     "name": "stdout",
     "output_type": "stream",
     "text": [
      "interpolate post files\n"
     ]
    },
    {
     "name": "stderr",
     "output_type": "stream",
     "text": [
      "100%|██████████| 51678/51678 [00:44<00:00, 1164.93it/s]\n"
     ]
    },
    {
     "name": "stdout",
     "output_type": "stream",
     "text": [
      "Homs\n",
      "interpolate files\n"
     ]
    },
    {
     "name": "stderr",
     "output_type": "stream",
     "text": [
      "100%|██████████| 48306/48306 [00:48<00:00, 993.94it/s] \n"
     ]
    },
    {
     "name": "stdout",
     "output_type": "stream",
     "text": [
      "interpolate post files\n"
     ]
    },
    {
     "name": "stderr",
     "output_type": "stream",
     "text": [
      "100%|██████████| 48306/48306 [00:49<00:00, 982.85it/s] \n"
     ]
    },
    {
     "name": "stdout",
     "output_type": "stream",
     "text": [
      "Idlib\n",
      "interpolate files\n"
     ]
    },
    {
     "name": "stderr",
     "output_type": "stream",
     "text": [
      "100%|██████████| 20503/20503 [00:20<00:00, 986.36it/s] \n"
     ]
    },
    {
     "name": "stdout",
     "output_type": "stream",
     "text": [
      "interpolate post files\n"
     ]
    },
    {
     "name": "stderr",
     "output_type": "stream",
     "text": [
      "100%|██████████| 20503/20503 [00:21<00:00, 955.45it/s] \n"
     ]
    },
    {
     "name": "stdout",
     "output_type": "stream",
     "text": [
      "Aleppo\n",
      "interpolate files\n"
     ]
    },
    {
     "name": "stderr",
     "output_type": "stream",
     "text": [
      "100%|██████████| 508662/508662 [08:21<00:00, 1014.27it/s]\n"
     ]
    },
    {
     "name": "stdout",
     "output_type": "stream",
     "text": [
      "interpolate post files\n"
     ]
    },
    {
     "name": "stderr",
     "output_type": "stream",
     "text": [
      "100%|██████████| 508662/508662 [08:34<00:00, 988.27it/s] \n"
     ]
    },
    {
     "name": "stdout",
     "output_type": "stream",
     "text": [
      "Deir-ez-Zor\n",
      "interpolate files\n"
     ]
    },
    {
     "name": "stderr",
     "output_type": "stream",
     "text": [
      "100%|██████████| 46148/46148 [00:46<00:00, 994.74it/s] \n"
     ]
    },
    {
     "name": "stdout",
     "output_type": "stream",
     "text": [
      "interpolate post files\n"
     ]
    },
    {
     "name": "stderr",
     "output_type": "stream",
     "text": [
      "100%|██████████| 46148/46148 [00:47<00:00, 981.71it/s] \n"
     ]
    }
   ],
   "source": [
    "for city in cities:\n",
    "    print(city)\n",
    "    all_info=torch.load(f'/ssd/hk/Syria_samples/split_havedamaged_size120_enhance/cities/{city}/train.pth')+torch.load(f'/ssd/hk/Syria_samples/split_havedamaged_size120_enhance/cities/{city}/val.pth')\n",
    "    files=[i[0] for i in all_info]\n",
    "    files_post=[i.replace('pre','post') for i in files]\n",
    "    print('interpolate files')\n",
    "    time.sleep(2)\n",
    "    for file in tqdm(files_post):\n",
    "        image_tensor=torch.tensor(np.array(Image.open(file)).transpose(2,0,1).astype(np.float64))\n",
    "        # print(image_tensor.shape)\n",
    "        image_upsample_tensor = torch.nn.functional.interpolate(image_tensor.unsqueeze_(0), size=[6, 6], mode='area')\n",
    "        img=np.array(image_upsample_tensor[0])\n",
    "        torch.save(img,file.replace('.png','.pth').replace('Syria_samples/samples_enhance','Syria_samples/samples_enhance_size6_AREA'))\n",
    "    print('interpolate post files')\n",
    "    time.sleep(2)\n",
    "    for file in tqdm(files):\n",
    "        image_tensor=torch.tensor(np.array(Image.open(file)).transpose(2,0,1).astype(np.float64))\n",
    "        # print(image_tensor.shape)\n",
    "        image_upsample_tensor = torch.nn.functional.interpolate(image_tensor.unsqueeze_(0), size=[6, 6], mode='area')\n",
    "        img=np.array(image_upsample_tensor[0])\n",
    "        torch.save(img,file.replace('.png','.pth').replace('Syria_samples/samples_enhance','Syria_samples/samples_enhance_size6_AREA'))\n"
   ]
  },
  {
   "cell_type": "code",
   "execution_count": 5,
   "metadata": {},
   "outputs": [
    {
     "data": {
      "text/plain": [
       "'/ssd/hk/Syria_samples/samples_enhance_size6_AREA/pre/Raqqa_enhance-A-B-4_3247.pth'"
      ]
     },
     "execution_count": 5,
     "metadata": {},
     "output_type": "execute_result"
    }
   ],
   "source": [
    "file.replace('.png','.pth').replace('Syria_samples/samples_enhance','Syria_samples/samples_enhance_size6_AREA')"
   ]
  },
  {
   "cell_type": "code",
   "execution_count": 4,
   "metadata": {},
   "outputs": [
    {
     "name": "stdout",
     "output_type": "stream",
     "text": [
      "Raqqa\n",
      "34451 17227\n",
      "34451 17227\n",
      "Homs\n",
      "32203 16103\n",
      "32203 16103\n",
      "Idlib\n",
      "13668 6835\n",
      "13668 6835\n",
      "Aleppo\n",
      "339108 169554\n",
      "339108 169554\n",
      "Deir-ez-Zor\n",
      "30765 15383\n",
      "30765 15383\n"
     ]
    }
   ],
   "source": [
    "for city in cities:\n",
    "    print(city)\n",
    "    train=torch.load(f'/ssd/hk/Syria_samples/split_havedamaged_size120_enhance/cities/{city}/train.pth')\n",
    "    val=torch.load(f'/ssd/hk/Syria_samples/split_havedamaged_size120_enhance/cities/{city}/val.pth')\n",
    "    print(len(train),len(val))\n",
    "    train_size6=[[i[0].replace('.png','.pth').replace('Syria_samples/samples_enhance','Syria_samples/samples_enhance_size6_AREA'),i[1]] for i in train]\n",
    "    val_size6=[[i[0].replace('.png','.pth').replace('Syria_samples/samples_enhance','Syria_samples/samples_enhance_size6_AREA'),i[1]] for i in val]\n",
    "    print(len(train_size6),len(val_size6))\n",
    "    torch.save(train_size6,f'/ssd/hk/Syria_samples/split_havedamaged_size6_enhance/cities/{city}/train.pth')\n",
    "    torch.save(val_size6,f'/ssd/hk/Syria_samples/split_havedamaged_size6_enhance/cities/{city}/val.pth')"
   ]
  },
  {
   "cell_type": "code",
   "execution_count": null,
   "metadata": {},
   "outputs": [],
   "source": [
    "    print(city)\n",
    "    train=torch.load(f'/ssd/hk/Syria_samples/split_havedamaged_size120_enhance/cities/{city}/train.pth')\n",
    "    val=torch.load(f'/ssd/hk/Syria_samples/split_havedamaged_size120_enhance/cities/{city}/val.pth')\n",
    "    print(len(train),len(val))\n",
    "    train_size6=[[i[0].replace('.png','.pth').replace('Syria_samples/samples_enhance','Syria_samples/samples_enhance_size6_AREA'),i[1]] for i in train]\n",
    "    val_size6=[[i[0].replace('.png','.pth').replace('Syria_samples/samples_enhance','Syria_samples/samples_enhance_size6_AREA'),i[1]] for i in val]\n",
    "    print(len(train_size6),len(val_size6))\n",
    "    torch.save(train_size6,f'/ssd/hk/Syria_samples/split_havedamaged_size6_enhance/cities/{city}/train.pth')\n",
    "    torch.save(val_size6,f'/ssd/hk/Syria_samples/split_havedamaged_size6_enhance/cities/{city}/val.pth')"
   ]
  },
  {
   "cell_type": "code",
   "execution_count": 16,
   "metadata": {},
   "outputs": [
    {
     "name": "stdout",
     "output_type": "stream",
     "text": [
      "Homs\n",
      "Idlib\n",
      "Raqqa\n",
      "Aleppo\n",
      "Deir-ez-Zor\n",
      "Hama\n"
     ]
    }
   ],
   "source": [
    "for city in cities:\n",
    "    print(city)\n",
    "    train=torch.load(f'/ssd/hk/Syria_samples/split_havedamaged_size6_enhance/cities/{city}/train.pth')+torch.load(f'/ssd/hk/Syria_samples/split_havedamaged_size6/cities/{city}/train.pth')\n",
    "    val=torch.load(f'/ssd/hk/Syria_samples/split_havedamaged_size6_enhance/cities/{city}/val.pth')+torch.load(f'/ssd/hk/Syria_samples/split_havedamaged_size6/cities/{city}/val.pth')\n",
    "    random.shuffle(train)\n",
    "    random.shuffle(val)\n",
    "    torch.save(train,f'/ssd/hk/Syria_samples/split_havedamaged_size6_all/cities/{city}/train.pth')\n",
    "    torch.save(val,f'/ssd/hk/Syria_samples/split_havedamaged_size6_all/cities/{city}/val.pth')"
   ]
  },
  {
   "cell_type": "code",
   "execution_count": 18,
   "metadata": {},
   "outputs": [
    {
     "name": "stdout",
     "output_type": "stream",
     "text": [
      "Homs\n",
      "67610\n",
      "Idlib\n",
      "30735\n",
      "Raqqa\n",
      "66304\n",
      "Aleppo\n",
      "678354\n",
      "Deir-ez-Zor\n",
      "72276\n",
      "Hama\n",
      "147380\n"
     ]
    }
   ],
   "source": [
    "for city in cities:\n",
    "    print(city)\n",
    "    train=torch.load(f'/ssd/hk/Syria_samples/split_havedamaged_size6_all/cities/{city}/train.pth')\n",
    "    val=torch.load(f'/ssd/hk/Syria_samples/split_havedamaged_size6_all/cities/{city}/val.pth')\n",
    "    for i in train:\n",
    "        if not os.path.exists(i[0]):\n",
    "            print(i[0])\n",
    "    for i in val:\n",
    "        if not os.path.exists(i[0]):\n",
    "            print(i[0])\n",
    "    print(len(train)+len(val))"
   ]
  },
  {
   "cell_type": "code",
   "execution_count": 35,
   "metadata": {},
   "outputs": [
    {
     "name": "stdout",
     "output_type": "stream",
     "text": [
      "798889\n"
     ]
    }
   ],
   "source": [
    "train=[]\n",
    "val=[]\n",
    "for city in cities:\n",
    "    train+=torch.load(f'/ssd/hk/Syria_samples/split_havedamaged_size6_enhance/cities/{city}/train.pth')\n",
    "    val+=torch.load(f'/ssd/hk/Syria_samples/split_havedamaged_size6_enhance/cities/{city}/val.pth')\n",
    "random.shuffle(train)\n",
    "random.shuffle(val)\n",
    "print(len(train)+len(val))\n",
    "torch.save(train,'/ssd/hk/Syria_samples/split_havedamaged_size6_enhance/train.pth')\n",
    "torch.save(val,'/ssd/hk/Syria_samples/split_havedamaged_size6_enhance/val.pth')"
   ]
  },
  {
   "cell_type": "code",
   "execution_count": null,
   "metadata": {},
   "outputs": [],
   "source": [
    "for i in train:\n",
    "    if not os.path.exists(i[0]):\n",
    "        print(i)"
   ]
  },
  {
   "cell_type": "code",
   "execution_count": null,
   "metadata": {},
   "outputs": [],
   "source": [
    "for i in val:\n",
    "    if not os.path.exists(i[0]):\n",
    "        print(i)"
   ]
  },
  {
   "cell_type": "code",
   "execution_count": 15,
   "metadata": {},
   "outputs": [
    {
     "name": "stdout",
     "output_type": "stream",
     "text": [
      "263770\n",
      "263770\n"
     ]
    }
   ],
   "source": [
    "from glob import glob\n",
    "print(len(glob('/data2/Syria_img/Syria_samples/samples/post/*.png')))\n",
    "print(len(glob('/ssd/hk/Syria_samples/samples/post/*.png')))"
   ]
  },
  {
   "cell_type": "code",
   "execution_count": 5,
   "metadata": {},
   "outputs": [
    {
     "data": {
      "text/plain": [
       "'/data2/Syria_img/Syria_samples/samples/pre/Aleppo_E_24802.png'"
      ]
     },
     "execution_count": 5,
     "metadata": {},
     "output_type": "execute_result"
    }
   ],
   "source": []
  },
  {
   "cell_type": "code",
   "execution_count": 13,
   "metadata": {},
   "outputs": [
    {
     "name": "stdout",
     "output_type": "stream",
     "text": [
      "Homs\n",
      "match train\n"
     ]
    },
    {
     "name": "stderr",
     "output_type": "stream",
     "text": [
      "100%|██████████| 67610/67610 [00:06<00:00, 11191.42it/s]\n"
     ]
    },
    {
     "name": "stdout",
     "output_type": "stream",
     "text": [
      "Idlib\n",
      "match train\n"
     ]
    },
    {
     "name": "stderr",
     "output_type": "stream",
     "text": [
      "100%|██████████| 30735/30735 [00:00<00:00, 40138.89it/s]\n"
     ]
    },
    {
     "name": "stdout",
     "output_type": "stream",
     "text": [
      "Raqqa\n",
      "match train\n"
     ]
    },
    {
     "name": "stderr",
     "output_type": "stream",
     "text": [
      "100%|██████████| 66304/66304 [00:04<00:00, 14668.25it/s]\n"
     ]
    },
    {
     "name": "stdout",
     "output_type": "stream",
     "text": [
      "Aleppo\n",
      "match train\n"
     ]
    },
    {
     "name": "stderr",
     "output_type": "stream",
     "text": [
      "100%|██████████| 678354/678354 [04:45<00:00, 2378.47it/s]\n"
     ]
    },
    {
     "name": "stdout",
     "output_type": "stream",
     "text": [
      "Deir-ez-Zor\n",
      "match train\n"
     ]
    },
    {
     "name": "stderr",
     "output_type": "stream",
     "text": [
      "100%|██████████| 72276/72276 [00:05<00:00, 13811.27it/s]\n"
     ]
    },
    {
     "name": "stdout",
     "output_type": "stream",
     "text": [
      "Hama\n",
      "match train\n"
     ]
    },
    {
     "name": "stderr",
     "output_type": "stream",
     "text": [
      "100%|██████████| 147380/147380 [00:19<00:00, 7636.90it/s]\n"
     ]
    }
   ],
   "source": [
    "import gdal\n",
    "import numpy as np\n",
    "import pandas as pd\n",
    "import os\n",
    "import geopandas as gpd\n",
    "import matplotlib.pyplot as plt\n",
    "import torch\n",
    "from glob import glob\n",
    "import shapely\n",
    "import random\n",
    "from tqdm import tqdm\n",
    "from collections import Counter\n",
    "from pybob.GeoImg import GeoImg\n",
    "import osr\n",
    "from pybob.image_tools import create_mask_from_shapefile\n",
    "import gc\n",
    "import imageio\n",
    "import time\n",
    "import shutil\n",
    "cities=['Homs', 'Idlib', 'Raqqa', 'Aleppo', 'Deir-ez-Zor', 'Hama']\n",
    "def match(string,input_list):\n",
    "    new_data_list=[i for i in input_list if  re.match(string, i[0]) != None]\n",
    "    return new_data_list\n",
    "city_sample=[]\n",
    "for city in cities:\n",
    "    t=torch.load(f'/ssd/hk/Syria_samples/coords_split/{city}_train.pth')\n",
    "    v=torch.load(f'/ssd/hk/Syria_samples/coords_split/{city}_val.pth')\n",
    "    print(city)\n",
    "    city_sample=[]\n",
    "    for i in glob(f'/ssd/hk/Syria_samples/samples_v2/{city}*v2.pth'):\n",
    "        city_sample+=torch.load(i)['info']\n",
    "        \n",
    "    for i in glob(f'/ssd/hk/Syria_samples/samples_enhance_v2/{city}*v2.pth'):\n",
    "        city_sample+=torch.load(i)['info']\n",
    "\n",
    "\n",
    "    for i in range(len(city_sample)):\n",
    "        if len(city_sample[i][3])==2:\n",
    "            if city_sample[i][3][0] is not None:\n",
    "                city_sample[i][3]=city_sample[i][3][0]\n",
    "            else:\n",
    "                city_sample[i][3]=city_sample[i][3][1]\n",
    "    city_pathes=[[i[0],'n'] if i[3][0]==0 else [i[0],'p'] for i in city_sample]\n",
    "    random.shuffle(city_pathes)\n",
    "    import re\n",
    "    city_coord_sample={}\n",
    "    city_coord_sample['train']={}\n",
    "    city_coord_sample['val']={}\n",
    "    print('match train')\n",
    "    time.sleep(2)\n",
    "    for i in t:\n",
    "        city_coord_sample['train'][i]=[]\n",
    "    for i in v:\n",
    "        city_coord_sample['val'][i]=[]\n",
    "\n",
    "    for i in tqdm(city_pathes):\n",
    "        id=i[0].split('_')[-1].split('.')[0]\n",
    "        if id in t:\n",
    "            city_coord_sample['train'][id].append(i)\n",
    "        if id in v:\n",
    "            city_coord_sample['val'][id].append(i)\n",
    "    for i in t:\n",
    "        city_coord_sample['train'][i].sort()\n",
    "    for i in v:\n",
    "        city_coord_sample['val'][i].sort()\n",
    "    torch.save(city_coord_sample,f'/ssd/hk/Syria_samples/split_havedamaged_size120_all_v2/{city}.pth') "
   ]
  },
  {
   "cell_type": "code",
   "execution_count": 15,
   "metadata": {},
   "outputs": [
    {
     "name": "stdout",
     "output_type": "stream",
     "text": [
      "Homs\n"
     ]
    },
    {
     "name": "stderr",
     "output_type": "stream",
     "text": [
      "100%|██████████| 6756/6756 [00:00<00:00, 1593651.53it/s]\n",
      "100%|██████████| 2896/2896 [00:00<00:00, 1893779.92it/s]\n"
     ]
    },
    {
     "name": "stdout",
     "output_type": "stream",
     "text": [
      "Idlib\n"
     ]
    },
    {
     "name": "stderr",
     "output_type": "stream",
     "text": [
      "100%|██████████| 1790/1790 [00:00<00:00, 2133505.02it/s]\n",
      "100%|██████████| 768/768 [00:00<00:00, 1750666.02it/s]\n"
     ]
    },
    {
     "name": "stdout",
     "output_type": "stream",
     "text": [
      "Raqqa\n"
     ]
    },
    {
     "name": "stderr",
     "output_type": "stream",
     "text": [
      "100%|██████████| 5115/5115 [00:00<00:00, 1432645.41it/s]\n",
      "100%|██████████| 2193/2193 [00:00<00:00, 2032731.20it/s]\n"
     ]
    },
    {
     "name": "stdout",
     "output_type": "stream",
     "text": [
      "Aleppo\n"
     ]
    },
    {
     "name": "stderr",
     "output_type": "stream",
     "text": [
      "100%|██████████| 29365/29365 [00:00<00:00, 1637254.40it/s]\n",
      "100%|██████████| 12586/12586 [00:00<00:00, 2016021.01it/s]\n"
     ]
    },
    {
     "name": "stdout",
     "output_type": "stream",
     "text": [
      "Deir-ez-Zor\n"
     ]
    },
    {
     "name": "stderr",
     "output_type": "stream",
     "text": [
      "100%|██████████| 4571/4571 [00:00<00:00, 1463188.86it/s]\n",
      "100%|██████████| 1961/1961 [00:00<00:00, 1654269.94it/s]\n"
     ]
    },
    {
     "name": "stdout",
     "output_type": "stream",
     "text": [
      "Hama\n"
     ]
    },
    {
     "name": "stderr",
     "output_type": "stream",
     "text": [
      "100%|██████████| 8325/8325 [00:00<00:00, 1553480.48it/s]\n",
      "100%|██████████| 3569/3569 [00:00<00:00, 2717768.88it/s]\n"
     ]
    }
   ],
   "source": [
    "cities=['Homs', 'Idlib', 'Raqqa', 'Aleppo', 'Deir-ez-Zor', 'Hama']\n",
    "train=[]\n",
    "val=[]\n",
    "for city in cities:\n",
    "    print(city)\n",
    "    time.sleep(2)\n",
    "    samples=torch.load(f'/ssd/hk/Syria_samples/split_havedamaged_size120_all_v2/{city}.pth')\n",
    "    ts=samples['train']\n",
    "    vs=samples['val']\n",
    "    for c in tqdm(ts.keys()):\n",
    "        train+=ts[c]\n",
    "    for c in tqdm(vs.keys()):\n",
    "        val+=vs[c]   "
   ]
  },
  {
   "cell_type": "code",
   "execution_count": 16,
   "metadata": {},
   "outputs": [],
   "source": [
    "random.shuffle(train)\n",
    "random.shuffle(val)"
   ]
  },
  {
   "cell_type": "code",
   "execution_count": 17,
   "metadata": {},
   "outputs": [
    {
     "name": "stdout",
     "output_type": "stream",
     "text": [
      "734239\n",
      "314794\n"
     ]
    }
   ],
   "source": [
    "print(len(train))\n",
    "print(len(val))"
   ]
  },
  {
   "cell_type": "code",
   "execution_count": 20,
   "metadata": {},
   "outputs": [],
   "source": [
    "torch.save(train,'/ssd/hk/Syria_samples/split_havedamaged_size120_all_v2/train.pth')\n",
    "torch.save(val,'/ssd/hk/Syria_samples/split_havedamaged_size120_all_v2/val.pth')"
   ]
  },
  {
   "cell_type": "code",
   "execution_count": 4,
   "metadata": {},
   "outputs": [
    {
     "name": "stdout",
     "output_type": "stream",
     "text": [
      "963018\n",
      "413464\n",
      "717222\n",
      "345437\n"
     ]
    }
   ],
   "source": [
    "import torch\n",
    "print(len(torch.load('/ssd/hk/Syria_samples/split_havedamaged_size120_all_v2/train.pth')))\n",
    "print(len(torch.load('/ssd/hk/Syria_samples/split_havedamaged_size120_all_v2/val.pth')))\n",
    "print(len(torch.load('/ssd/hk/Syria_samples/split_havedamaged_size120_all/train.pth')))\n",
    "print(len(torch.load('/ssd/hk/Syria_samples/split_havedamaged_size120_all/val.pth')))"
   ]
  },
  {
   "cell_type": "code",
   "execution_count": 5,
   "metadata": {},
   "outputs": [
    {
     "data": {
      "text/plain": [
       "263770"
      ]
     },
     "execution_count": 5,
     "metadata": {},
     "output_type": "execute_result"
    }
   ],
   "source": [
    "len(os.listdir('/ssd/hk/Syria_samples/samples/pre'))"
   ]
  },
  {
   "cell_type": "code",
   "execution_count": 6,
   "metadata": {},
   "outputs": [
    {
     "data": {
      "text/plain": [
       "798889"
      ]
     },
     "execution_count": 6,
     "metadata": {},
     "output_type": "execute_result"
    }
   ],
   "source": [
    "len(os.listdir('/ssd/hk/Syria_samples/samples_enhance/pre'))"
   ]
  },
  {
   "cell_type": "code",
   "execution_count": 7,
   "metadata": {},
   "outputs": [
    {
     "data": {
      "text/plain": [
       "1062659"
      ]
     },
     "execution_count": 7,
     "metadata": {},
     "output_type": "execute_result"
    }
   ],
   "source": [
    "263770+798889"
   ]
  },
  {
   "cell_type": "code",
   "execution_count": 8,
   "metadata": {},
   "outputs": [
    {
     "data": {
      "text/plain": [
       "1062659"
      ]
     },
     "execution_count": 8,
     "metadata": {},
     "output_type": "execute_result"
    }
   ],
   "source": [
    "717222+345437"
   ]
  },
  {
   "cell_type": "code",
   "execution_count": 18,
   "metadata": {},
   "outputs": [
    {
     "data": {
      "text/plain": [
       "1049033"
      ]
     },
     "execution_count": 18,
     "metadata": {},
     "output_type": "execute_result"
    }
   ],
   "source": [
    "734239+314794"
   ]
  },
  {
   "cell_type": "code",
   "execution_count": 11,
   "metadata": {},
   "outputs": [
    {
     "name": "stdout",
     "output_type": "stream",
     "text": [
      "Homs\n",
      "67610\n",
      "Idlib\n",
      "98345\n",
      "Raqqa\n",
      "164649\n",
      "Aleppo\n",
      "843003\n",
      "Deir-ez-Zor\n",
      "915279\n",
      "Hama\n",
      "1062659\n",
      "3151545\n"
     ]
    }
   ],
   "source": [
    "cities=['Homs', 'Idlib', 'Raqqa', 'Aleppo', 'Deir-ez-Zor', 'Hama']\n",
    "def match(string,input_list):\n",
    "    new_data_list=[i for i in input_list if  re.match(string, i[0]) != None]\n",
    "    return new_data_list\n",
    "city_sample=[]\n",
    "a=0\n",
    "for city in cities:\n",
    "    t=torch.load(f'/ssd/hk/Syria_samples/coords_split/{city}_train.pth')\n",
    "    v=torch.load(f'/ssd/hk/Syria_samples/coords_split/{city}_val.pth')\n",
    "    print(city)\n",
    "    for i in glob(f'/ssd/hk/Syria_samples/samples_v2/{city}*v2.pth'):\n",
    "        city_sample+=torch.load(i)['info']\n",
    "    \n",
    "    for i in glob(f'/ssd/hk/Syria_samples/samples_enhance_v2/{city}*v2.pth'):\n",
    "        city_sample+=torch.load(i)['info']\n",
    "    print(len(city_sample))\n",
    "    a+=len(city_sample)\n",
    "print(a)"
   ]
  },
  {
   "cell_type": "code",
   "execution_count": 23,
   "metadata": {},
   "outputs": [],
   "source": [
    "for city in cities:\n",
    "    t=torch.load(f'/ssd/hk/Syria_samples/coords_split/{city}_train.pth')\n",
    "    v=torch.load(f'/ssd/hk/Syria_samples/coords_split/{city}_val.pth')\n",
    "    for i in t:\n",
    "        if i in v:\n",
    "            print(i)\n",
    "    for i in v:\n",
    "        if i in t:\n",
    "            print(i)"
   ]
  },
  {
   "cell_type": "code",
   "execution_count": 29,
   "metadata": {},
   "outputs": [
    {
     "name": "stdout",
     "output_type": "stream",
     "text": [
      "28384\n",
      "705855\n",
      "734239\n"
     ]
    }
   ],
   "source": [
    "print(len([i[1] for i in train if i[1]=='p']))\n",
    "print(len([i[1] for i in train if i[1]=='n']))\n",
    "print(len(train))"
   ]
  },
  {
   "cell_type": "code",
   "execution_count": 30,
   "metadata": {},
   "outputs": [
    {
     "name": "stdout",
     "output_type": "stream",
     "text": [
      "27638\n",
      "689584\n",
      "717222\n"
     ]
    }
   ],
   "source": [
    "train=torch.load('/ssd/hk/Syria_samples/split_havedamaged_size120_all/train.pth')\n",
    "print(len([i[1] for i in train if i[1]=='p']))\n",
    "print(len([i[1] for i in train if i[1]=='n']))\n",
    "print(len(train))"
   ]
  },
  {
   "cell_type": "code",
   "execution_count": 34,
   "metadata": {},
   "outputs": [
    {
     "name": "stdout",
     "output_type": "stream",
     "text": [
      "13353\n",
      "332084\n",
      "345437\n"
     ]
    }
   ],
   "source": [
    "val=torch.load('/ssd/hk/Syria_samples/split_havedamaged_size120_all/val.pth')\n",
    "print(len([i[1] for i in val if i[1]=='p']))\n",
    "print(len([i[1] for i in val if i[1]=='n']))\n",
    "print(len(val))"
   ]
  },
  {
   "cell_type": "code",
   "execution_count": 35,
   "metadata": {},
   "outputs": [
    {
     "name": "stdout",
     "output_type": "stream",
     "text": [
      "12364\n",
      "302430\n",
      "314794\n"
     ]
    }
   ],
   "source": [
    "val=torch.load('/ssd/hk/Syria_samples/split_havedamaged_size120_all_v2/val.pth')\n",
    "print(len([i[1] for i in val if i[1]=='p']))\n",
    "print(len([i[1] for i in val if i[1]=='n']))\n",
    "print(len(val))"
   ]
  },
  {
   "cell_type": "code",
   "execution_count": 2,
   "metadata": {},
   "outputs": [
    {
     "name": "stdout",
     "output_type": "stream",
     "text": [
      "314794 734239\n"
     ]
    }
   ],
   "source": [
    "import torch\n",
    "val=torch.load('/ssd/hk/Syria_samples/split_havedamaged_size120_all_v2/val.pth')\n",
    "train=torch.load('/ssd/hk/Syria_samples/split_havedamaged_size120_all_v2/train.pth')\n",
    "print(len(val),len(train))"
   ]
  },
  {
   "cell_type": "code",
   "execution_count": 44,
   "metadata": {},
   "outputs": [
    {
     "data": {
      "text/plain": [
       "'/ssd/hk/Syria_samples/samples_enhance_v2/pre/Aleppo_enhance-C-D-3_114138.png'"
      ]
     },
     "execution_count": 44,
     "metadata": {},
     "output_type": "execute_result"
    }
   ],
   "source": [
    "val[1][0].replace('/samples_v2/','/samples_size6_AREA_v2/').replace('/samples_enhance_v2/','/samples_enhance_size6_AREA_v2/')"
   ]
  },
  {
   "cell_type": "code",
   "execution_count": 47,
   "metadata": {},
   "outputs": [
    {
     "name": "stdout",
     "output_type": "stream",
     "text": [
      "interpolate files\n"
     ]
    },
    {
     "name": "stderr",
     "output_type": "stream",
     "text": [
      "100%|██████████| 1049033/1049033 [14:34<00:00, 1200.20it/s]\n"
     ]
    },
    {
     "name": "stdout",
     "output_type": "stream",
     "text": [
      "interpolate post files\n"
     ]
    },
    {
     "name": "stderr",
     "output_type": "stream",
     "text": [
      "100%|██████████| 1049033/1049033 [14:53<00:00, 1174.00it/s]\n"
     ]
    }
   ],
   "source": [
    "\n",
    "    all_info=torch.load('/ssd/hk/Syria_samples/split_havedamaged_size120_all_v2/val.pth')+torch.load('/ssd/hk/Syria_samples/split_havedamaged_size120_all_v2/train.pth')\n",
    "    files=[i[0] for i in all_info]\n",
    "    files_post=[i.replace('pre','post') for i in files]\n",
    "    print('interpolate files')  \n",
    "    time.sleep(2)\n",
    "    for file in tqdm(files_post):\n",
    "        image_tensor=torch.tensor(np.array(Image.open(file)).transpose(2,0,1).astype(np.float64))\n",
    "        # print(image_tensor.shape)\n",
    "        image_upsample_tensor = torch.nn.functional.interpolate(image_tensor.unsqueeze_(0), size=[6, 6], mode='area')\n",
    "        img=np.array(image_upsample_tensor[0])\n",
    "        torch.save(img,file.replace('.png','.pth').replace('/samples_v2/','/samples_size6_AREA_v2/').replace('/samples_enhance_v2/','/samples_enhance_size6_AREA_v2/'))\n",
    "    print('interpolate post files')\n",
    "    time.sleep(2)\n",
    "    for file in tqdm(files):\n",
    "        image_tensor=torch.tensor(np.array(Image.open(file)).transpose(2,0,1).astype(np.float64))\n",
    "        # print(image_tensor.shape)\n",
    "        image_upsample_tensor = torch.nn.functional.interpolate(image_tensor.unsqueeze_(0), size=[6, 6], mode='area')\n",
    "        img=np.array(image_upsample_tensor[0])\n",
    "        torch.save(img,file.replace('.png','.pth').replace('/samples_v2/','/samples_size6_AREA_v2/').replace('/samples_enhance_v2/','/samples_enhance_size6_AREA_v2/'))\n"
   ]
  },
  {
   "cell_type": "code",
   "execution_count": null,
   "metadata": {},
   "outputs": [],
   "source": [
    "i"
   ]
  },
  {
   "cell_type": "code",
   "execution_count": 22,
   "metadata": {},
   "outputs": [
    {
     "name": "stderr",
     "output_type": "stream",
     "text": [
      "100%|██████████| 734239/734239 [00:03<00:00, 215226.23it/s]\n",
      "100%|██████████| 314794/314794 [00:01<00:00, 238510.60it/s]\n"
     ]
    }
   ],
   "source": [
    "t=[]\n",
    "v=[]\n",
    "for i in tqdm(train):\n",
    "    ii=[i[0].replace('.png','.pth').replace('/samples_v2/','/samples_size6_AREA_v2/').replace('/samples_enhance_v2/','/samples_enhance_size6_AREA_v2/'),i[1]]\n",
    "    if not os.path.exists(ii[0]):\n",
    "        print(ii)\n",
    "    t.append(ii)\n",
    "for i in tqdm(val):\n",
    "    ii=[i[0].replace('.png','.pth').replace('/samples_v2/','/samples_size6_AREA_v2/').replace('/samples_enhance_v2/','/samples_enhance_size6_AREA_v2/'),i[1]]\n",
    "    if not os.path.exists(ii[0]):\n",
    "        print(ii)\n",
    "    v.append(ii)"
   ]
  },
  {
   "cell_type": "code",
   "execution_count": 9,
   "metadata": {},
   "outputs": [],
   "source": [
    "torch.save(t,'/ssd/hk/Syria_samples/split_havedamaged_size6_all_v2/train.pth')\n",
    "torch.save(v,'/ssd/hk/Syria_samples/split_havedamaged_size6_all_v2/val.pth')"
   ]
  },
  {
   "cell_type": "code",
   "execution_count": 18,
   "metadata": {},
   "outputs": [
    {
     "data": {
      "text/plain": [
       "28384"
      ]
     },
     "execution_count": 18,
     "metadata": {},
     "output_type": "execute_result"
    }
   ],
   "source": [
    "len([i[1] for i in t if i[1]=='p'])"
   ]
  },
  {
   "cell_type": "code",
   "execution_count": 19,
   "metadata": {},
   "outputs": [
    {
     "data": {
      "text/plain": [
       "28384"
      ]
     },
     "execution_count": 19,
     "metadata": {},
     "output_type": "execute_result"
    }
   ],
   "source": [
    "len([i[1] for i in torch.load('/ssd/hk/Syria_samples/split_havedamaged_size6_all_v2/train.pth') if i[1]=='p'])"
   ]
  },
  {
   "cell_type": "code",
   "execution_count": 32,
   "metadata": {},
   "outputs": [],
   "source": [
    "from glob import glob\n",
    "import os\n",
    "from tqdm import tqdm\n",
    "import time\n",
    "cities=os.listdir('/ssd/hk/Syria_samples/split_havedamaged_size120_all_v3/cities/')"
   ]
  },
  {
   "cell_type": "code",
   "execution_count": 27,
   "metadata": {},
   "outputs": [
    {
     "data": {
      "text/plain": [
       "['Idlib', 'Raqqa', 'Homs', 'Aleppo', 'Hama', 'HamaandRaqqa', 'Deir-ez-Zor']"
      ]
     },
     "execution_count": 27,
     "metadata": {},
     "output_type": "execute_result"
    }
   ],
   "source": [
    "cities"
   ]
  },
  {
   "cell_type": "code",
   "execution_count": 12,
   "metadata": {},
   "outputs": [],
   "source": [
    "import torch\n",
    "val=torch.load('/ssd/hk/Syria_samples/split_havedamaged_size120_all_v3/cities/Hama/val.pth')+torch.load('/ssd/hk/Syria_samples/split_havedamaged_size120_all_v3/cities/Raqqa/val.pth')"
   ]
  },
  {
   "cell_type": "code",
   "execution_count": 13,
   "metadata": {},
   "outputs": [],
   "source": [
    "torch.save(val,'/ssd/hk/Syria_samples/split_havedamaged_size120_all_v3/cities/HamaandRaqqa/val.pth')"
   ]
  },
  {
   "cell_type": "code",
   "execution_count": 30,
   "metadata": {},
   "outputs": [],
   "source": [
    "def get_data6(data):\n",
    "    data6=[]\n",
    "    for s in tqdm(data):\n",
    "        s6=[]\n",
    "        p6=[]\n",
    "        for i in s[0]:\n",
    "            if i is not None:\n",
    "                i=i.replace('png','pth')\n",
    "                i=i.replace('/samples_v2/','/samples_size6_AREA_v2/')\n",
    "                i=i.replace('/samples_enhance_v2/','/samples_enhance_size6_AREA_v2/')\n",
    "                if not os.path.exists(i):\n",
    "                    print(i)\n",
    "                else:\n",
    "                    p6.append(i)\n",
    "            else:\n",
    "                p6.append(None)\n",
    "        s6.append(p6)\n",
    "        s6.append(s[1])\n",
    "        data6.append(s6)\n",
    "    return data6\n"
   ]
  },
  {
   "cell_type": "code",
   "execution_count": 33,
   "metadata": {},
   "outputs": [
    {
     "name": "stdout",
     "output_type": "stream",
     "text": [
      "/ssd/hk/Syria_samples/split_havedamaged_size120_all_v3/cities/Idlib/val.pth\n"
     ]
    },
    {
     "name": "stderr",
     "output_type": "stream",
     "text": [
      "100%|██████████| 768/768 [00:00<00:00, 23573.16it/s]\n"
     ]
    },
    {
     "name": "stdout",
     "output_type": "stream",
     "text": [
      "/ssd/hk/Syria_samples/split_havedamaged_size120_all_v3/cities/Idlib/train.pth\n"
     ]
    },
    {
     "name": "stderr",
     "output_type": "stream",
     "text": [
      "100%|██████████| 1790/1790 [00:00<00:00, 28723.71it/s]\n"
     ]
    },
    {
     "name": "stdout",
     "output_type": "stream",
     "text": [
      "/ssd/hk/Syria_samples/split_havedamaged_size120_all_v3/cities/Raqqa/val.pth\n"
     ]
    },
    {
     "name": "stderr",
     "output_type": "stream",
     "text": [
      "100%|██████████| 2193/2193 [00:00<00:00, 36663.67it/s]\n"
     ]
    },
    {
     "name": "stdout",
     "output_type": "stream",
     "text": [
      "/ssd/hk/Syria_samples/split_havedamaged_size120_all_v3/cities/Raqqa/train.pth\n"
     ]
    },
    {
     "name": "stderr",
     "output_type": "stream",
     "text": [
      "100%|██████████| 5115/5115 [00:00<00:00, 37328.66it/s]\n"
     ]
    },
    {
     "name": "stdout",
     "output_type": "stream",
     "text": [
      "/ssd/hk/Syria_samples/split_havedamaged_size120_all_v3/cities/Homs/val.pth\n"
     ]
    },
    {
     "name": "stderr",
     "output_type": "stream",
     "text": [
      "100%|██████████| 2896/2896 [00:00<00:00, 46955.58it/s]\n"
     ]
    },
    {
     "name": "stdout",
     "output_type": "stream",
     "text": [
      "/ssd/hk/Syria_samples/split_havedamaged_size120_all_v3/cities/Homs/train.pth\n"
     ]
    },
    {
     "name": "stderr",
     "output_type": "stream",
     "text": [
      "100%|██████████| 6756/6756 [00:00<00:00, 45067.19it/s]\n"
     ]
    },
    {
     "name": "stdout",
     "output_type": "stream",
     "text": [
      "/ssd/hk/Syria_samples/split_havedamaged_size120_all_v3/cities/Aleppo/val.pth\n"
     ]
    },
    {
     "name": "stderr",
     "output_type": "stream",
     "text": [
      "100%|██████████| 12586/12586 [00:00<00:00, 22302.78it/s]\n"
     ]
    },
    {
     "name": "stdout",
     "output_type": "stream",
     "text": [
      "/ssd/hk/Syria_samples/split_havedamaged_size120_all_v3/cities/Aleppo/train.pth\n"
     ]
    },
    {
     "name": "stderr",
     "output_type": "stream",
     "text": [
      "100%|██████████| 29365/29365 [00:01<00:00, 22493.62it/s]\n"
     ]
    },
    {
     "name": "stdout",
     "output_type": "stream",
     "text": [
      "/ssd/hk/Syria_samples/split_havedamaged_size120_all_v3/cities/Hama/val.pth\n"
     ]
    },
    {
     "name": "stderr",
     "output_type": "stream",
     "text": [
      "100%|██████████| 3569/3569 [00:00<00:00, 29436.69it/s]\n"
     ]
    },
    {
     "name": "stdout",
     "output_type": "stream",
     "text": [
      "/ssd/hk/Syria_samples/split_havedamaged_size120_all_v3/cities/Hama/train.pth\n"
     ]
    },
    {
     "name": "stderr",
     "output_type": "stream",
     "text": [
      "100%|██████████| 8325/8325 [00:00<00:00, 29417.26it/s]\n"
     ]
    },
    {
     "name": "stdout",
     "output_type": "stream",
     "text": [
      "/ssd/hk/Syria_samples/split_havedamaged_size120_all_v3/cities/HamaandRaqqa/val.pth\n"
     ]
    },
    {
     "name": "stderr",
     "output_type": "stream",
     "text": [
      "100%|██████████| 5762/5762 [00:00<00:00, 31668.48it/s]\n"
     ]
    },
    {
     "name": "stdout",
     "output_type": "stream",
     "text": [
      "/ssd/hk/Syria_samples/split_havedamaged_size120_all_v3/cities/HamaandRaqqa/train.pth\n"
     ]
    },
    {
     "name": "stderr",
     "output_type": "stream",
     "text": [
      "100%|██████████| 13440/13440 [00:00<00:00, 31391.75it/s]\n"
     ]
    },
    {
     "name": "stdout",
     "output_type": "stream",
     "text": [
      "/ssd/hk/Syria_samples/split_havedamaged_size120_all_v3/cities/Deir-ez-Zor/val.pth\n"
     ]
    },
    {
     "name": "stderr",
     "output_type": "stream",
     "text": [
      "100%|██████████| 1961/1961 [00:00<00:00, 30275.70it/s]\n"
     ]
    },
    {
     "name": "stdout",
     "output_type": "stream",
     "text": [
      "/ssd/hk/Syria_samples/split_havedamaged_size120_all_v3/cities/Deir-ez-Zor/train.pth\n"
     ]
    },
    {
     "name": "stderr",
     "output_type": "stream",
     "text": [
      "100%|██████████| 4571/4571 [00:00<00:00, 28588.80it/s]\n"
     ]
    }
   ],
   "source": [
    "\n",
    "fs=glob('/ssd/hk/Syria_samples/split_havedamaged_size120_all_v3/cities/*/*')\n",
    "for f in fs:\n",
    "    print(f)\n",
    "    time.sleep(2)\n",
    "    data=torch.load(f)\n",
    "    data6=get_data6(data)\n",
    "    torch.save(data6,f.replace('size120','size6'))"
   ]
  },
  {
   "cell_type": "code",
   "execution_count": 35,
   "metadata": {},
   "outputs": [],
   "source": [
    "import numpy as np"
   ]
  },
  {
   "cell_type": "code",
   "execution_count": 36,
   "metadata": {},
   "outputs": [
    {
     "name": "stdout",
     "output_type": "stream",
     "text": [
      "/ssd/hk/Syria_samples/split_havedamaged_size120_all_v3/cities/Idlib/val.pth\n",
      "15\n",
      "/ssd/hk/Syria_samples/split_havedamaged_size120_all_v3/cities/Idlib/train.pth\n",
      "15\n",
      "/ssd/hk/Syria_samples/split_havedamaged_size120_all_v3/cities/Raqqa/val.pth\n",
      "14\n",
      "/ssd/hk/Syria_samples/split_havedamaged_size120_all_v3/cities/Raqqa/train.pth\n",
      "14\n",
      "/ssd/hk/Syria_samples/split_havedamaged_size120_all_v3/cities/Homs/val.pth\n",
      "9\n",
      "/ssd/hk/Syria_samples/split_havedamaged_size120_all_v3/cities/Homs/train.pth\n",
      "9\n",
      "/ssd/hk/Syria_samples/split_havedamaged_size120_all_v3/cities/Aleppo/val.pth\n",
      "17\n",
      "/ssd/hk/Syria_samples/split_havedamaged_size120_all_v3/cities/Aleppo/train.pth\n",
      "17\n",
      "/ssd/hk/Syria_samples/split_havedamaged_size120_all_v3/cities/Hama/val.pth\n",
      "16\n",
      "/ssd/hk/Syria_samples/split_havedamaged_size120_all_v3/cities/Hama/train.pth\n",
      "16\n",
      "/ssd/hk/Syria_samples/split_havedamaged_size120_all_v3/cities/HamaandRaqqa/val.pth\n",
      "16\n",
      "/ssd/hk/Syria_samples/split_havedamaged_size120_all_v3/cities/HamaandRaqqa/train.pth\n",
      "16\n",
      "/ssd/hk/Syria_samples/split_havedamaged_size120_all_v3/cities/Deir-ez-Zor/val.pth\n",
      "15\n",
      "/ssd/hk/Syria_samples/split_havedamaged_size120_all_v3/cities/Deir-ez-Zor/train.pth\n",
      "15\n"
     ]
    }
   ],
   "source": [
    "fs=glob('/ssd/hk/Syria_samples/split_havedamaged_size120_all_v3/cities/*/*')\n",
    "for f in fs:\n",
    "    print(f)\n",
    "    time.sleep(2)\n",
    "    data=torch.load(f)\n",
    "    l=[]\n",
    "    for d in data:\n",
    "        l.append(len([i for i in d[0] if i is not None]))\n",
    "    print(np.array(l).max())"
   ]
  },
  {
   "cell_type": "code",
   "execution_count": 42,
   "metadata": {},
   "outputs": [
    {
     "name": "stdout",
     "output_type": "stream",
     "text": [
      "/ssd/hk/Syria_samples/split_havedamaged_size6_all_v3/cities/Idlib/val.pth\n",
      "/ssd/hk/Syria_samples/split_havedamaged_size6_all_v3/cities/Idlib/train.pth\n",
      "/ssd/hk/Syria_samples/split_havedamaged_size6_all_v3/cities/Raqqa/val.pth\n",
      "/ssd/hk/Syria_samples/split_havedamaged_size6_all_v3/cities/Raqqa/train.pth\n",
      "/ssd/hk/Syria_samples/split_havedamaged_size6_all_v3/cities/Homs/val.pth\n",
      "/ssd/hk/Syria_samples/split_havedamaged_size6_all_v3/cities/Homs/train.pth\n",
      "/ssd/hk/Syria_samples/split_havedamaged_size6_all_v3/cities/Aleppo/val.pth\n",
      "/ssd/hk/Syria_samples/split_havedamaged_size6_all_v3/cities/Aleppo/train.pth\n",
      "/ssd/hk/Syria_samples/split_havedamaged_size6_all_v3/cities/Hama/val.pth\n",
      "/ssd/hk/Syria_samples/split_havedamaged_size6_all_v3/cities/Hama/train.pth\n",
      "/ssd/hk/Syria_samples/split_havedamaged_size6_all_v3/cities/HamaandRaqqa/val.pth\n",
      "/ssd/hk/Syria_samples/split_havedamaged_size6_all_v3/cities/HamaandRaqqa/train.pth\n",
      "/ssd/hk/Syria_samples/split_havedamaged_size6_all_v3/cities/Deir-ez-Zor/val.pth\n",
      "/ssd/hk/Syria_samples/split_havedamaged_size6_all_v3/cities/Deir-ez-Zor/train.pth\n"
     ]
    }
   ],
   "source": [
    "fs=glob('/ssd/hk/Syria_samples/split_havedamaged_size6_all_v3/cities/*/*')\n",
    "for f in fs:\n",
    "    print(f)\n",
    "    time.sleep(2)\n",
    "    data=torch.load(f)\n",
    "    data2=[[i[0][:17],i[1][:17]] for i in data]\n",
    "    torch.save(data2,f)"
   ]
  },
  {
   "cell_type": "code",
   "execution_count": 47,
   "metadata": {},
   "outputs": [
    {
     "data": {
      "text/plain": [
       "['/ssd/hk/Syria_samples/samples_enhance_size6_AREA_v2/pre/Deir-ez-Zor_enhance-A-B-1_010049.pth',\n",
       " '/ssd/hk/Syria_samples/samples_enhance_size6_AREA_v2/post/Deir-ez-Zor_enhance-A-B-1_010049.pth',\n",
       " '/ssd/hk/Syria_samples/samples_enhance_size6_AREA_v2/post/Deir-ez-Zor_enhance-A-B-2_010049.pth',\n",
       " '/ssd/hk/Syria_samples/samples_enhance_size6_AREA_v2/post/Deir-ez-Zor_enhance-A-B-3_010049.pth',\n",
       " '/ssd/hk/Syria_samples/samples_size6_AREA_v2/post/Deir-ez-Zor_B_010049.pth',\n",
       " '/ssd/hk/Syria_samples/samples_size6_AREA_v2/post/Deir-ez-Zor_C_010049.pth',\n",
       " '/ssd/hk/Syria_samples/samples_enhance_size6_AREA_v2/post/Deir-ez-Zor_enhance-C-D-1_010049.pth',\n",
       " '/ssd/hk/Syria_samples/samples_enhance_size6_AREA_v2/post/Deir-ez-Zor_enhance-C-D-2_010049.pth',\n",
       " '/ssd/hk/Syria_samples/samples_enhance_size6_AREA_v2/post/Deir-ez-Zor_enhance-C-D-3_010049.pth',\n",
       " '/ssd/hk/Syria_samples/samples_size6_AREA_v2/post/Deir-ez-Zor_D_010049.pth',\n",
       " '/ssd/hk/Syria_samples/samples_enhance_size6_AREA_v2/post/Deir-ez-Zor_enhance-D-E-1_010049.pth',\n",
       " '/ssd/hk/Syria_samples/samples_size6_AREA_v2/post/Deir-ez-Zor_E_010049.pth',\n",
       " None,\n",
       " None,\n",
       " None,\n",
       " None,\n",
       " None]"
      ]
     },
     "execution_count": 47,
     "metadata": {},
     "output_type": "execute_result"
    }
   ],
   "source": [
    "sample_list[0][0]"
   ]
  },
  {
   "cell_type": "code",
   "execution_count": 45,
   "metadata": {},
   "outputs": [],
   "source": [
    "sample_list=data2"
   ]
  },
  {
   "cell_type": "code",
   "execution_count": 56,
   "metadata": {},
   "outputs": [],
   "source": [
    "\n",
    "path_pre=sample_list[0][0][0]\n",
    "path_post=sample_list[0][0][1:]\n",
    "img_pre=torch.load(path_pre)\n",
    "imgs=[np.concatenate([img_pre,torch.load(post)],axis=0) if post is not None else np.zeros((6,6,6)) for post in path_post]"
   ]
  },
  {
   "cell_type": "code",
   "execution_count": 59,
   "metadata": {},
   "outputs": [],
   "source": [
    "img=np.concatenate(imgs,axis=0)"
   ]
  },
  {
   "cell_type": "code",
   "execution_count": 60,
   "metadata": {},
   "outputs": [
    {
     "data": {
      "text/plain": [
       "(96, 6, 6)"
      ]
     },
     "execution_count": 60,
     "metadata": {},
     "output_type": "execute_result"
    }
   ],
   "source": [
    "img.shape"
   ]
  },
  {
   "cell_type": "code",
   "execution_count": 75,
   "metadata": {},
   "outputs": [
    {
     "data": {
      "text/plain": [
       "'/ssd/hk/Syria_samples/samples_enhance_size6_AREA_v2/post/Hama_enhance-A-B-3_089052.pth'"
      ]
     },
     "execution_count": 75,
     "metadata": {},
     "output_type": "execute_result"
    }
   ],
   "source": [
    "import torch\n",
    "a=torch.load('/ssd/hk/Syria_samples/split_havedamaged_size6_all_v3/cities/HamaandRaqqa/val.pth')\n",
    "a[0][0][3]"
   ]
  },
  {
   "cell_type": "code",
   "execution_count": 66,
   "metadata": {},
   "outputs": [],
   "source": [
    "b=torch.load('/ssd/hk/Syria_samples/split_havedamaged_size6_all_v3/cities/HamaandRaqqa/train.pth')"
   ]
  },
  {
   "cell_type": "code",
   "execution_count": 69,
   "metadata": {},
   "outputs": [
    {
     "data": {
      "text/plain": [
       "228480"
      ]
     },
     "execution_count": 69,
     "metadata": {},
     "output_type": "execute_result"
    }
   ],
   "source": [
    "z=[]\n",
    "for i in range(len(b)):\n",
    "    z+=b[i][0]\n",
    "len(z)"
   ]
  },
  {
   "cell_type": "code",
   "execution_count": 74,
   "metadata": {},
   "outputs": [],
   "source": [
    "for x in range(100):\n",
    "    xx=random.randint(0,len(a))\n",
    "    for y in range(100):\n",
    "        yy=random.randint(0,15)\n",
    "        if a[xx][0][yy] is not None:\n",
    "            if a[xx][0][yy] in z:\n",
    "                print(a[xx][0][yy])\n"
   ]
  },
  {
   "cell_type": "code",
   "execution_count": 72,
   "metadata": {},
   "outputs": [
    {
     "data": {
      "text/plain": [
       "25"
      ]
     },
     "execution_count": 72,
     "metadata": {},
     "output_type": "execute_result"
    }
   ],
   "source": [
    "import random\n",
    "random.randint(0,100)"
   ]
  },
  {
   "cell_type": "code",
   "execution_count": 98,
   "metadata": {},
   "outputs": [
    {
     "name": "stdout",
     "output_type": "stream",
     "text": [
      "16\n",
      "0\n",
      "16\n",
      "16\n"
     ]
    }
   ],
   "source": [
    "index=0\n",
    "path_pre=a[index][0][0]\n",
    "path_post_=a[index][0][1:]\n",
    "labels_=a[index][1][1:]\n",
    "\n",
    "path_post=[]\n",
    "labels=[]\n",
    "mask_num=random.randint(0,5)\n",
    "mask=random.sample(range(1, 14), mask_num)\n",
    "print(len(labels_))\n",
    "print(len(mask))\n",
    "for i in range(len(path_post_)):\n",
    "    if i not in mask:\n",
    "        path_post.append(path_post_[i])\n",
    "        labels.append(labels_[i])\n",
    "print(len(labels))\n",
    "path_post+=[None]*len(mask)\n",
    "labels+=[None]*len(mask)\n",
    "print(len(labels))\n",
    "# print(path_post)"
   ]
  },
  {
   "cell_type": "code",
   "execution_count": 3,
   "metadata": {},
   "outputs": [],
   "source": [
    "import torch \n",
    "import random\n",
    "t=torch.load('/ssd/hk/Syria_samples/split_havedamaged_size6_all_v3/cities/HamaandRaqqa/train.pth')\n",
    "v=torch.load('/ssd/hk/Syria_samples/split_havedamaged_size6_all_v3/cities/HamaandRaqqa/val.pth')\n",
    "all=t+v\n",
    "random.shuffle(all)\n",
    "split=int(len(all)*0.7)\n",
    "tt=all[:split]\n",
    "vv=all[split:]\n",
    "torch.save(tt,'/ssd/hk/Syria_samples/split_havedamaged_size6_all_v3/cities/HamaandRaqqa/train.pth')\n",
    "torch.save(vv,'/ssd/hk/Syria_samples/split_havedamaged_size6_all_v3/cities/HamaandRaqqa/val.pth')"
   ]
  },
  {
   "cell_type": "code",
   "execution_count": 2,
   "metadata": {},
   "outputs": [
    {
     "ename": "NameError",
     "evalue": "name 'vv' is not defined",
     "output_type": "error",
     "traceback": [
      "\u001b[0;31m---------------------------------------------------------------------------\u001b[0m",
      "\u001b[0;31mNameError\u001b[0m                                 Traceback (most recent call last)",
      "\u001b[0;32m/tmp/ipykernel_23816/3115396784.py\u001b[0m in \u001b[0;36m<module>\u001b[0;34m\u001b[0m\n\u001b[0;32m----> 1\u001b[0;31m \u001b[0mvv\u001b[0m\u001b[0;34m\u001b[0m\u001b[0;34m\u001b[0m\u001b[0m\n\u001b[0m",
      "\u001b[0;31mNameError\u001b[0m: name 'vv' is not defined"
     ]
    }
   ],
   "source": [
    "vv"
   ]
  },
  {
   "cell_type": "code",
   "execution_count": 14,
   "metadata": {},
   "outputs": [],
   "source": [
    "import numpy as np\n",
    "for i in range(100000):\n",
    "    k=random.randint(1,16)\n",
    "    labels_=[1]*k+[0]*(16-k)\n",
    "    # print(np.array(labels_).sum())\n",
    "    l=len([i for i in labels_ if i!=0])\n",
    "    # if self.is_train:\n",
    "    # path_post=[]\n",
    "    labels=[]\n",
    "    mask_num=random.randint(0,l-1)\n",
    "    mask=random.sample(range(0, l), mask_num)\n",
    "    # print(len(labels_))\n",
    "    # print(len(mask))\n",
    "    for i in range(len(labels_)):\n",
    "        if i not in mask:\n",
    "            # path_post.append(path_post_[i])\n",
    "            labels.append(labels_[i])\n",
    "    # print(len(labels))\n",
    "    # path_post+=[None]*len(mask)\n",
    "    labels+=[0]*len(mask)\n",
    "    # print(np.array(labels).sum())\n",
    "    if np.array(labels).sum()==0:\n",
    "        print('aaa')\n",
    "        break"
   ]
  },
  {
   "cell_type": "code",
   "execution_count": 9,
   "metadata": {},
   "outputs": [
    {
     "data": {
      "text/plain": [
       "16"
      ]
     },
     "execution_count": 9,
     "metadata": {},
     "output_type": "execute_result"
    }
   ],
   "source": [
    "import torch\n",
    "torch.load('/ssd/hk/Syria_samples/split_havedamaged_size6_all_v3/cities/Alppo/val.pth')"
   ]
  },
  {
   "cell_type": "code",
   "execution_count": 18,
   "metadata": {},
   "outputs": [
    {
     "data": {
      "text/plain": [
       "['Idlib', 'Raqqa', 'Homs', 'Aleppo', 'Hama', 'HamaandRaqqa', 'Deir-ez-Zor']"
      ]
     },
     "execution_count": 18,
     "metadata": {},
     "output_type": "execute_result"
    }
   ],
   "source": [
    "import os \n",
    "os.listdir('/ssd/hk/Syria_samples/split_havedamaged_size6_all_v3/cities/')"
   ]
  },
  {
   "cell_type": "code",
   "execution_count": 21,
   "metadata": {},
   "outputs": [
    {
     "name": "stdout",
     "output_type": "stream",
     "text": [
      "55922 23973 79895\n"
     ]
    }
   ],
   "source": [
    "cities=['Idlib', 'Raqqa', 'Homs', 'Aleppo', 'Hama', 'Deir-ez-Zor']\n",
    "v=[]\n",
    "t=[]\n",
    "for city in cities:\n",
    "    v+=torch.load(f'/ssd/hk/Syria_samples/split_havedamaged_size6_all_v3/cities/{city}/val.pth')\n",
    "    t+=torch.load(f'/ssd/hk/Syria_samples/split_havedamaged_size6_all_v3/cities/{city}/train.pth')\n",
    "all=v+t\n",
    "random.shuffle(v)\n",
    "random.shuffle(t)\n",
    "random.shuffle(all)\n",
    "torch.save(all,f'/ssd/hk/Syria_samples/split_havedamaged_size6_all_v3/samples.pth')\n",
    "torch.save(t,f'/ssd/hk/Syria_samples/split_havedamaged_size6_all_v3/train.pth')\n",
    "torch.save(v,f'/ssd/hk/Syria_samples/split_havedamaged_size6_all_v3/val.pth')\n",
    "print(len(t),len(v),len(all))"
   ]
  },
  {
   "cell_type": "code",
   "execution_count": 19,
   "metadata": {},
   "outputs": [],
   "source": [
    "import random\n",
    "for city in cities:\n",
    "    v=torch.load(f'/ssd/hk/Syria_samples/split_havedamaged_size6_all_v3/cities/{city}/val.pth')\n",
    "    t=torch.load(f'/ssd/hk/Syria_samples/split_havedamaged_size6_all_v3/cities/{city}/train.pth')\n",
    "    all=v+t\n",
    "    random.shuffle(all)\n",
    "    torch.save(all,f'/ssd/hk/Syria_samples/split_havedamaged_size6_all_v3/cities/{city}/samples.pth')"
   ]
  },
  {
   "cell_type": "code",
   "execution_count": 20,
   "metadata": {},
   "outputs": [],
   "source": [
    "import random\n",
    "for city in cities:\n",
    "    v=torch.load(f'/ssd/hk/Syria_samples/split_havedamaged_size6_all_v2/cities/{city}/val.pth')\n",
    "    t=torch.load(f'/ssd/hk/Syria_samples/split_havedamaged_size6_all_v2/cities/{city}/train.pth')\n",
    "    all=v+t\n",
    "    random.shuffle(all)\n",
    "    torch.save(all,f'/ssd/hk/Syria_samples/split_havedamaged_size6_all_v2/cities/{city}/samples.pth')"
   ]
  },
  {
   "cell_type": "code",
   "execution_count": 12,
   "metadata": {},
   "outputs": [],
   "source": [
    "from glob import glob\n",
    "import torch\n",
    "from tqdm import tqdm\n",
    "import numpy as np\n",
    "from PIL import Image\n",
    "import shutil"
   ]
  },
  {
   "cell_type": "code",
   "execution_count": 23,
   "metadata": {},
   "outputs": [],
   "source": [
    "files=glob('/ssd/hk/Syria_samples/samples_addpre/samples/*')\n"
   ]
  },
  {
   "cell_type": "code",
   "execution_count": 24,
   "metadata": {},
   "outputs": [
    {
     "data": {
      "text/plain": [
       "'/ssd/hk/Syria_samples/samples_addpre/samples/Homs_A-4_107073.png'"
      ]
     },
     "execution_count": 24,
     "metadata": {},
     "output_type": "execute_result"
    }
   ],
   "source": [
    "files[0]"
   ]
  },
  {
   "cell_type": "code",
   "execution_count": 25,
   "metadata": {},
   "outputs": [
    {
     "data": {
      "text/plain": [
       "'/ssd/hk/Syria_samples/samples_addpre_size6_AREA/sampels/Homs_A-4_107073.pth'"
      ]
     },
     "execution_count": 25,
     "metadata": {},
     "output_type": "execute_result"
    }
   ],
   "source": [
    "files[0].replace('/samples_addpre/samples/','/samples_addpre_size6_AREA/samples/').replace('.png','.pth')"
   ]
  },
  {
   "cell_type": "code",
   "execution_count": 27,
   "metadata": {},
   "outputs": [
    {
     "name": "stderr",
     "output_type": "stream",
     "text": [
      "100%|██████████| 28956/28956 [00:25<00:00, 1140.15it/s]\n"
     ]
    }
   ],
   "source": [
    "for file in tqdm(files):\n",
    "    image_tensor=torch.tensor(np.array(Image.open(file)).transpose(2,0,1).astype(np.float64))\n",
    "    # print(image_tensor.shape)\n",
    "    image_upsample_tensor = torch.nn.functional.interpolate(image_tensor.unsqueeze_(0), size=[6, 6], mode='area')\n",
    "    img=np.array(image_upsample_tensor[0])\n",
    "    torch.save(img,file.replace('/samples_addpre/samples/','/samples_addpre_size6_AREA/samples/').replace('.png','.pth'))"
   ]
  },
  {
   "cell_type": "code",
   "execution_count": null,
   "metadata": {},
   "outputs": [],
   "source": []
  }
 ],
 "metadata": {
  "kernelspec": {
   "display_name": "Python 3.7.7 ('pythonhzy')",
   "language": "python",
   "name": "python3"
  },
  "language_info": {
   "codemirror_mode": {
    "name": "ipython",
    "version": 3
   },
   "file_extension": ".py",
   "mimetype": "text/x-python",
   "name": "python",
   "nbconvert_exporter": "python",
   "pygments_lexer": "ipython3",
   "version": "3.7.7"
  },
  "orig_nbformat": 4,
  "vscode": {
   "interpreter": {
    "hash": "4d718dcce6334846a10299329eb191d6bfc6359cfbd5881c6d9cc2e2d9a36aa3"
   }
  }
 },
 "nbformat": 4,
 "nbformat_minor": 2
}
