{
 "cells": [
  {
   "cell_type": "code",
   "execution_count": 8,
   "metadata": {},
   "outputs": [],
   "source": [
    "import gdal\n",
    "import numpy as np\n",
    "import pandas as pd\n",
    "import os\n",
    "import geopandas as gpd\n",
    "import matplotlib.pyplot as plt\n",
    "import torch\n",
    "from glob import glob\n",
    "import shapely\n",
    "import random\n",
    "from tqdm import tqdm\n",
    "from collections import Counter"
   ]
  },
  {
   "cell_type": "markdown",
   "metadata": {},
   "source": [
    "# 转换图像为Patch"
   ]
  },
  {
   "cell_type": "code",
   "execution_count": 4,
   "metadata": {},
   "outputs": [
    {
     "name": "stdout",
     "output_type": "stream",
     "text": [
      "6\n",
      "(4, 698, 2254)\n",
      "(4, 117, 376, 6, 6)\n",
      "(37.493209592117495, 0.0005389891704717128, 0.0, 47.146325972209056, 0.0, -0.0005389891704717128)\n",
      "6\n",
      "(4, 698, 2254)\n",
      "(4, 117, 376, 6, 6)\n",
      "(37.493209592117495, 0.0005389891704717128, 0.0, 47.146325972209056, 0.0, -0.0005389891704717128)\n",
      "6\n",
      "(4, 698, 2254)\n",
      "(4, 117, 376, 6, 6)\n",
      "(37.493209592117495, 0.0005389891704717128, 0.0, 47.146325972209056, 0.0, -0.0005389891704717128)\n",
      "6\n",
      "(4, 698, 2254)\n",
      "(4, 117, 376, 6, 6)\n",
      "(37.493209592117495, 0.0005389891704717128, 0.0, 47.146325972209056, 0.0, -0.0005389891704717128)\n",
      "3\n",
      "(6, 349, 1127)\n",
      "(6, 117, 376, 3, 3)\n",
      "(37.49325450788171, 0.0005389891704717128, 0.0, 47.14637088797326, 0.0, -0.0005389891704717128)\n",
      "3\n",
      "(6, 349, 1127)\n",
      "(6, 117, 376, 3, 3)\n",
      "(37.49325450788171, 0.0005389891704717128, 0.0, 47.14637088797326, 0.0, -0.0005389891704717128)\n",
      "3\n",
      "(6, 349, 1127)\n",
      "(6, 117, 376, 3, 3)\n",
      "(37.49325450788171, 0.0005389891704717128, 0.0, 47.14637088797326, 0.0, -0.0005389891704717128)\n",
      "3\n",
      "(6, 349, 1127)\n",
      "(6, 117, 376, 3, 3)\n",
      "(37.49325450788171, 0.0005389891704717128, 0.0, 47.14637088797326, 0.0, -0.0005389891704717128)\n"
     ]
    }
   ],
   "source": [
    "def read_img(path):\n",
    "    ds=gdal.Open(path)\n",
    "    trf=ds.GetGeoTransform()\n",
    "    img=ds.ReadAsArray()\n",
    "    return {'trf':trf,'img':img}\n",
    "def get_patch(data,size):\n",
    "    img=data['img']\n",
    "    trf=data['trf']\n",
    "    shape=img.shape\n",
    "    img=np.pad(img,((0,0),(0,size-shape[1]%size),(0,size-shape[2]%size)),'constant',constant_values=np.nan)\n",
    "    shape=img.shape\n",
    "    img=img.reshape([shape[0],int(shape[1]/size),-1,shape[2]])\n",
    "    shape=img.shape\n",
    "    img=img.reshape([shape[0],shape[1],shape[2],int(shape[3]/size),-1])\n",
    "    return {'img':img.transpose((0,1,3,2,4)),'trf':(trf[0]-trf[1]/2,trf[1]*size,trf[2],trf[3]-trf[5]/2,trf[4],trf[5]*size)}\n",
    "size=6\n",
    "keys=['A','B','C','D']\n",
    "dirs=['Livoberezhyny_band2348_v2','Livoberezhyny_bandother_v2']\n",
    "root='/home/hk/python_script/Ukraine/data/img/Livoberezhyny/'\n",
    "for dir in dirs:\n",
    "    for key in keys:\n",
    "        if dir.split('_')[1]=='bandother':\n",
    "            size_=int(size/2)\n",
    "        else:\n",
    "            size_=int(size)\n",
    "        path=glob(os.path.join(root+dir,key+'*'))[0]\n",
    "        data=read_img(path)\n",
    "        print(size_)\n",
    "        print(data['img'].shape)\n",
    "        data=get_patch(data,size_)\n",
    "        print(data['img'].shape)\n",
    "        print(data['trf'])\n",
    "        data['readme']='trf分别为patch左上角坐标（不是左上角像元的中心坐标）和patch的长度'\n",
    "        torch.save(data,path.replace('.tif',f'_size_{size_}.pth.tar'))\n"
   ]
  },
  {
   "cell_type": "markdown",
   "metadata": {},
   "source": [
    "# 制作patch的label"
   ]
  },
  {
   "cell_type": "code",
   "execution_count": 12,
   "metadata": {},
   "outputs": [
    {
     "name": "stdout",
     "output_type": "stream",
     "text": [
      "5660\n",
      "destroyed: 61\n",
      "Severe Damage: 300\n",
      "Moderate Damage: 311\n",
      "May Damage: 68\n",
      "三月得分 {0.0: 43442, 3.0: 203, 6.0: 50, 1.0: 229, 4.0: 14, 9.0: 12, 5.0: 2, 2.0: 15, 7.0: 11, 8.0: 3, 13.0: 1, 10.0: 2, 16.0: 1, 14.0: 1, 12.0: 5, 11.0: 1}\n",
      "三月损毁类型 Counter({0.0: 43382, 1.0: 459, 2.0: 87, -1.0: 64})\n",
      "5660\n",
      "destroyed: 315\n",
      "Severe Damage: 2132\n",
      "Moderate Damage: 3002\n",
      "May Damage: 194\n",
      "五月得分 {0.0: 40560, 3.0: 768, 6.0: 222, 1.0: 1501, 2.0: 223, 12.0: 57, 19.0: 5, 13.0: 18, 18.0: 11, 7.0: 102, 4.0: 223, 15.0: 20, 9.0: 78, 5.0: 79, 28.0: 2, 14.0: 8, 11.0: 10, 10.0: 44, 8.0: 35, 16.0: 13, 27.0: 2, 21.0: 1, 24.0: 2, 17.0: 5, 33.0: 1, 22.0: 2}\n",
      "五月损毁类型 Counter({0.0: 40429, 1.0: 2755, 2.0: 628, -1.0: 180})\n"
     ]
    }
   ],
   "source": [
    "def get_dam_mask(point,patch,weight):\n",
    "    trf=patch['trf']\n",
    "    p_coor=[shapely.geometry.mapping(list(point)[i])['coordinates'] for i in range(len(point))]\n",
    "    mask=np.zeros((patch['img'].shape[1],patch['img'].shape[2]))\n",
    "    p_x_y=[[int((i[0]-trf[0])/trf[1]),int((i[1]-trf[3])/trf[5])] for i in p_coor]\n",
    "    for i in p_x_y:\n",
    "        mask[i[1],i[0]]+=weight\n",
    "    return mask\n",
    "def get_masks(point_file=glob('../data/UNOSAT/LivoberezhnyiandZhovtnevyi_0507-08-12/*DA*.shp')[0],\n",
    "            label_code='B-C',\n",
    "            patch=torch.load('/home/hk/python_script/Ukraine/data/img/Livoberezhyny/Livoberezhyny_band2348_v2/A-2021-6-1-2021-10-1_size_6.pth.tar')):\n",
    "    damage_L_gpd=gpd.read_file(point_file)\n",
    "    print(len(damage_L_gpd))\n",
    "    if label_code=='B-C':\n",
    "        key='d_Main_Dam'\n",
    "        date='三月'\n",
    "    elif label_code=='C-D':\n",
    "        key='d_Main_D_1'\n",
    "        date='五月'\n",
    "    point_num={}\n",
    "    point=damage_L_gpd[damage_L_gpd[key]=='Destroyed']['geometry']\n",
    "    point_num['destroyed']=len(point)\n",
    "    print('destroyed:',len(point))\n",
    "    mask_destroyed=get_dam_mask(point,patch,1)\n",
    "    point=damage_L_gpd[damage_L_gpd[key]=='Severe Damage']['geometry']\n",
    "    point_num['severe']=len(point)\n",
    "    print('Severe Damage:',len(point))\n",
    "    mask_severe=get_dam_mask(point,patch,1)\n",
    "    point=damage_L_gpd[damage_L_gpd[key]=='Moderate Damage']['geometry']\n",
    "    point_num['moderate']=len(point)\n",
    "    print('Moderate Damage:',len(point))\n",
    "    mask_moderate=get_dam_mask(point,patch,1)\n",
    "    point=damage_L_gpd[damage_L_gpd[key]=='Possible Damage']['geometry']\n",
    "    point_num['possible']=len(point)\n",
    "    print('May Damage:',len(point))\n",
    "    mask_may=get_dam_mask(point,patch,1)\n",
    "    mask=mask_destroyed*6+mask_severe*3+mask_moderate\n",
    "    print(f'{date}得分',dict(Counter(list(mask.flatten()))))\n",
    "    mask_type=np.zeros(mask.shape)\n",
    "    mask_type[mask>0]=1\n",
    "    mask_type[mask>=6]=2\n",
    "    mask_type[mask_may==1]=-1\n",
    "    print(f'{date}损毁类型',Counter(list(mask_type.flatten())))\n",
    "    all_mask=[mask_destroyed,mask_severe,mask_moderate,mask_may,mask,mask_type]\n",
    "    info='6层分别为完全 严重 中等 可能损毁 以及损毁得分和类型\\n得分:完全算6分 严重算3分 中等算1分 其他0分\\n类型0:得分0 类型1:得分1-5 类型2:得分大于6 类型-1:可能损毁但视觉不明显'\n",
    "    result={'info':info,'point_num':point_num,'mask':all_mask}\n",
    "    return result\n",
    "all_mask_BC=get_masks()\n",
    "all_mask_CD=get_masks(label_code='C-D')\n",
    "torch.save(all_mask_BC,os.path.join('/home/hk/python_script/Ukraine/data/sample/sample_sentinel2/','mask_BC.pth.tar'))\n",
    "torch.save(all_mask_CD,os.path.join('/home/hk/python_script/Ukraine/data/sample/sample_sentinel2/','mask_CD.pth.tar'))"
   ]
  },
  {
   "cell_type": "markdown",
   "metadata": {},
   "source": [
    "# 制作样本"
   ]
  },
  {
   "cell_type": "code",
   "execution_count": 99,
   "metadata": {},
   "outputs": [],
   "source": [
    "label_code=['BC','CD']\n",
    "pre_code=['A']\n",
    "post_code=['B','C','D']\n",
    "img_dir=['/home/hk/python_script/Ukraine/data/img/Livoberezhyny/Livoberezhyny_band2348_v2/',\n",
    "        '/home/hk/python_script/Ukraine/data/img/Livoberezhyny/Livoberezhyny_bandother_v2/']\n",
    "label_dir='/home/hk/python_script/Ukraine/data/sample/sample_sentinel2/'\n",
    "label={}\n",
    "for i in label_code:\n",
    "        label[i]=torch.load(os.path.join(label_dir,f'mask_{i}.pth.tar'))\n",
    "pre_path={}\n",
    "for i in pre_code:\n",
    "        pre_path[i]=[glob(os.path.join(j,i+'*.pth.tar'))[0] for j in img_dir]\n",
    "post_path={}\n",
    "for i in post_code:\n",
    "        post_path[i]=[glob(os.path.join(j,i+'*.pth.tar'))[0] for j in img_dir]\n",
    "def mask_samples(pre_path,post_path,label):\n",
    "        sample_p1=[]\n",
    "        sample_p2=[]\n",
    "        sample_n=[]\n",
    "        for post_img_code in post_path.keys():\n",
    "                post_img10=torch.load(post_path[post_img_code][0])['img']\n",
    "                post_img20=torch.load(post_path[post_img_code][1])['img']\n",
    "                pre_img10=torch.load(pre_path['A'][0])['img']\n",
    "                pre_img20=torch.load(pre_path['A'][1])['img']\n",
    "                before_label_code=None\n",
    "                after_label_code=None\n",
    "                for i in label.keys():\n",
    "                        if i.find(post_img_code)==1:\n",
    "                                before_label_code=i\n",
    "                        if i.find(post_img_code)==0:\n",
    "                                after_label_code=i\n",
    "\n",
    "                \n",
    "                #前后都有label\n",
    "                if before_label_code is not None and after_label_code is not None:\n",
    "                        print(before_label_code,post_img_code,after_label_code) \n",
    "\n",
    "                        before_label=label[before_label_code]['mask'][-1].copy()\n",
    "                        after_label=label[after_label_code]['mask'][-1].copy()\n",
    "                        mask=np.zeros((after_label.shape[0],after_label.shape[1]))\n",
    "                        mask[before_label==after_label]=1\n",
    "                        mask[before_label==-1]=0\n",
    "                        mask[after_label==-1]=0\n",
    "                        after_label[mask==0]=np.nan\n",
    "                        sample_label=after_label\n",
    "                #前有label 后没有\n",
    "                elif before_label_code is not None and after_label_code is None:\n",
    "                        print(before_label_code,post_img_code) \n",
    "\n",
    "                        before_label=label[before_label_code]['mask'][-1].copy()\n",
    "                        # print(Counter(list(before_label.flatten())))\n",
    "                        before_label[before_label<1.5]=np.nan\n",
    "                        sample_label=before_label\n",
    "                #后有label 前没有\n",
    "                elif after_label_code is not None and before_label_code is None:\n",
    "                        print(post_img_code,after_label_code) \n",
    "\n",
    "                        after_label=label[after_label_code]['mask'][-1].copy()\n",
    "                        after_label[after_label>0]=-1\n",
    "                        after_label[after_label<0]=np.nan\n",
    "                        sample_label=after_label\n",
    "                else:\n",
    "                        raise()\n",
    "                sample_label[np.isnan(post_img10[0,:,:,0,0])]=np.nan\n",
    "                sample_label[np.isnan(post_img20[0,:,:,0,0])]=np.nan\n",
    "                sample_label[np.isnan(sample_label)]=100\n",
    "                sample_label.astype(np.int)\n",
    "                # print(Counter(list(sample_label.flatten())))\n",
    "\n",
    "                all_patch=[pre_img10,pre_img20,post_img10,post_img20]\n",
    "                shape=post_img10.shape\n",
    "\n",
    "                for x in range(shape[1]):\n",
    "                        for y in range(shape[2]):\n",
    "\n",
    "                                if np.isnan(all_patch[0][:,x,y]).any() and np.isnan(all_patch[1][:,x,y]).any() and np.isnan(all_patch[2][:,x,y]).any() and np.isnan(all_patch[3][:,x,y]).any():\n",
    "                                        continue\n",
    "                                else:\n",
    "                                        if sample_label[x,y]==1:\n",
    "\n",
    "                                                sample_p1.append([[x,y],\n",
    "                                                                np.concatenate([all_patch[0][:,x,y],all_patch[2][:,x,y]],axis=0),\n",
    "                                                                np.concatenate([all_patch[1][:,x,y],all_patch[3][:,x,y]],axis=0)])\n",
    "                                        elif sample_label[x,y]==2:\n",
    "\n",
    "                                                sample_p2.append([[x,y],\n",
    "                                                                np.concatenate([all_patch[0][:,x,y],all_patch[2][:,x,y]],axis=0),\n",
    "                                                                np.concatenate([all_patch[1][:,x,y],all_patch[3][:,x,y]],axis=0)])\n",
    "                                        elif sample_label[x,y]==0:\n",
    "\n",
    "                                                sample_n.append([[x,y],\n",
    "                                                                np.concatenate([all_patch[0][:,x,y],all_patch[2][:,x,y]],axis=0),\n",
    "                                                                np.concatenate([all_patch[1][:,x,y],all_patch[3][:,x,y]],axis=0)])\n",
    "                \n",
    "        return [sample_n,sample_p1,sample_p2]"
   ]
  },
  {
   "cell_type": "code",
   "execution_count": 108,
   "metadata": {},
   "outputs": [
    {
     "name": "stdout",
     "output_type": "stream",
     "text": [
      "B BC\n",
      "BC C CD\n",
      "CD D\n",
      "26210\n",
      "413\n",
      "701\n"
     ]
    }
   ],
   "source": [
    "sample=mask_samples(pre_path,post_path,label)\n",
    "print(len(sample[0]))\n",
    "print(len(sample[1]))\n",
    "print(len(sample[2]))\n",
    "torch.save({'info':'分别为无损毁,评分1-5损毁,评分>6损毁','sample':sample},f'../data/sample/sample_sentinel2/Livoberezhyny_class_sample_size6_Destroyed.pth.tar')"
   ]
  },
  {
   "cell_type": "markdown",
   "metadata": {},
   "source": [
    "* mask=0未破坏\n",
    "* mask<6中度破坏\n",
    "* mask>=6严重破坏"
   ]
  },
  {
   "cell_type": "markdown",
   "metadata": {},
   "source": [
    "# 分割train和val集"
   ]
  },
  {
   "cell_type": "code",
   "execution_count": 115,
   "metadata": {},
   "outputs": [
    {
     "name": "stderr",
     "output_type": "stream",
     "text": [
      "100%|██████████| 413/413 [00:00<00:00, 5368.05it/s]\n",
      "100%|██████████| 701/701 [00:00<00:00, 3146.37it/s]\n",
      "100%|██████████| 26210/26210 [00:05<00:00, 4991.25it/s]\n"
     ]
    }
   ],
   "source": [
    "size=6\n",
    "perc=100\n",
    "dir=f'../data/sample/sample_sentinel2/Livoberezhyny_size{size}_Destroyed_class'\n",
    "\n",
    "sample_n,sample_p1,sample_p2=torch.load(f'../data/sample/sample_sentinel2/Livoberezhyny_class_sample_size{size}_Destroyed.pth.tar')['sample']\n",
    "\n",
    "print(len(sample_n),len(sample_p1),len(sample_p2))\n",
    "if not os.path.exists(dir+'/train'):\n",
    "    os.makedirs(dir+'/train')\n",
    "if not os.path.exists(dir+'/val'):\n",
    "    os.makedirs(dir+'/val')\n",
    "p1_index=list(range(len(sample_p1)))\n",
    "p2_index=list(range(len(sample_p2)))\n",
    "n_index=list(range(len(sample_n)))\n",
    "random.shuffle(p1_index)\n",
    "random.shuffle(p2_index)\n",
    "random.shuffle(n_index)\n",
    "p1_n=int(len(sample_p1)*2/3)\n",
    "p2_n=int(len(sample_p2)*2/3)\n",
    "n_n=int(len(sample_n)*2/3)\n",
    "for i in tqdm(range(len(sample_p1))):\n",
    "    if i<p1_n:\n",
    "        torch.save(sample_p1[p1_index[i]],os.path.join(dir+'/train','P1_'+str(p1_index[i])+'.pth.tar'))\n",
    "    else:\n",
    "        torch.save(sample_p1[p1_index[i]],os.path.join(dir+'/val','P1_'+str(p1_index[i])+'.pth.tar'))\n",
    "for i in tqdm(range(len(sample_p2))):\n",
    "    if i<p2_n:\n",
    "        torch.save(sample_p2[p2_index[i]],os.path.join(dir+'/train','P2_'+str(p2_index[i])+'.pth.tar'))\n",
    "    else:\n",
    "        torch.save(sample_p2[p2_index[i]],os.path.join(dir+'/val','P2_'+str(p2_index[i])+'.pth.tar'))\n",
    "for i in tqdm(range(len(sample_n))):\n",
    "    if i<n_n:\n",
    "        if random.choice(range(1, 101))<=perc:\n",
    "            torch.save(sample_n[n_index[i]],os.path.join(dir+'/train','N_'+str(n_index[i])+'.pth.tar'))\n",
    "    else:\n",
    "        if random.choice(range(1, 101))<=perc:\n",
    "            torch.save(sample_n[n_index[i]],os.path.join(dir+'/val','N_'+str(n_index[i])+'.pth.tar'))"
   ]
  },
  {
   "cell_type": "code",
   "execution_count": 116,
   "metadata": {},
   "outputs": [
    {
     "data": {
      "text/plain": [
       "17473"
      ]
     },
     "execution_count": 116,
     "metadata": {},
     "output_type": "execute_result"
    }
   ],
   "source": [
    "len(glob('../data/sample/sample_sentinel2/Livoberezhyny_size6_Destroyed_class/train/N*'))"
   ]
  },
  {
   "cell_type": "markdown",
   "metadata": {},
   "source": [
    "# 删除有nan的数据"
   ]
  },
  {
   "cell_type": "code",
   "execution_count": 159,
   "metadata": {},
   "outputs": [
    {
     "name": "stderr",
     "output_type": "stream",
     "text": [
      "100%|██████████| 27324/27324 [00:03<00:00, 7240.28it/s]"
     ]
    },
    {
     "name": "stdout",
     "output_type": "stream",
     "text": [
      "230\n"
     ]
    },
    {
     "name": "stderr",
     "output_type": "stream",
     "text": [
      "\n"
     ]
    }
   ],
   "source": [
    "nan_path=[]\n",
    "for i in tqdm(glob('../data/sample/sample_sentinel2/Livoberezhyny_size6_Destroyed_class/*/*')):\n",
    "    data=torch.load(i)\n",
    "    if np.isnan(data[1]).any() or np.isnan(data[2]).any():\n",
    "        nan_path.append(i)\n",
    "print(len(nan_path))"
   ]
  }
 ],
 "metadata": {
  "kernelspec": {
   "display_name": "Python 3.7.7 ('pythonhzy')",
   "language": "python",
   "name": "python3"
  },
  "language_info": {
   "codemirror_mode": {
    "name": "ipython",
    "version": 3
   },
   "file_extension": ".py",
   "mimetype": "text/x-python",
   "name": "python",
   "nbconvert_exporter": "python",
   "pygments_lexer": "ipython3",
   "version": "3.7.7"
  },
  "orig_nbformat": 4,
  "vscode": {
   "interpreter": {
    "hash": "4d718dcce6334846a10299329eb191d6bfc6359cfbd5881c6d9cc2e2d9a36aa3"
   }
  }
 },
 "nbformat": 4,
 "nbformat_minor": 2
}
