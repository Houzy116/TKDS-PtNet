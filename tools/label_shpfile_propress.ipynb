{
 "cells": [
  {
   "cell_type": "code",
   "execution_count": 1,
   "metadata": {},
   "outputs": [
    {
     "ename": "FileNotFoundError",
     "evalue": "[Errno 2] No such file or directory: './data/UNOSAT/Syria/'",
     "output_type": "error",
     "traceback": [
      "\u001b[0;31m---------------------------------------------------------------------------\u001b[0m",
      "\u001b[0;31mFileNotFoundError\u001b[0m                         Traceback (most recent call last)",
      "\u001b[0;32m/tmp/ipykernel_14737/1187593402.py\u001b[0m in \u001b[0;36m<module>\u001b[0;34m\u001b[0m\n\u001b[1;32m      1\u001b[0m \u001b[0;32mimport\u001b[0m \u001b[0mos\u001b[0m\u001b[0;34m\u001b[0m\u001b[0;34m\u001b[0m\u001b[0m\n\u001b[1;32m      2\u001b[0m \u001b[0;32mimport\u001b[0m \u001b[0mmatplotlib\u001b[0m\u001b[0;34m.\u001b[0m\u001b[0mpyplot\u001b[0m \u001b[0;32mas\u001b[0m \u001b[0mplt\u001b[0m\u001b[0;34m\u001b[0m\u001b[0;34m\u001b[0m\u001b[0m\n\u001b[0;32m----> 3\u001b[0;31m \u001b[0mos\u001b[0m\u001b[0;34m.\u001b[0m\u001b[0mchdir\u001b[0m\u001b[0;34m(\u001b[0m\u001b[0;34m'./data/UNOSAT/Syria/'\u001b[0m\u001b[0;34m)\u001b[0m\u001b[0;34m\u001b[0m\u001b[0;34m\u001b[0m\u001b[0m\n\u001b[0m\u001b[1;32m      4\u001b[0m \u001b[0;32mfrom\u001b[0m \u001b[0mglob\u001b[0m \u001b[0;32mimport\u001b[0m \u001b[0mglob\u001b[0m\u001b[0;34m\u001b[0m\u001b[0;34m\u001b[0m\u001b[0m\n\u001b[1;32m      5\u001b[0m \u001b[0mshp_file\u001b[0m\u001b[0;34m=\u001b[0m\u001b[0mglob\u001b[0m\u001b[0;34m(\u001b[0m\u001b[0;34m'Homs/*.shp'\u001b[0m\u001b[0;34m)\u001b[0m\u001b[0;34m\u001b[0m\u001b[0;34m\u001b[0m\u001b[0m\n",
      "\u001b[0;31mFileNotFoundError\u001b[0m: [Errno 2] No such file or directory: './data/UNOSAT/Syria/'"
     ]
    }
   ],
   "source": [
    "import os\n",
    "import matplotlib.pyplot as plt\n",
    "os.chdir('./data/UNOSAT/Syria/')\n",
    "from glob import glob\n",
    "shp_file=glob('Homs/*.shp')"
   ]
  },
  {
   "cell_type": "markdown",
   "metadata": {},
   "source": [
    "# 转换边界文件"
   ]
  },
  {
   "cell_type": "code",
   "execution_count": null,
   "metadata": {},
   "outputs": [],
   "source": [
    "pd=gpd.read_file(glob('Hama/1_Set*.shp')[0])\n",
    "pd=pd.to_crs(4326)\n",
    "idxs=[5,2,0,23,1,3]\n",
    "name=[pd.iloc[i]['Name'] for i in idxs]\n",
    "name=[i.replace(' ','-') for i in name]\n",
    "for i in idxs:\n",
    "    s_sub=pd.iloc[i]\n",
    "    pd_sub=gpd.GeoDataFrame({'Name':s_sub.Name,'Source':s_sub.Source,'geometry':s_sub.geometry},index=[0])\n",
    "    pd_sub.to_file(s_sub.Name+'_settlements.shp')"
   ]
  },
  {
   "cell_type": "markdown",
   "metadata": {},
   "source": [
    "# 转换点文件"
   ]
  },
  {
   "cell_type": "code",
   "execution_count": null,
   "metadata": {},
   "outputs": [],
   "source": [
    "def get_pandas(pd,id):\n",
    "    c=['SiteID','SensDt','DmgCls','StlmtNme','geometry']\n",
    "    c2=c.copy()\n",
    "    if id>1.2:\n",
    "        c2[1]+=f'_{str(id)}'\n",
    "        c2[2]+=f'_{str(id)}'\n",
    "    pd_sub=pd[pd[c2[2]].notnull()]\n",
    "    pd_sub_c=pd_sub.reindex(columns=c2)\n",
    "    pd_sub_c=pd_sub_c.rename(columns={c2[1]:c[1]})    \n",
    "    pd_sub_c=pd_sub_c.rename(columns={c2[2]:c[2]})\n",
    "    print(len(pd_sub))\n",
    "    return pd_sub_c\n",
    "k=['A','B','C','D','E']\n",
    "for n in name:\n",
    "    n=n.replace('-','_')\n",
    "    f=glob(f'Hama/*Damage_Sites_{n}*.shp')[0]\n",
    "    pd=gpd.read_file(f)\n",
    "    pd=pd.to_crs(4326)\n",
    "    dates_n=np.array([int(i[-1]) for i in list(pd.columns) if 'SensID' in i ]).max()\n",
    "    print(dates_n)\n",
    "    for date in range(1,dates_n+1):\n",
    "        pd_sub=get_pandas(pd,date)\n",
    "        d=list(pd_sub['SensDt'])[0]\n",
    "        print(d)\n",
    "        n_=n.replace('_','-')\n",
    "        f_name=f'{n_}_{k[date]}_{d}.shp'\n",
    "        print(f_name)\n",
    "        pd_sub.to_file(f_name)"
   ]
  },
  {
   "cell_type": "markdown",
   "metadata": {},
   "source": [
    "# 转换无标注区域"
   ]
  },
  {
   "cell_type": "code",
   "execution_count": null,
   "metadata": {},
   "outputs": [],
   "source": [
    "for n in name:\n",
    "    n=n.replace('-','_')\n",
    "    f=glob(f'Hama/*No*{n}*.shp')[0]\n",
    "    pd=gpd.read_file(f)\n",
    "    pd=pd.to_crs(4326)\n",
    "    n_=n.replace('_','-')\n",
    "    filename=f'{n_}_NoAnalysis.shp'\n",
    "    print(filename)\n",
    "    pd.to_file(filename)\n",
    "pd=gpd.read_file('Hama/3_Cloud_Cover_Aleppo_20140523.shp')\n",
    "pd=pd.to_crs(4326)\n",
    "pd.to_file('Aleppo_C_cloud.shp')\n",
    "pd=gpd.read_file('Hama/3_Cloud_Cover_Idlib_20140502.shp')\n",
    "pd=pd.to_crs(4326)\n",
    "pd.to_file('Idlib_C_cloud.shp')"
   ]
  }
 ],
 "metadata": {
  "kernelspec": {
   "display_name": "Python 3.7.7 ('pythonhzy')",
   "language": "python",
   "name": "python3"
  },
  "language_info": {
   "codemirror_mode": {
    "name": "ipython",
    "version": 3
   },
   "file_extension": ".py",
   "mimetype": "text/x-python",
   "name": "python",
   "nbconvert_exporter": "python",
   "pygments_lexer": "ipython3",
   "version": "3.7.7"
  },
  "orig_nbformat": 4,
  "vscode": {
   "interpreter": {
    "hash": "4d718dcce6334846a10299329eb191d6bfc6359cfbd5881c6d9cc2e2d9a36aa3"
   }
  }
 },
 "nbformat": 4,
 "nbformat_minor": 2
}
