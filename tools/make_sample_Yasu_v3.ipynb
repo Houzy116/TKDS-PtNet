{
 "cells": [
  {
   "cell_type": "code",
   "execution_count": 1,
   "metadata": {},
   "outputs": [],
   "source": [
    "import gdal\n",
    "import numpy as np\n",
    "import pandas as pd\n",
    "import os\n",
    "import geopandas as gpd\n",
    "import matplotlib.pyplot as plt\n",
    "import torch\n",
    "from glob import glob\n",
    "import shapely\n",
    "import random\n",
    "from tqdm import tqdm\n",
    "from collections import Counter\n",
    "from pybob.GeoImg import GeoImg\n",
    "import osr\n",
    "from pybob.image_tools import create_mask_from_shapefile\n",
    "import gc\n",
    "import imageio\n",
    "import time\n",
    "import shutil\n",
    "import warnings\n",
    "warnings.filterwarnings('ignore')"
   ]
  },
  {
   "cell_type": "code",
   "execution_count": 2,
   "metadata": {},
   "outputs": [],
   "source": [
    "def get_mask(maskshp,geotrf,shape,p='4326'):\n",
    "    img=np.zeros((shape[0],shape[1]))\n",
    "    \n",
    "    if p=='4326':\n",
    "        sref = osr.SpatialReference()\n",
    "        sref.ImportFromEPSG(4326)\n",
    "        proj = sref.ExportToWkt()\n",
    "    else:\n",
    "        proj=p\n",
    "    \n",
    "    trf=(geotrf[0], geotrf[1], geotrf[2], geotrf[3], geotrf[4], geotrf[5])\n",
    "    drv = gdal.GetDriverByName('MEM')\n",
    "    dst = drv.Create('', shape[1], shape[0], 1, gdal.GDT_UInt16)\n",
    "\n",
    "    sp = dst.SetProjection(proj)\n",
    "    sg = dst.SetGeoTransform(trf)\n",
    "\n",
    "    wa = dst.GetRasterBand(1).WriteArray(img)\n",
    "    del wa, sg, sp\n",
    "    img_bob = GeoImg(dst)\n",
    "    mask = create_mask_from_shapefile(img_bob, maskshp)\n",
    "    return mask\n",
    "def read_img(path):\n",
    "    ds=gdal.Open(path)\n",
    "    trf=ds.GetGeoTransform()\n",
    "    img=ds.ReadAsArray()\n",
    "    return {'trf':trf,'img':img}\n",
    "def tif_save_bands(img,save_name,trf,p='4326'):\n",
    "    driver=gdal.GetDriverByName('GTiff')\n",
    "    new_img=driver.Create(save_name,img.shape[2],img.shape[1],img.shape[0],6,['COMPRESS=LZW','BIGTIFF=YES'])\n",
    "    new_img.SetGeoTransform(trf)\n",
    "    \n",
    "    if p=='4326':\n",
    "        sref = osr.SpatialReference()\n",
    "        sref.ImportFromEPSG(4326)\n",
    "        proj = sref.ExportToWkt()\n",
    "    else:\n",
    "        proj=p\n",
    "    new_img.SetProjection(proj)\n",
    "    for i in range(img.shape[0]):\n",
    "        new_img.GetRasterBand(i+1).WriteArray(img[i,:,:])\n",
    "    new_img.FlushCache()\n",
    "    del new_img\n",
    "def tif_save(img,save_name,trf,p='4326'):\n",
    "    driver=gdal.GetDriverByName('GTiff')\n",
    "    new_img=driver.Create(save_name,img.shape[1],img.shape[0],1,6,['COMPRESS=LZW','BIGTIFF=YES'])\n",
    "    new_img.SetGeoTransform(trf)\n",
    "    \n",
    "    if p=='4326':\n",
    "        sref = osr.SpatialReference()\n",
    "        sref.ImportFromEPSG(4326)\n",
    "        proj = sref.ExportToWkt()\n",
    "    else:\n",
    "        proj=p\n",
    "    new_img.SetProjection(proj)\n",
    "    new_img.GetRasterBand(1).SetNoDataValue(0)\n",
    "    new_img.GetRasterBand(1).WriteArray(img)\n",
    "    new_img.FlushCache()\n",
    "    del new_img"
   ]
  },
  {
   "cell_type": "markdown",
   "metadata": {},
   "source": [
    "# 分区mask"
   ]
  },
  {
   "cell_type": "code",
   "execution_count": 101,
   "metadata": {},
   "outputs": [],
   "source": [
    "f=glob('/data4/Ukraine_img/M_and_L/*TCN.tif')[0]\n",
    "ds=gdal.Open(f)\n",
    "trf=ds.GetGeoTransform()\n",
    "shp=ds.ReadAsArray().shape\n",
    "mask=get_mask('/home/hk/python_script/Ukraine/data/UNOSAT/Azovstal_0425/Azovstal_ROI.shp',trf,[shape[1],shape[2]],p='4326')"
   ]
  },
  {
   "cell_type": "code",
   "execution_count": 174,
   "metadata": {},
   "outputs": [
    {
     "data": {
      "text/plain": [
       "<matplotlib.image.AxesImage at 0x7f4a95e2b150>"
      ]
     },
     "execution_count": 174,
     "metadata": {},
     "output_type": "execute_result"
    },
    {
     "data": {
      "image/png": "[encoded data removed]",
      "text/plain": [
       "<Figure size 432x288 with 1 Axes>"
      ]
     },
     "metadata": {
      "needs_background": "light"
     },
     "output_type": "display_data"
    }
   ],
   "source": [
    "plt.imshow(mask)"
   ]
  },
  {
   "cell_type": "code",
   "execution_count": 112,
   "metadata": {},
   "outputs": [],
   "source": [
    "l=gpd.read_file('/home/hk/python_script/Ukraine/data/UNOSAT/Azovstal_0425/Azovstal_25April2022_CDA.shp')['Main_Damag']"
   ]
  },
  {
   "cell_type": "code",
   "execution_count": 161,
   "metadata": {},
   "outputs": [],
   "source": [
    "labels_date={'A':['20210910'],'A-B':['20220227','20220309','20220314','20220428','20220503','20220508'],'B':[],'B-C':['20220523','20220528','20220602','20220607','20220612','20220617','20220622','20220627']}\n",
    "points_path='/home/hk/python_script/Ukraine/data/UNOSAT/Azovstal_0425/Azovstal_25April2022_CDA.shp'\n"
   ]
  },
  {
   "cell_type": "code",
   "execution_count": 162,
   "metadata": {},
   "outputs": [],
   "source": [
    "points=gpd.read_file(points_path)\n",
    "points=points.to_crs(4326)\n",
    "points=points[points['Main_Damag']<4.5]\n",
    "k={1:'Destroyed',2:'Severe Damage',3:'Moderate Damage',4:'Possible Damage'}\n",
    "DmgCls=[k[i] for i in list(points['Main_Damag'])]\n",
    "points=gpd.GeoDataFrame({'a':list(range(len(points))),\n",
    "                        'SiteID':['Industrial Facility']*len(points),\n",
    "                        'SensDt':['2022-04-25']*len(points),\n",
    "                        'DmgCls':DmgCls,\n",
    "                        'StlmtNme':['Azovstal']*len(points),\n",
    "                        'geometry':list(points['geometry'])})\n",
    "points.to_file('/home/hk/python_script/Ukraine/data/UNOSAT/Azovstal_0425/Azovstal_B_2022-04-25.shp')\n",
    "points_path='/home/hk/python_script/Ukraine/data/UNOSAT/Azovstal_0425/Azovstal_B_2022-04-25.shp'"
   ]
  },
  {
   "cell_type": "code",
   "execution_count": 176,
   "metadata": {},
   "outputs": [
    {
     "data": {
      "text/plain": [
       "['/data4/Ukraine_img/M_and_L/20210910T082601_20210910T083119_T37TCN.tif',\n",
       " '/data4/Ukraine_img/M_and_L/20220227T082911_20220227T083303_T37TCN2.tif',\n",
       " '/data4/Ukraine_img/M_and_L/20220309T082801_20220309T083304_T37TCN2.tif',\n",
       " '/data4/Ukraine_img/M_and_L/20220314T082719_20220314T083610_T37TCN2.tif',\n",
       " '/data4/Ukraine_img/M_and_L/20220319T082651_20220319T083304_T37TCN2.tif',\n",
       " '/data4/Ukraine_img/M_and_L/20220324T082609_20220324T083426_T37TCN2.tif',\n",
       " '/data4/Ukraine_img/M_and_L/20220329T082601_20220329T083216_T37TCN2.tif',\n",
       " '/data4/Ukraine_img/M_and_L/20220403T082559_20220403T083553_T37TCN2.tif',\n",
       " '/data4/Ukraine_img/M_and_L/20220428T082611_20220428T083305_T37TCN2.tif',\n",
       " '/data4/Ukraine_img/M_and_L/20220503T082559_20220503T083512_T37TCN2.tif',\n",
       " '/data4/Ukraine_img/M_and_L/20220508T082611_20220508T083304_T37TCN2.tif',\n",
       " '/data4/Ukraine_img/M_and_L/20220523T082559_20220523T082946_T37TCN2.tif',\n",
       " '/data4/Ukraine_img/M_and_L/20220528T082611_20220528T083641_T37TCN2.tif',\n",
       " '/data4/Ukraine_img/M_and_L/20220602T082559_20220602T082807_T37TCN2.tif',\n",
       " '/data4/Ukraine_img/M_and_L/20220607T082611_20220607T083435_T37TCN2.tif',\n",
       " '/data4/Ukraine_img/M_and_L/20220612T082609_20220612T082840_T37TCN2.tif',\n",
       " '/data4/Ukraine_img/M_and_L/20220617T082611_20220617T083253_T37TCN2.tif',\n",
       " '/data4/Ukraine_img/M_and_L/20220622T082609_20220622T082834_T37TCN2.tif',\n",
       " '/data4/Ukraine_img/M_and_L/20220627T082621_20220627T083534_T37TCN2.tif']"
      ]
     },
     "execution_count": 176,
     "metadata": {},
     "output_type": "execute_result"
    }
   ],
   "source": []
  },
  {
   "cell_type": "markdown",
   "metadata": {},
   "source": [
    "# 转换图像为Patch"
   ]
  },
  {
   "cell_type": "code",
   "execution_count": 177,
   "metadata": {},
   "outputs": [
    {
     "name": "stdout",
     "output_type": "stream",
     "text": [
      "['/data4/Ukraine_img/M_and_L/20210910T082601_20210910T083119_T37TCN.tif', '/data4/Ukraine_img/M_and_L/20220227T082911_20220227T083303_T37TCN2.tif', '/data4/Ukraine_img/M_and_L/20220309T082801_20220309T083304_T37TCN2.tif', '/data4/Ukraine_img/M_and_L/20220314T082719_20220314T083610_T37TCN2.tif', '/data4/Ukraine_img/M_and_L/20220319T082651_20220319T083304_T37TCN2.tif', '/data4/Ukraine_img/M_and_L/20220324T082609_20220324T083426_T37TCN2.tif', '/data4/Ukraine_img/M_and_L/20220329T082601_20220329T083216_T37TCN2.tif', '/data4/Ukraine_img/M_and_L/20220403T082559_20220403T083553_T37TCN2.tif', '/data4/Ukraine_img/M_and_L/20220428T082611_20220428T083305_T37TCN2.tif', '/data4/Ukraine_img/M_and_L/20220503T082559_20220503T083512_T37TCN2.tif', '/data4/Ukraine_img/M_and_L/20220508T082611_20220508T083304_T37TCN2.tif', '/data4/Ukraine_img/M_and_L/20220523T082559_20220523T082946_T37TCN2.tif', '/data4/Ukraine_img/M_and_L/20220528T082611_20220528T083641_T37TCN2.tif', '/data4/Ukraine_img/M_and_L/20220602T082559_20220602T082807_T37TCN2.tif', '/data4/Ukraine_img/M_and_L/20220607T082611_20220607T083435_T37TCN2.tif', '/data4/Ukraine_img/M_and_L/20220612T082609_20220612T082840_T37TCN2.tif', '/data4/Ukraine_img/M_and_L/20220617T082611_20220617T083253_T37TCN2.tif', '/data4/Ukraine_img/M_and_L/20220622T082609_20220622T082834_T37TCN2.tif', '/data4/Ukraine_img/M_and_L/20220627T082621_20220627T083534_T37TCN2.tif']\n",
      "/data4/Ukraine_img/M_and_L/20210910T082601_20210910T083119_T37TCN.tif\n",
      "(10, 2196, 3638)\n",
      "(10, 367, 607, 6, 6)\n",
      "(37.461319399531256, 0.0005389891704717128, 0.0, 47.22214378218874, 0.0, -0.0005389891704717128)\n",
      "max: 15880\n",
      "/data4/Ukraine_img/M_and_L/20220227T082911_20220227T083303_T37TCN2.tif\n"
     ]
    },
    {
     "name": "stderr",
     "output_type": "stream",
     "text": [
      "Warning 1: TIFFReadDirectory:Sum of Photometric type-related color channels and ExtraSamples doesn't match SamplesPerPixel. Defining non-color channels as ExtraSamples.\n"
     ]
    },
    {
     "name": "stdout",
     "output_type": "stream",
     "text": [
      "(10, 2196, 3638)\n",
      "(10, 367, 607, 6, 6)\n",
      "(37.461319399531256, 0.0005389891704717128, 0.0, 47.22214378218874, 0.0, -0.0005389891704717128)\n",
      "max: 4484\n",
      "/data4/Ukraine_img/M_and_L/20220309T082801_20220309T083304_T37TCN2.tif\n"
     ]
    },
    {
     "name": "stderr",
     "output_type": "stream",
     "text": [
      "Warning 1: TIFFReadDirectory:Sum of Photometric type-related color channels and ExtraSamples doesn't match SamplesPerPixel. Defining non-color channels as ExtraSamples.\n"
     ]
    },
    {
     "name": "stdout",
     "output_type": "stream",
     "text": [
      "(10, 2196, 3638)\n",
      "(10, 367, 607, 6, 6)\n",
      "(37.461319399531256, 0.0005389891704717128, 0.0, 47.22214378218874, 0.0, -0.0005389891704717128)\n",
      "max: 5716\n",
      "/data4/Ukraine_img/M_and_L/20220314T082719_20220314T083610_T37TCN2.tif\n"
     ]
    },
    {
     "name": "stderr",
     "output_type": "stream",
     "text": [
      "Warning 1: TIFFReadDirectory:Sum of Photometric type-related color channels and ExtraSamples doesn't match SamplesPerPixel. Defining non-color channels as ExtraSamples.\n"
     ]
    },
    {
     "name": "stdout",
     "output_type": "stream",
     "text": [
      "(10, 2196, 3638)\n",
      "(10, 367, 607, 6, 6)\n",
      "(37.461319399531256, 0.0005389891704717128, 0.0, 47.22214378218874, 0.0, -0.0005389891704717128)\n",
      "max: 4100\n",
      "/data4/Ukraine_img/M_and_L/20220319T082651_20220319T083304_T37TCN2.tif\n",
      "(10, 2196, 3638)\n",
      "(10, 367, 607, 6, 6)\n",
      "(37.461319399531256, 0.0005389891704717128, 0.0, 47.22214378218874, 0.0, -0.0005389891704717128)\n",
      "max: 4400\n",
      "/data4/Ukraine_img/M_and_L/20220324T082609_20220324T083426_T37TCN2.tif\n",
      "(10, 2196, 3638)\n",
      "(10, 367, 607, 6, 6)\n",
      "(37.461319399531256, 0.0005389891704717128, 0.0, 47.22214378218874, 0.0, -0.0005389891704717128)\n",
      "max: 7984\n",
      "/data4/Ukraine_img/M_and_L/20220329T082601_20220329T083216_T37TCN2.tif\n"
     ]
    },
    {
     "name": "stderr",
     "output_type": "stream",
     "text": [
      "Warning 1: TIFFReadDirectory:Sum of Photometric type-related color channels and ExtraSamples doesn't match SamplesPerPixel. Defining non-color channels as ExtraSamples.\n"
     ]
    },
    {
     "name": "stdout",
     "output_type": "stream",
     "text": [
      "(10, 2196, 3638)\n",
      "(10, 367, 607, 6, 6)\n",
      "(37.461319399531256, 0.0005389891704717128, 0.0, 47.22214378218874, 0.0, -0.0005389891704717128)\n",
      "max: 4500\n",
      "/data4/Ukraine_img/M_and_L/20220403T082559_20220403T083553_T37TCN2.tif\n"
     ]
    },
    {
     "name": "stderr",
     "output_type": "stream",
     "text": [
      "Warning 1: TIFFReadDirectory:Sum of Photometric type-related color channels and ExtraSamples doesn't match SamplesPerPixel. Defining non-color channels as ExtraSamples.\n"
     ]
    },
    {
     "name": "stdout",
     "output_type": "stream",
     "text": [
      "(10, 2196, 3638)\n",
      "(10, 367, 607, 6, 6)\n",
      "(37.461319399531256, 0.0005389891704717128, 0.0, 47.22214378218874, 0.0, -0.0005389891704717128)\n",
      "max: 0\n",
      "/data4/Ukraine_img/M_and_L/20220428T082611_20220428T083305_T37TCN2.tif\n"
     ]
    },
    {
     "name": "stderr",
     "output_type": "stream",
     "text": [
      "Warning 1: TIFFReadDirectory:Sum of Photometric type-related color channels and ExtraSamples doesn't match SamplesPerPixel. Defining non-color channels as ExtraSamples.\n"
     ]
    },
    {
     "name": "stdout",
     "output_type": "stream",
     "text": [
      "(10, 2196, 3638)\n",
      "(10, 367, 607, 6, 6)\n",
      "(37.461319399531256, 0.0005389891704717128, 0.0, 47.22214378218874, 0.0, -0.0005389891704717128)\n",
      "max: 0\n",
      "/data4/Ukraine_img/M_and_L/20220503T082559_20220503T083512_T37TCN2.tif\n"
     ]
    },
    {
     "name": "stderr",
     "output_type": "stream",
     "text": [
      "Warning 1: TIFFReadDirectory:Sum of Photometric type-related color channels and ExtraSamples doesn't match SamplesPerPixel. Defining non-color channels as ExtraSamples.\n"
     ]
    },
    {
     "name": "stdout",
     "output_type": "stream",
     "text": [
      "(10, 2196, 3638)\n",
      "(10, 367, 607, 6, 6)\n",
      "(37.461319399531256, 0.0005389891704717128, 0.0, 47.22214378218874, 0.0, -0.0005389891704717128)\n",
      "max: 4740\n",
      "/data4/Ukraine_img/M_and_L/20220508T082611_20220508T083304_T37TCN2.tif\n",
      "(10, 2196, 3638)\n",
      "(10, 367, 607, 6, 6)\n",
      "(37.461319399531256, 0.0005389891704717128, 0.0, 47.22214378218874, 0.0, -0.0005389891704717128)\n",
      "max: 4704\n",
      "/data4/Ukraine_img/M_and_L/20220523T082559_20220523T082946_T37TCN2.tif\n"
     ]
    },
    {
     "name": "stderr",
     "output_type": "stream",
     "text": [
      "Warning 1: TIFFReadDirectory:Sum of Photometric type-related color channels and ExtraSamples doesn't match SamplesPerPixel. Defining non-color channels as ExtraSamples.\n"
     ]
    },
    {
     "name": "stdout",
     "output_type": "stream",
     "text": [
      "(10, 2196, 3638)\n",
      "(10, 367, 607, 6, 6)\n",
      "(37.461319399531256, 0.0005389891704717128, 0.0, 47.22214378218874, 0.0, -0.0005389891704717128)\n",
      "max: 6668\n",
      "/data4/Ukraine_img/M_and_L/20220528T082611_20220528T083641_T37TCN2.tif\n",
      "(10, 2196, 3638)\n",
      "(10, 367, 607, 6, 6)\n",
      "(37.461319399531256, 0.0005389891704717128, 0.0, 47.22214378218874, 0.0, -0.0005389891704717128)\n",
      "max: 6180\n",
      "/data4/Ukraine_img/M_and_L/20220602T082559_20220602T082807_T37TCN2.tif\n",
      "(10, 2196, 3638)\n",
      "(10, 367, 607, 6, 6)\n",
      "(37.461319399531256, 0.0005389891704717128, 0.0, 47.22214378218874, 0.0, -0.0005389891704717128)\n",
      "max: 6600\n",
      "/data4/Ukraine_img/M_and_L/20220607T082611_20220607T083435_T37TCN2.tif\n"
     ]
    },
    {
     "name": "stderr",
     "output_type": "stream",
     "text": [
      "Warning 1: TIFFReadDirectory:Sum of Photometric type-related color channels and ExtraSamples doesn't match SamplesPerPixel. Defining non-color channels as ExtraSamples.\n"
     ]
    },
    {
     "name": "stdout",
     "output_type": "stream",
     "text": [
      "(10, 2196, 3638)\n",
      "(10, 367, 607, 6, 6)\n",
      "(37.461319399531256, 0.0005389891704717128, 0.0, 47.22214378218874, 0.0, -0.0005389891704717128)\n",
      "max: 7172\n",
      "/data4/Ukraine_img/M_and_L/20220612T082609_20220612T082840_T37TCN2.tif\n"
     ]
    },
    {
     "name": "stderr",
     "output_type": "stream",
     "text": [
      "Warning 1: TIFFReadDirectory:Sum of Photometric type-related color channels and ExtraSamples doesn't match SamplesPerPixel. Defining non-color channels as ExtraSamples.\n"
     ]
    },
    {
     "name": "stdout",
     "output_type": "stream",
     "text": [
      "(10, 2196, 3638)\n",
      "(10, 367, 607, 6, 6)\n",
      "(37.461319399531256, 0.0005389891704717128, 0.0, 47.22214378218874, 0.0, -0.0005389891704717128)\n",
      "max: 7540\n",
      "/data4/Ukraine_img/M_and_L/20220617T082611_20220617T083253_T37TCN2.tif\n"
     ]
    },
    {
     "name": "stderr",
     "output_type": "stream",
     "text": [
      "Warning 1: TIFFReadDirectory:Sum of Photometric type-related color channels and ExtraSamples doesn't match SamplesPerPixel. Defining non-color channels as ExtraSamples.\n"
     ]
    },
    {
     "name": "stdout",
     "output_type": "stream",
     "text": [
      "(10, 2196, 3638)\n",
      "(10, 367, 607, 6, 6)\n",
      "(37.461319399531256, 0.0005389891704717128, 0.0, 47.22214378218874, 0.0, -0.0005389891704717128)\n",
      "max: 8044\n",
      "/data4/Ukraine_img/M_and_L/20220622T082609_20220622T082834_T37TCN2.tif\n"
     ]
    },
    {
     "name": "stderr",
     "output_type": "stream",
     "text": [
      "Warning 1: TIFFReadDirectory:Sum of Photometric type-related color channels and ExtraSamples doesn't match SamplesPerPixel. Defining non-color channels as ExtraSamples.\n"
     ]
    },
    {
     "name": "stdout",
     "output_type": "stream",
     "text": [
      "(10, 2196, 3638)\n",
      "(10, 367, 607, 6, 6)\n",
      "(37.461319399531256, 0.0005389891704717128, 0.0, 47.22214378218874, 0.0, -0.0005389891704717128)\n",
      "max: 7396\n",
      "/data4/Ukraine_img/M_and_L/20220627T082621_20220627T083534_T37TCN2.tif\n"
     ]
    },
    {
     "name": "stderr",
     "output_type": "stream",
     "text": [
      "Warning 1: TIFFReadDirectory:Sum of Photometric type-related color channels and ExtraSamples doesn't match SamplesPerPixel. Defining non-color channels as ExtraSamples.\n"
     ]
    },
    {
     "name": "stdout",
     "output_type": "stream",
     "text": [
      "(10, 2196, 3638)\n",
      "(10, 367, 607, 6, 6)\n",
      "(37.461319399531256, 0.0005389891704717128, 0.0, 47.22214378218874, 0.0, -0.0005389891704717128)\n",
      "max: 0\n"
     ]
    }
   ],
   "source": [
    "def read_img(path):\n",
    "    ds=gdal.Open(path)\n",
    "    trf=ds.GetGeoTransform()\n",
    "    img=ds.ReadAsArray()\n",
    "    return {'trf':trf,'img':img}\n",
    "def get_patch(data,size):\n",
    "    img=data['img']\n",
    "    trf=data['trf']\n",
    "    shape=img.shape\n",
    "    img=np.pad(img,((0,0),(0,size-shape[1]%size),(0,size-shape[2]%size)),'constant',constant_values=0)\n",
    "    shape=img.shape\n",
    "    img=img.reshape([shape[0],int(shape[1]/size),-1,shape[2]])\n",
    "    shape=img.shape\n",
    "    img=img.reshape([shape[0],shape[1],shape[2],int(shape[3]/size),-1])\n",
    "    return {'img':img.transpose((0,1,3,2,4)),'trf':(trf[0]-trf[1]/2,trf[1]*size,trf[2],trf[3]-trf[5]/2,trf[4],trf[5]*size)}\n",
    "size=6\n",
    "fs10=glob('/data4/Ukraine_img/M_and_L/*.tif')\n",
    "fs10=[i for i in fs10 if i[-5:]!='r.tif']\n",
    "fs10.sort()\n",
    "fs10\n",
    "img_pathes=fs10\n",
    "# img_pathes=['/data2/Syria_img/Raqqa_enhance-A-B-4_20130213_treated.tif']\n",
    "print(img_pathes)\n",
    "\n",
    "for path in img_pathes:\n",
    "    # try:    \n",
    "    \n",
    "    print(path)\n",
    "    data=read_img(path)\n",
    "    ddata=read_img(path.replace('.tif','_bandother.tif'))\n",
    "    for i in range(4):\n",
    "        data['img'][i,:,:][mask==0]=0\n",
    "    print(data['img'].shape)\n",
    "    data2=get_patch(data,6)\n",
    "    ddata2=get_patch(ddata,3)\n",
    "    print(data2['img'].shape)\n",
    "    print(data2['trf'])\n",
    "    d=data2['img'][:4].astype(np.int16)\n",
    "    dd=ddata2['img'].astype(np.int16)\n",
    "    info={'readme':'trf分别为patch左上角坐标(不是左上角像元的中心坐标)和patch的长度',\n",
    "    'trf':data2['trf'],'shape':[data['img'].shape,d.shape],'img10':d,'img20':dd}\n",
    "\n",
    "    # np.save(path.replace('.tif',f'_size_{size}.npy'),d)\n",
    "    print('max:',d.max())\n",
    "    torch.save(info,path.replace('.tif',f'_size_{size}_Azovstal_info.pth'))\n",
    "    del data,data2,d\n",
    "    gc.collect()\n",
    "    # except:\n",
    "    #         print('ERROR',path)"
   ]
  },
  {
   "cell_type": "code",
   "execution_count": 178,
   "metadata": {},
   "outputs": [
    {
     "data": {
      "text/plain": [
       "['/data4/Ukraine_img/M_and_L/20210910T082601_20210910T083119_T37TCN_size_6_Azovstal_info.pth',\n",
       " '/data4/Ukraine_img/M_and_L/20220227T082911_20220227T083303_T37TCN2_size_6_Azovstal_info.pth',\n",
       " '/data4/Ukraine_img/M_and_L/20220309T082801_20220309T083304_T37TCN2_size_6_Azovstal_info.pth',\n",
       " '/data4/Ukraine_img/M_and_L/20220314T082719_20220314T083610_T37TCN2_size_6_Azovstal_info.pth',\n",
       " '/data4/Ukraine_img/M_and_L/20220319T082651_20220319T083304_T37TCN2_size_6_Azovstal_info.pth',\n",
       " '/data4/Ukraine_img/M_and_L/20220324T082609_20220324T083426_T37TCN2_size_6_Azovstal_info.pth',\n",
       " '/data4/Ukraine_img/M_and_L/20220329T082601_20220329T083216_T37TCN2_size_6_Azovstal_info.pth',\n",
       " '/data4/Ukraine_img/M_and_L/20220403T082559_20220403T083553_T37TCN2_size_6_Azovstal_info.pth',\n",
       " '/data4/Ukraine_img/M_and_L/20220428T082611_20220428T083305_T37TCN2_size_6_Azovstal_info.pth',\n",
       " '/data4/Ukraine_img/M_and_L/20220503T082559_20220503T083512_T37TCN2_size_6_Azovstal_info.pth',\n",
       " '/data4/Ukraine_img/M_and_L/20220508T082611_20220508T083304_T37TCN2_size_6_Azovstal_info.pth',\n",
       " '/data4/Ukraine_img/M_and_L/20220523T082559_20220523T082946_T37TCN2_size_6_Azovstal_info.pth',\n",
       " '/data4/Ukraine_img/M_and_L/20220528T082611_20220528T083641_T37TCN2_size_6_Azovstal_info.pth',\n",
       " '/data4/Ukraine_img/M_and_L/20220602T082559_20220602T082807_T37TCN2_size_6_Azovstal_info.pth',\n",
       " '/data4/Ukraine_img/M_and_L/20220607T082611_20220607T083435_T37TCN2_size_6_Azovstal_info.pth',\n",
       " '/data4/Ukraine_img/M_and_L/20220612T082609_20220612T082840_T37TCN2_size_6_Azovstal_info.pth',\n",
       " '/data4/Ukraine_img/M_and_L/20220617T082611_20220617T083253_T37TCN2_size_6_Azovstal_info.pth',\n",
       " '/data4/Ukraine_img/M_and_L/20220622T082609_20220622T082834_T37TCN2_size_6_Azovstal_info.pth',\n",
       " '/data4/Ukraine_img/M_and_L/20220627T082621_20220627T083534_T37TCN2_size_6_Azovstal_info.pth']"
      ]
     },
     "execution_count": 178,
     "metadata": {},
     "output_type": "execute_result"
    }
   ],
   "source": [
    "fs=glob('/data4/Ukraine_img/M_and_L/*_Azovstal_info.pth')\n",
    "fs.sort()\n",
    "fs"
   ]
  },
  {
   "cell_type": "markdown",
   "metadata": {},
   "source": [
    "# 制作patch的label"
   ]
  },
  {
   "cell_type": "code",
   "execution_count": 151,
   "metadata": {},
   "outputs": [],
   "source": [
    "def get_dam_mask(point,patch_file,weight):\n",
    "    trf=torch.load(patch_file)['trf']\n",
    "    shape=torch.load(patch_file)['shape'][1]\n",
    "    p_coor=[shapely.geometry.mapping(list(point)[i])['coordinates'] for i in range(len(point))]\n",
    "    mask=np.zeros((shape[1],shape[2]))\n",
    "    p_x_y=[[int((i[0]-trf[0])/trf[1]),int((i[1]-trf[3])/trf[5])] for i in p_coor]\n",
    "    for i in p_x_y:\n",
    "        try:\n",
    "            mask[i[1],i[0]]+=weight\n",
    "        except:\n",
    "            pass\n",
    "    return mask\n",
    "def get_mask(points_path,patch_path):\n",
    "    n=points_path.split(\"_\")[-2]\n",
    "    df=gpd.read_file(points_path)\n",
    "    print(len(df))\n",
    "    point_num={}\n",
    "    point=df[df['DmgCls']=='Destroyed']['geometry']\n",
    "    point_num['destroyed']=len(point)\n",
    "    print('destroyed:',len(point))\n",
    "    mask_destroyed=get_dam_mask(point,patch_path,1)\n",
    "    point=df[df['DmgCls']=='Severe Damage']['geometry']\n",
    "    point_num['severe']=len(point)\n",
    "    print('Severe Damage:',len(point))\n",
    "    mask_severe=get_dam_mask(point,patch_path,1)\n",
    "    point=df[df['DmgCls']=='Moderate Damage']['geometry']\n",
    "    point_num['moderate']=len(point)\n",
    "    print('Moderate Damage:',len(point))\n",
    "    mask_moderate=get_dam_mask(point,patch_path,1)\n",
    "\n",
    "    mask=mask_destroyed*6+mask_severe*3+mask_moderate\n",
    "    date=df['SensDt'][0]\n",
    "    print(f'{n}  {date}得分',dict(Counter(list(mask.flatten()))))\n",
    "    mask_type=np.zeros(mask.shape)\n",
    "    mask_type[mask>0]=1\n",
    "    mask_type[mask>=6]=2\n",
    "    print(f'{date}损毁类型',Counter(list(mask_type.flatten())))\n",
    "    all_mask=[mask_destroyed,mask_severe,mask_moderate,mask,mask_type]\n",
    "    info='5层分别为完全 严重 中等 以及损毁得分和类型\\n得分:完全算6分 严重算3分 中等算1分 其他0分\\n类型0:得分0 类型1:得分1-5 类型2:得分大于6'\n",
    "    result={'info':info,'point_num':point_num,'mask':all_mask}\n",
    "    return result"
   ]
  },
  {
   "cell_type": "code",
   "execution_count": 163,
   "metadata": {},
   "outputs": [
    {
     "name": "stdout",
     "output_type": "stream",
     "text": [
      "220\n",
      "destroyed: 50\n",
      "Severe Damage: 54\n",
      "Moderate Damage: 101\n",
      "B  2022-04-25得分 {0.0: 222584, 1.0: 90, 7.0: 6, 3.0: 45, 6.0: 34, 9.0: 2, 12.0: 3, 4.0: 3, 2.0: 1, 24.0: 1}\n",
      "2022-04-25损毁类型 Counter({0.0: 222584, 1.0: 139, 2.0: 46})\n",
      "save: /home/hk/python_script/Ukraine/data/UNOSAT/Azovstal_0425/Azovstal_B_2022-04-25_size_6_dammask.pth.tar\n",
      "__________________________SAVE SUCCESS__________________________\n"
     ]
    }
   ],
   "source": [
    "\n",
    "patch_path='/data4/Ukraine_img/M_and_L/20220523T082559_20220523T082946_T37TCN2_size_6_area4_info.pth'\n",
    "result=get_mask(points_path,patch_path)\n",
    "save_path=points_path.replace('.shp','_size_6_dammask.pth.tar').replace('/home/hk/python_script/Ukraine/data/UNOSAT/U/','/data4/Ukraine_img/M_and_L/')\n",
    "torch.save(result,save_path)\n",
    "print('save:',save_path)\n",
    "print('__________________________SAVE SUCCESS__________________________')\n",
    "\n",
    "# for point_path in points_list:\n",
    "#     patch_path='/data4/Ukraine_img/U_bandother/20210910T082601_20210910T083119_T37TCN_cut_reprojection_size_3_info.pth'\n",
    "#     result=get_mask(point_path,patch_path)\n",
    "#     torch.save(result,point_path.replace('.shp','_size_3_dammask.pth.tar'))\n",
    "#     print('__________________________SAVE SUCCESS__________________________')\n"
   ]
  },
  {
   "cell_type": "markdown",
   "metadata": {},
   "source": [
    "# 制作样本"
   ]
  },
  {
   "cell_type": "code",
   "execution_count": null,
   "metadata": {},
   "outputs": [],
   "source": [
    "resul"
   ]
  },
  {
   "cell_type": "code",
   "execution_count": 180,
   "metadata": {},
   "outputs": [],
   "source": [
    "# masks={\n",
    "#     'A':None,\n",
    "#     'B':glob(f'/data2/Syria_img/{city}_B_*_treated_size_120_dammask.pth.tar')[0],\n",
    "#     'C':glob(f'/data2/Syria_img/{city}_C_*_treated_size_120_dammask.pth.tar')[0],\n",
    "#     'D':glob(f'/data2/Syria_img/{city}_D_*_treated_size_120_dammask.pth.tar')[0],\n",
    "#     'Z':None\n",
    "# }\n",
    "\n",
    "\n",
    "def get_samples(pre_patch,post_patch,dammask_after,dammask_now,dammask_before):\n",
    "        # if pre_patch[0].shape!=post_patch[0].shape:\n",
    "        #         raise('SHAPE ERROR')\n",
    "        if pre_patch[0].shape[0]!=4 or post_patch[0].shape[0]!=4:\n",
    "                raise\n",
    "        if pre_patch[1].shape[0]!=6 or post_patch[1].shape[0]!=6:\n",
    "                raise\n",
    "                               \n",
    "        shape=pre_patch[0].shape\n",
    "        print(shape)\n",
    "        zz=np.zeros((shape[1],shape[2]))\n",
    "        samples=[]\n",
    "        if dammask_now is not None:\n",
    "                for x in range(shape[1]):\n",
    "                        for y in range(shape[2]):\n",
    "                                \n",
    "                                if (pre_patch[0][:,x,y]==0).any() or (post_patch[0][:,x,y]==0).any() or (pre_patch[1][:,x,y]==0).any() or (post_patch[1][:,x,y]==0).any():\n",
    "                                        continue\n",
    "                                else:\n",
    "                                        samples.append([[x,y],[None,[int(i[x,y]) for i in dammask_now['mask']]],np.concatenate([pre_patch[0][:,x,y],post_patch[0][:,x,y]],axis=0),np.concatenate([pre_patch[1][:,x,y],post_patch[1][:,x,y]],axis=0)])\n",
    "                                        zz[x,y]=1\n",
    "        else:\n",
    "                if dammask_before is None:\n",
    "                        for x in range(shape[1]):\n",
    "                                for y in range(shape[2]):\n",
    "                                        \n",
    "                                        if (pre_patch[0][:,x,y]==0).any() or (post_patch[0][:,x,y]==0).any() or (pre_patch[1][:,x,y]==0).any() or (post_patch[1][:,x,y]==0).any():\n",
    "                                                continue\n",
    "                                        else:\n",
    "                                                if dammask_after['mask'][0][x,y]==0:\n",
    "                                                        samples.append([[x,y],[None,[int(i[x,y]) for i in dammask_after['mask']]],np.concatenate([pre_patch[0][:,x,y],post_patch[0][:,x,y]],axis=0),np.concatenate([pre_patch[1][:,x,y],post_patch[1][:,x,y]],axis=0)])\n",
    "                                                        zz[x,y]=1\n",
    "                if dammask_after is None:\n",
    "                        for x in range(shape[1]):\n",
    "                                for y in range(shape[2]):\n",
    "                                        \n",
    "                                        if (pre_patch[0][:,x,y]==0).any() or (post_patch[0][:,x,y]==0).any() or (pre_patch[1][:,x,y]==0).any() or (post_patch[1][:,x,y]==0).any():\n",
    "                                                continue\n",
    "                                        else:\n",
    "                                                if dammask_before['mask'][0][x,y]>0:\n",
    "                                                        samples.append([[x,y],[[int(i[x,y]) for i in dammask_before['mask']],None],np.concatenate([pre_patch[0][:,x,y],post_patch[0][:,x,y]],axis=0),np.concatenate([pre_patch[1][:,x,y],post_patch[1][:,x,y]],axis=0)])\n",
    "                                                        zz[x,y]=1\n",
    "                if dammask_before is not None and dammask_after is not None:\n",
    "                        for x in range(shape[1]):\n",
    "                                for y in range(shape[2]):\n",
    "                                        \n",
    "                                        if (pre_patch[0][:,x,y]==0).any() or (post_patch[0][:,x,y]==0).any() or (pre_patch[1][:,x,y]==0).any() or (post_patch[1][:,x,y]==0).any():\n",
    "                                                continue\n",
    "                                        else:\n",
    "                                                if (dammask_after['mask'][0][x,y]>0 and dammask_before['mask'][0][x,y]>0) or (dammask_after['mask'][0][x,y]==0 and dammask_before['mask'][0][x,y]==0):\n",
    "                                                        samples.append([[x,y],[[int(i[x,y]) for i in dammask_before['mask']],[int(i[x,y]) for i in dammask_after['mask']]],np.concatenate([pre_patch[0][:,x,y],post_patch[0][:,x,y]],axis=0),np.concatenate([pre_patch[1][:,x,y],post_patch[1][:,x,y]],axis=0)])\n",
    "                                                        zz[x,y]=1\n",
    "                                        \n",
    "        return samples,zz"
   ]
  },
  {
   "cell_type": "code",
   "execution_count": 194,
   "metadata": {},
   "outputs": [
    {
     "data": {
      "text/plain": [
       "{'Azovstal': {'A': None,\n",
       "  'B': '/home/hk/python_script/Ukraine/data/UNOSAT/Azovstal_0425/Azovstal_B_2022-04-25_size_6_dammask.pth.tar',\n",
       "  'Z': None}}"
      ]
     },
     "execution_count": 194,
     "metadata": {},
     "output_type": "execute_result"
    }
   ],
   "source": [
    "dammasks_path={'Azovstal':{'A':None,'B':'/home/hk/python_script/Ukraine/data/UNOSAT/Azovstal_0425/Azovstal_B_2022-04-25_size_6_dammask.pth.tar','Z':None}}\n",
    "dammasks_path"
   ]
  },
  {
   "cell_type": "code",
   "execution_count": 195,
   "metadata": {},
   "outputs": [
    {
     "data": {
      "text/plain": [
       "{'Azovstal': {'A': ['/data4/Ukraine_img/M_and_L/20210910T082601_20210910T083119_T37TCN_size_6_Azovstal_info.pth'],\n",
       "  'A-B': ['/data4/Ukraine_img/M_and_L/20220227T082911_20220227T083303_T37TCN2_size_6_Azovstal_info.pth',\n",
       "   '/data4/Ukraine_img/M_and_L/20220309T082801_20220309T083304_T37TCN2_size_6_Azovstal_info.pth',\n",
       "   '/data4/Ukraine_img/M_and_L/20220314T082719_20220314T083610_T37TCN2_size_6_Azovstal_info.pth',\n",
       "   '/data4/Ukraine_img/M_and_L/20220319T082651_20220319T083304_T37TCN2_size_6_Azovstal_info.pth',\n",
       "   '/data4/Ukraine_img/M_and_L/20220324T082609_20220324T083426_T37TCN2_size_6_Azovstal_info.pth',\n",
       "   '/data4/Ukraine_img/M_and_L/20220329T082601_20220329T083216_T37TCN2_size_6_Azovstal_info.pth',\n",
       "   '/data4/Ukraine_img/M_and_L/20220403T082559_20220403T083553_T37TCN2_size_6_Azovstal_info.pth'],\n",
       "  'B': [],\n",
       "  'B-Z': ['/data4/Ukraine_img/M_and_L/20220428T082611_20220428T083305_T37TCN2_size_6_Azovstal_info.pth',\n",
       "   '/data4/Ukraine_img/M_and_L/20220503T082559_20220503T083512_T37TCN2_size_6_Azovstal_info.pth',\n",
       "   '/data4/Ukraine_img/M_and_L/20220508T082611_20220508T083304_T37TCN2_size_6_Azovstal_info.pth',\n",
       "   '/data4/Ukraine_img/M_and_L/20220523T082559_20220523T082946_T37TCN2_size_6_Azovstal_info.pth',\n",
       "   '/data4/Ukraine_img/M_and_L/20220528T082611_20220528T083641_T37TCN2_size_6_Azovstal_info.pth',\n",
       "   '/data4/Ukraine_img/M_and_L/20220602T082559_20220602T082807_T37TCN2_size_6_Azovstal_info.pth',\n",
       "   '/data4/Ukraine_img/M_and_L/20220607T082611_20220607T083435_T37TCN2_size_6_Azovstal_info.pth',\n",
       "   '/data4/Ukraine_img/M_and_L/20220612T082609_20220612T082840_T37TCN2_size_6_Azovstal_info.pth',\n",
       "   '/data4/Ukraine_img/M_and_L/20220617T082611_20220617T083253_T37TCN2_size_6_Azovstal_info.pth',\n",
       "   '/data4/Ukraine_img/M_and_L/20220622T082609_20220622T082834_T37TCN2_size_6_Azovstal_info.pth',\n",
       "   '/data4/Ukraine_img/M_and_L/20220627T082621_20220627T083534_T37TCN2_size_6_Azovstal_info.pth']}}"
      ]
     },
     "execution_count": 195,
     "metadata": {},
     "output_type": "execute_result"
    }
   ],
   "source": [
    "img_pathes={}\n",
    "img_pathes1={}\n",
    "img_pathes1['A']=[fs[0]]\n",
    "img_pathes1['A-B']=fs[1:8]\n",
    "img_pathes1['B']=[]\n",
    "img_pathes1['B-Z']=fs[8:]\n",
    "img_pathes['Azovstal']=img_pathes1\n",
    "img_pathes"
   ]
  },
  {
   "cell_type": "code",
   "execution_count": 196,
   "metadata": {},
   "outputs": [
    {
     "name": "stdout",
     "output_type": "stream",
     "text": [
      "-------------------------------------\n",
      "['A', 'A-B', 'B', 'B-Z']\n",
      "\n",
      "\n",
      "A-B\n",
      "loading mask: B\n",
      "/home/hk/python_script/Ukraine/data/UNOSAT/Azovstal_0425/Azovstal_B_2022-04-25_size_6_dammask.pth.tar\n",
      "load img: A-B\n",
      "['/data4/Ukraine_img/M_and_L/20220227T082911_20220227T083303_T37TCN2_size_6_Azovstal_info.pth', '/data4/Ukraine_img/M_and_L/20220309T082801_20220309T083304_T37TCN2_size_6_Azovstal_info.pth', '/data4/Ukraine_img/M_and_L/20220314T082719_20220314T083610_T37TCN2_size_6_Azovstal_info.pth', '/data4/Ukraine_img/M_and_L/20220319T082651_20220319T083304_T37TCN2_size_6_Azovstal_info.pth', '/data4/Ukraine_img/M_and_L/20220324T082609_20220324T083426_T37TCN2_size_6_Azovstal_info.pth', '/data4/Ukraine_img/M_and_L/20220329T082601_20220329T083216_T37TCN2_size_6_Azovstal_info.pth', '/data4/Ukraine_img/M_and_L/20220403T082559_20220403T083553_T37TCN2_size_6_Azovstal_info.pth']\n",
      "/data4/Ukraine_img/M_and_L/20220227T082911_20220227T083303_T37TCN2_size_6_Azovstal_info.pth\n"
     ]
    },
    {
     "name": "stderr",
     "output_type": "stream",
     "text": [
      "Clipping input data to the valid range for imshow with RGB data ([0..1] for floats or [0..255] for integers).\n"
     ]
    },
    {
     "data": {
      "image/png": "[encoded data removed]",
      "text/plain": [
       "<Figure size 432x288 with 1 Axes>"
      ]
     },
     "metadata": {
      "needs_background": "light"
     },
     "output_type": "display_data"
    },
    {
     "name": "stdout",
     "output_type": "stream",
     "text": [
      "(4, 367, 607, 6, 6)\n",
      "writing samples 723\n",
      "/data4/Ukraine_img/M_and_L/20220309T082801_20220309T083304_T37TCN2_size_6_Azovstal_info.pth\n"
     ]
    },
    {
     "name": "stderr",
     "output_type": "stream",
     "text": [
      "Clipping input data to the valid range for imshow with RGB data ([0..1] for floats or [0..255] for integers).\n"
     ]
    },
    {
     "data": {
      "image/png": "[encoded data removed]",
      "text/plain": [
       "<Figure size 432x288 with 1 Axes>"
      ]
     },
     "metadata": {
      "needs_background": "light"
     },
     "output_type": "display_data"
    },
    {
     "name": "stdout",
     "output_type": "stream",
     "text": [
      "(4, 367, 607, 6, 6)\n",
      "writing samples 288\n",
      "/data4/Ukraine_img/M_and_L/20220314T082719_20220314T083610_T37TCN2_size_6_Azovstal_info.pth\n"
     ]
    },
    {
     "name": "stderr",
     "output_type": "stream",
     "text": [
      "Clipping input data to the valid range for imshow with RGB data ([0..1] for floats or [0..255] for integers).\n"
     ]
    },
    {
     "data": {
      "image/png": "[encoded data removed]",
      "text/plain": [
       "<Figure size 432x288 with 1 Axes>"
      ]
     },
     "metadata": {
      "needs_background": "light"
     },
     "output_type": "display_data"
    },
    {
     "name": "stdout",
     "output_type": "stream",
     "text": [
      "(4, 367, 607, 6, 6)\n",
      "writing samples 2606\n",
      "/data4/Ukraine_img/M_and_L/20220319T082651_20220319T083304_T37TCN2_size_6_Azovstal_info.pth\n"
     ]
    },
    {
     "name": "stderr",
     "output_type": "stream",
     "text": [
      "Clipping input data to the valid range for imshow with RGB data ([0..1] for floats or [0..255] for integers).\n"
     ]
    },
    {
     "data": {
      "image/png": "[encoded data removed]",
      "text/plain": [
       "<Figure size 432x288 with 1 Axes>"
      ]
     },
     "metadata": {
      "needs_background": "light"
     },
     "output_type": "display_data"
    },
    {
     "name": "stdout",
     "output_type": "stream",
     "text": [
      "(4, 367, 607, 6, 6)\n",
      "writing samples 3616\n",
      "/data4/Ukraine_img/M_and_L/20220324T082609_20220324T083426_T37TCN2_size_6_Azovstal_info.pth\n"
     ]
    },
    {
     "name": "stderr",
     "output_type": "stream",
     "text": [
      "Clipping input data to the valid range for imshow with RGB data ([0..1] for floats or [0..255] for integers).\n"
     ]
    },
    {
     "data": {
      "image/png": "[encoded data removed]",
      "text/plain": [
       "<Figure size 432x288 with 1 Axes>"
      ]
     },
     "metadata": {
      "needs_background": "light"
     },
     "output_type": "display_data"
    },
    {
     "name": "stdout",
     "output_type": "stream",
     "text": [
      "(4, 367, 607, 6, 6)\n",
      "writing samples 3616\n",
      "/data4/Ukraine_img/M_and_L/20220329T082601_20220329T083216_T37TCN2_size_6_Azovstal_info.pth\n"
     ]
    },
    {
     "name": "stderr",
     "output_type": "stream",
     "text": [
      "Clipping input data to the valid range for imshow with RGB data ([0..1] for floats or [0..255] for integers).\n"
     ]
    },
    {
     "data": {
      "image/png": "[encoded data removed]",
      "text/plain": [
       "<Figure size 432x288 with 1 Axes>"
      ]
     },
     "metadata": {
      "needs_background": "light"
     },
     "output_type": "display_data"
    },
    {
     "name": "stdout",
     "output_type": "stream",
     "text": [
      "(4, 367, 607, 6, 6)\n",
      "writing samples 3616\n",
      "/data4/Ukraine_img/M_and_L/20220403T082559_20220403T083553_T37TCN2_size_6_Azovstal_info.pth\n"
     ]
    },
    {
     "data": {
      "image/png": "[encoded data removed]",
      "text/plain": [
       "<Figure size 432x288 with 1 Axes>"
      ]
     },
     "metadata": {
      "needs_background": "light"
     },
     "output_type": "display_data"
    },
    {
     "name": "stdout",
     "output_type": "stream",
     "text": [
      "(4, 367, 607, 6, 6)\n",
      "writing samples 0\n"
     ]
    },
    {
     "name": "stderr",
     "output_type": "stream",
     "text": [
      "0it [00:00, ?it/s]\n"
     ]
    },
    {
     "name": "stdout",
     "output_type": "stream",
     "text": [
      "\n",
      "\n",
      "B\n",
      "loading mask: B\n",
      "/home/hk/python_script/Ukraine/data/UNOSAT/Azovstal_0425/Azovstal_B_2022-04-25_size_6_dammask.pth.tar\n",
      "\n",
      "\n",
      "B-Z\n",
      "loading mask: B\n",
      "/home/hk/python_script/Ukraine/data/UNOSAT/Azovstal_0425/Azovstal_B_2022-04-25_size_6_dammask.pth.tar\n",
      "load img: B-Z\n",
      "['/data4/Ukraine_img/M_and_L/20220428T082611_20220428T083305_T37TCN2_size_6_Azovstal_info.pth', '/data4/Ukraine_img/M_and_L/20220503T082559_20220503T083512_T37TCN2_size_6_Azovstal_info.pth', '/data4/Ukraine_img/M_and_L/20220508T082611_20220508T083304_T37TCN2_size_6_Azovstal_info.pth', '/data4/Ukraine_img/M_and_L/20220523T082559_20220523T082946_T37TCN2_size_6_Azovstal_info.pth', '/data4/Ukraine_img/M_and_L/20220528T082611_20220528T083641_T37TCN2_size_6_Azovstal_info.pth', '/data4/Ukraine_img/M_and_L/20220602T082559_20220602T082807_T37TCN2_size_6_Azovstal_info.pth', '/data4/Ukraine_img/M_and_L/20220607T082611_20220607T083435_T37TCN2_size_6_Azovstal_info.pth', '/data4/Ukraine_img/M_and_L/20220612T082609_20220612T082840_T37TCN2_size_6_Azovstal_info.pth', '/data4/Ukraine_img/M_and_L/20220617T082611_20220617T083253_T37TCN2_size_6_Azovstal_info.pth', '/data4/Ukraine_img/M_and_L/20220622T082609_20220622T082834_T37TCN2_size_6_Azovstal_info.pth', '/data4/Ukraine_img/M_and_L/20220627T082621_20220627T083534_T37TCN2_size_6_Azovstal_info.pth']\n",
      "/data4/Ukraine_img/M_and_L/20220428T082611_20220428T083305_T37TCN2_size_6_Azovstal_info.pth\n"
     ]
    },
    {
     "data": {
      "image/png": "[encoded data removed]",
      "text/plain": [
       "<Figure size 432x288 with 1 Axes>"
      ]
     },
     "metadata": {
      "needs_background": "light"
     },
     "output_type": "display_data"
    },
    {
     "name": "stdout",
     "output_type": "stream",
     "text": [
      "(4, 367, 607, 6, 6)\n",
      "writing samples 0\n"
     ]
    },
    {
     "name": "stderr",
     "output_type": "stream",
     "text": [
      "Clipping input data to the valid range for imshow with RGB data ([0..1] for floats or [0..255] for integers).\n"
     ]
    },
    {
     "name": "stdout",
     "output_type": "stream",
     "text": [
      "/data4/Ukraine_img/M_and_L/20220503T082559_20220503T083512_T37TCN2_size_6_Azovstal_info.pth\n"
     ]
    },
    {
     "data": {
      "image/png": "[encoded data removed]",
      "text/plain": [
       "<Figure size 432x288 with 1 Axes>"
      ]
     },
     "metadata": {
      "needs_background": "light"
     },
     "output_type": "display_data"
    },
    {
     "name": "stdout",
     "output_type": "stream",
     "text": [
      "(4, 367, 607, 6, 6)\n",
      "writing samples 41\n",
      "/data4/Ukraine_img/M_and_L/20220508T082611_20220508T083304_T37TCN2_size_6_Azovstal_info.pth\n"
     ]
    },
    {
     "name": "stderr",
     "output_type": "stream",
     "text": [
      "Clipping input data to the valid range for imshow with RGB data ([0..1] for floats or [0..255] for integers).\n"
     ]
    },
    {
     "data": {
      "image/png": "[encoded data removed]",
      "text/plain": [
       "<Figure size 432x288 with 1 Axes>"
      ]
     },
     "metadata": {
      "needs_background": "light"
     },
     "output_type": "display_data"
    },
    {
     "name": "stdout",
     "output_type": "stream",
     "text": [
      "(4, 367, 607, 6, 6)\n",
      "writing samples 44\n"
     ]
    },
    {
     "name": "stderr",
     "output_type": "stream",
     "text": [
      "Clipping input data to the valid range for imshow with RGB data ([0..1] for floats or [0..255] for integers).\n"
     ]
    },
    {
     "name": "stdout",
     "output_type": "stream",
     "text": [
      "/data4/Ukraine_img/M_and_L/20220523T082559_20220523T082946_T37TCN2_size_6_Azovstal_info.pth\n"
     ]
    },
    {
     "data": {
      "image/png": "[encoded data removed]",
      "text/plain": [
       "<Figure size 432x288 with 1 Axes>"
      ]
     },
     "metadata": {
      "needs_background": "light"
     },
     "output_type": "display_data"
    },
    {
     "name": "stdout",
     "output_type": "stream",
     "text": [
      "(4, 367, 607, 6, 6)\n",
      "writing samples 13\n",
      "/data4/Ukraine_img/M_and_L/20220528T082611_20220528T083641_T37TCN2_size_6_Azovstal_info.pth\n"
     ]
    },
    {
     "name": "stderr",
     "output_type": "stream",
     "text": [
      "Clipping input data to the valid range for imshow with RGB data ([0..1] for floats or [0..255] for integers).\n"
     ]
    },
    {
     "data": {
      "image/png": "[encoded data removed]",
      "text/plain": [
       "<Figure size 432x288 with 1 Axes>"
      ]
     },
     "metadata": {
      "needs_background": "light"
     },
     "output_type": "display_data"
    },
    {
     "name": "stdout",
     "output_type": "stream",
     "text": [
      "(4, 367, 607, 6, 6)\n",
      "writing samples 44\n",
      "/data4/Ukraine_img/M_and_L/20220602T082559_20220602T082807_T37TCN2_size_6_Azovstal_info.pth\n"
     ]
    },
    {
     "name": "stderr",
     "output_type": "stream",
     "text": [
      "Clipping input data to the valid range for imshow with RGB data ([0..1] for floats or [0..255] for integers).\n"
     ]
    },
    {
     "data": {
      "image/png": "[encoded data removed]",
      "text/plain": [
       "<Figure size 432x288 with 1 Axes>"
      ]
     },
     "metadata": {
      "needs_background": "light"
     },
     "output_type": "display_data"
    },
    {
     "name": "stdout",
     "output_type": "stream",
     "text": [
      "(4, 367, 607, 6, 6)\n",
      "writing samples 44\n",
      "/data4/Ukraine_img/M_and_L/20220607T082611_20220607T083435_T37TCN2_size_6_Azovstal_info.pth\n"
     ]
    },
    {
     "name": "stderr",
     "output_type": "stream",
     "text": [
      "Clipping input data to the valid range for imshow with RGB data ([0..1] for floats or [0..255] for integers).\n"
     ]
    },
    {
     "data": {
      "image/png": "[encoded data removed]",
      "text/plain": [
       "<Figure size 432x288 with 1 Axes>"
      ]
     },
     "metadata": {
      "needs_background": "light"
     },
     "output_type": "display_data"
    },
    {
     "name": "stdout",
     "output_type": "stream",
     "text": [
      "(4, 367, 607, 6, 6)\n",
      "writing samples 44\n",
      "/data4/Ukraine_img/M_and_L/20220612T082609_20220612T082840_T37TCN2_size_6_Azovstal_info.pth\n"
     ]
    },
    {
     "name": "stderr",
     "output_type": "stream",
     "text": [
      "Clipping input data to the valid range for imshow with RGB data ([0..1] for floats or [0..255] for integers).\n"
     ]
    },
    {
     "data": {
      "image/png": "[encoded data removed]",
      "text/plain": [
       "<Figure size 432x288 with 1 Axes>"
      ]
     },
     "metadata": {
      "needs_background": "light"
     },
     "output_type": "display_data"
    },
    {
     "name": "stdout",
     "output_type": "stream",
     "text": [
      "(4, 367, 607, 6, 6)\n",
      "writing samples 13\n",
      "/data4/Ukraine_img/M_and_L/20220617T082611_20220617T083253_T37TCN2_size_6_Azovstal_info.pth\n"
     ]
    },
    {
     "name": "stderr",
     "output_type": "stream",
     "text": [
      "Clipping input data to the valid range for imshow with RGB data ([0..1] for floats or [0..255] for integers).\n"
     ]
    },
    {
     "data": {
      "image/png": "[encoded data removed]",
      "text/plain": [
       "<Figure size 432x288 with 1 Axes>"
      ]
     },
     "metadata": {
      "needs_background": "light"
     },
     "output_type": "display_data"
    },
    {
     "name": "stdout",
     "output_type": "stream",
     "text": [
      "(4, 367, 607, 6, 6)\n",
      "writing samples 44\n"
     ]
    },
    {
     "name": "stderr",
     "output_type": "stream",
     "text": [
      "Clipping input data to the valid range for imshow with RGB data ([0..1] for floats or [0..255] for integers).\n"
     ]
    },
    {
     "name": "stdout",
     "output_type": "stream",
     "text": [
      "/data4/Ukraine_img/M_and_L/20220622T082609_20220622T082834_T37TCN2_size_6_Azovstal_info.pth\n"
     ]
    },
    {
     "data": {
      "image/png": "[encoded data removed]",
      "text/plain": [
       "<Figure size 432x288 with 1 Axes>"
      ]
     },
     "metadata": {
      "needs_background": "light"
     },
     "output_type": "display_data"
    },
    {
     "name": "stdout",
     "output_type": "stream",
     "text": [
      "(4, 367, 607, 6, 6)\n",
      "writing samples 28\n",
      "/data4/Ukraine_img/M_and_L/20220627T082621_20220627T083534_T37TCN2_size_6_Azovstal_info.pth\n"
     ]
    },
    {
     "data": {
      "image/png": "[encoded data removed]",
      "text/plain": [
       "<Figure size 432x288 with 1 Axes>"
      ]
     },
     "metadata": {
      "needs_background": "light"
     },
     "output_type": "display_data"
    },
    {
     "name": "stdout",
     "output_type": "stream",
     "text": [
      "(4, 367, 607, 6, 6)\n",
      "writing samples 0\n"
     ]
    },
    {
     "name": "stderr",
     "output_type": "stream",
     "text": [
      "0it [00:00, ?it/s]\n"
     ]
    }
   ],
   "source": [
    "# city='Azovstal'\n",
    "cities=dammasks_path.keys()\n",
    "for city in cities:\n",
    "    print('-------------------------------------')\n",
    "    cityimg_pathes10=img_pathes[city]\n",
    "\n",
    "    # print(city)\n",
    "    masks10=dammasks_path[city]\n",
    "\n",
    "    # print(masks)\n",
    "    k_interval=list(cityimg_pathes10.keys())\n",
    "\n",
    "    print(k_interval)\n",
    "    k_interval.remove('A')\n",
    "    for k_ in k_interval:\n",
    "        print()\n",
    "        print()\n",
    "        print(k_)\n",
    "        if len(k_)==1:\n",
    "            print('loading mask:',k_)\n",
    "            print(masks10[k_])\n",
    "            mask_now=torch.load(masks10[k_])\n",
    "            mask_before=None\n",
    "            mask_after=None\n",
    "        else:\n",
    "            if 'A' in k_:\n",
    "                print('loading mask:',k_[2])\n",
    "                print(masks10[k_[2]])\n",
    "                mask_now=None\n",
    "                mask_before=None\n",
    "                mask_after=torch.load(masks10[k_[2]])\n",
    "            elif 'Z' in k_:\n",
    "                print('loading mask:',k_[0])\n",
    "                print(masks10[k_[0]])\n",
    "                mask_now=None\n",
    "                mask_before=torch.load(masks10[k_[0]])\n",
    "                mask_after=None\n",
    "            else:\n",
    "                print('loading mask:',k_[0],'and',k_[2])\n",
    "                print(masks10[k_[0]])\n",
    "                print(masks10[k_[2]])\n",
    "                mask_now=None\n",
    "                mask_before=torch.load(masks10[k_[0]])\n",
    "                mask_after=torch.load(masks10[k_[2]])  \n",
    "        pre10_path=cityimg_pathes10['A'][0]\n",
    "        pre_info=torch.load(pre10_path)\n",
    "        pre_img=[pre_info['img10'],pre_info['img20']]\n",
    "        post10_pathes=cityimg_pathes10[k_]\n",
    "        if len(post10_pathes)==0:\n",
    "            continue\n",
    "        post10_pathes.sort()\n",
    "        print('load img:',k_)\n",
    "        print(post10_pathes)\n",
    "        for post10_path in post10_pathes:\n",
    "            print(post10_path)\n",
    "            post_info=torch.load(post10_path)\n",
    "            post_img=[post_info['img10'],post_info['img20']]\n",
    "            plt.imshow(post_img[0][:3,:,:,1,1].transpose((1,2,0)))\n",
    "            plt.show()\n",
    "            samples,zz=get_samples(pre_img,post_img,mask_after,mask_now,mask_before)\n",
    "            print('writing samples',len(samples))\n",
    "            time.sleep(2)\n",
    "\n",
    "            samples_root='/ssd/hk/Ukraine_samples/samplesv2/samples_Azovstal/'\n",
    "            img_id=os.path.basename(post10_path).split('_size')[0].replace('_','-')\n",
    "\n",
    "            samples_pathes=[samples_root+f'{city}_{img_id}_{str(i[0][0]).zfill(3)+str(i[0][1]).zfill(3)}.pth' for i in samples]\n",
    "            info=[]\n",
    "\n",
    "            for i in tqdm(range(len(samples))):\n",
    "                    # '5层分别为完全 严重 中等 以及损毁得分和类型\\n得分:完全算6分 严重算3分 中等算1分 其他0分\\n类型0:得分0 类型1:得分1-5 类型2:得分大于6'\n",
    "                    info.append([samples_pathes[i],samples[i][0],samples[i][1]])\n",
    "                    torch.save(samples[i],samples_pathes[i])\n",
    "            info_dict={'readme':'4个字段\\n 1:pre图像路径\\n 2:post图像路径\\n 3:图像坐标\\n 4:损毁信息\\n 损毁信息有5层\\n 5层分别为完全 严重 中等 以及损毁得分和类型\\n得分:完全算6分 严重算3分 中等算1分 其他0分\\n类型0:得分0 类型1:得分1-5 类型2:得分大于6', 'info':info}\n",
    "            torch.save(info_dict,f'/ssd/hk/Ukraine_samples/samplesv2/{city}_{img_id}_samples_info.pth')\n",
    "            # if post10_path=='/data4/Ukraine_img/U_band2348/20220314T082719_20220314T083610_T37TDN_cut_reprojection_size_6_area1_info.pth':\n",
    "            #     raise"
   ]
  },
  {
   "cell_type": "markdown",
   "metadata": {},
   "source": [
    "# 创建samples_slip文件"
   ]
  },
  {
   "cell_type": "code",
   "execution_count": 197,
   "metadata": {},
   "outputs": [
    {
     "name": "stdout",
     "output_type": "stream",
     "text": [
      "Azovstal\n",
      "/data4/Ukraine_img/M_and_L/20210910T082601_20210910T083119_T37TCN_size_6_Azovstal_info.pth\n",
      "t:2561   v:1099\n"
     ]
    },
    {
     "data": {
      "image/png": "[encoded data removed]",
      "text/plain": [
       "<Figure size 432x288 with 2 Axes>"
      ]
     },
     "metadata": {
      "needs_background": "light"
     },
     "output_type": "display_data"
    }
   ],
   "source": [
    "size=6\n",
    "\n",
    "print(city)\n",
    "if 'C' in list(dammasks_path[city].keys()):\n",
    "    dammask_path=dammasks_path[city]['C']\n",
    "else:\n",
    "    dammask_path=dammasks_path[city]['B']\n",
    "\n",
    "dammask=torch.load(dammask_path)['mask'][0]\n",
    "# plt.imshow(dammask)\n",
    "# plt.show()\n",
    "mask_path=img_pathes[city]['A'][0]\n",
    "print(mask_path)\n",
    "mask=torch.load(mask_path)['img10'][0]\n",
    "mask[mask>0]=1\n",
    "# plt.imshow(mask[:,:,0,0])\n",
    "# plt.show()\n",
    "shape=mask.shape\n",
    "\n",
    "\n",
    "\n",
    "\n",
    "sample_mask=np.zeros((shape[0],shape[1]))\n",
    "sample_p=[]\n",
    "sample_n=[]\n",
    "for x in range(shape[0]):\n",
    "    for y in range(shape[1]):\n",
    "        if dammask[x,y]>0:\n",
    "            sample_mask[x,y]=1\n",
    "        if (mask[x,y]==0).any() and (mask[x,y]==0).any():\n",
    "            sample_mask[x,y]=-1\n",
    "        if sample_mask[x,y]==1:\n",
    "            sample_p.append([x,y])\n",
    "        elif sample_mask[x,y]==0:\n",
    "            sample_n.append([x,y])\n",
    "\n",
    "p_coord=[str(i[0]).zfill(3)+str(i[1]).zfill(3) for i in sample_p]\n",
    "n_coord=[str(i[0]).zfill(3)+str(i[1]).zfill(3) for i in sample_n]\n",
    "random.shuffle(p_coord)\n",
    "random.shuffle(n_coord)\n",
    "p_t_coord=p_coord[:int(len(p_coord)*0.7)]\n",
    "p_v_coord=p_coord[int(len(p_coord)*0.7):]\n",
    "n_t_coord=n_coord[:int(len(n_coord)*0.7)]\n",
    "n_v_coord=n_coord[int(len(n_coord)*0.7):]\n",
    "t=p_t_coord+n_t_coord\n",
    "v=p_v_coord+n_v_coord\n",
    "random.shuffle(t)\n",
    "random.shuffle(v)\n",
    "print(f't:{len(t)}   v:{len(v)}')\n",
    "torch.save(t,f'/ssd/hk/Ukraine_samples/coords_splitv2/{city}_train.pth')\n",
    "torch.save(v,f'/ssd/hk/Ukraine_samples/coords_splitv2/{city}_val.pth')\n",
    "# plt.figure(figsize=(15,15))\n",
    "plt.imshow(sample_mask)\n",
    "plt.colorbar()\n",
    "plt.show()\n",
    "\n"
   ]
  },
  {
   "cell_type": "code",
   "execution_count": null,
   "metadata": {},
   "outputs": [],
   "source": [
    "'Azovstal'"
   ]
  },
  {
   "cell_type": "code",
   "execution_count": 199,
   "metadata": {},
   "outputs": [
    {
     "name": "stdout",
     "output_type": "stream",
     "text": [
      "2561 1099\n",
      "14780\n",
      "match train\n"
     ]
    },
    {
     "name": "stderr",
     "output_type": "stream",
     "text": [
      "100%|██████████| 2561/2561 [00:33<00:00, 77.18it/s]\n"
     ]
    },
    {
     "name": "stdout",
     "output_type": "stream",
     "text": [
      "match val\n"
     ]
    },
    {
     "name": "stderr",
     "output_type": "stream",
     "text": [
      "100%|██████████| 1099/1099 [00:14<00:00, 77.13it/s]\n"
     ]
    }
   ],
   "source": [
    "def match(string,input_list):\n",
    "    new_data_list=[i for i in input_list if  re.match(string, i[0]) != None]\n",
    "    return new_data_list\n",
    "t=[]\n",
    "v=[]\n",
    "city_sample=[]\n",
    "for i in glob('/ssd/hk/Ukraine_samples/coords_splitv2/Azovstal*train.pth'):\n",
    "    t+=torch.load(i)\n",
    "    v+=torch.load(i.replace('train','val'))\n",
    "print(len(t),len(v))\n",
    "for i in glob('/ssd/hk/Ukraine_samples/samplesv2/Azovstal*.pth'):\n",
    "    city_sample+=torch.load(i)['info']\n",
    "print(len(city_sample))\n",
    "\n",
    "for i in range(len(city_sample)):\n",
    "    if len(city_sample[i][2])==2:\n",
    "        if city_sample[i][2][0] is not None:\n",
    "            city_sample[i][2]=city_sample[i][2][0]\n",
    "        else:\n",
    "            city_sample[i][2]=city_sample[i][2][1]\n",
    "city_pathes=[[i[0],'n'] if i[2][0]==0 else [i[0],'p'] for i in city_sample]\n",
    "random.shuffle(city_pathes)\n",
    "import re\n",
    "city_coord_sample={}\n",
    "city_coord_sample['train']={}\n",
    "city_coord_sample['val']={}\n",
    "print('match train')\n",
    "time.sleep(2)\n",
    "for i in tqdm(t):\n",
    "    a=match(f'.*{i}.pth',city_pathes)\n",
    "    a.sort()\n",
    "    city_coord_sample['train'][i]=a\n",
    "print('match val')\n",
    "time.sleep(2)\n",
    "for i in tqdm(v):\n",
    "    a=match(f'.*{i}.pth',city_pathes)\n",
    "    a.sort()\n",
    "    city_coord_sample['val'][i]=a\n",
    "torch.save(city_coord_sample,f'/ssd/hk/Ukraine_samples/split_coordv2_Azovstal_v2/samples.pth') \n",
    "\n",
    "\n",
    "\n",
    "t=[]\n",
    "for i in city_coord_sample['train'].keys():\n",
    "    t+=city_coord_sample['train'][i]\n",
    "v=[]\n",
    "for i in city_coord_sample['val'].keys():\n",
    "    v+=city_coord_sample['val'][i]\n",
    "random.shuffle(t)\n",
    "random.shuffle(v)\n",
    "# torch.save(t,f'/ssd/hk/Ukraine_samples/split_coordv2_v2/train.pth') \n",
    "# torch.save(v,f'/ssd/hk/Ukraine_samples/split_coordv2_v2/val.pth') "
   ]
  },
  {
   "cell_type": "code",
   "execution_count": 200,
   "metadata": {},
   "outputs": [],
   "source": [
    "torch.save(t,f'/ssd/hk/Ukraine_samples/'p'/train.pth') \n",
    "torch.save(v,f'/ssd/hk/Ukraine_samples/split_coordv2_Azovstal_v2/val.pth') "
   ]
  },
  {
   "cell_type": "code",
   "execution_count": 206,
   "metadata": {},
   "outputs": [
    {
     "name": "stdout",
     "output_type": "stream",
     "text": [
      "10343\n"
     ]
    },
    {
     "data": {
      "text/plain": [
       "216"
      ]
     },
     "execution_count": 206,
     "metadata": {},
     "output_type": "execute_result"
    }
   ],
   "source": [
    "print(len(t))\n",
    "len([i  for i in t if i[1]=='p'])\n"
   ]
  },
  {
   "cell_type": "code",
   "execution_count": 207,
   "metadata": {},
   "outputs": [
    {
     "name": "stdout",
     "output_type": "stream",
     "text": [
      "4437\n"
     ]
    },
    {
     "data": {
      "text/plain": [
       "99"
      ]
     },
     "execution_count": 207,
     "metadata": {},
     "output_type": "execute_result"
    }
   ],
   "source": [
    "print(len(v))\n",
    "len([i  for i in v if i[1]=='p'])"
   ]
  },
  {
   "cell_type": "code",
   "execution_count": 214,
   "metadata": {},
   "outputs": [],
   "source": [
    "import gdal\n",
    "import torch\n",
    "s=torch.load('/ssd/hk/Ukraine_samples/split_coordv2_Azovstal_v2/samples.pth')\n",
    "tt=[]\n",
    "for i in s['train'].keys():\n",
    "    t_p=[j[0] for j in s['train'][i]]+[None]*(20-len(s['train'][i]))\n",
    "    t_l=[j[1] for j in s['train'][i]]+[None]*(20-len(s['train'][i]))\n",
    "    tt.append([t_p,t_l])\n",
    "vv=[]\n",
    "for i in s['val'].keys():\n",
    "    t_p=[j[0] for j in s['val'][i]]+[None]*(20-len(s['val'][i]))\n",
    "    t_l=[j[1] for j in s['val'][i]]+[None]*(20-len(s['val'][i]))\n",
    "    vv.append([t_p,t_l])\n",
    "print(len(tt),len(vv))\n",
    "torch.save(tt,'/ssd/hk/Ukraine_samples/split_coordv2_Azovstal_v3/train.pth')\n",
    "torch.save(vv,'/ssd/hk/Ukraine_samples/split_coordv2_Azovstal_v3/val.pth')"
   ]
  },
  {
   "cell_type": "code",
   "execution_count": 229,
   "metadata": {},
   "outputs": [],
   "source": [
    "tt=torch.load('/ssd/hk/Ukraine_samples/split_coordv2_Azovstal_v3/train.pth')+torch.load('/ssd/hk/Ukraine_samples/split_coordv2_v3/train.pth')\n",
    "vv=torch.load('/ssd/hk/Ukraine_samples/split_coordv2_Azovstal_v3/val.pth')+torch.load('/ssd/hk/Ukraine_samples/split_coordv2_v3/val.pth')\n",
    "random.shuffle(tt)\n",
    "random.shuffle(vv)\n",
    "torch.save(tt,'/ssd/hk/Ukraine_samples/split_coordv2_all_v3/train.pth')\n",
    "torch.save(vv,'/ssd/hk/Ukraine_samples/split_coordv2_all_v3/val.pth')"
   ]
  },
  {
   "cell_type": "code",
   "execution_count": 244,
   "metadata": {},
   "outputs": [],
   "source": [
    "k=[]\n",
    "for i in tt:\n",
    "    p=[j for j in i[0] if j is not None]\n",
    "    l=[j for j in i[1] if j is not None]\n",
    "    for j in range(len(p)):\n",
    "        k.append([p[j],l[j]])\n",
    "random.shuffle(k)\n",
    "torch.save(k,'/ssd/hk/Ukraine_samples/split_coordv2_v2/cities/M/train.pth')"
   ]
  },
  {
   "cell_type": "code",
   "execution_count": 246,
   "metadata": {},
   "outputs": [
    {
     "name": "stdout",
     "output_type": "stream",
     "text": [
      "49862\n",
      "10343\n",
      "60205\n",
      "21301\n",
      "4437\n",
      "25738\n"
     ]
    }
   ],
   "source": [
    "print(len(torch.load('/ssd/hk/Ukraine_samples/split_coordv2_v2/cities/ML/train.pth')))\n",
    "print(len(torch.load('/ssd/hk/Ukraine_samples/split_coordv2_v2/cities/Azovstal/train.pth')))\n",
    "print(len(torch.load('/ssd/hk/Ukraine_samples/split_coordv2_v2/cities/M/train.pth')))\n",
    "print(len(torch.load('/ssd/hk/Ukraine_samples/split_coordv2_v2/cities/ML/val.pth')))\n",
    "print(len(torch.load('/ssd/hk/Ukraine_samples/split_coordv2_v2/cities/Azovstal/val.pth')))\n",
    "print(len(torch.load('/ssd/hk/Ukraine_samples/split_coordv2_v2/cities/M/val.pth')))"
   ]
  },
  {
   "cell_type": "code",
   "execution_count": 242,
   "metadata": {},
   "outputs": [
    {
     "data": {
      "text/plain": [
       "60205"
      ]
     },
     "execution_count": 242,
     "metadata": {},
     "output_type": "execute_result"
    }
   ],
   "source": [
    "49862+10343"
   ]
  },
  {
   "cell_type": "code",
   "execution_count": 262,
   "metadata": {},
   "outputs": [
    {
     "name": "stdout",
     "output_type": "stream",
     "text": [
      "2561\n",
      "2561\n"
     ]
    }
   ],
   "source": [
    "f=torch.load('/ssd/hk/Ukraine_samples/split_coordv2_v3/cities/Azovstal/train.pth')\n",
    "print(len(f))\n",
    "k=[]\n",
    "for i in f:\n",
    "    z=[j for j in i[0] if j is not None]\n",
    "    if len(z)>0:\n",
    "        k.append(i)\n",
    "print(len(k))\n",
    "f=torch.save(k,'/ssd/hk/Ukraine_samples/split_coordv2_v3/cities/Azovstal/train.pth')"
   ]
  },
  {
   "cell_type": "code",
   "execution_count": null,
   "metadata": {},
   "outputs": [],
   "source": []
  }
 ],
 "metadata": {
  "kernelspec": {
   "display_name": "Python 3.7.7 ('pythonhzy')",
   "language": "python",
   "name": "python3"
  },
  "language_info": {
   "codemirror_mode": {
    "name": "ipython",
    "version": 3
   },
   "file_extension": ".py",
   "mimetype": "text/x-python",
   "name": "python",
   "nbconvert_exporter": "python",
   "pygments_lexer": "ipython3",
   "version": "3.7.7"
  },
  "orig_nbformat": 4,
  "vscode": {
   "interpreter": {
    "hash": "4d718dcce6334846a10299329eb191d6bfc6359cfbd5881c6d9cc2e2d9a36aa3"
   }
  }
 },
 "nbformat": 4,
 "nbformat_minor": 2
}
