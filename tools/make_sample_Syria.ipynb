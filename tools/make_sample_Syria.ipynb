{
 "cells": [
  {
   "cell_type": "code",
   "execution_count": 1,
   "metadata": {},
   "outputs": [],
   "source": [
    "import gdal\n",
    "import numpy as np\n",
    "import pandas as pd\n",
    "import os\n",
    "import geopandas as gpd\n",
    "import matplotlib.pyplot as plt\n",
    "import torch\n",
    "from glob import glob\n",
    "import shapely\n",
    "import random\n",
    "from tqdm import tqdm\n",
    "from collections import Counter\n",
    "from pybob.GeoImg import GeoImg\n",
    "import osr\n",
    "from pybob.image_tools import create_mask_from_shapefile\n",
    "import gc\n",
    "import imageio\n",
    "import time"
   ]
  },
  {
   "cell_type": "code",
   "execution_count": 2,
   "metadata": {},
   "outputs": [],
   "source": [
    "def get_mask(maskshp,geotrf,shape,p='4326'):\n",
    "    img=np.zeros((shape[0],shape[1]))\n",
    "    \n",
    "    if p=='4326':\n",
    "        sref = osr.SpatialReference()\n",
    "        sref.ImportFromEPSG(4326)\n",
    "        proj = sref.ExportToWkt()\n",
    "    else:\n",
    "        proj=p\n",
    "    \n",
    "    trf=(geotrf[0], geotrf[1], geotrf[2], geotrf[3], geotrf[4], geotrf[5])\n",
    "    drv = gdal.GetDriverByName('MEM')\n",
    "    dst = drv.Create('', shape[1], shape[0], 1, gdal.GDT_UInt16)\n",
    "\n",
    "    sp = dst.SetProjection(proj)\n",
    "    sg = dst.SetGeoTransform(trf)\n",
    "\n",
    "    wa = dst.GetRasterBand(1).WriteArray(img)\n",
    "    del wa, sg, sp\n",
    "    img_bob = GeoImg(dst)\n",
    "    mask = create_mask_from_shapefile(img_bob, maskshp)\n",
    "    return mask\n",
    "def read_img(path):\n",
    "    ds=gdal.Open(path)\n",
    "    trf=ds.GetGeoTransform()\n",
    "    img=ds.ReadAsArray()\n",
    "    return {'trf':trf,'img':img}\n",
    "def tif_save_bands(img,save_name,trf,p='4326'):\n",
    "    driver=gdal.GetDriverByName('GTiff')\n",
    "    new_img=driver.Create(save_name,img.shape[2],img.shape[1],img.shape[0],6,['COMPRESS=LZW','BIGTIFF=YES'])\n",
    "    new_img.SetGeoTransform(trf)\n",
    "    \n",
    "    if p=='4326':\n",
    "        sref = osr.SpatialReference()\n",
    "        sref.ImportFromEPSG(4326)\n",
    "        proj = sref.ExportToWkt()\n",
    "    else:\n",
    "        proj=p\n",
    "    new_img.SetProjection(proj)\n",
    "    for i in range(img.shape[0]):\n",
    "        new_img.GetRasterBand(i+1).WriteArray(img[i,:,:])\n",
    "    new_img.FlushCache()\n",
    "    del new_img"
   ]
  },
  {
   "cell_type": "markdown",
   "metadata": {},
   "source": [
    "# 图像预处理"
   ]
  },
  {
   "cell_type": "code",
   "execution_count": 3,
   "metadata": {},
   "outputs": [],
   "source": [
    "shp_root='/home/hk/python_script/Ukraine/data/UNOSAT/Syria/'\n",
    "img_root='/data4/Syria_img/'\n",
    "k=['A','B','C','D','E']\n",
    "name=[os.path.basename(i).split('_')[0] for i in glob(shp_root+'*settlements.shp')]#城市名\n",
    "points_pathes={}#损毁点路径dict\n",
    "img_pathes={}#图像路径dict\n",
    "no_shp_pathes={}#未分析区域shp文件\n",
    "settlements_pathes={}\n",
    "cloud_shp_pathes=glob(shp_root+'*cloud.shp')\n",
    "\n",
    "for n in name:\n",
    "    n_p={}\n",
    "    for k_ in k:\n",
    "        p=glob(shp_root+f'{n}_{k_}_2*.shp')\n",
    "        if len(p)!=0:\n",
    "            n_p[k_]=p[0]\n",
    "    points_pathes[n]=n_p\n",
    "for n in name:\n",
    "    n_p={}\n",
    "    for k_ in k:\n",
    "        p=glob(img_root+f'{n}_{k_}*.tif')\n",
    "        if len(p)!=0:\n",
    "            n_p[k_]=p[0]\n",
    "    img_pathes[n]=n_p\n",
    "for n in name:\n",
    "    no_shp_pathes[n]=shp_root+n+'_NoAnalysis.shp'\n",
    "for n in name:\n",
    "    settlements_pathes[n]=shp_root+n+'_settlements.shp'\n"
   ]
  },
  {
   "cell_type": "code",
   "execution_count": 32,
   "metadata": {},
   "outputs": [
    {
     "name": "stdout",
     "output_type": "stream",
     "text": [
      "Raqqa\n"
     ]
    },
    {
     "name": "stderr",
     "output_type": "stream",
     "text": [
      "Warning 1: Failed to fetch spatial reference on layer Raqqa_settlements to build transformer, assuming matching coordinate systems.\n"
     ]
    },
    {
     "data": {
      "image/png": "[encoded data removed]",
      "text/plain": [
       "<Figure size 432x288 with 1 Axes>"
      ]
     },
     "metadata": {
      "needs_background": "light"
     },
     "output_type": "display_data"
    },
    {
     "data": {
      "image/png": "[encoded data removed]",
      "text/plain": [
       "<Figure size 432x288 with 1 Axes>"
      ]
     },
     "metadata": {
      "needs_background": "light"
     },
     "output_type": "display_data"
    },
    {
     "name": "stdout",
     "output_type": "stream",
     "text": [
      "/data2/Syria_img/Raqqa_A_20100703.tif\n",
      "255\n",
      "/data2/Syria_img/Raqqa_C_20140212.tif\n",
      "255\n",
      "/data2/Syria_img/Raqqa_D_20150529.tif\n",
      "255\n"
     ]
    }
   ],
   "source": [
    "\n",
    "#切割边界，去除军事区\n",
    "for n in name:\n",
    "    print(n)\n",
    "\n",
    "    ds=gdal.Open(img_pathes[n]['A'])\n",
    "    w,h=ds.RasterXSize,ds.RasterYSize\n",
    "    noanalysis_mask=get_mask(no_shp_pathes[n],ds.GetGeoTransform(),[h,w])\n",
    "    settlements_mask=get_mask(settlements_pathes[n],ds.GetGeoTransform(),[h,w])\n",
    "    plt.imshow(noanalysis_mask)\n",
    "    plt.show()\n",
    "    plt.imshow(settlements_mask)\n",
    "    plt.show()\n",
    "    img_pathes_city=img_pathes[n]\n",
    "\n",
    "    for k_ in img_pathes_city.keys():\n",
    "        try:\n",
    "            print(img_pathes_city[k_])\n",
    "            img=read_img(img_pathes_city[k_])\n",
    "            trf=img['trf']\n",
    "            img=img['img'].transpose(1,2,0)\n",
    "            img=img.astype(np.int)\n",
    "            print(img.max())\n",
    "            for i in range(3):\n",
    "                img[:,:,i][settlements_mask==0]=999\n",
    "                img[:,:,i][noanalysis_mask==1]=999\n",
    "            # print('show')\n",
    "            # plt.imshow(img)\n",
    "            # plt.show()\n",
    "            save_path=img_pathes_city[k_].replace('.tif','_treated.tif')\n",
    "            img=img.transpose(2,0,1)\n",
    "            tif_save_bands(img,save_path,trf,p='4326')\n",
    "            del img\n",
    "            gc.collect()\n",
    "        except:\n",
    "            print('ERROR',img_pathes_city[k_])\n",
    "    "
   ]
  },
  {
   "cell_type": "code",
   "execution_count": 4,
   "metadata": {},
   "outputs": [],
   "source": [
    "#更新img_pathes\n",
    "for n in name:\n",
    "    n_p={}\n",
    "    for k_ in k:\n",
    "        p=glob(img_root+f'{n}_{k_}*_treated.tif')\n",
    "        if len(p)!=0:\n",
    "            n_p[k_]=p[0]\n",
    "    img_pathes[n]=n_p"
   ]
  },
  {
   "cell_type": "code",
   "execution_count": 8,
   "metadata": {},
   "outputs": [
    {
     "data": {
      "text/plain": [
       "{'Homs': {'A': '/data4/Syria_img/Homs_A_20100629_treated.tif',\n",
       "  'B': '/data4/Syria_img/Homs_B_20130926_treated.tif',\n",
       "  'C': '/data4/Syria_img/Homs_C_20140421_treated.tif'},\n",
       " 'Idlib': {'A': '/data4/Syria_img/Idlib_A_20100322_treated.tif',\n",
       "  'B': '/data4/Syria_img/Idlib_B_20130915_treated.tif',\n",
       "  'C': '/data4/Syria_img/Idlib_C_20140502_treated.tif',\n",
       "  'D': '/data4/Syria_img/Idlib_D_20150406_treated.tif',\n",
       "  'E': '/data4/Syria_img/Idlib_E_20160801_treated.tif'},\n",
       " 'Raqqa': {'A': '/data4/Syria_img/Raqqa_A_20100703_treated.tif',\n",
       "  'C': '/data4/Syria_img/Raqqa_C_20140212_treated.tif',\n",
       "  'D': '/data4/Syria_img/Raqqa_D_20150529_treated.tif'},\n",
       " 'Aleppo': {'A': '/data4/Syria_img/Aleppo_A_20100704_treated.tif',\n",
       "  'B': '/data4/Syria_img/Aleppo_B_20130923_treated.tif',\n",
       "  'C': '/data4/Syria_img/Aleppo_C_20140523_treated.tif',\n",
       "  'D': '/data4/Syria_img/Aleppo_D_20150426_treated.tif',\n",
       "  'E': '/data4/Syria_img/Aleppo_E_20150918_treated.tif'},\n",
       " 'Deir-ez-Zor': {'A': '/data4/Syria_img/Deir-ez-Zor_A_20090327_treated.tif',\n",
       "  'B': '/data4/Syria_img/Deir-ez-Zor_B_20131024_treated.tif',\n",
       "  'C': '/data4/Syria_img/Deir-ez-Zor_C_20140513_treated.tif',\n",
       "  'D': '/data4/Syria_img/Deir-ez-Zor_D_20150510_treated.tif',\n",
       "  'E': '/data4/Syria_img/Deir-ez-Zor_E_20160525_treated.tif'},\n",
       " 'Hama': {'A': '/data4/Syria_img/Hama_A_20090607_treated.tif',\n",
       "  'B': '/data4/Syria_img/Hama_B_20130926_treated.tif',\n",
       "  'C': '/data4/Syria_img/Hama_C_20140305_treated.tif'}}"
      ]
     },
     "execution_count": 8,
     "metadata": {},
     "output_type": "execute_result"
    }
   ],
   "source": [
    "img_pathes"
   ]
  },
  {
   "cell_type": "code",
   "execution_count": 6,
   "metadata": {},
   "outputs": [
    {
     "name": "stdout",
     "output_type": "stream",
     "text": [
      "/home/hk/python_script/Ukraine/data/UNOSAT/Syria/Aleppo_C_cloud.shp\n",
      "/data2/Syria_img/Aleppo_C_20140523_treated.tif\n"
     ]
    },
    {
     "data": {
      "image/png": "[encoded data removed]",
      "text/plain": [
       "<Figure size 432x288 with 1 Axes>"
      ]
     },
     "metadata": {
      "needs_background": "light"
     },
     "output_type": "display_data"
    },
    {
     "name": "stdout",
     "output_type": "stream",
     "text": [
      "999\n",
      "show\n",
      "save\n",
      "/home/hk/python_script/Ukraine/data/UNOSAT/Syria/Idlib_C_cloud.shp\n",
      "/data2/Syria_img/Idlib_C_20140502_treated.tif\n"
     ]
    },
    {
     "data": {
      "image/png": "[encoded data removed]",
      "text/plain": [
       "<Figure size 432x288 with 1 Axes>"
      ]
     },
     "metadata": {
      "needs_background": "light"
     },
     "output_type": "display_data"
    },
    {
     "name": "stdout",
     "output_type": "stream",
     "text": [
      "999\n",
      "show\n"
     ]
    },
    {
     "name": "stderr",
     "output_type": "stream",
     "text": [
      "Clipping input data to the valid range for imshow with RGB data ([0..1] for floats or [0..255] for integers).\n"
     ]
    },
    {
     "data": {
      "image/png": "[encoded data removed]",
      "text/plain": [
       "<Figure size 432x288 with 1 Axes>"
      ]
     },
     "metadata": {
      "needs_background": "light"
     },
     "output_type": "display_data"
    },
    {
     "name": "stdout",
     "output_type": "stream",
     "text": [
      "save\n"
     ]
    }
   ],
   "source": [
    "#去云\n",
    "\n",
    "for cloud_path in cloud_shp_pathes:\n",
    "    n=os.path.basename(cloud_path).split('_')[0]\n",
    "    k_=os.path.basename(cloud_path).split('_')[1]\n",
    "    img_path=img_pathes[n][k_]\n",
    "    print(cloud_path)\n",
    "    print(img_path)\n",
    "    ds=gdal.Open(img_path)\n",
    "    w,h=ds.RasterXSize,ds.RasterYSize\n",
    "    cloud_mask=get_mask(cloud_path,ds.GetGeoTransform(),[h,w])\n",
    "    plt.imshow(cloud_mask)\n",
    "    plt.show()\n",
    "    img=read_img(img_path)\n",
    "    trf=img['trf']\n",
    "    img=img['img'].transpose(1,2,0)\n",
    "    img=img.astype(np.int)\n",
    "    print(img.max())\n",
    "    for i in range(3):\n",
    "        img[:,:,i][cloud_mask==1]=999\n",
    "    print('show')\n",
    "    if 'Aleppo' not in img_path:\n",
    "        plt.imshow(img)\n",
    "        plt.show()\n",
    "    img=img.transpose(2,0,1)\n",
    "    print('save')\n",
    "    tif_save_bands(img,img_path,trf,p='4326')\n"
   ]
  },
  {
   "cell_type": "code",
   "execution_count": 39,
   "metadata": {},
   "outputs": [
    {
     "name": "stdout",
     "output_type": "stream",
     "text": [
      "Homs\n",
      "(36.665496826171875, 5.364418029785156e-06, 0.0, 34.7662353515625, 0.0, -5.364418029785156e-06)\n",
      "(36.665496826171875, 5.364418029785156e-06, 0.0, 34.7662353515625, 0.0, -5.364418029785156e-06)\n",
      "(36.665496826171875, 5.364418029785156e-06, 0.0, 34.7662353515625, 0.0, -5.364418029785156e-06)\n",
      "Idlib\n",
      "(36.613311767578125, 5.364418029785156e-06, 0.0, 35.947265625, 0.0, -5.364418029785156e-06)\n",
      "(36.613311767578125, 5.364418029785156e-06, 0.0, 35.947265625, 0.0, -5.364418029785156e-06)\n",
      "(36.613311767578125, 5.364418029785156e-06, 0.0, 35.947265625, 0.0, -5.364418029785156e-06)\n",
      "(36.613311767578125, 5.364418029785156e-06, 0.0, 35.947265625, 0.0, -5.364418029785156e-06)\n",
      "(36.613311767578125, 5.364418029785156e-06, 0.0, 35.947265625, 0.0, -5.364418029785156e-06)\n",
      "Raqqa\n",
      "(38.928680419921875, 5.364418029785156e-06, 0.0, 35.976104736328125, 0.0, -5.364418029785156e-06)\n",
      "(38.928680419921875, 5.364418029785156e-06, 0.0, 35.976104736328125, 0.0, -5.364418029785156e-06)\n",
      "(38.928680419921875, 5.364418029785156e-06, 0.0, 35.976104736328125, 0.0, -5.364418029785156e-06)\n",
      "Aleppo\n",
      "(37.033538818359375, 5.364418029785156e-06, 0.0, 36.29608154296875, 0.0, -5.364418029785156e-06)\n",
      "(37.033538818359375, 5.364418029785156e-06, 0.0, 36.29608154296875, 0.0, -5.364418029785156e-06)\n",
      "(37.033538818359375, 5.364418029785156e-06, 0.0, 36.29608154296875, 0.0, -5.364418029785156e-06)\n",
      "(37.033538818359375, 5.364418029785156e-06, 0.0, 36.29608154296875, 0.0, -5.364418029785156e-06)\n",
      "(37.033538818359375, 5.364418029785156e-06, 0.0, 36.29608154296875, 0.0, -5.364418029785156e-06)\n",
      "Deir-ez-Zor\n",
      "(40.08087158203125, 5.364418029785156e-06, 0.0, 35.363616943359375, 0.0, -5.364418029785156e-06)\n",
      "(40.08087158203125, 5.364418029785156e-06, 0.0, 35.363616943359375, 0.0, -5.364418029785156e-06)\n",
      "(40.08087158203125, 5.364418029785156e-06, 0.0, 35.363616943359375, 0.0, -5.364418029785156e-06)\n",
      "(40.08087158203125, 5.364418029785156e-06, 0.0, 35.363616943359375, 0.0, -5.364418029785156e-06)\n",
      "(40.08087158203125, 5.364418029785156e-06, 0.0, 35.363616943359375, 0.0, -5.364418029785156e-06)\n",
      "Hama\n",
      "(36.71630859375, 5.364418029785156e-06, 0.0, 35.1837158203125, 0.0, -5.364418029785156e-06)\n",
      "(36.71630859375, 5.364418029785156e-06, 0.0, 35.1837158203125, 0.0, -5.364418029785156e-06)\n",
      "(36.71630859375, 5.364418029785156e-06, 0.0, 35.1837158203125, 0.0, -5.364418029785156e-06)\n"
     ]
    }
   ],
   "source": [
    "for n in name:\n",
    "    print(n)\n",
    "    img_pathes_city=img_pathes[n]\n",
    "    for k_ in img_pathes_city.keys():\n",
    "\n",
    "        ds=gdal.Open(img_pathes_city[k_])\n",
    "        print(ds.GetGeoTransform())"
   ]
  },
  {
   "cell_type": "markdown",
   "metadata": {},
   "source": [
    "# 转换图像为Patch"
   ]
  },
  {
   "cell_type": "code",
   "execution_count": 12,
   "metadata": {},
   "outputs": [
    {
     "name": "stdout",
     "output_type": "stream",
     "text": [
      "/data2/Syria_img/Homs_A_20100629_treated.tif\n",
      "(3, 15616, 18176)\n",
      "(3, 131, 152, 120, 120)\n",
      "(36.66549414396286, 0.0006437301635742188, 0.0, 34.766238033771515, 0.0, -0.0006437301635742188)\n",
      "max: 999\n",
      "/data2/Syria_img/Homs_B_20130926_treated.tif\n",
      "(3, 15616, 18176)\n",
      "(3, 131, 152, 120, 120)\n",
      "(36.66549414396286, 0.0006437301635742188, 0.0, 34.766238033771515, 0.0, -0.0006437301635742188)\n",
      "max: 999\n",
      "/data2/Syria_img/Homs_C_20140421_treated.tif\n",
      "(3, 15616, 18176)\n",
      "(3, 131, 152, 120, 120)\n",
      "(36.66549414396286, 0.0006437301635742188, 0.0, 34.766238033771515, 0.0, -0.0006437301635742188)\n",
      "max: 999\n",
      "/data2/Syria_img/Idlib_A_20100322_treated.tif\n",
      "(3, 7424, 10496)\n",
      "(3, 62, 88, 120, 120)\n",
      "(36.61330908536911, 0.0006437301635742188, 0.0, 35.947268307209015, 0.0, -0.0006437301635742188)\n",
      "max: 999\n",
      "/data2/Syria_img/Idlib_B_20130915_treated.tif\n",
      "(3, 7424, 10496)\n",
      "(3, 62, 88, 120, 120)\n",
      "(36.61330908536911, 0.0006437301635742188, 0.0, 35.947268307209015, 0.0, -0.0006437301635742188)\n",
      "max: 999\n",
      "/data2/Syria_img/Idlib_C_20140502_treated.tif\n",
      "(3, 7424, 10496)\n",
      "(3, 62, 88, 120, 120)\n",
      "(36.61330908536911, 0.0006437301635742188, 0.0, 35.947268307209015, 0.0, -0.0006437301635742188)\n",
      "max: 999\n",
      "/data2/Syria_img/Idlib_D_20150406_treated.tif\n",
      "(3, 7424, 10496)\n",
      "(3, 62, 88, 120, 120)\n",
      "(36.61330908536911, 0.0006437301635742188, 0.0, 35.947268307209015, 0.0, -0.0006437301635742188)\n",
      "max: 999\n",
      "/data2/Syria_img/Idlib_E_20160801_treated.tif\n",
      "(3, 7424, 10496)\n",
      "(3, 62, 88, 120, 120)\n",
      "(36.61330908536911, 0.0006437301635742188, 0.0, 35.947268307209015, 0.0, -0.0006437301635742188)\n",
      "max: 999\n",
      "/data2/Syria_img/Raqqa_A_20100703_treated.tif\n",
      "(3, 8960, 24832)\n",
      "(3, 75, 207, 120, 120)\n",
      "(38.92867773771286, 0.0006437301635742188, 0.0, 35.97610741853714, 0.0, -0.0006437301635742188)\n",
      "max: 999\n",
      "/data2/Syria_img/Raqqa_C_20140212_treated.tif\n",
      "(3, 8960, 24832)\n",
      "(3, 75, 207, 120, 120)\n",
      "(38.92867773771286, 0.0006437301635742188, 0.0, 35.97610741853714, 0.0, -0.0006437301635742188)\n",
      "max: 999\n",
      "/data2/Syria_img/Raqqa_D_20150529_treated.tif\n",
      "(3, 8960, 24832)\n",
      "(3, 75, 207, 120, 120)\n",
      "(38.92867773771286, 0.0006437301635742188, 0.0, 35.97610741853714, 0.0, -0.0006437301635742188)\n",
      "max: 999\n",
      "/data2/Syria_img/Aleppo_A_20100704_treated.tif\n",
      "(3, 30720, 56576)\n",
      "(3, 257, 472, 120, 120)\n",
      "(37.03353613615036, 0.0006437301635742188, 0.0, 36.296084225177765, 0.0, -0.0006437301635742188)\n",
      "max: 999\n",
      "/data2/Syria_img/Aleppo_B_20130923_treated.tif\n",
      "(3, 30720, 56576)\n",
      "(3, 257, 472, 120, 120)\n",
      "(37.03353613615036, 0.0006437301635742188, 0.0, 36.296084225177765, 0.0, -0.0006437301635742188)\n",
      "max: 999\n",
      "/data2/Syria_img/Aleppo_C_20140523_treated.tif\n",
      "(3, 30720, 56576)\n",
      "(3, 257, 472, 120, 120)\n",
      "(37.03353613615036, 0.0006437301635742188, 0.0, 36.296084225177765, 0.0, -0.0006437301635742188)\n",
      "max: 999\n",
      "/data2/Syria_img/Aleppo_D_20150426_treated.tif\n",
      "(3, 30720, 56576)\n",
      "(3, 257, 472, 120, 120)\n",
      "(37.03353613615036, 0.0006437301635742188, 0.0, 36.296084225177765, 0.0, -0.0006437301635742188)\n",
      "max: 999\n",
      "/data2/Syria_img/Aleppo_E_20150918_treated.tif\n",
      "(3, 30720, 56576)\n",
      "(3, 257, 472, 120, 120)\n",
      "(37.03353613615036, 0.0006437301635742188, 0.0, 36.296084225177765, 0.0, -0.0006437301635742188)\n",
      "max: 999\n",
      "/data2/Syria_img/Deir-ez-Zor_A_20090327_treated.tif\n",
      "(3, 12288, 18432)\n",
      "(3, 103, 154, 120, 120)\n",
      "(40.080868899822235, 0.0006437301635742188, 0.0, 35.36361962556839, 0.0, -0.0006437301635742188)\n",
      "max: 999\n",
      "/data2/Syria_img/Deir-ez-Zor_B_20131024_treated.tif\n",
      "(3, 12288, 18432)\n",
      "(3, 103, 154, 120, 120)\n",
      "(40.080868899822235, 0.0006437301635742188, 0.0, 35.36361962556839, 0.0, -0.0006437301635742188)\n",
      "max: 999\n",
      "/data2/Syria_img/Deir-ez-Zor_C_20140513_treated.tif\n",
      "(3, 12288, 18432)\n",
      "(3, 103, 154, 120, 120)\n",
      "(40.080868899822235, 0.0006437301635742188, 0.0, 35.36361962556839, 0.0, -0.0006437301635742188)\n",
      "max: 999\n",
      "/data2/Syria_img/Deir-ez-Zor_D_20150510_treated.tif\n",
      "(3, 12288, 18432)\n",
      "(3, 103, 154, 120, 120)\n",
      "(40.080868899822235, 0.0006437301635742188, 0.0, 35.36361962556839, 0.0, -0.0006437301635742188)\n",
      "max: 999\n",
      "/data2/Syria_img/Deir-ez-Zor_E_20160525_treated.tif\n",
      "(3, 12288, 18432)\n",
      "(3, 103, 154, 120, 120)\n",
      "(40.080868899822235, 0.0006437301635742188, 0.0, 35.36361962556839, 0.0, -0.0006437301635742188)\n",
      "max: 999\n",
      "/data2/Syria_img/Hama_A_20090607_treated.tif\n",
      "(3, 19456, 16128)\n",
      "(3, 163, 135, 120, 120)\n",
      "(36.716305911540985, 0.0006437301635742188, 0.0, 35.183718502521515, 0.0, -0.0006437301635742188)\n",
      "max: 999\n",
      "/data2/Syria_img/Hama_B_20130926_treated.tif\n",
      "(3, 19456, 16128)\n",
      "(3, 163, 135, 120, 120)\n",
      "(36.716305911540985, 0.0006437301635742188, 0.0, 35.183718502521515, 0.0, -0.0006437301635742188)\n",
      "max: 999\n",
      "/data2/Syria_img/Hama_C_20140305_treated.tif\n",
      "(3, 19456, 16128)\n",
      "(3, 163, 135, 120, 120)\n",
      "(36.716305911540985, 0.0006437301635742188, 0.0, 35.183718502521515, 0.0, -0.0006437301635742188)\n",
      "max: 999\n"
     ]
    }
   ],
   "source": [
    "def read_img(path):\n",
    "    ds=gdal.Open(path)\n",
    "    trf=ds.GetGeoTransform()\n",
    "    img=ds.ReadAsArray()\n",
    "    return {'trf':trf,'img':img}\n",
    "def get_patch(data,size):\n",
    "    img=data['img']\n",
    "    trf=data['trf']\n",
    "    shape=img.shape\n",
    "    img=np.pad(img,((0,0),(0,size-shape[1]%size),(0,size-shape[2]%size)),'constant',constant_values=0)\n",
    "    shape=img.shape\n",
    "    img=img.reshape([shape[0],int(shape[1]/size),-1,shape[2]])\n",
    "    shape=img.shape\n",
    "    img=img.reshape([shape[0],shape[1],shape[2],int(shape[3]/size),-1])\n",
    "    return {'img':img.transpose((0,1,3,2,4)),'trf':(trf[0]-trf[1]/2,trf[1]*size,trf[2],trf[3]-trf[5]/2,trf[4],trf[5]*size)}\n",
    "size=120\n",
    "for n in name:\n",
    "    img_pathes_city=img_pathes[n]\n",
    "\n",
    "    for k_ in img_pathes_city.keys():\n",
    "        try:    \n",
    "            path=img_pathes_city[k_]\n",
    "            print(path)\n",
    "            data=read_img(path)\n",
    "            print(data['img'].shape)\n",
    "            data2=get_patch(data,size)\n",
    "            print(data2['img'].shape)\n",
    "            print(data2['trf'])\n",
    "            d=data2['img'].astype(np.int16)\n",
    "            info={'readme':'trf分别为patch左上角坐标(不是左上角像元的中心坐标)和patch的长度','trf':data2['trf'],'shape':[data['img'].shape,d.shape]}\n",
    "\n",
    "            np.save(path.replace('.tif',f'_size_{size}.npy'),d)\n",
    "            print('max:',d.max())\n",
    "            torch.save(info,path.replace('.tif',f'_size_{size}_info.pth'))\n",
    "            del data,data2,d\n",
    "            gc.collect()\n",
    "        except:\n",
    "                print('ERROR',img_pathes_city[k_])"
   ]
  },
  {
   "cell_type": "markdown",
   "metadata": {},
   "source": [
    "# 制作patch的label"
   ]
  },
  {
   "cell_type": "code",
   "execution_count": 8,
   "metadata": {},
   "outputs": [
    {
     "data": {
      "text/plain": [
       "{'Homs': {'A': '/data4/Syria_img/Homs_A_20100629_treated_size_120.npy',\n",
       "  'B': '/data4/Syria_img/Homs_B_20130926_treated_size_120.npy',\n",
       "  'C': '/data4/Syria_img/Homs_C_20140421_treated_size_120.npy'},\n",
       " 'Idlib': {'A': '/data4/Syria_img/Idlib_A_20100322_treated_size_120.npy',\n",
       "  'B': '/data4/Syria_img/Idlib_B_20130915_treated_size_120.npy',\n",
       "  'C': '/data4/Syria_img/Idlib_C_20140502_treated_size_120.npy',\n",
       "  'D': '/data4/Syria_img/Idlib_D_20150406_treated_size_120.npy',\n",
       "  'E': '/data4/Syria_img/Idlib_E_20160801_treated_size_120.npy'},\n",
       " 'Raqqa': {'A': '/data4/Syria_img/Raqqa_A_20100703_treated_size_120.npy',\n",
       "  'C': '/data4/Syria_img/Raqqa_C_20140212_treated_size_120.npy',\n",
       "  'D': '/data4/Syria_img/Raqqa_D_20150529_treated_size_120.npy'},\n",
       " 'Aleppo': {'A': '/data4/Syria_img/Aleppo_A_20100704_treated_size_120.npy',\n",
       "  'B': '/data4/Syria_img/Aleppo_B_20130923_treated_size_120.npy',\n",
       "  'C': '/data4/Syria_img/Aleppo_C_20140523_treated_size_120.npy',\n",
       "  'D': '/data4/Syria_img/Aleppo_D_20150426_treated_size_120.npy',\n",
       "  'E': '/data4/Syria_img/Aleppo_E_20150918_treated_size_120.npy'},\n",
       " 'Deir-ez-Zor': {'A': '/data4/Syria_img/Deir-ez-Zor_A_20090327_treated_size_120.npy',\n",
       "  'B': '/data4/Syria_img/Deir-ez-Zor_B_20131024_treated_size_120.npy',\n",
       "  'C': '/data4/Syria_img/Deir-ez-Zor_C_20140513_treated_size_120.npy',\n",
       "  'D': '/data4/Syria_img/Deir-ez-Zor_D_20150510_treated_size_120.npy',\n",
       "  'E': '/data4/Syria_img/Deir-ez-Zor_E_20160525_treated_size_120.npy'},\n",
       " 'Hama': {'A': '/data4/Syria_img/Hama_A_20090607_treated_size_120.npy',\n",
       "  'B': '/data4/Syria_img/Hama_B_20130926_treated_size_120.npy',\n",
       "  'C': '/data4/Syria_img/Hama_C_20140305_treated_size_120.npy'}}"
      ]
     },
     "execution_count": 8,
     "metadata": {},
     "output_type": "execute_result"
    }
   ],
   "source": [
    "patch_pathes={}\n",
    "for n in name:\n",
    "    n_p={}\n",
    "    for k_ in k:\n",
    "        p=glob(img_root+f'{n}_{k_}*.npy')\n",
    "        if len(p)!=0:\n",
    "            n_p[k_]=p[0]\n",
    "    patch_pathes[n]=n_p\n",
    "patch_pathes"
   ]
  },
  {
   "cell_type": "code",
   "execution_count": 5,
   "metadata": {},
   "outputs": [],
   "source": [
    "def get_dam_mask(point,patch_file,weight):\n",
    "    ds=gdal.Open(patch_file)\n",
    "    trf=ds.GetGeoTransform()\n",
    "    shape=[ds.RasterYSize,ds.RasterXSize]\n",
    "    # trf=torch.load(patch_file[1])['trf']\n",
    "    # shape=torch.load(patch_file[1])['shape'][1]\n",
    "    p_coor=[shapely.geometry.mapping(list(point)[i])['coordinates'] for i in range(len(point))]\n",
    "    mask=np.zeros((shape[0],shape[1]))\n",
    "    p_x_y=[[int((i[0]-trf[0])/trf[1]),int((i[1]-trf[3])/trf[5])] for i in p_coor]\n",
    "    for i in p_x_y:\n",
    "        try:\n",
    "            mask[i[1],i[0]]+=weight\n",
    "        except:\n",
    "            pass\n",
    "    return mask\n",
    "def get_mask(points_path,patch_path):\n",
    "    df=gpd.read_file(points_path)\n",
    "    print(len(df))\n",
    "    point_num={}\n",
    "    point=df[df['DmgCls']=='Destroyed']['geometry']\n",
    "    point_num['destroyed']=len(point)\n",
    "    print('destroyed:',len(point))\n",
    "    mask_destroyed=get_dam_mask(point,patch_path,1)\n",
    "    # point=df[df['DmgCls']=='Severe Damage']['geometry']\n",
    "    # point_num['severe']=len(point)\n",
    "    # print('Severe Damage:',len(point))\n",
    "    # mask_severe=get_dam_mask(point,patch_path,1)\n",
    "    # point=df[df['DmgCls']=='Moderate Damage']['geometry']\n",
    "    # point_num['moderate']=len(point)\n",
    "    # print('Moderate Damage:',len(point))\n",
    "    # mask_moderate=get_dam_mask(point,patch_path,1)\n",
    "\n",
    "    # mask=mask_destroyed*6+mask_severe*3+mask_moderate\n",
    "    # date=df['SensDt'][0]\n",
    "    # print(f'{n}  {date}得分',dict(Counter(list(mask.flatten()))))\n",
    "    # mask_type=np.zeros(mask.shape)\n",
    "    # mask_type[mask>0]=1\n",
    "    # mask_type[mask>=6]=2\n",
    "    # print(f'{date}损毁类型',Counter(list(mask_type.flatten())))\n",
    "    # all_mask=[mask_destroyed,mask_severe,mask_moderate,mask,mask_type]\n",
    "    # info='5层分别为完全 严重 中等 以及损毁得分和类型\\n得分:完全算6分 严重算3分 中等算1分 其他0分\\n类型0:得分0 类型1:得分1-5 类型2:得分大于6'\n",
    "    # result={'info':info,'point_num':point_num,'mask':all_mask}\n",
    "    return mask_destroyed\n",
    "def get_patch(data,size):\n",
    "    img=data['img']\n",
    "    trf=data['trf']\n",
    "    shape=img.shape\n",
    "    img=np.pad(img,((0,size-shape[0]%size),(0,size-shape[1]%size)),'constant',constant_values=0)\n",
    "    shape=img.shape\n",
    "    img=img.reshape([int(shape[0]/size),-1,shape[1]])\n",
    "    shape=img.shape\n",
    "    img=img.reshape([shape[0],shape[1],int(shape[2]/size),-1])\n",
    "    return {'img':img.transpose((0,2,1,3)),'trf':(trf[0]-trf[1]/2,trf[1]*size,trf[2],trf[3]-trf[5]/2,trf[4],trf[5]*size)}"
   ]
  },
  {
   "cell_type": "code",
   "execution_count": 6,
   "metadata": {},
   "outputs": [
    {
     "data": {
      "text/plain": [
       "{'Homs': {'A': '/data4/Syria_img/Homs_A_20100629_treated.tif',\n",
       "  'B': '/data4/Syria_img/Homs_B_20130926_treated.tif',\n",
       "  'C': '/data4/Syria_img/Homs_C_20140421_treated.tif'},\n",
       " 'Idlib': {'A': '/data4/Syria_img/Idlib_A_20100322_treated.tif',\n",
       "  'B': '/data4/Syria_img/Idlib_B_20130915_treated.tif',\n",
       "  'C': '/data4/Syria_img/Idlib_C_20140502_treated.tif',\n",
       "  'D': '/data4/Syria_img/Idlib_D_20150406_treated.tif',\n",
       "  'E': '/data4/Syria_img/Idlib_E_20160801_treated.tif'},\n",
       " 'Raqqa': {'A': '/data4/Syria_img/Raqqa_A_20100703_treated.tif',\n",
       "  'C': '/data4/Syria_img/Raqqa_C_20140212_treated.tif',\n",
       "  'D': '/data4/Syria_img/Raqqa_D_20150529_treated.tif'},\n",
       " 'Aleppo': {'A': '/data4/Syria_img/Aleppo_A_20100704_treated.tif',\n",
       "  'B': '/data4/Syria_img/Aleppo_B_20130923_treated.tif',\n",
       "  'C': '/data4/Syria_img/Aleppo_C_20140523_treated.tif',\n",
       "  'D': '/data4/Syria_img/Aleppo_D_20150426_treated.tif',\n",
       "  'E': '/data4/Syria_img/Aleppo_E_20150918_treated.tif'},\n",
       " 'Deir-ez-Zor': {'A': '/data4/Syria_img/Deir-ez-Zor_A_20090327_treated.tif',\n",
       "  'B': '/data4/Syria_img/Deir-ez-Zor_B_20131024_treated.tif',\n",
       "  'C': '/data4/Syria_img/Deir-ez-Zor_C_20140513_treated.tif',\n",
       "  'D': '/data4/Syria_img/Deir-ez-Zor_D_20150510_treated.tif',\n",
       "  'E': '/data4/Syria_img/Deir-ez-Zor_E_20160525_treated.tif'},\n",
       " 'Hama': {'A': '/data4/Syria_img/Hama_A_20090607_treated.tif',\n",
       "  'B': '/data4/Syria_img/Hama_B_20130926_treated.tif',\n",
       "  'C': '/data4/Syria_img/Hama_C_20140305_treated.tif'}}"
      ]
     },
     "execution_count": 6,
     "metadata": {},
     "output_type": "execute_result"
    }
   ],
   "source": [
    "img_pathes"
   ]
  },
  {
   "cell_type": "code",
   "execution_count": 22,
   "metadata": {},
   "outputs": [
    {
     "data": {
      "text/plain": [
       "{'Homs': {'A': '/data4/Syria_img/Homs_A_20100629_treated.tif',\n",
       "  'B': '/data4/Syria_img/Homs_B_20130926_treated.tif',\n",
       "  'C': '/data4/Syria_img/Homs_C_20140421_treated.tif'},\n",
       " 'Idlib': {'A': '/data4/Syria_img/Idlib_A_20100322_treated.tif',\n",
       "  'B': '/data4/Syria_img/Idlib_B_20130915_treated.tif',\n",
       "  'C': '/data4/Syria_img/Idlib_C_20140502_treated.tif',\n",
       "  'D': '/data4/Syria_img/Idlib_D_20150406_treated.tif',\n",
       "  'E': '/data4/Syria_img/Idlib_E_20160801_treated.tif'},\n",
       " 'Raqqa': {'A': '/data4/Syria_img/Raqqa_A_20100703_treated.tif',\n",
       "  'C': '/data4/Syria_img/Raqqa_C_20140212_treated.tif',\n",
       "  'D': '/data4/Syria_img/Raqqa_D_20150529_treated.tif'},\n",
       " 'Aleppo': {'A': '/data4/Syria_img/Aleppo_A_20100704_treated.tif',\n",
       "  'B': '/data4/Syria_img/Aleppo_B_20130923_treated.tif',\n",
       "  'C': '/data4/Syria_img/Aleppo_C_20140523_treated.tif',\n",
       "  'D': '/data4/Syria_img/Aleppo_D_20150426_treated.tif',\n",
       "  'E': '/data4/Syria_img/Aleppo_E_20150918_treated.tif'},\n",
       " 'Deir-ez-Zor': {'A': '/data4/Syria_img/Deir-ez-Zor_A_20090327_treated.tif',\n",
       "  'B': '/data4/Syria_img/Deir-ez-Zor_B_20131024_treated.tif',\n",
       "  'C': '/data4/Syria_img/Deir-ez-Zor_C_20140513_treated.tif',\n",
       "  'D': '/data4/Syria_img/Deir-ez-Zor_D_20150510_treated.tif',\n",
       "  'E': '/data4/Syria_img/Deir-ez-Zor_E_20160525_treated.tif'},\n",
       " 'Hama': {'A': '/data4/Syria_img/Hama_A_20090607_treated.tif',\n",
       "  'B': '/data4/Syria_img/Hama_B_20130926_treated.tif',\n",
       "  'C': '/data4/Syria_img/Hama_C_20140305_treated.tif'}}"
      ]
     },
     "execution_count": 22,
     "metadata": {},
     "output_type": "execute_result"
    }
   ],
   "source": [
    "img_pathes"
   ]
  },
  {
   "cell_type": "code",
   "execution_count": 21,
   "metadata": {},
   "outputs": [
    {
     "name": "stdout",
     "output_type": "stream",
     "text": [
      "Homs\n",
      "['B', 'C']\n",
      "Idlib\n",
      "['B', 'C', 'D', 'E']\n",
      "Raqqa\n",
      "['C', 'D']\n",
      "Aleppo\n",
      "['B', 'C', 'D', 'E']\n",
      "Deir-ez-Zor\n",
      "['B', 'C', 'D', 'E']\n",
      "Hama\n",
      "['B', 'C']\n"
     ]
    }
   ],
   "source": [
    "for n in name:\n",
    "    print(n)\n",
    "    img_pathes_n=img_pathes[n]\n",
    "    kk=list(img_pathes_n)\n",
    "    kk.remove('A')\n",
    "    print(kk)\n",
    "    for k_ in kk:\n",
    "        # raise\n",
    "        points_path=points_pathes[n][k_]\n",
    "        print(points_path)\n",
    "        try:\n",
    "            img_path=img_pathes[n][k_]\n",
    "\n",
    "            result=get_mask(points_path,img_path)\n",
    "            d=get_patch({'img':result,'trf':gdal.Open(img_path).GetGeoTransform()},120)\n",
    "            print(d['trf'])\n",
    "            patch=torch.load(patch_pathes[n][k_].replace('.npy','_info.pth'))\n",
    "            print(patch['trf'])\n",
    "            print(d['img'].shape)\n",
    "            print(patch['shape'][1])\n",
    "            np.save(img_path.replace('.tif','_img_dammask.npy'),d['img'])\n",
    "            print('__________________________SAVE SUCCESS__________________________')\n",
    "            print(' ')\n",
    "            print(' ')\n",
    "\n",
    "        except:\n",
    "            print('ERROR',points_path)"
   ]
  },
  {
   "cell_type": "code",
   "execution_count": 29,
   "metadata": {},
   "outputs": [
    {
     "name": "stdout",
     "output_type": "stream",
     "text": [
      "/home/hk/python_script/Ukraine/data/UNOSAT/Syria/Hama_D_2016-07-06.shp\n",
      "10885\n",
      "destroyed: 9459\n",
      "(36.716305911540985, 0.0006437301635742188, 0.0, 35.183718502521515, 0.0, -0.0006437301635742188)\n",
      "(36.716305911540985, 0.0006437301635742188, 0.0, 35.183718502521515, 0.0, -0.0006437301635742188)\n",
      "(163, 135, 120, 120)\n",
      "(3, 163, 135, 120, 120)\n",
      "__________________________SAVE SUCCESS__________________________\n",
      " \n",
      " \n"
     ]
    }
   ],
   "source": [
    "# raise\n",
    "n='Hama'\n",
    "k_='D'\n",
    "points_path=points_pathes[n][k_]\n",
    "print(points_path)\n",
    "# try:\n",
    "img_path=img_pathes[n]['C']\n",
    "\n",
    "result=get_mask(points_path,img_path)\n",
    "d=get_patch({'img':result,'trf':gdal.Open(img_path).GetGeoTransform()},120)\n",
    "print(d['trf'])\n",
    "patch=torch.load(patch_pathes[n]['C'].replace('.npy','_info.pth'))\n",
    "print(patch['trf'])\n",
    "print(d['img'].shape)\n",
    "print(patch['shape'][1])\n",
    "np.save('/data4/Syria_img/Hama_D_20160706_treated_img_dammask.npy',d['img'])\n",
    "print('__________________________SAVE SUCCESS__________________________')\n",
    "print(' ')\n",
    "print(' ')\n",
    "\n",
    "# except:\n",
    "#     print('ERROR',points_path)"
   ]
  },
  {
   "cell_type": "code",
   "execution_count": 7,
   "metadata": {},
   "outputs": [
    {
     "data": {
      "text/plain": [
       "{'Homs': {'B': '/data2/Syria_img/Homs_B_20130926_treated_size_120_dammask.pth.tar',\n",
       "  'C': '/data2/Syria_img/Homs_C_20140421_treated_size_120_dammask.pth.tar'},\n",
       " 'Idlib': {'B': '/data2/Syria_img/Idlib_B_20130915_treated_size_120_dammask.pth.tar',\n",
       "  'C': '/data2/Syria_img/Idlib_C_20140502_treated_size_120_dammask.pth.tar',\n",
       "  'D': '/data2/Syria_img/Idlib_D_20150406_treated_size_120_dammask.pth.tar',\n",
       "  'E': '/data2/Syria_img/Idlib_E_20160801_treated_size_120_dammask.pth.tar'},\n",
       " 'Raqqa': {'B': '/data2/Syria_img/Raqqa_B_20131022_treated_size_120_dammask.pth.tar',\n",
       "  'C': '/data2/Syria_img/Raqqa_C_20140212_treated_size_120_dammask.pth.tar',\n",
       "  'D': '/data2/Syria_img/Raqqa_D_20150529_treated_size_120_dammask.pth.tar'},\n",
       " 'Aleppo': {'B': '/data2/Syria_img/Aleppo_B_20130923_treated_size_120_dammask.pth.tar',\n",
       "  'C': '/data2/Syria_img/Aleppo_C_20140523_treated_size_120_dammask.pth.tar',\n",
       "  'D': '/data2/Syria_img/Aleppo_D_20150426_treated_size_120_dammask.pth.tar',\n",
       "  'E': '/data2/Syria_img/Aleppo_E_20150918_treated_size_120_dammask.pth.tar'},\n",
       " 'Deir-ez-Zor': {'B': '/data2/Syria_img/Deir-ez-Zor_B_20131024_treated_size_120_dammask.pth.tar',\n",
       "  'C': '/data2/Syria_img/Deir-ez-Zor_C_20140513_treated_size_120_dammask.pth.tar',\n",
       "  'D': '/data2/Syria_img/Deir-ez-Zor_D_20150510_treated_size_120_dammask.pth.tar',\n",
       "  'E': '/data2/Syria_img/Deir-ez-Zor_E_20160525_treated_size_120_dammask.pth.tar'},\n",
       " 'Hama': {'B': '/data2/Syria_img/Hama_B_20130926_treated_size_120_dammask.pth.tar',\n",
       "  'C': '/data2/Syria_img/Hama_C_20140305_treated_size_120_dammask.pth.tar',\n",
       "  'D': '/data2/Syria_img/Hama_D_20160706_treated_size_120_dammask.pth.tar'}}"
      ]
     },
     "execution_count": 7,
     "metadata": {},
     "output_type": "execute_result"
    }
   ],
   "source": [
    "dammask_pathes={}\n",
    "for n in name:\n",
    "    n_p={}\n",
    "    for k_ in k:\n",
    "        p=glob(img_root+f'{n}_{k_}*_dammask.pth.tar')\n",
    "        if len(p)!=0:\n",
    "            n_p[k_]=p[0]\n",
    "    dammask_pathes[n]=n_p\n",
    "dammask_pathes"
   ]
  },
  {
   "cell_type": "markdown",
   "metadata": {},
   "source": [
    "# 制作样本"
   ]
  },
  {
   "cell_type": "code",
   "execution_count": 8,
   "metadata": {},
   "outputs": [
    {
     "name": "stdout",
     "output_type": "stream",
     "text": [
      "Homs\n",
      "loading pre\n",
      "loading pre-B and dammask-B\n",
      "(3, 131, 152, 120, 120)\n",
      "writing samples 9652\n"
     ]
    },
    {
     "name": "stderr",
     "output_type": "stream",
     "text": [
      "100%|██████████| 9652/9652 [01:35<00:00, 100.78it/s]\n"
     ]
    },
    {
     "name": "stdout",
     "output_type": "stream",
     "text": [
      "loading pre-C and dammask-C\n"
     ]
    }
   ],
   "source": [
    "def get_samples(pre_patch,post_patch,dammask):\n",
    "        if (pre_patch.shape!=post_patch.shape \n",
    "        or dammask['mask'][0].shape[0]!=pre_patch.shape[1] \n",
    "        or dammask['mask'][0].shape[1]!=pre_patch.shape[2]):\n",
    "                raise('SHAPE ERROR')\n",
    "        else:\n",
    "                shape=pre_patch.shape\n",
    "                print(shape)\n",
    "        zz=np.zeros((shape[1],shape[2]))\n",
    "        samples=[]\n",
    "        for x in range(shape[1]):\n",
    "                for y in range(shape[2]):\n",
    "\n",
    "                        if (pre_patch[:,x,y]==999).any() and (post_patch[:,x,y]==999).any():\n",
    "                                continue\n",
    "                        else:\n",
    "                                samples.append([[x,y],[int(i[x,y]) for i in dammask['mask']],pre_patch[:,x,y],post_patch[:,x,y]])\n",
    "                                zz[x,y]=1\n",
    "        return samples,zz\n",
    "\n",
    "\n",
    "samples_root=img_root+'Syria_samples/'\n",
    "for n in name:\n",
    "    print(n)\n",
    "    print('loading pre')\n",
    "    pre_patch=np.load(patch_pathes[n]['A'])\n",
    "    patch_pathes_n=patch_pathes[n]\n",
    "    kk=list(patch_pathes_n)\n",
    "    kk.remove('A')\n",
    "    for k_ in kk:\n",
    "        print(f'loading pre-{k_} and dammask-{k_}')\n",
    "        post_patch=np.load(patch_pathes[n][k_])\n",
    "        dammask=torch.load(dammask_pathes[n][k_])\n",
    "        samples,_=get_samples(pre_patch,post_patch,dammask)\n",
    "        print('writing samples',len(samples))\n",
    "        time.sleep(2)\n",
    "        samples_pre_pathes=[samples_root+'samples/pre/'+f'{n}_{k_}_{i}.png' for i in range(len(samples))]\n",
    "        samples_post_pathes=[samples_root+'samples/post/'+f'{n}_{k_}_{i}.png' for i in range(len(samples))]\n",
    "        info=[]\n",
    "        for i in tqdm(range(len(samples))):\n",
    "                # '5层分别为完全 严重 中等 以及损毁得分和类型\\n得分:完全算6分 严重算3分 中等算1分 其他0分\\n类型0:得分0 类型1:得分1-5 类型2:得分大于6'\n",
    "                info.append([samples_pre_pathes[i],samples_post_pathes[i],samples[i][0],samples[i][1]])\n",
    "                imageio.imwrite(samples_pre_pathes[i],samples[i][2].transpose(1,2,0).astype(np.uint8))\n",
    "                imageio.imwrite(samples_post_pathes[i],samples[i][3].transpose(1,2,0).astype(np.uint8))\n",
    "        info_dict={'readme':'4个字段\\n 1:pre图像路径\\n 2:post图像路径\\n 3:图像坐标\\n 4:损毁信息\\n 损毁信息有5层\\n 5层分别为完全 严重 中等 以及损毁得分和类型\\n得分:完全算6分 严重算3分 中等算1分 其他0分\\n类型0:得分0 类型1:得分1-5 类型2:得分大于6', 'info':info}\n",
    "        torch.save(info_dict,samples_root+f'{n}_{k_}_samples_info.pth')\n"
   ]
  },
  {
   "cell_type": "markdown",
   "metadata": {},
   "source": [
    "# 创建samples_slip文件"
   ]
  },
  {
   "cell_type": "code",
   "execution_count": 26,
   "metadata": {},
   "outputs": [
    {
     "name": "stdout",
     "output_type": "stream",
     "text": [
      "load sample list files\n"
     ]
    },
    {
     "name": "stderr",
     "output_type": "stream",
     "text": [
      "100%|██████████| 18/18 [00:01<00:00, 11.22it/s]\n"
     ]
    },
    {
     "name": "stdout",
     "output_type": "stream",
     "text": [
      "N: 254291\n",
      "P: 9479\n",
      "169527 84764\n",
      "6319 3160\n"
     ]
    }
   ],
   "source": [
    "#按照有无完全损毁划分\n",
    "samples_list_files=glob('/data2/Syria_img/Syria_samples/*.pth')\n",
    "all_samples_list=[]\n",
    "print('load sample list files')\n",
    "time.sleep(2)\n",
    "for i in tqdm(samples_list_files):\n",
    "    all_samples_list+=torch.load(i)['info']\n",
    "p_sample_list=[i[0] for i in all_samples_list if i[3][0]>0]\n",
    "n_sample_list=[i[0] for i in all_samples_list if i[3][0]==0]\n",
    "print('N:',len(n_sample_list))\n",
    "print('P:',len(p_sample_list))\n",
    "random.shuffle(n_sample_list)\n",
    "random.shuffle(p_sample_list)\n",
    "n_n=int(len(n_sample_list)*2/3)\n",
    "p_n=int(len(p_sample_list)*2/3)\n",
    "n_train_sample_list=[n_sample_list[i] for i in range(len(n_sample_list)) if i<n_n]\n",
    "n_val_sample_list=[n_sample_list[i] for i in range(len(n_sample_list)) if i>=n_n]\n",
    "p_train_sample_list=[p_sample_list[i] for i in range(len(p_sample_list)) if i<p_n]\n",
    "p_val_sample_list=[p_sample_list[i] for i in range(len(p_sample_list)) if i>=p_n]\n",
    "print(len(n_train_sample_list),len(n_val_sample_list))\n",
    "print(len(p_train_sample_list),len(p_val_sample_list))\n",
    "split_save_dir='/data2/Syria_img/Syria_samples/split_havedamaged/'\n",
    "torch.save(n_train_sample_list,split_save_dir+'train_n.pth')\n",
    "torch.save(n_val_sample_list,split_save_dir+'val_n.pth')\n",
    "torch.save(p_train_sample_list,split_save_dir+'train_p.pth')\n",
    "torch.save(p_val_sample_list,split_save_dir+'val_p.pth')"
   ]
  },
  {
   "cell_type": "code",
   "execution_count": 24,
   "metadata": {},
   "outputs": [
    {
     "name": "stdout",
     "output_type": "stream",
     "text": [
      "load sample list files\n"
     ]
    },
    {
     "name": "stderr",
     "output_type": "stream",
     "text": [
      "100%|██████████| 18/18 [00:01<00:00, 13.08it/s]\n"
     ]
    },
    {
     "name": "stdout",
     "output_type": "stream",
     "text": [
      "N: 248156\n",
      "P: 15614\n",
      "165437 82719\n",
      "10409 5205\n"
     ]
    }
   ],
   "source": [
    "#按照有无完全损毁划分\n",
    "samples_list_files=glob('/data2/Syria_img/Syria_samples/*.pth')\n",
    "all_samples_list=[]\n",
    "print('load sample list files')\n",
    "time.sleep(2)\n",
    "for i in tqdm(samples_list_files):\n",
    "    all_samples_list+=torch.load(i)['info']\n",
    "n_sample_list=[i[0] for i in all_samples_list if i[3][4]<2]\n",
    "p_sample_list=[i[0] for i in all_samples_list if i[3][4]==2]\n",
    "print('N:',len(n_sample_list))\n",
    "print('P:',len(p_sample_list))\n",
    "random.shuffle(n_sample_list)\n",
    "random.shuffle(p_sample_list)\n",
    "n_n=int(len(n_sample_list)*2/3)\n",
    "p_n=int(len(p_sample_list)*2/3)\n",
    "n_train_sample_list=[n_sample_list[i] for i in range(len(n_sample_list)) if i<n_n]\n",
    "n_val_sample_list=[n_sample_list[i] for i in range(len(n_sample_list)) if i>=n_n]\n",
    "p_train_sample_list=[p_sample_list[i] for i in range(len(p_sample_list)) if i<p_n]\n",
    "p_val_sample_list=[p_sample_list[i] for i in range(len(p_sample_list)) if i>=p_n]\n",
    "print(len(n_train_sample_list),len(n_val_sample_list))\n",
    "print(len(p_train_sample_list),len(p_val_sample_list))\n",
    "split_save_dir='/data2/Syria_img/Syria_samples/split_type2/'\n",
    "torch.save(n_train_sample_list,split_save_dir+'train_n.pth')\n",
    "torch.save(n_val_sample_list,split_save_dir+'val_n.pth')\n",
    "torch.save(p_train_sample_list,split_save_dir+'train_p.pth')\n",
    "torch.save(p_val_sample_list,split_save_dir+'val_p.pth')"
   ]
  },
  {
   "cell_type": "code",
   "execution_count": 23,
   "metadata": {},
   "outputs": [
    {
     "name": "stdout",
     "output_type": "stream",
     "text": [
      "/data2/Syria_img/Aleppo_B_20130923_treated_size_120_dammask.pth.tar\n",
      "202.0\n",
      "/data2/Syria_img/Aleppo_C_20140523_treated_size_120_dammask.pth.tar\n",
      "1450.0\n",
      "/data2/Syria_img/Aleppo_D_20150426_treated_size_120_dammask.pth.tar\n",
      "2538.0\n",
      "/data2/Syria_img/Aleppo_E_20150918_treated_size_120_dammask.pth.tar\n",
      "4773.0\n",
      "/data2/Syria_img/Deir-ez-Zor_B_20131024_treated_size_120_dammask.pth.tar\n",
      "285.0\n",
      "/data2/Syria_img/Deir-ez-Zor_C_20140513_treated_size_120_dammask.pth.tar\n",
      "452.0\n",
      "/data2/Syria_img/Deir-ez-Zor_D_20150510_treated_size_120_dammask.pth.tar\n",
      "538.0\n",
      "/data2/Syria_img/Deir-ez-Zor_E_20160525_treated_size_120_dammask.pth.tar\n",
      "802.0\n",
      "/data2/Syria_img/Hama_B_20130926_treated_size_120_dammask.pth.tar\n",
      "4585.0\n",
      "/data2/Syria_img/Hama_C_20140305_treated_size_120_dammask.pth.tar\n",
      "4670.0\n",
      "/data2/Syria_img/Hama_D_20140305_treated_size_120_dammask.pth.tar\n",
      "9459.0\n",
      "/data2/Syria_img/Homs_B_20130926_treated_size_120_dammask.pth.tar\n",
      "2524.0\n",
      "/data2/Syria_img/Homs_C_20140421_treated_size_120_dammask.pth.tar\n",
      "2950.0\n",
      "/data2/Syria_img/Idlib_B_20130915_treated_size_120_dammask.pth.tar\n",
      "40.0\n",
      "/data2/Syria_img/Idlib_C_20140502_treated_size_120_dammask.pth.tar\n",
      "103.0\n",
      "/data2/Syria_img/Idlib_D_20150406_treated_size_120_dammask.pth.tar\n",
      "173.0\n",
      "/data2/Syria_img/Idlib_E_20160801_treated_size_120_dammask.pth.tar\n",
      "269.0\n",
      "/data2/Syria_img/Raqqa_B_20140212_treated_size_120_dammask.pth.tar\n",
      "195.0\n",
      "/data2/Syria_img/Raqqa_C_20140212_treated_size_120_dammask.pth.tar\n",
      "239.0\n",
      "/data2/Syria_img/Raqqa_D_20150529_treated_size_120_dammask.pth.tar\n",
      "840.0\n"
     ]
    }
   ],
   "source": [
    "#正样本数量\n",
    "files=glob('/data2/Syria_img/*dammask.pth.tar')\n",
    "files.sort()\n",
    "for f in files:\n",
    "    print(f)\n",
    "    masks=torch.load(f)\n",
    "    print(masks['mask'][0].sum())"
   ]
  },
  {
   "cell_type": "code",
   "execution_count": null,
   "metadata": {},
   "outputs": [],
   "source": []
  }
 ],
 "metadata": {
  "kernelspec": {
   "display_name": "Python 3.7.7 ('pythonhzy')",
   "language": "python",
   "name": "python3"
  },
  "language_info": {
   "codemirror_mode": {
    "name": "ipython",
    "version": 3
   },
   "file_extension": ".py",
   "mimetype": "text/x-python",
   "name": "python",
   "nbconvert_exporter": "python",
   "pygments_lexer": "ipython3",
   "version": "3.7.7"
  },
  "orig_nbformat": 4,
  "vscode": {
   "interpreter": {
    "hash": "4d718dcce6334846a10299329eb191d6bfc6359cfbd5881c6d9cc2e2d9a36aa3"
   }
  }
 },
 "nbformat": 4,
 "nbformat_minor": 2
}
