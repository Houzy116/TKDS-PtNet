{
 "cells": [
  {
   "cell_type": "code",
   "execution_count": 14,
   "metadata": {},
   "outputs": [],
   "source": [
    "import gdal\n",
    "import numpy as np\n",
    "import pandas as pd\n",
    "import os\n",
    "import geopandas as gpd\n",
    "import matplotlib.pyplot as plt\n",
    "import torch\n",
    "from glob import glob\n",
    "import shapely\n",
    "import random\n",
    "from tqdm import tqdm\n",
    "from collections import Counter\n",
    "from pybob.GeoImg import GeoImg\n",
    "import osr\n",
    "from pybob.image_tools import create_mask_from_shapefile\n",
    "import gc\n",
    "import imageio\n",
    "import time\n",
    "import shutil\n",
    "import os\n",
    "import warnings\n",
    "warnings.filterwarnings('ignore')"
   ]
  },
  {
   "cell_type": "code",
   "execution_count": 58,
   "metadata": {},
   "outputs": [],
   "source": [
    "def get_mask(maskshp,geotrf,shape,p='4326'):\n",
    "    img=np.zeros((shape[0],shape[1]))\n",
    "    \n",
    "    if p=='4326':\n",
    "        sref = osr.SpatialReference()\n",
    "        sref.ImportFromEPSG(4326)\n",
    "        proj = sref.ExportToWkt()\n",
    "    else:\n",
    "        proj=p\n",
    "    \n",
    "    trf=(geotrf[0], geotrf[1], geotrf[2], geotrf[3], geotrf[4], geotrf[5])\n",
    "    drv = gdal.GetDriverByName('MEM')\n",
    "    dst = drv.Create('', shape[1], shape[0], 1, gdal.GDT_UInt16)\n",
    "\n",
    "    sp = dst.SetProjection(proj)\n",
    "    sg = dst.SetGeoTransform(trf)\n",
    "\n",
    "    wa = dst.GetRasterBand(1).WriteArray(img)\n",
    "    del wa, sg, sp\n",
    "    img_bob = GeoImg(dst)\n",
    "    mask = create_mask_from_shapefile(img_bob, maskshp)\n",
    "    return mask\n",
    "def read_img(path):\n",
    "    ds=gdal.Open(path)\n",
    "    trf=ds.GetGeoTransform()\n",
    "    img=ds.ReadAsArray()\n",
    "    return {'trf':trf,'img':img}\n",
    "def tif_save_bands(img,save_name,trf,p='4326'):\n",
    "    driver=gdal.GetDriverByName('GTiff')\n",
    "    new_img=driver.Create(save_name,img.shape[2],img.shape[1],img.shape[0],6,['COMPRESS=LZW','BIGTIFF=YES'])\n",
    "    new_img.SetGeoTransform(trf)\n",
    "    \n",
    "    if p=='4326':\n",
    "        sref = osr.SpatialReference()\n",
    "        sref.ImportFromEPSG(4326)\n",
    "        proj = sref.ExportToWkt()\n",
    "    else:\n",
    "        proj=p\n",
    "    new_img.SetProjection(proj)\n",
    "    for i in range(img.shape[0]):\n",
    "        new_img.GetRasterBand(i+1).WriteArray(img[i,:,:])\n",
    "    new_img.FlushCache()\n",
    "    del new_img\n",
    "def tif_save(img,save_name,trf,p='4326'):\n",
    "    driver=gdal.GetDriverByName('GTiff')\n",
    "    new_img=driver.Create(save_name,img.shape[1],img.shape[0],1,6,['COMPRESS=LZW','BIGTIFF=YES'])\n",
    "    new_img.SetGeoTransform(trf)\n",
    "    \n",
    "    if p=='4326':\n",
    "        sref = osr.SpatialReference()\n",
    "        sref.ImportFromEPSG(4326)\n",
    "        proj = sref.ExportToWkt()\n",
    "    else:\n",
    "        proj=p\n",
    "    new_img.SetProjection(proj)\n",
    "    new_img.GetRasterBand(1).SetNoDataValue(0)\n",
    "    new_img.GetRasterBand(1).WriteArray(img)\n",
    "    new_img.FlushCache()\n",
    "    del new_img"
   ]
  },
  {
   "cell_type": "markdown",
   "metadata": {},
   "source": [
    "# 分区mask"
   ]
  },
  {
   "cell_type": "code",
   "execution_count": 301,
   "metadata": {},
   "outputs": [
    {
     "data": {
      "text/plain": [
       "['/home/hk/python_script/Ukraine/data/UNOSAT/Lysychansk_CDA_20220921/Lysychansk_boundaries.shp',\n",
       " '/home/hk/python_script/Ukraine/data/UNOSAT/Lysychansk_CDA_20220921/Lysychansk_CDA_20220921.shp']"
      ]
     },
     "execution_count": 301,
     "metadata": {},
     "output_type": "execute_result"
    }
   ],
   "source": [
    "glob('/home/hk/python_script/Ukraine/data/UNOSAT/Lysychansk_CDA_20220921/*.shp')"
   ]
  },
  {
   "cell_type": "code",
   "execution_count": 307,
   "metadata": {},
   "outputs": [
    {
     "data": {
      "text/html": [
       "<div>\n",
       "<style scoped>\n",
       "    .dataframe tbody tr th:only-of-type {\n",
       "        vertical-align: middle;\n",
       "    }\n",
       "\n",
       "    .dataframe tbody tr th {\n",
       "        vertical-align: top;\n",
       "    }\n",
       "\n",
       "    .dataframe thead th {\n",
       "        text-align: right;\n",
       "    }\n",
       "</style>\n",
       "<table border=\"1\" class=\"dataframe\">\n",
       "  <thead>\n",
       "    <tr style=\"text-align: right;\">\n",
       "      <th></th>\n",
       "      <th>SiteID</th>\n",
       "      <th>SensorDate</th>\n",
       "      <th>SensorID</th>\n",
       "      <th>Confidence</th>\n",
       "      <th>Main_Damag</th>\n",
       "      <th>SensorDa_1</th>\n",
       "      <th>SensorID_2</th>\n",
       "      <th>Confiden_1</th>\n",
       "      <th>Main_Dam_1</th>\n",
       "      <th>Damage_Sta</th>\n",
       "      <th>...</th>\n",
       "      <th>Damage_S_4</th>\n",
       "      <th>Grouped_Da</th>\n",
       "      <th>FieldValid</th>\n",
       "      <th>Notes</th>\n",
       "      <th>Settlement</th>\n",
       "      <th>Neighborho</th>\n",
       "      <th>EventCode</th>\n",
       "      <th>Analyst</th>\n",
       "      <th>Main_Dam_5</th>\n",
       "      <th>geometry</th>\n",
       "    </tr>\n",
       "  </thead>\n",
       "  <tbody>\n",
       "    <tr>\n",
       "      <th>0</th>\n",
       "      <td>26</td>\n",
       "      <td>2022-09-21</td>\n",
       "      <td>28</td>\n",
       "      <td>2</td>\n",
       "      <td>4</td>\n",
       "      <td>None</td>\n",
       "      <td>0</td>\n",
       "      <td>0</td>\n",
       "      <td>0</td>\n",
       "      <td>0</td>\n",
       "      <td>...</td>\n",
       "      <td>0</td>\n",
       "      <td>1</td>\n",
       "      <td>0</td>\n",
       "      <td>None</td>\n",
       "      <td>Lysychansk</td>\n",
       "      <td>None</td>\n",
       "      <td>CE20220223UKR</td>\n",
       "      <td>219</td>\n",
       "      <td>0</td>\n",
       "      <td>POINT (4283778.125 6250557.354)</td>\n",
       "    </tr>\n",
       "    <tr>\n",
       "      <th>1</th>\n",
       "      <td>26</td>\n",
       "      <td>2022-09-21</td>\n",
       "      <td>28</td>\n",
       "      <td>1</td>\n",
       "      <td>3</td>\n",
       "      <td>None</td>\n",
       "      <td>0</td>\n",
       "      <td>0</td>\n",
       "      <td>0</td>\n",
       "      <td>0</td>\n",
       "      <td>...</td>\n",
       "      <td>0</td>\n",
       "      <td>1</td>\n",
       "      <td>0</td>\n",
       "      <td>Supermarket</td>\n",
       "      <td>Lysychansk</td>\n",
       "      <td>None</td>\n",
       "      <td>CE20220223UKR</td>\n",
       "      <td>219</td>\n",
       "      <td>0</td>\n",
       "      <td>POINT (4283617.128 6250550.924)</td>\n",
       "    </tr>\n",
       "    <tr>\n",
       "      <th>2</th>\n",
       "      <td>26</td>\n",
       "      <td>2022-09-21</td>\n",
       "      <td>28</td>\n",
       "      <td>3</td>\n",
       "      <td>4</td>\n",
       "      <td>None</td>\n",
       "      <td>0</td>\n",
       "      <td>0</td>\n",
       "      <td>0</td>\n",
       "      <td>0</td>\n",
       "      <td>...</td>\n",
       "      <td>0</td>\n",
       "      <td>1</td>\n",
       "      <td>0</td>\n",
       "      <td>None</td>\n",
       "      <td>Lysychansk</td>\n",
       "      <td>None</td>\n",
       "      <td>CE20220223UKR</td>\n",
       "      <td>219</td>\n",
       "      <td>0</td>\n",
       "      <td>POINT (4284165.583 6250781.036)</td>\n",
       "    </tr>\n",
       "    <tr>\n",
       "      <th>3</th>\n",
       "      <td>26</td>\n",
       "      <td>2022-09-21</td>\n",
       "      <td>28</td>\n",
       "      <td>1</td>\n",
       "      <td>3</td>\n",
       "      <td>None</td>\n",
       "      <td>0</td>\n",
       "      <td>0</td>\n",
       "      <td>0</td>\n",
       "      <td>0</td>\n",
       "      <td>...</td>\n",
       "      <td>0</td>\n",
       "      <td>1</td>\n",
       "      <td>0</td>\n",
       "      <td>None</td>\n",
       "      <td>Lysychansk</td>\n",
       "      <td>None</td>\n",
       "      <td>CE20220223UKR</td>\n",
       "      <td>219</td>\n",
       "      <td>0</td>\n",
       "      <td>POINT (4283845.973 6250624.371)</td>\n",
       "    </tr>\n",
       "    <tr>\n",
       "      <th>4</th>\n",
       "      <td>26</td>\n",
       "      <td>2022-09-21</td>\n",
       "      <td>28</td>\n",
       "      <td>2</td>\n",
       "      <td>3</td>\n",
       "      <td>None</td>\n",
       "      <td>0</td>\n",
       "      <td>0</td>\n",
       "      <td>0</td>\n",
       "      <td>0</td>\n",
       "      <td>...</td>\n",
       "      <td>0</td>\n",
       "      <td>1</td>\n",
       "      <td>0</td>\n",
       "      <td>None</td>\n",
       "      <td>Lysychansk</td>\n",
       "      <td>None</td>\n",
       "      <td>CE20220223UKR</td>\n",
       "      <td>219</td>\n",
       "      <td>0</td>\n",
       "      <td>POINT (4283868.766 6250609.508)</td>\n",
       "    </tr>\n",
       "    <tr>\n",
       "      <th>...</th>\n",
       "      <td>...</td>\n",
       "      <td>...</td>\n",
       "      <td>...</td>\n",
       "      <td>...</td>\n",
       "      <td>...</td>\n",
       "      <td>...</td>\n",
       "      <td>...</td>\n",
       "      <td>...</td>\n",
       "      <td>...</td>\n",
       "      <td>...</td>\n",
       "      <td>...</td>\n",
       "      <td>...</td>\n",
       "      <td>...</td>\n",
       "      <td>...</td>\n",
       "      <td>...</td>\n",
       "      <td>...</td>\n",
       "      <td>...</td>\n",
       "      <td>...</td>\n",
       "      <td>...</td>\n",
       "      <td>...</td>\n",
       "      <td>...</td>\n",
       "    </tr>\n",
       "    <tr>\n",
       "      <th>1399</th>\n",
       "      <td>26</td>\n",
       "      <td>2022-09-21</td>\n",
       "      <td>28</td>\n",
       "      <td>1</td>\n",
       "      <td>3</td>\n",
       "      <td>None</td>\n",
       "      <td>0</td>\n",
       "      <td>0</td>\n",
       "      <td>0</td>\n",
       "      <td>0</td>\n",
       "      <td>...</td>\n",
       "      <td>0</td>\n",
       "      <td>1</td>\n",
       "      <td>0</td>\n",
       "      <td>None</td>\n",
       "      <td>Lysychansk</td>\n",
       "      <td>None</td>\n",
       "      <td>CE20220223UKR</td>\n",
       "      <td>219</td>\n",
       "      <td>0</td>\n",
       "      <td>POINT (4282349.666 6257713.380)</td>\n",
       "    </tr>\n",
       "    <tr>\n",
       "      <th>1400</th>\n",
       "      <td>26</td>\n",
       "      <td>2022-09-21</td>\n",
       "      <td>28</td>\n",
       "      <td>2</td>\n",
       "      <td>4</td>\n",
       "      <td>None</td>\n",
       "      <td>0</td>\n",
       "      <td>0</td>\n",
       "      <td>0</td>\n",
       "      <td>0</td>\n",
       "      <td>...</td>\n",
       "      <td>0</td>\n",
       "      <td>1</td>\n",
       "      <td>0</td>\n",
       "      <td>None</td>\n",
       "      <td>Lysychansk</td>\n",
       "      <td>None</td>\n",
       "      <td>CE20220223UKR</td>\n",
       "      <td>219</td>\n",
       "      <td>0</td>\n",
       "      <td>POINT (4279941.378 6260018.842)</td>\n",
       "    </tr>\n",
       "    <tr>\n",
       "      <th>1401</th>\n",
       "      <td>26</td>\n",
       "      <td>2022-09-21</td>\n",
       "      <td>28</td>\n",
       "      <td>3</td>\n",
       "      <td>3</td>\n",
       "      <td>None</td>\n",
       "      <td>0</td>\n",
       "      <td>0</td>\n",
       "      <td>0</td>\n",
       "      <td>0</td>\n",
       "      <td>...</td>\n",
       "      <td>0</td>\n",
       "      <td>1</td>\n",
       "      <td>0</td>\n",
       "      <td>None</td>\n",
       "      <td>Lysychansk</td>\n",
       "      <td>None</td>\n",
       "      <td>CE20220223UKR</td>\n",
       "      <td>219</td>\n",
       "      <td>0</td>\n",
       "      <td>POINT (4279424.939 6260376.964)</td>\n",
       "    </tr>\n",
       "    <tr>\n",
       "      <th>1402</th>\n",
       "      <td>26</td>\n",
       "      <td>2022-09-21</td>\n",
       "      <td>28</td>\n",
       "      <td>2</td>\n",
       "      <td>3</td>\n",
       "      <td>None</td>\n",
       "      <td>0</td>\n",
       "      <td>0</td>\n",
       "      <td>0</td>\n",
       "      <td>0</td>\n",
       "      <td>...</td>\n",
       "      <td>0</td>\n",
       "      <td>1</td>\n",
       "      <td>0</td>\n",
       "      <td>None</td>\n",
       "      <td>Lysychansk</td>\n",
       "      <td>None</td>\n",
       "      <td>CE20220223UKR</td>\n",
       "      <td>219</td>\n",
       "      <td>0</td>\n",
       "      <td>POINT (4268919.626 6262722.496)</td>\n",
       "    </tr>\n",
       "    <tr>\n",
       "      <th>1403</th>\n",
       "      <td>26</td>\n",
       "      <td>2022-09-21</td>\n",
       "      <td>28</td>\n",
       "      <td>2</td>\n",
       "      <td>3</td>\n",
       "      <td>None</td>\n",
       "      <td>0</td>\n",
       "      <td>0</td>\n",
       "      <td>0</td>\n",
       "      <td>0</td>\n",
       "      <td>...</td>\n",
       "      <td>0</td>\n",
       "      <td>1</td>\n",
       "      <td>0</td>\n",
       "      <td>None</td>\n",
       "      <td>Lysychansk</td>\n",
       "      <td>None</td>\n",
       "      <td>CE20220223UKR</td>\n",
       "      <td>219</td>\n",
       "      <td>0</td>\n",
       "      <td>POINT (4268937.284 6262737.127)</td>\n",
       "    </tr>\n",
       "  </tbody>\n",
       "</table>\n",
       "<p>1404 rows × 38 columns</p>\n",
       "</div>"
      ],
      "text/plain": [
       "      SiteID  SensorDate  SensorID  Confidence  Main_Damag SensorDa_1  \\\n",
       "0         26  2022-09-21        28           2           4       None   \n",
       "1         26  2022-09-21        28           1           3       None   \n",
       "2         26  2022-09-21        28           3           4       None   \n",
       "3         26  2022-09-21        28           1           3       None   \n",
       "4         26  2022-09-21        28           2           3       None   \n",
       "...      ...         ...       ...         ...         ...        ...   \n",
       "1399      26  2022-09-21        28           1           3       None   \n",
       "1400      26  2022-09-21        28           2           4       None   \n",
       "1401      26  2022-09-21        28           3           3       None   \n",
       "1402      26  2022-09-21        28           2           3       None   \n",
       "1403      26  2022-09-21        28           2           3       None   \n",
       "\n",
       "      SensorID_2  Confiden_1  Main_Dam_1  Damage_Sta  ... Damage_S_4  \\\n",
       "0              0           0           0           0  ...          0   \n",
       "1              0           0           0           0  ...          0   \n",
       "2              0           0           0           0  ...          0   \n",
       "3              0           0           0           0  ...          0   \n",
       "4              0           0           0           0  ...          0   \n",
       "...          ...         ...         ...         ...  ...        ...   \n",
       "1399           0           0           0           0  ...          0   \n",
       "1400           0           0           0           0  ...          0   \n",
       "1401           0           0           0           0  ...          0   \n",
       "1402           0           0           0           0  ...          0   \n",
       "1403           0           0           0           0  ...          0   \n",
       "\n",
       "      Grouped_Da  FieldValid        Notes  Settlement  Neighborho  \\\n",
       "0              1           0         None  Lysychansk        None   \n",
       "1              1           0  Supermarket  Lysychansk        None   \n",
       "2              1           0         None  Lysychansk        None   \n",
       "3              1           0         None  Lysychansk        None   \n",
       "4              1           0         None  Lysychansk        None   \n",
       "...          ...         ...          ...         ...         ...   \n",
       "1399           1           0         None  Lysychansk        None   \n",
       "1400           1           0         None  Lysychansk        None   \n",
       "1401           1           0         None  Lysychansk        None   \n",
       "1402           1           0         None  Lysychansk        None   \n",
       "1403           1           0         None  Lysychansk        None   \n",
       "\n",
       "          EventCode  Analyst  Main_Dam_5                         geometry  \n",
       "0     CE20220223UKR      219           0  POINT (4283778.125 6250557.354)  \n",
       "1     CE20220223UKR      219           0  POINT (4283617.128 6250550.924)  \n",
       "2     CE20220223UKR      219           0  POINT (4284165.583 6250781.036)  \n",
       "3     CE20220223UKR      219           0  POINT (4283845.973 6250624.371)  \n",
       "4     CE20220223UKR      219           0  POINT (4283868.766 6250609.508)  \n",
       "...             ...      ...         ...                              ...  \n",
       "1399  CE20220223UKR      219           0  POINT (4282349.666 6257713.380)  \n",
       "1400  CE20220223UKR      219           0  POINT (4279941.378 6260018.842)  \n",
       "1401  CE20220223UKR      219           0  POINT (4279424.939 6260376.964)  \n",
       "1402  CE20220223UKR      219           0  POINT (4268919.626 6262722.496)  \n",
       "1403  CE20220223UKR      219           0  POINT (4268937.284 6262737.127)  \n",
       "\n",
       "[1404 rows x 38 columns]"
      ]
     },
     "execution_count": 307,
     "metadata": {},
     "output_type": "execute_result"
    }
   ],
   "source": [
    "gpd.read_file('/home/hk/python_script/Ukraine/data/UNOSAT/Lysychansk_CDA_20220921/Lysychansk_CDA_20220921.shp')"
   ]
  },
  {
   "cell_type": "code",
   "execution_count": 59,
   "metadata": {},
   "outputs": [
    {
     "data": {
      "text/plain": [
       "<matplotlib.image.AxesImage at 0x7f1027c4e410>"
      ]
     },
     "execution_count": 59,
     "metadata": {},
     "output_type": "execute_result"
    },
    {
     "data": {
      "image/png": "[encoded data removed]",
      "text/plain": [
       "<Figure size 432x288 with 1 Axes>"
      ]
     },
     "metadata": {
      "needs_background": "light"
     },
     "output_type": "display_data"
    }
   ],
   "source": [
    "cities=['Sievierodoetsk','Rubizhne','volnovskha']\n",
    "fs=glob(f'/data4/Ukraine_img/{cities[2]}/*')\n",
    "fs.sort()\n",
    "f=fs[0]\n",
    "ds=gdal.Open(f)\n",
    "trf=ds.GetGeoTransform()\n",
    "shape=ds.ReadAsArray().shape\n",
    "shps=['/home/hk/python_script/Ukraine/data/UNOSAT/Sievierodonetsk_CDA_20220725/Sievierodoetsk_boundary.shp',\n",
    "'/home/hk/python_script/Ukraine/data/UNOSAT/Rubizhne_CDA_20220709/Rubizhne_boundary.shp',\n",
    "'/home/hk/python_script/Ukraine/data/UNOSAT/volnovakha/volnovakha.shp']\n",
    "mask=get_mask(shps[2],trf,[shape[1],shape[2]],p='4326')\n",
    "plt.imshow(mask)"
   ]
  },
  {
   "cell_type": "code",
   "execution_count": 35,
   "metadata": {},
   "outputs": [],
   "source": [
    "# labels_date={'A':['20210910'],\n",
    "#                 'A-B':['20220319','20220324','20220329','20220408','20220423','20220508','20220523','20220612','20220617','20220627','20220702','20220707','20220717'],\n",
    "#                 'B':[],\n",
    "#                 'B-Z':['20220727','20220801','20220806','20220811','20220831','20220905','20220920']}\n",
    "# points_path='/home/hk/python_script/Ukraine/data/UNOSAT/Sievierodonetsk_CDA_20220725/Sievierodonetsk_B_2022-07-25.shp'\n",
    "\n",
    "# labels_date={'A':['20210910'],\n",
    "#                 'A-B':['20220319','20220324','20220329','20220423','20220508','20220523','20220612','20220617','20220627','20220702','20220707','20220717'],\n",
    "#                 'B':[],\n",
    "#                 'B-Z':['20220727','20220801','20220806','20220831','20220905','20220920']}\n",
    "# points_path='/home/hk/python_script/Ukraine/data/UNOSAT/Rubizhne_CDA_20220709/Rubizhne_B_2022-07-09.shp'\n",
    "\n",
    "labels_date={'A':['20210910'],\n",
    "                'A-B':['20220314','20220319','20220324','20220329','20220403','20220428','20220503'],\n",
    "                'B':[],\n",
    "                'B-Z':['20220508','20220513','20220528','20220602','20220607','20220612','20220617','20220622']}\n",
    "points_path='/home/hk/python_script/Ukraine/data/UNOSAT/volnovakha/Volnovakha_B_2022-05-07.shp'"
   ]
  },
  {
   "cell_type": "code",
   "execution_count": 34,
   "metadata": {},
   "outputs": [
    {
     "name": "stdout",
     "output_type": "stream",
     "text": [
      "S 92\n",
      "R 488\n",
      "V 264\n"
     ]
    }
   ],
   "source": [
    "ps_path=['/home/hk/python_script/Ukraine/data/UNOSAT/Sievierodonetsk_CDA_20220725/Sievierodonetsk_B_2022-07-25.shp',\n",
    "'/home/hk/python_script/Ukraine/data/UNOSAT/Rubizhne_CDA_20220709/Rubizhne_B_2022-07-09.shp',\n",
    "'/home/hk/python_script/Ukraine/data/UNOSAT/volnovakha/Volnovakha_B_2022-05-07.shp']\n",
    "/home/hk/python_script/Ukraine/data/UNOSAT/Azovstal_25April2022_CDA/\n",
    "/home/hk/python_script/Ukraine/data/UNOSAT/LivoberezhnyiandZhovtnevyi_0507-08-12/\n",
    "f=gpd.read_file(ps_path[0])\n",
    "print('S',len(f[f['DmgCls']=='Destroyed']))\n",
    "f=gpd.read_file(ps_path[1])\n",
    "print('R',len(f[f['DmgCls']=='Destroyed']))\n",
    "f=gpd.read_file(ps_path[2])\n",
    "print('V',len(f[f['DmgCls']=='Destroyed']))"
   ]
  },
  {
   "cell_type": "code",
   "execution_count": 31,
   "metadata": {},
   "outputs": [],
   "source": [
    "# points_path='/home/hk/python_script/Ukraine/data/UNOSAT/volnovakha/Volnovakha_CDA_20220530.shp'\n",
    "# points=gpd.read_file(points_path)\n",
    "# points=points.to_crs(4326)\n",
    "# points=points[points['Main_Damag']<4.5]\n",
    "# k={1:'Destroyed',2:'Severe Damage',3:'Moderate Damage',4:'Possible Damage'}\n",
    "# DmgCls=[k[i] for i in list(points['Main_Damag'])]\n",
    "# points=gpd.GeoDataFrame({'a':list(range(len(points))),\n",
    "#                         'SiteID':['None']*len(points),\n",
    "#                         'SensDt':['2022-05-07']*len(points),\n",
    "#                         'DmgCls':DmgCls,\n",
    "#                         'StlmtNme':['Volnovakha']*len(points),\n",
    "#                         'geometry':list(points['geometry'])})\n",
    "# points.to_file('/home/hk/python_script/Ukraine/data/UNOSAT/volnovakha/Volnovakha_B_2022-05-07.shp')\n"
   ]
  },
  {
   "cell_type": "code",
   "execution_count": 30,
   "metadata": {},
   "outputs": [
    {
     "data": {
      "text/html": [
       "<div>\n",
       "<style scoped>\n",
       "    .dataframe tbody tr th:only-of-type {\n",
       "        vertical-align: middle;\n",
       "    }\n",
       "\n",
       "    .dataframe tbody tr th {\n",
       "        vertical-align: top;\n",
       "    }\n",
       "\n",
       "    .dataframe thead th {\n",
       "        text-align: right;\n",
       "    }\n",
       "</style>\n",
       "<table border=\"1\" class=\"dataframe\">\n",
       "  <thead>\n",
       "    <tr style=\"text-align: right;\">\n",
       "      <th></th>\n",
       "      <th>a</th>\n",
       "      <th>SiteID</th>\n",
       "      <th>SensDt</th>\n",
       "      <th>DmgCls</th>\n",
       "      <th>StlmtNme</th>\n",
       "      <th>geometry</th>\n",
       "    </tr>\n",
       "  </thead>\n",
       "  <tbody>\n",
       "    <tr>\n",
       "      <th>0</th>\n",
       "      <td>0</td>\n",
       "      <td>None</td>\n",
       "      <td>2022-05-07</td>\n",
       "      <td>Severe Damage</td>\n",
       "      <td>Rubizhne</td>\n",
       "      <td>POINT (37.51120 47.61480)</td>\n",
       "    </tr>\n",
       "    <tr>\n",
       "      <th>1</th>\n",
       "      <td>1</td>\n",
       "      <td>None</td>\n",
       "      <td>2022-05-07</td>\n",
       "      <td>Severe Damage</td>\n",
       "      <td>Rubizhne</td>\n",
       "      <td>POINT (37.51112 47.61458)</td>\n",
       "    </tr>\n",
       "    <tr>\n",
       "      <th>2</th>\n",
       "      <td>2</td>\n",
       "      <td>None</td>\n",
       "      <td>2022-05-07</td>\n",
       "      <td>Severe Damage</td>\n",
       "      <td>Rubizhne</td>\n",
       "      <td>POINT (37.51095 47.61429)</td>\n",
       "    </tr>\n",
       "    <tr>\n",
       "      <th>3</th>\n",
       "      <td>3</td>\n",
       "      <td>None</td>\n",
       "      <td>2022-05-07</td>\n",
       "      <td>Severe Damage</td>\n",
       "      <td>Rubizhne</td>\n",
       "      <td>POINT (37.50954 47.61475)</td>\n",
       "    </tr>\n",
       "    <tr>\n",
       "      <th>4</th>\n",
       "      <td>4</td>\n",
       "      <td>None</td>\n",
       "      <td>2022-05-07</td>\n",
       "      <td>Severe Damage</td>\n",
       "      <td>Rubizhne</td>\n",
       "      <td>POINT (37.50963 47.61461)</td>\n",
       "    </tr>\n",
       "    <tr>\n",
       "      <th>...</th>\n",
       "      <td>...</td>\n",
       "      <td>...</td>\n",
       "      <td>...</td>\n",
       "      <td>...</td>\n",
       "      <td>...</td>\n",
       "      <td>...</td>\n",
       "    </tr>\n",
       "    <tr>\n",
       "      <th>974</th>\n",
       "      <td>974</td>\n",
       "      <td>None</td>\n",
       "      <td>2022-05-07</td>\n",
       "      <td>Severe Damage</td>\n",
       "      <td>Rubizhne</td>\n",
       "      <td>POINT (37.49163 47.59390)</td>\n",
       "    </tr>\n",
       "    <tr>\n",
       "      <th>975</th>\n",
       "      <td>975</td>\n",
       "      <td>None</td>\n",
       "      <td>2022-05-07</td>\n",
       "      <td>Severe Damage</td>\n",
       "      <td>Rubizhne</td>\n",
       "      <td>POINT (37.49224 47.59255)</td>\n",
       "    </tr>\n",
       "    <tr>\n",
       "      <th>976</th>\n",
       "      <td>976</td>\n",
       "      <td>None</td>\n",
       "      <td>2022-05-07</td>\n",
       "      <td>Moderate Damage</td>\n",
       "      <td>Rubizhne</td>\n",
       "      <td>POINT (37.49811 47.58869)</td>\n",
       "    </tr>\n",
       "    <tr>\n",
       "      <th>977</th>\n",
       "      <td>977</td>\n",
       "      <td>None</td>\n",
       "      <td>2022-05-07</td>\n",
       "      <td>Moderate Damage</td>\n",
       "      <td>Rubizhne</td>\n",
       "      <td>POINT (37.49846 47.58838)</td>\n",
       "    </tr>\n",
       "    <tr>\n",
       "      <th>978</th>\n",
       "      <td>978</td>\n",
       "      <td>None</td>\n",
       "      <td>2022-05-07</td>\n",
       "      <td>Severe Damage</td>\n",
       "      <td>Rubizhne</td>\n",
       "      <td>POINT (37.50029 47.58843)</td>\n",
       "    </tr>\n",
       "  </tbody>\n",
       "</table>\n",
       "<p>979 rows × 6 columns</p>\n",
       "</div>"
      ],
      "text/plain": [
       "       a SiteID      SensDt           DmgCls  StlmtNme  \\\n",
       "0      0   None  2022-05-07    Severe Damage  Rubizhne   \n",
       "1      1   None  2022-05-07    Severe Damage  Rubizhne   \n",
       "2      2   None  2022-05-07    Severe Damage  Rubizhne   \n",
       "3      3   None  2022-05-07    Severe Damage  Rubizhne   \n",
       "4      4   None  2022-05-07    Severe Damage  Rubizhne   \n",
       "..   ...    ...         ...              ...       ...   \n",
       "974  974   None  2022-05-07    Severe Damage  Rubizhne   \n",
       "975  975   None  2022-05-07    Severe Damage  Rubizhne   \n",
       "976  976   None  2022-05-07  Moderate Damage  Rubizhne   \n",
       "977  977   None  2022-05-07  Moderate Damage  Rubizhne   \n",
       "978  978   None  2022-05-07    Severe Damage  Rubizhne   \n",
       "\n",
       "                      geometry  \n",
       "0    POINT (37.51120 47.61480)  \n",
       "1    POINT (37.51112 47.61458)  \n",
       "2    POINT (37.51095 47.61429)  \n",
       "3    POINT (37.50954 47.61475)  \n",
       "4    POINT (37.50963 47.61461)  \n",
       "..                         ...  \n",
       "974  POINT (37.49163 47.59390)  \n",
       "975  POINT (37.49224 47.59255)  \n",
       "976  POINT (37.49811 47.58869)  \n",
       "977  POINT (37.49846 47.58838)  \n",
       "978  POINT (37.50029 47.58843)  \n",
       "\n",
       "[979 rows x 6 columns]"
      ]
     },
     "execution_count": 30,
     "metadata": {},
     "output_type": "execute_result"
    }
   ],
   "source": [
    "points"
   ]
  },
  {
   "cell_type": "code",
   "execution_count": 21,
   "metadata": {},
   "outputs": [],
   "source": [
    "def resample(input_path,output_path):\n",
    "    ds=gdal.Open(input_path)\n",
    "    width=ds.RasterXSize\n",
    "    height=ds.RasterYSize\n",
    "    transform=ds.GetGeoTransform()\n",
    "    width=int(width/2)\n",
    "    height=int(height/2)\n",
    "\n",
    "\n",
    "    driver=gdal.GetDriverByName('GTiff')\n",
    "    new_img=driver.Create(output_path,\n",
    "                                   width,height,6,6,['COMPRESS=LZW','BIGTIFF=YES'])\n",
    "    transform_new=(transform[0]+transform[1],transform[1]*2,transform[2],transform[3]+transform[5],transform[4],transform[5]*2)\n",
    "    new_img.SetGeoTransform(transform_new)\n",
    "    new_img.SetProjection(ds.GetProjection())\n",
    "    for i in range(5,11):\n",
    "        band = ds.GetRasterBand(i)\n",
    "        data = band.ReadAsArray(buf_xsize=width,buf_ysize=height)\n",
    "\n",
    "        new_img.GetRasterBand(i-4).SetNoDataValue(0)\n",
    "        new_img.GetRasterBand(i-4).WriteArray(data)\n",
    "    new_img.FlushCache()\n",
    "    print('重采样完成：',input_path)\n",
    "    del ds\n",
    "    del new_img\n",
    "    del data"
   ]
  },
  {
   "cell_type": "code",
   "execution_count": 19,
   "metadata": {},
   "outputs": [
    {
     "name": "stdout",
     "output_type": "stream",
     "text": [
      "(10, 572, 922)\n",
      "(10, 572, 922)\n",
      "(10, 572, 922)\n",
      "(10, 572, 922)\n",
      "(10, 572, 922)\n",
      "(10, 572, 922)\n",
      "(10, 572, 922)\n",
      "(10, 572, 922)\n",
      "(10, 572, 922)\n",
      "(10, 572, 922)\n",
      "(10, 572, 922)\n",
      "(10, 572, 922)\n",
      "(10, 572, 922)\n",
      "(10, 572, 922)\n",
      "(10, 572, 922)\n",
      "(10, 572, 922)\n",
      "(10, 572, 922)\n"
     ]
    },
    {
     "name": "stderr",
     "output_type": "stream",
     "text": [
      "Warning 1: TIFFReadDirectory:Sum of Photometric type-related color channels and ExtraSamples doesn't match SamplesPerPixel. Defining non-color channels as ExtraSamples.\n",
      "Warning 1: TIFFReadDirectory:Sum of Photometric type-related color channels and ExtraSamples doesn't match SamplesPerPixel. Defining non-color channels as ExtraSamples.\n",
      "Warning 1: TIFFReadDirectory:Sum of Photometric type-related color channels and ExtraSamples doesn't match SamplesPerPixel. Defining non-color channels as ExtraSamples.\n",
      "Warning 1: TIFFReadDirectory:Sum of Photometric type-related color channels and ExtraSamples doesn't match SamplesPerPixel. Defining non-color channels as ExtraSamples.\n",
      "Warning 1: TIFFReadDirectory:Sum of Photometric type-related color channels and ExtraSamples doesn't match SamplesPerPixel. Defining non-color channels as ExtraSamples.\n",
      "Warning 1: TIFFReadDirectory:Sum of Photometric type-related color channels and ExtraSamples doesn't match SamplesPerPixel. Defining non-color channels as ExtraSamples.\n",
      "Warning 1: TIFFReadDirectory:Sum of Photometric type-related color channels and ExtraSamples doesn't match SamplesPerPixel. Defining non-color channels as ExtraSamples.\n",
      "Warning 1: TIFFReadDirectory:Sum of Photometric type-related color channels and ExtraSamples doesn't match SamplesPerPixel. Defining non-color channels as ExtraSamples.\n",
      "Warning 1: TIFFReadDirectory:Sum of Photometric type-related color channels and ExtraSamples doesn't match SamplesPerPixel. Defining non-color channels as ExtraSamples.\n"
     ]
    }
   ],
   "source": [
    "fs=glob('/data4/Ukraine_img/volnovskha/*')\n",
    "fs.sort()\n",
    "for f in fs:\n",
    "    ds=gdal.Open(f)\n",
    "    img=ds.ReadAsArray()\n",
    "    print(img.shape)"
   ]
  },
  {
   "cell_type": "code",
   "execution_count": 62,
   "metadata": {},
   "outputs": [
    {
     "name": "stderr",
     "output_type": "stream",
     "text": [
      "Warning 1: TIFFReadDirectory:Sum of Photometric type-related color channels and ExtraSamples doesn't match SamplesPerPixel. Defining non-color channels as ExtraSamples.\n",
      "Warning 1: TIFFReadDirectory:Sum of Photometric type-related color channels and ExtraSamples doesn't match SamplesPerPixel. Defining non-color channels as ExtraSamples.\n",
      "Warning 1: TIFFReadDirectory:Sum of Photometric type-related color channels and ExtraSamples doesn't match SamplesPerPixel. Defining non-color channels as ExtraSamples.\n",
      "Warning 1: TIFFReadDirectory:Sum of Photometric type-related color channels and ExtraSamples doesn't match SamplesPerPixel. Defining non-color channels as ExtraSamples.\n",
      "Warning 1: TIFFReadDirectory:Sum of Photometric type-related color channels and ExtraSamples doesn't match SamplesPerPixel. Defining non-color channels as ExtraSamples.\n",
      "Warning 1: TIFFReadDirectory:Sum of Photometric type-related color channels and ExtraSamples doesn't match SamplesPerPixel. Defining non-color channels as ExtraSamples.\n",
      "Warning 1: TIFFReadDirectory:Sum of Photometric type-related color channels and ExtraSamples doesn't match SamplesPerPixel. Defining non-color channels as ExtraSamples.\n",
      "Warning 1: TIFFReadDirectory:Sum of Photometric type-related color channels and ExtraSamples doesn't match SamplesPerPixel. Defining non-color channels as ExtraSamples.\n",
      "Warning 1: TIFFReadDirectory:Sum of Photometric type-related color channels and ExtraSamples doesn't match SamplesPerPixel. Defining non-color channels as ExtraSamples.\n",
      "Warning 1: TIFFReadDirectory:Sum of Photometric type-related color channels and ExtraSamples doesn't match SamplesPerPixel. Defining non-color channels as ExtraSamples.\n",
      "Warning 1: TIFFReadDirectory:Sum of Photometric type-related color channels and ExtraSamples doesn't match SamplesPerPixel. Defining non-color channels as ExtraSamples.\n",
      "Warning 1: TIFFReadDirectory:Sum of Photometric type-related color channels and ExtraSamples doesn't match SamplesPerPixel. Defining non-color channels as ExtraSamples.\n",
      "Warning 1: TIFFReadDirectory:Sum of Photometric type-related color channels and ExtraSamples doesn't match SamplesPerPixel. Defining non-color channels as ExtraSamples.\n",
      "Warning 1: TIFFReadDirectory:Sum of Photometric type-related color channels and ExtraSamples doesn't match SamplesPerPixel. Defining non-color channels as ExtraSamples.\n",
      "Warning 1: TIFFReadDirectory:Sum of Photometric type-related color channels and ExtraSamples doesn't match SamplesPerPixel. Defining non-color channels as ExtraSamples.\n",
      "Warning 1: TIFFReadDirectory:Sum of Photometric type-related color channels and ExtraSamples doesn't match SamplesPerPixel. Defining non-color channels as ExtraSamples.\n",
      "Warning 1: TIFFReadDirectory:Sum of Photometric type-related color channels and ExtraSamples doesn't match SamplesPerPixel. Defining non-color channels as ExtraSamples.\n",
      "Warning 1: TIFFReadDirectory:Sum of Photometric type-related color channels and ExtraSamples doesn't match SamplesPerPixel. Defining non-color channels as ExtraSamples.\n",
      "Warning 1: TIFFReadDirectory:Sum of Photometric type-related color channels and ExtraSamples doesn't match SamplesPerPixel. Defining non-color channels as ExtraSamples.\n",
      "Warning 1: TIFFReadDirectory:Sum of Photometric type-related color channels and ExtraSamples doesn't match SamplesPerPixel. Defining non-color channels as ExtraSamples.\n"
     ]
    }
   ],
   "source": [
    "# tif_save(img,save_name,trf,p='4326')\n",
    "for f in fs:\n",
    "    ds=gdal.Open(f)\n",
    "    img=ds.ReadAsArray()\n",
    "    trf=ds.GetGeoTransform()\n",
    "    tif_save_bands(img[:,:-1,:-1],f,trf)"
   ]
  },
  {
   "cell_type": "code",
   "execution_count": 22,
   "metadata": {},
   "outputs": [
    {
     "name": "stdout",
     "output_type": "stream",
     "text": [
      "/data4/Ukraine_img/volnovskha/20210910T082601_20210910T083119_T37TCN_bandother.tif\n",
      "重采样完成： /data4/Ukraine_img/volnovskha/20210910T082601_20210910T083119_T37TCN.tif\n",
      "/data4/Ukraine_img/volnovskha/20220309T082801_20220309T083304_T37TCN_bandother.tif\n",
      "重采样完成： /data4/Ukraine_img/volnovskha/20220309T082801_20220309T083304_T37TCN.tif\n",
      "/data4/Ukraine_img/volnovskha/20220314T082719_20220314T083610_T37TCN_bandother.tif\n",
      "重采样完成： /data4/Ukraine_img/volnovskha/20220314T082719_20220314T083610_T37TCN.tif\n",
      "/data4/Ukraine_img/volnovskha/20220319T082651_20220319T083304_T37TCN_bandother.tif\n",
      "重采样完成： /data4/Ukraine_img/volnovskha/20220319T082651_20220319T083304_T37TCN.tif\n",
      "/data4/Ukraine_img/volnovskha/20220324T082609_20220324T083426_T37TCN_bandother.tif\n",
      "重采样完成： /data4/Ukraine_img/volnovskha/20220324T082609_20220324T083426_T37TCN.tif\n",
      "/data4/Ukraine_img/volnovskha/20220329T082601_20220329T083216_T37TCN_bandother.tif\n",
      "重采样完成： /data4/Ukraine_img/volnovskha/20220329T082601_20220329T083216_T37TCN.tif\n",
      "/data4/Ukraine_img/volnovskha/20220403T082559_20220403T083553_T37TCN_bandother.tif\n",
      "重采样完成： /data4/Ukraine_img/volnovskha/20220403T082559_20220403T083553_T37TCN.tif\n",
      "/data4/Ukraine_img/volnovskha/20220428T082611_20220428T083305_T37TCN_bandother.tif\n",
      "重采样完成： /data4/Ukraine_img/volnovskha/20220428T082611_20220428T083305_T37TCN.tif\n",
      "/data4/Ukraine_img/volnovskha/20220503T082559_20220503T083512_T37TCN_bandother.tif\n",
      "重采样完成： /data4/Ukraine_img/volnovskha/20220503T082559_20220503T083512_T37TCN.tif\n",
      "/data4/Ukraine_img/volnovskha/20220508T082611_20220508T083304_T37TCN_bandother.tif\n",
      "重采样完成： /data4/Ukraine_img/volnovskha/20220508T082611_20220508T083304_T37TCN.tif\n",
      "/data4/Ukraine_img/volnovskha/20220513T082559_20220513T082940_T37TCN_bandother.tif\n",
      "重采样完成： /data4/Ukraine_img/volnovskha/20220513T082559_20220513T082940_T37TCN.tif\n",
      "/data4/Ukraine_img/volnovskha/20220528T082611_20220528T083641_T37TCN_bandother.tif\n",
      "重采样完成： /data4/Ukraine_img/volnovskha/20220528T082611_20220528T083641_T37TCN.tif\n",
      "/data4/Ukraine_img/volnovskha/20220602T082559_20220602T082807_T37TCN_bandother.tif\n"
     ]
    },
    {
     "name": "stderr",
     "output_type": "stream",
     "text": [
      "Warning 1: TIFFReadDirectory:Sum of Photometric type-related color channels and ExtraSamples doesn't match SamplesPerPixel. Defining non-color channels as ExtraSamples.\n",
      "Warning 1: TIFFReadDirectory:Sum of Photometric type-related color channels and ExtraSamples doesn't match SamplesPerPixel. Defining non-color channels as ExtraSamples.\n",
      "Warning 1: TIFFReadDirectory:Sum of Photometric type-related color channels and ExtraSamples doesn't match SamplesPerPixel. Defining non-color channels as ExtraSamples.\n",
      "Warning 1: TIFFReadDirectory:Sum of Photometric type-related color channels and ExtraSamples doesn't match SamplesPerPixel. Defining non-color channels as ExtraSamples.\n",
      "Warning 1: TIFFReadDirectory:Sum of Photometric type-related color channels and ExtraSamples doesn't match SamplesPerPixel. Defining non-color channels as ExtraSamples.\n",
      "Warning 1: TIFFReadDirectory:Sum of Photometric type-related color channels and ExtraSamples doesn't match SamplesPerPixel. Defining non-color channels as ExtraSamples.\n"
     ]
    },
    {
     "name": "stdout",
     "output_type": "stream",
     "text": [
      "重采样完成： /data4/Ukraine_img/volnovskha/20220602T082559_20220602T082807_T37TCN.tif\n",
      "/data4/Ukraine_img/volnovskha/20220607T082611_20220607T083435_T37TCN_bandother.tif\n",
      "重采样完成： /data4/Ukraine_img/volnovskha/20220607T082611_20220607T083435_T37TCN.tif\n",
      "/data4/Ukraine_img/volnovskha/20220612T082609_20220612T082840_T37TCN_bandother.tif\n",
      "重采样完成： /data4/Ukraine_img/volnovskha/20220612T082609_20220612T082840_T37TCN.tif\n",
      "/data4/Ukraine_img/volnovskha/20220617T082611_20220617T083253_T37TCN_bandother.tif\n",
      "重采样完成： /data4/Ukraine_img/volnovskha/20220617T082611_20220617T083253_T37TCN.tif\n",
      "/data4/Ukraine_img/volnovskha/20220622T082609_20220622T082834_T37TCN_bandother.tif\n",
      "重采样完成： /data4/Ukraine_img/volnovskha/20220622T082609_20220622T082834_T37TCN.tif\n"
     ]
    },
    {
     "name": "stderr",
     "output_type": "stream",
     "text": [
      "Warning 1: TIFFReadDirectory:Sum of Photometric type-related color channels and ExtraSamples doesn't match SamplesPerPixel. Defining non-color channels as ExtraSamples.\n",
      "Warning 1: TIFFReadDirectory:Sum of Photometric type-related color channels and ExtraSamples doesn't match SamplesPerPixel. Defining non-color channels as ExtraSamples.\n",
      "Warning 1: TIFFReadDirectory:Sum of Photometric type-related color channels and ExtraSamples doesn't match SamplesPerPixel. Defining non-color channels as ExtraSamples.\n"
     ]
    }
   ],
   "source": [
    "fs=glob('/data4/Ukraine_img/volnovskha/*')\n",
    "fs.sort()\n",
    "for f in fs:\n",
    "    print(f.replace('.tif','_bandother.tif'))\n",
    "    resample(f,f.replace('.tif','_bandother.tif'))"
   ]
  },
  {
   "cell_type": "code",
   "execution_count": 23,
   "metadata": {},
   "outputs": [
    {
     "name": "stdout",
     "output_type": "stream",
     "text": [
      "(10, 572, 922)\n",
      "(10, 572, 922)\n",
      "(10, 572, 922)\n",
      "(10, 572, 922)\n",
      "(10, 572, 922)\n",
      "(10, 572, 922)\n",
      "(10, 572, 922)\n",
      "(10, 572, 922)\n",
      "(10, 572, 922)\n",
      "(10, 572, 922)\n",
      "(10, 572, 922)\n",
      "(10, 572, 922)\n",
      "(10, 572, 922)\n",
      "(10, 572, 922)\n",
      "(10, 572, 922)\n",
      "(10, 572, 922)\n",
      "(10, 572, 922)\n",
      "(6, 286, 461)\n",
      "(6, 286, 461)\n"
     ]
    },
    {
     "name": "stderr",
     "output_type": "stream",
     "text": [
      "Warning 1: TIFFReadDirectory:Sum of Photometric type-related color channels and ExtraSamples doesn't match SamplesPerPixel. Defining non-color channels as ExtraSamples.\n",
      "Warning 1: TIFFReadDirectory:Sum of Photometric type-related color channels and ExtraSamples doesn't match SamplesPerPixel. Defining non-color channels as ExtraSamples.\n",
      "Warning 1: TIFFReadDirectory:Sum of Photometric type-related color channels and ExtraSamples doesn't match SamplesPerPixel. Defining non-color channels as ExtraSamples.\n",
      "Warning 1: TIFFReadDirectory:Sum of Photometric type-related color channels and ExtraSamples doesn't match SamplesPerPixel. Defining non-color channels as ExtraSamples.\n",
      "Warning 1: TIFFReadDirectory:Sum of Photometric type-related color channels and ExtraSamples doesn't match SamplesPerPixel. Defining non-color channels as ExtraSamples.\n",
      "Warning 1: TIFFReadDirectory:Sum of Photometric type-related color channels and ExtraSamples doesn't match SamplesPerPixel. Defining non-color channels as ExtraSamples.\n",
      "Warning 1: TIFFReadDirectory:Sum of Photometric type-related color channels and ExtraSamples doesn't match SamplesPerPixel. Defining non-color channels as ExtraSamples.\n",
      "Warning 1: TIFFReadDirectory:Sum of Photometric type-related color channels and ExtraSamples doesn't match SamplesPerPixel. Defining non-color channels as ExtraSamples.\n",
      "Warning 1: TIFFReadDirectory:Sum of Photometric type-related color channels and ExtraSamples doesn't match SamplesPerPixel. Defining non-color channels as ExtraSamples.\n"
     ]
    },
    {
     "name": "stdout",
     "output_type": "stream",
     "text": [
      "(6, 286, 461)\n",
      "(6, 286, 461)\n",
      "(6, 286, 461)\n",
      "(6, 286, 461)\n",
      "(6, 286, 461)\n",
      "(6, 286, 461)\n",
      "(6, 286, 461)\n",
      "(6, 286, 461)\n",
      "(6, 286, 461)\n",
      "(6, 286, 461)\n",
      "(6, 286, 461)\n",
      "(6, 286, 461)\n",
      "(6, 286, 461)\n",
      "(6, 286, 461)\n",
      "(6, 286, 461)\n"
     ]
    }
   ],
   "source": [
    "for f in fs:\n",
    "    print(gdal.Open(f).ReadAsArray().shape)\n",
    "for f in fs:\n",
    "    print(gdal.Open(f.replace('.tif','_bandother.tif')).ReadAsArray().shape)"
   ]
  },
  {
   "cell_type": "markdown",
   "metadata": {},
   "source": [
    "# 转换图像为Patch"
   ]
  },
  {
   "cell_type": "code",
   "execution_count": 37,
   "metadata": {},
   "outputs": [
    {
     "name": "stdout",
     "output_type": "stream",
     "text": [
      "['/data4/Ukraine_img/volnovskha/20210910T082601_20210910T083119_T37TCN.tif', '/data4/Ukraine_img/volnovskha/20220309T082801_20220309T083304_T37TCN.tif', '/data4/Ukraine_img/volnovskha/20220314T082719_20220314T083610_T37TCN.tif', '/data4/Ukraine_img/volnovskha/20220319T082651_20220319T083304_T37TCN.tif', '/data4/Ukraine_img/volnovskha/20220324T082609_20220324T083426_T37TCN.tif', '/data4/Ukraine_img/volnovskha/20220329T082601_20220329T083216_T37TCN.tif', '/data4/Ukraine_img/volnovskha/20220403T082559_20220403T083553_T37TCN.tif', '/data4/Ukraine_img/volnovskha/20220428T082611_20220428T083305_T37TCN.tif', '/data4/Ukraine_img/volnovskha/20220503T082559_20220503T083512_T37TCN.tif', '/data4/Ukraine_img/volnovskha/20220508T082611_20220508T083304_T37TCN.tif', '/data4/Ukraine_img/volnovskha/20220513T082559_20220513T082940_T37TCN.tif', '/data4/Ukraine_img/volnovskha/20220528T082611_20220528T083641_T37TCN.tif', '/data4/Ukraine_img/volnovskha/20220602T082559_20220602T082807_T37TCN.tif', '/data4/Ukraine_img/volnovskha/20220607T082611_20220607T083435_T37TCN.tif', '/data4/Ukraine_img/volnovskha/20220612T082609_20220612T082840_T37TCN.tif', '/data4/Ukraine_img/volnovskha/20220617T082611_20220617T083253_T37TCN.tif', '/data4/Ukraine_img/volnovskha/20220622T082609_20220622T082834_T37TCN.tif']\n",
      "/data4/Ukraine_img/volnovskha/20210910T082601_20210910T083119_T37TCN.tif\n",
      "(10, 572, 922)\n",
      "(10, 96, 154, 6, 6)\n",
      "(37.440298821882855, 0.0005389891704717128, 0.0, 47.62279239890605, 0.0, -0.0005389891704717128)\n",
      "max: 7752\n",
      "/data4/Ukraine_img/volnovskha/20220309T082801_20220309T083304_T37TCN.tif\n",
      "(10, 572, 922)\n",
      "(10, 96, 154, 6, 6)\n",
      "(37.440298821882855, 0.0005389891704717128, 0.0, 47.62279239890605, 0.0, -0.0005389891704717128)\n",
      "max: 17376\n",
      "/data4/Ukraine_img/volnovskha/20220314T082719_20220314T083610_T37TCN.tif\n",
      "(10, 572, 922)\n",
      "(10, 96, 154, 6, 6)\n",
      "(37.440298821882855, 0.0005389891704717128, 0.0, 47.62279239890605, 0.0, -0.0005389891704717128)\n",
      "max: 8256\n",
      "/data4/Ukraine_img/volnovskha/20220319T082651_20220319T083304_T37TCN.tif\n",
      "(10, 572, 922)\n",
      "(10, 96, 154, 6, 6)\n",
      "(37.440298821882855, 0.0005389891704717128, 0.0, 47.62279239890605, 0.0, -0.0005389891704717128)\n",
      "max: 8352\n",
      "/data4/Ukraine_img/volnovskha/20220324T082609_20220324T083426_T37TCN.tif\n",
      "(10, 572, 922)\n",
      "(10, 96, 154, 6, 6)\n",
      "(37.440298821882855, 0.0005389891704717128, 0.0, 47.62279239890605, 0.0, -0.0005389891704717128)\n",
      "max: 6848\n",
      "/data4/Ukraine_img/volnovskha/20220329T082601_20220329T083216_T37TCN.tif\n",
      "(10, 572, 922)\n",
      "(10, 96, 154, 6, 6)\n",
      "(37.440298821882855, 0.0005389891704717128, 0.0, 47.62279239890605, 0.0, -0.0005389891704717128)\n",
      "max: 6152\n",
      "/data4/Ukraine_img/volnovskha/20220403T082559_20220403T083553_T37TCN.tif\n",
      "(10, 572, 922)\n",
      "(10, 96, 154, 6, 6)\n",
      "(37.440298821882855, 0.0005389891704717128, 0.0, 47.62279239890605, 0.0, -0.0005389891704717128)\n",
      "max: 6088\n",
      "/data4/Ukraine_img/volnovskha/20220428T082611_20220428T083305_T37TCN.tif\n",
      "(10, 572, 922)\n",
      "(10, 96, 154, 6, 6)\n",
      "(37.440298821882855, 0.0005389891704717128, 0.0, 47.62279239890605, 0.0, -0.0005389891704717128)\n",
      "max: 13616\n"
     ]
    },
    {
     "name": "stderr",
     "output_type": "stream",
     "text": [
      "Warning 1: TIFFReadDirectory:Sum of Photometric type-related color channels and ExtraSamples doesn't match SamplesPerPixel. Defining non-color channels as ExtraSamples.\n",
      "Warning 1: TIFFReadDirectory:Sum of Photometric type-related color channels and ExtraSamples doesn't match SamplesPerPixel. Defining non-color channels as ExtraSamples.\n"
     ]
    },
    {
     "name": "stdout",
     "output_type": "stream",
     "text": [
      "/data4/Ukraine_img/volnovskha/20220503T082559_20220503T083512_T37TCN.tif\n",
      "(10, 572, 922)\n",
      "(10, 96, 154, 6, 6)\n",
      "(37.440298821882855, 0.0005389891704717128, 0.0, 47.62279239890605, 0.0, -0.0005389891704717128)\n",
      "max: 15376\n",
      "/data4/Ukraine_img/volnovskha/20220508T082611_20220508T083304_T37TCN.tif\n",
      "(10, 572, 922)\n",
      "(10, 96, 154, 6, 6)\n",
      "(37.440298821882855, 0.0005389891704717128, 0.0, 47.62279239890605, 0.0, -0.0005389891704717128)\n",
      "max: 11944\n"
     ]
    },
    {
     "name": "stderr",
     "output_type": "stream",
     "text": [
      "Warning 1: TIFFReadDirectory:Sum of Photometric type-related color channels and ExtraSamples doesn't match SamplesPerPixel. Defining non-color channels as ExtraSamples.\n"
     ]
    },
    {
     "name": "stdout",
     "output_type": "stream",
     "text": [
      "/data4/Ukraine_img/volnovskha/20220513T082559_20220513T082940_T37TCN.tif\n",
      "(10, 572, 922)\n",
      "(10, 96, 154, 6, 6)\n",
      "(37.440298821882855, 0.0005389891704717128, 0.0, 47.62279239890605, 0.0, -0.0005389891704717128)\n",
      "max: 11144\n",
      "/data4/Ukraine_img/volnovskha/20220528T082611_20220528T083641_T37TCN.tif\n",
      "(10, 572, 922)\n",
      "(10, 96, 154, 6, 6)\n",
      "(37.440298821882855, 0.0005389891704717128, 0.0, 47.62279239890605, 0.0, -0.0005389891704717128)\n",
      "max: 10064\n"
     ]
    },
    {
     "name": "stderr",
     "output_type": "stream",
     "text": [
      "Warning 1: TIFFReadDirectory:Sum of Photometric type-related color channels and ExtraSamples doesn't match SamplesPerPixel. Defining non-color channels as ExtraSamples.\n",
      "Warning 1: TIFFReadDirectory:Sum of Photometric type-related color channels and ExtraSamples doesn't match SamplesPerPixel. Defining non-color channels as ExtraSamples.\n"
     ]
    },
    {
     "name": "stdout",
     "output_type": "stream",
     "text": [
      "/data4/Ukraine_img/volnovskha/20220602T082559_20220602T082807_T37TCN.tif\n",
      "(10, 572, 922)\n",
      "(10, 96, 154, 6, 6)\n",
      "(37.440298821882855, 0.0005389891704717128, 0.0, 47.62279239890605, 0.0, -0.0005389891704717128)\n",
      "max: 7488\n",
      "/data4/Ukraine_img/volnovskha/20220607T082611_20220607T083435_T37TCN.tif\n",
      "(10, 572, 922)\n",
      "(10, 96, 154, 6, 6)\n",
      "(37.440298821882855, 0.0005389891704717128, 0.0, 47.62279239890605, 0.0, -0.0005389891704717128)\n"
     ]
    },
    {
     "name": "stderr",
     "output_type": "stream",
     "text": [
      "Warning 1: TIFFReadDirectory:Sum of Photometric type-related color channels and ExtraSamples doesn't match SamplesPerPixel. Defining non-color channels as ExtraSamples.\n"
     ]
    },
    {
     "name": "stdout",
     "output_type": "stream",
     "text": [
      "max: 9496\n",
      "/data4/Ukraine_img/volnovskha/20220612T082609_20220612T082840_T37TCN.tif\n",
      "(10, 572, 922)\n",
      "(10, 96, 154, 6, 6)\n",
      "(37.440298821882855, 0.0005389891704717128, 0.0, 47.62279239890605, 0.0, -0.0005389891704717128)\n",
      "max: 9152\n"
     ]
    },
    {
     "name": "stderr",
     "output_type": "stream",
     "text": [
      "Warning 1: TIFFReadDirectory:Sum of Photometric type-related color channels and ExtraSamples doesn't match SamplesPerPixel. Defining non-color channels as ExtraSamples.\n",
      "Warning 1: TIFFReadDirectory:Sum of Photometric type-related color channels and ExtraSamples doesn't match SamplesPerPixel. Defining non-color channels as ExtraSamples.\n"
     ]
    },
    {
     "name": "stdout",
     "output_type": "stream",
     "text": [
      "/data4/Ukraine_img/volnovskha/20220617T082611_20220617T083253_T37TCN.tif\n",
      "(10, 572, 922)\n",
      "(10, 96, 154, 6, 6)\n",
      "(37.440298821882855, 0.0005389891704717128, 0.0, 47.62279239890605, 0.0, -0.0005389891704717128)\n",
      "max: 13160\n",
      "/data4/Ukraine_img/volnovskha/20220622T082609_20220622T082834_T37TCN.tif\n",
      "(10, 572, 922)\n",
      "(10, 96, 154, 6, 6)\n",
      "(37.440298821882855, 0.0005389891704717128, 0.0, 47.62279239890605, 0.0, -0.0005389891704717128)\n",
      "max: 6640\n"
     ]
    },
    {
     "name": "stderr",
     "output_type": "stream",
     "text": [
      "Warning 1: TIFFReadDirectory:Sum of Photometric type-related color channels and ExtraSamples doesn't match SamplesPerPixel. Defining non-color channels as ExtraSamples.\n"
     ]
    }
   ],
   "source": [
    "def read_img(path):\n",
    "    ds=gdal.Open(path)\n",
    "    trf=ds.GetGeoTransform()\n",
    "    img=ds.ReadAsArray()\n",
    "    return {'trf':trf,'img':img}\n",
    "def get_patch(data,size):\n",
    "    img=data['img']\n",
    "    trf=data['trf']\n",
    "    shape=img.shape\n",
    "    img=np.pad(img,((0,0),(0,size-shape[1]%size),(0,size-shape[2]%size)),'constant',constant_values=0)\n",
    "    shape=img.shape\n",
    "    img=img.reshape([shape[0],int(shape[1]/size),-1,shape[2]])\n",
    "    shape=img.shape\n",
    "    img=img.reshape([shape[0],shape[1],shape[2],int(shape[3]/size),-1])\n",
    "    return {'img':img.transpose((0,1,3,2,4)),'trf':(trf[0]-trf[1]/2,trf[1]*size,trf[2],trf[3]-trf[5]/2,trf[4],trf[5]*size)}\n",
    "size=6\n",
    "fs10=glob(f'/data4/Ukraine_img/{cities[2]}/*')\n",
    "fs10=[i for i in fs10 if i[-5:]!='r.tif']\n",
    "fs10.sort()\n",
    "fs10\n",
    "img_pathes=fs10\n",
    "# img_pathes=['/data2/Syria_img/Raqqa_enhance-A-B-4_20130213_treated.tif']\n",
    "print(img_pathes)\n",
    "\n",
    "for path in img_pathes:\n",
    "    # try:    \n",
    "    \n",
    "    print(path)\n",
    "    data=read_img(path)\n",
    "    ddata=read_img(path.replace('.tif','_bandother.tif'))\n",
    "    for i in range(4):\n",
    "        data['img'][i,:,:][mask==0]=0\n",
    "    print(data['img'].shape)\n",
    "    data2=get_patch(data,6)\n",
    "    ddata2=get_patch(ddata,3)\n",
    "    print(data2['img'].shape)\n",
    "    print(data2['trf'])\n",
    "    d=data2['img'][:4].astype(np.int16)\n",
    "    dd=ddata2['img'].astype(np.int16)\n",
    "    info={'readme':'trf分别为patch左上角坐标(不是左上角像元的中心坐标)和patch的长度',\n",
    "    'trf':data2['trf'],'shape':[data['img'].shape,d.shape],'img10':d,'img20':dd}\n",
    "\n",
    "    # np.save(path.replace('.tif',f'_size_{size}.npy'),d)\n",
    "    print('max:',d.max())\n",
    "    torch.save(info,path.replace('.tif',f'_size_{size}_{cities[2]}_info.pth'))\n",
    "    del data,data2,d\n",
    "    gc.collect()\n",
    "    # except:\n",
    "    #         print('ERROR',path)"
   ]
  },
  {
   "cell_type": "code",
   "execution_count": 38,
   "metadata": {},
   "outputs": [
    {
     "data": {
      "text/plain": [
       "['/data4/Ukraine_img/volnovskha/20210910T082601_20210910T083119_T37TCN_size_6_volnovskha_info.pth',\n",
       " '/data4/Ukraine_img/volnovskha/20220309T082801_20220309T083304_T37TCN_size_6_volnovskha_info.pth',\n",
       " '/data4/Ukraine_img/volnovskha/20220314T082719_20220314T083610_T37TCN_size_6_volnovskha_info.pth',\n",
       " '/data4/Ukraine_img/volnovskha/20220319T082651_20220319T083304_T37TCN_size_6_volnovskha_info.pth',\n",
       " '/data4/Ukraine_img/volnovskha/20220324T082609_20220324T083426_T37TCN_size_6_volnovskha_info.pth',\n",
       " '/data4/Ukraine_img/volnovskha/20220329T082601_20220329T083216_T37TCN_size_6_volnovskha_info.pth',\n",
       " '/data4/Ukraine_img/volnovskha/20220403T082559_20220403T083553_T37TCN_size_6_volnovskha_info.pth',\n",
       " '/data4/Ukraine_img/volnovskha/20220428T082611_20220428T083305_T37TCN_size_6_volnovskha_info.pth',\n",
       " '/data4/Ukraine_img/volnovskha/20220503T082559_20220503T083512_T37TCN_size_6_volnovskha_info.pth',\n",
       " '/data4/Ukraine_img/volnovskha/20220508T082611_20220508T083304_T37TCN_size_6_volnovskha_info.pth',\n",
       " '/data4/Ukraine_img/volnovskha/20220513T082559_20220513T082940_T37TCN_size_6_volnovskha_info.pth',\n",
       " '/data4/Ukraine_img/volnovskha/20220528T082611_20220528T083641_T37TCN_size_6_volnovskha_info.pth',\n",
       " '/data4/Ukraine_img/volnovskha/20220602T082559_20220602T082807_T37TCN_size_6_volnovskha_info.pth',\n",
       " '/data4/Ukraine_img/volnovskha/20220607T082611_20220607T083435_T37TCN_size_6_volnovskha_info.pth',\n",
       " '/data4/Ukraine_img/volnovskha/20220612T082609_20220612T082840_T37TCN_size_6_volnovskha_info.pth',\n",
       " '/data4/Ukraine_img/volnovskha/20220617T082611_20220617T083253_T37TCN_size_6_volnovskha_info.pth',\n",
       " '/data4/Ukraine_img/volnovskha/20220622T082609_20220622T082834_T37TCN_size_6_volnovskha_info.pth']"
      ]
     },
     "execution_count": 38,
     "metadata": {},
     "output_type": "execute_result"
    }
   ],
   "source": [
    "fs=glob(f'/data4/Ukraine_img/{cities[2]}/*info.pth')\n",
    "fs.sort()\n",
    "fs"
   ]
  },
  {
   "cell_type": "markdown",
   "metadata": {},
   "source": [
    "# 制作patch的label"
   ]
  },
  {
   "cell_type": "code",
   "execution_count": 40,
   "metadata": {},
   "outputs": [],
   "source": [
    "def get_dam_mask(point,patch_file,weight):\n",
    "    trf=torch.load(patch_file)['trf']\n",
    "    shape=torch.load(patch_file)['shape'][1]\n",
    "    p_coor=[shapely.geometry.mapping(list(point)[i])['coordinates'] for i in range(len(point))]\n",
    "    mask=np.zeros((shape[1],shape[2]))\n",
    "    p_x_y=[[int((i[0]-trf[0])/trf[1]),int((i[1]-trf[3])/trf[5])] for i in p_coor]\n",
    "    for i in p_x_y:\n",
    "        try:\n",
    "            mask[i[1],i[0]]+=weight\n",
    "        except:\n",
    "            pass\n",
    "    return mask\n",
    "def get_mask(points_path,patch_path):\n",
    "    n=points_path.split(\"_\")[-2]\n",
    "    df=gpd.read_file(points_path)\n",
    "    print(len(df))\n",
    "    point_num={}\n",
    "    point=df[df['DmgCls']=='Destroyed']['geometry']\n",
    "    point_num['destroyed']=len(point)\n",
    "    print('destroyed:',len(point))\n",
    "    mask_destroyed=get_dam_mask(point,patch_path,1)\n",
    "    point=df[df['DmgCls']=='Severe Damage']['geometry']\n",
    "    point_num['severe']=len(point)\n",
    "    print('Severe Damage:',len(point))\n",
    "    mask_severe=get_dam_mask(point,patch_path,1)\n",
    "    point=df[df['DmgCls']=='Moderate Damage']['geometry']\n",
    "    point_num['moderate']=len(point)\n",
    "    print('Moderate Damage:',len(point))\n",
    "    mask_moderate=get_dam_mask(point,patch_path,1)\n",
    "\n",
    "    mask=mask_destroyed*6+mask_severe*3+mask_moderate\n",
    "    date=df['SensDt'][0]\n",
    "    print(f'{n}  {date}得分',dict(Counter(list(mask.flatten()))))\n",
    "    mask_type=np.zeros(mask.shape)\n",
    "    mask_type[mask>0]=1\n",
    "    mask_type[mask>=6]=2\n",
    "    print(f'{date}损毁类型',Counter(list(mask_type.flatten())))\n",
    "    all_mask=[mask_destroyed,mask_severe,mask_moderate,mask,mask_type]\n",
    "    info='5层分别为完全 严重 中等 以及损毁得分和类型\\n得分:完全算6分 严重算3分 中等算1分 其他0分\\n类型0:得分0 类型1:得分1-5 类型2:得分大于6'\n",
    "    result={'info':info,'point_num':point_num,'mask':all_mask}\n",
    "    return result"
   ]
  },
  {
   "cell_type": "code",
   "execution_count": 39,
   "metadata": {},
   "outputs": [
    {
     "data": {
      "text/plain": [
       "'/home/hk/python_script/Ukraine/data/UNOSAT/volnovakha/Volnovakha_B_2022-05-07.shp'"
      ]
     },
     "execution_count": 39,
     "metadata": {},
     "output_type": "execute_result"
    }
   ],
   "source": [
    "points_path\n",
    "# points_path='/home/hk/python_script/Ukraine/data/UNOSAT/Sievierodonetsk_CDA_20220725/Sievierodonetsk_B_2022-07-25.shp'"
   ]
  },
  {
   "cell_type": "code",
   "execution_count": 41,
   "metadata": {},
   "outputs": [
    {
     "name": "stdout",
     "output_type": "stream",
     "text": [
      "979\n",
      "destroyed: 264\n",
      "Severe Damage: 541\n",
      "Moderate Damage: 66\n",
      "B  2022-05-07得分 {0.0: 14155, 3.0: 298, 9.0: 41, 12.0: 28, 6.0: 181, 21.0: 5, 15.0: 5, 27.0: 2, 4.0: 5, 1.0: 43, 18.0: 6, 10.0: 2, 2.0: 4, 14.0: 1, 39.0: 1, 7.0: 2, 24.0: 2, 8.0: 1, 19.0: 1, 13.0: 1}\n",
      "2022-05-07损毁类型 Counter({0.0: 14155, 1.0: 350, 2.0: 279})\n",
      "save: /home/hk/python_script/Ukraine/data/UNOSAT/volnovakha/Volnovakha_B_2022-05-07_size_6_dammask.pth.tar\n",
      "__________________________SAVE SUCCESS__________________________\n"
     ]
    }
   ],
   "source": [
    "\n",
    "patch_path='/data4/Ukraine_img/volnovskha/20210910T082601_20210910T083119_T37TCN_size_6_volnovskha_info.pth'\n",
    "result=get_mask(points_path,patch_path)\n",
    "save_path=points_path.replace('.shp','_size_6_dammask.pth.tar')\n",
    "torch.save(result,save_path)\n",
    "print('save:',save_path)\n",
    "print('__________________________SAVE SUCCESS__________________________')\n",
    "\n",
    "# for point_path in points_list:\n",
    "#     patch_path='/data4/Ukraine_img/U_bandother/20210910T082601_20210910T083119_T37TCN_cut_reprojection_size_3_info.pth'\n",
    "#     result=get_mask(point_path,patch_path)\n",
    "#     torch.save(result,point_path.replace('.shp','_size_3_dammask.pth.tar'))\n",
    "#     print('__________________________SAVE SUCCESS__________________________')\n"
   ]
  },
  {
   "cell_type": "markdown",
   "metadata": {},
   "source": [
    "# 制作样本"
   ]
  },
  {
   "cell_type": "code",
   "execution_count": 43,
   "metadata": {},
   "outputs": [],
   "source": [
    "# masks={\n",
    "#     'A':None,\n",
    "#     'B':glob(f'/data2/Syria_img/{city}_B_*_treated_size_120_dammask.pth.tar')[0],\n",
    "#     'C':glob(f'/data2/Syria_img/{city}_C_*_treated_size_120_dammask.pth.tar')[0],\n",
    "#     'D':glob(f'/data2/Syria_img/{city}_D_*_treated_size_120_dammask.pth.tar')[0],\n",
    "#     'Z':None\n",
    "# }\n",
    "\n",
    "\n",
    "def get_samples(pre_patch,post_patch,dammask_after,dammask_now,dammask_before):\n",
    "        # if pre_patch[0].shape!=post_patch[0].shape:\n",
    "        #         raise('SHAPE ERROR')\n",
    "        if pre_patch[0].shape[0]!=4 or post_patch[0].shape[0]!=4:\n",
    "                raise\n",
    "        if pre_patch[1].shape[0]!=6 or post_patch[1].shape[0]!=6:\n",
    "                raise\n",
    "                               \n",
    "        shape=pre_patch[0].shape\n",
    "        print(shape)\n",
    "        zz=np.zeros((shape[1],shape[2]))\n",
    "        samples=[]\n",
    "        if dammask_now is not None:\n",
    "                for x in range(shape[1]):\n",
    "                        for y in range(shape[2]):\n",
    "                                \n",
    "                                if (pre_patch[0][:,x,y]==0).any() or (post_patch[0][:,x,y]==0).any() or (pre_patch[1][:,x,y]==0).any() or (post_patch[1][:,x,y]==0).any():\n",
    "                                        continue\n",
    "                                else:\n",
    "                                        samples.append([[x,y],[None,[int(i[x,y]) for i in dammask_now['mask']]],np.concatenate([pre_patch[0][:,x,y],post_patch[0][:,x,y]],axis=0),np.concatenate([pre_patch[1][:,x,y],post_patch[1][:,x,y]],axis=0)])\n",
    "                                        zz[x,y]=1\n",
    "        else:\n",
    "                if dammask_before is None:\n",
    "                        for x in range(shape[1]):\n",
    "                                for y in range(shape[2]):\n",
    "                                        \n",
    "                                        if (pre_patch[0][:,x,y]==0).any() or (post_patch[0][:,x,y]==0).any() or (pre_patch[1][:,x,y]==0).any() or (post_patch[1][:,x,y]==0).any():\n",
    "                                                continue\n",
    "                                        else:\n",
    "                                                if dammask_after['mask'][0][x,y]==0:\n",
    "                                                        samples.append([[x,y],[None,[int(i[x,y]) for i in dammask_after['mask']]],np.concatenate([pre_patch[0][:,x,y],post_patch[0][:,x,y]],axis=0),np.concatenate([pre_patch[1][:,x,y],post_patch[1][:,x,y]],axis=0)])\n",
    "                                                        zz[x,y]=1\n",
    "                if dammask_after is None:\n",
    "                        for x in range(shape[1]):\n",
    "                                for y in range(shape[2]):\n",
    "                                        \n",
    "                                        if (pre_patch[0][:,x,y]==0).any() or (post_patch[0][:,x,y]==0).any() or (pre_patch[1][:,x,y]==0).any() or (post_patch[1][:,x,y]==0).any():\n",
    "                                                continue\n",
    "                                        else:\n",
    "                                                if dammask_before['mask'][0][x,y]>0:\n",
    "                                                        samples.append([[x,y],[[int(i[x,y]) for i in dammask_before['mask']],None],np.concatenate([pre_patch[0][:,x,y],post_patch[0][:,x,y]],axis=0),np.concatenate([pre_patch[1][:,x,y],post_patch[1][:,x,y]],axis=0)])\n",
    "                                                        zz[x,y]=1\n",
    "                if dammask_before is not None and dammask_after is not None:\n",
    "                        for x in range(shape[1]):\n",
    "                                for y in range(shape[2]):\n",
    "                                        \n",
    "                                        if (pre_patch[0][:,x,y]==0).any() or (post_patch[0][:,x,y]==0).any() or (pre_patch[1][:,x,y]==0).any() or (post_patch[1][:,x,y]==0).any():\n",
    "                                                continue\n",
    "                                        else:\n",
    "                                                if (dammask_after['mask'][0][x,y]>0 and dammask_before['mask'][0][x,y]>0) or (dammask_after['mask'][0][x,y]==0 and dammask_before['mask'][0][x,y]==0):\n",
    "                                                        samples.append([[x,y],[[int(i[x,y]) for i in dammask_before['mask']],[int(i[x,y]) for i in dammask_after['mask']]],np.concatenate([pre_patch[0][:,x,y],post_patch[0][:,x,y]],axis=0),np.concatenate([pre_patch[1][:,x,y],post_patch[1][:,x,y]],axis=0)])\n",
    "                                                        zz[x,y]=1\n",
    "                                        \n",
    "        return samples,zz"
   ]
  },
  {
   "cell_type": "code",
   "execution_count": 61,
   "metadata": {},
   "outputs": [
    {
     "data": {
      "text/plain": [
       "{'volnovskha': {'A': None,\n",
       "  'B': '/home/hk/python_script/Ukraine/data/UNOSAT/volnovakha/Volnovakha_B_2022-05-07_size_6_dammask.pth.tar',\n",
       "  'Z': None}}"
      ]
     },
     "execution_count": 61,
     "metadata": {},
     "output_type": "execute_result"
    }
   ],
   "source": [
    "# dammasks_path={'Rubizhne':{'A':None,'B':'/home/hk/python_script/Ukraine/data/UNOSAT/Rubizhne_CDA_20220709/Rubizhne_B_2022-07-09_size_6_dammask.pth.tar','Z':None}}\n",
    "dammasks_path={'volnovskha':{'A':None,'B':'/home/hk/python_script/Ukraine/data/UNOSAT/volnovakha/Volnovakha_B_2022-05-07_size_6_dammask.pth.tar','Z':None}}\n",
    "dammasks_path"
   ]
  },
  {
   "cell_type": "code",
   "execution_count": 48,
   "metadata": {},
   "outputs": [
    {
     "data": {
      "text/plain": [
       "['/data4/Ukraine_img/volnovskha/20210910T082601_20210910T083119_T37TCN_size_6_volnovskha_info.pth',\n",
       " '/data4/Ukraine_img/volnovskha/20220309T082801_20220309T083304_T37TCN_size_6_volnovskha_info.pth',\n",
       " '/data4/Ukraine_img/volnovskha/20220314T082719_20220314T083610_T37TCN_size_6_volnovskha_info.pth',\n",
       " '/data4/Ukraine_img/volnovskha/20220319T082651_20220319T083304_T37TCN_size_6_volnovskha_info.pth',\n",
       " '/data4/Ukraine_img/volnovskha/20220324T082609_20220324T083426_T37TCN_size_6_volnovskha_info.pth',\n",
       " '/data4/Ukraine_img/volnovskha/20220329T082601_20220329T083216_T37TCN_size_6_volnovskha_info.pth',\n",
       " '/data4/Ukraine_img/volnovskha/20220403T082559_20220403T083553_T37TCN_size_6_volnovskha_info.pth',\n",
       " '/data4/Ukraine_img/volnovskha/20220428T082611_20220428T083305_T37TCN_size_6_volnovskha_info.pth',\n",
       " '/data4/Ukraine_img/volnovskha/20220503T082559_20220503T083512_T37TCN_size_6_volnovskha_info.pth',\n",
       " '/data4/Ukraine_img/volnovskha/20220508T082611_20220508T083304_T37TCN_size_6_volnovskha_info.pth',\n",
       " '/data4/Ukraine_img/volnovskha/20220513T082559_20220513T082940_T37TCN_size_6_volnovskha_info.pth',\n",
       " '/data4/Ukraine_img/volnovskha/20220528T082611_20220528T083641_T37TCN_size_6_volnovskha_info.pth',\n",
       " '/data4/Ukraine_img/volnovskha/20220602T082559_20220602T082807_T37TCN_size_6_volnovskha_info.pth',\n",
       " '/data4/Ukraine_img/volnovskha/20220607T082611_20220607T083435_T37TCN_size_6_volnovskha_info.pth',\n",
       " '/data4/Ukraine_img/volnovskha/20220612T082609_20220612T082840_T37TCN_size_6_volnovskha_info.pth',\n",
       " '/data4/Ukraine_img/volnovskha/20220617T082611_20220617T083253_T37TCN_size_6_volnovskha_info.pth',\n",
       " '/data4/Ukraine_img/volnovskha/20220622T082609_20220622T082834_T37TCN_size_6_volnovskha_info.pth']"
      ]
     },
     "execution_count": 48,
     "metadata": {},
     "output_type": "execute_result"
    }
   ],
   "source": [
    "fs=glob('/data4/Ukraine_img/volnovskha/*.pth')\n",
    "fs.sort()\n",
    "fs"
   ]
  },
  {
   "cell_type": "code",
   "execution_count": 51,
   "metadata": {},
   "outputs": [
    {
     "data": {
      "text/plain": [
       "{'volnovskha': {'A': ['/data4/Ukraine_img/volnovskha/20210910T082601_20210910T083119_T37TCN_size_6_volnovskha_info.pth'],\n",
       "  'A-B': ['/data4/Ukraine_img/volnovskha/20220309T082801_20220309T083304_T37TCN_size_6_volnovskha_info.pth',\n",
       "   '/data4/Ukraine_img/volnovskha/20220314T082719_20220314T083610_T37TCN_size_6_volnovskha_info.pth',\n",
       "   '/data4/Ukraine_img/volnovskha/20220319T082651_20220319T083304_T37TCN_size_6_volnovskha_info.pth',\n",
       "   '/data4/Ukraine_img/volnovskha/20220324T082609_20220324T083426_T37TCN_size_6_volnovskha_info.pth',\n",
       "   '/data4/Ukraine_img/volnovskha/20220329T082601_20220329T083216_T37TCN_size_6_volnovskha_info.pth',\n",
       "   '/data4/Ukraine_img/volnovskha/20220403T082559_20220403T083553_T37TCN_size_6_volnovskha_info.pth',\n",
       "   '/data4/Ukraine_img/volnovskha/20220428T082611_20220428T083305_T37TCN_size_6_volnovskha_info.pth',\n",
       "   '/data4/Ukraine_img/volnovskha/20220503T082559_20220503T083512_T37TCN_size_6_volnovskha_info.pth'],\n",
       "  'B': [],\n",
       "  'B-Z': ['/data4/Ukraine_img/volnovskha/20220508T082611_20220508T083304_T37TCN_size_6_volnovskha_info.pth',\n",
       "   '/data4/Ukraine_img/volnovskha/20220513T082559_20220513T082940_T37TCN_size_6_volnovskha_info.pth',\n",
       "   '/data4/Ukraine_img/volnovskha/20220528T082611_20220528T083641_T37TCN_size_6_volnovskha_info.pth',\n",
       "   '/data4/Ukraine_img/volnovskha/20220602T082559_20220602T082807_T37TCN_size_6_volnovskha_info.pth',\n",
       "   '/data4/Ukraine_img/volnovskha/20220607T082611_20220607T083435_T37TCN_size_6_volnovskha_info.pth',\n",
       "   '/data4/Ukraine_img/volnovskha/20220612T082609_20220612T082840_T37TCN_size_6_volnovskha_info.pth',\n",
       "   '/data4/Ukraine_img/volnovskha/20220617T082611_20220617T083253_T37TCN_size_6_volnovskha_info.pth',\n",
       "   '/data4/Ukraine_img/volnovskha/20220622T082609_20220622T082834_T37TCN_size_6_volnovskha_info.pth']}}"
      ]
     },
     "execution_count": 51,
     "metadata": {},
     "output_type": "execute_result"
    }
   ],
   "source": [
    "img_pathes={}\n",
    "img_pathes1={}\n",
    "img_pathes1['A']=[fs[0]]\n",
    "img_pathes1['A-B']=fs[1:9]\n",
    "img_pathes1['B']=[]\n",
    "img_pathes1['B-Z']=fs[9:]\n",
    "img_pathes['volnovskha']=img_pathes1\n",
    "img_pathes"
   ]
  },
  {
   "cell_type": "code",
   "execution_count": 54,
   "metadata": {},
   "outputs": [
    {
     "data": {
      "text/plain": [
       "{'Sievierodoetsk': {'A': None,\n",
       "  'B': '/home/hk/python_script/Ukraine/data/UNOSAT/volnovakha/Volnovakha_B_2022-05-07_size_6_dammask.pth.tar',\n",
       "  'Z': None}}"
      ]
     },
     "execution_count": 54,
     "metadata": {},
     "output_type": "execute_result"
    }
   ],
   "source": [
    "dammasks_path"
   ]
  },
  {
   "cell_type": "code",
   "execution_count": 62,
   "metadata": {},
   "outputs": [
    {
     "name": "stderr",
     "output_type": "stream",
     "text": [
      "Clipping input data to the valid range for imshow with RGB data ([0..1] for floats or [0..255] for integers).\n"
     ]
    },
    {
     "name": "stdout",
     "output_type": "stream",
     "text": [
      "-------------------------------------\n",
      "['A', 'A-B', 'B', 'B-Z']\n",
      "\n",
      "\n",
      "A-B\n",
      "loading mask: B\n",
      "/home/hk/python_script/Ukraine/data/UNOSAT/volnovakha/Volnovakha_B_2022-05-07_size_6_dammask.pth.tar\n",
      "load img: A-B\n",
      "['/data4/Ukraine_img/volnovskha/20220309T082801_20220309T083304_T37TCN_size_6_volnovskha_info.pth', '/data4/Ukraine_img/volnovskha/20220314T082719_20220314T083610_T37TCN_size_6_volnovskha_info.pth', '/data4/Ukraine_img/volnovskha/20220319T082651_20220319T083304_T37TCN_size_6_volnovskha_info.pth', '/data4/Ukraine_img/volnovskha/20220324T082609_20220324T083426_T37TCN_size_6_volnovskha_info.pth', '/data4/Ukraine_img/volnovskha/20220329T082601_20220329T083216_T37TCN_size_6_volnovskha_info.pth', '/data4/Ukraine_img/volnovskha/20220403T082559_20220403T083553_T37TCN_size_6_volnovskha_info.pth', '/data4/Ukraine_img/volnovskha/20220428T082611_20220428T083305_T37TCN_size_6_volnovskha_info.pth', '/data4/Ukraine_img/volnovskha/20220503T082559_20220503T083512_T37TCN_size_6_volnovskha_info.pth']\n",
      "/data4/Ukraine_img/volnovskha/20220309T082801_20220309T083304_T37TCN_size_6_volnovskha_info.pth\n"
     ]
    },
    {
     "data": {
      "image/png": "[encoded data removed]",
      "text/plain": [
       "<Figure size 432x288 with 1 Axes>"
      ]
     },
     "metadata": {
      "needs_background": "light"
     },
     "output_type": "display_data"
    },
    {
     "name": "stdout",
     "output_type": "stream",
     "text": [
      "(4, 96, 154, 6, 6)\n",
      "writing samples 5411\n"
     ]
    },
    {
     "name": "stderr",
     "output_type": "stream",
     "text": [
      "100%|██████████| 5411/5411 [00:00<00:00, 11817.30it/s]\n",
      "Clipping input data to the valid range for imshow with RGB data ([0..1] for floats or [0..255] for integers).\n"
     ]
    },
    {
     "name": "stdout",
     "output_type": "stream",
     "text": [
      "/data4/Ukraine_img/volnovskha/20220314T082719_20220314T083610_T37TCN_size_6_volnovskha_info.pth\n"
     ]
    },
    {
     "data": {
      "image/png": "[encoded data removed]",
      "text/plain": [
       "<Figure size 432x288 with 1 Axes>"
      ]
     },
     "metadata": {
      "needs_background": "light"
     },
     "output_type": "display_data"
    },
    {
     "name": "stdout",
     "output_type": "stream",
     "text": [
      "(4, 96, 154, 6, 6)\n",
      "writing samples 5411\n"
     ]
    },
    {
     "name": "stderr",
     "output_type": "stream",
     "text": [
      "100%|██████████| 5411/5411 [00:00<00:00, 11790.32it/s]\n"
     ]
    },
    {
     "name": "stdout",
     "output_type": "stream",
     "text": [
      "/data4/Ukraine_img/volnovskha/20220319T082651_20220319T083304_T37TCN_size_6_volnovskha_info.pth\n"
     ]
    },
    {
     "name": "stderr",
     "output_type": "stream",
     "text": [
      "Clipping input data to the valid range for imshow with RGB data ([0..1] for floats or [0..255] for integers).\n"
     ]
    },
    {
     "data": {
      "image/png": "[encoded data removed]",
      "text/plain": [
       "<Figure size 432x288 with 1 Axes>"
      ]
     },
     "metadata": {
      "needs_background": "light"
     },
     "output_type": "display_data"
    },
    {
     "name": "stdout",
     "output_type": "stream",
     "text": [
      "(4, 96, 154, 6, 6)\n",
      "writing samples 5411\n"
     ]
    },
    {
     "name": "stderr",
     "output_type": "stream",
     "text": [
      "100%|██████████| 5411/5411 [00:00<00:00, 11660.31it/s]\n",
      "Clipping input data to the valid range for imshow with RGB data ([0..1] for floats or [0..255] for integers).\n"
     ]
    },
    {
     "name": "stdout",
     "output_type": "stream",
     "text": [
      "/data4/Ukraine_img/volnovskha/20220324T082609_20220324T083426_T37TCN_size_6_volnovskha_info.pth\n"
     ]
    },
    {
     "data": {
      "image/png": "[encoded data removed]",
      "text/plain": [
       "<Figure size 432x288 with 1 Axes>"
      ]
     },
     "metadata": {
      "needs_background": "light"
     },
     "output_type": "display_data"
    },
    {
     "name": "stdout",
     "output_type": "stream",
     "text": [
      "(4, 96, 154, 6, 6)\n",
      "writing samples 5411\n"
     ]
    },
    {
     "name": "stderr",
     "output_type": "stream",
     "text": [
      "100%|██████████| 5411/5411 [00:00<00:00, 11513.07it/s]\n",
      "Clipping input data to the valid range for imshow with RGB data ([0..1] for floats or [0..255] for integers).\n"
     ]
    },
    {
     "name": "stdout",
     "output_type": "stream",
     "text": [
      "/data4/Ukraine_img/volnovskha/20220329T082601_20220329T083216_T37TCN_size_6_volnovskha_info.pth\n"
     ]
    },
    {
     "data": {
      "image/png": "[encoded data removed]",
      "text/plain": [
       "<Figure size 432x288 with 1 Axes>"
      ]
     },
     "metadata": {
      "needs_background": "light"
     },
     "output_type": "display_data"
    },
    {
     "name": "stdout",
     "output_type": "stream",
     "text": [
      "(4, 96, 154, 6, 6)\n",
      "writing samples 5411\n"
     ]
    },
    {
     "name": "stderr",
     "output_type": "stream",
     "text": [
      "100%|██████████| 5411/5411 [00:00<00:00, 11604.14it/s]\n",
      "Clipping input data to the valid range for imshow with RGB data ([0..1] for floats or [0..255] for integers).\n"
     ]
    },
    {
     "name": "stdout",
     "output_type": "stream",
     "text": [
      "/data4/Ukraine_img/volnovskha/20220403T082559_20220403T083553_T37TCN_size_6_volnovskha_info.pth\n"
     ]
    },
    {
     "data": {
      "image/png": "[encoded data removed]",
      "text/plain": [
       "<Figure size 432x288 with 1 Axes>"
      ]
     },
     "metadata": {
      "needs_background": "light"
     },
     "output_type": "display_data"
    },
    {
     "name": "stdout",
     "output_type": "stream",
     "text": [
      "(4, 96, 154, 6, 6)\n",
      "writing samples 4413\n"
     ]
    },
    {
     "name": "stderr",
     "output_type": "stream",
     "text": [
      "100%|██████████| 4413/4413 [00:00<00:00, 11497.60it/s]\n",
      "Clipping input data to the valid range for imshow with RGB data ([0..1] for floats or [0..255] for integers).\n"
     ]
    },
    {
     "name": "stdout",
     "output_type": "stream",
     "text": [
      "/data4/Ukraine_img/volnovskha/20220428T082611_20220428T083305_T37TCN_size_6_volnovskha_info.pth\n"
     ]
    },
    {
     "data": {
      "image/png": "[encoded data removed]",
      "text/plain": [
       "<Figure size 432x288 with 1 Axes>"
      ]
     },
     "metadata": {
      "needs_background": "light"
     },
     "output_type": "display_data"
    },
    {
     "name": "stdout",
     "output_type": "stream",
     "text": [
      "(4, 96, 154, 6, 6)\n",
      "writing samples 1275\n"
     ]
    },
    {
     "name": "stderr",
     "output_type": "stream",
     "text": [
      "100%|██████████| 1275/1275 [00:00<00:00, 10735.54it/s]\n",
      "Clipping input data to the valid range for imshow with RGB data ([0..1] for floats or [0..255] for integers).\n"
     ]
    },
    {
     "name": "stdout",
     "output_type": "stream",
     "text": [
      "/data4/Ukraine_img/volnovskha/20220503T082559_20220503T083512_T37TCN_size_6_volnovskha_info.pth\n"
     ]
    },
    {
     "data": {
      "image/png": "[encoded data removed]",
      "text/plain": [
       "<Figure size 432x288 with 1 Axes>"
      ]
     },
     "metadata": {
      "needs_background": "light"
     },
     "output_type": "display_data"
    },
    {
     "name": "stdout",
     "output_type": "stream",
     "text": [
      "(4, 96, 154, 6, 6)\n",
      "writing samples 367\n"
     ]
    },
    {
     "name": "stderr",
     "output_type": "stream",
     "text": [
      "100%|██████████| 367/367 [00:00<00:00, 5241.29it/s]\n",
      "Clipping input data to the valid range for imshow with RGB data ([0..1] for floats or [0..255] for integers).\n"
     ]
    },
    {
     "name": "stdout",
     "output_type": "stream",
     "text": [
      "\n",
      "\n",
      "B\n",
      "loading mask: B\n",
      "/home/hk/python_script/Ukraine/data/UNOSAT/volnovakha/Volnovakha_B_2022-05-07_size_6_dammask.pth.tar\n",
      "\n",
      "\n",
      "B-Z\n",
      "loading mask: B\n",
      "/home/hk/python_script/Ukraine/data/UNOSAT/volnovakha/Volnovakha_B_2022-05-07_size_6_dammask.pth.tar\n",
      "load img: B-Z\n",
      "['/data4/Ukraine_img/volnovskha/20220508T082611_20220508T083304_T37TCN_size_6_volnovskha_info.pth', '/data4/Ukraine_img/volnovskha/20220513T082559_20220513T082940_T37TCN_size_6_volnovskha_info.pth', '/data4/Ukraine_img/volnovskha/20220528T082611_20220528T083641_T37TCN_size_6_volnovskha_info.pth', '/data4/Ukraine_img/volnovskha/20220602T082559_20220602T082807_T37TCN_size_6_volnovskha_info.pth', '/data4/Ukraine_img/volnovskha/20220607T082611_20220607T083435_T37TCN_size_6_volnovskha_info.pth', '/data4/Ukraine_img/volnovskha/20220612T082609_20220612T082840_T37TCN_size_6_volnovskha_info.pth', '/data4/Ukraine_img/volnovskha/20220617T082611_20220617T083253_T37TCN_size_6_volnovskha_info.pth', '/data4/Ukraine_img/volnovskha/20220622T082609_20220622T082834_T37TCN_size_6_volnovskha_info.pth']\n",
      "/data4/Ukraine_img/volnovskha/20220508T082611_20220508T083304_T37TCN_size_6_volnovskha_info.pth\n"
     ]
    },
    {
     "data": {
      "image/png": "[encoded data removed]",
      "text/plain": [
       "<Figure size 432x288 with 1 Axes>"
      ]
     },
     "metadata": {
      "needs_background": "light"
     },
     "output_type": "display_data"
    },
    {
     "name": "stdout",
     "output_type": "stream",
     "text": [
      "(4, 96, 154, 6, 6)\n",
      "writing samples 202\n"
     ]
    },
    {
     "name": "stderr",
     "output_type": "stream",
     "text": [
      "100%|██████████| 202/202 [00:00<00:00, 6101.51it/s]\n",
      "Clipping input data to the valid range for imshow with RGB data ([0..1] for floats or [0..255] for integers).\n"
     ]
    },
    {
     "name": "stdout",
     "output_type": "stream",
     "text": [
      "/data4/Ukraine_img/volnovskha/20220513T082559_20220513T082940_T37TCN_size_6_volnovskha_info.pth\n"
     ]
    },
    {
     "data": {
      "image/png": "[encoded data removed]",
      "text/plain": [
       "<Figure size 432x288 with 1 Axes>"
      ]
     },
     "metadata": {
      "needs_background": "light"
     },
     "output_type": "display_data"
    },
    {
     "name": "stdout",
     "output_type": "stream",
     "text": [
      "(4, 96, 154, 6, 6)\n",
      "writing samples 191\n"
     ]
    },
    {
     "name": "stderr",
     "output_type": "stream",
     "text": [
      "100%|██████████| 191/191 [00:00<00:00, 5878.82it/s]\n",
      "Clipping input data to the valid range for imshow with RGB data ([0..1] for floats or [0..255] for integers).\n"
     ]
    },
    {
     "name": "stdout",
     "output_type": "stream",
     "text": [
      "/data4/Ukraine_img/volnovskha/20220528T082611_20220528T083641_T37TCN_size_6_volnovskha_info.pth\n"
     ]
    },
    {
     "data": {
      "image/png": "[encoded data removed]",
      "text/plain": [
       "<Figure size 432x288 with 1 Axes>"
      ]
     },
     "metadata": {
      "needs_background": "light"
     },
     "output_type": "display_data"
    },
    {
     "name": "stdout",
     "output_type": "stream",
     "text": [
      "(4, 96, 154, 6, 6)\n",
      "writing samples 201\n"
     ]
    },
    {
     "name": "stderr",
     "output_type": "stream",
     "text": [
      "100%|██████████| 201/201 [00:00<00:00, 5535.13it/s]\n",
      "Clipping input data to the valid range for imshow with RGB data ([0..1] for floats or [0..255] for integers).\n"
     ]
    },
    {
     "name": "stdout",
     "output_type": "stream",
     "text": [
      "/data4/Ukraine_img/volnovskha/20220602T082559_20220602T082807_T37TCN_size_6_volnovskha_info.pth\n"
     ]
    },
    {
     "data": {
      "image/png": "[encoded data removed]",
      "text/plain": [
       "<Figure size 432x288 with 1 Axes>"
      ]
     },
     "metadata": {
      "needs_background": "light"
     },
     "output_type": "display_data"
    },
    {
     "name": "stdout",
     "output_type": "stream",
     "text": [
      "(4, 96, 154, 6, 6)\n",
      "writing samples 161\n"
     ]
    },
    {
     "name": "stderr",
     "output_type": "stream",
     "text": [
      "100%|██████████| 161/161 [00:00<00:00, 5587.13it/s]\n",
      "Clipping input data to the valid range for imshow with RGB data ([0..1] for floats or [0..255] for integers).\n"
     ]
    },
    {
     "name": "stdout",
     "output_type": "stream",
     "text": [
      "/data4/Ukraine_img/volnovskha/20220607T082611_20220607T083435_T37TCN_size_6_volnovskha_info.pth\n"
     ]
    },
    {
     "data": {
      "image/png": "[encoded data removed]",
      "text/plain": [
       "<Figure size 432x288 with 1 Axes>"
      ]
     },
     "metadata": {
      "needs_background": "light"
     },
     "output_type": "display_data"
    },
    {
     "name": "stdout",
     "output_type": "stream",
     "text": [
      "(4, 96, 154, 6, 6)\n",
      "writing samples 202\n"
     ]
    },
    {
     "name": "stderr",
     "output_type": "stream",
     "text": [
      "100%|██████████| 202/202 [00:00<00:00, 5750.50it/s]\n",
      "Clipping input data to the valid range for imshow with RGB data ([0..1] for floats or [0..255] for integers).\n"
     ]
    },
    {
     "name": "stdout",
     "output_type": "stream",
     "text": [
      "/data4/Ukraine_img/volnovskha/20220612T082609_20220612T082840_T37TCN_size_6_volnovskha_info.pth\n"
     ]
    },
    {
     "data": {
      "image/png": "[encoded data removed]",
      "text/plain": [
       "<Figure size 432x288 with 1 Axes>"
      ]
     },
     "metadata": {
      "needs_background": "light"
     },
     "output_type": "display_data"
    },
    {
     "name": "stdout",
     "output_type": "stream",
     "text": [
      "(4, 96, 154, 6, 6)\n",
      "writing samples 83\n"
     ]
    },
    {
     "name": "stderr",
     "output_type": "stream",
     "text": [
      "100%|██████████| 83/83 [00:00<00:00, 4177.64it/s]\n",
      "Clipping input data to the valid range for imshow with RGB data ([0..1] for floats or [0..255] for integers).\n"
     ]
    },
    {
     "name": "stdout",
     "output_type": "stream",
     "text": [
      "/data4/Ukraine_img/volnovskha/20220617T082611_20220617T083253_T37TCN_size_6_volnovskha_info.pth\n"
     ]
    },
    {
     "data": {
      "image/png": "[encoded data removed]",
      "text/plain": [
       "<Figure size 432x288 with 1 Axes>"
      ]
     },
     "metadata": {
      "needs_background": "light"
     },
     "output_type": "display_data"
    },
    {
     "name": "stdout",
     "output_type": "stream",
     "text": [
      "(4, 96, 154, 6, 6)\n",
      "writing samples 85\n"
     ]
    },
    {
     "name": "stderr",
     "output_type": "stream",
     "text": [
      "100%|██████████| 85/85 [00:00<00:00, 4481.21it/s]\n",
      "Clipping input data to the valid range for imshow with RGB data ([0..1] for floats or [0..255] for integers).\n"
     ]
    },
    {
     "name": "stdout",
     "output_type": "stream",
     "text": [
      "/data4/Ukraine_img/volnovskha/20220622T082609_20220622T082834_T37TCN_size_6_volnovskha_info.pth\n"
     ]
    },
    {
     "data": {
      "image/png": "[encoded data removed]",
      "text/plain": [
       "<Figure size 432x288 with 1 Axes>"
      ]
     },
     "metadata": {
      "needs_background": "light"
     },
     "output_type": "display_data"
    },
    {
     "name": "stdout",
     "output_type": "stream",
     "text": [
      "(4, 96, 154, 6, 6)\n",
      "writing samples 2\n"
     ]
    },
    {
     "name": "stderr",
     "output_type": "stream",
     "text": [
      "100%|██████████| 2/2 [00:00<00:00, 1638.40it/s]\n"
     ]
    }
   ],
   "source": [
    "city=cities[2]\n",
    "cities=dammasks_path.keys()\n",
    "for city in cities:\n",
    "    print('-------------------------------------')\n",
    "    cityimg_pathes10=img_pathes[city]\n",
    "\n",
    "    # print(city)\n",
    "    masks10=dammasks_path[city]\n",
    "\n",
    "    # print(masks)\n",
    "    k_interval=list(cityimg_pathes10.keys())\n",
    "\n",
    "    print(k_interval)\n",
    "    k_interval.remove('A')\n",
    "    for k_ in k_interval:\n",
    "        print()\n",
    "        print()\n",
    "        print(k_)\n",
    "        if len(k_)==1:\n",
    "            print('loading mask:',k_)\n",
    "            print(masks10[k_])\n",
    "            mask_now=torch.load(masks10[k_])\n",
    "            mask_before=None\n",
    "            mask_after=None\n",
    "        else:\n",
    "            if 'A' in k_:\n",
    "                print('loading mask:',k_[2])\n",
    "                print(masks10[k_[2]])\n",
    "                mask_now=None\n",
    "                mask_before=None\n",
    "                mask_after=torch.load(masks10[k_[2]])\n",
    "            elif 'Z' in k_:\n",
    "                print('loading mask:',k_[0])\n",
    "                print(masks10[k_[0]])\n",
    "                mask_now=None\n",
    "                mask_before=torch.load(masks10[k_[0]])\n",
    "                mask_after=None\n",
    "            else:\n",
    "                print('loading mask:',k_[0],'and',k_[2])\n",
    "                print(masks10[k_[0]])\n",
    "                print(masks10[k_[2]])\n",
    "                mask_now=None\n",
    "                mask_before=torch.load(masks10[k_[0]])\n",
    "                mask_after=torch.load(masks10[k_[2]])  \n",
    "        pre10_path=cityimg_pathes10['A'][0]\n",
    "        pre_info=torch.load(pre10_path)\n",
    "        pre_img=[pre_info['img10'],pre_info['img20']]\n",
    "        post10_pathes=cityimg_pathes10[k_]\n",
    "        if len(post10_pathes)==0:\n",
    "            continue\n",
    "        post10_pathes.sort()\n",
    "        print('load img:',k_)\n",
    "        print(post10_pathes)\n",
    "        for post10_path in post10_pathes:\n",
    "            print(post10_path)\n",
    "            post_info=torch.load(post10_path)\n",
    "            post_img=[post_info['img10'],post_info['img20']]\n",
    "            plt.imshow(post_img[0][:3,:,:,1,1].transpose((1,2,0)))\n",
    "            plt.show()\n",
    "            samples,zz=get_samples(pre_img,post_img,mask_after,mask_now,mask_before)\n",
    "            print('writing samples',len(samples))\n",
    "            time.sleep(2)\n",
    "\n",
    "            samples_root=f'/ssd/hk/Ukraine_samples/samplesv2/samples_volnovskha/'\n",
    "            img_id=os.path.basename(post10_path).split('_size')[0].replace('_','-')\n",
    "\n",
    "            samples_pathes=[samples_root+f'{city}_{img_id}_{str(i[0][0]).zfill(3)+str(i[0][1]).zfill(3)}.pth' for i in samples]\n",
    "            info=[]\n",
    "\n",
    "            for i in tqdm(range(len(samples))):\n",
    "                    # '5层分别为完全 严重 中等 以及损毁得分和类型\\n得分:完全算6分 严重算3分 中等算1分 其他0分\\n类型0:得分0 类型1:得分1-5 类型2:得分大于6'\n",
    "                    info.append([samples_pathes[i],samples[i][0],samples[i][1]])\n",
    "                    torch.save(samples[i],samples_pathes[i])\n",
    "            info_dict={'readme':'4个字段\\n 1:pre图像路径\\n 2:post图像路径\\n 3:图像坐标\\n 4:损毁信息\\n 损毁信息有5层\\n 5层分别为完全 严重 中等 以及损毁得分和类型\\n得分:完全算6分 严重算3分 中等算1分 其他0分\\n类型0:得分0 类型1:得分1-5 类型2:得分大于6', 'info':info}\n",
    "            torch.save(info_dict,f'/ssd/hk/Ukraine_samples/samplesv2/{city}_{img_id}_samples_info.pth')\n",
    "        # if post10_path=='/data4/Ukraine_img/U_band2348/20220314T082719_20220314T083610_T37TDN_cut_reprojection_size_6_area1_info.pth':\n",
    "        #     raise"
   ]
  },
  {
   "cell_type": "code",
   "execution_count": 52,
   "metadata": {},
   "outputs": [
    {
     "data": {
      "text/plain": [
       "'volnovskha'"
      ]
     },
     "execution_count": 52,
     "metadata": {},
     "output_type": "execute_result"
    }
   ],
   "source": [
    "cities[2]"
   ]
  },
  {
   "cell_type": "markdown",
   "metadata": {},
   "source": [
    "# 创建samples_slip文件"
   ]
  },
  {
   "cell_type": "code",
   "execution_count": 63,
   "metadata": {},
   "outputs": [
    {
     "name": "stdout",
     "output_type": "stream",
     "text": [
      "volnovskha\n",
      "/data4/Ukraine_img/volnovskha/20210910T082601_20210910T083119_T37TCN_size_6_volnovskha_info.pth\n",
      "t:3928   v:1685\n"
     ]
    },
    {
     "data": {
      "image/png": "[encoded data removed]",
      "text/plain": [
       "<Figure size 432x288 with 2 Axes>"
      ]
     },
     "metadata": {
      "needs_background": "light"
     },
     "output_type": "display_data"
    }
   ],
   "source": [
    "size=6\n",
    "city='volnovskha'\n",
    "print(city)\n",
    "if 'C' in list(dammasks_path[city].keys()):\n",
    "    dammask_path=dammasks_path[city]['C']\n",
    "else:\n",
    "    dammask_path=dammasks_path[city]['B']\n",
    "\n",
    "dammask=torch.load(dammask_path)['mask'][0]\n",
    "# plt.imshow(dammask)\n",
    "# plt.show()\n",
    "mask_path=img_pathes[city]['A'][0]\n",
    "print(mask_path)\n",
    "mask=torch.load(mask_path)['img10'][0]\n",
    "mask[mask>0]=1\n",
    "# plt.imshow(mask[:,:,0,0])\n",
    "# plt.show()\n",
    "shape=mask.shape\n",
    "\n",
    "\n",
    "\n",
    "\n",
    "sample_mask=np.zeros((shape[0],shape[1]))\n",
    "sample_p=[]\n",
    "sample_n=[]\n",
    "for x in range(shape[0]):\n",
    "    for y in range(shape[1]):\n",
    "        if dammask[x,y]>0:\n",
    "            sample_mask[x,y]=1\n",
    "        if (mask[x,y]==0).any() and (mask[x,y]==0).any():\n",
    "            sample_mask[x,y]=-1\n",
    "        if sample_mask[x,y]==1:\n",
    "            sample_p.append([x,y])\n",
    "        elif sample_mask[x,y]==0:\n",
    "            sample_n.append([x,y])\n",
    "\n",
    "p_coord=[str(i[0]).zfill(3)+str(i[1]).zfill(3) for i in sample_p]\n",
    "n_coord=[str(i[0]).zfill(3)+str(i[1]).zfill(3) for i in sample_n]\n",
    "random.shuffle(p_coord)\n",
    "random.shuffle(n_coord)\n",
    "p_t_coord=p_coord[:int(len(p_coord)*0.7)]\n",
    "p_v_coord=p_coord[int(len(p_coord)*0.7):]\n",
    "n_t_coord=n_coord[:int(len(n_coord)*0.7)]\n",
    "n_v_coord=n_coord[int(len(n_coord)*0.7):]\n",
    "t=p_t_coord+n_t_coord\n",
    "v=p_v_coord+n_v_coord\n",
    "random.shuffle(t)\n",
    "random.shuffle(v)\n",
    "print(f't:{len(t)}   v:{len(v)}')\n",
    "torch.save(t,f'/ssd/hk/Ukraine_samples/coords_splitv2/{city}_train.pth')\n",
    "torch.save(v,f'/ssd/hk/Ukraine_samples/coords_splitv2/{city}_val.pth')\n",
    "# plt.figure(figsize=(15,15))\n",
    "plt.imshow(sample_mask)\n",
    "plt.colorbar()\n",
    "plt.show()\n",
    "\n"
   ]
  },
  {
   "cell_type": "code",
   "execution_count": 64,
   "metadata": {},
   "outputs": [],
   "source": [
    "coords_v=torch.load('/ssd/hk/Ukraine_samples/coords_splitv2/volnovskha_val.pth')\n",
    "coords_t=torch.load('/ssd/hk/Ukraine_samples/coords_splitv2/volnovskha_train.pth')"
   ]
  },
  {
   "cell_type": "code",
   "execution_count": 65,
   "metadata": {},
   "outputs": [
    {
     "name": "stdout",
     "output_type": "stream",
     "text": [
      "3928 1685\n",
      "34237\n",
      "match train\n"
     ]
    },
    {
     "name": "stderr",
     "output_type": "stream",
     "text": [
      "100%|██████████| 3928/3928 [02:00<00:00, 32.59it/s]\n"
     ]
    },
    {
     "name": "stdout",
     "output_type": "stream",
     "text": [
      "match val\n"
     ]
    },
    {
     "name": "stderr",
     "output_type": "stream",
     "text": [
      "100%|██████████| 1685/1685 [00:51<00:00, 32.70it/s]\n"
     ]
    }
   ],
   "source": [
    "def match(string,input_list):\n",
    "    new_data_list=[i for i in input_list if  re.match(string, i[0]) != None]\n",
    "    return new_data_list\n",
    "t=[]\n",
    "v=[]\n",
    "city_sample=[]\n",
    "for i in glob('/ssd/hk/Ukraine_samples/coords_splitv2/volnovskha*train.pth'):\n",
    "    t+=torch.load(i)\n",
    "    v+=torch.load(i.replace('train','val'))\n",
    "print(len(t),len(v))\n",
    "for i in glob('/ssd/hk/Ukraine_samples/samplesv2/volnovskha*.pth'):\n",
    "    city_sample+=torch.load(i)['info']\n",
    "print(len(city_sample))\n",
    "\n",
    "for i in range(len(city_sample)):\n",
    "    if len(city_sample[i][2])==2:\n",
    "        if city_sample[i][2][0] is not None:\n",
    "            city_sample[i][2]=city_sample[i][2][0]\n",
    "        else:\n",
    "            city_sample[i][2]=city_sample[i][2][1]\n",
    "city_pathes=[[i[0],'n'] if i[2][0]==0 else [i[0],'p'] for i in city_sample]\n",
    "random.shuffle(city_pathes)\n",
    "import re\n",
    "city_coord_sample={}\n",
    "city_coord_sample['train']={}\n",
    "city_coord_sample['val']={}\n",
    "print('match train')\n",
    "time.sleep(2)\n",
    "for i in tqdm(t):\n",
    "    a=match(f'.*{i}.pth',city_pathes)\n",
    "    a.sort()\n",
    "    city_coord_sample['train'][i]=a\n",
    "print('match val')\n",
    "time.sleep(2)\n",
    "for i in tqdm(v):\n",
    "    a=match(f'.*{i}.pth',city_pathes)\n",
    "    a.sort()\n",
    "    city_coord_sample['val'][i]=a\n",
    "torch.save(city_coord_sample,f'/ssd/hk/Ukraine_samples/split_coordv2_v2/cities/volnovskha/samples.pth') \n",
    "\n",
    "\n",
    "\n",
    "t=[]\n",
    "for i in city_coord_sample['train'].keys():\n",
    "    t+=city_coord_sample['train'][i]\n",
    "v=[]\n",
    "for i in city_coord_sample['val'].keys():\n",
    "    v+=city_coord_sample['val'][i]\n",
    "random.shuffle(t)\n",
    "random.shuffle(v)\n",
    "# torch.save(t,f'/ssd/hk/Ukraine_samples/split_coordv2_v2/train.pth') \n",
    "# torch.save(v,f'/ssd/hk/Ukraine_samples/split_coordv2_v2/val.pth') "
   ]
  },
  {
   "cell_type": "code",
   "execution_count": 66,
   "metadata": {},
   "outputs": [],
   "source": [
    "torch.save(t,f'/ssd/hk/Ukraine_samples/split_coordv2_v2/cities/volnovskha/train.pth') \n",
    "torch.save(v,f'/ssd/hk/Ukraine_samples/split_coordv2_v2/cities/volnovskha/val.pth') "
   ]
  },
  {
   "cell_type": "code",
   "execution_count": 67,
   "metadata": {},
   "outputs": [
    {
     "name": "stdout",
     "output_type": "stream",
     "text": [
      "23960\n"
     ]
    },
    {
     "data": {
      "text/plain": [
       "789"
      ]
     },
     "execution_count": 67,
     "metadata": {},
     "output_type": "execute_result"
    }
   ],
   "source": [
    "print(len(t))\n",
    "len([i  for i in t if i[1]=='p'])\n"
   ]
  },
  {
   "cell_type": "code",
   "execution_count": 68,
   "metadata": {},
   "outputs": [
    {
     "name": "stdout",
     "output_type": "stream",
     "text": [
      "10277\n"
     ]
    },
    {
     "data": {
      "text/plain": [
       "338"
      ]
     },
     "execution_count": 68,
     "metadata": {},
     "output_type": "execute_result"
    }
   ],
   "source": [
    "print(len(v))\n",
    "len([i  for i in v if i[1]=='p'])"
   ]
  },
  {
   "cell_type": "code",
   "execution_count": 69,
   "metadata": {},
   "outputs": [
    {
     "name": "stdout",
     "output_type": "stream",
     "text": [
      "3928 1685\n"
     ]
    }
   ],
   "source": [
    "import gdal\n",
    "import torch\n",
    "s=torch.load('/ssd/hk/Ukraine_samples/split_coordv2_v2/cities/volnovskha/samples.pth')\n",
    "tt=[]\n",
    "for i in s['train'].keys():\n",
    "    t_p=[j[0] for j in s['train'][i]]+[None]*(20-len(s['train'][i]))\n",
    "    t_l=[j[1] for j in s['train'][i]]+[None]*(20-len(s['train'][i]))\n",
    "    tt.append([t_p,t_l])\n",
    "vv=[]\n",
    "for i in s['val'].keys():\n",
    "    t_p=[j[0] for j in s['val'][i]]+[None]*(20-len(s['val'][i]))\n",
    "    t_l=[j[1] for j in s['val'][i]]+[None]*(20-len(s['val'][i]))\n",
    "    vv.append([t_p,t_l])\n",
    "print(len(tt),len(vv))\n",
    "torch.save(tt,'/ssd/hk/Ukraine_samples/split_coordv2_v3/cities/volnovskha/train.pth')\n",
    "torch.save(vv,'/ssd/hk/Ukraine_samples/split_coordv2_v3/cities/volnovskha/val.pth')"
   ]
  },
  {
   "cell_type": "code",
   "execution_count": 229,
   "metadata": {},
   "outputs": [],
   "source": [
    "tt=torch.load('/ssd/hk/Ukraine_samples/split_coordv2_Azovstal_v3/train.pth')+torch.load('/ssd/hk/Ukraine_samples/split_coordv2_v3/train.pth')\n",
    "vv=torch.load('/ssd/hk/Ukraine_samples/split_coordv2_Azovstal_v3/val.pth')+torch.load('/ssd/hk/Ukraine_samples/split_coordv2_v3/val.pth')\n",
    "random.shuffle(tt)\n",
    "random.shuffle(vv)\n",
    "torch.save(tt,'/ssd/hk/Ukraine_samples/split_coordv2_all_v3/train.pth')\n",
    "torch.save(vv,'/ssd/hk/Ukraine_samples/split_coordv2_all_v3/val.pth')"
   ]
  },
  {
   "cell_type": "code",
   "execution_count": 244,
   "metadata": {},
   "outputs": [],
   "source": [
    "k=[]\n",
    "for i in tt:\n",
    "    p=[j for j in i[0] if j is not None]\n",
    "    l=[j for j in i[1] if j is not None]\n",
    "    for j in range(len(p)):\n",
    "        k.append([p[j],l[j]])\n",
    "random.shuffle(k)\n",
    "torch.save(k,'/ssd/hk/Ukraine_samples/split_coordv2_v2/cities/M/train.pth')"
   ]
  },
  {
   "cell_type": "code",
   "execution_count": 246,
   "metadata": {},
   "outputs": [
    {
     "name": "stdout",
     "output_type": "stream",
     "text": [
      "49862\n",
      "10343\n",
      "60205\n",
      "21301\n",
      "4437\n",
      "25738\n"
     ]
    }
   ],
   "source": [
    "print(len(torch.load('/ssd/hk/Ukraine_samples/split_coordv2_v2/cities/ML/train.pth')))\n",
    "print(len(torch.load('/ssd/hk/Ukraine_samples/split_coordv2_v2/cities/Azovstal/train.pth')))\n",
    "print(len(torch.load('/ssd/hk/Ukraine_samples/split_coordv2_v2/cities/M/train.pth')))\n",
    "print(len(torch.load('/ssd/hk/Ukraine_samples/split_coordv2_v2/cities/ML/val.pth')))\n",
    "print(len(torch.load('/ssd/hk/Ukraine_samples/split_coordv2_v2/cities/Azovstal/val.pth')))\n",
    "print(len(torch.load('/ssd/hk/Ukraine_samples/split_coordv2_v2/cities/M/val.pth')))"
   ]
  },
  {
   "cell_type": "code",
   "execution_count": 242,
   "metadata": {},
   "outputs": [
    {
     "data": {
      "text/plain": [
       "60205"
      ]
     },
     "execution_count": 242,
     "metadata": {},
     "output_type": "execute_result"
    }
   ],
   "source": [
    "49862+10343"
   ]
  },
  {
   "cell_type": "code",
   "execution_count": 262,
   "metadata": {},
   "outputs": [
    {
     "name": "stdout",
     "output_type": "stream",
     "text": [
      "2561\n",
      "2561\n"
     ]
    }
   ],
   "source": [
    "f=torch.load('/ssd/hk/Ukraine_samples/split_coordv2_v3/cities/Azovstal/train.pth')\n",
    "print(len(f))\n",
    "k=[]\n",
    "for i in f:\n",
    "    z=[j for j in i[0] if j is not None]\n",
    "    if len(z)>0:\n",
    "        k.append(i)\n",
    "print(len(k))\n",
    "f=torch.save(k,'/ssd/hk/Ukraine_samples/split_coordv2_v3/cities/Azovstal/train.pth')"
   ]
  },
  {
   "cell_type": "code",
   "execution_count": 173,
   "metadata": {},
   "outputs": [],
   "source": [
    "ttt2=torch.load('/ssd/hk/Ukraine_samples/split_coordv2_v3/cities/Sievierodoetsk/train.pth')"
   ]
  },
  {
   "cell_type": "code",
   "execution_count": 175,
   "metadata": {},
   "outputs": [],
   "source": [
    "aa=[]\n",
    "for i in ttt2:\n",
    "    if i[1][0]=='p':\n",
    "        aa.append(i)\n"
   ]
  },
  {
   "cell_type": "code",
   "execution_count": 163,
   "metadata": {},
   "outputs": [],
   "source": [
    "aa2=[]\n",
    "for i in ttt:\n",
    "    if i[1][0]=='p':\n",
    "        aa2.append(i)\n"
   ]
  },
  {
   "cell_type": "code",
   "execution_count": 177,
   "metadata": {},
   "outputs": [
    {
     "name": "stdout",
     "output_type": "stream",
     "text": [
      "6438 54\n"
     ]
    }
   ],
   "source": [
    "print(len(ttt2),len(aa))"
   ]
  },
  {
   "cell_type": "code",
   "execution_count": 178,
   "metadata": {},
   "outputs": [
    {
     "name": "stdout",
     "output_type": "stream",
     "text": [
      "5429 227\n"
     ]
    }
   ],
   "source": [
    "print(len(ttt),len(aa2))"
   ]
  },
  {
   "cell_type": "code",
   "execution_count": 2,
   "metadata": {},
   "outputs": [
    {
     "data": {
      "text/plain": [
       "['val.pth', 'train.pth']"
      ]
     },
     "execution_count": 2,
     "metadata": {},
     "output_type": "execute_result"
    }
   ],
   "source": [
    "os.listdir('/ssd/hk/Ukraine_samples/split_coordv2_v3/cities/MSRV')"
   ]
  },
  {
   "cell_type": "code",
   "execution_count": 18,
   "metadata": {},
   "outputs": [],
   "source": [
    "import torch\n",
    "import random\n",
    "cs=['M']\n",
    "for c in cs:\n",
    "    if not os.path.exists(f'/ssd/hk/Ukraine_samples/split_coordv2_v2/cities/{c}/'):\n",
    "        os.mkdir(f'/ssd/hk/Ukraine_samples/split_coordv2_v2/cities/{c}/')\n",
    "    for f in ['val2','train2']:\n",
    "        t=torch.load(f'/ssd/hk/Ukraine_samples/split_coordv2_v3/cities/{c}/{f}.pth')\n",
    "        tv2=[]\n",
    "        for j in t:\n",
    "            p,l=j\n",
    "            v2=[[p[i],l[i]] for i in range(len(p)) if p[i] is not None ]\n",
    "            tv2+=(v2)\n",
    "        random.shuffle(tv2)\n",
    "        torch.save(tv2,f'/ssd/hk/Ukraine_samples/split_coordv2_v2/cities/{c}/{f}.pth')"
   ]
  },
  {
   "cell_type": "code",
   "execution_count": 3,
   "metadata": {},
   "outputs": [
    {
     "data": {
      "text/plain": [
       "['val.pth', 'samples2.pth', 'val2.pth', 'samples.pth', 'train.pth']"
      ]
     },
     "execution_count": 3,
     "metadata": {},
     "output_type": "execute_result"
    }
   ],
   "source": [
    "os.listdir('/ssd/hk/Ukraine_samples/split_coordv2_v3/cities/M/')"
   ]
  },
  {
   "cell_type": "code",
   "execution_count": 90,
   "metadata": {},
   "outputs": [],
   "source": [
    "cs=['M','Rubizhne','Sievierodoetsk','volnovskha']\n",
    "scs='MRSV'\n",
    "aaaa=[]\n",
    "if not os.path.exists(f'/ssd/hk/Ukraine_samples/split_coordv2_v3/cities/{scs}/'):\n",
    "    os.mkdir(f'/ssd/hk/Ukraine_samples/split_coordv2_v3/cities/{scs}/')\n",
    "for c in cs:\n",
    "    aaaa+=torch.load(f'/ssd/hk/Ukraine_samples/split_coordv2_v3/cities/{c}/val.pth')\n",
    "\n",
    "random.shuffle(aaaa)\n",
    "torch.save(aaaa,f'/ssd/hk/Ukraine_samples/split_coordv2_v3/cities/{scs}/val.pth')\n",
    "aaaa=[]\n",
    "for c in cs:\n",
    "    aaaa+=torch.load(f'/ssd/hk/Ukraine_samples/split_coordv2_v3/cities/{c}/train.pth')\n",
    "\n",
    "random.shuffle(aaaa)\n",
    "\n",
    "torch.save(aaaa,f'/ssd/hk/Ukraine_samples/split_coordv2_v3/cities/{scs}/train.pth')"
   ]
  },
  {
   "cell_type": "code",
   "execution_count": 87,
   "metadata": {},
   "outputs": [],
   "source": [
    "os.mkdir(f'/ssd/hk/Ukraine_samples/split_coordv2_v3/cities/{scs}/')"
   ]
  },
  {
   "cell_type": "code",
   "execution_count": 187,
   "metadata": {},
   "outputs": [],
   "source": [
    "aa3=[]\n",
    "for i in A:\n",
    "    if i[1][0]=='p':\n",
    "        aa3.append(i)"
   ]
  },
  {
   "cell_type": "code",
   "execution_count": 94,
   "metadata": {},
   "outputs": [],
   "source": [
    "aaaa=torch.load(f'/ssd/hk/Ukraine_samples/split_coordv2_v3/cities/MRV/val.pth')+torch.load(f'/ssd/hk/Ukraine_samples/split_coordv2_v3/cities/MSRV/train.pth')\n",
    "random.shuffle(aaaa)\n",
    "torch.save(aaaa,'/ssd/hk/Ukraine_samples/split_coordv2_v3/cities/MRV/samples.pth')"
   ]
  },
  {
   "cell_type": "code",
   "execution_count": 161,
   "metadata": {},
   "outputs": [],
   "source": [
    "s=torch.load('/ssd/hk/Ukraine_samples/split_coordv2_v3/cities/MSR/samples2.pth')"
   ]
  },
  {
   "cell_type": "code",
   "execution_count": 202,
   "metadata": {},
   "outputs": [
    {
     "data": {
      "text/plain": [
       "10318"
      ]
     },
     "execution_count": 202,
     "metadata": {},
     "output_type": "execute_result"
    }
   ],
   "source": [
    "len(torch.load('/ssd/hk/Ukraine_samples/split_coordv2_v3/cities/ML/train.pth'))"
   ]
  },
  {
   "cell_type": "code",
   "execution_count": 203,
   "metadata": {},
   "outputs": [
    {
     "data": {
      "text/plain": [
       "12877"
      ]
     },
     "execution_count": 203,
     "metadata": {},
     "output_type": "execute_result"
    }
   ],
   "source": [
    "len(torch.load('/ssd/hk/Ukraine_samples/split_coordv2_v3/cities/M/train.pth'))"
   ]
  },
  {
   "cell_type": "code",
   "execution_count": 208,
   "metadata": {},
   "outputs": [
    {
     "data": {
      "text/plain": [
       "2561"
      ]
     },
     "execution_count": 208,
     "metadata": {},
     "output_type": "execute_result"
    }
   ],
   "source": [
    "len(torch.load('/ssd/hk/Ukraine_samples/split_coordv2_v3/cities/Azovstal/train.pth'))"
   ]
  },
  {
   "cell_type": "code",
   "execution_count": 205,
   "metadata": {},
   "outputs": [
    {
     "data": {
      "text/plain": [
       "15747"
      ]
     },
     "execution_count": 205,
     "metadata": {},
     "output_type": "execute_result"
    }
   ],
   "source": [
    "len(torch.load('/ssd/hk/Ukraine_samples/split_coordv2_v3/cities/MLR/train.pth'))"
   ]
  },
  {
   "cell_type": "code",
   "execution_count": 207,
   "metadata": {},
   "outputs": [
    {
     "data": {
      "text/plain": [
       "5429"
      ]
     },
     "execution_count": 207,
     "metadata": {},
     "output_type": "execute_result"
    }
   ],
   "source": [
    "len(torch.load('/ssd/hk/Ukraine_samples/split_coordv2_v3/cities/Rubizhne/train.pth'))"
   ]
  },
  {
   "cell_type": "code",
   "execution_count": 266,
   "metadata": {},
   "outputs": [],
   "source": [
    "a=torch.load('/ssd/hk/Ukraine_samples/split_coordv2_v2/cities/Sievierodoetsk/train.pth')"
   ]
  },
  {
   "cell_type": "code",
   "execution_count": 286,
   "metadata": {},
   "outputs": [],
   "source": [
    "a=torch.load('/ssd/hk/Ukraine_samples/split_coordv2_v3/cities/Rubizhne/train.pth')+torch.load('/ssd/hk/Ukraine_samples/split_coordv2_v3/cities/Rubizhne/val.pth')\n",
    "random.shuffle(a)\n",
    "torch.save(a,'/ssd/hk/Ukraine_samples/split_coordv2_v3/cities/Rubizhne/samples.pth')"
   ]
  },
  {
   "cell_type": "code",
   "execution_count": 174,
   "metadata": {},
   "outputs": [
    {
     "name": "stdout",
     "output_type": "stream",
     "text": [
      "634\n"
     ]
    }
   ],
   "source": [
    "aa3=[]\n",
    "for i in s:\n",
    "    if 'p' in i[1]:\n",
    "        aa3.append(i)\n",
    "print(len(aa3))"
   ]
  },
  {
   "cell_type": "code",
   "execution_count": 175,
   "metadata": {},
   "outputs": [
    {
     "data": {
      "text/plain": [
       "45.22397476340694"
      ]
     },
     "execution_count": 175,
     "metadata": {},
     "output_type": "execute_result"
    }
   ],
   "source": [
    "len(s)/634"
   ]
  },
  {
   "cell_type": "code",
   "execution_count": 110,
   "metadata": {},
   "outputs": [
    {
     "data": {
      "text/plain": [
       "51.22981366459627"
      ]
     },
     "execution_count": 110,
     "metadata": {},
     "output_type": "execute_result"
    }
   ],
   "source": [
    "len(s)/483"
   ]
  },
  {
   "cell_type": "code",
   "execution_count": 268,
   "metadata": {},
   "outputs": [
    {
     "data": {
      "text/plain": [
       "0.0037936952398157347"
      ]
     },
     "execution_count": 268,
     "metadata": {},
     "output_type": "execute_result"
    }
   ],
   "source": [
    "252/len(a)"
   ]
  },
  {
   "cell_type": "code",
   "execution_count": 230,
   "metadata": {},
   "outputs": [
    {
     "data": {
      "text/plain": [
       "0.011714174150722375"
      ]
     },
     "execution_count": 230,
     "metadata": {},
     "output_type": "execute_result"
    }
   ],
   "source": [
    "30/2561"
   ]
  },
  {
   "cell_type": "code",
   "execution_count": 239,
   "metadata": {},
   "outputs": [
    {
     "data": {
      "text/plain": [
       "1171"
      ]
     },
     "execution_count": 239,
     "metadata": {},
     "output_type": "execute_result"
    }
   ],
   "source": [
    "np.array([1 if i[1]=='p' else 0 for i in a]).sum()"
   ]
  },
  {
   "cell_type": "code",
   "execution_count": 240,
   "metadata": {},
   "outputs": [
    {
     "data": {
      "text/plain": [
       "49862"
      ]
     },
     "execution_count": 240,
     "metadata": {},
     "output_type": "execute_result"
    }
   ],
   "source": [
    "len(a)"
   ]
  },
  {
   "cell_type": "code",
   "execution_count": 241,
   "metadata": {},
   "outputs": [
    {
     "data": {
      "text/plain": [
       "0.023484818097950343"
      ]
     },
     "execution_count": 241,
     "metadata": {},
     "output_type": "execute_result"
    }
   ],
   "source": [
    "1171/49862"
   ]
  },
  {
   "cell_type": "code",
   "execution_count": 242,
   "metadata": {},
   "outputs": [
    {
     "data": {
      "text/plain": [
       "41.58070025619129"
      ]
     },
     "execution_count": 242,
     "metadata": {},
     "output_type": "execute_result"
    }
   ],
   "source": [
    "(1-0.023484818097950343)/0.023484818097950343"
   ]
  },
  {
   "cell_type": "code",
   "execution_count": 13,
   "metadata": {},
   "outputs": [
    {
     "data": {
      "text/plain": [
       "17"
      ]
     },
     "execution_count": 13,
     "metadata": {},
     "output_type": "execute_result"
    }
   ],
   "source": [
    "len(os.listdir('/data4/Ukraine_img/volnovskha/'))"
   ]
  },
  {
   "cell_type": "code",
   "execution_count": 114,
   "metadata": {},
   "outputs": [
    {
     "data": {
      "text/plain": [
       "['val.pth', 'train.pth']"
      ]
     },
     "execution_count": 114,
     "metadata": {},
     "output_type": "execute_result"
    }
   ],
   "source": [
    "os.listdir('/ssd/hk/Ukraine_samples/split_coordv2_v2/cities/M/')"
   ]
  },
  {
   "cell_type": "code",
   "execution_count": 9,
   "metadata": {},
   "outputs": [],
   "source": [
    "s=torch.load('/ssd/hk/Ukraine_samples/split_coordv2_v3/cities/M/train.pth')"
   ]
  },
  {
   "cell_type": "code",
   "execution_count": 10,
   "metadata": {},
   "outputs": [],
   "source": [
    "s2=[]\n",
    "for k in s:\n",
    "    a_id=[]\n",
    "    for i in k[0]:\n",
    "        \n",
    "        if i is None:\n",
    "            a_id.append(0)\n",
    "        elif 'area' in i and '20220508T' in i:\n",
    "            a_id.append(1)\n",
    "        else:\n",
    "            a_id.append(0)\n",
    "    k2=[[k[0][i] for i in range(len(k[0])) if a_id[i]==0],[k[1][i] for i in range(len(k[0])) if a_id[i]==0]]\n",
    "    k2[0]+=[None]*(20-len(k2[0]))\n",
    "    k2[1]+=[None]*(20-len(k2[1]))\n",
    "    s2.append(k2)\n",
    "s3=[]\n",
    "for i in s2:\n",
    "    z=[j for j in i[0] if j is not None]\n",
    "    if len(z)==0:\n",
    "        print(i)\n",
    "    else:\n",
    "        s3.append(i)\n",
    "torch.save(s3,'/ssd/hk/Ukraine_samples/split_coordv2_v3/cities/M/train2.pth') "
   ]
  },
  {
   "cell_type": "code",
   "execution_count": 20,
   "metadata": {},
   "outputs": [],
   "source": [
    "def get_p(s,version):\n",
    "    if version=='3':\n",
    "        aa3=[]\n",
    "        for i in s:\n",
    "            if 'p' in i[1]:\n",
    "                aa3.append(i)\n",
    "        return len(aa3)\n",
    "    else:\n",
    "        aa2=[1 if i[1]=='p' else 0 for i in s]\n",
    "        return np.array(aa2).sum()\n",
    "\n",
    "    # print(len(aa3))"
   ]
  },
  {
   "cell_type": "code",
   "execution_count": 125,
   "metadata": {},
   "outputs": [
    {
     "data": {
      "text/plain": [
       "['/ssd/hk/Ukraine_samples/samplesv2/samples/area2_20220314T082719-20220314T083610-T37TCN2_167312.pth',\n",
       " '/ssd/hk/Ukraine_samples/samplesv2/samples/area2_20220319T082651-20220319T083304-T37TCN2_167312.pth',\n",
       " '/ssd/hk/Ukraine_samples/samplesv2/samples/area2_20220324T082609-20220324T083426-T37TCN2_167312.pth',\n",
       " '/ssd/hk/Ukraine_samples/samplesv2/samples/area2_20220329T082601-20220329T083216-T37TCN2_167312.pth',\n",
       " '/ssd/hk/Ukraine_samples/samplesv2/samples/area2_20220508T082611-20220508T083304-T37TCN2_167312.pth',\n",
       " None,\n",
       " None,\n",
       " None,\n",
       " None,\n",
       " None,\n",
       " None,\n",
       " None,\n",
       " None,\n",
       " None,\n",
       " None,\n",
       " None,\n",
       " None,\n",
       " None,\n",
       " None,\n",
       " None]"
      ]
     },
     "execution_count": 125,
     "metadata": {},
     "output_type": "execute_result"
    }
   ],
   "source": [
    "a[0][0]"
   ]
  },
  {
   "cell_type": "code",
   "execution_count": 23,
   "metadata": {},
   "outputs": [
    {
     "name": "stdout",
     "output_type": "stream",
     "text": [
      "53530 22878 76408 0.024146686210867973\n",
      "57269 24573 81842 0.02497495173627233\n",
      "66426 28463 94889 0.0038676769699332904\n",
      "23960 10277 34237 0.03291760376201186\n",
      "201185 86191 287376 0.018731557262958633\n"
     ]
    }
   ],
   "source": [
    "import torch\n",
    "cs=['M','Rubizhne','Sievierodoetsk','volnovskha']\n",
    "version='2'\n",
    "for c in cs:\n",
    "    if c=='M':\n",
    "\n",
    "        t=torch.load(f'/ssd/hk/Ukraine_samples/split_coordv2_v{version}/cities/{c}/train2.pth')\n",
    "        v=torch.load(f'/ssd/hk/Ukraine_samples/split_coordv2_v{version}/cities/{c}/val2.pth')\n",
    "    else:\n",
    "        t=torch.load(f'/ssd/hk/Ukraine_samples/split_coordv2_v{version}/cities/{c}/train.pth')\n",
    "        v=torch.load(f'/ssd/hk/Ukraine_samples/split_coordv2_v{version}/cities/{c}/val.pth')\n",
    "    print(len(t),len(v),len(t+v),get_p(t+v,'2')/len(t+v))\n",
    "t=torch.load(f'/ssd/hk/Ukraine_samples/split_coordv2_v{version}/cities/MSRV/train.pth')\n",
    "v=torch.load(f'/ssd/hk/Ukraine_samples/split_coordv2_v{version}/cities/MSRV/val.pth')\n",
    "print(len(t),len(v),len(t+v),get_p(t+v,'2')/len(t+v))"
   ]
  },
  {
   "cell_type": "code",
   "execution_count": 22,
   "metadata": {},
   "outputs": [],
   "source": [
    "import numpy as np"
   ]
  },
  {
   "cell_type": "code",
   "execution_count": 13,
   "metadata": {},
   "outputs": [
    {
     "data": {
      "text/plain": [
       "12298"
      ]
     },
     "execution_count": 13,
     "metadata": {},
     "output_type": "execute_result"
    }
   ],
   "source": [
    "5524+2328+2761+1685"
   ]
  },
  {
   "cell_type": "code",
   "execution_count": 17,
   "metadata": {},
   "outputs": [],
   "source": [
    "s=torch.load('/ssd/hk/Ukraine_samples/split_coordv2_v3/cities/M/train.pth')\n",
    "ss=[]\n",
    "for i in ss:\n",
    "    for "
   ]
  },
  {
   "cell_type": "code",
   "execution_count": 15,
   "metadata": {},
   "outputs": [
    {
     "name": "stdout",
     "output_type": "stream",
     "text": [
      "S 92\n",
      "R 488\n",
      "V 264\n",
      "A 50\n",
      "L 312\n"
     ]
    }
   ],
   "source": [
    "import geopandas as gpd\n",
    "ps_path=['/home/hk/python_script/Ukraine/data/UNOSAT/Sievierodonetsk_CDA_20220725/Sievierodonetsk_B_2022-07-25.shp',\n",
    "'/home/hk/python_script/Ukraine/data/UNOSAT/Rubizhne_CDA_20220709/Rubizhne_B_2022-07-09.shp',\n",
    "'/home/hk/python_script/Ukraine/data/UNOSAT/volnovakha/Volnovakha_B_2022-05-07.shp',\n",
    "'/home/hk/python_script/Ukraine/data/UNOSAT/Azovstal_0425/Azovstal_B_2022-04-25.shp',\n",
    "'/home/hk/python_script/Ukraine/data/UNOSAT/U/Livoberezhyny_C_2022-05-07.shp'\n",
    "]\n",
    "f=gpd.read_file(ps_path[0])\n",
    "print('S',len(f[f['DmgCls']=='Destroyed']))\n",
    "f=gpd.read_file(ps_path[1])\n",
    "print('R',len(f[f['DmgCls']=='Destroyed']))\n",
    "f=gpd.read_file(ps_path[2])\n",
    "print('V',len(f[f['DmgCls']=='Destroyed']))\n",
    "f=gpd.read_file(ps_path[3])\n",
    "print('A',len(f[f['DmgCls']=='Destroyed']))\n",
    "f=gpd.read_file(ps_path[4])\n",
    "print('L',len(f[f['DmgCls']=='Destroyed']))"
   ]
  },
  {
   "cell_type": "code",
   "execution_count": 21,
   "metadata": {},
   "outputs": [],
   "source": [
    "import matplotlib.pyplot as plt\n",
    "cities=['S','R','V','A','L']\n",
    "for i in range(5):\n",
    "    f=gpd.read_file(ps_path[i])\n",
    "    f[f['DmgCls']=='Destroyed'].to_file(f'/home/hk/python_script/Ukraine/data/UNOSAT/Destroyed/{cities[i]}.shp')\n",
    "    plt.show()\n"
   ]
  },
  {
   "cell_type": "code",
   "execution_count": 11,
   "metadata": {},
   "outputs": [
    {
     "data": {
      "text/plain": [
       "['/home/hk/python_script/Ukraine/data/UNOSAT/Azovstal_0425/Steelmills.shp',\n",
       " '/home/hk/python_script/Ukraine/data/UNOSAT/Azovstal_0425/Azovstal_ROI.shp',\n",
       " '/home/hk/python_script/Ukraine/data/UNOSAT/Azovstal_0425/Azovstal_B_2022-04-25.shp',\n",
       " '/home/hk/python_script/Ukraine/data/UNOSAT/Azovstal_0425/Azovstal_25April2022_CDA.shp']"
      ]
     },
     "execution_count": 11,
     "metadata": {},
     "output_type": "execute_result"
    }
   ],
   "source": [
    "from glob import glob\n",
    "glob('/home/hk/python_script/Ukraine/data/UNOSAT/Azovstal_0425/*.shp')"
   ]
  },
  {
   "cell_type": "code",
   "execution_count": null,
   "metadata": {},
   "outputs": [],
   "source": [
    "'/home/hk/python_script/Ukraine/data/UNOSAT/U/Livoberezhyny_C_2022-05-07.shp'"
   ]
  }
 ],
 "metadata": {
  "kernelspec": {
   "display_name": "Python 3.7.7 ('pythonhzy')",
   "language": "python",
   "name": "python3"
  },
  "language_info": {
   "codemirror_mode": {
    "name": "ipython",
    "version": 3
   },
   "file_extension": ".py",
   "mimetype": "text/x-python",
   "name": "python",
   "nbconvert_exporter": "python",
   "pygments_lexer": "ipython3",
   "version": "3.7.7"
  },
  "orig_nbformat": 4,
  "vscode": {
   "interpreter": {
    "hash": "4d718dcce6334846a10299329eb191d6bfc6359cfbd5881c6d9cc2e2d9a36aa3"
   }
  }
 },
 "nbformat": 4,
 "nbformat_minor": 2
}
