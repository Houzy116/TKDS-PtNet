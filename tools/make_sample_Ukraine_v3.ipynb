{
 "cells": [
  {
   "cell_type": "code",
   "execution_count": 63,
   "metadata": {},
   "outputs": [],
   "source": [
    "import gdal\n",
    "import numpy as np\n",
    "import pandas as pd\n",
    "import os\n",
    "import geopandas as gpd\n",
    "import matplotlib.pyplot as plt\n",
    "import torch\n",
    "from glob import glob\n",
    "import shapely\n",
    "import random\n",
    "from tqdm import tqdm\n",
    "from collections import Counter\n",
    "from pybob.GeoImg import GeoImg\n",
    "import osr\n",
    "from pybob.image_tools import create_mask_from_shapefile\n",
    "import gc\n",
    "import imageio\n",
    "import time\n",
    "import shutil\n",
    "import warnings\n",
    "warnings.filterwarnings('ignore')"
   ]
  },
  {
   "cell_type": "code",
   "execution_count": 8,
   "metadata": {},
   "outputs": [
    {
     "name": "stdout",
     "output_type": "stream",
     "text": [
      "(37.461454146823876, 0.0001796630568239043, 0.0, 47.22200903489612, 0.0, -0.0001796630568239043)\n",
      "(37.461454146823876, 0.0001796630568239043, 0.0, 47.22200903489612, 0.0, -0.0001796630568239043)\n",
      "(37.46136431529546, 8.983152841195215e-05, 0.0, 47.22209886642453, 0.0, -8.983152841195215e-05)\n",
      "(37.46136431529546, 8.983152841195215e-05, 0.0, 47.22209886642453, 0.0, -8.983152841195215e-05)\n",
      "(37.461454146823876, 0.0001796630568239043, 0.0, 47.22200903489612, 0.0, -0.0001796630568239043)\n",
      "(37.46136431529546, 8.983152841195215e-05, 0.0, 47.22209886642453, 0.0, -8.983152841195215e-05)\n",
      "(37.461454146823876, 0.0001796630568239043, 0.0, 47.22200903489612, 0.0, -0.0001796630568239043)\n",
      "(37.461454146823876, 0.0001796630568239043, 0.0, 47.22200903489612, 0.0, -0.0001796630568239043)\n",
      "(37.46136431529546, 8.983152841195215e-05, 0.0, 47.22209886642453, 0.0, -8.983152841195215e-05)\n",
      "(37.461454146823876, 0.0001796630568239043, 0.0, 47.22200903489612, 0.0, -0.0001796630568239043)\n",
      "(37.461454146823876, 0.0001796630568239043, 0.0, 47.22200903489612, 0.0, -0.0001796630568239043)\n",
      "(37.46136431529546, 8.983152841195215e-05, 0.0, 47.22209886642453, 0.0, -8.983152841195215e-05)\n",
      "(37.46136431529546, 8.983152841195215e-05, 0.0, 47.22209886642453, 0.0, -8.983152841195215e-05)\n",
      "(37.461454146823876, 0.0001796630568239043, 0.0, 47.22200903489612, 0.0, -0.0001796630568239043)\n",
      "(37.461454146823876, 0.0001796630568239043, 0.0, 47.22200903489612, 0.0, -0.0001796630568239043)\n",
      "(37.46136431529546, 8.983152841195215e-05, 0.0, 47.22209886642453, 0.0, -8.983152841195215e-05)\n",
      "(37.46136431529546, 8.983152841195215e-05, 0.0, 47.22209886642453, 0.0, -8.983152841195215e-05)\n",
      "(37.46136431529546, 8.983152841195215e-05, 0.0, 47.22209886642453, 0.0, -8.983152841195215e-05)\n",
      "(37.46136431529546, 8.983152841195215e-05, 0.0, 47.22209886642453, 0.0, -8.983152841195215e-05)\n",
      "(37.46136431529546, 8.983152841195215e-05, 0.0, 47.22209886642453, 0.0, -8.983152841195215e-05)\n",
      "(37.46136431529546, 8.983152841195215e-05, 0.0, 47.22209886642453, 0.0, -8.983152841195215e-05)\n",
      "(37.461454146823876, 0.0001796630568239043, 0.0, 47.22200903489612, 0.0, -0.0001796630568239043)\n",
      "(37.461454146823876, 0.0001796630568239043, 0.0, 47.22200903489612, 0.0, -0.0001796630568239043)\n",
      "(37.46136431529546, 8.983152841195215e-05, 0.0, 47.22209886642453, 0.0, -8.983152841195215e-05)\n",
      "(37.461454146823876, 0.0001796630568239043, 0.0, 47.22200903489612, 0.0, -0.0001796630568239043)\n",
      "(37.461454146823876, 0.0001796630568239043, 0.0, 47.22200903489612, 0.0, -0.0001796630568239043)\n",
      "(37.461454146823876, 0.0001796630568239043, 0.0, 47.22200903489612, 0.0, -0.0001796630568239043)\n",
      "(37.461454146823876, 0.0001796630568239043, 0.0, 47.22200903489612, 0.0, -0.0001796630568239043)\n",
      "(37.461454146823876, 0.0001796630568239043, 0.0, 47.22200903489612, 0.0, -0.0001796630568239043)\n",
      "(37.46136431529546, 8.983152841195215e-05, 0.0, 47.22209886642453, 0.0, -8.983152841195215e-05)\n",
      "(37.461454146823876, 0.0001796630568239043, 0.0, 47.22200903489612, 0.0, -0.0001796630568239043)\n",
      "(37.46136431529546, 8.983152841195215e-05, 0.0, 47.22209886642453, 0.0, -8.983152841195215e-05)\n",
      "(37.46136431529546, 8.983152841195215e-05, 0.0, 47.22209886642453, 0.0, -8.983152841195215e-05)\n",
      "(37.461454146823876, 0.0001796630568239043, 0.0, 47.22200903489612, 0.0, -0.0001796630568239043)\n",
      "(37.46136431529546, 8.983152841195215e-05, 0.0, 47.22209886642453, 0.0, -8.983152841195215e-05)\n",
      "(37.46136431529546, 8.983152841195215e-05, 0.0, 47.22209886642453, 0.0, -8.983152841195215e-05)\n",
      "(37.46136431529546, 8.983152841195215e-05, 0.0, 47.22209886642453, 0.0, -8.983152841195215e-05)\n",
      "(37.461454146823876, 0.0001796630568239043, 0.0, 47.22200903489612, 0.0, -0.0001796630568239043)\n"
     ]
    },
    {
     "name": "stderr",
     "output_type": "stream",
     "text": [
      "Warning 1: TIFFReadDirectory:Sum of Photometric type-related color channels and ExtraSamples doesn't match SamplesPerPixel. Defining non-color channels as ExtraSamples.\n",
      "Warning 1: TIFFReadDirectory:Sum of Photometric type-related color channels and ExtraSamples doesn't match SamplesPerPixel. Defining non-color channels as ExtraSamples.\n",
      "Warning 1: TIFFReadDirectory:Sum of Photometric type-related color channels and ExtraSamples doesn't match SamplesPerPixel. Defining non-color channels as ExtraSamples.\n",
      "Warning 1: TIFFReadDirectory:Sum of Photometric type-related color channels and ExtraSamples doesn't match SamplesPerPixel. Defining non-color channels as ExtraSamples.\n",
      "Warning 1: TIFFReadDirectory:Sum of Photometric type-related color channels and ExtraSamples doesn't match SamplesPerPixel. Defining non-color channels as ExtraSamples.\n",
      "Warning 1: TIFFReadDirectory:Sum of Photometric type-related color channels and ExtraSamples doesn't match SamplesPerPixel. Defining non-color channels as ExtraSamples.\n",
      "Warning 1: TIFFReadDirectory:Sum of Photometric type-related color channels and ExtraSamples doesn't match SamplesPerPixel. Defining non-color channels as ExtraSamples.\n",
      "Warning 1: TIFFReadDirectory:Sum of Photometric type-related color channels and ExtraSamples doesn't match SamplesPerPixel. Defining non-color channels as ExtraSamples.\n",
      "Warning 1: TIFFReadDirectory:Sum of Photometric type-related color channels and ExtraSamples doesn't match SamplesPerPixel. Defining non-color channels as ExtraSamples.\n",
      "Warning 1: TIFFReadDirectory:Sum of Photometric type-related color channels and ExtraSamples doesn't match SamplesPerPixel. Defining non-color channels as ExtraSamples.\n",
      "Warning 1: TIFFReadDirectory:Sum of Photometric type-related color channels and ExtraSamples doesn't match SamplesPerPixel. Defining non-color channels as ExtraSamples.\n",
      "Warning 1: TIFFReadDirectory:Sum of Photometric type-related color channels and ExtraSamples doesn't match SamplesPerPixel. Defining non-color channels as ExtraSamples.\n",
      "Warning 1: TIFFReadDirectory:Sum of Photometric type-related color channels and ExtraSamples doesn't match SamplesPerPixel. Defining non-color channels as ExtraSamples.\n"
     ]
    }
   ],
   "source": [
    "fs=glob('/data4/Ukraine_img/M_and_L/*tif')\n",
    "for f in fs:\n",
    "    ds=gdal.Open(f)\n",
    "    # img=ds.ReadAsArray()\n",
    "    # print(img.shape)\n",
    "    print(ds.GetGeoTransform())\n",
    "trf_big=gdal.Open(fs[0]).GetGeoTransform()\n",
    "shape_big=gdal.Open(fs[0]).ReadAsArray().shape"
   ]
  },
  {
   "cell_type": "code",
   "execution_count": 64,
   "metadata": {},
   "outputs": [],
   "source": [
    "def get_mask(maskshp,geotrf,shape,p='4326'):\n",
    "    img=np.zeros((shape[0],shape[1]))\n",
    "    \n",
    "    if p=='4326':\n",
    "        sref = osr.SpatialReference()\n",
    "        sref.ImportFromEPSG(4326)\n",
    "        proj = sref.ExportToWkt()\n",
    "    else:\n",
    "        proj=p\n",
    "    \n",
    "    trf=(geotrf[0], geotrf[1], geotrf[2], geotrf[3], geotrf[4], geotrf[5])\n",
    "    drv = gdal.GetDriverByName('MEM')\n",
    "    dst = drv.Create('', shape[1], shape[0], 1, gdal.GDT_UInt16)\n",
    "\n",
    "    sp = dst.SetProjection(proj)\n",
    "    sg = dst.SetGeoTransform(trf)\n",
    "\n",
    "    wa = dst.GetRasterBand(1).WriteArray(img)\n",
    "    del wa, sg, sp\n",
    "    img_bob = GeoImg(dst)\n",
    "    mask = create_mask_from_shapefile(img_bob, maskshp)\n",
    "    return mask\n",
    "def read_img(path):\n",
    "    ds=gdal.Open(path)\n",
    "    trf=ds.GetGeoTransform()\n",
    "    img=ds.ReadAsArray()\n",
    "    return {'trf':trf,'img':img}\n",
    "def tif_save_bands(img,save_name,trf,p='4326'):\n",
    "    driver=gdal.GetDriverByName('GTiff')\n",
    "    new_img=driver.Create(save_name,img.shape[2],img.shape[1],img.shape[0],6,['COMPRESS=LZW','BIGTIFF=YES'])\n",
    "    new_img.SetGeoTransform(trf)\n",
    "    \n",
    "    if p=='4326':\n",
    "        sref = osr.SpatialReference()\n",
    "        sref.ImportFromEPSG(4326)\n",
    "        proj = sref.ExportToWkt()\n",
    "    else:\n",
    "        proj=p\n",
    "    new_img.SetProjection(proj)\n",
    "    for i in range(img.shape[0]):\n",
    "        new_img.GetRasterBand(i+1).WriteArray(img[i,:,:])\n",
    "    new_img.FlushCache()\n",
    "    del new_img\n",
    "def tif_save(img,save_name,trf,p='4326'):\n",
    "    driver=gdal.GetDriverByName('GTiff')\n",
    "    new_img=driver.Create(save_name,img.shape[1],img.shape[0],1,6,['COMPRESS=LZW','BIGTIFF=YES'])\n",
    "    new_img.SetGeoTransform(trf)\n",
    "    \n",
    "    if p=='4326':\n",
    "        sref = osr.SpatialReference()\n",
    "        sref.ImportFromEPSG(4326)\n",
    "        proj = sref.ExportToWkt()\n",
    "    else:\n",
    "        proj=p\n",
    "    new_img.SetProjection(proj)\n",
    "    new_img.GetRasterBand(1).SetNoDataValue(0)\n",
    "    new_img.GetRasterBand(1).WriteArray(img)\n",
    "    new_img.FlushCache()\n",
    "    del new_img"
   ]
  },
  {
   "cell_type": "markdown",
   "metadata": {},
   "source": [
    "# 分区mask"
   ]
  },
  {
   "cell_type": "code",
   "execution_count": 10,
   "metadata": {},
   "outputs": [
    {
     "data": {
      "image/png": "[encoded data removed]",
      "text/plain": [
       "<Figure size 432x288 with 1 Axes>"
      ]
     },
     "metadata": {
      "needs_background": "light"
     },
     "output_type": "display_data"
    },
    {
     "data": {
      "image/png": "[encoded data removed]",
      "text/plain": [
       "<Figure size 432x288 with 1 Axes>"
      ]
     },
     "metadata": {
      "needs_background": "light"
     },
     "output_type": "display_data"
    },
    {
     "data": {
      "image/png": "[encoded data removed]",
      "text/plain": [
       "<Figure size 432x288 with 1 Axes>"
      ]
     },
     "metadata": {
      "needs_background": "light"
     },
     "output_type": "display_data"
    },
    {
     "data": {
      "image/png": "[encoded data removed]",
      "text/plain": [
       "<Figure size 432x288 with 1 Axes>"
      ]
     },
     "metadata": {
      "needs_background": "light"
     },
     "output_type": "display_data"
    },
    {
     "data": {
      "image/png": "[encoded data removed]",
      "text/plain": [
       "<Figure size 432x288 with 1 Axes>"
      ]
     },
     "metadata": {
      "needs_background": "light"
     },
     "output_type": "display_data"
    }
   ],
   "source": [
    "fs10=glob('/data4/Ukraine_img/U_band2348/*reprojection.tif')\n",
    "ds=gdal.Open(fs10[0])\n",
    "    # img=ds.ReadAsArray()\n",
    "    # print(img.shape)\n",
    "trf_small=ds.GetGeoTransform()\n",
    "k=[528+529,673*2,711*2]\n",
    "k=[trf_small[0]+trf_small[1]*i for i in k]\n",
    "k=[round((i-trf_big[0])/trf_big[1]) for i in k]\n",
    "k\n",
    "mask_area1=np.zeros((shape_big[1],shape_big[2]))\n",
    "mask_area1[:,:k[0]]=1\n",
    "mask_area2=np.zeros((shape_big[1],shape_big[2]))\n",
    "mask_area2[:,k[0]:k[1]]=1\n",
    "mask_area3=np.zeros((shape_big[1],shape_big[2]))\n",
    "mask_area3[:,k[1]:k[2]]=1\n",
    "mask_area4=np.zeros((shape_big[1],shape_big[2]))\n",
    "mask_area4[:,k[2]:]=1\n",
    "masks_area=[mask_area1,mask_area2,mask_area3,mask_area4]\n",
    "\n",
    "L_mask=get_mask('/home/hk/python_script/Ukraine/data/UNOSAT/U/UNOSAT_Mariupol_Livoberezhyny_AOI_12May2022.shp',trf_big,[shape_big[1],shape_big[2]],p='4326')\n",
    "plt.imshow(L_mask)\n",
    "plt.show()\n",
    "for i in masks_area:\n",
    "    i[(i==1) & (L_mask==0)]=0\n",
    "for i in masks_area:\n",
    "    plt.imshow(i)\n",
    "    plt.show()\n",
    "# torch.save(masks_area,'/home/hk/python_script/Ukraine/data/UNOSAT/U/area_mask_big.pth')"
   ]
  },
  {
   "cell_type": "code",
   "execution_count": 12,
   "metadata": {},
   "outputs": [],
   "source": [
    "fs10=glob('/data4/Ukraine_img/M_and_L/*.tif')\n",
    "date=[os.path.basename(i)[:8] for i in fs10]\n",
    "date=list(set(date))\n",
    "date.sort()\n",
    "fs_datedict={}\n",
    "for d in date:\n",
    "    fs_datedict[d]=glob(f'/data4/Ukraine_img/M_and_L/{d}*.tif')\n",
    "labels_date={'area1':{'A':['20210910'],'A-B':['20220227','20220309'],'B':['20220314'],'B-C':['20220319','20220324','20220329','20220403','20220428','20220503','20220508'],'C':[],'C-Z':['20220523','20220528','20220602','20220607','20220612','20220617','20220622','20220627']},\n",
    "            'area2':{'A':['20210910'],'A-B':['20220227','20220309'],'B':['20220314'],'B-C':['20220319','20220324','20220329','20220403','20220428','20220503'],'C':['20220508'],'C-Z':['20220523','20220528','20220602','20220607','20220612','20220617','20220622','20220627']},\n",
    "            'area3':{'A':['20210910'],'A-B':['20220227','20220309'],'B':['20220314'],'B-Z':['20220319','20220324','20220329','20220403','20220428','20220503','20220508','20220523','20220528','20220602','20220607','20220612','20220617','20220622','20220627']},\n",
    "            'area4':{'A':['20210910'],'A-B':['20220227','20220309'],'B':['20220314'],'B-C':['20220319','20220324','20220329','20220403','20220428','20220503'],'C':[],'C-Z':['20220508','20220523','20220528','20220602','20220607','20220612','20220617','20220622','20220627']}\n",
    "                    }\n",
    "points_path={'area1':{'B':'/home/hk/python_script/Ukraine/data/UNOSAT/U/Livoberezhyny_B_2022-03-14.shp','C':'/home/hk/python_script/Ukraine/data/UNOSAT/U/Livoberezhyny_C-Area1_2022-05-12.shp'},\n",
    "            'area2':{'B':'/home/hk/python_script/Ukraine/data/UNOSAT/U/Livoberezhyny_B_2022-03-14.shp','C':'/home/hk/python_script/Ukraine/data/UNOSAT/U/Livoberezhyny_C-Area2_2022-05-08.shp'},\n",
    "            'area3':{'B':'/home/hk/python_script/Ukraine/data/UNOSAT/U/Livoberezhyny_B_2022-03-14.shp','C':None},\n",
    "            'area4':{'B':'/home/hk/python_script/Ukraine/data/UNOSAT/U/Livoberezhyny_B_2022-03-14.shp','C':'/home/hk/python_script/Ukraine/data/UNOSAT/U/Livoberezhyny_C-Area1-4_2022-05-07.shp'},\n",
    "                }"
   ]
  },
  {
   "cell_type": "code",
   "execution_count": 13,
   "metadata": {},
   "outputs": [
    {
     "data": {
      "text/plain": [
       "['/data4/Ukraine_img/M_and_L/20210910T082601_20210910T083119_T37TCN2.tif',\n",
       " '/data4/Ukraine_img/M_and_L/20220227T082911_20220227T083303_T37TCN2.tif',\n",
       " '/data4/Ukraine_img/M_and_L/20220309T082801_20220309T083304_T37TCN2.tif',\n",
       " '/data4/Ukraine_img/M_and_L/20220314T082719_20220314T083610_T37TCN2.tif',\n",
       " '/data4/Ukraine_img/M_and_L/20220319T082651_20220319T083304_T37TCN2.tif',\n",
       " '/data4/Ukraine_img/M_and_L/20220324T082609_20220324T083426_T37TCN2.tif',\n",
       " '/data4/Ukraine_img/M_and_L/20220329T082601_20220329T083216_T37TCN2.tif',\n",
       " '/data4/Ukraine_img/M_and_L/20220403T082559_20220403T083553_T37TCN2.tif',\n",
       " '/data4/Ukraine_img/M_and_L/20220428T082611_20220428T083305_T37TCN2.tif',\n",
       " '/data4/Ukraine_img/M_and_L/20220503T082559_20220503T083512_T37TCN2.tif',\n",
       " '/data4/Ukraine_img/M_and_L/20220508T082611_20220508T083304_T37TCN2.tif',\n",
       " '/data4/Ukraine_img/M_and_L/20220523T082559_20220523T082946_T37TCN2.tif',\n",
       " '/data4/Ukraine_img/M_and_L/20220528T082611_20220528T083641_T37TCN2.tif',\n",
       " '/data4/Ukraine_img/M_and_L/20220602T082559_20220602T082807_T37TCN2.tif',\n",
       " '/data4/Ukraine_img/M_and_L/20220607T082611_20220607T083435_T37TCN2.tif',\n",
       " '/data4/Ukraine_img/M_and_L/20220612T082609_20220612T082840_T37TCN2.tif',\n",
       " '/data4/Ukraine_img/M_and_L/20220617T082611_20220617T083253_T37TCN2.tif',\n",
       " '/data4/Ukraine_img/M_and_L/20220622T082609_20220622T082834_T37TCN2.tif',\n",
       " '/data4/Ukraine_img/M_and_L/20220627T082621_20220627T083534_T37TCN2.tif']"
      ]
     },
     "execution_count": 13,
     "metadata": {},
     "output_type": "execute_result"
    }
   ],
   "source": [
    "fs10=glob('/data4/Ukraine_img/M_and_L/*.tif')\n",
    "fs10=[i for i in fs10 if i[-5:]!='r.tif']\n",
    "fs10.sort()\n",
    "fs10"
   ]
  },
  {
   "cell_type": "markdown",
   "metadata": {},
   "source": [
    "# 转换图像为Patch"
   ]
  },
  {
   "cell_type": "code",
   "execution_count": 101,
   "metadata": {},
   "outputs": [
    {
     "name": "stdout",
     "output_type": "stream",
     "text": [
      "['/data4/Ukraine_img/M_and_L/20210910T082601_20210910T083119_T37TCN.tif', '/data4/Ukraine_img/M_and_L/20220227T082911_20220227T083303_T37TCN2.tif', '/data4/Ukraine_img/M_and_L/20220309T082801_20220309T083304_T37TCN2.tif', '/data4/Ukraine_img/M_and_L/20220314T082719_20220314T083610_T37TCN2.tif', '/data4/Ukraine_img/M_and_L/20220319T082651_20220319T083304_T37TCN2.tif', '/data4/Ukraine_img/M_and_L/20220324T082609_20220324T083426_T37TCN2.tif', '/data4/Ukraine_img/M_and_L/20220329T082601_20220329T083216_T37TCN2.tif', '/data4/Ukraine_img/M_and_L/20220403T082559_20220403T083553_T37TCN2.tif', '/data4/Ukraine_img/M_and_L/20220428T082611_20220428T083305_T37TCN2.tif', '/data4/Ukraine_img/M_and_L/20220503T082559_20220503T083512_T37TCN2.tif', '/data4/Ukraine_img/M_and_L/20220508T082611_20220508T083304_T37TCN2.tif', '/data4/Ukraine_img/M_and_L/20220523T082559_20220523T082946_T37TCN2.tif', '/data4/Ukraine_img/M_and_L/20220528T082611_20220528T083641_T37TCN2.tif', '/data4/Ukraine_img/M_and_L/20220602T082559_20220602T082807_T37TCN2.tif', '/data4/Ukraine_img/M_and_L/20220607T082611_20220607T083435_T37TCN2.tif', '/data4/Ukraine_img/M_and_L/20220612T082609_20220612T082840_T37TCN2.tif', '/data4/Ukraine_img/M_and_L/20220617T082611_20220617T083253_T37TCN2.tif', '/data4/Ukraine_img/M_and_L/20220622T082609_20220622T082834_T37TCN2.tif', '/data4/Ukraine_img/M_and_L/20220627T082621_20220627T083534_T37TCN2.tif']\n",
      "/data4/Ukraine_img/M_and_L/20210910T082601_20210910T083119_T37TCN.tif\n",
      "(4, 2196, 3638)\n",
      "(4, 367, 607, 6, 6)\n",
      "(37.461319399531256, 0.0005389891704717128, 0.0, 47.22214378218874, 0.0, -0.0005389891704717128)\n",
      "max: 16448\n",
      "/data4/Ukraine_img/M_and_L/20220227T082911_20220227T083303_T37TCN2.tif\n"
     ]
    },
    {
     "name": "stderr",
     "output_type": "stream",
     "text": [
      "Warning 1: TIFFReadDirectory:Sum of Photometric type-related color channels and ExtraSamples doesn't match SamplesPerPixel. Defining non-color channels as ExtraSamples.\n"
     ]
    },
    {
     "name": "stdout",
     "output_type": "stream",
     "text": [
      "(4, 2196, 3638)\n",
      "(4, 367, 607, 6, 6)\n",
      "(37.461319399531256, 0.0005389891704717128, 0.0, 47.22214378218874, 0.0, -0.0005389891704717128)\n",
      "max: 5040\n",
      "/data4/Ukraine_img/M_and_L/20220309T082801_20220309T083304_T37TCN2.tif\n"
     ]
    },
    {
     "name": "stderr",
     "output_type": "stream",
     "text": [
      "Warning 1: TIFFReadDirectory:Sum of Photometric type-related color channels and ExtraSamples doesn't match SamplesPerPixel. Defining non-color channels as ExtraSamples.\n"
     ]
    },
    {
     "name": "stdout",
     "output_type": "stream",
     "text": [
      "(4, 2196, 3638)\n",
      "(4, 367, 607, 6, 6)\n",
      "(37.461319399531256, 0.0005389891704717128, 0.0, 47.22214378218874, 0.0, -0.0005389891704717128)\n",
      "max: 4684\n",
      "/data4/Ukraine_img/M_and_L/20220314T082719_20220314T083610_T37TCN2.tif\n"
     ]
    },
    {
     "name": "stderr",
     "output_type": "stream",
     "text": [
      "Warning 1: TIFFReadDirectory:Sum of Photometric type-related color channels and ExtraSamples doesn't match SamplesPerPixel. Defining non-color channels as ExtraSamples.\n"
     ]
    },
    {
     "name": "stdout",
     "output_type": "stream",
     "text": [
      "(4, 2196, 3638)\n",
      "(4, 367, 607, 6, 6)\n",
      "(37.461319399531256, 0.0005389891704717128, 0.0, 47.22214378218874, 0.0, -0.0005389891704717128)\n",
      "max: 6756\n",
      "/data4/Ukraine_img/M_and_L/20220319T082651_20220319T083304_T37TCN2.tif\n",
      "(4, 2196, 3638)\n",
      "(4, 367, 607, 6, 6)\n",
      "(37.461319399531256, 0.0005389891704717128, 0.0, 47.22214378218874, 0.0, -0.0005389891704717128)\n",
      "max: 5748\n",
      "/data4/Ukraine_img/M_and_L/20220324T082609_20220324T083426_T37TCN2.tif\n",
      "(4, 2196, 3638)\n",
      "(4, 367, 607, 6, 6)\n",
      "(37.461319399531256, 0.0005389891704717128, 0.0, 47.22214378218874, 0.0, -0.0005389891704717128)\n",
      "max: 6780\n",
      "/data4/Ukraine_img/M_and_L/20220329T082601_20220329T083216_T37TCN2.tif\n"
     ]
    },
    {
     "name": "stderr",
     "output_type": "stream",
     "text": [
      "Warning 1: TIFFReadDirectory:Sum of Photometric type-related color channels and ExtraSamples doesn't match SamplesPerPixel. Defining non-color channels as ExtraSamples.\n"
     ]
    },
    {
     "name": "stdout",
     "output_type": "stream",
     "text": [
      "(4, 2196, 3638)\n",
      "(4, 367, 607, 6, 6)\n",
      "(37.461319399531256, 0.0005389891704717128, 0.0, 47.22214378218874, 0.0, -0.0005389891704717128)\n",
      "max: 6036\n",
      "/data4/Ukraine_img/M_and_L/20220403T082559_20220403T083553_T37TCN2.tif\n"
     ]
    },
    {
     "name": "stderr",
     "output_type": "stream",
     "text": [
      "Warning 1: TIFFReadDirectory:Sum of Photometric type-related color channels and ExtraSamples doesn't match SamplesPerPixel. Defining non-color channels as ExtraSamples.\n"
     ]
    },
    {
     "name": "stdout",
     "output_type": "stream",
     "text": [
      "(4, 2196, 3638)\n",
      "(4, 367, 607, 6, 6)\n",
      "(37.461319399531256, 0.0005389891704717128, 0.0, 47.22214378218874, 0.0, -0.0005389891704717128)\n",
      "max: 5996\n",
      "/data4/Ukraine_img/M_and_L/20220428T082611_20220428T083305_T37TCN2.tif\n"
     ]
    },
    {
     "name": "stderr",
     "output_type": "stream",
     "text": [
      "Warning 1: TIFFReadDirectory:Sum of Photometric type-related color channels and ExtraSamples doesn't match SamplesPerPixel. Defining non-color channels as ExtraSamples.\n"
     ]
    },
    {
     "name": "stdout",
     "output_type": "stream",
     "text": [
      "(4, 2196, 3638)\n",
      "(4, 367, 607, 6, 6)\n",
      "(37.461319399531256, 0.0005389891704717128, 0.0, 47.22214378218874, 0.0, -0.0005389891704717128)\n",
      "max: 6380\n",
      "/data4/Ukraine_img/M_and_L/20220503T082559_20220503T083512_T37TCN2.tif\n"
     ]
    },
    {
     "name": "stderr",
     "output_type": "stream",
     "text": [
      "Warning 1: TIFFReadDirectory:Sum of Photometric type-related color channels and ExtraSamples doesn't match SamplesPerPixel. Defining non-color channels as ExtraSamples.\n"
     ]
    },
    {
     "name": "stdout",
     "output_type": "stream",
     "text": [
      "(4, 2196, 3638)\n",
      "(4, 367, 607, 6, 6)\n",
      "(37.461319399531256, 0.0005389891704717128, 0.0, 47.22214378218874, 0.0, -0.0005389891704717128)\n",
      "max: 6292\n",
      "/data4/Ukraine_img/M_and_L/20220508T082611_20220508T083304_T37TCN2.tif\n",
      "(4, 2196, 3638)\n",
      "(4, 367, 607, 6, 6)\n",
      "(37.461319399531256, 0.0005389891704717128, 0.0, 47.22214378218874, 0.0, -0.0005389891704717128)\n",
      "max: 6224\n",
      "/data4/Ukraine_img/M_and_L/20220523T082559_20220523T082946_T37TCN2.tif\n"
     ]
    },
    {
     "name": "stderr",
     "output_type": "stream",
     "text": [
      "Warning 1: TIFFReadDirectory:Sum of Photometric type-related color channels and ExtraSamples doesn't match SamplesPerPixel. Defining non-color channels as ExtraSamples.\n"
     ]
    },
    {
     "name": "stdout",
     "output_type": "stream",
     "text": [
      "(4, 2196, 3638)\n",
      "(4, 367, 607, 6, 6)\n",
      "(37.461319399531256, 0.0005389891704717128, 0.0, 47.22214378218874, 0.0, -0.0005389891704717128)\n",
      "max: 7208\n",
      "/data4/Ukraine_img/M_and_L/20220528T082611_20220528T083641_T37TCN2.tif\n",
      "(4, 2196, 3638)\n",
      "(4, 367, 607, 6, 6)\n",
      "(37.461319399531256, 0.0005389891704717128, 0.0, 47.22214378218874, 0.0, -0.0005389891704717128)\n",
      "max: 9048\n",
      "/data4/Ukraine_img/M_and_L/20220602T082559_20220602T082807_T37TCN2.tif\n",
      "(4, 2196, 3638)\n",
      "(4, 367, 607, 6, 6)\n",
      "(37.461319399531256, 0.0005389891704717128, 0.0, 47.22214378218874, 0.0, -0.0005389891704717128)\n",
      "max: 9088\n",
      "/data4/Ukraine_img/M_and_L/20220607T082611_20220607T083435_T37TCN2.tif\n"
     ]
    },
    {
     "name": "stderr",
     "output_type": "stream",
     "text": [
      "Warning 1: TIFFReadDirectory:Sum of Photometric type-related color channels and ExtraSamples doesn't match SamplesPerPixel. Defining non-color channels as ExtraSamples.\n"
     ]
    },
    {
     "name": "stdout",
     "output_type": "stream",
     "text": [
      "(4, 2196, 3638)\n",
      "(4, 367, 607, 6, 6)\n",
      "(37.461319399531256, 0.0005389891704717128, 0.0, 47.22214378218874, 0.0, -0.0005389891704717128)\n",
      "max: 8188\n",
      "/data4/Ukraine_img/M_and_L/20220612T082609_20220612T082840_T37TCN2.tif\n"
     ]
    },
    {
     "name": "stderr",
     "output_type": "stream",
     "text": [
      "Warning 1: TIFFReadDirectory:Sum of Photometric type-related color channels and ExtraSamples doesn't match SamplesPerPixel. Defining non-color channels as ExtraSamples.\n"
     ]
    },
    {
     "name": "stdout",
     "output_type": "stream",
     "text": [
      "(4, 2196, 3638)\n",
      "(4, 367, 607, 6, 6)\n",
      "(37.461319399531256, 0.0005389891704717128, 0.0, 47.22214378218874, 0.0, -0.0005389891704717128)\n",
      "max: 11368\n",
      "/data4/Ukraine_img/M_and_L/20220617T082611_20220617T083253_T37TCN2.tif\n"
     ]
    },
    {
     "name": "stderr",
     "output_type": "stream",
     "text": [
      "Warning 1: TIFFReadDirectory:Sum of Photometric type-related color channels and ExtraSamples doesn't match SamplesPerPixel. Defining non-color channels as ExtraSamples.\n"
     ]
    },
    {
     "name": "stdout",
     "output_type": "stream",
     "text": [
      "(4, 2196, 3638)\n",
      "(4, 367, 607, 6, 6)\n",
      "(37.461319399531256, 0.0005389891704717128, 0.0, 47.22214378218874, 0.0, -0.0005389891704717128)\n",
      "max: 11536\n",
      "/data4/Ukraine_img/M_and_L/20220622T082609_20220622T082834_T37TCN2.tif\n"
     ]
    },
    {
     "name": "stderr",
     "output_type": "stream",
     "text": [
      "Warning 1: TIFFReadDirectory:Sum of Photometric type-related color channels and ExtraSamples doesn't match SamplesPerPixel. Defining non-color channels as ExtraSamples.\n"
     ]
    },
    {
     "name": "stdout",
     "output_type": "stream",
     "text": [
      "(4, 2196, 3638)\n",
      "(4, 367, 607, 6, 6)\n",
      "(37.461319399531256, 0.0005389891704717128, 0.0, 47.22214378218874, 0.0, -0.0005389891704717128)\n",
      "max: 7532\n",
      "/data4/Ukraine_img/M_and_L/20220627T082621_20220627T083534_T37TCN2.tif\n"
     ]
    },
    {
     "name": "stderr",
     "output_type": "stream",
     "text": [
      "Warning 1: TIFFReadDirectory:Sum of Photometric type-related color channels and ExtraSamples doesn't match SamplesPerPixel. Defining non-color channels as ExtraSamples.\n"
     ]
    },
    {
     "name": "stdout",
     "output_type": "stream",
     "text": [
      "(4, 2196, 3638)\n",
      "(4, 367, 607, 6, 6)\n",
      "(37.461319399531256, 0.0005389891704717128, 0.0, 47.22214378218874, 0.0, -0.0005389891704717128)\n",
      "max: 0\n",
      "/data4/Ukraine_img/M_and_L/20210910T082601_20210910T083119_T37TCN.tif\n",
      "(4, 2196, 3638)\n",
      "(4, 367, 607, 6, 6)\n",
      "(37.461319399531256, 0.0005389891704717128, 0.0, 47.22214378218874, 0.0, -0.0005389891704717128)\n",
      "max: 7264\n",
      "/data4/Ukraine_img/M_and_L/20220227T082911_20220227T083303_T37TCN2.tif\n"
     ]
    },
    {
     "name": "stderr",
     "output_type": "stream",
     "text": [
      "Warning 1: TIFFReadDirectory:Sum of Photometric type-related color channels and ExtraSamples doesn't match SamplesPerPixel. Defining non-color channels as ExtraSamples.\n"
     ]
    },
    {
     "name": "stdout",
     "output_type": "stream",
     "text": [
      "(4, 2196, 3638)\n",
      "(4, 367, 607, 6, 6)\n",
      "(37.461319399531256, 0.0005389891704717128, 0.0, 47.22214378218874, 0.0, -0.0005389891704717128)\n",
      "max: 5152\n",
      "/data4/Ukraine_img/M_and_L/20220309T082801_20220309T083304_T37TCN2.tif\n"
     ]
    },
    {
     "name": "stderr",
     "output_type": "stream",
     "text": [
      "Warning 1: TIFFReadDirectory:Sum of Photometric type-related color channels and ExtraSamples doesn't match SamplesPerPixel. Defining non-color channels as ExtraSamples.\n"
     ]
    },
    {
     "name": "stdout",
     "output_type": "stream",
     "text": [
      "(4, 2196, 3638)\n",
      "(4, 367, 607, 6, 6)\n",
      "(37.461319399531256, 0.0005389891704717128, 0.0, 47.22214378218874, 0.0, -0.0005389891704717128)\n",
      "max: 5976\n",
      "/data4/Ukraine_img/M_and_L/20220314T082719_20220314T083610_T37TCN2.tif\n"
     ]
    },
    {
     "name": "stderr",
     "output_type": "stream",
     "text": [
      "Warning 1: TIFFReadDirectory:Sum of Photometric type-related color channels and ExtraSamples doesn't match SamplesPerPixel. Defining non-color channels as ExtraSamples.\n"
     ]
    },
    {
     "name": "stdout",
     "output_type": "stream",
     "text": [
      "(4, 2196, 3638)\n",
      "(4, 367, 607, 6, 6)\n",
      "(37.461319399531256, 0.0005389891704717128, 0.0, 47.22214378218874, 0.0, -0.0005389891704717128)\n",
      "max: 6192\n",
      "/data4/Ukraine_img/M_and_L/20220319T082651_20220319T083304_T37TCN2.tif\n",
      "(4, 2196, 3638)\n",
      "(4, 367, 607, 6, 6)\n",
      "(37.461319399531256, 0.0005389891704717128, 0.0, 47.22214378218874, 0.0, -0.0005389891704717128)\n",
      "max: 6900\n",
      "/data4/Ukraine_img/M_and_L/20220324T082609_20220324T083426_T37TCN2.tif\n",
      "(4, 2196, 3638)\n",
      "(4, 367, 607, 6, 6)\n",
      "(37.461319399531256, 0.0005389891704717128, 0.0, 47.22214378218874, 0.0, -0.0005389891704717128)\n",
      "max: 5368\n",
      "/data4/Ukraine_img/M_and_L/20220329T082601_20220329T083216_T37TCN2.tif\n"
     ]
    },
    {
     "name": "stderr",
     "output_type": "stream",
     "text": [
      "Warning 1: TIFFReadDirectory:Sum of Photometric type-related color channels and ExtraSamples doesn't match SamplesPerPixel. Defining non-color channels as ExtraSamples.\n"
     ]
    },
    {
     "name": "stdout",
     "output_type": "stream",
     "text": [
      "(4, 2196, 3638)\n",
      "(4, 367, 607, 6, 6)\n",
      "(37.461319399531256, 0.0005389891704717128, 0.0, 47.22214378218874, 0.0, -0.0005389891704717128)\n",
      "max: 6560\n",
      "/data4/Ukraine_img/M_and_L/20220403T082559_20220403T083553_T37TCN2.tif\n"
     ]
    },
    {
     "name": "stderr",
     "output_type": "stream",
     "text": [
      "Warning 1: TIFFReadDirectory:Sum of Photometric type-related color channels and ExtraSamples doesn't match SamplesPerPixel. Defining non-color channels as ExtraSamples.\n"
     ]
    },
    {
     "name": "stdout",
     "output_type": "stream",
     "text": [
      "(4, 2196, 3638)\n",
      "(4, 367, 607, 6, 6)\n",
      "(37.461319399531256, 0.0005389891704717128, 0.0, 47.22214378218874, 0.0, -0.0005389891704717128)\n",
      "max: 0\n",
      "/data4/Ukraine_img/M_and_L/20220428T082611_20220428T083305_T37TCN2.tif\n"
     ]
    },
    {
     "name": "stderr",
     "output_type": "stream",
     "text": [
      "Warning 1: TIFFReadDirectory:Sum of Photometric type-related color channels and ExtraSamples doesn't match SamplesPerPixel. Defining non-color channels as ExtraSamples.\n"
     ]
    },
    {
     "name": "stdout",
     "output_type": "stream",
     "text": [
      "(4, 2196, 3638)\n",
      "(4, 367, 607, 6, 6)\n",
      "(37.461319399531256, 0.0005389891704717128, 0.0, 47.22214378218874, 0.0, -0.0005389891704717128)\n",
      "max: 6516\n",
      "/data4/Ukraine_img/M_and_L/20220503T082559_20220503T083512_T37TCN2.tif\n"
     ]
    },
    {
     "name": "stderr",
     "output_type": "stream",
     "text": [
      "Warning 1: TIFFReadDirectory:Sum of Photometric type-related color channels and ExtraSamples doesn't match SamplesPerPixel. Defining non-color channels as ExtraSamples.\n"
     ]
    },
    {
     "name": "stdout",
     "output_type": "stream",
     "text": [
      "(4, 2196, 3638)\n",
      "(4, 367, 607, 6, 6)\n",
      "(37.461319399531256, 0.0005389891704717128, 0.0, 47.22214378218874, 0.0, -0.0005389891704717128)\n",
      "max: 6472\n",
      "/data4/Ukraine_img/M_and_L/20220508T082611_20220508T083304_T37TCN2.tif\n",
      "(4, 2196, 3638)\n",
      "(4, 367, 607, 6, 6)\n",
      "(37.461319399531256, 0.0005389891704717128, 0.0, 47.22214378218874, 0.0, -0.0005389891704717128)\n",
      "max: 6376\n",
      "/data4/Ukraine_img/M_and_L/20220523T082559_20220523T082946_T37TCN2.tif\n"
     ]
    },
    {
     "name": "stderr",
     "output_type": "stream",
     "text": [
      "Warning 1: TIFFReadDirectory:Sum of Photometric type-related color channels and ExtraSamples doesn't match SamplesPerPixel. Defining non-color channels as ExtraSamples.\n"
     ]
    },
    {
     "name": "stdout",
     "output_type": "stream",
     "text": [
      "(4, 2196, 3638)\n",
      "(4, 367, 607, 6, 6)\n",
      "(37.461319399531256, 0.0005389891704717128, 0.0, 47.22214378218874, 0.0, -0.0005389891704717128)\n",
      "max: 7832\n",
      "/data4/Ukraine_img/M_and_L/20220528T082611_20220528T083641_T37TCN2.tif\n",
      "(4, 2196, 3638)\n",
      "(4, 367, 607, 6, 6)\n",
      "(37.461319399531256, 0.0005389891704717128, 0.0, 47.22214378218874, 0.0, -0.0005389891704717128)\n",
      "max: 7836\n",
      "/data4/Ukraine_img/M_and_L/20220602T082559_20220602T082807_T37TCN2.tif\n",
      "(4, 2196, 3638)\n",
      "(4, 367, 607, 6, 6)\n",
      "(37.461319399531256, 0.0005389891704717128, 0.0, 47.22214378218874, 0.0, -0.0005389891704717128)\n",
      "max: 7484\n",
      "/data4/Ukraine_img/M_and_L/20220607T082611_20220607T083435_T37TCN2.tif\n"
     ]
    },
    {
     "name": "stderr",
     "output_type": "stream",
     "text": [
      "Warning 1: TIFFReadDirectory:Sum of Photometric type-related color channels and ExtraSamples doesn't match SamplesPerPixel. Defining non-color channels as ExtraSamples.\n"
     ]
    },
    {
     "name": "stdout",
     "output_type": "stream",
     "text": [
      "(4, 2196, 3638)\n",
      "(4, 367, 607, 6, 6)\n",
      "(37.461319399531256, 0.0005389891704717128, 0.0, 47.22214378218874, 0.0, -0.0005389891704717128)\n",
      "max: 7740\n",
      "/data4/Ukraine_img/M_and_L/20220612T082609_20220612T082840_T37TCN2.tif\n"
     ]
    },
    {
     "name": "stderr",
     "output_type": "stream",
     "text": [
      "Warning 1: TIFFReadDirectory:Sum of Photometric type-related color channels and ExtraSamples doesn't match SamplesPerPixel. Defining non-color channels as ExtraSamples.\n"
     ]
    },
    {
     "name": "stdout",
     "output_type": "stream",
     "text": [
      "(4, 2196, 3638)\n",
      "(4, 367, 607, 6, 6)\n",
      "(37.461319399531256, 0.0005389891704717128, 0.0, 47.22214378218874, 0.0, -0.0005389891704717128)\n",
      "max: 8392\n",
      "/data4/Ukraine_img/M_and_L/20220617T082611_20220617T083253_T37TCN2.tif\n"
     ]
    },
    {
     "name": "stderr",
     "output_type": "stream",
     "text": [
      "Warning 1: TIFFReadDirectory:Sum of Photometric type-related color channels and ExtraSamples doesn't match SamplesPerPixel. Defining non-color channels as ExtraSamples.\n"
     ]
    },
    {
     "name": "stdout",
     "output_type": "stream",
     "text": [
      "(4, 2196, 3638)\n",
      "(4, 367, 607, 6, 6)\n",
      "(37.461319399531256, 0.0005389891704717128, 0.0, 47.22214378218874, 0.0, -0.0005389891704717128)\n",
      "max: 9592\n",
      "/data4/Ukraine_img/M_and_L/20220622T082609_20220622T082834_T37TCN2.tif\n"
     ]
    },
    {
     "name": "stderr",
     "output_type": "stream",
     "text": [
      "Warning 1: TIFFReadDirectory:Sum of Photometric type-related color channels and ExtraSamples doesn't match SamplesPerPixel. Defining non-color channels as ExtraSamples.\n"
     ]
    },
    {
     "name": "stdout",
     "output_type": "stream",
     "text": [
      "(4, 2196, 3638)\n",
      "(4, 367, 607, 6, 6)\n",
      "(37.461319399531256, 0.0005389891704717128, 0.0, 47.22214378218874, 0.0, -0.0005389891704717128)\n",
      "max: 0\n",
      "/data4/Ukraine_img/M_and_L/20220627T082621_20220627T083534_T37TCN2.tif\n"
     ]
    },
    {
     "name": "stderr",
     "output_type": "stream",
     "text": [
      "Warning 1: TIFFReadDirectory:Sum of Photometric type-related color channels and ExtraSamples doesn't match SamplesPerPixel. Defining non-color channels as ExtraSamples.\n"
     ]
    },
    {
     "name": "stdout",
     "output_type": "stream",
     "text": [
      "(4, 2196, 3638)\n",
      "(4, 367, 607, 6, 6)\n",
      "(37.461319399531256, 0.0005389891704717128, 0.0, 47.22214378218874, 0.0, -0.0005389891704717128)\n",
      "max: 0\n",
      "/data4/Ukraine_img/M_and_L/20210910T082601_20210910T083119_T37TCN.tif\n",
      "(4, 2196, 3638)\n",
      "(4, 367, 607, 6, 6)\n",
      "(37.461319399531256, 0.0005389891704717128, 0.0, 47.22214378218874, 0.0, -0.0005389891704717128)\n",
      "max: 4476\n",
      "/data4/Ukraine_img/M_and_L/20220227T082911_20220227T083303_T37TCN2.tif\n"
     ]
    },
    {
     "name": "stderr",
     "output_type": "stream",
     "text": [
      "Warning 1: TIFFReadDirectory:Sum of Photometric type-related color channels and ExtraSamples doesn't match SamplesPerPixel. Defining non-color channels as ExtraSamples.\n"
     ]
    },
    {
     "name": "stdout",
     "output_type": "stream",
     "text": [
      "(4, 2196, 3638)\n",
      "(4, 367, 607, 6, 6)\n",
      "(37.461319399531256, 0.0005389891704717128, 0.0, 47.22214378218874, 0.0, -0.0005389891704717128)\n",
      "max: 4660\n",
      "/data4/Ukraine_img/M_and_L/20220309T082801_20220309T083304_T37TCN2.tif\n"
     ]
    },
    {
     "name": "stderr",
     "output_type": "stream",
     "text": [
      "Warning 1: TIFFReadDirectory:Sum of Photometric type-related color channels and ExtraSamples doesn't match SamplesPerPixel. Defining non-color channels as ExtraSamples.\n"
     ]
    },
    {
     "name": "stdout",
     "output_type": "stream",
     "text": [
      "(4, 2196, 3638)\n",
      "(4, 367, 607, 6, 6)\n",
      "(37.461319399531256, 0.0005389891704717128, 0.0, 47.22214378218874, 0.0, -0.0005389891704717128)\n",
      "max: 4264\n",
      "/data4/Ukraine_img/M_and_L/20220314T082719_20220314T083610_T37TCN2.tif\n"
     ]
    },
    {
     "name": "stderr",
     "output_type": "stream",
     "text": [
      "Warning 1: TIFFReadDirectory:Sum of Photometric type-related color channels and ExtraSamples doesn't match SamplesPerPixel. Defining non-color channels as ExtraSamples.\n"
     ]
    },
    {
     "name": "stdout",
     "output_type": "stream",
     "text": [
      "(4, 2196, 3638)\n",
      "(4, 367, 607, 6, 6)\n",
      "(37.461319399531256, 0.0005389891704717128, 0.0, 47.22214378218874, 0.0, -0.0005389891704717128)\n",
      "max: 6412\n",
      "/data4/Ukraine_img/M_and_L/20220319T082651_20220319T083304_T37TCN2.tif\n",
      "(4, 2196, 3638)\n",
      "(4, 367, 607, 6, 6)\n",
      "(37.461319399531256, 0.0005389891704717128, 0.0, 47.22214378218874, 0.0, -0.0005389891704717128)\n",
      "max: 4852\n",
      "/data4/Ukraine_img/M_and_L/20220324T082609_20220324T083426_T37TCN2.tif\n",
      "(4, 2196, 3638)\n",
      "(4, 367, 607, 6, 6)\n",
      "(37.461319399531256, 0.0005389891704717128, 0.0, 47.22214378218874, 0.0, -0.0005389891704717128)\n",
      "max: 4452\n",
      "/data4/Ukraine_img/M_and_L/20220329T082601_20220329T083216_T37TCN2.tif\n"
     ]
    },
    {
     "name": "stderr",
     "output_type": "stream",
     "text": [
      "Warning 1: TIFFReadDirectory:Sum of Photometric type-related color channels and ExtraSamples doesn't match SamplesPerPixel. Defining non-color channels as ExtraSamples.\n"
     ]
    },
    {
     "name": "stdout",
     "output_type": "stream",
     "text": [
      "(4, 2196, 3638)\n",
      "(4, 367, 607, 6, 6)\n",
      "(37.461319399531256, 0.0005389891704717128, 0.0, 47.22214378218874, 0.0, -0.0005389891704717128)\n",
      "max: 4796\n",
      "/data4/Ukraine_img/M_and_L/20220403T082559_20220403T083553_T37TCN2.tif\n"
     ]
    },
    {
     "name": "stderr",
     "output_type": "stream",
     "text": [
      "Warning 1: TIFFReadDirectory:Sum of Photometric type-related color channels and ExtraSamples doesn't match SamplesPerPixel. Defining non-color channels as ExtraSamples.\n"
     ]
    },
    {
     "name": "stdout",
     "output_type": "stream",
     "text": [
      "(4, 2196, 3638)\n",
      "(4, 367, 607, 6, 6)\n",
      "(37.461319399531256, 0.0005389891704717128, 0.0, 47.22214378218874, 0.0, -0.0005389891704717128)\n",
      "max: 0\n",
      "/data4/Ukraine_img/M_and_L/20220428T082611_20220428T083305_T37TCN2.tif\n"
     ]
    },
    {
     "name": "stderr",
     "output_type": "stream",
     "text": [
      "Warning 1: TIFFReadDirectory:Sum of Photometric type-related color channels and ExtraSamples doesn't match SamplesPerPixel. Defining non-color channels as ExtraSamples.\n"
     ]
    },
    {
     "name": "stdout",
     "output_type": "stream",
     "text": [
      "(4, 2196, 3638)\n",
      "(4, 367, 607, 6, 6)\n",
      "(37.461319399531256, 0.0005389891704717128, 0.0, 47.22214378218874, 0.0, -0.0005389891704717128)\n",
      "max: 6636\n",
      "/data4/Ukraine_img/M_and_L/20220503T082559_20220503T083512_T37TCN2.tif\n"
     ]
    },
    {
     "name": "stderr",
     "output_type": "stream",
     "text": [
      "Warning 1: TIFFReadDirectory:Sum of Photometric type-related color channels and ExtraSamples doesn't match SamplesPerPixel. Defining non-color channels as ExtraSamples.\n"
     ]
    },
    {
     "name": "stdout",
     "output_type": "stream",
     "text": [
      "(4, 2196, 3638)\n",
      "(4, 367, 607, 6, 6)\n",
      "(37.461319399531256, 0.0005389891704717128, 0.0, 47.22214378218874, 0.0, -0.0005389891704717128)\n",
      "max: 5940\n",
      "/data4/Ukraine_img/M_and_L/20220508T082611_20220508T083304_T37TCN2.tif\n",
      "(4, 2196, 3638)\n",
      "(4, 367, 607, 6, 6)\n",
      "(37.461319399531256, 0.0005389891704717128, 0.0, 47.22214378218874, 0.0, -0.0005389891704717128)\n",
      "max: 6972\n",
      "/data4/Ukraine_img/M_and_L/20220523T082559_20220523T082946_T37TCN2.tif\n"
     ]
    },
    {
     "name": "stderr",
     "output_type": "stream",
     "text": [
      "Warning 1: TIFFReadDirectory:Sum of Photometric type-related color channels and ExtraSamples doesn't match SamplesPerPixel. Defining non-color channels as ExtraSamples.\n"
     ]
    },
    {
     "name": "stdout",
     "output_type": "stream",
     "text": [
      "(4, 2196, 3638)\n",
      "(4, 367, 607, 6, 6)\n",
      "(37.461319399531256, 0.0005389891704717128, 0.0, 47.22214378218874, 0.0, -0.0005389891704717128)\n",
      "max: 7584\n",
      "/data4/Ukraine_img/M_and_L/20220528T082611_20220528T083641_T37TCN2.tif\n",
      "(4, 2196, 3638)\n",
      "(4, 367, 607, 6, 6)\n",
      "(37.461319399531256, 0.0005389891704717128, 0.0, 47.22214378218874, 0.0, -0.0005389891704717128)\n",
      "max: 6716\n",
      "/data4/Ukraine_img/M_and_L/20220602T082559_20220602T082807_T37TCN2.tif\n",
      "(4, 2196, 3638)\n",
      "(4, 367, 607, 6, 6)\n",
      "(37.461319399531256, 0.0005389891704717128, 0.0, 47.22214378218874, 0.0, -0.0005389891704717128)\n",
      "max: 6504\n",
      "/data4/Ukraine_img/M_and_L/20220607T082611_20220607T083435_T37TCN2.tif\n"
     ]
    },
    {
     "name": "stderr",
     "output_type": "stream",
     "text": [
      "Warning 1: TIFFReadDirectory:Sum of Photometric type-related color channels and ExtraSamples doesn't match SamplesPerPixel. Defining non-color channels as ExtraSamples.\n"
     ]
    },
    {
     "name": "stdout",
     "output_type": "stream",
     "text": [
      "(4, 2196, 3638)\n",
      "(4, 367, 607, 6, 6)\n",
      "(37.461319399531256, 0.0005389891704717128, 0.0, 47.22214378218874, 0.0, -0.0005389891704717128)\n",
      "max: 9288\n",
      "/data4/Ukraine_img/M_and_L/20220612T082609_20220612T082840_T37TCN2.tif\n"
     ]
    },
    {
     "name": "stderr",
     "output_type": "stream",
     "text": [
      "Warning 1: TIFFReadDirectory:Sum of Photometric type-related color channels and ExtraSamples doesn't match SamplesPerPixel. Defining non-color channels as ExtraSamples.\n"
     ]
    },
    {
     "name": "stdout",
     "output_type": "stream",
     "text": [
      "(4, 2196, 3638)\n",
      "(4, 367, 607, 6, 6)\n",
      "(37.461319399531256, 0.0005389891704717128, 0.0, 47.22214378218874, 0.0, -0.0005389891704717128)\n",
      "max: 6664\n",
      "/data4/Ukraine_img/M_and_L/20220617T082611_20220617T083253_T37TCN2.tif\n"
     ]
    },
    {
     "name": "stderr",
     "output_type": "stream",
     "text": [
      "Warning 1: TIFFReadDirectory:Sum of Photometric type-related color channels and ExtraSamples doesn't match SamplesPerPixel. Defining non-color channels as ExtraSamples.\n"
     ]
    },
    {
     "name": "stdout",
     "output_type": "stream",
     "text": [
      "(4, 2196, 3638)\n",
      "(4, 367, 607, 6, 6)\n",
      "(37.461319399531256, 0.0005389891704717128, 0.0, 47.22214378218874, 0.0, -0.0005389891704717128)\n",
      "max: 6796\n",
      "/data4/Ukraine_img/M_and_L/20220622T082609_20220622T082834_T37TCN2.tif\n"
     ]
    },
    {
     "name": "stderr",
     "output_type": "stream",
     "text": [
      "Warning 1: TIFFReadDirectory:Sum of Photometric type-related color channels and ExtraSamples doesn't match SamplesPerPixel. Defining non-color channels as ExtraSamples.\n"
     ]
    },
    {
     "name": "stdout",
     "output_type": "stream",
     "text": [
      "(4, 2196, 3638)\n",
      "(4, 367, 607, 6, 6)\n",
      "(37.461319399531256, 0.0005389891704717128, 0.0, 47.22214378218874, 0.0, -0.0005389891704717128)\n",
      "max: 0\n",
      "/data4/Ukraine_img/M_and_L/20220627T082621_20220627T083534_T37TCN2.tif\n"
     ]
    },
    {
     "name": "stderr",
     "output_type": "stream",
     "text": [
      "Warning 1: TIFFReadDirectory:Sum of Photometric type-related color channels and ExtraSamples doesn't match SamplesPerPixel. Defining non-color channels as ExtraSamples.\n"
     ]
    },
    {
     "name": "stdout",
     "output_type": "stream",
     "text": [
      "(4, 2196, 3638)\n",
      "(4, 367, 607, 6, 6)\n",
      "(37.461319399531256, 0.0005389891704717128, 0.0, 47.22214378218874, 0.0, -0.0005389891704717128)\n",
      "max: 0\n",
      "/data4/Ukraine_img/M_and_L/20210910T082601_20210910T083119_T37TCN.tif\n",
      "(4, 2196, 3638)\n",
      "(4, 367, 607, 6, 6)\n",
      "(37.461319399531256, 0.0005389891704717128, 0.0, 47.22214378218874, 0.0, -0.0005389891704717128)\n",
      "max: 6084\n",
      "/data4/Ukraine_img/M_and_L/20220227T082911_20220227T083303_T37TCN2.tif\n"
     ]
    },
    {
     "name": "stderr",
     "output_type": "stream",
     "text": [
      "Warning 1: TIFFReadDirectory:Sum of Photometric type-related color channels and ExtraSamples doesn't match SamplesPerPixel. Defining non-color channels as ExtraSamples.\n"
     ]
    },
    {
     "name": "stdout",
     "output_type": "stream",
     "text": [
      "(4, 2196, 3638)\n",
      "(4, 367, 607, 6, 6)\n",
      "(37.461319399531256, 0.0005389891704717128, 0.0, 47.22214378218874, 0.0, -0.0005389891704717128)\n",
      "max: 4000\n",
      "/data4/Ukraine_img/M_and_L/20220309T082801_20220309T083304_T37TCN2.tif\n"
     ]
    },
    {
     "name": "stderr",
     "output_type": "stream",
     "text": [
      "Warning 1: TIFFReadDirectory:Sum of Photometric type-related color channels and ExtraSamples doesn't match SamplesPerPixel. Defining non-color channels as ExtraSamples.\n"
     ]
    },
    {
     "name": "stdout",
     "output_type": "stream",
     "text": [
      "(4, 2196, 3638)\n",
      "(4, 367, 607, 6, 6)\n",
      "(37.461319399531256, 0.0005389891704717128, 0.0, 47.22214378218874, 0.0, -0.0005389891704717128)\n",
      "max: 6112\n",
      "/data4/Ukraine_img/M_and_L/20220314T082719_20220314T083610_T37TCN2.tif\n"
     ]
    },
    {
     "name": "stderr",
     "output_type": "stream",
     "text": [
      "Warning 1: TIFFReadDirectory:Sum of Photometric type-related color channels and ExtraSamples doesn't match SamplesPerPixel. Defining non-color channels as ExtraSamples.\n"
     ]
    },
    {
     "name": "stdout",
     "output_type": "stream",
     "text": [
      "(4, 2196, 3638)\n",
      "(4, 367, 607, 6, 6)\n",
      "(37.461319399531256, 0.0005389891704717128, 0.0, 47.22214378218874, 0.0, -0.0005389891704717128)\n",
      "max: 6820\n",
      "/data4/Ukraine_img/M_and_L/20220319T082651_20220319T083304_T37TCN2.tif\n",
      "(4, 2196, 3638)\n",
      "(4, 367, 607, 6, 6)\n",
      "(37.461319399531256, 0.0005389891704717128, 0.0, 47.22214378218874, 0.0, -0.0005389891704717128)\n",
      "max: 17840\n",
      "/data4/Ukraine_img/M_and_L/20220324T082609_20220324T083426_T37TCN2.tif\n",
      "(4, 2196, 3638)\n",
      "(4, 367, 607, 6, 6)\n",
      "(37.461319399531256, 0.0005389891704717128, 0.0, 47.22214378218874, 0.0, -0.0005389891704717128)\n",
      "max: 4124\n",
      "/data4/Ukraine_img/M_and_L/20220329T082601_20220329T083216_T37TCN2.tif\n"
     ]
    },
    {
     "name": "stderr",
     "output_type": "stream",
     "text": [
      "Warning 1: TIFFReadDirectory:Sum of Photometric type-related color channels and ExtraSamples doesn't match SamplesPerPixel. Defining non-color channels as ExtraSamples.\n"
     ]
    },
    {
     "name": "stdout",
     "output_type": "stream",
     "text": [
      "(4, 2196, 3638)\n",
      "(4, 367, 607, 6, 6)\n",
      "(37.461319399531256, 0.0005389891704717128, 0.0, 47.22214378218874, 0.0, -0.0005389891704717128)\n",
      "max: 6380\n",
      "/data4/Ukraine_img/M_and_L/20220403T082559_20220403T083553_T37TCN2.tif\n"
     ]
    },
    {
     "name": "stderr",
     "output_type": "stream",
     "text": [
      "Warning 1: TIFFReadDirectory:Sum of Photometric type-related color channels and ExtraSamples doesn't match SamplesPerPixel. Defining non-color channels as ExtraSamples.\n"
     ]
    },
    {
     "name": "stdout",
     "output_type": "stream",
     "text": [
      "(4, 2196, 3638)\n",
      "(4, 367, 607, 6, 6)\n",
      "(37.461319399531256, 0.0005389891704717128, 0.0, 47.22214378218874, 0.0, -0.0005389891704717128)\n",
      "max: 0\n",
      "/data4/Ukraine_img/M_and_L/20220428T082611_20220428T083305_T37TCN2.tif\n"
     ]
    },
    {
     "name": "stderr",
     "output_type": "stream",
     "text": [
      "Warning 1: TIFFReadDirectory:Sum of Photometric type-related color channels and ExtraSamples doesn't match SamplesPerPixel. Defining non-color channels as ExtraSamples.\n"
     ]
    },
    {
     "name": "stdout",
     "output_type": "stream",
     "text": [
      "(4, 2196, 3638)\n",
      "(4, 367, 607, 6, 6)\n",
      "(37.461319399531256, 0.0005389891704717128, 0.0, 47.22214378218874, 0.0, -0.0005389891704717128)\n",
      "max: 5960\n",
      "/data4/Ukraine_img/M_and_L/20220503T082559_20220503T083512_T37TCN2.tif\n"
     ]
    },
    {
     "name": "stderr",
     "output_type": "stream",
     "text": [
      "Warning 1: TIFFReadDirectory:Sum of Photometric type-related color channels and ExtraSamples doesn't match SamplesPerPixel. Defining non-color channels as ExtraSamples.\n"
     ]
    },
    {
     "name": "stdout",
     "output_type": "stream",
     "text": [
      "(4, 2196, 3638)\n",
      "(4, 367, 607, 6, 6)\n",
      "(37.461319399531256, 0.0005389891704717128, 0.0, 47.22214378218874, 0.0, -0.0005389891704717128)\n",
      "max: 14152\n",
      "/data4/Ukraine_img/M_and_L/20220508T082611_20220508T083304_T37TCN2.tif\n",
      "(4, 2196, 3638)\n",
      "(4, 367, 607, 6, 6)\n",
      "(37.461319399531256, 0.0005389891704717128, 0.0, 47.22214378218874, 0.0, -0.0005389891704717128)\n",
      "max: 10440\n",
      "/data4/Ukraine_img/M_and_L/20220523T082559_20220523T082946_T37TCN2.tif\n"
     ]
    },
    {
     "name": "stderr",
     "output_type": "stream",
     "text": [
      "Warning 1: TIFFReadDirectory:Sum of Photometric type-related color channels and ExtraSamples doesn't match SamplesPerPixel. Defining non-color channels as ExtraSamples.\n"
     ]
    },
    {
     "name": "stdout",
     "output_type": "stream",
     "text": [
      "(4, 2196, 3638)\n",
      "(4, 367, 607, 6, 6)\n",
      "(37.461319399531256, 0.0005389891704717128, 0.0, 47.22214378218874, 0.0, -0.0005389891704717128)\n",
      "max: 7520\n",
      "/data4/Ukraine_img/M_and_L/20220528T082611_20220528T083641_T37TCN2.tif\n",
      "(4, 2196, 3638)\n",
      "(4, 367, 607, 6, 6)\n",
      "(37.461319399531256, 0.0005389891704717128, 0.0, 47.22214378218874, 0.0, -0.0005389891704717128)\n",
      "max: 6664\n",
      "/data4/Ukraine_img/M_and_L/20220602T082559_20220602T082807_T37TCN2.tif\n",
      "(4, 2196, 3638)\n",
      "(4, 367, 607, 6, 6)\n",
      "(37.461319399531256, 0.0005389891704717128, 0.0, 47.22214378218874, 0.0, -0.0005389891704717128)\n",
      "max: 10432\n",
      "/data4/Ukraine_img/M_and_L/20220607T082611_20220607T083435_T37TCN2.tif\n"
     ]
    },
    {
     "name": "stderr",
     "output_type": "stream",
     "text": [
      "Warning 1: TIFFReadDirectory:Sum of Photometric type-related color channels and ExtraSamples doesn't match SamplesPerPixel. Defining non-color channels as ExtraSamples.\n"
     ]
    },
    {
     "name": "stdout",
     "output_type": "stream",
     "text": [
      "(4, 2196, 3638)\n",
      "(4, 367, 607, 6, 6)\n",
      "(37.461319399531256, 0.0005389891704717128, 0.0, 47.22214378218874, 0.0, -0.0005389891704717128)\n",
      "max: 6900\n",
      "/data4/Ukraine_img/M_and_L/20220612T082609_20220612T082840_T37TCN2.tif\n"
     ]
    },
    {
     "name": "stderr",
     "output_type": "stream",
     "text": [
      "Warning 1: TIFFReadDirectory:Sum of Photometric type-related color channels and ExtraSamples doesn't match SamplesPerPixel. Defining non-color channels as ExtraSamples.\n"
     ]
    },
    {
     "name": "stdout",
     "output_type": "stream",
     "text": [
      "(4, 2196, 3638)\n",
      "(4, 367, 607, 6, 6)\n",
      "(37.461319399531256, 0.0005389891704717128, 0.0, 47.22214378218874, 0.0, -0.0005389891704717128)\n",
      "max: 6948\n",
      "/data4/Ukraine_img/M_and_L/20220617T082611_20220617T083253_T37TCN2.tif\n"
     ]
    },
    {
     "name": "stderr",
     "output_type": "stream",
     "text": [
      "Warning 1: TIFFReadDirectory:Sum of Photometric type-related color channels and ExtraSamples doesn't match SamplesPerPixel. Defining non-color channels as ExtraSamples.\n"
     ]
    },
    {
     "name": "stdout",
     "output_type": "stream",
     "text": [
      "(4, 2196, 3638)\n",
      "(4, 367, 607, 6, 6)\n",
      "(37.461319399531256, 0.0005389891704717128, 0.0, 47.22214378218874, 0.0, -0.0005389891704717128)\n",
      "max: 7724\n",
      "/data4/Ukraine_img/M_and_L/20220622T082609_20220622T082834_T37TCN2.tif\n"
     ]
    },
    {
     "name": "stderr",
     "output_type": "stream",
     "text": [
      "Warning 1: TIFFReadDirectory:Sum of Photometric type-related color channels and ExtraSamples doesn't match SamplesPerPixel. Defining non-color channels as ExtraSamples.\n"
     ]
    },
    {
     "name": "stdout",
     "output_type": "stream",
     "text": [
      "(4, 2196, 3638)\n",
      "(4, 367, 607, 6, 6)\n",
      "(37.461319399531256, 0.0005389891704717128, 0.0, 47.22214378218874, 0.0, -0.0005389891704717128)\n",
      "max: 0\n",
      "/data4/Ukraine_img/M_and_L/20220627T082621_20220627T083534_T37TCN2.tif\n"
     ]
    },
    {
     "name": "stderr",
     "output_type": "stream",
     "text": [
      "Warning 1: TIFFReadDirectory:Sum of Photometric type-related color channels and ExtraSamples doesn't match SamplesPerPixel. Defining non-color channels as ExtraSamples.\n"
     ]
    },
    {
     "name": "stdout",
     "output_type": "stream",
     "text": [
      "(4, 2196, 3638)\n",
      "(4, 367, 607, 6, 6)\n",
      "(37.461319399531256, 0.0005389891704717128, 0.0, 47.22214378218874, 0.0, -0.0005389891704717128)\n",
      "max: 0\n"
     ]
    }
   ],
   "source": [
    "def read_img(path):\n",
    "    ds=gdal.Open(path)\n",
    "    trf=ds.GetGeoTransform()\n",
    "    img=ds.ReadAsArray()\n",
    "    return {'trf':trf,'img':img}\n",
    "def get_patch(data,size):\n",
    "    img=data['img']\n",
    "    trf=data['trf']\n",
    "    shape=img.shape\n",
    "    img=np.pad(img,((0,0),(0,size-shape[1]%size),(0,size-shape[2]%size)),'constant',constant_values=0)\n",
    "    shape=img.shape\n",
    "    img=img.reshape([shape[0],int(shape[1]/size),-1,shape[2]])\n",
    "    shape=img.shape\n",
    "    img=img.reshape([shape[0],shape[1],shape[2],int(shape[3]/size),-1])\n",
    "    return {'img':img.transpose((0,1,3,2,4)),'trf':(trf[0]-trf[1]/2,trf[1]*size,trf[2],trf[3]-trf[5]/2,trf[4],trf[5]*size)}\n",
    "\n",
    "size=6\n",
    "img_pathes=fs10\n",
    "# img_pathes=['/data2/Syria_img/Raqqa_enhance-A-B-4_20130213_treated.tif']\n",
    "print(img_pathes)\n",
    "for mask_id in [0,1,2,3]:\n",
    "    mask=masks_area[mask_id]\n",
    "    for path in img_pathes:\n",
    "        # try:    \n",
    "\n",
    "\n",
    "    \n",
    "        print(path)\n",
    "        data=read_img(path)\n",
    "        data['img']=data['img'][:4]\n",
    "        ddata=read_img(path.replace('.tif','_bandother.tif'))\n",
    "        for i in range(4):\n",
    "            data['img'][i,:,:][mask==0]=0\n",
    "        print(data['img'].shape)\n",
    "        data2=get_patch(data,6)\n",
    "        ddata2=get_patch(ddata,3)\n",
    "        print(data2['img'].shape)\n",
    "        print(data2['trf'])\n",
    "        d=data2['img'].astype(np.int16)\n",
    "        dd=ddata2['img'].astype(np.int16)\n",
    "        info={'readme':'trf分别为patch左上角坐标(不是左上角像元的中心坐标)和patch的长度',\n",
    "        'trf':data2['trf'],'shape':[data['img'].shape,d.shape],'img10':d,'img20':dd}\n",
    "\n",
    "        # np.save(path.replace('.tif',f'_size_{size}.npy'),d)\n",
    "        print('max:',d.max())\n",
    "        torch.save(info,path.replace('.tif',f'_size_{size}_area{mask_id+1}_info.pth'))\n",
    "        del data,data2,d\n",
    "        gc.collect()\n",
    "        # except:\n",
    "        #         print('ERROR',path)"
   ]
  },
  {
   "cell_type": "code",
   "execution_count": 100,
   "metadata": {},
   "outputs": [
    {
     "name": "stdout",
     "output_type": "stream",
     "text": [
      "['/data4/Ukraine_img/M_and_L/20210910T082601_20210910T083119_T37TCN.tif', '/data4/Ukraine_img/M_and_L/20220227T082911_20220227T083303_T37TCN2.tif', '/data4/Ukraine_img/M_and_L/20220309T082801_20220309T083304_T37TCN2.tif', '/data4/Ukraine_img/M_and_L/20220314T082719_20220314T083610_T37TCN2.tif', '/data4/Ukraine_img/M_and_L/20220319T082651_20220319T083304_T37TCN2.tif', '/data4/Ukraine_img/M_and_L/20220324T082609_20220324T083426_T37TCN2.tif', '/data4/Ukraine_img/M_and_L/20220329T082601_20220329T083216_T37TCN2.tif', '/data4/Ukraine_img/M_and_L/20220403T082559_20220403T083553_T37TCN2.tif', '/data4/Ukraine_img/M_and_L/20220428T082611_20220428T083305_T37TCN2.tif', '/data4/Ukraine_img/M_and_L/20220503T082559_20220503T083512_T37TCN2.tif', '/data4/Ukraine_img/M_and_L/20220508T082611_20220508T083304_T37TCN2.tif', '/data4/Ukraine_img/M_and_L/20220523T082559_20220523T082946_T37TCN2.tif', '/data4/Ukraine_img/M_and_L/20220528T082611_20220528T083641_T37TCN2.tif', '/data4/Ukraine_img/M_and_L/20220602T082559_20220602T082807_T37TCN2.tif', '/data4/Ukraine_img/M_and_L/20220607T082611_20220607T083435_T37TCN2.tif', '/data4/Ukraine_img/M_and_L/20220612T082609_20220612T082840_T37TCN2.tif', '/data4/Ukraine_img/M_and_L/20220617T082611_20220617T083253_T37TCN2.tif', '/data4/Ukraine_img/M_and_L/20220622T082609_20220622T082834_T37TCN2.tif', '/data4/Ukraine_img/M_and_L/20220627T082621_20220627T083534_T37TCN2.tif']\n",
      "/data4/Ukraine_img/M_and_L/20210910T082601_20210910T083119_T37TCN.tif\n",
      "(10, 2196, 3638)\n",
      "(10, 367, 607, 6, 6)\n",
      "(37.461319399531256, 0.0005389891704717128, 0.0, 47.22214378218874, 0.0, -0.0005389891704717128)\n",
      "max: 18208\n",
      "/data4/Ukraine_img/M_and_L/20220227T082911_20220227T083303_T37TCN2.tif\n",
      "(10, 2196, 3638)\n"
     ]
    },
    {
     "name": "stderr",
     "output_type": "stream",
     "text": [
      "Warning 1: TIFFReadDirectory:Sum of Photometric type-related color channels and ExtraSamples doesn't match SamplesPerPixel. Defining non-color channels as ExtraSamples.\n"
     ]
    },
    {
     "name": "stdout",
     "output_type": "stream",
     "text": [
      "(10, 367, 607, 6, 6)\n",
      "(37.461319399531256, 0.0005389891704717128, 0.0, 47.22214378218874, 0.0, -0.0005389891704717128)\n",
      "max: 5676\n",
      "/data4/Ukraine_img/M_and_L/20220309T082801_20220309T083304_T37TCN2.tif\n",
      "(10, 2196, 3638)\n"
     ]
    },
    {
     "name": "stderr",
     "output_type": "stream",
     "text": [
      "Warning 1: TIFFReadDirectory:Sum of Photometric type-related color channels and ExtraSamples doesn't match SamplesPerPixel. Defining non-color channels as ExtraSamples.\n"
     ]
    },
    {
     "name": "stdout",
     "output_type": "stream",
     "text": [
      "(10, 367, 607, 6, 6)\n",
      "(37.461319399531256, 0.0005389891704717128, 0.0, 47.22214378218874, 0.0, -0.0005389891704717128)\n",
      "max: 9200\n",
      "/data4/Ukraine_img/M_and_L/20220314T082719_20220314T083610_T37TCN2.tif\n"
     ]
    },
    {
     "name": "stderr",
     "output_type": "stream",
     "text": [
      "Warning 1: TIFFReadDirectory:Sum of Photometric type-related color channels and ExtraSamples doesn't match SamplesPerPixel. Defining non-color channels as ExtraSamples.\n"
     ]
    },
    {
     "name": "stdout",
     "output_type": "stream",
     "text": [
      "(10, 2196, 3638)\n",
      "(10, 367, 607, 6, 6)\n",
      "(37.461319399531256, 0.0005389891704717128, 0.0, 47.22214378218874, 0.0, -0.0005389891704717128)\n",
      "max: 17328\n",
      "/data4/Ukraine_img/M_and_L/20220319T082651_20220319T083304_T37TCN2.tif\n",
      "(10, 2196, 3638)\n",
      "(10, 367, 607, 6, 6)\n",
      "(37.461319399531256, 0.0005389891704717128, 0.0, 47.22214378218874, 0.0, -0.0005389891704717128)\n",
      "max: 17840\n",
      "/data4/Ukraine_img/M_and_L/20220324T082609_20220324T083426_T37TCN2.tif\n",
      "(10, 2196, 3638)\n",
      "(10, 367, 607, 6, 6)\n",
      "(37.461319399531256, 0.0005389891704717128, 0.0, 47.22214378218874, 0.0, -0.0005389891704717128)\n",
      "max: 15104\n",
      "/data4/Ukraine_img/M_and_L/20220329T082601_20220329T083216_T37TCN2.tif\n"
     ]
    },
    {
     "name": "stderr",
     "output_type": "stream",
     "text": [
      "Warning 1: TIFFReadDirectory:Sum of Photometric type-related color channels and ExtraSamples doesn't match SamplesPerPixel. Defining non-color channels as ExtraSamples.\n"
     ]
    },
    {
     "name": "stdout",
     "output_type": "stream",
     "text": [
      "(10, 2196, 3638)\n",
      "(10, 367, 607, 6, 6)\n",
      "(37.461319399531256, 0.0005389891704717128, 0.0, 47.22214378218874, 0.0, -0.0005389891704717128)\n",
      "max: 18704\n",
      "/data4/Ukraine_img/M_and_L/20220403T082559_20220403T083553_T37TCN2.tif\n",
      "(10, 2196, 3638)\n"
     ]
    },
    {
     "name": "stderr",
     "output_type": "stream",
     "text": [
      "Warning 1: TIFFReadDirectory:Sum of Photometric type-related color channels and ExtraSamples doesn't match SamplesPerPixel. Defining non-color channels as ExtraSamples.\n"
     ]
    },
    {
     "name": "stdout",
     "output_type": "stream",
     "text": [
      "(10, 367, 607, 6, 6)\n",
      "(37.461319399531256, 0.0005389891704717128, 0.0, 47.22214378218874, 0.0, -0.0005389891704717128)\n",
      "max: 9976\n",
      "/data4/Ukraine_img/M_and_L/20220428T082611_20220428T083305_T37TCN2.tif\n",
      "(10, 2196, 3638)\n"
     ]
    },
    {
     "name": "stderr",
     "output_type": "stream",
     "text": [
      "Warning 1: TIFFReadDirectory:Sum of Photometric type-related color channels and ExtraSamples doesn't match SamplesPerPixel. Defining non-color channels as ExtraSamples.\n"
     ]
    },
    {
     "name": "stdout",
     "output_type": "stream",
     "text": [
      "(10, 367, 607, 6, 6)\n",
      "(37.461319399531256, 0.0005389891704717128, 0.0, 47.22214378218874, 0.0, -0.0005389891704717128)\n",
      "max: 8608\n",
      "/data4/Ukraine_img/M_and_L/20220503T082559_20220503T083512_T37TCN2.tif\n"
     ]
    },
    {
     "name": "stderr",
     "output_type": "stream",
     "text": [
      "Warning 1: TIFFReadDirectory:Sum of Photometric type-related color channels and ExtraSamples doesn't match SamplesPerPixel. Defining non-color channels as ExtraSamples.\n"
     ]
    },
    {
     "name": "stdout",
     "output_type": "stream",
     "text": [
      "(10, 2196, 3638)\n",
      "(10, 367, 607, 6, 6)\n",
      "(37.461319399531256, 0.0005389891704717128, 0.0, 47.22214378218874, 0.0, -0.0005389891704717128)\n",
      "max: 19568\n",
      "/data4/Ukraine_img/M_and_L/20220508T082611_20220508T083304_T37TCN2.tif\n",
      "(10, 2196, 3638)\n",
      "(10, 367, 607, 6, 6)\n",
      "(37.461319399531256, 0.0005389891704717128, 0.0, 47.22214378218874, 0.0, -0.0005389891704717128)\n",
      "max: 18416\n",
      "/data4/Ukraine_img/M_and_L/20220523T082559_20220523T082946_T37TCN2.tif\n",
      "(10, 2196, 3638)\n"
     ]
    },
    {
     "name": "stderr",
     "output_type": "stream",
     "text": [
      "Warning 1: TIFFReadDirectory:Sum of Photometric type-related color channels and ExtraSamples doesn't match SamplesPerPixel. Defining non-color channels as ExtraSamples.\n"
     ]
    },
    {
     "name": "stdout",
     "output_type": "stream",
     "text": [
      "(10, 367, 607, 6, 6)\n",
      "(37.461319399531256, 0.0005389891704717128, 0.0, 47.22214378218874, 0.0, -0.0005389891704717128)\n",
      "max: 18640\n",
      "/data4/Ukraine_img/M_and_L/20220528T082611_20220528T083641_T37TCN2.tif\n",
      "(10, 2196, 3638)\n",
      "(10, 367, 607, 6, 6)\n",
      "(37.461319399531256, 0.0005389891704717128, 0.0, 47.22214378218874, 0.0, -0.0005389891704717128)\n",
      "max: 17232\n",
      "/data4/Ukraine_img/M_and_L/20220602T082559_20220602T082807_T37TCN2.tif\n",
      "(10, 2196, 3638)\n",
      "(10, 367, 607, 6, 6)\n",
      "(37.461319399531256, 0.0005389891704717128, 0.0, 47.22214378218874, 0.0, -0.0005389891704717128)\n",
      "max: 16752\n",
      "/data4/Ukraine_img/M_and_L/20220607T082611_20220607T083435_T37TCN2.tif\n"
     ]
    },
    {
     "name": "stderr",
     "output_type": "stream",
     "text": [
      "Warning 1: TIFFReadDirectory:Sum of Photometric type-related color channels and ExtraSamples doesn't match SamplesPerPixel. Defining non-color channels as ExtraSamples.\n"
     ]
    },
    {
     "name": "stdout",
     "output_type": "stream",
     "text": [
      "(10, 2196, 3638)\n",
      "(10, 367, 607, 6, 6)\n",
      "(37.461319399531256, 0.0005389891704717128, 0.0, 47.22214378218874, 0.0, -0.0005389891704717128)\n",
      "max: 19120\n",
      "/data4/Ukraine_img/M_and_L/20220612T082609_20220612T082840_T37TCN2.tif\n"
     ]
    },
    {
     "name": "stderr",
     "output_type": "stream",
     "text": [
      "Warning 1: TIFFReadDirectory:Sum of Photometric type-related color channels and ExtraSamples doesn't match SamplesPerPixel. Defining non-color channels as ExtraSamples.\n"
     ]
    },
    {
     "name": "stdout",
     "output_type": "stream",
     "text": [
      "(10, 2196, 3638)\n",
      "(10, 367, 607, 6, 6)\n",
      "(37.461319399531256, 0.0005389891704717128, 0.0, 47.22214378218874, 0.0, -0.0005389891704717128)\n",
      "max: 18224\n",
      "/data4/Ukraine_img/M_and_L/20220617T082611_20220617T083253_T37TCN2.tif\n"
     ]
    },
    {
     "name": "stderr",
     "output_type": "stream",
     "text": [
      "Warning 1: TIFFReadDirectory:Sum of Photometric type-related color channels and ExtraSamples doesn't match SamplesPerPixel. Defining non-color channels as ExtraSamples.\n"
     ]
    },
    {
     "name": "stdout",
     "output_type": "stream",
     "text": [
      "(10, 2196, 3638)\n",
      "(10, 367, 607, 6, 6)\n",
      "(37.461319399531256, 0.0005389891704717128, 0.0, 47.22214378218874, 0.0, -0.0005389891704717128)\n",
      "max: 22448\n",
      "/data4/Ukraine_img/M_and_L/20220622T082609_20220622T082834_T37TCN2.tif\n",
      "(10, 2196, 3638)\n"
     ]
    },
    {
     "name": "stderr",
     "output_type": "stream",
     "text": [
      "Warning 1: TIFFReadDirectory:Sum of Photometric type-related color channels and ExtraSamples doesn't match SamplesPerPixel. Defining non-color channels as ExtraSamples.\n"
     ]
    },
    {
     "name": "stdout",
     "output_type": "stream",
     "text": [
      "(10, 367, 607, 6, 6)\n",
      "(37.461319399531256, 0.0005389891704717128, 0.0, 47.22214378218874, 0.0, -0.0005389891704717128)\n",
      "max: 9312\n",
      "/data4/Ukraine_img/M_and_L/20220627T082621_20220627T083534_T37TCN2.tif\n",
      "(10, 2196, 3638)\n"
     ]
    },
    {
     "name": "stderr",
     "output_type": "stream",
     "text": [
      "Warning 1: TIFFReadDirectory:Sum of Photometric type-related color channels and ExtraSamples doesn't match SamplesPerPixel. Defining non-color channels as ExtraSamples.\n"
     ]
    },
    {
     "name": "stdout",
     "output_type": "stream",
     "text": [
      "(10, 367, 607, 6, 6)\n",
      "(37.461319399531256, 0.0005389891704717128, 0.0, 47.22214378218874, 0.0, -0.0005389891704717128)\n",
      "max: 8064\n"
     ]
    }
   ],
   "source": [
    "size=6\n",
    "img_pathes=fs10\n",
    "# img_pathes=['/data2/Syria_img/Raqqa_enhance-A-B-4_20130213_treated.tif']\n",
    "print(img_pathes)\n",
    "\n",
    "for path in img_pathes:\n",
    "    # try:    \n",
    "    \n",
    "    print(path)\n",
    "    data=read_img(path)\n",
    "    ddata=read_img(path.replace('.tif','_bandother.tif'))\n",
    "    print(data['img'].shape)\n",
    "    data2=get_patch(data,6)\n",
    "    ddata2=get_patch(ddata,3)\n",
    "    print(data2['img'].shape)\n",
    "    print(data2['trf'])\n",
    "    d=data2['img'][:4].astype(np.int16)\n",
    "    dd=ddata2['img'].astype(np.int16)\n",
    "    info={'readme':'trf分别为patch左上角坐标(不是左上角像元的中心坐标)和patch的长度',\n",
    "    'trf':data2['trf'],'shape':[data['img'].shape,d.shape],'img10':d,'img20':dd}\n",
    "\n",
    "    # np.save(path.replace('.tif',f'_size_{size}.npy'),d)\n",
    "    print('max:',d.max())\n",
    "    torch.save(info,path.replace('.tif',f'_size_{size}_areaall_info.pth'))\n",
    "    del data,data2,d\n",
    "    gc.collect()\n",
    "    # except:\n",
    "    #         print('ERROR',path)"
   ]
  },
  {
   "cell_type": "code",
   "execution_count": 12,
   "metadata": {},
   "outputs": [
    {
     "name": "stdout",
     "output_type": "stream",
     "text": [
      "/data4/Ukraine_img/ESRI_Global-LULC_10m.tif\n",
      "(1, 2196, 3638)\n",
      "(1, 367, 607, 6, 6)\n",
      "(37.461319399531256, 0.0005389891704717128, 0.0, 47.22214378218874, 0.0, -0.0005389891704717128)\n",
      "max: 8\n"
     ]
    },
    {
     "data": {
      "text/plain": [
       "51"
      ]
     },
     "execution_count": 12,
     "metadata": {},
     "output_type": "execute_result"
    }
   ],
   "source": [
    "def read_img(path):\n",
    "    ds=gdal.Open(path)\n",
    "    trf=ds.GetGeoTransform()\n",
    "    img=ds.ReadAsArray()\n",
    "    return {'trf':trf,'img':img}\n",
    "def get_patch(data,size):\n",
    "    img=data['img']\n",
    "    trf=data['trf']\n",
    "    shape=img.shape\n",
    "    img=np.pad(img,((0,0),(0,size-shape[1]%size),(0,size-shape[2]%size)),'constant',constant_values=0)\n",
    "    shape=img.shape\n",
    "    img=img.reshape([shape[0],int(shape[1]/size),-1,shape[2]])\n",
    "    shape=img.shape\n",
    "    img=img.reshape([shape[0],shape[1],shape[2],int(shape[3]/size),-1])\n",
    "    return {'img':img.transpose((0,1,3,2,4)),'trf':(trf[0]-trf[1]/2,trf[1]*size,trf[2],trf[3]-trf[5]/2,trf[4],trf[5]*size)}\n",
    "path='/data4/Ukraine_img/ESRI_Global-LULC_10m.tif'\n",
    "print(path)\n",
    "data=read_img(path)\n",
    "data['img']=np.expand_dims(data['img'], 0)\n",
    "# ddata=read_img(path.replace('.tif','_bandother.tif'))\n",
    "print(data['img'].shape)\n",
    "data2=get_patch(data,6)\n",
    "\n",
    "print(data2['img'].shape)\n",
    "print(data2['trf'])\n",
    "d=data2['img'][:4].astype(np.int16)\n",
    "\n",
    "info={'readme':'trf分别为patch左上角坐标(不是左上角像元的中心坐标)和patch的长度',\n",
    "'trf':data2['trf'],'shape':[data['img'].shape,d.shape],'img10':d}\n",
    "\n",
    "# np.save(path.replace('.tif',f'_size_{size}.npy'),d)\n",
    "print('max:',d.max())\n",
    "torch.save(info,path.replace('.tif',f'_patch_info.pth'))\n",
    "del data,data2,d\n",
    "gc.collect()"
   ]
  },
  {
   "cell_type": "markdown",
   "metadata": {},
   "source": [
    "# 制作patch的label"
   ]
  },
  {
   "cell_type": "code",
   "execution_count": 66,
   "metadata": {},
   "outputs": [
    {
     "data": {
      "text/plain": [
       "{'area1': {'A': ['20210910'],\n",
       "  'A-B': ['20220227', '20220309'],\n",
       "  'B': ['20220314'],\n",
       "  'B-C': ['20220319',\n",
       "   '20220324',\n",
       "   '20220329',\n",
       "   '20220403',\n",
       "   '20220428',\n",
       "   '20220503',\n",
       "   '20220508'],\n",
       "  'C': [],\n",
       "  'C-Z': ['20220523',\n",
       "   '20220528',\n",
       "   '20220602',\n",
       "   '20220607',\n",
       "   '20220612',\n",
       "   '20220617',\n",
       "   '20220622',\n",
       "   '20220627']},\n",
       " 'area2': {'A': ['20210910'],\n",
       "  'A-B': ['20220227', '20220309'],\n",
       "  'B': ['20220314'],\n",
       "  'B-C': ['20220319',\n",
       "   '20220324',\n",
       "   '20220329',\n",
       "   '20220403',\n",
       "   '20220428',\n",
       "   '20220503'],\n",
       "  'C': ['20220508'],\n",
       "  'C-Z': ['20220523',\n",
       "   '20220528',\n",
       "   '20220602',\n",
       "   '20220607',\n",
       "   '20220612',\n",
       "   '20220617',\n",
       "   '20220622',\n",
       "   '20220627']},\n",
       " 'area3': {'A': ['20210910'],\n",
       "  'A-B': ['20220227', '20220309'],\n",
       "  'B': ['20220314'],\n",
       "  'B-Z': ['20220319',\n",
       "   '20220324',\n",
       "   '20220329',\n",
       "   '20220403',\n",
       "   '20220428',\n",
       "   '20220503',\n",
       "   '20220508',\n",
       "   '20220523',\n",
       "   '20220528',\n",
       "   '20220602',\n",
       "   '20220607',\n",
       "   '20220612',\n",
       "   '20220617',\n",
       "   '20220622',\n",
       "   '20220627']},\n",
       " 'area4': {'A': ['20210910'],\n",
       "  'A-B': ['20220227', '20220309'],\n",
       "  'B': ['20220314'],\n",
       "  'B-C': ['20220319',\n",
       "   '20220324',\n",
       "   '20220329',\n",
       "   '20220403',\n",
       "   '20220428',\n",
       "   '20220503'],\n",
       "  'C': [],\n",
       "  'C-Z': ['20220508',\n",
       "   '20220523',\n",
       "   '20220528',\n",
       "   '20220602',\n",
       "   '20220607',\n",
       "   '20220612',\n",
       "   '20220617',\n",
       "   '20220622',\n",
       "   '20220627']}}"
      ]
     },
     "execution_count": 66,
     "metadata": {},
     "output_type": "execute_result"
    }
   ],
   "source": [
    "labels_date"
   ]
  },
  {
   "cell_type": "code",
   "execution_count": 65,
   "metadata": {},
   "outputs": [
    {
     "data": {
      "text/plain": [
       "{'area1': {'A': ['/data4/Ukraine_img/M_and_L/20210910T082601_20210910T083119_T37TCN_size_6_area1_info.pth'],\n",
       "  'A-B': ['/data4/Ukraine_img/M_and_L/20220227T082911_20220227T083303_T37TCN2_size_6_area1_info.pth',\n",
       "   '/data4/Ukraine_img/M_and_L/20220309T082801_20220309T083304_T37TCN2_size_6_area1_info.pth'],\n",
       "  'B': ['/data4/Ukraine_img/M_and_L/20220314T082719_20220314T083610_T37TCN2_size_6_area1_info.pth'],\n",
       "  'B-C': ['/data4/Ukraine_img/M_and_L/20220319T082651_20220319T083304_T37TCN2_size_6_area1_info.pth',\n",
       "   '/data4/Ukraine_img/M_and_L/20220324T082609_20220324T083426_T37TCN2_size_6_area1_info.pth',\n",
       "   '/data4/Ukraine_img/M_and_L/20220329T082601_20220329T083216_T37TCN2_size_6_area1_info.pth',\n",
       "   '/data4/Ukraine_img/M_and_L/20220403T082559_20220403T083553_T37TCN2_size_6_area1_info.pth',\n",
       "   '/data4/Ukraine_img/M_and_L/20220428T082611_20220428T083305_T37TCN2_size_6_area1_info.pth',\n",
       "   '/data4/Ukraine_img/M_and_L/20220503T082559_20220503T083512_T37TCN2_size_6_area1_info.pth',\n",
       "   '/data4/Ukraine_img/M_and_L/20220508T082611_20220508T083304_T37TCN2_size_6_area1_info.pth'],\n",
       "  'C': [],\n",
       "  'C-Z': ['/data4/Ukraine_img/M_and_L/20220523T082559_20220523T082946_T37TCN2_size_6_area1_info.pth',\n",
       "   '/data4/Ukraine_img/M_and_L/20220528T082611_20220528T083641_T37TCN2_size_6_area1_info.pth',\n",
       "   '/data4/Ukraine_img/M_and_L/20220602T082559_20220602T082807_T37TCN2_size_6_area1_info.pth',\n",
       "   '/data4/Ukraine_img/M_and_L/20220607T082611_20220607T083435_T37TCN2_size_6_area1_info.pth',\n",
       "   '/data4/Ukraine_img/M_and_L/20220612T082609_20220612T082840_T37TCN2_size_6_area1_info.pth',\n",
       "   '/data4/Ukraine_img/M_and_L/20220617T082611_20220617T083253_T37TCN2_size_6_area1_info.pth',\n",
       "   '/data4/Ukraine_img/M_and_L/20220622T082609_20220622T082834_T37TCN2_size_6_area1_info.pth',\n",
       "   '/data4/Ukraine_img/M_and_L/20220627T082621_20220627T083534_T37TCN2_size_6_area1_info.pth']},\n",
       " 'area2': {'A': ['/data4/Ukraine_img/M_and_L/20210910T082601_20210910T083119_T37TCN_size_6_area2_info.pth'],\n",
       "  'A-B': ['/data4/Ukraine_img/M_and_L/20220227T082911_20220227T083303_T37TCN2_size_6_area2_info.pth',\n",
       "   '/data4/Ukraine_img/M_and_L/20220309T082801_20220309T083304_T37TCN2_size_6_area2_info.pth'],\n",
       "  'B': ['/data4/Ukraine_img/M_and_L/20220314T082719_20220314T083610_T37TCN2_size_6_area2_info.pth'],\n",
       "  'B-C': ['/data4/Ukraine_img/M_and_L/20220319T082651_20220319T083304_T37TCN2_size_6_area2_info.pth',\n",
       "   '/data4/Ukraine_img/M_and_L/20220324T082609_20220324T083426_T37TCN2_size_6_area2_info.pth',\n",
       "   '/data4/Ukraine_img/M_and_L/20220329T082601_20220329T083216_T37TCN2_size_6_area2_info.pth',\n",
       "   '/data4/Ukraine_img/M_and_L/20220403T082559_20220403T083553_T37TCN2_size_6_area2_info.pth',\n",
       "   '/data4/Ukraine_img/M_and_L/20220428T082611_20220428T083305_T37TCN2_size_6_area2_info.pth',\n",
       "   '/data4/Ukraine_img/M_and_L/20220503T082559_20220503T083512_T37TCN2_size_6_area2_info.pth'],\n",
       "  'C': ['/data4/Ukraine_img/M_and_L/20220508T082611_20220508T083304_T37TCN2_size_6_area2_info.pth'],\n",
       "  'C-Z': ['/data4/Ukraine_img/M_and_L/20220523T082559_20220523T082946_T37TCN2_size_6_area2_info.pth',\n",
       "   '/data4/Ukraine_img/M_and_L/20220528T082611_20220528T083641_T37TCN2_size_6_area2_info.pth',\n",
       "   '/data4/Ukraine_img/M_and_L/20220602T082559_20220602T082807_T37TCN2_size_6_area2_info.pth',\n",
       "   '/data4/Ukraine_img/M_and_L/20220607T082611_20220607T083435_T37TCN2_size_6_area2_info.pth',\n",
       "   '/data4/Ukraine_img/M_and_L/20220612T082609_20220612T082840_T37TCN2_size_6_area2_info.pth',\n",
       "   '/data4/Ukraine_img/M_and_L/20220617T082611_20220617T083253_T37TCN2_size_6_area2_info.pth',\n",
       "   '/data4/Ukraine_img/M_and_L/20220622T082609_20220622T082834_T37TCN2_size_6_area2_info.pth',\n",
       "   '/data4/Ukraine_img/M_and_L/20220627T082621_20220627T083534_T37TCN2_size_6_area2_info.pth']},\n",
       " 'area3': {'A': ['/data4/Ukraine_img/M_and_L/20210910T082601_20210910T083119_T37TCN_size_6_area3_info.pth'],\n",
       "  'A-B': ['/data4/Ukraine_img/M_and_L/20220227T082911_20220227T083303_T37TCN2_size_6_area3_info.pth',\n",
       "   '/data4/Ukraine_img/M_and_L/20220309T082801_20220309T083304_T37TCN2_size_6_area3_info.pth'],\n",
       "  'B': ['/data4/Ukraine_img/M_and_L/20220314T082719_20220314T083610_T37TCN2_size_6_area3_info.pth'],\n",
       "  'B-Z': ['/data4/Ukraine_img/M_and_L/20220319T082651_20220319T083304_T37TCN2_size_6_area3_info.pth',\n",
       "   '/data4/Ukraine_img/M_and_L/20220324T082609_20220324T083426_T37TCN2_size_6_area3_info.pth',\n",
       "   '/data4/Ukraine_img/M_and_L/20220329T082601_20220329T083216_T37TCN2_size_6_area3_info.pth',\n",
       "   '/data4/Ukraine_img/M_and_L/20220403T082559_20220403T083553_T37TCN2_size_6_area3_info.pth',\n",
       "   '/data4/Ukraine_img/M_and_L/20220428T082611_20220428T083305_T37TCN2_size_6_area3_info.pth',\n",
       "   '/data4/Ukraine_img/M_and_L/20220503T082559_20220503T083512_T37TCN2_size_6_area3_info.pth',\n",
       "   '/data4/Ukraine_img/M_and_L/20220508T082611_20220508T083304_T37TCN2_size_6_area3_info.pth',\n",
       "   '/data4/Ukraine_img/M_and_L/20220523T082559_20220523T082946_T37TCN2_size_6_area3_info.pth',\n",
       "   '/data4/Ukraine_img/M_and_L/20220528T082611_20220528T083641_T37TCN2_size_6_area3_info.pth',\n",
       "   '/data4/Ukraine_img/M_and_L/20220602T082559_20220602T082807_T37TCN2_size_6_area3_info.pth',\n",
       "   '/data4/Ukraine_img/M_and_L/20220607T082611_20220607T083435_T37TCN2_size_6_area3_info.pth',\n",
       "   '/data4/Ukraine_img/M_and_L/20220612T082609_20220612T082840_T37TCN2_size_6_area3_info.pth',\n",
       "   '/data4/Ukraine_img/M_and_L/20220617T082611_20220617T083253_T37TCN2_size_6_area3_info.pth',\n",
       "   '/data4/Ukraine_img/M_and_L/20220622T082609_20220622T082834_T37TCN2_size_6_area3_info.pth',\n",
       "   '/data4/Ukraine_img/M_and_L/20220627T082621_20220627T083534_T37TCN2_size_6_area3_info.pth']},\n",
       " 'area4': {'A': ['/data4/Ukraine_img/M_and_L/20210910T082601_20210910T083119_T37TCN_size_6_area4_info.pth'],\n",
       "  'A-B': ['/data4/Ukraine_img/M_and_L/20220227T082911_20220227T083303_T37TCN2_size_6_area4_info.pth',\n",
       "   '/data4/Ukraine_img/M_and_L/20220309T082801_20220309T083304_T37TCN2_size_6_area4_info.pth'],\n",
       "  'B': ['/data4/Ukraine_img/M_and_L/20220314T082719_20220314T083610_T37TCN2_size_6_area4_info.pth'],\n",
       "  'B-C': ['/data4/Ukraine_img/M_and_L/20220319T082651_20220319T083304_T37TCN2_size_6_area4_info.pth',\n",
       "   '/data4/Ukraine_img/M_and_L/20220324T082609_20220324T083426_T37TCN2_size_6_area4_info.pth',\n",
       "   '/data4/Ukraine_img/M_and_L/20220329T082601_20220329T083216_T37TCN2_size_6_area4_info.pth',\n",
       "   '/data4/Ukraine_img/M_and_L/20220403T082559_20220403T083553_T37TCN2_size_6_area4_info.pth',\n",
       "   '/data4/Ukraine_img/M_and_L/20220428T082611_20220428T083305_T37TCN2_size_6_area4_info.pth',\n",
       "   '/data4/Ukraine_img/M_and_L/20220503T082559_20220503T083512_T37TCN2_size_6_area4_info.pth'],\n",
       "  'C': [],\n",
       "  'C-Z': ['/data4/Ukraine_img/M_and_L/20220508T082611_20220508T083304_T37TCN2_size_6_area4_info.pth',\n",
       "   '/data4/Ukraine_img/M_and_L/20220523T082559_20220523T082946_T37TCN2_size_6_area4_info.pth',\n",
       "   '/data4/Ukraine_img/M_and_L/20220528T082611_20220528T083641_T37TCN2_size_6_area4_info.pth',\n",
       "   '/data4/Ukraine_img/M_and_L/20220602T082559_20220602T082807_T37TCN2_size_6_area4_info.pth',\n",
       "   '/data4/Ukraine_img/M_and_L/20220607T082611_20220607T083435_T37TCN2_size_6_area4_info.pth',\n",
       "   '/data4/Ukraine_img/M_and_L/20220612T082609_20220612T082840_T37TCN2_size_6_area4_info.pth',\n",
       "   '/data4/Ukraine_img/M_and_L/20220617T082611_20220617T083253_T37TCN2_size_6_area4_info.pth',\n",
       "   '/data4/Ukraine_img/M_and_L/20220622T082609_20220622T082834_T37TCN2_size_6_area4_info.pth',\n",
       "   '/data4/Ukraine_img/M_and_L/20220627T082621_20220627T083534_T37TCN2_size_6_area4_info.pth']}}"
      ]
     },
     "execution_count": 65,
     "metadata": {},
     "output_type": "execute_result"
    }
   ],
   "source": [
    "img_pathes={}\n",
    "\n",
    "for area in labels_date.keys():\n",
    "    k={}\n",
    "    for date_id in labels_date[area].keys():\n",
    "        date_list=labels_date[area][date_id]\n",
    "        fl=[]\n",
    "        for d in date_list:\n",
    "            fl+=glob(f'/data4/Ukraine_img/M_and_L/{d}*{area}*.pth')\n",
    "        k[date_id]=fl\n",
    "    img_pathes[area]=k\n",
    "img_pathes"
   ]
  },
  {
   "cell_type": "code",
   "execution_count": 15,
   "metadata": {},
   "outputs": [],
   "source": [
    "def get_dam_mask(point,patch_file,weight):\n",
    "    trf=torch.load(patch_file)['trf']\n",
    "    shape=torch.load(patch_file)['shape'][1]\n",
    "    p_coor=[shapely.geometry.mapping(list(point)[i])['coordinates'] for i in range(len(point))]\n",
    "    mask=np.zeros((shape[1],shape[2]))\n",
    "    p_x_y=[[int((i[0]-trf[0])/trf[1]),int((i[1]-trf[3])/trf[5])] for i in p_coor]\n",
    "    for i in p_x_y:\n",
    "        try:\n",
    "            mask[i[1],i[0]]+=weight\n",
    "        except:\n",
    "            pass\n",
    "    return mask\n",
    "def get_mask(points_path,patch_path):\n",
    "    n=points_path.split(\"_\")[-2]\n",
    "    df=gpd.read_file(points_path)\n",
    "    print(len(df))\n",
    "    point_num={}\n",
    "    point=df[df['DmgCls']=='Destroyed']['geometry']\n",
    "    point_num['destroyed']=len(point)\n",
    "    print('destroyed:',len(point))\n",
    "    mask_destroyed=get_dam_mask(point,patch_path,1)\n",
    "    point=df[df['DmgCls']=='Severe Damage']['geometry']\n",
    "    point_num['severe']=len(point)\n",
    "    print('Severe Damage:',len(point))\n",
    "    mask_severe=get_dam_mask(point,patch_path,1)\n",
    "    point=df[df['DmgCls']=='Moderate Damage']['geometry']\n",
    "    point_num['moderate']=len(point)\n",
    "    print('Moderate Damage:',len(point))\n",
    "    mask_moderate=get_dam_mask(point,patch_path,1)\n",
    "\n",
    "    mask=mask_destroyed*6+mask_severe*3+mask_moderate\n",
    "    date=df['SensDt'][0]\n",
    "    print(f'{n}  {date}得分',dict(Counter(list(mask.flatten()))))\n",
    "    mask_type=np.zeros(mask.shape)\n",
    "    mask_type[mask>0]=1\n",
    "    mask_type[mask>=6]=2\n",
    "    print(f'{date}损毁类型',Counter(list(mask_type.flatten())))\n",
    "    all_mask=[mask_destroyed,mask_severe,mask_moderate,mask,mask_type]\n",
    "    info='5层分别为完全 严重 中等 以及损毁得分和类型\\n得分:完全算6分 严重算3分 中等算1分 其他0分\\n类型0:得分0 类型1:得分1-5 类型2:得分大于6'\n",
    "    result={'info':info,'point_num':point_num,'mask':all_mask}\n",
    "    return result"
   ]
  },
  {
   "cell_type": "code",
   "execution_count": 58,
   "metadata": {},
   "outputs": [
    {
     "name": "stdout",
     "output_type": "stream",
     "text": [
      "750\n",
      "destroyed: 61\n",
      "Severe Damage: 300\n",
      "Moderate Damage: 311\n",
      "B  2022-03-14得分 {0.0: 222218, 3.0: 192, 6.0: 58, 1.0: 229, 4.0: 18, 9.0: 14, 7.0: 8, 2.0: 19, 14.0: 1, 5.0: 5, 12.0: 3, 10.0: 1, 21.0: 1, 11.0: 1, 15.0: 1}\n",
      "2022-03-14损毁类型 Counter({0.0: 222218, 1.0: 463, 2.0: 88})\n",
      "__________________________SAVE SUCCESS__________________________\n",
      "2919\n",
      "destroyed: 168\n",
      "Severe Damage: 930\n",
      "Moderate Damage: 1697\n",
      "C-Area1  2022-05-12得分 {0.0: 221072, 3.0: 257, 1.0: 818, 5.0: 43, 4.0: 124, 2.0: 136, 11.0: 7, 7.0: 54, 16.0: 7, 15.0: 6, 6.0: 105, 12.0: 16, 9.0: 51, 8.0: 13, 14.0: 6, 13.0: 12, 10.0: 22, 28.0: 1, 19.0: 3, 18.0: 7, 32.0: 1, 17.0: 1, 27.0: 2, 24.0: 1, 21.0: 3, 20.0: 1}\n",
      "2022-05-12损毁类型 Counter({0.0: 221072, 1.0: 1378, 2.0: 319})\n",
      "__________________________SAVE SUCCESS__________________________\n",
      "1826\n",
      "destroyed: 87\n",
      "Severe Damage: 789\n",
      "Moderate Damage: 909\n",
      "C-Area2  2022-05-08得分 {0.0: 221612, 3.0: 315, 1.0: 463, 6.0: 93, 2.0: 65, 4.0: 79, 9.0: 25, 7.0: 24, 10.0: 20, 16.0: 3, 13.0: 9, 5.0: 19, 8.0: 14, 15.0: 3, 12.0: 10, 18.0: 3, 11.0: 3, 17.0: 3, 20.0: 2, 19.0: 1, 24.0: 1, 21.0: 1, 14.0: 1}\n",
      "2022-05-08损毁类型 Counter({0.0: 221612, 1.0: 941, 2.0: 216})\n",
      "__________________________SAVE SUCCESS__________________________\n",
      "826\n",
      "destroyed: 57\n",
      "Severe Damage: 370\n",
      "Moderate Damage: 366\n",
      "C-Area1-4  2022-05-07得分 {0.0: 222239, 1.0: 214, 3.0: 134, 6.0: 60, 5.0: 9, 9.0: 18, 8.0: 4, 16.0: 3, 12.0: 4, 18.0: 3, 10.0: 3, 15.0: 6, 2.0: 25, 4.0: 32, 29.0: 1, 7.0: 9, 13.0: 4, 11.0: 1}\n",
      "2022-05-07损毁类型 Counter({0.0: 222239, 1.0: 414, 2.0: 116})\n",
      "__________________________SAVE SUCCESS__________________________\n"
     ]
    }
   ],
   "source": [
    "points_list=['/home/hk/python_script/Ukraine/data/UNOSAT/U/Livoberezhyny_B_2022-03-14.shp','/home/hk/python_script/Ukraine/data/UNOSAT/U/Livoberezhyny_C-Area1_2022-05-12.shp',\n",
    "'/home/hk/python_script/Ukraine/data/UNOSAT/U/Livoberezhyny_C-Area2_2022-05-08.shp','/home/hk/python_script/Ukraine/data/UNOSAT/U/Livoberezhyny_C-Area1-4_2022-05-07.shp']\n",
    "for point_path in points_list:\n",
    "    patch_path='/data4/Ukraine_img/M_and_L/20220523T082559_20220523T082946_T37TCN2_size_6_area4_info.pth'\n",
    "    result=get_mask(point_path,patch_path)\n",
    "    torch.save(result,point_path.replace('.shp','_size_6_dammask.pth.tar').replace('/home/hk/python_script/Ukraine/data/UNOSAT/U/','/data4/Ukraine_img/M_and_L/'))\n",
    "    print('__________________________SAVE SUCCESS__________________________')\n",
    "\n",
    "# for point_path in points_list:\n",
    "#     patch_path='/data4/Ukraine_img/U_bandother/20210910T082601_20210910T083119_T37TCN_cut_reprojection_size_3_info.pth'\n",
    "#     result=get_mask(point_path,patch_path)\n",
    "#     torch.save(result,point_path.replace('.shp','_size_3_dammask.pth.tar'))\n",
    "#     print('__________________________SAVE SUCCESS__________________________')\n"
   ]
  },
  {
   "cell_type": "code",
   "execution_count": 16,
   "metadata": {},
   "outputs": [
    {
     "data": {
      "text/plain": [
       "{'area1': {'A': None,\n",
       "  'B': '/data4/Ukraine_img/M_and_L/Livoberezhyny_B_2022-03-14_size_6_dammask.pth.tar',\n",
       "  'C': '/data4/Ukraine_img/M_and_L/Livoberezhyny_C-Area1_2022-05-12_size_6_dammask.pth.tar',\n",
       "  'Z': None},\n",
       " 'area2': {'A': None,\n",
       "  'B': '/data4/Ukraine_img/M_and_L/Livoberezhyny_B_2022-03-14_size_6_dammask.pth.tar',\n",
       "  'C': '/data4/Ukraine_img/M_and_L/Livoberezhyny_C-Area2_2022-05-08_size_6_dammask.pth.tar',\n",
       "  'Z': None},\n",
       " 'area3': {'A': None,\n",
       "  'B': '/data4/Ukraine_img/M_and_L/Livoberezhyny_B_2022-03-14_size_6_dammask.pth.tar',\n",
       "  'Z': None},\n",
       " 'area4': {'A': None,\n",
       "  'B': '/data4/Ukraine_img/M_and_L/Livoberezhyny_B_2022-03-14_size_6_dammask.pth.tar',\n",
       "  'C': '/data4/Ukraine_img/M_and_L/Livoberezhyny_C-Area1-4_2022-05-07_size_6_dammask.pth.tar',\n",
       "  'Z': None}}"
      ]
     },
     "execution_count": 16,
     "metadata": {},
     "output_type": "execute_result"
    }
   ],
   "source": [
    "dammasks_path={}\n",
    "for i in points_path.keys():\n",
    "    k={}\n",
    "    k['A']=None\n",
    "    for j in points_path[i].keys():\n",
    "        if points_path[i][j] is not None:\n",
    "            k[j]=points_path[i][j].replace('.shp','_size_6_dammask.pth.tar') \\\n",
    "            .replace('/home/hk/python_script/Ukraine/data/UNOSAT/U/','/data4/Ukraine_img/M_and_L/')\n",
    "            if not os.path.exists(k[j]):\n",
    "                print('No file')\n",
    "    k['Z']=None\n",
    "    dammasks_path[i]=k\n",
    "dammasks_path"
   ]
  },
  {
   "cell_type": "markdown",
   "metadata": {},
   "source": [
    "# 制作样本"
   ]
  },
  {
   "cell_type": "code",
   "execution_count": 20,
   "metadata": {},
   "outputs": [],
   "source": [
    "# masks={\n",
    "#     'A':None,\n",
    "#     'B':glob(f'/data2/Syria_img/{city}_B_*_treated_size_120_dammask.pth.tar')[0],\n",
    "#     'C':glob(f'/data2/Syria_img/{city}_C_*_treated_size_120_dammask.pth.tar')[0],\n",
    "#     'D':glob(f'/data2/Syria_img/{city}_D_*_treated_size_120_dammask.pth.tar')[0],\n",
    "#     'Z':None\n",
    "# }\n",
    "\n",
    "\n",
    "def get_samples(pre_patch,post_patch,dammask_after,dammask_now,dammask_before):\n",
    "        # if pre_patch[0].shape!=post_patch[0].shape:\n",
    "        #         raise('SHAPE ERROR')\n",
    "        if pre_patch[0].shape[0]!=4 or post_patch[0].shape[0]!=4:\n",
    "                raise\n",
    "        if pre_patch[1].shape[0]!=6 or post_patch[1].shape[0]!=6:\n",
    "                raise\n",
    "                               \n",
    "        shape=pre_patch[0].shape\n",
    "        print(shape)\n",
    "        zz=np.zeros((shape[1],shape[2]))\n",
    "        samples=[]\n",
    "        if dammask_now is not None:\n",
    "                for x in range(shape[1]):\n",
    "                        for y in range(shape[2]):\n",
    "                                \n",
    "                                if (pre_patch[0][:,x,y]==0).any() or (post_patch[0][:,x,y]==0).any() or (pre_patch[1][:,x,y]==0).any() or (post_patch[1][:,x,y]==0).any():\n",
    "                                        continue\n",
    "                                else:\n",
    "                                        samples.append([[x,y],[None,[int(i[x,y]) for i in dammask_now['mask']]],np.concatenate([pre_patch[0][:,x,y],post_patch[0][:,x,y]],axis=0),np.concatenate([pre_patch[1][:,x,y],post_patch[1][:,x,y]],axis=0)])\n",
    "                                        zz[x,y]=1\n",
    "        else:\n",
    "                if dammask_before is None:\n",
    "                        for x in range(shape[1]):\n",
    "                                for y in range(shape[2]):\n",
    "                                        \n",
    "                                        if (pre_patch[0][:,x,y]==0).any() or (post_patch[0][:,x,y]==0).any() or (pre_patch[1][:,x,y]==0).any() or (post_patch[1][:,x,y]==0).any():\n",
    "                                                continue\n",
    "                                        else:\n",
    "                                                if dammask_after['mask'][0][x,y]==0:\n",
    "                                                        samples.append([[x,y],[None,[int(i[x,y]) for i in dammask_after['mask']]],np.concatenate([pre_patch[0][:,x,y],post_patch[0][:,x,y]],axis=0),np.concatenate([pre_patch[1][:,x,y],post_patch[1][:,x,y]],axis=0)])\n",
    "                                                        zz[x,y]=1\n",
    "                if dammask_after is None:\n",
    "                        for x in range(shape[1]):\n",
    "                                for y in range(shape[2]):\n",
    "                                        \n",
    "                                        if (pre_patch[0][:,x,y]==0).any() or (post_patch[0][:,x,y]==0).any() or (pre_patch[1][:,x,y]==0).any() or (post_patch[1][:,x,y]==0).any():\n",
    "                                                continue\n",
    "                                        else:\n",
    "                                                # if dammask_before['mask'][0][x,y]>0:\n",
    "                                                samples.append([[x,y],[[int(i[x,y]) for i in dammask_before['mask']],None],np.concatenate([pre_patch[0][:,x,y],post_patch[0][:,x,y]],axis=0),np.concatenate([pre_patch[1][:,x,y],post_patch[1][:,x,y]],axis=0)])\n",
    "                                                zz[x,y]=1\n",
    "                if dammask_before is not None and dammask_after is not None:\n",
    "                        for x in range(shape[1]):\n",
    "                                for y in range(shape[2]):\n",
    "                                        \n",
    "                                        if (pre_patch[0][:,x,y]==0).any() or (post_patch[0][:,x,y]==0).any() or (pre_patch[1][:,x,y]==0).any() or (post_patch[1][:,x,y]==0).any():\n",
    "                                                continue\n",
    "                                        else:\n",
    "                                                if (dammask_after['mask'][0][x,y]>0 and dammask_before['mask'][0][x,y]>0) or (dammask_after['mask'][0][x,y]==0 and dammask_before['mask'][0][x,y]==0):\n",
    "                                                        samples.append([[x,y],[[int(i[x,y]) for i in dammask_before['mask']],[int(i[x,y]) for i in dammask_after['mask']]],np.concatenate([pre_patch[0][:,x,y],post_patch[0][:,x,y]],axis=0),np.concatenate([pre_patch[1][:,x,y],post_patch[1][:,x,y]],axis=0)])\n",
    "                                                        zz[x,y]=1\n",
    "                                        \n",
    "        return samples,zz"
   ]
  },
  {
   "cell_type": "code",
   "execution_count": 17,
   "metadata": {},
   "outputs": [
    {
     "data": {
      "text/plain": [
       "{'area1': {'A': ['/data4/Ukraine_img/M_and_L/20210910T082601_20210910T083119_T37TCN_size_6_area1_info.pth'],\n",
       "  'A-B': ['/data4/Ukraine_img/M_and_L/20220227T082911_20220227T083303_T37TCN2_size_6_area1_info.pth',\n",
       "   '/data4/Ukraine_img/M_and_L/20220309T082801_20220309T083304_T37TCN2_size_6_area1_info.pth'],\n",
       "  'B': ['/data4/Ukraine_img/M_and_L/20220314T082719_20220314T083610_T37TCN2_size_6_area1_info.pth'],\n",
       "  'B-C': ['/data4/Ukraine_img/M_and_L/20220319T082651_20220319T083304_T37TCN2_size_6_area1_info.pth',\n",
       "   '/data4/Ukraine_img/M_and_L/20220324T082609_20220324T083426_T37TCN2_size_6_area1_info.pth',\n",
       "   '/data4/Ukraine_img/M_and_L/20220329T082601_20220329T083216_T37TCN2_size_6_area1_info.pth',\n",
       "   '/data4/Ukraine_img/M_and_L/20220403T082559_20220403T083553_T37TCN2_size_6_area1_info.pth',\n",
       "   '/data4/Ukraine_img/M_and_L/20220428T082611_20220428T083305_T37TCN2_size_6_area1_info.pth',\n",
       "   '/data4/Ukraine_img/M_and_L/20220503T082559_20220503T083512_T37TCN2_size_6_area1_info.pth',\n",
       "   '/data4/Ukraine_img/M_and_L/20220508T082611_20220508T083304_T37TCN2_size_6_area1_info.pth'],\n",
       "  'C': [],\n",
       "  'C-Z': ['/data4/Ukraine_img/M_and_L/20220523T082559_20220523T082946_T37TCN2_size_6_area1_info.pth',\n",
       "   '/data4/Ukraine_img/M_and_L/20220528T082611_20220528T083641_T37TCN2_size_6_area1_info.pth',\n",
       "   '/data4/Ukraine_img/M_and_L/20220602T082559_20220602T082807_T37TCN2_size_6_area1_info.pth',\n",
       "   '/data4/Ukraine_img/M_and_L/20220607T082611_20220607T083435_T37TCN2_size_6_area1_info.pth',\n",
       "   '/data4/Ukraine_img/M_and_L/20220612T082609_20220612T082840_T37TCN2_size_6_area1_info.pth',\n",
       "   '/data4/Ukraine_img/M_and_L/20220617T082611_20220617T083253_T37TCN2_size_6_area1_info.pth',\n",
       "   '/data4/Ukraine_img/M_and_L/20220622T082609_20220622T082834_T37TCN2_size_6_area1_info.pth',\n",
       "   '/data4/Ukraine_img/M_and_L/20220627T082621_20220627T083534_T37TCN2_size_6_area1_info.pth']},\n",
       " 'area2': {'A': ['/data4/Ukraine_img/M_and_L/20210910T082601_20210910T083119_T37TCN_size_6_area2_info.pth'],\n",
       "  'A-B': ['/data4/Ukraine_img/M_and_L/20220227T082911_20220227T083303_T37TCN2_size_6_area2_info.pth',\n",
       "   '/data4/Ukraine_img/M_and_L/20220309T082801_20220309T083304_T37TCN2_size_6_area2_info.pth'],\n",
       "  'B': ['/data4/Ukraine_img/M_and_L/20220314T082719_20220314T083610_T37TCN2_size_6_area2_info.pth'],\n",
       "  'B-C': ['/data4/Ukraine_img/M_and_L/20220319T082651_20220319T083304_T37TCN2_size_6_area2_info.pth',\n",
       "   '/data4/Ukraine_img/M_and_L/20220324T082609_20220324T083426_T37TCN2_size_6_area2_info.pth',\n",
       "   '/data4/Ukraine_img/M_and_L/20220329T082601_20220329T083216_T37TCN2_size_6_area2_info.pth',\n",
       "   '/data4/Ukraine_img/M_and_L/20220403T082559_20220403T083553_T37TCN2_size_6_area2_info.pth',\n",
       "   '/data4/Ukraine_img/M_and_L/20220428T082611_20220428T083305_T37TCN2_size_6_area2_info.pth',\n",
       "   '/data4/Ukraine_img/M_and_L/20220503T082559_20220503T083512_T37TCN2_size_6_area2_info.pth'],\n",
       "  'C': ['/data4/Ukraine_img/M_and_L/20220508T082611_20220508T083304_T37TCN2_size_6_area2_info.pth'],\n",
       "  'C-Z': ['/data4/Ukraine_img/M_and_L/20220523T082559_20220523T082946_T37TCN2_size_6_area2_info.pth',\n",
       "   '/data4/Ukraine_img/M_and_L/20220528T082611_20220528T083641_T37TCN2_size_6_area2_info.pth',\n",
       "   '/data4/Ukraine_img/M_and_L/20220602T082559_20220602T082807_T37TCN2_size_6_area2_info.pth',\n",
       "   '/data4/Ukraine_img/M_and_L/20220607T082611_20220607T083435_T37TCN2_size_6_area2_info.pth',\n",
       "   '/data4/Ukraine_img/M_and_L/20220612T082609_20220612T082840_T37TCN2_size_6_area2_info.pth',\n",
       "   '/data4/Ukraine_img/M_and_L/20220617T082611_20220617T083253_T37TCN2_size_6_area2_info.pth',\n",
       "   '/data4/Ukraine_img/M_and_L/20220622T082609_20220622T082834_T37TCN2_size_6_area2_info.pth',\n",
       "   '/data4/Ukraine_img/M_and_L/20220627T082621_20220627T083534_T37TCN2_size_6_area2_info.pth']},\n",
       " 'area3': {'A': ['/data4/Ukraine_img/M_and_L/20210910T082601_20210910T083119_T37TCN_size_6_area3_info.pth'],\n",
       "  'A-B': ['/data4/Ukraine_img/M_and_L/20220227T082911_20220227T083303_T37TCN2_size_6_area3_info.pth',\n",
       "   '/data4/Ukraine_img/M_and_L/20220309T082801_20220309T083304_T37TCN2_size_6_area3_info.pth'],\n",
       "  'B': ['/data4/Ukraine_img/M_and_L/20220314T082719_20220314T083610_T37TCN2_size_6_area3_info.pth'],\n",
       "  'B-Z': ['/data4/Ukraine_img/M_and_L/20220319T082651_20220319T083304_T37TCN2_size_6_area3_info.pth',\n",
       "   '/data4/Ukraine_img/M_and_L/20220324T082609_20220324T083426_T37TCN2_size_6_area3_info.pth',\n",
       "   '/data4/Ukraine_img/M_and_L/20220329T082601_20220329T083216_T37TCN2_size_6_area3_info.pth',\n",
       "   '/data4/Ukraine_img/M_and_L/20220403T082559_20220403T083553_T37TCN2_size_6_area3_info.pth',\n",
       "   '/data4/Ukraine_img/M_and_L/20220428T082611_20220428T083305_T37TCN2_size_6_area3_info.pth',\n",
       "   '/data4/Ukraine_img/M_and_L/20220503T082559_20220503T083512_T37TCN2_size_6_area3_info.pth',\n",
       "   '/data4/Ukraine_img/M_and_L/20220508T082611_20220508T083304_T37TCN2_size_6_area3_info.pth',\n",
       "   '/data4/Ukraine_img/M_and_L/20220523T082559_20220523T082946_T37TCN2_size_6_area3_info.pth',\n",
       "   '/data4/Ukraine_img/M_and_L/20220528T082611_20220528T083641_T37TCN2_size_6_area3_info.pth',\n",
       "   '/data4/Ukraine_img/M_and_L/20220602T082559_20220602T082807_T37TCN2_size_6_area3_info.pth',\n",
       "   '/data4/Ukraine_img/M_and_L/20220607T082611_20220607T083435_T37TCN2_size_6_area3_info.pth',\n",
       "   '/data4/Ukraine_img/M_and_L/20220612T082609_20220612T082840_T37TCN2_size_6_area3_info.pth',\n",
       "   '/data4/Ukraine_img/M_and_L/20220617T082611_20220617T083253_T37TCN2_size_6_area3_info.pth',\n",
       "   '/data4/Ukraine_img/M_and_L/20220622T082609_20220622T082834_T37TCN2_size_6_area3_info.pth',\n",
       "   '/data4/Ukraine_img/M_and_L/20220627T082621_20220627T083534_T37TCN2_size_6_area3_info.pth']},\n",
       " 'area4': {'A': ['/data4/Ukraine_img/M_and_L/20210910T082601_20210910T083119_T37TCN_size_6_area4_info.pth'],\n",
       "  'A-B': ['/data4/Ukraine_img/M_and_L/20220227T082911_20220227T083303_T37TCN2_size_6_area4_info.pth',\n",
       "   '/data4/Ukraine_img/M_and_L/20220309T082801_20220309T083304_T37TCN2_size_6_area4_info.pth'],\n",
       "  'B': ['/data4/Ukraine_img/M_and_L/20220314T082719_20220314T083610_T37TCN2_size_6_area4_info.pth'],\n",
       "  'B-C': ['/data4/Ukraine_img/M_and_L/20220319T082651_20220319T083304_T37TCN2_size_6_area4_info.pth',\n",
       "   '/data4/Ukraine_img/M_and_L/20220324T082609_20220324T083426_T37TCN2_size_6_area4_info.pth',\n",
       "   '/data4/Ukraine_img/M_and_L/20220329T082601_20220329T083216_T37TCN2_size_6_area4_info.pth',\n",
       "   '/data4/Ukraine_img/M_and_L/20220403T082559_20220403T083553_T37TCN2_size_6_area4_info.pth',\n",
       "   '/data4/Ukraine_img/M_and_L/20220428T082611_20220428T083305_T37TCN2_size_6_area4_info.pth',\n",
       "   '/data4/Ukraine_img/M_and_L/20220503T082559_20220503T083512_T37TCN2_size_6_area4_info.pth'],\n",
       "  'C': [],\n",
       "  'C-Z': ['/data4/Ukraine_img/M_and_L/20220508T082611_20220508T083304_T37TCN2_size_6_area4_info.pth',\n",
       "   '/data4/Ukraine_img/M_and_L/20220523T082559_20220523T082946_T37TCN2_size_6_area4_info.pth',\n",
       "   '/data4/Ukraine_img/M_and_L/20220528T082611_20220528T083641_T37TCN2_size_6_area4_info.pth',\n",
       "   '/data4/Ukraine_img/M_and_L/20220602T082559_20220602T082807_T37TCN2_size_6_area4_info.pth',\n",
       "   '/data4/Ukraine_img/M_and_L/20220607T082611_20220607T083435_T37TCN2_size_6_area4_info.pth',\n",
       "   '/data4/Ukraine_img/M_and_L/20220612T082609_20220612T082840_T37TCN2_size_6_area4_info.pth',\n",
       "   '/data4/Ukraine_img/M_and_L/20220617T082611_20220617T083253_T37TCN2_size_6_area4_info.pth',\n",
       "   '/data4/Ukraine_img/M_and_L/20220622T082609_20220622T082834_T37TCN2_size_6_area4_info.pth',\n",
       "   '/data4/Ukraine_img/M_and_L/20220627T082621_20220627T083534_T37TCN2_size_6_area4_info.pth']}}"
      ]
     },
     "execution_count": 17,
     "metadata": {},
     "output_type": "execute_result"
    }
   ],
   "source": [
    "img_pathes"
   ]
  },
  {
   "cell_type": "code",
   "execution_count": 18,
   "metadata": {},
   "outputs": [
    {
     "data": {
      "text/plain": [
       "{'area1': {'A': None,\n",
       "  'B': '/data4/Ukraine_img/M_and_L/Livoberezhyny_B_2022-03-14_size_6_dammask.pth.tar',\n",
       "  'C': '/data4/Ukraine_img/M_and_L/Livoberezhyny_C-Area1_2022-05-12_size_6_dammask.pth.tar',\n",
       "  'Z': None},\n",
       " 'area2': {'A': None,\n",
       "  'B': '/data4/Ukraine_img/M_and_L/Livoberezhyny_B_2022-03-14_size_6_dammask.pth.tar',\n",
       "  'C': '/data4/Ukraine_img/M_and_L/Livoberezhyny_C-Area2_2022-05-08_size_6_dammask.pth.tar',\n",
       "  'Z': None},\n",
       " 'area3': {'A': None,\n",
       "  'B': '/data4/Ukraine_img/M_and_L/Livoberezhyny_B_2022-03-14_size_6_dammask.pth.tar',\n",
       "  'Z': None},\n",
       " 'area4': {'A': None,\n",
       "  'B': '/data4/Ukraine_img/M_and_L/Livoberezhyny_B_2022-03-14_size_6_dammask.pth.tar',\n",
       "  'C': '/data4/Ukraine_img/M_and_L/Livoberezhyny_C-Area1-4_2022-05-07_size_6_dammask.pth.tar',\n",
       "  'Z': None}}"
      ]
     },
     "execution_count": 18,
     "metadata": {},
     "output_type": "execute_result"
    }
   ],
   "source": [
    "dammasks_path"
   ]
  },
  {
   "cell_type": "code",
   "execution_count": 22,
   "metadata": {},
   "outputs": [
    {
     "name": "stdout",
     "output_type": "stream",
     "text": [
      "-------------------------------------\n",
      "['A', 'A-B', 'B', 'B-C', 'C', 'C-Z']\n",
      "\n",
      "\n",
      "A-B\n",
      "loading mask: B\n",
      "/data4/Ukraine_img/M_and_L/Livoberezhyny_B_2022-03-14_size_6_dammask.pth.tar\n"
     ]
    },
    {
     "name": "stderr",
     "output_type": "stream",
     "text": [
      "Clipping input data to the valid range for imshow with RGB data ([0..1] for floats or [0..255] for integers).\n"
     ]
    },
    {
     "name": "stdout",
     "output_type": "stream",
     "text": [
      "load img: A-B\n",
      "['/data4/Ukraine_img/M_and_L/20220227T082911_20220227T083303_T37TCN2_size_6_area1_info.pth', '/data4/Ukraine_img/M_and_L/20220309T082801_20220309T083304_T37TCN2_size_6_area1_info.pth']\n",
      "/data4/Ukraine_img/M_and_L/20220227T082911_20220227T083303_T37TCN2_size_6_area1_info.pth\n"
     ]
    },
    {
     "data": {
      "image/png": "[encoded data removed]",
      "text/plain": [
       "<Figure size 432x288 with 1 Axes>"
      ]
     },
     "metadata": {
      "needs_background": "light"
     },
     "output_type": "display_data"
    },
    {
     "name": "stdout",
     "output_type": "stream",
     "text": [
      "(4, 367, 607, 6, 6)\n",
      "writing samples 84\n"
     ]
    },
    {
     "name": "stderr",
     "output_type": "stream",
     "text": [
      "100%|██████████| 84/84 [00:00<00:00, 69918.94it/s]\n"
     ]
    },
    {
     "name": "stdout",
     "output_type": "stream",
     "text": [
      "/data4/Ukraine_img/M_and_L/20220309T082801_20220309T083304_T37TCN2_size_6_area1_info.pth\n"
     ]
    },
    {
     "name": "stderr",
     "output_type": "stream",
     "text": [
      "Clipping input data to the valid range for imshow with RGB data ([0..1] for floats or [0..255] for integers).\n"
     ]
    },
    {
     "data": {
      "image/png": "[encoded data removed]",
      "text/plain": [
       "<Figure size 432x288 with 1 Axes>"
      ]
     },
     "metadata": {
      "needs_background": "light"
     },
     "output_type": "display_data"
    },
    {
     "name": "stdout",
     "output_type": "stream",
     "text": [
      "(4, 367, 607, 6, 6)\n",
      "writing samples 78\n"
     ]
    },
    {
     "name": "stderr",
     "output_type": "stream",
     "text": [
      "100%|██████████| 78/78 [00:00<00:00, 68947.46it/s]\n"
     ]
    },
    {
     "name": "stdout",
     "output_type": "stream",
     "text": [
      "\n",
      "\n",
      "B\n",
      "loading mask: B\n",
      "/data4/Ukraine_img/M_and_L/Livoberezhyny_B_2022-03-14_size_6_dammask.pth.tar\n",
      "load img: B\n",
      "['/data4/Ukraine_img/M_and_L/20220314T082719_20220314T083610_T37TCN2_size_6_area1_info.pth']\n",
      "/data4/Ukraine_img/M_and_L/20220314T082719_20220314T083610_T37TCN2_size_6_area1_info.pth\n"
     ]
    },
    {
     "name": "stderr",
     "output_type": "stream",
     "text": [
      "Clipping input data to the valid range for imshow with RGB data ([0..1] for floats or [0..255] for integers).\n"
     ]
    },
    {
     "data": {
      "image/png": "[encoded data removed]",
      "text/plain": [
       "<Figure size 432x288 with 1 Axes>"
      ]
     },
     "metadata": {
      "needs_background": "light"
     },
     "output_type": "display_data"
    },
    {
     "name": "stdout",
     "output_type": "stream",
     "text": [
      "(4, 367, 607, 6, 6)\n",
      "writing samples 2954\n"
     ]
    },
    {
     "name": "stderr",
     "output_type": "stream",
     "text": [
      "100%|██████████| 2954/2954 [00:00<00:00, 159944.93it/s]\n"
     ]
    },
    {
     "name": "stdout",
     "output_type": "stream",
     "text": [
      "\n",
      "\n",
      "B-C\n",
      "loading mask: B and C\n",
      "/data4/Ukraine_img/M_and_L/Livoberezhyny_B_2022-03-14_size_6_dammask.pth.tar\n",
      "/data4/Ukraine_img/M_and_L/Livoberezhyny_C-Area1_2022-05-12_size_6_dammask.pth.tar\n"
     ]
    },
    {
     "name": "stderr",
     "output_type": "stream",
     "text": [
      "Clipping input data to the valid range for imshow with RGB data ([0..1] for floats or [0..255] for integers).\n"
     ]
    },
    {
     "name": "stdout",
     "output_type": "stream",
     "text": [
      "load img: B-C\n",
      "['/data4/Ukraine_img/M_and_L/20220319T082651_20220319T083304_T37TCN2_size_6_area1_info.pth', '/data4/Ukraine_img/M_and_L/20220324T082609_20220324T083426_T37TCN2_size_6_area1_info.pth', '/data4/Ukraine_img/M_and_L/20220329T082601_20220329T083216_T37TCN2_size_6_area1_info.pth', '/data4/Ukraine_img/M_and_L/20220403T082559_20220403T083553_T37TCN2_size_6_area1_info.pth', '/data4/Ukraine_img/M_and_L/20220428T082611_20220428T083305_T37TCN2_size_6_area1_info.pth', '/data4/Ukraine_img/M_and_L/20220503T082559_20220503T083512_T37TCN2_size_6_area1_info.pth', '/data4/Ukraine_img/M_and_L/20220508T082611_20220508T083304_T37TCN2_size_6_area1_info.pth']\n",
      "/data4/Ukraine_img/M_and_L/20220319T082651_20220319T083304_T37TCN2_size_6_area1_info.pth\n"
     ]
    },
    {
     "data": {
      "image/png": "[encoded data removed]",
      "text/plain": [
       "<Figure size 432x288 with 1 Axes>"
      ]
     },
     "metadata": {
      "needs_background": "light"
     },
     "output_type": "display_data"
    },
    {
     "name": "stdout",
     "output_type": "stream",
     "text": [
      "(4, 367, 607, 6, 6)\n",
      "writing samples 5135\n"
     ]
    },
    {
     "name": "stderr",
     "output_type": "stream",
     "text": [
      "100%|██████████| 5135/5135 [00:00<00:00, 184795.67it/s]\n"
     ]
    },
    {
     "name": "stdout",
     "output_type": "stream",
     "text": [
      "/data4/Ukraine_img/M_and_L/20220324T082609_20220324T083426_T37TCN2_size_6_area1_info.pth\n"
     ]
    },
    {
     "name": "stderr",
     "output_type": "stream",
     "text": [
      "Clipping input data to the valid range for imshow with RGB data ([0..1] for floats or [0..255] for integers).\n"
     ]
    },
    {
     "data": {
      "image/png": "[encoded data removed]",
      "text/plain": [
       "<Figure size 432x288 with 1 Axes>"
      ]
     },
     "metadata": {
      "needs_background": "light"
     },
     "output_type": "display_data"
    },
    {
     "name": "stdout",
     "output_type": "stream",
     "text": [
      "(4, 367, 607, 6, 6)\n",
      "writing samples 5136\n"
     ]
    },
    {
     "name": "stderr",
     "output_type": "stream",
     "text": [
      "100%|██████████| 5136/5136 [00:00<00:00, 191499.28it/s]\n",
      "Clipping input data to the valid range for imshow with RGB data ([0..1] for floats or [0..255] for integers).\n"
     ]
    },
    {
     "name": "stdout",
     "output_type": "stream",
     "text": [
      "/data4/Ukraine_img/M_and_L/20220329T082601_20220329T083216_T37TCN2_size_6_area1_info.pth\n"
     ]
    },
    {
     "data": {
      "image/png": "[encoded data removed]",
      "text/plain": [
       "<Figure size 432x288 with 1 Axes>"
      ]
     },
     "metadata": {
      "needs_background": "light"
     },
     "output_type": "display_data"
    },
    {
     "name": "stdout",
     "output_type": "stream",
     "text": [
      "(4, 367, 607, 6, 6)\n",
      "writing samples 5136\n"
     ]
    },
    {
     "name": "stderr",
     "output_type": "stream",
     "text": [
      "100%|██████████| 5136/5136 [00:00<00:00, 204611.86it/s]\n"
     ]
    },
    {
     "name": "stdout",
     "output_type": "stream",
     "text": [
      "/data4/Ukraine_img/M_and_L/20220403T082559_20220403T083553_T37TCN2_size_6_area1_info.pth\n"
     ]
    },
    {
     "name": "stderr",
     "output_type": "stream",
     "text": [
      "Clipping input data to the valid range for imshow with RGB data ([0..1] for floats or [0..255] for integers).\n"
     ]
    },
    {
     "data": {
      "image/png": "[encoded data removed]",
      "text/plain": [
       "<Figure size 432x288 with 1 Axes>"
      ]
     },
     "metadata": {
      "needs_background": "light"
     },
     "output_type": "display_data"
    },
    {
     "name": "stdout",
     "output_type": "stream",
     "text": [
      "(4, 367, 607, 6, 6)\n",
      "writing samples 76\n"
     ]
    },
    {
     "name": "stderr",
     "output_type": "stream",
     "text": [
      "100%|██████████| 76/76 [00:00<00:00, 66967.88it/s]\n",
      "Clipping input data to the valid range for imshow with RGB data ([0..1] for floats or [0..255] for integers).\n"
     ]
    },
    {
     "name": "stdout",
     "output_type": "stream",
     "text": [
      "/data4/Ukraine_img/M_and_L/20220428T082611_20220428T083305_T37TCN2_size_6_area1_info.pth\n"
     ]
    },
    {
     "data": {
      "image/png": "[encoded data removed]",
      "text/plain": [
       "<Figure size 432x288 with 1 Axes>"
      ]
     },
     "metadata": {
      "needs_background": "light"
     },
     "output_type": "display_data"
    },
    {
     "name": "stdout",
     "output_type": "stream",
     "text": [
      "(4, 367, 607, 6, 6)\n",
      "writing samples 898\n"
     ]
    },
    {
     "name": "stderr",
     "output_type": "stream",
     "text": [
      "100%|██████████| 898/898 [00:00<00:00, 114507.19it/s]\n"
     ]
    },
    {
     "name": "stdout",
     "output_type": "stream",
     "text": [
      "/data4/Ukraine_img/M_and_L/20220503T082559_20220503T083512_T37TCN2_size_6_area1_info.pth\n"
     ]
    },
    {
     "name": "stderr",
     "output_type": "stream",
     "text": [
      "Clipping input data to the valid range for imshow with RGB data ([0..1] for floats or [0..255] for integers).\n"
     ]
    },
    {
     "data": {
      "image/png": "[encoded data removed]",
      "text/plain": [
       "<Figure size 432x288 with 1 Axes>"
      ]
     },
     "metadata": {
      "needs_background": "light"
     },
     "output_type": "display_data"
    },
    {
     "name": "stdout",
     "output_type": "stream",
     "text": [
      "(4, 367, 607, 6, 6)\n",
      "writing samples 3127\n"
     ]
    },
    {
     "name": "stderr",
     "output_type": "stream",
     "text": [
      "100%|██████████| 3127/3127 [00:00<00:00, 149351.36it/s]\n",
      "Clipping input data to the valid range for imshow with RGB data ([0..1] for floats or [0..255] for integers).\n"
     ]
    },
    {
     "name": "stdout",
     "output_type": "stream",
     "text": [
      "/data4/Ukraine_img/M_and_L/20220508T082611_20220508T083304_T37TCN2_size_6_area1_info.pth\n"
     ]
    },
    {
     "data": {
      "image/png": "[encoded data removed]",
      "text/plain": [
       "<Figure size 432x288 with 1 Axes>"
      ]
     },
     "metadata": {
      "needs_background": "light"
     },
     "output_type": "display_data"
    },
    {
     "name": "stdout",
     "output_type": "stream",
     "text": [
      "(4, 367, 607, 6, 6)\n",
      "writing samples 5136\n"
     ]
    },
    {
     "name": "stderr",
     "output_type": "stream",
     "text": [
      "100%|██████████| 5136/5136 [00:00<00:00, 185154.16it/s]\n"
     ]
    },
    {
     "name": "stdout",
     "output_type": "stream",
     "text": [
      "\n",
      "\n",
      "C\n",
      "loading mask: C\n",
      "/data4/Ukraine_img/M_and_L/Livoberezhyny_C-Area1_2022-05-12_size_6_dammask.pth.tar\n",
      "\n",
      "\n",
      "C-Z\n",
      "loading mask: C\n",
      "/data4/Ukraine_img/M_and_L/Livoberezhyny_C-Area1_2022-05-12_size_6_dammask.pth.tar\n"
     ]
    },
    {
     "name": "stderr",
     "output_type": "stream",
     "text": [
      "Clipping input data to the valid range for imshow with RGB data ([0..1] for floats or [0..255] for integers).\n"
     ]
    },
    {
     "name": "stdout",
     "output_type": "stream",
     "text": [
      "load img: C-Z\n",
      "['/data4/Ukraine_img/M_and_L/20220523T082559_20220523T082946_T37TCN2_size_6_area1_info.pth', '/data4/Ukraine_img/M_and_L/20220528T082611_20220528T083641_T37TCN2_size_6_area1_info.pth', '/data4/Ukraine_img/M_and_L/20220602T082559_20220602T082807_T37TCN2_size_6_area1_info.pth', '/data4/Ukraine_img/M_and_L/20220607T082611_20220607T083435_T37TCN2_size_6_area1_info.pth', '/data4/Ukraine_img/M_and_L/20220612T082609_20220612T082840_T37TCN2_size_6_area1_info.pth', '/data4/Ukraine_img/M_and_L/20220617T082611_20220617T083253_T37TCN2_size_6_area1_info.pth', '/data4/Ukraine_img/M_and_L/20220622T082609_20220622T082834_T37TCN2_size_6_area1_info.pth', '/data4/Ukraine_img/M_and_L/20220627T082621_20220627T083534_T37TCN2_size_6_area1_info.pth']\n",
      "/data4/Ukraine_img/M_and_L/20220523T082559_20220523T082946_T37TCN2_size_6_area1_info.pth\n"
     ]
    },
    {
     "data": {
      "image/png": "[encoded data removed]",
      "text/plain": [
       "<Figure size 432x288 with 1 Axes>"
      ]
     },
     "metadata": {
      "needs_background": "light"
     },
     "output_type": "display_data"
    },
    {
     "name": "stdout",
     "output_type": "stream",
     "text": [
      "(4, 367, 607, 6, 6)\n",
      "writing samples 878\n"
     ]
    },
    {
     "name": "stderr",
     "output_type": "stream",
     "text": [
      "100%|██████████| 878/878 [00:00<00:00, 118248.05it/s]\n",
      "Clipping input data to the valid range for imshow with RGB data ([0..1] for floats or [0..255] for integers).\n"
     ]
    },
    {
     "name": "stdout",
     "output_type": "stream",
     "text": [
      "/data4/Ukraine_img/M_and_L/20220528T082611_20220528T083641_T37TCN2_size_6_area1_info.pth\n"
     ]
    },
    {
     "data": {
      "image/png": "[encoded data removed]",
      "text/plain": [
       "<Figure size 432x288 with 1 Axes>"
      ]
     },
     "metadata": {
      "needs_background": "light"
     },
     "output_type": "display_data"
    },
    {
     "name": "stdout",
     "output_type": "stream",
     "text": [
      "(4, 367, 607, 6, 6)\n",
      "writing samples 5243\n"
     ]
    },
    {
     "name": "stderr",
     "output_type": "stream",
     "text": [
      "100%|██████████| 5243/5243 [00:00<00:00, 193759.51it/s]\n",
      "Clipping input data to the valid range for imshow with RGB data ([0..1] for floats or [0..255] for integers).\n"
     ]
    },
    {
     "name": "stdout",
     "output_type": "stream",
     "text": [
      "/data4/Ukraine_img/M_and_L/20220602T082559_20220602T082807_T37TCN2_size_6_area1_info.pth\n"
     ]
    },
    {
     "data": {
      "image/png": "[encoded data removed]",
      "text/plain": [
       "<Figure size 432x288 with 1 Axes>"
      ]
     },
     "metadata": {
      "needs_background": "light"
     },
     "output_type": "display_data"
    },
    {
     "name": "stdout",
     "output_type": "stream",
     "text": [
      "(4, 367, 607, 6, 6)\n",
      "writing samples 5243\n"
     ]
    },
    {
     "name": "stderr",
     "output_type": "stream",
     "text": [
      "100%|██████████| 5243/5243 [00:00<00:00, 199287.12it/s]\n"
     ]
    },
    {
     "name": "stdout",
     "output_type": "stream",
     "text": [
      "/data4/Ukraine_img/M_and_L/20220607T082611_20220607T083435_T37TCN2_size_6_area1_info.pth\n"
     ]
    },
    {
     "name": "stderr",
     "output_type": "stream",
     "text": [
      "Clipping input data to the valid range for imshow with RGB data ([0..1] for floats or [0..255] for integers).\n"
     ]
    },
    {
     "data": {
      "image/png": "[encoded data removed]",
      "text/plain": [
       "<Figure size 432x288 with 1 Axes>"
      ]
     },
     "metadata": {
      "needs_background": "light"
     },
     "output_type": "display_data"
    },
    {
     "name": "stdout",
     "output_type": "stream",
     "text": [
      "(4, 367, 607, 6, 6)\n",
      "writing samples 5243\n"
     ]
    },
    {
     "name": "stderr",
     "output_type": "stream",
     "text": [
      "100%|██████████| 5243/5243 [00:00<00:00, 197680.20it/s]\n",
      "Clipping input data to the valid range for imshow with RGB data ([0..1] for floats or [0..255] for integers).\n"
     ]
    },
    {
     "name": "stdout",
     "output_type": "stream",
     "text": [
      "/data4/Ukraine_img/M_and_L/20220612T082609_20220612T082840_T37TCN2_size_6_area1_info.pth\n"
     ]
    },
    {
     "data": {
      "image/png": "[encoded data removed]",
      "text/plain": [
       "<Figure size 432x288 with 1 Axes>"
      ]
     },
     "metadata": {
      "needs_background": "light"
     },
     "output_type": "display_data"
    },
    {
     "name": "stdout",
     "output_type": "stream",
     "text": [
      "(4, 367, 607, 6, 6)\n",
      "writing samples 3249\n"
     ]
    },
    {
     "name": "stderr",
     "output_type": "stream",
     "text": [
      "100%|██████████| 3249/3249 [00:00<00:00, 157519.12it/s]\n",
      "Clipping input data to the valid range for imshow with RGB data ([0..1] for floats or [0..255] for integers).\n"
     ]
    },
    {
     "name": "stdout",
     "output_type": "stream",
     "text": [
      "/data4/Ukraine_img/M_and_L/20220617T082611_20220617T083253_T37TCN2_size_6_area1_info.pth\n"
     ]
    },
    {
     "data": {
      "image/png": "[encoded data removed]",
      "text/plain": [
       "<Figure size 432x288 with 1 Axes>"
      ]
     },
     "metadata": {
      "needs_background": "light"
     },
     "output_type": "display_data"
    },
    {
     "name": "stdout",
     "output_type": "stream",
     "text": [
      "(4, 367, 607, 6, 6)\n",
      "writing samples 4886\n"
     ]
    },
    {
     "name": "stderr",
     "output_type": "stream",
     "text": [
      "100%|██████████| 4886/4886 [00:00<00:00, 199989.94it/s]\n",
      "Clipping input data to the valid range for imshow with RGB data ([0..1] for floats or [0..255] for integers).\n"
     ]
    },
    {
     "name": "stdout",
     "output_type": "stream",
     "text": [
      "/data4/Ukraine_img/M_and_L/20220622T082609_20220622T082834_T37TCN2_size_6_area1_info.pth\n"
     ]
    },
    {
     "data": {
      "image/png": "[encoded data removed]",
      "text/plain": [
       "<Figure size 432x288 with 1 Axes>"
      ]
     },
     "metadata": {
      "needs_background": "light"
     },
     "output_type": "display_data"
    },
    {
     "name": "stdout",
     "output_type": "stream",
     "text": [
      "(4, 367, 607, 6, 6)\n",
      "writing samples 868\n"
     ]
    },
    {
     "name": "stderr",
     "output_type": "stream",
     "text": [
      "100%|██████████| 868/868 [00:00<00:00, 119049.60it/s]\n"
     ]
    },
    {
     "name": "stdout",
     "output_type": "stream",
     "text": [
      "/data4/Ukraine_img/M_and_L/20220627T082621_20220627T083534_T37TCN2_size_6_area1_info.pth\n"
     ]
    },
    {
     "data": {
      "image/png": "[encoded data removed]",
      "text/plain": [
       "<Figure size 432x288 with 1 Axes>"
      ]
     },
     "metadata": {
      "needs_background": "light"
     },
     "output_type": "display_data"
    },
    {
     "name": "stdout",
     "output_type": "stream",
     "text": [
      "(4, 367, 607, 6, 6)\n",
      "writing samples 0\n"
     ]
    },
    {
     "name": "stderr",
     "output_type": "stream",
     "text": [
      "0it [00:00, ?it/s]\n"
     ]
    },
    {
     "name": "stdout",
     "output_type": "stream",
     "text": [
      "-------------------------------------\n",
      "['A', 'A-B', 'B', 'B-C', 'C', 'C-Z']\n",
      "\n",
      "\n",
      "A-B\n",
      "loading mask: B\n",
      "/data4/Ukraine_img/M_and_L/Livoberezhyny_B_2022-03-14_size_6_dammask.pth.tar\n"
     ]
    },
    {
     "name": "stderr",
     "output_type": "stream",
     "text": [
      "Clipping input data to the valid range for imshow with RGB data ([0..1] for floats or [0..255] for integers).\n"
     ]
    },
    {
     "name": "stdout",
     "output_type": "stream",
     "text": [
      "load img: A-B\n",
      "['/data4/Ukraine_img/M_and_L/20220227T082911_20220227T083303_T37TCN2_size_6_area2_info.pth', '/data4/Ukraine_img/M_and_L/20220309T082801_20220309T083304_T37TCN2_size_6_area2_info.pth']\n",
      "/data4/Ukraine_img/M_and_L/20220227T082911_20220227T083303_T37TCN2_size_6_area2_info.pth\n"
     ]
    },
    {
     "data": {
      "image/png": "[encoded data removed]",
      "text/plain": [
       "<Figure size 432x288 with 1 Axes>"
      ]
     },
     "metadata": {
      "needs_background": "light"
     },
     "output_type": "display_data"
    },
    {
     "name": "stdout",
     "output_type": "stream",
     "text": [
      "(4, 367, 607, 6, 6)\n",
      "writing samples 318\n"
     ]
    },
    {
     "name": "stderr",
     "output_type": "stream",
     "text": [
      "100%|██████████| 318/318 [00:00<00:00, 100998.69it/s]\n",
      "Clipping input data to the valid range for imshow with RGB data ([0..1] for floats or [0..255] for integers).\n"
     ]
    },
    {
     "name": "stdout",
     "output_type": "stream",
     "text": [
      "/data4/Ukraine_img/M_and_L/20220309T082801_20220309T083304_T37TCN2_size_6_area2_info.pth\n"
     ]
    },
    {
     "data": {
      "image/png": "[encoded data removed]",
      "text/plain": [
       "<Figure size 432x288 with 1 Axes>"
      ]
     },
     "metadata": {
      "needs_background": "light"
     },
     "output_type": "display_data"
    },
    {
     "name": "stdout",
     "output_type": "stream",
     "text": [
      "(4, 367, 607, 6, 6)\n",
      "writing samples 923\n"
     ]
    },
    {
     "name": "stderr",
     "output_type": "stream",
     "text": [
      "100%|██████████| 923/923 [00:00<00:00, 114519.82it/s]\n"
     ]
    },
    {
     "name": "stdout",
     "output_type": "stream",
     "text": [
      "\n",
      "\n",
      "B\n",
      "loading mask: B\n",
      "/data4/Ukraine_img/M_and_L/Livoberezhyny_B_2022-03-14_size_6_dammask.pth.tar\n",
      "load img: B\n",
      "['/data4/Ukraine_img/M_and_L/20220314T082719_20220314T083610_T37TCN2_size_6_area2_info.pth']\n",
      "/data4/Ukraine_img/M_and_L/20220314T082719_20220314T083610_T37TCN2_size_6_area2_info.pth\n"
     ]
    },
    {
     "name": "stderr",
     "output_type": "stream",
     "text": [
      "Clipping input data to the valid range for imshow with RGB data ([0..1] for floats or [0..255] for integers).\n"
     ]
    },
    {
     "data": {
      "image/png": "[encoded data removed]",
      "text/plain": [
       "<Figure size 432x288 with 1 Axes>"
      ]
     },
     "metadata": {
      "needs_background": "light"
     },
     "output_type": "display_data"
    },
    {
     "name": "stdout",
     "output_type": "stream",
     "text": [
      "(4, 367, 607, 6, 6)\n",
      "writing samples 3464\n"
     ]
    },
    {
     "name": "stderr",
     "output_type": "stream",
     "text": [
      "100%|██████████| 3464/3464 [00:00<00:00, 157635.09it/s]\n"
     ]
    },
    {
     "name": "stdout",
     "output_type": "stream",
     "text": [
      "\n",
      "\n",
      "B-C\n",
      "loading mask: B and C\n",
      "/data4/Ukraine_img/M_and_L/Livoberezhyny_B_2022-03-14_size_6_dammask.pth.tar\n",
      "/data4/Ukraine_img/M_and_L/Livoberezhyny_C-Area2_2022-05-08_size_6_dammask.pth.tar\n",
      "load img: B-C\n",
      "['/data4/Ukraine_img/M_and_L/20220319T082651_20220319T083304_T37TCN2_size_6_area2_info.pth', '/data4/Ukraine_img/M_and_L/20220324T082609_20220324T083426_T37TCN2_size_6_area2_info.pth', '/data4/Ukraine_img/M_and_L/20220329T082601_20220329T083216_T37TCN2_size_6_area2_info.pth', '/data4/Ukraine_img/M_and_L/20220403T082559_20220403T083553_T37TCN2_size_6_area2_info.pth', '/data4/Ukraine_img/M_and_L/20220428T082611_20220428T083305_T37TCN2_size_6_area2_info.pth', '/data4/Ukraine_img/M_and_L/20220503T082559_20220503T083512_T37TCN2_size_6_area2_info.pth']\n",
      "/data4/Ukraine_img/M_and_L/20220319T082651_20220319T083304_T37TCN2_size_6_area2_info.pth\n"
     ]
    },
    {
     "name": "stderr",
     "output_type": "stream",
     "text": [
      "Clipping input data to the valid range for imshow with RGB data ([0..1] for floats or [0..255] for integers).\n"
     ]
    },
    {
     "data": {
      "image/png": "[encoded data removed]",
      "text/plain": [
       "<Figure size 432x288 with 1 Axes>"
      ]
     },
     "metadata": {
      "needs_background": "light"
     },
     "output_type": "display_data"
    },
    {
     "name": "stdout",
     "output_type": "stream",
     "text": [
      "(4, 367, 607, 6, 6)\n",
      "writing samples 4272\n"
     ]
    },
    {
     "name": "stderr",
     "output_type": "stream",
     "text": [
      "100%|██████████| 4272/4272 [00:00<00:00, 176228.83it/s]\n"
     ]
    },
    {
     "name": "stdout",
     "output_type": "stream",
     "text": [
      "/data4/Ukraine_img/M_and_L/20220324T082609_20220324T083426_T37TCN2_size_6_area2_info.pth\n"
     ]
    },
    {
     "name": "stderr",
     "output_type": "stream",
     "text": [
      "Clipping input data to the valid range for imshow with RGB data ([0..1] for floats or [0..255] for integers).\n"
     ]
    },
    {
     "data": {
      "image/png": "[encoded data removed]",
      "text/plain": [
       "<Figure size 432x288 with 1 Axes>"
      ]
     },
     "metadata": {
      "needs_background": "light"
     },
     "output_type": "display_data"
    },
    {
     "name": "stdout",
     "output_type": "stream",
     "text": [
      "(4, 367, 607, 6, 6)\n",
      "writing samples 4272\n"
     ]
    },
    {
     "name": "stderr",
     "output_type": "stream",
     "text": [
      "100%|██████████| 4272/4272 [00:00<00:00, 192070.52it/s]\n"
     ]
    },
    {
     "name": "stdout",
     "output_type": "stream",
     "text": [
      "/data4/Ukraine_img/M_and_L/20220329T082601_20220329T083216_T37TCN2_size_6_area2_info.pth\n"
     ]
    },
    {
     "name": "stderr",
     "output_type": "stream",
     "text": [
      "Clipping input data to the valid range for imshow with RGB data ([0..1] for floats or [0..255] for integers).\n"
     ]
    },
    {
     "data": {
      "image/png": "[encoded data removed]",
      "text/plain": [
       "<Figure size 432x288 with 1 Axes>"
      ]
     },
     "metadata": {
      "needs_background": "light"
     },
     "output_type": "display_data"
    },
    {
     "name": "stdout",
     "output_type": "stream",
     "text": [
      "(4, 367, 607, 6, 6)\n",
      "writing samples 4120\n"
     ]
    },
    {
     "name": "stderr",
     "output_type": "stream",
     "text": [
      "100%|██████████| 4120/4120 [00:00<00:00, 187676.84it/s]\n"
     ]
    },
    {
     "name": "stdout",
     "output_type": "stream",
     "text": [
      "/data4/Ukraine_img/M_and_L/20220403T082559_20220403T083553_T37TCN2_size_6_area2_info.pth\n"
     ]
    },
    {
     "data": {
      "image/png": "[encoded data removed]",
      "text/plain": [
       "<Figure size 432x288 with 1 Axes>"
      ]
     },
     "metadata": {
      "needs_background": "light"
     },
     "output_type": "display_data"
    },
    {
     "name": "stdout",
     "output_type": "stream",
     "text": [
      "(4, 367, 607, 6, 6)\n",
      "writing samples 0\n"
     ]
    },
    {
     "name": "stderr",
     "output_type": "stream",
     "text": [
      "0it [00:00, ?it/s]\n"
     ]
    },
    {
     "name": "stdout",
     "output_type": "stream",
     "text": [
      "/data4/Ukraine_img/M_and_L/20220428T082611_20220428T083305_T37TCN2_size_6_area2_info.pth\n"
     ]
    },
    {
     "name": "stderr",
     "output_type": "stream",
     "text": [
      "Clipping input data to the valid range for imshow with RGB data ([0..1] for floats or [0..255] for integers).\n"
     ]
    },
    {
     "data": {
      "image/png": "[encoded data removed]",
      "text/plain": [
       "<Figure size 432x288 with 1 Axes>"
      ]
     },
     "metadata": {
      "needs_background": "light"
     },
     "output_type": "display_data"
    },
    {
     "name": "stdout",
     "output_type": "stream",
     "text": [
      "(4, 367, 607, 6, 6)\n",
      "writing samples 452\n"
     ]
    },
    {
     "name": "stderr",
     "output_type": "stream",
     "text": [
      "100%|██████████| 452/452 [00:00<00:00, 109635.98it/s]\n"
     ]
    },
    {
     "name": "stdout",
     "output_type": "stream",
     "text": [
      "/data4/Ukraine_img/M_and_L/20220503T082559_20220503T083512_T37TCN2_size_6_area2_info.pth\n"
     ]
    },
    {
     "name": "stderr",
     "output_type": "stream",
     "text": [
      "Clipping input data to the valid range for imshow with RGB data ([0..1] for floats or [0..255] for integers).\n"
     ]
    },
    {
     "data": {
      "image/png": "[encoded data removed]",
      "text/plain": [
       "<Figure size 432x288 with 1 Axes>"
      ]
     },
     "metadata": {
      "needs_background": "light"
     },
     "output_type": "display_data"
    },
    {
     "name": "stdout",
     "output_type": "stream",
     "text": [
      "(4, 367, 607, 6, 6)\n",
      "writing samples 833\n"
     ]
    },
    {
     "name": "stderr",
     "output_type": "stream",
     "text": [
      "100%|██████████| 833/833 [00:00<00:00, 114211.87it/s]\n"
     ]
    },
    {
     "name": "stdout",
     "output_type": "stream",
     "text": [
      "\n",
      "\n",
      "C\n",
      "loading mask: C\n",
      "/data4/Ukraine_img/M_and_L/Livoberezhyny_C-Area2_2022-05-08_size_6_dammask.pth.tar\n"
     ]
    },
    {
     "name": "stderr",
     "output_type": "stream",
     "text": [
      "Clipping input data to the valid range for imshow with RGB data ([0..1] for floats or [0..255] for integers).\n"
     ]
    },
    {
     "name": "stdout",
     "output_type": "stream",
     "text": [
      "load img: C\n",
      "['/data4/Ukraine_img/M_and_L/20220508T082611_20220508T083304_T37TCN2_size_6_area2_info.pth']\n",
      "/data4/Ukraine_img/M_and_L/20220508T082611_20220508T083304_T37TCN2_size_6_area2_info.pth\n"
     ]
    },
    {
     "data": {
      "image/png": "[encoded data removed]",
      "text/plain": [
       "<Figure size 432x288 with 1 Axes>"
      ]
     },
     "metadata": {
      "needs_background": "light"
     },
     "output_type": "display_data"
    },
    {
     "name": "stdout",
     "output_type": "stream",
     "text": [
      "(4, 367, 607, 6, 6)\n",
      "writing samples 4347\n"
     ]
    },
    {
     "name": "stderr",
     "output_type": "stream",
     "text": [
      "100%|██████████| 4347/4347 [00:00<00:00, 192080.23it/s]\n"
     ]
    },
    {
     "name": "stdout",
     "output_type": "stream",
     "text": [
      "\n",
      "\n",
      "C-Z\n",
      "loading mask: C\n",
      "/data4/Ukraine_img/M_and_L/Livoberezhyny_C-Area2_2022-05-08_size_6_dammask.pth.tar\n",
      "load img: C-Z\n",
      "['/data4/Ukraine_img/M_and_L/20220523T082559_20220523T082946_T37TCN2_size_6_area2_info.pth', '/data4/Ukraine_img/M_and_L/20220528T082611_20220528T083641_T37TCN2_size_6_area2_info.pth', '/data4/Ukraine_img/M_and_L/20220602T082559_20220602T082807_T37TCN2_size_6_area2_info.pth', '/data4/Ukraine_img/M_and_L/20220607T082611_20220607T083435_T37TCN2_size_6_area2_info.pth', '/data4/Ukraine_img/M_and_L/20220612T082609_20220612T082840_T37TCN2_size_6_area2_info.pth', '/data4/Ukraine_img/M_and_L/20220617T082611_20220617T083253_T37TCN2_size_6_area2_info.pth', '/data4/Ukraine_img/M_and_L/20220622T082609_20220622T082834_T37TCN2_size_6_area2_info.pth', '/data4/Ukraine_img/M_and_L/20220627T082621_20220627T083534_T37TCN2_size_6_area2_info.pth']\n",
      "/data4/Ukraine_img/M_and_L/20220523T082559_20220523T082946_T37TCN2_size_6_area2_info.pth\n"
     ]
    },
    {
     "name": "stderr",
     "output_type": "stream",
     "text": [
      "Clipping input data to the valid range for imshow with RGB data ([0..1] for floats or [0..255] for integers).\n"
     ]
    },
    {
     "data": {
      "image/png": "[encoded data removed]",
      "text/plain": [
       "<Figure size 432x288 with 1 Axes>"
      ]
     },
     "metadata": {
      "needs_background": "light"
     },
     "output_type": "display_data"
    },
    {
     "name": "stdout",
     "output_type": "stream",
     "text": [
      "(4, 367, 607, 6, 6)\n",
      "writing samples 742\n"
     ]
    },
    {
     "name": "stderr",
     "output_type": "stream",
     "text": [
      "100%|██████████| 742/742 [00:00<00:00, 117409.50it/s]\n"
     ]
    },
    {
     "name": "stdout",
     "output_type": "stream",
     "text": [
      "/data4/Ukraine_img/M_and_L/20220528T082611_20220528T083641_T37TCN2_size_6_area2_info.pth\n"
     ]
    },
    {
     "name": "stderr",
     "output_type": "stream",
     "text": [
      "Clipping input data to the valid range for imshow with RGB data ([0..1] for floats or [0..255] for integers).\n"
     ]
    },
    {
     "data": {
      "image/png": "[encoded data removed]",
      "text/plain": [
       "<Figure size 432x288 with 1 Axes>"
      ]
     },
     "metadata": {
      "needs_background": "light"
     },
     "output_type": "display_data"
    },
    {
     "name": "stdout",
     "output_type": "stream",
     "text": [
      "(4, 367, 607, 6, 6)\n",
      "writing samples 4347\n"
     ]
    },
    {
     "name": "stderr",
     "output_type": "stream",
     "text": [
      "100%|██████████| 4347/4347 [00:00<00:00, 187185.74it/s]\n"
     ]
    },
    {
     "name": "stdout",
     "output_type": "stream",
     "text": [
      "/data4/Ukraine_img/M_and_L/20220602T082559_20220602T082807_T37TCN2_size_6_area2_info.pth\n"
     ]
    },
    {
     "name": "stderr",
     "output_type": "stream",
     "text": [
      "Clipping input data to the valid range for imshow with RGB data ([0..1] for floats or [0..255] for integers).\n"
     ]
    },
    {
     "data": {
      "image/png": "[encoded data removed]",
      "text/plain": [
       "<Figure size 432x288 with 1 Axes>"
      ]
     },
     "metadata": {
      "needs_background": "light"
     },
     "output_type": "display_data"
    },
    {
     "name": "stdout",
     "output_type": "stream",
     "text": [
      "(4, 367, 607, 6, 6)\n",
      "writing samples 4347\n"
     ]
    },
    {
     "name": "stderr",
     "output_type": "stream",
     "text": [
      "100%|██████████| 4347/4347 [00:00<00:00, 195233.27it/s]\n",
      "Clipping input data to the valid range for imshow with RGB data ([0..1] for floats or [0..255] for integers).\n"
     ]
    },
    {
     "name": "stdout",
     "output_type": "stream",
     "text": [
      "/data4/Ukraine_img/M_and_L/20220607T082611_20220607T083435_T37TCN2_size_6_area2_info.pth\n"
     ]
    },
    {
     "data": {
      "image/png": "[encoded data removed]",
      "text/plain": [
       "<Figure size 432x288 with 1 Axes>"
      ]
     },
     "metadata": {
      "needs_background": "light"
     },
     "output_type": "display_data"
    },
    {
     "name": "stdout",
     "output_type": "stream",
     "text": [
      "(4, 367, 607, 6, 6)\n",
      "writing samples 4344\n"
     ]
    },
    {
     "name": "stderr",
     "output_type": "stream",
     "text": [
      "100%|██████████| 4344/4344 [00:00<00:00, 174660.47it/s]\n"
     ]
    },
    {
     "name": "stdout",
     "output_type": "stream",
     "text": [
      "/data4/Ukraine_img/M_and_L/20220612T082609_20220612T082840_T37TCN2_size_6_area2_info.pth\n"
     ]
    },
    {
     "name": "stderr",
     "output_type": "stream",
     "text": [
      "Clipping input data to the valid range for imshow with RGB data ([0..1] for floats or [0..255] for integers).\n"
     ]
    },
    {
     "data": {
      "image/png": "[encoded data removed]",
      "text/plain": [
       "<Figure size 432x288 with 1 Axes>"
      ]
     },
     "metadata": {
      "needs_background": "light"
     },
     "output_type": "display_data"
    },
    {
     "name": "stdout",
     "output_type": "stream",
     "text": [
      "(4, 367, 607, 6, 6)\n",
      "writing samples 4191\n"
     ]
    },
    {
     "name": "stderr",
     "output_type": "stream",
     "text": [
      "100%|██████████| 4191/4191 [00:00<00:00, 172836.42it/s]\n",
      "Clipping input data to the valid range for imshow with RGB data ([0..1] for floats or [0..255] for integers).\n"
     ]
    },
    {
     "name": "stdout",
     "output_type": "stream",
     "text": [
      "/data4/Ukraine_img/M_and_L/20220617T082611_20220617T083253_T37TCN2_size_6_area2_info.pth\n"
     ]
    },
    {
     "data": {
      "image/png": "[encoded data removed]",
      "text/plain": [
       "<Figure size 432x288 with 1 Axes>"
      ]
     },
     "metadata": {
      "needs_background": "light"
     },
     "output_type": "display_data"
    },
    {
     "name": "stdout",
     "output_type": "stream",
     "text": [
      "(4, 367, 607, 6, 6)\n",
      "writing samples 4347\n"
     ]
    },
    {
     "name": "stderr",
     "output_type": "stream",
     "text": [
      "100%|██████████| 4347/4347 [00:00<00:00, 169795.49it/s]\n"
     ]
    },
    {
     "name": "stdout",
     "output_type": "stream",
     "text": [
      "/data4/Ukraine_img/M_and_L/20220622T082609_20220622T082834_T37TCN2_size_6_area2_info.pth\n"
     ]
    },
    {
     "data": {
      "image/png": "[encoded data removed]",
      "text/plain": [
       "<Figure size 432x288 with 1 Axes>"
      ]
     },
     "metadata": {
      "needs_background": "light"
     },
     "output_type": "display_data"
    },
    {
     "name": "stdout",
     "output_type": "stream",
     "text": [
      "(4, 367, 607, 6, 6)\n",
      "writing samples 0\n"
     ]
    },
    {
     "name": "stderr",
     "output_type": "stream",
     "text": [
      "0it [00:00, ?it/s]\n"
     ]
    },
    {
     "name": "stdout",
     "output_type": "stream",
     "text": [
      "/data4/Ukraine_img/M_and_L/20220627T082621_20220627T083534_T37TCN2_size_6_area2_info.pth\n"
     ]
    },
    {
     "data": {
      "image/png": "[encoded data removed]",
      "text/plain": [
       "<Figure size 432x288 with 1 Axes>"
      ]
     },
     "metadata": {
      "needs_background": "light"
     },
     "output_type": "display_data"
    },
    {
     "name": "stdout",
     "output_type": "stream",
     "text": [
      "(4, 367, 607, 6, 6)\n",
      "writing samples 0\n"
     ]
    },
    {
     "name": "stderr",
     "output_type": "stream",
     "text": [
      "0it [00:00, ?it/s]\n"
     ]
    },
    {
     "name": "stdout",
     "output_type": "stream",
     "text": [
      "-------------------------------------\n",
      "['A', 'A-B', 'B', 'B-Z']\n",
      "\n",
      "\n",
      "A-B\n",
      "loading mask: B\n",
      "/data4/Ukraine_img/M_and_L/Livoberezhyny_B_2022-03-14_size_6_dammask.pth.tar\n"
     ]
    },
    {
     "name": "stderr",
     "output_type": "stream",
     "text": [
      "Clipping input data to the valid range for imshow with RGB data ([0..1] for floats or [0..255] for integers).\n"
     ]
    },
    {
     "name": "stdout",
     "output_type": "stream",
     "text": [
      "load img: A-B\n",
      "['/data4/Ukraine_img/M_and_L/20220227T082911_20220227T083303_T37TCN2_size_6_area3_info.pth', '/data4/Ukraine_img/M_and_L/20220309T082801_20220309T083304_T37TCN2_size_6_area3_info.pth']\n",
      "/data4/Ukraine_img/M_and_L/20220227T082911_20220227T083303_T37TCN2_size_6_area3_info.pth\n"
     ]
    },
    {
     "data": {
      "image/png": "[encoded data removed]",
      "text/plain": [
       "<Figure size 432x288 with 1 Axes>"
      ]
     },
     "metadata": {
      "needs_background": "light"
     },
     "output_type": "display_data"
    },
    {
     "name": "stdout",
     "output_type": "stream",
     "text": [
      "(4, 367, 607, 6, 6)\n",
      "writing samples 343\n"
     ]
    },
    {
     "name": "stderr",
     "output_type": "stream",
     "text": [
      "100%|██████████| 343/343 [00:00<00:00, 104113.93it/s]\n",
      "Clipping input data to the valid range for imshow with RGB data ([0..1] for floats or [0..255] for integers).\n"
     ]
    },
    {
     "name": "stdout",
     "output_type": "stream",
     "text": [
      "/data4/Ukraine_img/M_and_L/20220309T082801_20220309T083304_T37TCN2_size_6_area3_info.pth\n"
     ]
    },
    {
     "data": {
      "image/png": "[encoded data removed]",
      "text/plain": [
       "<Figure size 432x288 with 1 Axes>"
      ]
     },
     "metadata": {
      "needs_background": "light"
     },
     "output_type": "display_data"
    },
    {
     "name": "stdout",
     "output_type": "stream",
     "text": [
      "(4, 367, 607, 6, 6)\n",
      "writing samples 396\n"
     ]
    },
    {
     "name": "stderr",
     "output_type": "stream",
     "text": [
      "100%|██████████| 396/396 [00:00<00:00, 93253.85it/s]\n"
     ]
    },
    {
     "name": "stdout",
     "output_type": "stream",
     "text": [
      "\n",
      "\n",
      "B\n",
      "loading mask: B\n",
      "/data4/Ukraine_img/M_and_L/Livoberezhyny_B_2022-03-14_size_6_dammask.pth.tar\n",
      "load img: B\n",
      "['/data4/Ukraine_img/M_and_L/20220314T082719_20220314T083610_T37TCN2_size_6_area3_info.pth']\n",
      "/data4/Ukraine_img/M_and_L/20220314T082719_20220314T083610_T37TCN2_size_6_area3_info.pth\n"
     ]
    },
    {
     "name": "stderr",
     "output_type": "stream",
     "text": [
      "Clipping input data to the valid range for imshow with RGB data ([0..1] for floats or [0..255] for integers).\n"
     ]
    },
    {
     "data": {
      "image/png": "[encoded data removed]",
      "text/plain": [
       "<Figure size 432x288 with 1 Axes>"
      ]
     },
     "metadata": {
      "needs_background": "light"
     },
     "output_type": "display_data"
    },
    {
     "name": "stdout",
     "output_type": "stream",
     "text": [
      "(4, 367, 607, 6, 6)\n",
      "writing samples 1587\n"
     ]
    },
    {
     "name": "stderr",
     "output_type": "stream",
     "text": [
      "100%|██████████| 1587/1587 [00:00<00:00, 133028.77it/s]\n"
     ]
    },
    {
     "name": "stdout",
     "output_type": "stream",
     "text": [
      "\n",
      "\n",
      "B-Z\n",
      "loading mask: B\n",
      "/data4/Ukraine_img/M_and_L/Livoberezhyny_B_2022-03-14_size_6_dammask.pth.tar\n",
      "load img: B-Z\n",
      "['/data4/Ukraine_img/M_and_L/20220319T082651_20220319T083304_T37TCN2_size_6_area3_info.pth', '/data4/Ukraine_img/M_and_L/20220324T082609_20220324T083426_T37TCN2_size_6_area3_info.pth', '/data4/Ukraine_img/M_and_L/20220329T082601_20220329T083216_T37TCN2_size_6_area3_info.pth', '/data4/Ukraine_img/M_and_L/20220403T082559_20220403T083553_T37TCN2_size_6_area3_info.pth', '/data4/Ukraine_img/M_and_L/20220428T082611_20220428T083305_T37TCN2_size_6_area3_info.pth', '/data4/Ukraine_img/M_and_L/20220503T082559_20220503T083512_T37TCN2_size_6_area3_info.pth', '/data4/Ukraine_img/M_and_L/20220508T082611_20220508T083304_T37TCN2_size_6_area3_info.pth', '/data4/Ukraine_img/M_and_L/20220523T082559_20220523T082946_T37TCN2_size_6_area3_info.pth', '/data4/Ukraine_img/M_and_L/20220528T082611_20220528T083641_T37TCN2_size_6_area3_info.pth', '/data4/Ukraine_img/M_and_L/20220602T082559_20220602T082807_T37TCN2_size_6_area3_info.pth', '/data4/Ukraine_img/M_and_L/20220607T082611_20220607T083435_T37TCN2_size_6_area3_info.pth', '/data4/Ukraine_img/M_and_L/20220612T082609_20220612T082840_T37TCN2_size_6_area3_info.pth', '/data4/Ukraine_img/M_and_L/20220617T082611_20220617T083253_T37TCN2_size_6_area3_info.pth', '/data4/Ukraine_img/M_and_L/20220622T082609_20220622T082834_T37TCN2_size_6_area3_info.pth', '/data4/Ukraine_img/M_and_L/20220627T082621_20220627T083534_T37TCN2_size_6_area3_info.pth']\n",
      "/data4/Ukraine_img/M_and_L/20220319T082651_20220319T083304_T37TCN2_size_6_area3_info.pth\n"
     ]
    },
    {
     "name": "stderr",
     "output_type": "stream",
     "text": [
      "Clipping input data to the valid range for imshow with RGB data ([0..1] for floats or [0..255] for integers).\n"
     ]
    },
    {
     "data": {
      "image/png": "[encoded data removed]",
      "text/plain": [
       "<Figure size 432x288 with 1 Axes>"
      ]
     },
     "metadata": {
      "needs_background": "light"
     },
     "output_type": "display_data"
    },
    {
     "name": "stdout",
     "output_type": "stream",
     "text": [
      "(4, 367, 607, 6, 6)\n",
      "writing samples 1587\n"
     ]
    },
    {
     "name": "stderr",
     "output_type": "stream",
     "text": [
      "100%|██████████| 1587/1587 [00:00<00:00, 131579.83it/s]\n"
     ]
    },
    {
     "name": "stdout",
     "output_type": "stream",
     "text": [
      "/data4/Ukraine_img/M_and_L/20220324T082609_20220324T083426_T37TCN2_size_6_area3_info.pth\n"
     ]
    },
    {
     "name": "stderr",
     "output_type": "stream",
     "text": [
      "Clipping input data to the valid range for imshow with RGB data ([0..1] for floats or [0..255] for integers).\n"
     ]
    },
    {
     "data": {
      "image/png": "[encoded data removed]",
      "text/plain": [
       "<Figure size 432x288 with 1 Axes>"
      ]
     },
     "metadata": {
      "needs_background": "light"
     },
     "output_type": "display_data"
    },
    {
     "name": "stdout",
     "output_type": "stream",
     "text": [
      "(4, 367, 607, 6, 6)\n",
      "writing samples 1587\n"
     ]
    },
    {
     "name": "stderr",
     "output_type": "stream",
     "text": [
      "100%|██████████| 1587/1587 [00:00<00:00, 136664.08it/s]\n"
     ]
    },
    {
     "name": "stdout",
     "output_type": "stream",
     "text": [
      "/data4/Ukraine_img/M_and_L/20220329T082601_20220329T083216_T37TCN2_size_6_area3_info.pth\n"
     ]
    },
    {
     "name": "stderr",
     "output_type": "stream",
     "text": [
      "Clipping input data to the valid range for imshow with RGB data ([0..1] for floats or [0..255] for integers).\n"
     ]
    },
    {
     "data": {
      "image/png": "[encoded data removed]",
      "text/plain": [
       "<Figure size 432x288 with 1 Axes>"
      ]
     },
     "metadata": {
      "needs_background": "light"
     },
     "output_type": "display_data"
    },
    {
     "name": "stdout",
     "output_type": "stream",
     "text": [
      "(4, 367, 607, 6, 6)\n",
      "writing samples 1303\n"
     ]
    },
    {
     "name": "stderr",
     "output_type": "stream",
     "text": [
      "100%|██████████| 1303/1303 [00:00<00:00, 121505.10it/s]\n"
     ]
    },
    {
     "name": "stdout",
     "output_type": "stream",
     "text": [
      "/data4/Ukraine_img/M_and_L/20220403T082559_20220403T083553_T37TCN2_size_6_area3_info.pth\n"
     ]
    },
    {
     "data": {
      "image/png": "[encoded data removed]",
      "text/plain": [
       "<Figure size 432x288 with 1 Axes>"
      ]
     },
     "metadata": {
      "needs_background": "light"
     },
     "output_type": "display_data"
    },
    {
     "name": "stdout",
     "output_type": "stream",
     "text": [
      "(4, 367, 607, 6, 6)\n",
      "writing samples 0\n"
     ]
    },
    {
     "name": "stderr",
     "output_type": "stream",
     "text": [
      "0it [00:00, ?it/s]\n",
      "Clipping input data to the valid range for imshow with RGB data ([0..1] for floats or [0..255] for integers).\n"
     ]
    },
    {
     "name": "stdout",
     "output_type": "stream",
     "text": [
      "/data4/Ukraine_img/M_and_L/20220428T082611_20220428T083305_T37TCN2_size_6_area3_info.pth\n"
     ]
    },
    {
     "data": {
      "image/png": "[encoded data removed]",
      "text/plain": [
       "<Figure size 432x288 with 1 Axes>"
      ]
     },
     "metadata": {
      "needs_background": "light"
     },
     "output_type": "display_data"
    },
    {
     "name": "stdout",
     "output_type": "stream",
     "text": [
      "(4, 367, 607, 6, 6)\n",
      "writing samples 866\n"
     ]
    },
    {
     "name": "stderr",
     "output_type": "stream",
     "text": [
      "100%|██████████| 866/866 [00:00<00:00, 118157.10it/s]\n"
     ]
    },
    {
     "name": "stdout",
     "output_type": "stream",
     "text": [
      "/data4/Ukraine_img/M_and_L/20220503T082559_20220503T083512_T37TCN2_size_6_area3_info.pth\n"
     ]
    },
    {
     "name": "stderr",
     "output_type": "stream",
     "text": [
      "Clipping input data to the valid range for imshow with RGB data ([0..1] for floats or [0..255] for integers).\n"
     ]
    },
    {
     "data": {
      "image/png": "[encoded data removed]",
      "text/plain": [
       "<Figure size 432x288 with 1 Axes>"
      ]
     },
     "metadata": {
      "needs_background": "light"
     },
     "output_type": "display_data"
    },
    {
     "name": "stdout",
     "output_type": "stream",
     "text": [
      "(4, 367, 607, 6, 6)\n",
      "writing samples 142\n"
     ]
    },
    {
     "name": "stderr",
     "output_type": "stream",
     "text": [
      "100%|██████████| 142/142 [00:00<00:00, 88183.47it/s]\n"
     ]
    },
    {
     "name": "stdout",
     "output_type": "stream",
     "text": [
      "/data4/Ukraine_img/M_and_L/20220508T082611_20220508T083304_T37TCN2_size_6_area3_info.pth\n"
     ]
    },
    {
     "name": "stderr",
     "output_type": "stream",
     "text": [
      "Clipping input data to the valid range for imshow with RGB data ([0..1] for floats or [0..255] for integers).\n"
     ]
    },
    {
     "data": {
      "image/png": "[encoded data removed]",
      "text/plain": [
       "<Figure size 432x288 with 1 Axes>"
      ]
     },
     "metadata": {
      "needs_background": "light"
     },
     "output_type": "display_data"
    },
    {
     "name": "stdout",
     "output_type": "stream",
     "text": [
      "(4, 367, 607, 6, 6)\n",
      "writing samples 1587\n"
     ]
    },
    {
     "name": "stderr",
     "output_type": "stream",
     "text": [
      "100%|██████████| 1587/1587 [00:00<00:00, 128921.78it/s]\n"
     ]
    },
    {
     "name": "stdout",
     "output_type": "stream",
     "text": [
      "/data4/Ukraine_img/M_and_L/20220523T082559_20220523T082946_T37TCN2_size_6_area3_info.pth\n"
     ]
    },
    {
     "name": "stderr",
     "output_type": "stream",
     "text": [
      "Clipping input data to the valid range for imshow with RGB data ([0..1] for floats or [0..255] for integers).\n"
     ]
    },
    {
     "data": {
      "image/png": "[encoded data removed]",
      "text/plain": [
       "<Figure size 432x288 with 1 Axes>"
      ]
     },
     "metadata": {
      "needs_background": "light"
     },
     "output_type": "display_data"
    },
    {
     "name": "stdout",
     "output_type": "stream",
     "text": [
      "(4, 367, 607, 6, 6)\n",
      "writing samples 1122\n"
     ]
    },
    {
     "name": "stderr",
     "output_type": "stream",
     "text": [
      "100%|██████████| 1122/1122 [00:00<00:00, 120192.29it/s]\n"
     ]
    },
    {
     "name": "stdout",
     "output_type": "stream",
     "text": [
      "/data4/Ukraine_img/M_and_L/20220528T082611_20220528T083641_T37TCN2_size_6_area3_info.pth\n"
     ]
    },
    {
     "name": "stderr",
     "output_type": "stream",
     "text": [
      "Clipping input data to the valid range for imshow with RGB data ([0..1] for floats or [0..255] for integers).\n"
     ]
    },
    {
     "data": {
      "image/png": "[encoded data removed]",
      "text/plain": [
       "<Figure size 432x288 with 1 Axes>"
      ]
     },
     "metadata": {
      "needs_background": "light"
     },
     "output_type": "display_data"
    },
    {
     "name": "stdout",
     "output_type": "stream",
     "text": [
      "(4, 367, 607, 6, 6)\n",
      "writing samples 1587\n"
     ]
    },
    {
     "name": "stderr",
     "output_type": "stream",
     "text": [
      "100%|██████████| 1587/1587 [00:00<00:00, 128070.97it/s]\n"
     ]
    },
    {
     "name": "stdout",
     "output_type": "stream",
     "text": [
      "/data4/Ukraine_img/M_and_L/20220602T082559_20220602T082807_T37TCN2_size_6_area3_info.pth\n"
     ]
    },
    {
     "name": "stderr",
     "output_type": "stream",
     "text": [
      "Clipping input data to the valid range for imshow with RGB data ([0..1] for floats or [0..255] for integers).\n"
     ]
    },
    {
     "data": {
      "image/png": "[encoded data removed]",
      "text/plain": [
       "<Figure size 432x288 with 1 Axes>"
      ]
     },
     "metadata": {
      "needs_background": "light"
     },
     "output_type": "display_data"
    },
    {
     "name": "stdout",
     "output_type": "stream",
     "text": [
      "(4, 367, 607, 6, 6)\n",
      "writing samples 1587\n"
     ]
    },
    {
     "name": "stderr",
     "output_type": "stream",
     "text": [
      "100%|██████████| 1587/1587 [00:00<00:00, 130955.96it/s]\n"
     ]
    },
    {
     "name": "stdout",
     "output_type": "stream",
     "text": [
      "/data4/Ukraine_img/M_and_L/20220607T082611_20220607T083435_T37TCN2_size_6_area3_info.pth\n"
     ]
    },
    {
     "name": "stderr",
     "output_type": "stream",
     "text": [
      "Clipping input data to the valid range for imshow with RGB data ([0..1] for floats or [0..255] for integers).\n"
     ]
    },
    {
     "data": {
      "image/png": "[encoded data removed]",
      "text/plain": [
       "<Figure size 432x288 with 1 Axes>"
      ]
     },
     "metadata": {
      "needs_background": "light"
     },
     "output_type": "display_data"
    },
    {
     "name": "stdout",
     "output_type": "stream",
     "text": [
      "(4, 367, 607, 6, 6)\n",
      "writing samples 1287\n"
     ]
    },
    {
     "name": "stderr",
     "output_type": "stream",
     "text": [
      "100%|██████████| 1287/1287 [00:00<00:00, 122558.05it/s]\n"
     ]
    },
    {
     "name": "stdout",
     "output_type": "stream",
     "text": [
      "/data4/Ukraine_img/M_and_L/20220612T082609_20220612T082840_T37TCN2_size_6_area3_info.pth\n"
     ]
    },
    {
     "name": "stderr",
     "output_type": "stream",
     "text": [
      "Clipping input data to the valid range for imshow with RGB data ([0..1] for floats or [0..255] for integers).\n"
     ]
    },
    {
     "data": {
      "image/png": "[encoded data removed]",
      "text/plain": [
       "<Figure size 432x288 with 1 Axes>"
      ]
     },
     "metadata": {
      "needs_background": "light"
     },
     "output_type": "display_data"
    },
    {
     "name": "stdout",
     "output_type": "stream",
     "text": [
      "(4, 367, 607, 6, 6)\n",
      "writing samples 1587\n"
     ]
    },
    {
     "name": "stderr",
     "output_type": "stream",
     "text": [
      "100%|██████████| 1587/1587 [00:00<00:00, 131177.91it/s]\n",
      "Clipping input data to the valid range for imshow with RGB data ([0..1] for floats or [0..255] for integers).\n"
     ]
    },
    {
     "name": "stdout",
     "output_type": "stream",
     "text": [
      "/data4/Ukraine_img/M_and_L/20220617T082611_20220617T083253_T37TCN2_size_6_area3_info.pth\n"
     ]
    },
    {
     "data": {
      "image/png": "[encoded data removed]",
      "text/plain": [
       "<Figure size 432x288 with 1 Axes>"
      ]
     },
     "metadata": {
      "needs_background": "light"
     },
     "output_type": "display_data"
    },
    {
     "name": "stdout",
     "output_type": "stream",
     "text": [
      "(4, 367, 607, 6, 6)\n",
      "writing samples 1352\n"
     ]
    },
    {
     "name": "stderr",
     "output_type": "stream",
     "text": [
      "100%|██████████| 1352/1352 [00:00<00:00, 122981.98it/s]\n"
     ]
    },
    {
     "name": "stdout",
     "output_type": "stream",
     "text": [
      "/data4/Ukraine_img/M_and_L/20220622T082609_20220622T082834_T37TCN2_size_6_area3_info.pth\n"
     ]
    },
    {
     "data": {
      "image/png": "[encoded data removed]",
      "text/plain": [
       "<Figure size 432x288 with 1 Axes>"
      ]
     },
     "metadata": {
      "needs_background": "light"
     },
     "output_type": "display_data"
    },
    {
     "name": "stdout",
     "output_type": "stream",
     "text": [
      "(4, 367, 607, 6, 6)\n",
      "writing samples 0\n"
     ]
    },
    {
     "name": "stderr",
     "output_type": "stream",
     "text": [
      "0it [00:00, ?it/s]\n"
     ]
    },
    {
     "name": "stdout",
     "output_type": "stream",
     "text": [
      "/data4/Ukraine_img/M_and_L/20220627T082621_20220627T083534_T37TCN2_size_6_area3_info.pth\n"
     ]
    },
    {
     "data": {
      "image/png": "[encoded data removed]",
      "text/plain": [
       "<Figure size 432x288 with 1 Axes>"
      ]
     },
     "metadata": {
      "needs_background": "light"
     },
     "output_type": "display_data"
    },
    {
     "name": "stdout",
     "output_type": "stream",
     "text": [
      "(4, 367, 607, 6, 6)\n",
      "writing samples 0\n"
     ]
    },
    {
     "name": "stderr",
     "output_type": "stream",
     "text": [
      "0it [00:00, ?it/s]\n"
     ]
    },
    {
     "name": "stdout",
     "output_type": "stream",
     "text": [
      "-------------------------------------\n",
      "['A', 'A-B', 'B', 'B-C', 'C', 'C-Z']\n",
      "\n",
      "\n",
      "A-B\n",
      "loading mask: B\n",
      "/data4/Ukraine_img/M_and_L/Livoberezhyny_B_2022-03-14_size_6_dammask.pth.tar\n"
     ]
    },
    {
     "name": "stderr",
     "output_type": "stream",
     "text": [
      "Clipping input data to the valid range for imshow with RGB data ([0..1] for floats or [0..255] for integers).\n"
     ]
    },
    {
     "name": "stdout",
     "output_type": "stream",
     "text": [
      "load img: A-B\n",
      "['/data4/Ukraine_img/M_and_L/20220227T082911_20220227T083303_T37TCN2_size_6_area4_info.pth', '/data4/Ukraine_img/M_and_L/20220309T082801_20220309T083304_T37TCN2_size_6_area4_info.pth']\n",
      "/data4/Ukraine_img/M_and_L/20220227T082911_20220227T083303_T37TCN2_size_6_area4_info.pth\n"
     ]
    },
    {
     "data": {
      "image/png": "[encoded data removed]",
      "text/plain": [
       "<Figure size 432x288 with 1 Axes>"
      ]
     },
     "metadata": {
      "needs_background": "light"
     },
     "output_type": "display_data"
    },
    {
     "name": "stdout",
     "output_type": "stream",
     "text": [
      "(4, 367, 607, 6, 6)\n",
      "writing samples 1297\n"
     ]
    },
    {
     "name": "stderr",
     "output_type": "stream",
     "text": [
      "100%|██████████| 1297/1297 [00:00<00:00, 121915.97it/s]\n",
      "Clipping input data to the valid range for imshow with RGB data ([0..1] for floats or [0..255] for integers).\n"
     ]
    },
    {
     "name": "stdout",
     "output_type": "stream",
     "text": [
      "/data4/Ukraine_img/M_and_L/20220309T082801_20220309T083304_T37TCN2_size_6_area4_info.pth\n"
     ]
    },
    {
     "data": {
      "image/png": "[encoded data removed]",
      "text/plain": [
       "<Figure size 432x288 with 1 Axes>"
      ]
     },
     "metadata": {
      "needs_background": "light"
     },
     "output_type": "display_data"
    },
    {
     "name": "stdout",
     "output_type": "stream",
     "text": [
      "(4, 367, 607, 6, 6)\n",
      "writing samples 742\n"
     ]
    },
    {
     "name": "stderr",
     "output_type": "stream",
     "text": [
      "100%|██████████| 742/742 [00:00<00:00, 112057.52it/s]\n"
     ]
    },
    {
     "name": "stdout",
     "output_type": "stream",
     "text": [
      "\n",
      "\n",
      "B\n",
      "loading mask: B\n",
      "/data4/Ukraine_img/M_and_L/Livoberezhyny_B_2022-03-14_size_6_dammask.pth.tar\n",
      "load img: B\n",
      "['/data4/Ukraine_img/M_and_L/20220314T082719_20220314T083610_T37TCN2_size_6_area4_info.pth']\n",
      "/data4/Ukraine_img/M_and_L/20220314T082719_20220314T083610_T37TCN2_size_6_area4_info.pth\n"
     ]
    },
    {
     "name": "stderr",
     "output_type": "stream",
     "text": [
      "Clipping input data to the valid range for imshow with RGB data ([0..1] for floats or [0..255] for integers).\n"
     ]
    },
    {
     "data": {
      "image/png": "[encoded data removed]",
      "text/plain": [
       "<Figure size 432x288 with 1 Axes>"
      ]
     },
     "metadata": {
      "needs_background": "light"
     },
     "output_type": "display_data"
    },
    {
     "name": "stdout",
     "output_type": "stream",
     "text": [
      "(4, 367, 607, 6, 6)\n",
      "writing samples 3521\n"
     ]
    },
    {
     "name": "stderr",
     "output_type": "stream",
     "text": [
      "100%|██████████| 3521/3521 [00:00<00:00, 156879.28it/s]\n"
     ]
    },
    {
     "name": "stdout",
     "output_type": "stream",
     "text": [
      "\n",
      "\n",
      "B-C\n",
      "loading mask: B and C\n",
      "/data4/Ukraine_img/M_and_L/Livoberezhyny_B_2022-03-14_size_6_dammask.pth.tar\n",
      "/data4/Ukraine_img/M_and_L/Livoberezhyny_C-Area1-4_2022-05-07_size_6_dammask.pth.tar\n",
      "load img: B-C\n",
      "['/data4/Ukraine_img/M_and_L/20220319T082651_20220319T083304_T37TCN2_size_6_area4_info.pth', '/data4/Ukraine_img/M_and_L/20220324T082609_20220324T083426_T37TCN2_size_6_area4_info.pth', '/data4/Ukraine_img/M_and_L/20220329T082601_20220329T083216_T37TCN2_size_6_area4_info.pth', '/data4/Ukraine_img/M_and_L/20220403T082559_20220403T083553_T37TCN2_size_6_area4_info.pth', '/data4/Ukraine_img/M_and_L/20220428T082611_20220428T083305_T37TCN2_size_6_area4_info.pth', '/data4/Ukraine_img/M_and_L/20220503T082559_20220503T083512_T37TCN2_size_6_area4_info.pth']\n",
      "/data4/Ukraine_img/M_and_L/20220319T082651_20220319T083304_T37TCN2_size_6_area4_info.pth\n"
     ]
    },
    {
     "name": "stderr",
     "output_type": "stream",
     "text": [
      "Clipping input data to the valid range for imshow with RGB data ([0..1] for floats or [0..255] for integers).\n"
     ]
    },
    {
     "data": {
      "image/png": "[encoded data removed]",
      "text/plain": [
       "<Figure size 432x288 with 1 Axes>"
      ]
     },
     "metadata": {
      "needs_background": "light"
     },
     "output_type": "display_data"
    },
    {
     "name": "stdout",
     "output_type": "stream",
     "text": [
      "(4, 367, 607, 6, 6)\n",
      "writing samples 3527\n"
     ]
    },
    {
     "name": "stderr",
     "output_type": "stream",
     "text": [
      "100%|██████████| 3527/3527 [00:00<00:00, 170853.04it/s]\n"
     ]
    },
    {
     "name": "stdout",
     "output_type": "stream",
     "text": [
      "/data4/Ukraine_img/M_and_L/20220324T082609_20220324T083426_T37TCN2_size_6_area4_info.pth\n"
     ]
    },
    {
     "name": "stderr",
     "output_type": "stream",
     "text": [
      "Clipping input data to the valid range for imshow with RGB data ([0..1] for floats or [0..255] for integers).\n"
     ]
    },
    {
     "data": {
      "image/png": "[encoded data removed]",
      "text/plain": [
       "<Figure size 432x288 with 1 Axes>"
      ]
     },
     "metadata": {
      "needs_background": "light"
     },
     "output_type": "display_data"
    },
    {
     "name": "stdout",
     "output_type": "stream",
     "text": [
      "(4, 367, 607, 6, 6)\n",
      "writing samples 3527\n"
     ]
    },
    {
     "name": "stderr",
     "output_type": "stream",
     "text": [
      "100%|██████████| 3527/3527 [00:00<00:00, 168661.61it/s]\n",
      "Clipping input data to the valid range for imshow with RGB data ([0..1] for floats or [0..255] for integers).\n"
     ]
    },
    {
     "name": "stdout",
     "output_type": "stream",
     "text": [
      "/data4/Ukraine_img/M_and_L/20220329T082601_20220329T083216_T37TCN2_size_6_area4_info.pth\n"
     ]
    },
    {
     "data": {
      "image/png": "[encoded data removed]",
      "text/plain": [
       "<Figure size 432x288 with 1 Axes>"
      ]
     },
     "metadata": {
      "needs_background": "light"
     },
     "output_type": "display_data"
    },
    {
     "name": "stdout",
     "output_type": "stream",
     "text": [
      "(4, 367, 607, 6, 6)\n",
      "writing samples 962\n"
     ]
    },
    {
     "name": "stderr",
     "output_type": "stream",
     "text": [
      "100%|██████████| 962/962 [00:00<00:00, 112757.67it/s]\n"
     ]
    },
    {
     "name": "stdout",
     "output_type": "stream",
     "text": [
      "/data4/Ukraine_img/M_and_L/20220403T082559_20220403T083553_T37TCN2_size_6_area4_info.pth\n"
     ]
    },
    {
     "data": {
      "image/png": "[encoded data removed]",
      "text/plain": [
       "<Figure size 432x288 with 1 Axes>"
      ]
     },
     "metadata": {
      "needs_background": "light"
     },
     "output_type": "display_data"
    },
    {
     "name": "stdout",
     "output_type": "stream",
     "text": [
      "(4, 367, 607, 6, 6)\n",
      "writing samples 0\n"
     ]
    },
    {
     "name": "stderr",
     "output_type": "stream",
     "text": [
      "0it [00:00, ?it/s]\n",
      "Clipping input data to the valid range for imshow with RGB data ([0..1] for floats or [0..255] for integers).\n"
     ]
    },
    {
     "name": "stdout",
     "output_type": "stream",
     "text": [
      "/data4/Ukraine_img/M_and_L/20220428T082611_20220428T083305_T37TCN2_size_6_area4_info.pth\n"
     ]
    },
    {
     "data": {
      "image/png": "[encoded data removed]",
      "text/plain": [
       "<Figure size 432x288 with 1 Axes>"
      ]
     },
     "metadata": {
      "needs_background": "light"
     },
     "output_type": "display_data"
    },
    {
     "name": "stdout",
     "output_type": "stream",
     "text": [
      "(4, 367, 607, 6, 6)\n",
      "writing samples 172\n"
     ]
    },
    {
     "name": "stderr",
     "output_type": "stream",
     "text": [
      "100%|██████████| 172/172 [00:00<00:00, 86594.68it/s]\n",
      "Clipping input data to the valid range for imshow with RGB data ([0..1] for floats or [0..255] for integers).\n"
     ]
    },
    {
     "name": "stdout",
     "output_type": "stream",
     "text": [
      "/data4/Ukraine_img/M_and_L/20220503T082559_20220503T083512_T37TCN2_size_6_area4_info.pth\n"
     ]
    },
    {
     "data": {
      "image/png": "[encoded data removed]",
      "text/plain": [
       "<Figure size 432x288 with 1 Axes>"
      ]
     },
     "metadata": {
      "needs_background": "light"
     },
     "output_type": "display_data"
    },
    {
     "name": "stdout",
     "output_type": "stream",
     "text": [
      "(4, 367, 607, 6, 6)\n",
      "writing samples 2919\n"
     ]
    },
    {
     "name": "stderr",
     "output_type": "stream",
     "text": [
      "100%|██████████| 2919/2919 [00:00<00:00, 160012.20it/s]\n"
     ]
    },
    {
     "name": "stdout",
     "output_type": "stream",
     "text": [
      "\n",
      "\n",
      "C\n",
      "loading mask: C\n",
      "/data4/Ukraine_img/M_and_L/Livoberezhyny_C-Area1-4_2022-05-07_size_6_dammask.pth.tar\n",
      "\n",
      "\n",
      "C-Z\n",
      "loading mask: C\n",
      "/data4/Ukraine_img/M_and_L/Livoberezhyny_C-Area1-4_2022-05-07_size_6_dammask.pth.tar\n"
     ]
    },
    {
     "name": "stderr",
     "output_type": "stream",
     "text": [
      "Clipping input data to the valid range for imshow with RGB data ([0..1] for floats or [0..255] for integers).\n"
     ]
    },
    {
     "name": "stdout",
     "output_type": "stream",
     "text": [
      "load img: C-Z\n",
      "['/data4/Ukraine_img/M_and_L/20220508T082611_20220508T083304_T37TCN2_size_6_area4_info.pth', '/data4/Ukraine_img/M_and_L/20220523T082559_20220523T082946_T37TCN2_size_6_area4_info.pth', '/data4/Ukraine_img/M_and_L/20220528T082611_20220528T083641_T37TCN2_size_6_area4_info.pth', '/data4/Ukraine_img/M_and_L/20220602T082559_20220602T082807_T37TCN2_size_6_area4_info.pth', '/data4/Ukraine_img/M_and_L/20220607T082611_20220607T083435_T37TCN2_size_6_area4_info.pth', '/data4/Ukraine_img/M_and_L/20220612T082609_20220612T082840_T37TCN2_size_6_area4_info.pth', '/data4/Ukraine_img/M_and_L/20220617T082611_20220617T083253_T37TCN2_size_6_area4_info.pth', '/data4/Ukraine_img/M_and_L/20220622T082609_20220622T082834_T37TCN2_size_6_area4_info.pth', '/data4/Ukraine_img/M_and_L/20220627T082621_20220627T083534_T37TCN2_size_6_area4_info.pth']\n",
      "/data4/Ukraine_img/M_and_L/20220508T082611_20220508T083304_T37TCN2_size_6_area4_info.pth\n"
     ]
    },
    {
     "data": {
      "image/png": "[encoded data removed]",
      "text/plain": [
       "<Figure size 432x288 with 1 Axes>"
      ]
     },
     "metadata": {
      "needs_background": "light"
     },
     "output_type": "display_data"
    },
    {
     "name": "stdout",
     "output_type": "stream",
     "text": [
      "(4, 367, 607, 6, 6)\n",
      "writing samples 3568\n"
     ]
    },
    {
     "name": "stderr",
     "output_type": "stream",
     "text": [
      "100%|██████████| 3568/3568 [00:00<00:00, 170127.63it/s]\n",
      "Clipping input data to the valid range for imshow with RGB data ([0..1] for floats or [0..255] for integers).\n"
     ]
    },
    {
     "name": "stdout",
     "output_type": "stream",
     "text": [
      "/data4/Ukraine_img/M_and_L/20220523T082559_20220523T082946_T37TCN2_size_6_area4_info.pth\n"
     ]
    },
    {
     "data": {
      "image/png": "[encoded data removed]",
      "text/plain": [
       "<Figure size 432x288 with 1 Axes>"
      ]
     },
     "metadata": {
      "needs_background": "light"
     },
     "output_type": "display_data"
    },
    {
     "name": "stdout",
     "output_type": "stream",
     "text": [
      "(4, 367, 607, 6, 6)\n",
      "writing samples 1878\n"
     ]
    },
    {
     "name": "stderr",
     "output_type": "stream",
     "text": [
      "100%|██████████| 1878/1878 [00:00<00:00, 124917.18it/s]\n"
     ]
    },
    {
     "name": "stdout",
     "output_type": "stream",
     "text": [
      "/data4/Ukraine_img/M_and_L/20220528T082611_20220528T083641_T37TCN2_size_6_area4_info.pth\n"
     ]
    },
    {
     "name": "stderr",
     "output_type": "stream",
     "text": [
      "Clipping input data to the valid range for imshow with RGB data ([0..1] for floats or [0..255] for integers).\n"
     ]
    },
    {
     "data": {
      "image/png": "[encoded data removed]",
      "text/plain": [
       "<Figure size 432x288 with 1 Axes>"
      ]
     },
     "metadata": {
      "needs_background": "light"
     },
     "output_type": "display_data"
    },
    {
     "name": "stdout",
     "output_type": "stream",
     "text": [
      "(4, 367, 607, 6, 6)\n",
      "writing samples 3568\n"
     ]
    },
    {
     "name": "stderr",
     "output_type": "stream",
     "text": [
      "100%|██████████| 3568/3568 [00:00<00:00, 170528.92it/s]\n"
     ]
    },
    {
     "name": "stdout",
     "output_type": "stream",
     "text": [
      "/data4/Ukraine_img/M_and_L/20220602T082559_20220602T082807_T37TCN2_size_6_area4_info.pth\n"
     ]
    },
    {
     "name": "stderr",
     "output_type": "stream",
     "text": [
      "Clipping input data to the valid range for imshow with RGB data ([0..1] for floats or [0..255] for integers).\n"
     ]
    },
    {
     "data": {
      "image/png": "[encoded data removed]",
      "text/plain": [
       "<Figure size 432x288 with 1 Axes>"
      ]
     },
     "metadata": {
      "needs_background": "light"
     },
     "output_type": "display_data"
    },
    {
     "name": "stdout",
     "output_type": "stream",
     "text": [
      "(4, 367, 607, 6, 6)\n",
      "writing samples 3568\n"
     ]
    },
    {
     "name": "stderr",
     "output_type": "stream",
     "text": [
      "100%|██████████| 3568/3568 [00:00<00:00, 164922.99it/s]\n"
     ]
    },
    {
     "name": "stdout",
     "output_type": "stream",
     "text": [
      "/data4/Ukraine_img/M_and_L/20220607T082611_20220607T083435_T37TCN2_size_6_area4_info.pth\n"
     ]
    },
    {
     "name": "stderr",
     "output_type": "stream",
     "text": [
      "Clipping input data to the valid range for imshow with RGB data ([0..1] for floats or [0..255] for integers).\n"
     ]
    },
    {
     "data": {
      "image/png": "[encoded data removed]",
      "text/plain": [
       "<Figure size 432x288 with 1 Axes>"
      ]
     },
     "metadata": {
      "needs_background": "light"
     },
     "output_type": "display_data"
    },
    {
     "name": "stdout",
     "output_type": "stream",
     "text": [
      "(4, 367, 607, 6, 6)\n",
      "writing samples 3473\n"
     ]
    },
    {
     "name": "stderr",
     "output_type": "stream",
     "text": [
      "100%|██████████| 3473/3473 [00:00<00:00, 178955.73it/s]\n"
     ]
    },
    {
     "name": "stdout",
     "output_type": "stream",
     "text": [
      "/data4/Ukraine_img/M_and_L/20220612T082609_20220612T082840_T37TCN2_size_6_area4_info.pth\n"
     ]
    },
    {
     "name": "stderr",
     "output_type": "stream",
     "text": [
      "Clipping input data to the valid range for imshow with RGB data ([0..1] for floats or [0..255] for integers).\n"
     ]
    },
    {
     "data": {
      "image/png": "[encoded data removed]",
      "text/plain": [
       "<Figure size 432x288 with 1 Axes>"
      ]
     },
     "metadata": {
      "needs_background": "light"
     },
     "output_type": "display_data"
    },
    {
     "name": "stdout",
     "output_type": "stream",
     "text": [
      "(4, 367, 607, 6, 6)\n",
      "writing samples 3568\n"
     ]
    },
    {
     "name": "stderr",
     "output_type": "stream",
     "text": [
      "100%|██████████| 3568/3568 [00:00<00:00, 34690.51it/s]\n"
     ]
    },
    {
     "name": "stdout",
     "output_type": "stream",
     "text": [
      "/data4/Ukraine_img/M_and_L/20220617T082611_20220617T083253_T37TCN2_size_6_area4_info.pth\n"
     ]
    },
    {
     "name": "stderr",
     "output_type": "stream",
     "text": [
      "Clipping input data to the valid range for imshow with RGB data ([0..1] for floats or [0..255] for integers).\n"
     ]
    },
    {
     "data": {
      "image/png": "[encoded data removed]",
      "text/plain": [
       "<Figure size 432x288 with 1 Axes>"
      ]
     },
     "metadata": {
      "needs_background": "light"
     },
     "output_type": "display_data"
    },
    {
     "name": "stdout",
     "output_type": "stream",
     "text": [
      "(4, 367, 607, 6, 6)\n",
      "writing samples 3053\n"
     ]
    },
    {
     "name": "stderr",
     "output_type": "stream",
     "text": [
      "100%|██████████| 3053/3053 [00:00<00:00, 169313.90it/s]\n"
     ]
    },
    {
     "name": "stdout",
     "output_type": "stream",
     "text": [
      "/data4/Ukraine_img/M_and_L/20220622T082609_20220622T082834_T37TCN2_size_6_area4_info.pth\n"
     ]
    },
    {
     "data": {
      "image/png": "[encoded data removed]",
      "text/plain": [
       "<Figure size 432x288 with 1 Axes>"
      ]
     },
     "metadata": {
      "needs_background": "light"
     },
     "output_type": "display_data"
    },
    {
     "name": "stdout",
     "output_type": "stream",
     "text": [
      "(4, 367, 607, 6, 6)\n",
      "writing samples 0\n"
     ]
    },
    {
     "name": "stderr",
     "output_type": "stream",
     "text": [
      "0it [00:00, ?it/s]\n"
     ]
    },
    {
     "name": "stdout",
     "output_type": "stream",
     "text": [
      "/data4/Ukraine_img/M_and_L/20220627T082621_20220627T083534_T37TCN2_size_6_area4_info.pth\n"
     ]
    },
    {
     "data": {
      "image/png": "[encoded data removed]",
      "text/plain": [
       "<Figure size 432x288 with 1 Axes>"
      ]
     },
     "metadata": {
      "needs_background": "light"
     },
     "output_type": "display_data"
    },
    {
     "name": "stdout",
     "output_type": "stream",
     "text": [
      "(4, 367, 607, 6, 6)\n",
      "writing samples 0\n"
     ]
    },
    {
     "name": "stderr",
     "output_type": "stream",
     "text": [
      "0it [00:00, ?it/s]\n"
     ]
    }
   ],
   "source": [
    "cities=dammasks_path.keys()\n",
    "for city in cities:\n",
    "    print('-------------------------------------')\n",
    "    cityimg_pathes10=img_pathes[city]\n",
    "\n",
    "    # print(city)\n",
    "    masks10=dammasks_path[city]\n",
    "\n",
    "    # print(masks)\n",
    "    k_interval=list(cityimg_pathes10.keys())\n",
    "\n",
    "    print(k_interval)\n",
    "    k_interval.remove('A')\n",
    "    for k_ in k_interval:\n",
    "        print()\n",
    "        print()\n",
    "        print(k_)\n",
    "        if len(k_)==1:\n",
    "            print('loading mask:',k_)\n",
    "            print(masks10[k_])\n",
    "            mask_now=torch.load(masks10[k_])\n",
    "            mask_before=None\n",
    "            mask_after=None\n",
    "        else:\n",
    "            if 'A' in k_:\n",
    "                print('loading mask:',k_[2])\n",
    "                print(masks10[k_[2]])\n",
    "                mask_now=None\n",
    "                mask_before=None\n",
    "                mask_after=torch.load(masks10[k_[2]])\n",
    "            elif 'Z' in k_:\n",
    "                print('loading mask:',k_[0])\n",
    "                print(masks10[k_[0]])\n",
    "                mask_now=None\n",
    "                mask_before=torch.load(masks10[k_[0]])\n",
    "                mask_after=None\n",
    "            else:\n",
    "                print('loading mask:',k_[0],'and',k_[2])\n",
    "                print(masks10[k_[0]])\n",
    "                print(masks10[k_[2]])\n",
    "                mask_now=None\n",
    "                mask_before=torch.load(masks10[k_[0]])\n",
    "                mask_after=torch.load(masks10[k_[2]])  \n",
    "        pre10_path=cityimg_pathes10['A'][0]\n",
    "        pre_info=torch.load(pre10_path)\n",
    "        pre_img=[pre_info['img10'],pre_info['img20']]\n",
    "        post10_pathes=cityimg_pathes10[k_]\n",
    "        if len(post10_pathes)==0:\n",
    "            continue\n",
    "        post10_pathes.sort()\n",
    "        print('load img:',k_)\n",
    "        print(post10_pathes)\n",
    "        for post10_path in post10_pathes:\n",
    "            print(post10_path)\n",
    "            post_info=torch.load(post10_path)\n",
    "            post_img=[post_info['img10'],post_info['img20']]\n",
    "            plt.imshow(post_img[0][:3,:,:,1,1].transpose((1,2,0)))\n",
    "            plt.show()\n",
    "            samples,zz=get_samples(pre_img,post_img,mask_after,mask_now,mask_before)\n",
    "            print('writing samples',len(samples))\n",
    "            time.sleep(2)\n",
    "\n",
    "\n",
    "            samples_root='/ssd/hk/Ukraine_samples/samplesv2/samples/'\n",
    "            img_id=os.path.basename(post10_path).split('_size')[0].replace('_','-')\n",
    "\n",
    "            samples_pathes=[samples_root+f'{city}_{img_id}_{str(i[0][0]).zfill(3)+str(i[0][1]).zfill(3)}.pth' for i in samples]\n",
    "            info=[]\n",
    "\n",
    "            for i in tqdm(range(len(samples))):\n",
    "                    # '5层分别为完全 严重 中等 以及损毁得分和类型\\n得分:完全算6分 严重算3分 中等算1分 其他0分\\n类型0:得分0 类型1:得分1-5 类型2:得分大于6'\n",
    "                    info.append([samples_pathes[i],samples[i][0],samples[i][1]])\n",
    "                    if not os.path.exists(samples_pathes[i]):\n",
    "                        torch.save(samples[i],samples_pathes[i])\n",
    "            info_dict={'readme':'4个字段\\n 1:pre图像路径\\n 2:post图像路径\\n 3:图像坐标\\n 4:损毁信息\\n 损毁信息有5层\\n 5层分别为完全 严重 中等 以及损毁得分和类型\\n得分:完全算6分 严重算3分 中等算1分 其他0分\\n类型0:得分0 类型1:得分1-5 类型2:得分大于6', 'info':info}\n",
    "            s_path=f'/ssd/hk/Ukraine_samples/samplesv2/{city}_{img_id}_add_afterC_nodam_samples_info.pth'\n",
    "\n",
    "            torch.save(info_dict,s_path)\n",
    "            # if post10_path=='/data4/Ukraine_img/U_band2348/20220314T082719_20220314T083610_T37TDN_cut_reprojection_size_6_area1_info.pth':\n",
    "            #     raise"
   ]
  },
  {
   "cell_type": "markdown",
   "metadata": {},
   "source": [
    "# 创建samples_slip文件"
   ]
  },
  {
   "cell_type": "code",
   "execution_count": 129,
   "metadata": {},
   "outputs": [
    {
     "name": "stdout",
     "output_type": "stream",
     "text": [
      "area1\n",
      "/data4/Ukraine_img/M_and_L/20210910T082601_20210910T083119_T37TCN_size_6_area1_info.pth\n",
      "t:3669   v:1574\n"
     ]
    },
    {
     "data": {
      "image/png": "[encoded data removed]",
      "text/plain": [
       "<Figure size 432x288 with 2 Axes>"
      ]
     },
     "metadata": {
      "needs_background": "light"
     },
     "output_type": "display_data"
    },
    {
     "name": "stdout",
     "output_type": "stream",
     "text": [
      "area2\n",
      "/data4/Ukraine_img/M_and_L/20210910T082601_20210910T083119_T37TCN_size_6_area2_info.pth\n",
      "t:3042   v:1305\n"
     ]
    },
    {
     "data": {
      "image/png": "[encoded data removed]",
      "text/plain": [
       "<Figure size 432x288 with 2 Axes>"
      ]
     },
     "metadata": {
      "needs_background": "light"
     },
     "output_type": "display_data"
    },
    {
     "name": "stdout",
     "output_type": "stream",
     "text": [
      "area3\n",
      "/data4/Ukraine_img/M_and_L/20210910T082601_20210910T083119_T37TCN_size_6_area3_info.pth\n",
      "t:1110   v:477\n"
     ]
    },
    {
     "data": {
      "image/png": "[encoded data removed]",
      "text/plain": [
       "<Figure size 432x288 with 2 Axes>"
      ]
     },
     "metadata": {
      "needs_background": "light"
     },
     "output_type": "display_data"
    },
    {
     "name": "stdout",
     "output_type": "stream",
     "text": [
      "area4\n",
      "/data4/Ukraine_img/M_and_L/20210910T082601_20210910T083119_T37TCN_size_6_area4_info.pth\n",
      "t:2497   v:1071\n"
     ]
    },
    {
     "data": {
      "image/png": "[encoded data removed]",
      "text/plain": [
       "<Figure size 432x288 with 2 Axes>"
      ]
     },
     "metadata": {
      "needs_background": "light"
     },
     "output_type": "display_data"
    }
   ],
   "source": [
    "size=6\n",
    "for city in cities:\n",
    "    print(city)\n",
    "    if 'C' in list(dammasks_path[city].keys()):\n",
    "        dammask_path=dammasks_path[city]['C']\n",
    "    else:\n",
    "        dammask_path=dammasks_path[city]['B']\n",
    "\n",
    "    dammask=torch.load(dammask_path)['mask'][0]\n",
    "    # plt.imshow(dammask)\n",
    "    # plt.show()\n",
    "    mask_path=img_pathes[city]['A'][0]\n",
    "    print(mask_path)\n",
    "    mask=torch.load(mask_path)['img10'][0]\n",
    "    mask[mask>0]=1\n",
    "    # plt.imshow(mask[:,:,0,0])\n",
    "    # plt.show()\n",
    "    shape=mask.shape\n",
    "\n",
    "\n",
    "\n",
    "\n",
    "    sample_mask=np.zeros((shape[0],shape[1]))\n",
    "    sample_p=[]\n",
    "    sample_n=[]\n",
    "    for x in range(shape[0]):\n",
    "        for y in range(shape[1]):\n",
    "            if dammask[x,y]>0:\n",
    "                sample_mask[x,y]=1\n",
    "            if (mask[x,y]==0).any() and (mask[x,y]==0).any():\n",
    "                sample_mask[x,y]=-1\n",
    "            if sample_mask[x,y]==1:\n",
    "                sample_p.append([x,y])\n",
    "            elif sample_mask[x,y]==0:\n",
    "                sample_n.append([x,y])\n",
    "\n",
    "    p_coord=[str(i[0]).zfill(3)+str(i[1]).zfill(3) for i in sample_p]\n",
    "    n_coord=[str(i[0]).zfill(3)+str(i[1]).zfill(3) for i in sample_n]\n",
    "    random.shuffle(p_coord)\n",
    "    random.shuffle(n_coord)\n",
    "    p_t_coord=p_coord[:int(len(p_coord)*0.7)]\n",
    "    p_v_coord=p_coord[int(len(p_coord)*0.7):]\n",
    "    n_t_coord=n_coord[:int(len(n_coord)*0.7)]\n",
    "    n_v_coord=n_coord[int(len(n_coord)*0.7):]\n",
    "    t=p_t_coord+n_t_coord\n",
    "    v=p_v_coord+n_v_coord\n",
    "    random.shuffle(t)\n",
    "    random.shuffle(v)\n",
    "    print(f't:{len(t)}   v:{len(v)}')\n",
    "    torch.save(t,f'/ssd/hk/Ukraine_samples/coords_splitv2/{city}_train.pth')\n",
    "    torch.save(v,f'/ssd/hk/Ukraine_samples/coords_splitv2/{city}_val.pth')\n",
    "    # plt.figure(figsize=(15,15))\n",
    "    plt.imshow(sample_mask)\n",
    "    plt.colorbar()\n",
    "    plt.show()\n",
    "\n"
   ]
  },
  {
   "cell_type": "code",
   "execution_count": 23,
   "metadata": {},
   "outputs": [
    {
     "name": "stdout",
     "output_type": "stream",
     "text": [
      "10318 4427\n",
      "155952\n",
      "match train\n"
     ]
    },
    {
     "name": "stderr",
     "output_type": "stream",
     "text": [
      "100%|██████████| 10318/10318 [30:16<00:00,  5.68it/s]\n"
     ]
    },
    {
     "name": "stdout",
     "output_type": "stream",
     "text": [
      "match val\n"
     ]
    },
    {
     "name": "stderr",
     "output_type": "stream",
     "text": [
      "100%|██████████| 4427/4427 [13:00<00:00,  5.67it/s]\n"
     ]
    }
   ],
   "source": [
    "def match(string,input_list):\n",
    "    new_data_list=[i for i in input_list if  re.match(string, i[0]) != None]\n",
    "    return new_data_list\n",
    "t=[]\n",
    "v=[]\n",
    "city_sample=[]\n",
    "for i in glob('/ssd/hk/Ukraine_samples/coords_splitv2/area*train.pth'):\n",
    "    t+=torch.load(i)\n",
    "    v+=torch.load(i.replace('train','val'))\n",
    "print(len(t),len(v))\n",
    "for i in glob('/ssd/hk/Ukraine_samples/samplesv2/*add_afterC_nodam_samples_info.pth'):\n",
    "    city_sample+=torch.load(i)['info']\n",
    "print(len(city_sample))\n",
    "\n",
    "for i in range(len(city_sample)):\n",
    "    if len(city_sample[i][2])==2:\n",
    "        if city_sample[i][2][0] is not None:\n",
    "            city_sample[i][2]=city_sample[i][2][0]\n",
    "        else:\n",
    "            city_sample[i][2]=city_sample[i][2][1]\n",
    "city_pathes=[[i[0],'n'] if i[2][0]==0 else [i[0],'p'] for i in city_sample]\n",
    "random.shuffle(city_pathes)\n",
    "import re\n",
    "city_coord_sample={}\n",
    "city_coord_sample['train']={}\n",
    "city_coord_sample['val']={}\n",
    "print('match train')\n",
    "time.sleep(2)\n",
    "for i in tqdm(t):\n",
    "    a=match(f'.*{i}.pth',city_pathes)\n",
    "    a.sort()\n",
    "    city_coord_sample['train'][i]=a\n",
    "print('match val')\n",
    "time.sleep(2)\n",
    "for i in tqdm(v):\n",
    "    a=match(f'.*{i}.pth',city_pathes)\n",
    "    a.sort()\n",
    "    city_coord_sample['val'][i]=a\n",
    "torch.save(city_coord_sample,f'/ssd/hk/Ukraine_samples/split_coordv2_v2/samples_add_afterC_nodam.pth') \n",
    "\n",
    "\n",
    "\n",
    "t=[]\n",
    "for i in city_coord_sample['train'].keys():\n",
    "    t+=city_coord_sample['train'][i]\n",
    "v=[]\n",
    "for i in city_coord_sample['val'].keys():\n",
    "    v+=city_coord_sample['val'][i]\n",
    "random.shuffle(t)\n",
    "random.shuffle(v)\n",
    "torch.save(t,f'/ssd/hk/Ukraine_samples/split_coordv2_v2/cities/MLaddafterC/train.pth') \n",
    "torch.save(v,f'/ssd/hk/Ukraine_samples/split_coordv2_v2/cities/MLaddafterC/val.pth') "
   ]
  },
  {
   "cell_type": "code",
   "execution_count": 30,
   "metadata": {},
   "outputs": [],
   "source": [
    "for i in city_coord_sample['val'].keys():\n",
    "    if len(city_coord_sample['val'][i])>20:\n",
    "        print(i)\n",
    "        break"
   ]
  },
  {
   "cell_type": "code",
   "execution_count": 33,
   "metadata": {},
   "outputs": [
    {
     "name": "stdout",
     "output_type": "stream",
     "text": [
      "109178\n"
     ]
    },
    {
     "data": {
      "text/plain": [
       "108007"
      ]
     },
     "execution_count": 33,
     "metadata": {},
     "output_type": "execute_result"
    }
   ],
   "source": [
    "print(len(t))\n",
    "len([i  for i in t if i[1]=='n'])"
   ]
  },
  {
   "cell_type": "code",
   "execution_count": 34,
   "metadata": {},
   "outputs": [
    {
     "name": "stdout",
     "output_type": "stream",
     "text": [
      "46774\n"
     ]
    },
    {
     "data": {
      "text/plain": [
       "46263"
      ]
     },
     "execution_count": 34,
     "metadata": {},
     "output_type": "execute_result"
    }
   ],
   "source": [
    "print(len(v))\n",
    "len([i  for i in v if i[1]=='n'])"
   ]
  },
  {
   "cell_type": "code",
   "execution_count": 61,
   "metadata": {},
   "outputs": [],
   "source": [
    "import gdal\n",
    "import torch\n",
    "s=torch.load('/ssd/hk/Ukraine_samples/split_coordv2_v2/cities/MLaddafterC/samples.pth')"
   ]
  },
  {
   "cell_type": "code",
   "execution_count": 62,
   "metadata": {},
   "outputs": [
    {
     "name": "stdout",
     "output_type": "stream",
     "text": [
      "10318\n"
     ]
    }
   ],
   "source": [
    "tt=[]\n",
    "for i in s['train'].keys():\n",
    "    t_p=[j[0] for j in s['train'][i]]+[None]*(20-len(s['train'][i]))\n",
    "    t_l=[j[1] for j in s['train'][i]]+[None]*(20-len(s['train'][i]))\n",
    "    tt.append([t_p,t_l])\n",
    "random.shuffle(tt)\n",
    "print(len(tt))"
   ]
  },
  {
   "cell_type": "code",
   "execution_count": 39,
   "metadata": {},
   "outputs": [],
   "source": [
    "torch.save(tt,'/ssd/hk/Ukraine_samples/split_coordv2_v3/cities/MLaddafterC/val.pth')"
   ]
  },
  {
   "cell_type": "code",
   "execution_count": 57,
   "metadata": {},
   "outputs": [
    {
     "data": {
      "text/plain": [
       "10318"
      ]
     },
     "execution_count": 57,
     "metadata": {},
     "output_type": "execute_result"
    }
   ],
   "source": [
    "len(torch.load('/ssd/hk/Ukraine_samples/split_coordv2_v3/cities/ML/train.pth'))\n"
   ]
  },
  {
   "cell_type": "code",
   "execution_count": 50,
   "metadata": {},
   "outputs": [
    {
     "data": {
      "text/plain": [
       "12879"
      ]
     },
     "execution_count": 50,
     "metadata": {},
     "output_type": "execute_result"
    }
   ],
   "source": [
    "tt=torch.load('/ssd/hk/Ukraine_samples/split_coordv2_v3/cities/MLaddafterC/train.pth')+torch.load('/ssd/hk/Ukraine_samples/split_coordv2_v3/cities/Azovstal/train.pth')\n",
    "random.shuffle(tt)\n",
    "len(tt)"
   ]
  },
  {
   "cell_type": "code",
   "execution_count": 51,
   "metadata": {},
   "outputs": [],
   "source": [
    "torch.save(tt,'/ssd/hk/Ukraine_samples/split_coordv2_v3/cities/MaddafterC/train.pth')"
   ]
  },
  {
   "cell_type": "code",
   "execution_count": null,
   "metadata": {},
   "outputs": [],
   "source": []
  }
 ],
 "metadata": {
  "kernelspec": {
   "display_name": "Python 3.7.7 ('pythonhzy')",
   "language": "python",
   "name": "python3"
  },
  "language_info": {
   "codemirror_mode": {
    "name": "ipython",
    "version": 3
   },
   "file_extension": ".py",
   "mimetype": "text/x-python",
   "name": "python",
   "nbconvert_exporter": "python",
   "pygments_lexer": "ipython3",
   "version": "3.7.7"
  },
  "orig_nbformat": 4,
  "vscode": {
   "interpreter": {
    "hash": "4d718dcce6334846a10299329eb191d6bfc6359cfbd5881c6d9cc2e2d9a36aa3"
   }
  }
 },
 "nbformat": 4,
 "nbformat_minor": 2
}
