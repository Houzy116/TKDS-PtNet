{
 "cells": [
  {
   "cell_type": "code",
   "execution_count": 1,
   "metadata": {},
   "outputs": [],
   "source": [
    "import gdal\n",
    "import numpy as np\n",
    "import pandas as pd\n",
    "import os\n",
    "import geopandas as gpd\n",
    "import matplotlib.pyplot as plt\n",
    "import torch\n",
    "from glob import glob\n",
    "import shapely\n",
    "import random\n",
    "from tqdm import tqdm\n",
    "from collections import Counter\n",
    "from pybob.GeoImg import GeoImg\n",
    "import osr\n",
    "from pybob.image_tools import create_mask_from_shapefile\n",
    "import gc\n",
    "import imageio\n",
    "import time\n",
    "import shutil"
   ]
  },
  {
   "cell_type": "code",
   "execution_count": 2,
   "metadata": {},
   "outputs": [],
   "source": [
    "def get_mask(maskshp,geotrf,shape,p='4326'):\n",
    "    img=np.zeros((shape[0],shape[1]))\n",
    "    \n",
    "    if p=='4326':\n",
    "        sref = osr.SpatialReference()\n",
    "        sref.ImportFromEPSG(4326)\n",
    "        proj = sref.ExportToWkt()\n",
    "    else:\n",
    "        proj=p\n",
    "    \n",
    "    trf=(geotrf[0], geotrf[1], geotrf[2], geotrf[3], geotrf[4], geotrf[5])\n",
    "    drv = gdal.GetDriverByName('MEM')\n",
    "    dst = drv.Create('', shape[1], shape[0], 1, gdal.GDT_UInt16)\n",
    "\n",
    "    sp = dst.SetProjection(proj)\n",
    "    sg = dst.SetGeoTransform(trf)\n",
    "\n",
    "    wa = dst.GetRasterBand(1).WriteArray(img)\n",
    "    del wa, sg, sp\n",
    "    img_bob = GeoImg(dst)\n",
    "    mask = create_mask_from_shapefile(img_bob, maskshp)\n",
    "    return mask\n",
    "def read_img(path):\n",
    "    ds=gdal.Open(path)\n",
    "    trf=ds.GetGeoTransform()\n",
    "    img=ds.ReadAsArray()\n",
    "    return {'trf':trf,'img':img}\n",
    "def tif_save_bands(img,save_name,trf,p='4326'):\n",
    "    driver=gdal.GetDriverByName('GTiff')\n",
    "    new_img=driver.Create(save_name,img.shape[2],img.shape[1],img.shape[0],6,['COMPRESS=LZW','BIGTIFF=YES'])\n",
    "    new_img.SetGeoTransform(trf)\n",
    "    \n",
    "    if p=='4326':\n",
    "        sref = osr.SpatialReference()\n",
    "        sref.ImportFromEPSG(4326)\n",
    "        proj = sref.ExportToWkt()\n",
    "    else:\n",
    "        proj=p\n",
    "    new_img.SetProjection(proj)\n",
    "    for i in range(img.shape[0]):\n",
    "        new_img.GetRasterBand(i+1).WriteArray(img[i,:,:])\n",
    "    new_img.FlushCache()\n",
    "    del new_img\n",
    "def tif_save(img,save_name,trf,p='4326'):\n",
    "    driver=gdal.GetDriverByName('GTiff')\n",
    "    new_img=driver.Create(save_name,img.shape[1],img.shape[0],1,6,['COMPRESS=LZW','BIGTIFF=YES'])\n",
    "    new_img.SetGeoTransform(trf)\n",
    "    \n",
    "    if p=='4326':\n",
    "        sref = osr.SpatialReference()\n",
    "        sref.ImportFromEPSG(4326)\n",
    "        proj = sref.ExportToWkt()\n",
    "    else:\n",
    "        proj=p\n",
    "    new_img.SetProjection(proj)\n",
    "    new_img.GetRasterBand(1).SetNoDataValue(0)\n",
    "    new_img.GetRasterBand(1).WriteArray(img)\n",
    "    new_img.FlushCache()\n",
    "    del new_img"
   ]
  },
  {
   "cell_type": "markdown",
   "metadata": {},
   "source": [
    "# 图像预处理"
   ]
  },
  {
   "cell_type": "code",
   "execution_count": 8,
   "metadata": {},
   "outputs": [],
   "source": [
    "cities=['Homs', 'Idlib', 'Raqqa', 'Aleppo', 'Deir-ez-Zor', 'Hama']\n",
    "pathes={'Homs':['/data4/Syria_img/Homs_A_20100629_treated.tif',\n",
    " '/data4/Syria_img/Homs_enhance-A-B-1_20120531_treated.tif',\n",
    " '/data4/Syria_img/Homs_enhance-A-B-2_20120829_treated.tif',\n",
    " '/data4/Syria_img/Homs_enhance-A-B-3_20130309_treated.tif',\n",
    " '/data4/Syria_img/Homs_B_20130926_treated.tif',\n",
    " '/data4/Syria_img/Homs_enhance-B-C-1_20131031_treated.tif',\n",
    " '/data4/Syria_img/Homs_enhance-B-C-2_20140403_treated.tif',\n",
    " '/data4/Syria_img/Homs_C_20140421_treated.tif',\n",
    " '/data4/Syria_img/Homs_enhance-C-Z-1_20140609_treated.tif',\n",
    " '/data4/Syria_img/Homs_enhance-C-Z-2_20160530_treated.tif',\n",
    " '/data4/Syria_img/Homs_enhance-C-Z-3_20160601_treated.tif',\n",
    " '/data4/Syria_img/Homs_rebuilding-1_20200508_treated.tif',\n",
    " '/data4/Syria_img/Homs_rebuilding-2_20201228_treated.tif',\n",
    " '/data4/Syria_img/Homs_rebuilding-3_20210629_treated.tif'],\n",
    " 'Idlib':['/data4/Syria_img/Idlib_A_20100322_treated.tif',\n",
    " '/data4/Syria_img/Idlib_enhance-A-B-1_20120927_treated.tif',\n",
    " '/data4/Syria_img/Idlib_enhance-A-B-2_20121003_treated.tif',\n",
    " '/data4/Syria_img/Idlib_enhance-A-B-3_20130824_treated.tif',\n",
    " '/data4/Syria_img/Idlib_B_20130915_treated.tif',\n",
    " '/data4/Syria_img/Idlib_enhance-B-C-1_20140207_treated.tif',\n",
    " '/data4/Syria_img/Idlib_C_20140502_treated.tif',\n",
    " '/data4/Syria_img/Idlib_enhance-C-D-1_20140531_treated.tif',\n",
    " '/data4/Syria_img/Idlib_enhance-C-D-2_20140924_treated.tif',\n",
    " '/data4/Syria_img/Idlib_D_20150406_treated.tif',\n",
    " '/data4/Syria_img/Idlib_enhance-D-E-1_20150417_treated.tif',\n",
    " '/data4/Syria_img/Idlib_enhance-D-E-3_20160601_treated.tif',\n",
    " '/data4/Syria_img/Idlib_E_20160801_treated.tif',\n",
    " '/data4/Syria_img/Idlib_enhance-E-Z-1_20161001_treated.tif',\n",
    " '/data4/Syria_img/Idlib_enhance-E-Z-2_20170221_treated.tif',\n",
    " '/data4/Syria_img/Idlib_enhance-E-Z-3_20170717_treated.tif',\n",
    " '/data4/Syria_img/Idlib_rebuilding-1_20201023_treated.tif',\n",
    " '/data4/Syria_img/Idlib_rebuilding-2_20201227_treated.tif',\n",
    " '/data4/Syria_img/Idlib_rebuilding-3_20210819_treated.tif'],\n",
    " 'Raqqa':['/data4/Syria_img/Raqqa_A_20100703_treated.tif',\n",
    " '/data4/Syria_img/Raqqa_enhance-A-B-1_20120928_treated.tif',\n",
    " '/data4/Syria_img/Raqqa_enhance-A-B-2_20121010_treated.tif',\n",
    " '/data4/Syria_img/Raqqa_enhance-A-B-3_20130117_treated.tif',\n",
    " '/data4/Syria_img/Raqqa_enhance-A-B-4_20130213_treated.tif',\n",
    " '/data4/Syria_img/Raqqa_C_20140212_treated.tif',\n",
    " '/data4/Syria_img/Raqqa_enhance-C-D-1_20140321_treated.tif',\n",
    " '/data4/Syria_img/Raqqa_enhance-C-D-2_20141006_treated.tif',\n",
    " '/data4/Syria_img/Raqqa_enhance-C-D-3_20150202_treated.tif',\n",
    " '/data4/Syria_img/Raqqa_D_20150529_treated.tif',\n",
    " '/data4/Syria_img/Raqqa_enhance-D-Z-1_20160220_treated.tif',\n",
    " '/data4/Syria_img/Raqqa_enhance-D-Z-2_20160613_treated.tif',\n",
    " '/data4/Syria_img/Raqqa_enhance-D-Z-3_20160916_treated.tif',\n",
    " '/data4/Syria_img/Raqqa_enhance-D-Z-4_20170701_treated.tif',\n",
    "  '/data4/Syria_img/Raqqa_rebuilding-1_20200703_treated.tif'],\n",
    " 'Aleppo':['/data4/Syria_img/Aleppo_A_20100704_treated.tif',\n",
    " '/data4/Syria_img/Aleppo_enhance-A-B-1_20121230_treated.tif',\n",
    " '/data4/Syria_img/Aleppo_enhance-A-B-2_20130226_treated.tif',\n",
    " '/data4/Syria_img/Aleppo_enhance-A-B-3_20130526_treated.tif',\n",
    " '/data4/Syria_img/Aleppo_B_20130923_treated.tif',\n",
    " '/data4/Syria_img/Aleppo_enhance-B-C-1_20131031_treated.tif',\n",
    " '/data4/Syria_img/Aleppo_enhance-B-C-2_20140131_treated.tif',\n",
    " '/data4/Syria_img/Aleppo_enhance-B-C-3_20140426_treated.tif',\n",
    " '/data4/Syria_img/Aleppo_C_20140523_treated.tif',\n",
    " '/data4/Syria_img/Aleppo_enhance-C-D-1_20140714_treated.tif',\n",
    " '/data4/Syria_img/Aleppo_enhance-C-D-2_20140918_treated.tif',\n",
    " '/data4/Syria_img/Aleppo_enhance-C-D-3_20141215_treated.tif',\n",
    " '/data4/Syria_img/Aleppo_D_20150426_treated.tif',\n",
    " '/data4/Syria_img/Aleppo_enhance-D-E-1_20151122_treated.tif',\n",
    " '/data4/Syria_img/Aleppo_enhance-D-E-2_20160425_treated.tif',\n",
    " '/data4/Syria_img/Aleppo_enhance-D-E-3_20160803_treated.tif',\n",
    " '/data4/Syria_img/Aleppo_E_20150918_treated.tif',\n",
    " '/data4/Syria_img/Aleppo_enhance-E-Z-1_20160925_treated.tif',\n",
    " '/data4/Syria_img/Aleppo_enhance-E-Z-2_20161001_treated.tif',\n",
    " '/data4/Syria_img/Aleppo_enhance-E-Z-3_20161010_treated.tif',\n",
    "  '/data4/Syria_img/Aleppo_rebuilding-1_20210110_treated.tif',\n",
    " '/data4/Syria_img/Aleppo_rebuilding-2_20210327_treated.tif',\n",
    " '/data4/Syria_img/Aleppo_rebuilding-3_20210730_treated.tif'],\n",
    " 'Deir-ez-Zor': ['/data4/Syria_img/Deir-ez-Zor_A_20090327_treated.tif',\n",
    " '/data4/Syria_img/Deir-ez-Zor_enhance-A-B-1_20121205_treated.tif',\n",
    " '/data4/Syria_img/Deir-ez-Zor_enhance-A-B-2_20130213_treated.tif',\n",
    " '/data4/Syria_img/Deir-ez-Zor_enhance-A-B-3_20130223_treated.tif',\n",
    " '/data4/Syria_img/Deir-ez-Zor_B_20131024_treated.tif',\n",
    " '/data4/Syria_img/Deir-ez-Zor_C_20140513_treated.tif',\n",
    " '/data4/Syria_img/Deir-ez-Zor_enhance-C-D-1_20140916_treated.tif',\n",
    " '/data4/Syria_img/Deir-ez-Zor_enhance-C-D-2_20141015_treated.tif',\n",
    " '/data4/Syria_img/Deir-ez-Zor_enhance-C-D-3_20141125_treated.tif',\n",
    " '/data4/Syria_img/Deir-ez-Zor_D_20150510_treated.tif',\n",
    " '/data4/Syria_img/Deir-ez-Zor_enhance-D-E-1_20160417_treated.tif',\n",
    " '/data4/Syria_img/Deir-ez-Zor_E_20160525_treated.tif',\n",
    " '/data4/Syria_img/Deir-ez-Zor_enhance-E-Z-1_20160706_treated.tif',\n",
    " '/data4/Syria_img/Deir-ez-Zor_enhance-E-Z-2_20160813_treated.tif',\n",
    " '/data4/Syria_img/Deir-ez-Zor_enhance-E-Z-3_20160913_treated.tif',\n",
    "  '/data4/Syria_img/Deir-ez-Zor_rebuilding-1_20210717_treated.tif',\n",
    " '/data4/Syria_img/Deir-ez-Zor_rebuilding-2_20210818_treated.tif',\n",
    " '/data4/Syria_img/Deir-ez-Zor_rebuilding-3_20210829_treated.tif'],\n",
    " 'Hama':['/data4/Syria_img/Hama_A_20090607_treated.tif',\n",
    " '/data4/Syria_img/Hama_enhance-A-B-1_20120921_treated.tif',\n",
    " '/data4/Syria_img/Hama_enhance-A-B-2_20130309_treated.tif',\n",
    " '/data4/Syria_img/Hama_enhance-A-B-3_20130827_treated.tif',\n",
    " '/data4/Syria_img/Hama_B_20130926_treated.tif',\n",
    " '/data4/Syria_img/Hama_enhance-B-C-1_20131031_treated.tif',\n",
    " '/data4/Syria_img/Hama_C_20140305_treated.tif',\n",
    " '/data4/Syria_img/Hama_enhance-C-D-1_20140526_treated.tif',\n",
    " '/data4/Syria_img/Hama_enhance-C-D-2_20140613_treated.tif',\n",
    " '/data4/Syria_img/Hama_enhance-C-D-3_20140804_treated.tif',\n",
    " '/data4/Syria_img/Hama_enhance-C-D-4_20140917_treated.tif',\n",
    " '/data4/Syria_img/Hama_enhance-C-D-5_20160518_treated.tif',\n",
    " '/data4/Syria_img/Hama_enhance-C-D-6_20160530_treated.tif',\n",
    " '/data4/Syria_img/Hama_enhance-D-Z-1_20160913_treated.tif',\n",
    " '/data4/Syria_img/Hama_enhance-D-Z-2_20161010_treated.tif',\n",
    " '/data4/Syria_img/Hama_enhance-D-Z-3_20170221_treated.tif',\n",
    " '/data4/Syria_img/Hama_enhance-D-Z-4_20170730_treated.tif',\n",
    "  '/data4/Syria_img/Hama_rebuilding-1_20200626_treated.tif',\n",
    " '/data4/Syria_img/Hama_rebuilding-2_20200819_treated.tif',\n",
    " '/data4/Syria_img/Hama_rebuilding-3_20210812_treated.tif']}\n",
    "\n"
   ]
  },
  {
   "cell_type": "code",
   "execution_count": 11,
   "metadata": {},
   "outputs": [
    {
     "data": {
      "text/plain": [
       "{'Homs': ['/data4/Syria_img/Homs_A_20100629_treated.tif',\n",
       "  '/data4/Syria_img/Homs_enhance-A-B-1_20120531_treated.tif',\n",
       "  '/data4/Syria_img/Homs_enhance-A-B-2_20120829_treated.tif',\n",
       "  '/data4/Syria_img/Homs_enhance-A-B-3_20130309_treated.tif',\n",
       "  '/data4/Syria_img/Homs_B_20130926_treated.tif',\n",
       "  '/data4/Syria_img/Homs_enhance-B-C-1_20131031_treated.tif',\n",
       "  '/data4/Syria_img/Homs_enhance-B-C-2_20140403_treated.tif',\n",
       "  '/data4/Syria_img/Homs_C_20140421_treated.tif',\n",
       "  '/data4/Syria_img/Homs_enhance-C-Z-1_20140609_treated.tif',\n",
       "  '/data4/Syria_img/Homs_enhance-C-Z-2_20160530_treated.tif',\n",
       "  '/data4/Syria_img/Homs_enhance-C-Z-3_20160601_treated.tif'],\n",
       " 'Idlib': ['/data4/Syria_img/Idlib_A_20100322_treated.tif',\n",
       "  '/data4/Syria_img/Idlib_enhance-A-B-1_20120927_treated.tif',\n",
       "  '/data4/Syria_img/Idlib_enhance-A-B-2_20121003_treated.tif',\n",
       "  '/data4/Syria_img/Idlib_enhance-A-B-3_20130824_treated.tif',\n",
       "  '/data4/Syria_img/Idlib_B_20130915_treated.tif',\n",
       "  '/data4/Syria_img/Idlib_enhance-B-C-1_20140207_treated.tif',\n",
       "  '/data4/Syria_img/Idlib_C_20140502_treated.tif',\n",
       "  '/data4/Syria_img/Idlib_enhance-C-D-1_20140531_treated.tif',\n",
       "  '/data4/Syria_img/Idlib_enhance-C-D-2_20140924_treated.tif',\n",
       "  '/data4/Syria_img/Idlib_D_20150406_treated.tif',\n",
       "  '/data4/Syria_img/Idlib_enhance-D-E-1_20150417_treated.tif',\n",
       "  '/data4/Syria_img/Idlib_enhance-D-E-3_20160601_treated.tif',\n",
       "  '/data4/Syria_img/Idlib_E_20160801_treated.tif',\n",
       "  '/data4/Syria_img/Idlib_enhance-E-Z-1_20161001_treated.tif',\n",
       "  '/data4/Syria_img/Idlib_enhance-E-Z-2_20170221_treated.tif',\n",
       "  '/data4/Syria_img/Idlib_enhance-E-Z-3_20170717_treated.tif'],\n",
       " 'Raqqa': ['/data4/Syria_img/Raqqa_A_20100703_treated.tif',\n",
       "  '/data4/Syria_img/Raqqa_enhance-A-B-1_20120928_treated.tif',\n",
       "  '/data4/Syria_img/Raqqa_enhance-A-B-2_20121010_treated.tif',\n",
       "  '/data4/Syria_img/Raqqa_enhance-A-B-3_20130117_treated.tif',\n",
       "  '/data4/Syria_img/Raqqa_enhance-A-B-4_20130213_treated.tif',\n",
       "  '/data4/Syria_img/Raqqa_C_20140212_treated.tif',\n",
       "  '/data4/Syria_img/Raqqa_enhance-C-D-1_20140321_treated.tif',\n",
       "  '/data4/Syria_img/Raqqa_enhance-C-D-2_20141006_treated.tif',\n",
       "  '/data4/Syria_img/Raqqa_enhance-C-D-3_20150202_treated.tif',\n",
       "  '/data4/Syria_img/Raqqa_D_20150529_treated.tif',\n",
       "  '/data4/Syria_img/Raqqa_enhance-D-Z-1_20160220_treated.tif',\n",
       "  '/data4/Syria_img/Raqqa_enhance-D-Z-2_20160613_treated.tif',\n",
       "  '/data4/Syria_img/Raqqa_enhance-D-Z-3_20160916_treated.tif',\n",
       "  '/data4/Syria_img/Raqqa_enhance-D-Z-4_20170701_treated.tif'],\n",
       " 'Aleppo': ['/data4/Syria_img/Aleppo_A_20100704_treated.tif',\n",
       "  '/data4/Syria_img/Aleppo_enhance-A-B-1_20121230_treated.tif',\n",
       "  '/data4/Syria_img/Aleppo_enhance-A-B-2_20130226_treated.tif',\n",
       "  '/data4/Syria_img/Aleppo_enhance-A-B-3_20130526_treated.tif',\n",
       "  '/data4/Syria_img/Aleppo_B_20130923_treated.tif',\n",
       "  '/data4/Syria_img/Aleppo_enhance-B-C-1_20131031_treated.tif',\n",
       "  '/data4/Syria_img/Aleppo_enhance-B-C-2_20140131_treated.tif',\n",
       "  '/data4/Syria_img/Aleppo_enhance-B-C-3_20140426_treated.tif',\n",
       "  '/data4/Syria_img/Aleppo_C_20140523_treated.tif',\n",
       "  '/data4/Syria_img/Aleppo_enhance-C-D-1_20140714_treated.tif',\n",
       "  '/data4/Syria_img/Aleppo_enhance-C-D-2_20140918_treated.tif',\n",
       "  '/data4/Syria_img/Aleppo_enhance-C-D-3_20141215_treated.tif',\n",
       "  '/data4/Syria_img/Aleppo_D_20150426_treated.tif',\n",
       "  '/data4/Syria_img/Aleppo_enhance-D-E-1_20151122_treated.tif',\n",
       "  '/data4/Syria_img/Aleppo_enhance-D-E-2_20160425_treated.tif',\n",
       "  '/data4/Syria_img/Aleppo_enhance-D-E-3_20160803_treated.tif',\n",
       "  '/data4/Syria_img/Aleppo_E_20150918_treated.tif',\n",
       "  '/data4/Syria_img/Aleppo_enhance-E-Z-1_20160925_treated.tif',\n",
       "  '/data4/Syria_img/Aleppo_enhance-E-Z-2_20161001_treated.tif',\n",
       "  '/data4/Syria_img/Aleppo_enhance-E-Z-3_20161010_treated.tif'],\n",
       " 'Deir-ez-Zor': ['/data4/Syria_img/Deir-ez-Zor_A_20090327_treated.tif',\n",
       "  '/data4/Syria_img/Deir-ez-Zor_enhance-A-B-1_20121205_treated.tif',\n",
       "  '/data4/Syria_img/Deir-ez-Zor_enhance-A-B-2_20130213_treated.tif',\n",
       "  '/data4/Syria_img/Deir-ez-Zor_enhance-A-B-3_20130223_treated.tif',\n",
       "  '/data4/Syria_img/Deir-ez-Zor_B_20131024_treated.tif',\n",
       "  '/data4/Syria_img/Deir-ez-Zor_C_20140513_treated.tif',\n",
       "  '/data4/Syria_img/Deir-ez-Zor_enhance-C-D-1_20140916_treated.tif',\n",
       "  '/data4/Syria_img/Deir-ez-Zor_enhance-C-D-2_20141015_treated.tif',\n",
       "  '/data4/Syria_img/Deir-ez-Zor_enhance-C-D-3_20141125_treated.tif',\n",
       "  '/data4/Syria_img/Deir-ez-Zor_D_20150510_treated.tif',\n",
       "  '/data4/Syria_img/Deir-ez-Zor_enhance-D-E-1_20160417_treated.tif',\n",
       "  '/data4/Syria_img/Deir-ez-Zor_E_20160525_treated.tif',\n",
       "  '/data4/Syria_img/Deir-ez-Zor_enhance-E-Z-1_20160706_treated.tif',\n",
       "  '/data4/Syria_img/Deir-ez-Zor_enhance-E-Z-2_20160813_treated.tif',\n",
       "  '/data4/Syria_img/Deir-ez-Zor_enhance-E-Z-3_20160913_treated.tif'],\n",
       " 'Hama': ['/data4/Syria_img/Hama_A_20090607_treated.tif',\n",
       "  '/data4/Syria_img/Hama_enhance-A-B-1_20120921_treated.tif',\n",
       "  '/data4/Syria_img/Hama_enhance-A-B-2_20130309_treated.tif',\n",
       "  '/data4/Syria_img/Hama_enhance-A-B-3_20130827_treated.tif',\n",
       "  '/data4/Syria_img/Hama_B_20130926_treated.tif',\n",
       "  '/data4/Syria_img/Hama_enhance-B-C-1_20131031_treated.tif',\n",
       "  '/data4/Syria_img/Hama_C_20140305_treated.tif',\n",
       "  '/data4/Syria_img/Hama_enhance-C-D-1_20140526_treated.tif',\n",
       "  '/data4/Syria_img/Hama_enhance-C-D-2_20140613_treated.tif',\n",
       "  '/data4/Syria_img/Hama_enhance-C-D-3_20140804_treated.tif',\n",
       "  '/data4/Syria_img/Hama_enhance-C-D-4_20140917_treated.tif',\n",
       "  '/data4/Syria_img/Hama_enhance-C-D-5_20160518_treated.tif',\n",
       "  '/data4/Syria_img/Hama_enhance-C-D-6_20160530_treated.tif',\n",
       "  '/data4/Syria_img/Hama_enhance-D-Z-1_20160913_treated.tif',\n",
       "  '/data4/Syria_img/Hama_enhance-D-Z-2_20161010_treated.tif',\n",
       "  '/data4/Syria_img/Hama_enhance-D-Z-3_20170221_treated.tif',\n",
       "  '/data4/Syria_img/Hama_enhance-D-Z-4_20170730_treated.tif']}"
      ]
     },
     "execution_count": 11,
     "metadata": {},
     "output_type": "execute_result"
    }
   ],
   "source": [
    "pathes_norebuilding={}\n",
    "for city in cities:\n",
    "    p=pathes[city]\n",
    "    pathes_norebuilding[city]=[i for i in p if 'rebuilding' not in i]\n",
    "pathes_norebuilding"
   ]
  },
  {
   "cell_type": "code",
   "execution_count": 18,
   "metadata": {},
   "outputs": [],
   "source": [
    "for city in cities:\n",
    "    ps=pathes_norebuilding[city]\n",
    "    for p in ps:\n",
    "        if not os.path.exists(p.replace('.tif',f'_size_120.npy')):\n",
    "            print(p)"
   ]
  },
  {
   "cell_type": "code",
   "execution_count": 31,
   "metadata": {},
   "outputs": [
    {
     "name": "stdout",
     "output_type": "stream",
     "text": [
      "Homs\n",
      "/data4/Syria_img/Homs_enhance-A-B-1_20120531_treated.tif\n"
     ]
    },
    {
     "name": "stderr",
     "output_type": "stream",
     "text": [
      "100%|██████████| 5/5 [00:00<00:00, 109.90it/s]\n"
     ]
    },
    {
     "name": "stdout",
     "output_type": "stream",
     "text": [
      "/data4/Syria_img/Homs_enhance-A-B-2_20120829_treated.tif\n"
     ]
    },
    {
     "name": "stderr",
     "output_type": "stream",
     "text": [
      "100%|██████████| 5/5 [00:00<00:00, 77.83it/s]\n"
     ]
    },
    {
     "name": "stdout",
     "output_type": "stream",
     "text": [
      "/data4/Syria_img/Homs_enhance-A-B-3_20130309_treated.tif\n"
     ]
    },
    {
     "name": "stderr",
     "output_type": "stream",
     "text": [
      "100%|██████████| 5/5 [00:00<00:00, 91.94it/s]\n"
     ]
    },
    {
     "name": "stdout",
     "output_type": "stream",
     "text": [
      "/data4/Syria_img/Homs_B_20130926_treated.tif\n"
     ]
    },
    {
     "name": "stderr",
     "output_type": "stream",
     "text": [
      "100%|██████████| 5/5 [00:00<00:00, 71.11it/s]\n"
     ]
    },
    {
     "name": "stdout",
     "output_type": "stream",
     "text": [
      "/data4/Syria_img/Homs_enhance-A-B-1_20120531_treated.tif\n"
     ]
    },
    {
     "name": "stderr",
     "output_type": "stream",
     "text": [
      "100%|██████████| 5/5 [00:00<00:00, 109.14it/s]\n"
     ]
    },
    {
     "name": "stdout",
     "output_type": "stream",
     "text": [
      "/data4/Syria_img/Homs_enhance-A-B-2_20120829_treated.tif\n"
     ]
    },
    {
     "name": "stderr",
     "output_type": "stream",
     "text": [
      "100%|██████████| 5/5 [00:00<00:00, 77.52it/s]\n"
     ]
    },
    {
     "name": "stdout",
     "output_type": "stream",
     "text": [
      "/data4/Syria_img/Homs_enhance-A-B-3_20130309_treated.tif\n"
     ]
    },
    {
     "name": "stderr",
     "output_type": "stream",
     "text": [
      "100%|██████████| 5/5 [00:00<00:00, 91.57it/s]\n"
     ]
    },
    {
     "name": "stdout",
     "output_type": "stream",
     "text": [
      "/data4/Syria_img/Homs_enhance-B-C-1_20131031_treated.tif\n"
     ]
    },
    {
     "name": "stderr",
     "output_type": "stream",
     "text": [
      "100%|██████████| 5/5 [00:00<00:00, 54.00it/s]\n"
     ]
    },
    {
     "name": "stdout",
     "output_type": "stream",
     "text": [
      "/data4/Syria_img/Homs_enhance-B-C-2_20140403_treated.tif\n"
     ]
    },
    {
     "name": "stderr",
     "output_type": "stream",
     "text": [
      "100%|██████████| 5/5 [00:00<00:00, 90.65it/s]\n"
     ]
    },
    {
     "name": "stdout",
     "output_type": "stream",
     "text": [
      "/data4/Syria_img/Homs_C_20140421_treated.tif\n"
     ]
    },
    {
     "name": "stderr",
     "output_type": "stream",
     "text": [
      "100%|██████████| 5/5 [00:00<00:00, 79.47it/s]\n"
     ]
    },
    {
     "name": "stdout",
     "output_type": "stream",
     "text": [
      "/data4/Syria_img/Homs_enhance-B-C-1_20131031_treated.tif\n"
     ]
    },
    {
     "name": "stderr",
     "output_type": "stream",
     "text": [
      "100%|██████████| 5/5 [00:00<00:00, 71.49it/s]\n"
     ]
    },
    {
     "name": "stdout",
     "output_type": "stream",
     "text": [
      "/data4/Syria_img/Homs_enhance-B-C-2_20140403_treated.tif\n"
     ]
    },
    {
     "name": "stderr",
     "output_type": "stream",
     "text": [
      "100%|██████████| 5/5 [00:00<00:00, 90.45it/s]\n"
     ]
    },
    {
     "name": "stdout",
     "output_type": "stream",
     "text": [
      "/data4/Syria_img/Homs_enhance-C-Z-1_20140609_treated.tif\n"
     ]
    },
    {
     "name": "stderr",
     "output_type": "stream",
     "text": [
      "100%|██████████| 5/5 [00:00<00:00, 95.62it/s]\n"
     ]
    },
    {
     "name": "stdout",
     "output_type": "stream",
     "text": [
      "/data4/Syria_img/Homs_enhance-C-Z-2_20160530_treated.tif\n"
     ]
    },
    {
     "name": "stderr",
     "output_type": "stream",
     "text": [
      "100%|██████████| 5/5 [00:00<00:00, 76.41it/s]\n"
     ]
    },
    {
     "name": "stdout",
     "output_type": "stream",
     "text": [
      "/data4/Syria_img/Homs_enhance-C-Z-3_20160601_treated.tif\n"
     ]
    },
    {
     "name": "stderr",
     "output_type": "stream",
     "text": [
      "100%|██████████| 5/5 [00:00<00:00, 101.82it/s]\n"
     ]
    },
    {
     "name": "stdout",
     "output_type": "stream",
     "text": [
      "Idlib\n",
      "/data4/Syria_img/Idlib_enhance-A-B-1_20120927_treated.tif\n"
     ]
    },
    {
     "name": "stderr",
     "output_type": "stream",
     "text": [
      "100%|██████████| 110/110 [00:00<00:00, 138.28it/s]\n"
     ]
    },
    {
     "name": "stdout",
     "output_type": "stream",
     "text": [
      "/data4/Syria_img/Idlib_enhance-A-B-2_20121003_treated.tif\n"
     ]
    },
    {
     "name": "stderr",
     "output_type": "stream",
     "text": [
      "100%|██████████| 110/110 [00:00<00:00, 130.33it/s]\n"
     ]
    },
    {
     "name": "stdout",
     "output_type": "stream",
     "text": [
      "/data4/Syria_img/Idlib_enhance-A-B-3_20130824_treated.tif\n"
     ]
    },
    {
     "name": "stderr",
     "output_type": "stream",
     "text": [
      "100%|██████████| 110/110 [00:00<00:00, 127.62it/s]\n"
     ]
    },
    {
     "name": "stdout",
     "output_type": "stream",
     "text": [
      "/data4/Syria_img/Idlib_B_20130915_treated.tif\n"
     ]
    },
    {
     "name": "stderr",
     "output_type": "stream",
     "text": [
      "100%|██████████| 110/110 [00:00<00:00, 141.96it/s]\n"
     ]
    },
    {
     "name": "stdout",
     "output_type": "stream",
     "text": [
      "/data4/Syria_img/Idlib_enhance-B-C-1_20140207_treated.tif\n"
     ]
    },
    {
     "name": "stderr",
     "output_type": "stream",
     "text": [
      "100%|██████████| 110/110 [00:00<00:00, 132.59it/s]\n"
     ]
    },
    {
     "name": "stdout",
     "output_type": "stream",
     "text": [
      "/data4/Syria_img/Idlib_C_20140502_treated.tif\n"
     ]
    },
    {
     "name": "stderr",
     "output_type": "stream",
     "text": [
      "100%|██████████| 110/110 [00:00<00:00, 142.82it/s]\n"
     ]
    },
    {
     "name": "stdout",
     "output_type": "stream",
     "text": [
      "/data4/Syria_img/Idlib_enhance-C-D-1_20140531_treated.tif\n"
     ]
    },
    {
     "name": "stderr",
     "output_type": "stream",
     "text": [
      "100%|██████████| 110/110 [00:01<00:00, 100.08it/s]\n"
     ]
    },
    {
     "name": "stdout",
     "output_type": "stream",
     "text": [
      "/data4/Syria_img/Idlib_enhance-C-D-2_20140924_treated.tif\n"
     ]
    },
    {
     "name": "stderr",
     "output_type": "stream",
     "text": [
      "100%|██████████| 110/110 [00:00<00:00, 131.40it/s]\n"
     ]
    },
    {
     "name": "stdout",
     "output_type": "stream",
     "text": [
      "/data4/Syria_img/Idlib_D_20150406_treated.tif\n"
     ]
    },
    {
     "name": "stderr",
     "output_type": "stream",
     "text": [
      "100%|██████████| 110/110 [00:00<00:00, 124.94it/s]\n"
     ]
    },
    {
     "name": "stdout",
     "output_type": "stream",
     "text": [
      "/data4/Syria_img/Idlib_enhance-D-E-1_20150417_treated.tif\n"
     ]
    },
    {
     "name": "stderr",
     "output_type": "stream",
     "text": [
      "100%|██████████| 110/110 [00:00<00:00, 121.21it/s]\n"
     ]
    },
    {
     "name": "stdout",
     "output_type": "stream",
     "text": [
      "/data4/Syria_img/Idlib_enhance-D-E-3_20160601_treated.tif\n"
     ]
    },
    {
     "name": "stderr",
     "output_type": "stream",
     "text": [
      "100%|██████████| 110/110 [00:00<00:00, 134.81it/s]\n"
     ]
    },
    {
     "name": "stdout",
     "output_type": "stream",
     "text": [
      "/data4/Syria_img/Idlib_E_20160801_treated.tif\n"
     ]
    },
    {
     "name": "stderr",
     "output_type": "stream",
     "text": [
      "100%|██████████| 110/110 [00:00<00:00, 143.87it/s]\n"
     ]
    },
    {
     "name": "stdout",
     "output_type": "stream",
     "text": [
      "/data4/Syria_img/Idlib_enhance-E-Z-1_20161001_treated.tif\n"
     ]
    },
    {
     "name": "stderr",
     "output_type": "stream",
     "text": [
      "100%|██████████| 110/110 [00:00<00:00, 131.11it/s]\n"
     ]
    },
    {
     "name": "stdout",
     "output_type": "stream",
     "text": [
      "/data4/Syria_img/Idlib_enhance-E-Z-2_20170221_treated.tif\n"
     ]
    },
    {
     "name": "stderr",
     "output_type": "stream",
     "text": [
      "100%|██████████| 110/110 [00:00<00:00, 124.01it/s]\n"
     ]
    },
    {
     "name": "stdout",
     "output_type": "stream",
     "text": [
      "/data4/Syria_img/Idlib_enhance-E-Z-3_20170717_treated.tif\n"
     ]
    },
    {
     "name": "stderr",
     "output_type": "stream",
     "text": [
      "100%|██████████| 110/110 [00:00<00:00, 142.45it/s]\n"
     ]
    },
    {
     "name": "stdout",
     "output_type": "stream",
     "text": [
      "Raqqa\n",
      "/data4/Syria_img/Raqqa_enhance-A-B-1_20120928_treated.tif\n"
     ]
    },
    {
     "name": "stderr",
     "output_type": "stream",
     "text": [
      "100%|██████████| 215/215 [00:01<00:00, 121.73it/s]\n"
     ]
    },
    {
     "name": "stdout",
     "output_type": "stream",
     "text": [
      "/data4/Syria_img/Raqqa_enhance-A-B-2_20121010_treated.tif\n"
     ]
    },
    {
     "name": "stderr",
     "output_type": "stream",
     "text": [
      "100%|██████████| 215/215 [00:01<00:00, 137.11it/s]\n"
     ]
    },
    {
     "name": "stdout",
     "output_type": "stream",
     "text": [
      "/data4/Syria_img/Raqqa_enhance-A-B-3_20130117_treated.tif\n"
     ]
    },
    {
     "name": "stderr",
     "output_type": "stream",
     "text": [
      "100%|██████████| 215/215 [00:01<00:00, 120.90it/s]\n"
     ]
    },
    {
     "name": "stdout",
     "output_type": "stream",
     "text": [
      "/data4/Syria_img/Raqqa_enhance-A-B-4_20130213_treated.tif\n"
     ]
    },
    {
     "name": "stderr",
     "output_type": "stream",
     "text": [
      "100%|██████████| 215/215 [00:01<00:00, 125.25it/s]\n"
     ]
    },
    {
     "name": "stdout",
     "output_type": "stream",
     "text": [
      "/data4/Syria_img/Raqqa_C_20140212_treated.tif\n"
     ]
    },
    {
     "name": "stderr",
     "output_type": "stream",
     "text": [
      "100%|██████████| 215/215 [00:01<00:00, 123.85it/s]\n"
     ]
    },
    {
     "name": "stdout",
     "output_type": "stream",
     "text": [
      "/data4/Syria_img/Raqqa_enhance-C-D-1_20140321_treated.tif\n"
     ]
    },
    {
     "name": "stderr",
     "output_type": "stream",
     "text": [
      "100%|██████████| 215/215 [00:01<00:00, 124.58it/s]\n"
     ]
    },
    {
     "name": "stdout",
     "output_type": "stream",
     "text": [
      "/data4/Syria_img/Raqqa_enhance-C-D-2_20141006_treated.tif\n"
     ]
    },
    {
     "name": "stderr",
     "output_type": "stream",
     "text": [
      "100%|██████████| 215/215 [00:01<00:00, 125.38it/s]\n"
     ]
    },
    {
     "name": "stdout",
     "output_type": "stream",
     "text": [
      "/data4/Syria_img/Raqqa_enhance-C-D-3_20150202_treated.tif\n"
     ]
    },
    {
     "name": "stderr",
     "output_type": "stream",
     "text": [
      "100%|██████████| 215/215 [00:01<00:00, 202.75it/s]\n"
     ]
    },
    {
     "name": "stdout",
     "output_type": "stream",
     "text": [
      "/data4/Syria_img/Raqqa_D_20150529_treated.tif\n"
     ]
    },
    {
     "name": "stderr",
     "output_type": "stream",
     "text": [
      "100%|██████████| 215/215 [00:01<00:00, 125.27it/s]\n"
     ]
    },
    {
     "name": "stdout",
     "output_type": "stream",
     "text": [
      "/data4/Syria_img/Raqqa_enhance-D-Z-1_20160220_treated.tif\n"
     ]
    },
    {
     "name": "stderr",
     "output_type": "stream",
     "text": [
      "100%|██████████| 215/215 [00:02<00:00, 101.88it/s]\n"
     ]
    },
    {
     "name": "stdout",
     "output_type": "stream",
     "text": [
      "/data4/Syria_img/Raqqa_enhance-D-Z-2_20160613_treated.tif\n"
     ]
    },
    {
     "name": "stderr",
     "output_type": "stream",
     "text": [
      "100%|██████████| 215/215 [00:02<00:00, 104.87it/s]\n"
     ]
    },
    {
     "name": "stdout",
     "output_type": "stream",
     "text": [
      "/data4/Syria_img/Raqqa_enhance-D-Z-3_20160916_treated.tif\n"
     ]
    },
    {
     "name": "stderr",
     "output_type": "stream",
     "text": [
      "100%|██████████| 215/215 [00:01<00:00, 127.46it/s]\n"
     ]
    },
    {
     "name": "stdout",
     "output_type": "stream",
     "text": [
      "/data4/Syria_img/Raqqa_enhance-D-Z-4_20170701_treated.tif\n"
     ]
    },
    {
     "name": "stderr",
     "output_type": "stream",
     "text": [
      "100%|██████████| 215/215 [00:01<00:00, 119.70it/s]\n"
     ]
    },
    {
     "name": "stdout",
     "output_type": "stream",
     "text": [
      "Aleppo\n",
      "/data4/Syria_img/Aleppo_enhance-A-B-1_20121230_treated.tif\n"
     ]
    },
    {
     "name": "stderr",
     "output_type": "stream",
     "text": [
      "100%|██████████| 681/681 [00:04<00:00, 149.15it/s]\n"
     ]
    },
    {
     "name": "stdout",
     "output_type": "stream",
     "text": [
      "/data4/Syria_img/Aleppo_enhance-A-B-2_20130226_treated.tif\n"
     ]
    },
    {
     "name": "stderr",
     "output_type": "stream",
     "text": [
      "100%|██████████| 681/681 [00:05<00:00, 128.54it/s]\n"
     ]
    },
    {
     "name": "stdout",
     "output_type": "stream",
     "text": [
      "/data4/Syria_img/Aleppo_enhance-A-B-3_20130526_treated.tif\n"
     ]
    },
    {
     "name": "stderr",
     "output_type": "stream",
     "text": [
      "100%|██████████| 681/681 [00:04<00:00, 154.91it/s]\n"
     ]
    },
    {
     "name": "stdout",
     "output_type": "stream",
     "text": [
      "/data4/Syria_img/Aleppo_B_20130923_treated.tif\n"
     ]
    },
    {
     "name": "stderr",
     "output_type": "stream",
     "text": [
      "100%|██████████| 681/681 [00:04<00:00, 138.55it/s]\n"
     ]
    },
    {
     "name": "stdout",
     "output_type": "stream",
     "text": [
      "/data4/Syria_img/Aleppo_enhance-B-C-1_20131031_treated.tif\n"
     ]
    },
    {
     "name": "stderr",
     "output_type": "stream",
     "text": [
      "100%|██████████| 681/681 [00:04<00:00, 140.12it/s]\n"
     ]
    },
    {
     "name": "stdout",
     "output_type": "stream",
     "text": [
      "/data4/Syria_img/Aleppo_enhance-B-C-2_20140131_treated.tif\n"
     ]
    },
    {
     "name": "stderr",
     "output_type": "stream",
     "text": [
      "100%|██████████| 681/681 [00:04<00:00, 152.67it/s]\n"
     ]
    },
    {
     "name": "stdout",
     "output_type": "stream",
     "text": [
      "/data4/Syria_img/Aleppo_enhance-B-C-3_20140426_treated.tif\n"
     ]
    },
    {
     "name": "stderr",
     "output_type": "stream",
     "text": [
      "100%|██████████| 681/681 [00:04<00:00, 145.98it/s]\n"
     ]
    },
    {
     "name": "stdout",
     "output_type": "stream",
     "text": [
      "/data4/Syria_img/Aleppo_C_20140523_treated.tif\n"
     ]
    },
    {
     "name": "stderr",
     "output_type": "stream",
     "text": [
      "100%|██████████| 681/681 [00:05<00:00, 128.05it/s]\n"
     ]
    },
    {
     "name": "stdout",
     "output_type": "stream",
     "text": [
      "/data4/Syria_img/Aleppo_enhance-C-D-1_20140714_treated.tif\n"
     ]
    },
    {
     "name": "stderr",
     "output_type": "stream",
     "text": [
      "100%|██████████| 681/681 [00:05<00:00, 118.60it/s]\n"
     ]
    },
    {
     "name": "stdout",
     "output_type": "stream",
     "text": [
      "/data4/Syria_img/Aleppo_enhance-C-D-2_20140918_treated.tif\n"
     ]
    },
    {
     "name": "stderr",
     "output_type": "stream",
     "text": [
      "100%|██████████| 681/681 [00:04<00:00, 140.16it/s]\n"
     ]
    },
    {
     "name": "stdout",
     "output_type": "stream",
     "text": [
      "/data4/Syria_img/Aleppo_enhance-C-D-3_20141215_treated.tif\n"
     ]
    },
    {
     "name": "stderr",
     "output_type": "stream",
     "text": [
      "100%|██████████| 681/681 [00:04<00:00, 146.59it/s]\n"
     ]
    },
    {
     "name": "stdout",
     "output_type": "stream",
     "text": [
      "/data4/Syria_img/Aleppo_D_20150426_treated.tif\n"
     ]
    },
    {
     "name": "stderr",
     "output_type": "stream",
     "text": [
      "100%|██████████| 681/681 [00:04<00:00, 160.64it/s]\n"
     ]
    },
    {
     "name": "stdout",
     "output_type": "stream",
     "text": [
      "/data4/Syria_img/Aleppo_enhance-D-E-1_20151122_treated.tif\n"
     ]
    },
    {
     "name": "stderr",
     "output_type": "stream",
     "text": [
      "100%|██████████| 681/681 [00:04<00:00, 139.31it/s]\n"
     ]
    },
    {
     "name": "stdout",
     "output_type": "stream",
     "text": [
      "/data4/Syria_img/Aleppo_enhance-D-E-2_20160425_treated.tif\n"
     ]
    },
    {
     "name": "stderr",
     "output_type": "stream",
     "text": [
      "100%|██████████| 681/681 [00:06<00:00, 100.61it/s]\n"
     ]
    },
    {
     "name": "stdout",
     "output_type": "stream",
     "text": [
      "/data4/Syria_img/Aleppo_enhance-D-E-3_20160803_treated.tif\n"
     ]
    },
    {
     "name": "stderr",
     "output_type": "stream",
     "text": [
      "100%|██████████| 681/681 [00:04<00:00, 140.67it/s]\n"
     ]
    },
    {
     "name": "stdout",
     "output_type": "stream",
     "text": [
      "/data4/Syria_img/Aleppo_E_20150918_treated.tif\n"
     ]
    },
    {
     "name": "stderr",
     "output_type": "stream",
     "text": [
      "100%|██████████| 681/681 [00:04<00:00, 149.96it/s]\n"
     ]
    },
    {
     "name": "stdout",
     "output_type": "stream",
     "text": [
      "/data4/Syria_img/Aleppo_enhance-E-Z-1_20160925_treated.tif\n"
     ]
    },
    {
     "name": "stderr",
     "output_type": "stream",
     "text": [
      "100%|██████████| 681/681 [00:04<00:00, 147.60it/s]\n"
     ]
    },
    {
     "name": "stdout",
     "output_type": "stream",
     "text": [
      "/data4/Syria_img/Aleppo_enhance-E-Z-2_20161001_treated.tif\n"
     ]
    },
    {
     "name": "stderr",
     "output_type": "stream",
     "text": [
      "100%|██████████| 681/681 [00:05<00:00, 131.58it/s]\n"
     ]
    },
    {
     "name": "stdout",
     "output_type": "stream",
     "text": [
      "/data4/Syria_img/Aleppo_enhance-E-Z-3_20161010_treated.tif\n"
     ]
    },
    {
     "name": "stderr",
     "output_type": "stream",
     "text": [
      "100%|██████████| 681/681 [00:05<00:00, 124.60it/s]\n"
     ]
    },
    {
     "name": "stdout",
     "output_type": "stream",
     "text": [
      "Deir-ez-Zor\n",
      "/data4/Syria_img/Deir-ez-Zor_enhance-A-B-1_20121205_treated.tif\n"
     ]
    },
    {
     "name": "stderr",
     "output_type": "stream",
     "text": [
      "100%|██████████| 39/39 [00:00<00:00, 135.56it/s]\n"
     ]
    },
    {
     "name": "stdout",
     "output_type": "stream",
     "text": [
      "/data4/Syria_img/Deir-ez-Zor_enhance-A-B-2_20130213_treated.tif\n"
     ]
    },
    {
     "name": "stderr",
     "output_type": "stream",
     "text": [
      "100%|██████████| 39/39 [00:00<00:00, 128.30it/s]\n"
     ]
    },
    {
     "name": "stdout",
     "output_type": "stream",
     "text": [
      "/data4/Syria_img/Deir-ez-Zor_enhance-A-B-3_20130223_treated.tif\n"
     ]
    },
    {
     "name": "stderr",
     "output_type": "stream",
     "text": [
      "100%|██████████| 39/39 [00:00<00:00, 131.08it/s]\n"
     ]
    },
    {
     "name": "stdout",
     "output_type": "stream",
     "text": [
      "/data4/Syria_img/Deir-ez-Zor_B_20131024_treated.tif\n"
     ]
    },
    {
     "name": "stderr",
     "output_type": "stream",
     "text": [
      "100%|██████████| 39/39 [00:00<00:00, 132.47it/s]\n"
     ]
    },
    {
     "name": "stdout",
     "output_type": "stream",
     "text": [
      "/data4/Syria_img/Deir-ez-Zor_C_20140513_treated.tif\n"
     ]
    },
    {
     "name": "stderr",
     "output_type": "stream",
     "text": [
      "100%|██████████| 39/39 [00:00<00:00, 133.67it/s]\n"
     ]
    },
    {
     "name": "stdout",
     "output_type": "stream",
     "text": [
      "/data4/Syria_img/Deir-ez-Zor_enhance-C-D-1_20140916_treated.tif\n"
     ]
    },
    {
     "name": "stderr",
     "output_type": "stream",
     "text": [
      "100%|██████████| 39/39 [00:00<00:00, 114.65it/s]\n"
     ]
    },
    {
     "name": "stdout",
     "output_type": "stream",
     "text": [
      "/data4/Syria_img/Deir-ez-Zor_enhance-C-D-2_20141015_treated.tif\n"
     ]
    },
    {
     "name": "stderr",
     "output_type": "stream",
     "text": [
      "100%|██████████| 39/39 [00:00<00:00, 111.37it/s]\n"
     ]
    },
    {
     "name": "stdout",
     "output_type": "stream",
     "text": [
      "/data4/Syria_img/Deir-ez-Zor_enhance-C-D-3_20141125_treated.tif\n"
     ]
    },
    {
     "name": "stderr",
     "output_type": "stream",
     "text": [
      "100%|██████████| 39/39 [00:00<00:00, 122.99it/s]\n"
     ]
    },
    {
     "name": "stdout",
     "output_type": "stream",
     "text": [
      "/data4/Syria_img/Deir-ez-Zor_D_20150510_treated.tif\n"
     ]
    },
    {
     "name": "stderr",
     "output_type": "stream",
     "text": [
      "100%|██████████| 39/39 [00:00<00:00, 147.26it/s]\n"
     ]
    },
    {
     "name": "stdout",
     "output_type": "stream",
     "text": [
      "/data4/Syria_img/Deir-ez-Zor_enhance-D-E-1_20160417_treated.tif\n"
     ]
    },
    {
     "name": "stderr",
     "output_type": "stream",
     "text": [
      "100%|██████████| 39/39 [00:00<00:00, 92.77it/s]\n"
     ]
    },
    {
     "name": "stdout",
     "output_type": "stream",
     "text": [
      "/data4/Syria_img/Deir-ez-Zor_E_20160525_treated.tif\n"
     ]
    },
    {
     "name": "stderr",
     "output_type": "stream",
     "text": [
      "100%|██████████| 39/39 [00:00<00:00, 93.84it/s]\n"
     ]
    },
    {
     "name": "stdout",
     "output_type": "stream",
     "text": [
      "/data4/Syria_img/Deir-ez-Zor_enhance-E-Z-1_20160706_treated.tif\n"
     ]
    },
    {
     "name": "stderr",
     "output_type": "stream",
     "text": [
      "100%|██████████| 39/39 [00:00<00:00, 113.09it/s]\n"
     ]
    },
    {
     "name": "stdout",
     "output_type": "stream",
     "text": [
      "/data4/Syria_img/Deir-ez-Zor_enhance-E-Z-2_20160813_treated.tif\n"
     ]
    },
    {
     "name": "stderr",
     "output_type": "stream",
     "text": [
      "100%|██████████| 39/39 [00:00<00:00, 134.01it/s]\n"
     ]
    },
    {
     "name": "stdout",
     "output_type": "stream",
     "text": [
      "/data4/Syria_img/Deir-ez-Zor_enhance-E-Z-3_20160913_treated.tif\n"
     ]
    },
    {
     "name": "stderr",
     "output_type": "stream",
     "text": [
      "100%|██████████| 39/39 [00:00<00:00, 101.19it/s]\n"
     ]
    },
    {
     "name": "stdout",
     "output_type": "stream",
     "text": [
      "Hama\n",
      "/data4/Syria_img/Hama_enhance-A-B-1_20120921_treated.tif\n"
     ]
    },
    {
     "name": "stderr",
     "output_type": "stream",
     "text": [
      "100%|██████████| 3/3 [00:00<00:00, 72.19it/s]\n"
     ]
    },
    {
     "name": "stdout",
     "output_type": "stream",
     "text": [
      "/data4/Syria_img/Hama_enhance-A-B-2_20130309_treated.tif\n"
     ]
    },
    {
     "name": "stderr",
     "output_type": "stream",
     "text": [
      "100%|██████████| 3/3 [00:00<00:00, 100.69it/s]\n"
     ]
    },
    {
     "name": "stdout",
     "output_type": "stream",
     "text": [
      "/data4/Syria_img/Hama_enhance-A-B-3_20130827_treated.tif\n"
     ]
    },
    {
     "name": "stderr",
     "output_type": "stream",
     "text": [
      "100%|██████████| 3/3 [00:00<00:00, 100.98it/s]\n"
     ]
    },
    {
     "name": "stdout",
     "output_type": "stream",
     "text": [
      "/data4/Syria_img/Hama_B_20130926_treated.tif\n"
     ]
    },
    {
     "name": "stderr",
     "output_type": "stream",
     "text": [
      "100%|██████████| 3/3 [00:00<00:00, 92.99it/s]\n"
     ]
    },
    {
     "name": "stdout",
     "output_type": "stream",
     "text": [
      "/data4/Syria_img/Hama_enhance-B-C-1_20131031_treated.tif\n"
     ]
    },
    {
     "name": "stderr",
     "output_type": "stream",
     "text": [
      "100%|██████████| 3/3 [00:00<00:00, 82.13it/s]\n"
     ]
    },
    {
     "name": "stdout",
     "output_type": "stream",
     "text": [
      "/data4/Syria_img/Hama_C_20140305_treated.tif\n"
     ]
    },
    {
     "name": "stderr",
     "output_type": "stream",
     "text": [
      "100%|██████████| 3/3 [00:00<00:00, 99.18it/s]\n"
     ]
    },
    {
     "name": "stdout",
     "output_type": "stream",
     "text": [
      "/data4/Syria_img/Hama_enhance-C-D-1_20140526_treated.tif\n"
     ]
    },
    {
     "name": "stderr",
     "output_type": "stream",
     "text": [
      "100%|██████████| 3/3 [00:00<00:00, 86.07it/s]\n"
     ]
    },
    {
     "name": "stdout",
     "output_type": "stream",
     "text": [
      "/data4/Syria_img/Hama_enhance-C-D-2_20140613_treated.tif\n"
     ]
    },
    {
     "name": "stderr",
     "output_type": "stream",
     "text": [
      "100%|██████████| 3/3 [00:00<00:00, 97.14it/s]\n"
     ]
    },
    {
     "name": "stdout",
     "output_type": "stream",
     "text": [
      "/data4/Syria_img/Hama_enhance-C-D-3_20140804_treated.tif\n"
     ]
    },
    {
     "name": "stderr",
     "output_type": "stream",
     "text": [
      "100%|██████████| 3/3 [00:00<00:00, 73.17it/s]\n"
     ]
    },
    {
     "name": "stdout",
     "output_type": "stream",
     "text": [
      "/data4/Syria_img/Hama_enhance-C-D-4_20140917_treated.tif\n"
     ]
    },
    {
     "name": "stderr",
     "output_type": "stream",
     "text": [
      "100%|██████████| 3/3 [00:00<00:00, 91.05it/s]\n"
     ]
    },
    {
     "name": "stdout",
     "output_type": "stream",
     "text": [
      "/data4/Syria_img/Hama_enhance-C-D-5_20160518_treated.tif\n"
     ]
    },
    {
     "name": "stderr",
     "output_type": "stream",
     "text": [
      "100%|██████████| 3/3 [00:00<00:00, 97.32it/s]\n"
     ]
    },
    {
     "name": "stdout",
     "output_type": "stream",
     "text": [
      "/data4/Syria_img/Hama_enhance-C-D-6_20160530_treated.tif\n"
     ]
    },
    {
     "name": "stderr",
     "output_type": "stream",
     "text": [
      "100%|██████████| 3/3 [00:00<00:00, 102.99it/s]\n"
     ]
    },
    {
     "name": "stdout",
     "output_type": "stream",
     "text": [
      "/data4/Syria_img/Hama_enhance-D-Z-1_20160913_treated.tif\n"
     ]
    },
    {
     "name": "stderr",
     "output_type": "stream",
     "text": [
      "100%|██████████| 3/3 [00:00<00:00, 92.91it/s]\n"
     ]
    },
    {
     "name": "stdout",
     "output_type": "stream",
     "text": [
      "/data4/Syria_img/Hama_enhance-D-Z-2_20161010_treated.tif\n"
     ]
    },
    {
     "name": "stderr",
     "output_type": "stream",
     "text": [
      "100%|██████████| 3/3 [00:00<00:00, 67.87it/s]\n"
     ]
    },
    {
     "name": "stdout",
     "output_type": "stream",
     "text": [
      "/data4/Syria_img/Hama_enhance-D-Z-3_20170221_treated.tif\n"
     ]
    },
    {
     "name": "stderr",
     "output_type": "stream",
     "text": [
      "100%|██████████| 3/3 [00:00<00:00, 94.06it/s]\n"
     ]
    },
    {
     "name": "stdout",
     "output_type": "stream",
     "text": [
      "/data4/Syria_img/Hama_enhance-D-Z-4_20170730_treated.tif\n"
     ]
    },
    {
     "name": "stderr",
     "output_type": "stream",
     "text": [
      "100%|██████████| 3/3 [00:00<00:00, 101.79it/s]\n"
     ]
    }
   ],
   "source": [
    "import torch\n",
    "import geopandas as gpd\n",
    "import numpy as np\n",
    "from tqdm import tqdm\n",
    "import imageio\n",
    "liveuamap_point=gpd.read_file('/data4/liveuamap/S_point_use_bomb_xy.shp')\n",
    "for city in cities:\n",
    "    print(city)\n",
    "    city_gpd=liveuamap_point[liveuamap_point['region']==city]\n",
    "    x=list(city_gpd['patch_x'])\n",
    "    y=list(city_gpd['patch_y'])\n",
    "    coords=[[y[i],x[i]] for i in range(len(x))]\n",
    "    ps=pathes_norebuilding[city]\n",
    "    pre_patch=np.load(ps[0].replace('.tif',f'_size_120.npy'))\n",
    "    infos={}\n",
    "    save_root_patch='/ssd/hk/Syria_samples/liveuamap_samples/'\n",
    "    for i in range(1,len(ps)):\n",
    "        print(ps[i])\n",
    "        img_id=os.path.basename(ps[i]).split('_')[1]\n",
    "        post_patch=np.load(ps[i].replace('.tif',f'_size_120.npy'))\n",
    "        infos_p={}\n",
    "        for coord in tqdm(coords):\n",
    "            c_key=str(coord[0]).zfill(3)+str(coord[1]).zfill(3)\n",
    "            pre_path=save_root_patch+'pre/'+f'{city}_{img_id}_{c_key}.png'\n",
    "            post_path=pre_path.replace('/pre/','/post/')\n",
    "            infos_p[c_key]=[pre_path,post_path]\n",
    "            imageio.imwrite(pre_path,pre_patch[:,coord[0],coord[1]].transpose(1,2,0).astype(np.uint8))\n",
    "            imageio.imwrite(post_path,post_patch[:,coord[0],coord[1]].transpose(1,2,0).astype(np.uint8))\n",
    "        infos[ps[i]]=infos_p\n",
    "    torch.save(infos,save_root_patch+f'{city}_samples_info.pth')"
   ]
  },
  {
   "cell_type": "code",
   "execution_count": 97,
   "metadata": {},
   "outputs": [],
   "source": [
    "zzz=[]\n",
    "for i in range(len(liveuamap_point)):\n",
    "    p=liveuamap_point.iloc[i]\n",
    "    c_key=str(p['patch_y']).zfill(3)+str(p['patch_x']).zfill(3)\n",
    "    city=p['region']\n",
    "    sample_mt_path=[]\n",
    "    for i in pathes_norebuilding[city]:\n",
    "        img_id=os.path.basename(i).split('_')[1]\n",
    "        if img_id=='A':\n",
    "            continue\n",
    "        else:\n",
    "            sample_path=f'/ssd/hk/Syria_samples/liveuamap_samples/post/{city}_{img_id}_{c_key}.png'\n",
    "            if not os.path.exists(sample_path):\n",
    "                print(sample_path)\n",
    "                raise()\n",
    "            else:\n",
    "                sample_mt_path.append(sample_path)\n",
    "    zzz.append(sample_mt_path)\n",
    "zzz=[i if len(i)<17 else i[-16:] for i in zzz]\n",
    "kkk=[]\n",
    "for kk in zzz:\n",
    "    k=''\n",
    "    for i in kk:\n",
    "        k+='&'\n",
    "        k+=i\n",
    "    k=k[1:]\n",
    "    kkk.append(k)\n",
    "liveuamap_point['img_path']=kkk"
   ]
  },
  {
   "cell_type": "code",
   "execution_count": 100,
   "metadata": {},
   "outputs": [],
   "source": [
    "dates={}\n",
    "for city in pathes_norebuilding.keys():\n",
    "    ps=pathes_norebuilding[city][1:]\n",
    "    dates_city=[]\n",
    "    for p in ps:\n",
    "        dates_city.append(os.path.basename(p).split('_')[2])\n",
    "    if len(dates_city)>16:\n",
    "        dates_city=dates_city[-16:]\n",
    "    dates_city_str=''\n",
    "    for i in dates_city:\n",
    "        dates_city_str+='&'\n",
    "        dates_city_str+=i\n",
    "    \n",
    "    dates[city]=dates_city_str[1:]\n",
    "dd=[]\n",
    "for i in range(len(liveuamap_point)):\n",
    "    p=liveuamap_point.iloc[i]\n",
    "    city=p['region']\n",
    "    dd.append(dates[city])\n",
    "liveuamap_point['img_dates']=dd\n",
    "        \n",
    "# liveuamap_point.to_file('/data4/liveuamap/S_point_use_bomb_xy_withimg.shp')\n"
   ]
  },
  {
   "cell_type": "code",
   "execution_count": 101,
   "metadata": {},
   "outputs": [],
   "source": []
  },
  {
   "cell_type": "code",
   "execution_count": 27,
   "metadata": {},
   "outputs": [],
   "source": [
    "import sys\n",
    "import imageio\n",
    "import matplotlib.pyplot as plt\n",
    "import torch\n",
    "import numpy as np\n",
    "sys.path.append('..')\n",
    "from model import mynet6size120mtc1v7\n",
    "from model import mynet6size120\n",
    "from model import resnet50\n",
    "# model=mynet6size120mtc1v7.mynet6size120mtc1v7()\n",
    "from collections import OrderedDict\n",
    "def cat(img_pre,img_post):\n",
    "    data=np.concatenate((img_pre,img_post),axis=0)\n",
    "    data=torch.Tensor(data)\n",
    "    return data\n",
    "def get_pre_result(path_post):\n",
    "    w=torch.load('/home/hk/python_script/Ukraine/checkpoints/试一试_mynet6size120mtc1v7_Syria_size120_allcitiesall_effectweight_v3_multi-time_RandomDelandCopyv2_6/best_ckpt.pt')['model_state_dict']\n",
    "    w2={}\n",
    "    for k in w.keys():\n",
    "\n",
    "        k2=k.replace('module.','')\n",
    "        w2[k2]=w[k]\n",
    "    w2=OrderedDict(w2)\n",
    "    model=mynet6size120mtc1v7.mynet6size120mtc1v7()\n",
    "    model.load_state_dict(w2)\n",
    "    labels_v=[1]*len(path_post)\n",
    "    zeros_img_len=16-len(path_post)\n",
    "    path_post+=[None]*zeros_img_len\n",
    "    labels_v+=[-1]*zeros_img_len\n",
    "    path_pre=path_post[0].replace('/post/','/pre/')\n",
    "    img_pre=imageio.imread(path_pre).transpose(2,0,1)\n",
    "    imgs=[cat(img_pre,imageio.imread(post).transpose(2,0,1)) if post is not None else np.zeros((6,120,120)) for post in path_post]\n",
    "    data=np.concatenate(imgs,axis=0)\n",
    "    labels_v=torch.tensor(labels_v)\n",
    "    input=[data,labels_v]\n",
    "    input[0]=torch.Tensor(input[0])\n",
    "    output=model(torch.Tensor(input[0]).unsqueeze(0))\n",
    "    # print('feature1 shape:',feature1.shape)\n",
    "    # print('feature2 shape:',feature2.shape)\n",
    "    ll=input[1].cpu().numpy()\n",
    "    pp=torch.argmax(output,dim=2)[0].cpu().numpy()\n",
    "    pre_result=torch.argmax(output,dim=2)[0].cpu().numpy()[:16-zeros_img_len]\n",
    "    softmax_0 = nn.Softmax(dim=1)\n",
    "    output_softmax=softmax_0(output[0])[:,1].cpu().detach().numpy()[:16-zeros_img_len]\n",
    "    return pre_result,output_softmax\n",
    "pre_results=[]\n",
    "pre_results_softmax=[]\n",
    "for i in tqdm(range(len(liveuamap_point))):\n",
    "    path_post=liveuamap_point.iloc[i]['img_path'].split('&')\n",
    "    out,out_sm=get_pre_result(path_post)\n",
    "    pre_results.append(out)\n",
    "    pre_results_softmax.append(out_sm)"
   ]
  },
  {
   "cell_type": "code",
   "execution_count": 169,
   "metadata": {},
   "outputs": [
    {
     "name": "stderr",
     "output_type": "stream",
     "text": [
      "/home/hk/miniconda3/envs/pythonhzy/lib/python3.7/site-packages/ipykernel_launcher.py:13: UserWarning: Column names longer than 10 characters will be truncated when saved to ESRI Shapefile.\n",
      "  del sys.path[0]\n"
     ]
    }
   ],
   "source": [
    "def to_str(l):\n",
    "    ll=[]\n",
    "    for i in l:\n",
    "        ii=list(i)\n",
    "        k=''\n",
    "        for j in ii:\n",
    "            k+='&'\n",
    "            k+=str(j)\n",
    "        ll.append(k[1:])\n",
    "    return ll\n",
    "liveuamap_point['MTCF-PtNet']=to_str(pre_results)\n",
    "liveuamap_point['MTCF-PtNet_softmax']=to_str(pre_results_softmax)\n",
    "liveuamap_point.to_file('/data4/liveuamap/S_point_use_bomb_xy_withimg.shp')"
   ]
  },
  {
   "cell_type": "code",
   "execution_count": 204,
   "metadata": {},
   "outputs": [],
   "source": [
    "import time\n",
    "def to_timestamp(t):\n",
    "    if not len(t)==8:\n",
    "        raise('time length error')\n",
    "    t=f'{t[:4]}-{t[4:6]}-{t[6:]}'\n",
    "    struct_time=time.strptime(t,'%Y-%m-%d')\n",
    "    return time.mktime(struct_time)\n",
    "\n",
    "def get_before_after_prediction(loc):\n",
    "    dates=loc['img_dates'].split('&')\n",
    "    dates_stamp=[to_timestamp(i) for i in dates]\n",
    "    event_t=loc['timestamp']\n",
    "    prediction_c=[np.int(i) for i in loc['MTCF-PtNet'].split('&')]\n",
    "    prediction_s=[np.float(i) for i in loc['MTCF-PtNet_softmax'].split('&')]\n",
    "    prediction_c+=[-99]*10\n",
    "    prediction_s+=[-99]*10\n",
    "    for i in range(len(dates_stamp)):\n",
    "        if dates_stamp[i]>event_t:\n",
    "            break\n",
    "    before_prediction_c=prediction_c[:i][-5:]\n",
    "    before_prediction_s=prediction_s[:i][-5:]\n",
    "    after_prediction_c=prediction_c[i:][:5]\n",
    "    after_prediction_s=prediction_s[i:][:5]\n",
    "    return before_prediction_c,before_prediction_s,after_prediction_c,after_prediction_s\n",
    "# loc=liveuamap_point.iloc[100]\n",
    "bpc,bps,apc,aps=[],[],[],[]\n",
    "for i in range(len(liveuamap_point)):\n",
    "    loc=liveuamap_point.iloc[i]\n",
    "    a,b,c,d=get_before_after_prediction(loc)\n",
    "    bpc.append(a)\n",
    "    bps.append(b)\n",
    "    apc.append(c)\n",
    "    aps.append(d)\n",
    "liveuamap_point['MTCF-PtNet_before']=to_str(bpc)\n",
    "liveuamap_point['MTCF-PtNet_softmax_before']=to_str(bps)\n",
    "liveuamap_point['MTCF-PtNet_after']=to_str(apc)\n",
    "liveuamap_point['MTCF-PtNet_softmax_after']=to_str(aps)\n",
    "# liveuamap_point\n",
    "# liveuamap_point.to_file('/data4/liveuamap/S_point_use_bomb_xy_withresult.shp')\n",
    "\n"
   ]
  },
  {
   "cell_type": "code",
   "execution_count": 216,
   "metadata": {},
   "outputs": [],
   "source": [
    "pathes=[liveuamap_point.iloc[i]['img_path'].split('&') for i in range(len(liveuamap_point))]\n",
    "pathes2=[]\n",
    "for i in pathes:\n",
    "    pathes2+=i\n",
    "pathes2=[[i,'n'] for i in pathes2]\n",
    "torch.save(pathes2,'/ssd/hk/Syria_samples/liveuamap_samples/reference_v2.pth')"
   ]
  },
  {
   "cell_type": "code",
   "execution_count": 223,
   "metadata": {},
   "outputs": [],
   "source": [
    "liveuamap_point['intervention']=[1]*len(liveuamap_point)"
   ]
  },
  {
   "cell_type": "markdown",
   "metadata": {},
   "source": [
    "# 无干预样本"
   ]
  },
  {
   "cell_type": "code",
   "execution_count": 15,
   "metadata": {},
   "outputs": [],
   "source": [
    "\n",
    "import random\n",
    "import numpy as np\n",
    "import geopandas as gpd\n",
    "liveuamap_point=gpd.read_file('/data4/liveuamap/S_point_use_bomb_xy_withimg.shp')\n",
    "s_all=torch.load(f'/ssd/hk/Syria_samples/split_havedamaged_size120_all_v3/train.pth')\n",
    "s_c={}\n",
    "for c in cities:\n",
    "    s_c[c]=[]\n",
    "for i in s_all:\n",
    "    c=os.path.basename(i[0][0]).split('_')[0]\n",
    "    l=[j for j in i[1] if j is not None]\n",
    "    l=[1 if j=='p' else 0 for j in l]\n",
    "    if np.array(l).sum()==0:\n",
    "        s_c[c].append(i[0])\n",
    "use_nointervention=[]\n",
    "for c in cities:\n",
    "    length=len(liveuamap_point[liveuamap_point['region']==c])\n",
    "    s_cc=s_c[c]\n",
    "    random.shuffle(s_cc)\n",
    "    use_nointervention+=s_cc[:length*10]"
   ]
  },
  {
   "cell_type": "code",
   "execution_count": 20,
   "metadata": {},
   "outputs": [],
   "source": [
    "from shapely.geometry import Point\n",
    "import shapely\n",
    "from glob import glob\n",
    "k=[[os.path.basename(i[0]).split('_')[0],os.path.basename(i[0]).split('_')[-1][:6]] for i in use_nointervention]\n",
    "region=[i[0] for i in k]\n",
    "x=[int(i[1][3:]) for i in k]\n",
    "y=[int(i[1][:3]) for i in k]\n",
    "ids=[i*(-1) for i in range(len(k))]\n",
    "PP=[]\n",
    "for i in range(len(x)):\n",
    "    city=region[i]\n",
    "    fs=glob(f'/data4/Syria_img/{city}*pth')\n",
    "    fs.sort()\n",
    "    # print(fs[0])\n",
    "    a=torch.load(fs[0])\n",
    "    trf=a['trf']\n",
    "    PP.append(Point([(x[i]+0.5)*trf[1]+trf[0],(y[i]+0.5)*trf[5]+trf[3]]))\n",
    "lon=[shapely.geometry.mapping(i)['coordinates'][0] for i in PP]\n",
    "lat=[shapely.geometry.mapping(i)['coordinates'][1] for i in PP]\n",
    "nointervention={}\n",
    "nointervention['id']=ids\n",
    "nointervention['time']=['none']*len(k)\n",
    "nointervention['timestamp']=['none']*len(k)\n",
    "nointervention['type']=['none']*len(k)\n",
    "nointervention['name']=['none']*len(k)\n",
    "nointervention['is_use']=[1]*len(k)\n",
    "nointervention['region']=region\n",
    "nointervention['lat']=lat\n",
    "nointervention['lon']=lon\n",
    "nointervention['patch_x']=x\n",
    "nointervention['patch_y']=y\n",
    "nointervention['geometry']=PP\n",
    "\n",
    "nointervention['intervention']=[0]*len(liveuamap_point)*10\n",
    "nointervention_pd=gpd.GeoDataFrame.from_dict(nointervention)\n",
    "nointervention_pd['MTCF-PtNet_before']=['none']*len(nointervention_pd)\n",
    "nointervention_pd['MTCF-PtNet_softmax_before']=['none']*len(nointervention_pd)\n",
    "nointervention_pd['MTCF-PtNet_after']=['none']*len(nointervention_pd)\n",
    "nointervention_pd['MTCF-PtNet_softmax_after']=['none']*len(nointervention_pd)"
   ]
  },
  {
   "cell_type": "code",
   "execution_count": 23,
   "metadata": {},
   "outputs": [
    {
     "name": "stdout",
     "output_type": "stream",
     "text": [
      "Homs\n",
      "/data4/Syria_img/Homs_enhance-A-B-1_20120531_treated.tif\n"
     ]
    },
    {
     "name": "stderr",
     "output_type": "stream",
     "text": [
      "100%|██████████| 50/50 [00:00<00:00, 111.79it/s]\n"
     ]
    },
    {
     "name": "stdout",
     "output_type": "stream",
     "text": [
      "/data4/Syria_img/Homs_enhance-A-B-2_20120829_treated.tif\n"
     ]
    },
    {
     "name": "stderr",
     "output_type": "stream",
     "text": [
      "100%|██████████| 50/50 [00:00<00:00, 99.15it/s] \n"
     ]
    },
    {
     "name": "stdout",
     "output_type": "stream",
     "text": [
      "/data4/Syria_img/Homs_enhance-A-B-3_20130309_treated.tif\n"
     ]
    },
    {
     "name": "stderr",
     "output_type": "stream",
     "text": [
      "100%|██████████| 50/50 [00:00<00:00, 111.74it/s]\n"
     ]
    },
    {
     "name": "stdout",
     "output_type": "stream",
     "text": [
      "/data4/Syria_img/Homs_B_20130926_treated.tif\n"
     ]
    },
    {
     "name": "stderr",
     "output_type": "stream",
     "text": [
      "100%|██████████| 50/50 [00:00<00:00, 106.83it/s]\n"
     ]
    },
    {
     "name": "stdout",
     "output_type": "stream",
     "text": [
      "/data4/Syria_img/Homs_enhance-B-C-1_20131031_treated.tif\n"
     ]
    },
    {
     "name": "stderr",
     "output_type": "stream",
     "text": [
      "100%|██████████| 50/50 [00:00<00:00, 85.41it/s]\n"
     ]
    },
    {
     "name": "stdout",
     "output_type": "stream",
     "text": [
      "/data4/Syria_img/Homs_enhance-B-C-2_20140403_treated.tif\n"
     ]
    },
    {
     "name": "stderr",
     "output_type": "stream",
     "text": [
      "100%|██████████| 50/50 [00:00<00:00, 101.34it/s]\n"
     ]
    },
    {
     "name": "stdout",
     "output_type": "stream",
     "text": [
      "/data4/Syria_img/Homs_C_20140421_treated.tif\n"
     ]
    },
    {
     "name": "stderr",
     "output_type": "stream",
     "text": [
      "100%|██████████| 50/50 [00:00<00:00, 103.38it/s]\n"
     ]
    },
    {
     "name": "stdout",
     "output_type": "stream",
     "text": [
      "/data4/Syria_img/Homs_enhance-C-Z-1_20140609_treated.tif\n"
     ]
    },
    {
     "name": "stderr",
     "output_type": "stream",
     "text": [
      "100%|██████████| 50/50 [00:00<00:00, 102.58it/s]\n"
     ]
    },
    {
     "name": "stdout",
     "output_type": "stream",
     "text": [
      "/data4/Syria_img/Homs_enhance-C-Z-2_20160530_treated.tif\n"
     ]
    },
    {
     "name": "stderr",
     "output_type": "stream",
     "text": [
      "100%|██████████| 50/50 [00:00<00:00, 105.11it/s]\n"
     ]
    },
    {
     "name": "stdout",
     "output_type": "stream",
     "text": [
      "/data4/Syria_img/Homs_enhance-C-Z-3_20160601_treated.tif\n"
     ]
    },
    {
     "name": "stderr",
     "output_type": "stream",
     "text": [
      "100%|██████████| 50/50 [00:00<00:00, 102.06it/s]\n"
     ]
    },
    {
     "name": "stdout",
     "output_type": "stream",
     "text": [
      "Idlib\n",
      "/data4/Syria_img/Idlib_enhance-A-B-1_20120927_treated.tif\n"
     ]
    },
    {
     "name": "stderr",
     "output_type": "stream",
     "text": [
      "100%|██████████| 1100/1100 [00:09<00:00, 117.42it/s]\n"
     ]
    },
    {
     "name": "stdout",
     "output_type": "stream",
     "text": [
      "/data4/Syria_img/Idlib_enhance-A-B-2_20121003_treated.tif\n"
     ]
    },
    {
     "name": "stderr",
     "output_type": "stream",
     "text": [
      "100%|██████████| 1100/1100 [00:09<00:00, 110.34it/s]\n"
     ]
    },
    {
     "name": "stdout",
     "output_type": "stream",
     "text": [
      "/data4/Syria_img/Idlib_enhance-A-B-3_20130824_treated.tif\n"
     ]
    },
    {
     "name": "stderr",
     "output_type": "stream",
     "text": [
      "100%|██████████| 1100/1100 [00:10<00:00, 109.22it/s]\n"
     ]
    },
    {
     "name": "stdout",
     "output_type": "stream",
     "text": [
      "/data4/Syria_img/Idlib_B_20130915_treated.tif\n"
     ]
    },
    {
     "name": "stderr",
     "output_type": "stream",
     "text": [
      "100%|██████████| 1100/1100 [00:08<00:00, 123.68it/s]\n"
     ]
    },
    {
     "name": "stdout",
     "output_type": "stream",
     "text": [
      "/data4/Syria_img/Idlib_enhance-B-C-1_20140207_treated.tif\n"
     ]
    },
    {
     "name": "stderr",
     "output_type": "stream",
     "text": [
      "100%|██████████| 1100/1100 [00:10<00:00, 108.44it/s]\n"
     ]
    },
    {
     "name": "stdout",
     "output_type": "stream",
     "text": [
      "/data4/Syria_img/Idlib_C_20140502_treated.tif\n"
     ]
    },
    {
     "name": "stderr",
     "output_type": "stream",
     "text": [
      "100%|██████████| 1100/1100 [00:08<00:00, 129.47it/s]\n"
     ]
    },
    {
     "name": "stdout",
     "output_type": "stream",
     "text": [
      "/data4/Syria_img/Idlib_enhance-C-D-1_20140531_treated.tif\n"
     ]
    },
    {
     "name": "stderr",
     "output_type": "stream",
     "text": [
      "100%|██████████| 1100/1100 [00:12<00:00, 88.94it/s]\n"
     ]
    },
    {
     "name": "stdout",
     "output_type": "stream",
     "text": [
      "/data4/Syria_img/Idlib_enhance-C-D-2_20140924_treated.tif\n"
     ]
    },
    {
     "name": "stderr",
     "output_type": "stream",
     "text": [
      "100%|██████████| 1100/1100 [00:10<00:00, 109.91it/s]\n"
     ]
    },
    {
     "name": "stdout",
     "output_type": "stream",
     "text": [
      "/data4/Syria_img/Idlib_D_20150406_treated.tif\n"
     ]
    },
    {
     "name": "stderr",
     "output_type": "stream",
     "text": [
      "100%|██████████| 1100/1100 [00:10<00:00, 102.74it/s]\n"
     ]
    },
    {
     "name": "stdout",
     "output_type": "stream",
     "text": [
      "/data4/Syria_img/Idlib_enhance-D-E-1_20150417_treated.tif\n"
     ]
    },
    {
     "name": "stderr",
     "output_type": "stream",
     "text": [
      "100%|██████████| 1100/1100 [00:09<00:00, 115.63it/s]\n"
     ]
    },
    {
     "name": "stdout",
     "output_type": "stream",
     "text": [
      "/data4/Syria_img/Idlib_enhance-D-E-3_20160601_treated.tif\n"
     ]
    },
    {
     "name": "stderr",
     "output_type": "stream",
     "text": [
      "100%|██████████| 1100/1100 [00:10<00:00, 104.19it/s]\n"
     ]
    },
    {
     "name": "stdout",
     "output_type": "stream",
     "text": [
      "/data4/Syria_img/Idlib_E_20160801_treated.tif\n"
     ]
    },
    {
     "name": "stderr",
     "output_type": "stream",
     "text": [
      "100%|██████████| 1100/1100 [00:09<00:00, 110.51it/s]\n"
     ]
    },
    {
     "name": "stdout",
     "output_type": "stream",
     "text": [
      "/data4/Syria_img/Idlib_enhance-E-Z-1_20161001_treated.tif\n"
     ]
    },
    {
     "name": "stderr",
     "output_type": "stream",
     "text": [
      "100%|██████████| 1100/1100 [00:10<00:00, 102.42it/s]\n"
     ]
    },
    {
     "name": "stdout",
     "output_type": "stream",
     "text": [
      "/data4/Syria_img/Idlib_enhance-E-Z-2_20170221_treated.tif\n"
     ]
    },
    {
     "name": "stderr",
     "output_type": "stream",
     "text": [
      "100%|██████████| 1100/1100 [00:11<00:00, 94.25it/s]\n"
     ]
    },
    {
     "name": "stdout",
     "output_type": "stream",
     "text": [
      "/data4/Syria_img/Idlib_enhance-E-Z-3_20170717_treated.tif\n"
     ]
    },
    {
     "name": "stderr",
     "output_type": "stream",
     "text": [
      "100%|██████████| 1100/1100 [00:10<00:00, 109.99it/s]\n"
     ]
    },
    {
     "name": "stdout",
     "output_type": "stream",
     "text": [
      "Raqqa\n",
      "/data4/Syria_img/Raqqa_enhance-A-B-1_20120928_treated.tif\n"
     ]
    },
    {
     "name": "stderr",
     "output_type": "stream",
     "text": [
      "100%|██████████| 2150/2150 [00:23<00:00, 92.24it/s] \n"
     ]
    },
    {
     "name": "stdout",
     "output_type": "stream",
     "text": [
      "/data4/Syria_img/Raqqa_enhance-A-B-2_20121010_treated.tif\n"
     ]
    },
    {
     "name": "stderr",
     "output_type": "stream",
     "text": [
      "100%|██████████| 2150/2150 [00:18<00:00, 113.21it/s]\n"
     ]
    },
    {
     "name": "stdout",
     "output_type": "stream",
     "text": [
      "/data4/Syria_img/Raqqa_enhance-A-B-3_20130117_treated.tif\n"
     ]
    },
    {
     "name": "stderr",
     "output_type": "stream",
     "text": [
      "100%|██████████| 2150/2150 [00:23<00:00, 91.33it/s] \n"
     ]
    },
    {
     "name": "stdout",
     "output_type": "stream",
     "text": [
      "/data4/Syria_img/Raqqa_enhance-A-B-4_20130213_treated.tif\n"
     ]
    },
    {
     "name": "stderr",
     "output_type": "stream",
     "text": [
      "100%|██████████| 2150/2150 [00:21<00:00, 101.46it/s]\n"
     ]
    },
    {
     "name": "stdout",
     "output_type": "stream",
     "text": [
      "/data4/Syria_img/Raqqa_C_20140212_treated.tif\n"
     ]
    },
    {
     "name": "stderr",
     "output_type": "stream",
     "text": [
      "100%|██████████| 2150/2150 [00:22<00:00, 96.90it/s] \n"
     ]
    },
    {
     "name": "stdout",
     "output_type": "stream",
     "text": [
      "/data4/Syria_img/Raqqa_enhance-C-D-1_20140321_treated.tif\n"
     ]
    },
    {
     "name": "stderr",
     "output_type": "stream",
     "text": [
      "100%|██████████| 2150/2150 [00:22<00:00, 95.17it/s] \n"
     ]
    },
    {
     "name": "stdout",
     "output_type": "stream",
     "text": [
      "/data4/Syria_img/Raqqa_enhance-C-D-2_20141006_treated.tif\n"
     ]
    },
    {
     "name": "stderr",
     "output_type": "stream",
     "text": [
      "100%|██████████| 2150/2150 [00:20<00:00, 103.76it/s]\n"
     ]
    },
    {
     "name": "stdout",
     "output_type": "stream",
     "text": [
      "/data4/Syria_img/Raqqa_enhance-C-D-3_20150202_treated.tif\n"
     ]
    },
    {
     "name": "stderr",
     "output_type": "stream",
     "text": [
      "100%|██████████| 2150/2150 [00:17<00:00, 125.30it/s]\n"
     ]
    },
    {
     "name": "stdout",
     "output_type": "stream",
     "text": [
      "/data4/Syria_img/Raqqa_D_20150529_treated.tif\n"
     ]
    },
    {
     "name": "stderr",
     "output_type": "stream",
     "text": [
      "100%|██████████| 2150/2150 [00:20<00:00, 102.53it/s]\n"
     ]
    },
    {
     "name": "stdout",
     "output_type": "stream",
     "text": [
      "/data4/Syria_img/Raqqa_enhance-D-Z-1_20160220_treated.tif\n"
     ]
    },
    {
     "name": "stderr",
     "output_type": "stream",
     "text": [
      "100%|██████████| 2150/2150 [00:26<00:00, 80.94it/s]\n"
     ]
    },
    {
     "name": "stdout",
     "output_type": "stream",
     "text": [
      "/data4/Syria_img/Raqqa_enhance-D-Z-2_20160613_treated.tif\n"
     ]
    },
    {
     "name": "stderr",
     "output_type": "stream",
     "text": [
      "100%|██████████| 2150/2150 [00:25<00:00, 85.06it/s]\n"
     ]
    },
    {
     "name": "stdout",
     "output_type": "stream",
     "text": [
      "/data4/Syria_img/Raqqa_enhance-D-Z-3_20160916_treated.tif\n"
     ]
    },
    {
     "name": "stderr",
     "output_type": "stream",
     "text": [
      "100%|██████████| 2150/2150 [00:20<00:00, 103.66it/s]\n"
     ]
    },
    {
     "name": "stdout",
     "output_type": "stream",
     "text": [
      "/data4/Syria_img/Raqqa_enhance-D-Z-4_20170701_treated.tif\n"
     ]
    },
    {
     "name": "stderr",
     "output_type": "stream",
     "text": [
      "100%|██████████| 2150/2150 [00:21<00:00, 99.23it/s] \n"
     ]
    },
    {
     "name": "stdout",
     "output_type": "stream",
     "text": [
      "Aleppo\n",
      "/data4/Syria_img/Aleppo_enhance-A-B-1_20121230_treated.tif\n"
     ]
    },
    {
     "name": "stderr",
     "output_type": "stream",
     "text": [
      "100%|██████████| 6810/6810 [01:05<00:00, 104.15it/s]\n"
     ]
    },
    {
     "name": "stdout",
     "output_type": "stream",
     "text": [
      "/data4/Syria_img/Aleppo_enhance-A-B-2_20130226_treated.tif\n"
     ]
    },
    {
     "name": "stderr",
     "output_type": "stream",
     "text": [
      "100%|██████████| 6810/6810 [01:12<00:00, 93.60it/s] \n"
     ]
    },
    {
     "name": "stdout",
     "output_type": "stream",
     "text": [
      "/data4/Syria_img/Aleppo_enhance-A-B-3_20130526_treated.tif\n"
     ]
    },
    {
     "name": "stderr",
     "output_type": "stream",
     "text": [
      "100%|██████████| 6810/6810 [01:01<00:00, 110.70it/s]\n"
     ]
    },
    {
     "name": "stdout",
     "output_type": "stream",
     "text": [
      "/data4/Syria_img/Aleppo_B_20130923_treated.tif\n"
     ]
    },
    {
     "name": "stderr",
     "output_type": "stream",
     "text": [
      "100%|██████████| 6810/6810 [01:13<00:00, 92.92it/s] \n"
     ]
    },
    {
     "name": "stdout",
     "output_type": "stream",
     "text": [
      "/data4/Syria_img/Aleppo_enhance-B-C-1_20131031_treated.tif\n"
     ]
    },
    {
     "name": "stderr",
     "output_type": "stream",
     "text": [
      "100%|██████████| 6810/6810 [01:11<00:00, 94.69it/s] \n"
     ]
    },
    {
     "name": "stdout",
     "output_type": "stream",
     "text": [
      "/data4/Syria_img/Aleppo_enhance-B-C-2_20140131_treated.tif\n"
     ]
    },
    {
     "name": "stderr",
     "output_type": "stream",
     "text": [
      "100%|██████████| 6810/6810 [01:05<00:00, 104.65it/s]\n"
     ]
    },
    {
     "name": "stdout",
     "output_type": "stream",
     "text": [
      "/data4/Syria_img/Aleppo_enhance-B-C-3_20140426_treated.tif\n"
     ]
    },
    {
     "name": "stderr",
     "output_type": "stream",
     "text": [
      "100%|██████████| 6810/6810 [01:07<00:00, 100.49it/s]\n"
     ]
    },
    {
     "name": "stdout",
     "output_type": "stream",
     "text": [
      "/data4/Syria_img/Aleppo_C_20140523_treated.tif\n"
     ]
    },
    {
     "name": "stderr",
     "output_type": "stream",
     "text": [
      "100%|██████████| 6810/6810 [01:16<00:00, 89.07it/s] \n"
     ]
    },
    {
     "name": "stdout",
     "output_type": "stream",
     "text": [
      "/data4/Syria_img/Aleppo_enhance-C-D-1_20140714_treated.tif\n"
     ]
    },
    {
     "name": "stderr",
     "output_type": "stream",
     "text": [
      "100%|██████████| 6810/6810 [01:17<00:00, 88.12it/s]\n"
     ]
    },
    {
     "name": "stdout",
     "output_type": "stream",
     "text": [
      "/data4/Syria_img/Aleppo_enhance-C-D-2_20140918_treated.tif\n"
     ]
    },
    {
     "name": "stderr",
     "output_type": "stream",
     "text": [
      "100%|██████████| 6810/6810 [01:12<00:00, 94.30it/s] \n"
     ]
    },
    {
     "name": "stdout",
     "output_type": "stream",
     "text": [
      "/data4/Syria_img/Aleppo_enhance-C-D-3_20141215_treated.tif\n"
     ]
    },
    {
     "name": "stderr",
     "output_type": "stream",
     "text": [
      "100%|██████████| 6810/6810 [01:04<00:00, 105.60it/s]\n"
     ]
    },
    {
     "name": "stdout",
     "output_type": "stream",
     "text": [
      "/data4/Syria_img/Aleppo_D_20150426_treated.tif\n"
     ]
    },
    {
     "name": "stderr",
     "output_type": "stream",
     "text": [
      "100%|██████████| 6810/6810 [00:59<00:00, 113.98it/s]\n"
     ]
    },
    {
     "name": "stdout",
     "output_type": "stream",
     "text": [
      "/data4/Syria_img/Aleppo_enhance-D-E-1_20151122_treated.tif\n"
     ]
    },
    {
     "name": "stderr",
     "output_type": "stream",
     "text": [
      "100%|██████████| 6810/6810 [01:09<00:00, 97.77it/s] \n"
     ]
    },
    {
     "name": "stdout",
     "output_type": "stream",
     "text": [
      "/data4/Syria_img/Aleppo_enhance-D-E-2_20160425_treated.tif\n"
     ]
    },
    {
     "name": "stderr",
     "output_type": "stream",
     "text": [
      "100%|██████████| 6810/6810 [01:33<00:00, 72.87it/s]\n"
     ]
    },
    {
     "name": "stdout",
     "output_type": "stream",
     "text": [
      "/data4/Syria_img/Aleppo_enhance-D-E-3_20160803_treated.tif\n"
     ]
    },
    {
     "name": "stderr",
     "output_type": "stream",
     "text": [
      "100%|██████████| 6810/6810 [01:10<00:00, 97.09it/s] \n"
     ]
    },
    {
     "name": "stdout",
     "output_type": "stream",
     "text": [
      "/data4/Syria_img/Aleppo_E_20150918_treated.tif\n"
     ]
    },
    {
     "name": "stderr",
     "output_type": "stream",
     "text": [
      "100%|██████████| 6810/6810 [01:03<00:00, 107.74it/s]\n"
     ]
    },
    {
     "name": "stdout",
     "output_type": "stream",
     "text": [
      "/data4/Syria_img/Aleppo_enhance-E-Z-1_20160925_treated.tif\n"
     ]
    },
    {
     "name": "stderr",
     "output_type": "stream",
     "text": [
      "100%|██████████| 6810/6810 [01:05<00:00, 104.57it/s]\n"
     ]
    },
    {
     "name": "stdout",
     "output_type": "stream",
     "text": [
      "/data4/Syria_img/Aleppo_enhance-E-Z-2_20161001_treated.tif\n"
     ]
    },
    {
     "name": "stderr",
     "output_type": "stream",
     "text": [
      "100%|██████████| 6810/6810 [01:11<00:00, 95.15it/s] \n"
     ]
    },
    {
     "name": "stdout",
     "output_type": "stream",
     "text": [
      "/data4/Syria_img/Aleppo_enhance-E-Z-3_20161010_treated.tif\n"
     ]
    },
    {
     "name": "stderr",
     "output_type": "stream",
     "text": [
      "100%|██████████| 6810/6810 [01:16<00:00, 88.48it/s] \n"
     ]
    },
    {
     "name": "stdout",
     "output_type": "stream",
     "text": [
      "Deir-ez-Zor\n",
      "/data4/Syria_img/Deir-ez-Zor_enhance-A-B-1_20121205_treated.tif\n"
     ]
    },
    {
     "name": "stderr",
     "output_type": "stream",
     "text": [
      "100%|██████████| 390/390 [00:04<00:00, 94.23it/s] \n"
     ]
    },
    {
     "name": "stdout",
     "output_type": "stream",
     "text": [
      "/data4/Syria_img/Deir-ez-Zor_enhance-A-B-2_20130213_treated.tif\n"
     ]
    },
    {
     "name": "stderr",
     "output_type": "stream",
     "text": [
      "100%|██████████| 390/390 [00:03<00:00, 101.83it/s]\n"
     ]
    },
    {
     "name": "stdout",
     "output_type": "stream",
     "text": [
      "/data4/Syria_img/Deir-ez-Zor_enhance-A-B-3_20130223_treated.tif\n"
     ]
    },
    {
     "name": "stderr",
     "output_type": "stream",
     "text": [
      "100%|██████████| 390/390 [00:03<00:00, 105.13it/s]\n"
     ]
    },
    {
     "name": "stdout",
     "output_type": "stream",
     "text": [
      "/data4/Syria_img/Deir-ez-Zor_B_20131024_treated.tif\n"
     ]
    },
    {
     "name": "stderr",
     "output_type": "stream",
     "text": [
      "100%|██████████| 390/390 [00:04<00:00, 96.79it/s] \n"
     ]
    },
    {
     "name": "stdout",
     "output_type": "stream",
     "text": [
      "/data4/Syria_img/Deir-ez-Zor_C_20140513_treated.tif\n"
     ]
    },
    {
     "name": "stderr",
     "output_type": "stream",
     "text": [
      "100%|██████████| 390/390 [00:03<00:00, 102.07it/s]\n"
     ]
    },
    {
     "name": "stdout",
     "output_type": "stream",
     "text": [
      "/data4/Syria_img/Deir-ez-Zor_enhance-C-D-1_20140916_treated.tif\n"
     ]
    },
    {
     "name": "stderr",
     "output_type": "stream",
     "text": [
      "100%|██████████| 390/390 [00:04<00:00, 87.37it/s]\n"
     ]
    },
    {
     "name": "stdout",
     "output_type": "stream",
     "text": [
      "/data4/Syria_img/Deir-ez-Zor_enhance-C-D-2_20141015_treated.tif\n"
     ]
    },
    {
     "name": "stderr",
     "output_type": "stream",
     "text": [
      "100%|██████████| 390/390 [00:04<00:00, 82.94it/s]\n"
     ]
    },
    {
     "name": "stdout",
     "output_type": "stream",
     "text": [
      "/data4/Syria_img/Deir-ez-Zor_enhance-C-D-3_20141125_treated.tif\n"
     ]
    },
    {
     "name": "stderr",
     "output_type": "stream",
     "text": [
      "100%|██████████| 390/390 [00:04<00:00, 96.40it/s] \n"
     ]
    },
    {
     "name": "stdout",
     "output_type": "stream",
     "text": [
      "/data4/Syria_img/Deir-ez-Zor_D_20150510_treated.tif\n"
     ]
    },
    {
     "name": "stderr",
     "output_type": "stream",
     "text": [
      "100%|██████████| 390/390 [00:03<00:00, 113.74it/s]\n"
     ]
    },
    {
     "name": "stdout",
     "output_type": "stream",
     "text": [
      "/data4/Syria_img/Deir-ez-Zor_enhance-D-E-1_20160417_treated.tif\n"
     ]
    },
    {
     "name": "stderr",
     "output_type": "stream",
     "text": [
      "100%|██████████| 390/390 [00:05<00:00, 67.26it/s]\n"
     ]
    },
    {
     "name": "stdout",
     "output_type": "stream",
     "text": [
      "/data4/Syria_img/Deir-ez-Zor_E_20160525_treated.tif\n"
     ]
    },
    {
     "name": "stderr",
     "output_type": "stream",
     "text": [
      "100%|██████████| 390/390 [00:05<00:00, 67.34it/s]\n"
     ]
    },
    {
     "name": "stdout",
     "output_type": "stream",
     "text": [
      "/data4/Syria_img/Deir-ez-Zor_enhance-E-Z-1_20160706_treated.tif\n"
     ]
    },
    {
     "name": "stderr",
     "output_type": "stream",
     "text": [
      "100%|██████████| 390/390 [00:04<00:00, 79.53it/s]\n"
     ]
    },
    {
     "name": "stdout",
     "output_type": "stream",
     "text": [
      "/data4/Syria_img/Deir-ez-Zor_enhance-E-Z-2_20160813_treated.tif\n"
     ]
    },
    {
     "name": "stderr",
     "output_type": "stream",
     "text": [
      "100%|██████████| 390/390 [00:03<00:00, 99.46it/s] \n"
     ]
    },
    {
     "name": "stdout",
     "output_type": "stream",
     "text": [
      "/data4/Syria_img/Deir-ez-Zor_enhance-E-Z-3_20160913_treated.tif\n"
     ]
    },
    {
     "name": "stderr",
     "output_type": "stream",
     "text": [
      "100%|██████████| 390/390 [00:05<00:00, 72.11it/s]\n"
     ]
    },
    {
     "name": "stdout",
     "output_type": "stream",
     "text": [
      "Hama\n",
      "/data4/Syria_img/Hama_enhance-A-B-1_20120921_treated.tif\n"
     ]
    },
    {
     "name": "stderr",
     "output_type": "stream",
     "text": [
      "100%|██████████| 30/30 [00:00<00:00, 98.94it/s]\n"
     ]
    },
    {
     "name": "stdout",
     "output_type": "stream",
     "text": [
      "/data4/Syria_img/Hama_enhance-A-B-2_20130309_treated.tif\n"
     ]
    },
    {
     "name": "stderr",
     "output_type": "stream",
     "text": [
      "100%|██████████| 30/30 [00:00<00:00, 107.54it/s]\n"
     ]
    },
    {
     "name": "stdout",
     "output_type": "stream",
     "text": [
      "/data4/Syria_img/Hama_enhance-A-B-3_20130827_treated.tif\n"
     ]
    },
    {
     "name": "stderr",
     "output_type": "stream",
     "text": [
      "100%|██████████| 30/30 [00:00<00:00, 114.52it/s]\n"
     ]
    },
    {
     "name": "stdout",
     "output_type": "stream",
     "text": [
      "/data4/Syria_img/Hama_B_20130926_treated.tif\n"
     ]
    },
    {
     "name": "stderr",
     "output_type": "stream",
     "text": [
      "100%|██████████| 30/30 [00:00<00:00, 98.78it/s]\n"
     ]
    },
    {
     "name": "stdout",
     "output_type": "stream",
     "text": [
      "/data4/Syria_img/Hama_enhance-B-C-1_20131031_treated.tif\n"
     ]
    },
    {
     "name": "stderr",
     "output_type": "stream",
     "text": [
      "100%|██████████| 30/30 [00:00<00:00, 79.01it/s]\n"
     ]
    },
    {
     "name": "stdout",
     "output_type": "stream",
     "text": [
      "/data4/Syria_img/Hama_C_20140305_treated.tif\n"
     ]
    },
    {
     "name": "stderr",
     "output_type": "stream",
     "text": [
      "100%|██████████| 30/30 [00:00<00:00, 98.79it/s]\n"
     ]
    },
    {
     "name": "stdout",
     "output_type": "stream",
     "text": [
      "/data4/Syria_img/Hama_enhance-C-D-1_20140526_treated.tif\n"
     ]
    },
    {
     "name": "stderr",
     "output_type": "stream",
     "text": [
      "100%|██████████| 30/30 [00:00<00:00, 90.59it/s]\n"
     ]
    },
    {
     "name": "stdout",
     "output_type": "stream",
     "text": [
      "/data4/Syria_img/Hama_enhance-C-D-2_20140613_treated.tif\n"
     ]
    },
    {
     "name": "stderr",
     "output_type": "stream",
     "text": [
      "100%|██████████| 30/30 [00:00<00:00, 96.70it/s]\n"
     ]
    },
    {
     "name": "stdout",
     "output_type": "stream",
     "text": [
      "/data4/Syria_img/Hama_enhance-C-D-3_20140804_treated.tif\n"
     ]
    },
    {
     "name": "stderr",
     "output_type": "stream",
     "text": [
      "100%|██████████| 30/30 [00:00<00:00, 86.95it/s]\n"
     ]
    },
    {
     "name": "stdout",
     "output_type": "stream",
     "text": [
      "/data4/Syria_img/Hama_enhance-C-D-4_20140917_treated.tif\n"
     ]
    },
    {
     "name": "stderr",
     "output_type": "stream",
     "text": [
      "100%|██████████| 30/30 [00:00<00:00, 97.74it/s]\n"
     ]
    },
    {
     "name": "stdout",
     "output_type": "stream",
     "text": [
      "/data4/Syria_img/Hama_enhance-C-D-5_20160518_treated.tif\n"
     ]
    },
    {
     "name": "stderr",
     "output_type": "stream",
     "text": [
      "100%|██████████| 30/30 [00:00<00:00, 97.34it/s]\n"
     ]
    },
    {
     "name": "stdout",
     "output_type": "stream",
     "text": [
      "/data4/Syria_img/Hama_enhance-C-D-6_20160530_treated.tif\n"
     ]
    },
    {
     "name": "stderr",
     "output_type": "stream",
     "text": [
      "100%|██████████| 30/30 [00:00<00:00, 96.89it/s]\n"
     ]
    },
    {
     "name": "stdout",
     "output_type": "stream",
     "text": [
      "/data4/Syria_img/Hama_enhance-D-Z-1_20160913_treated.tif\n"
     ]
    },
    {
     "name": "stderr",
     "output_type": "stream",
     "text": [
      "100%|██████████| 30/30 [00:00<00:00, 100.07it/s]\n"
     ]
    },
    {
     "name": "stdout",
     "output_type": "stream",
     "text": [
      "/data4/Syria_img/Hama_enhance-D-Z-2_20161010_treated.tif\n"
     ]
    },
    {
     "name": "stderr",
     "output_type": "stream",
     "text": [
      "100%|██████████| 30/30 [00:00<00:00, 70.59it/s]\n"
     ]
    },
    {
     "name": "stdout",
     "output_type": "stream",
     "text": [
      "/data4/Syria_img/Hama_enhance-D-Z-3_20170221_treated.tif\n"
     ]
    },
    {
     "name": "stderr",
     "output_type": "stream",
     "text": [
      "100%|██████████| 30/30 [00:00<00:00, 93.28it/s]\n"
     ]
    },
    {
     "name": "stdout",
     "output_type": "stream",
     "text": [
      "/data4/Syria_img/Hama_enhance-D-Z-4_20170730_treated.tif\n"
     ]
    },
    {
     "name": "stderr",
     "output_type": "stream",
     "text": [
      "100%|██████████| 30/30 [00:00<00:00, 103.93it/s]\n"
     ]
    }
   ],
   "source": [
    "from tqdm import tqdm\n",
    "import imageio\n",
    "for city in cities:\n",
    "    print(city)\n",
    "    city_gpd=nointervention_pd[nointervention_pd['region']==city]\n",
    "    x=list(city_gpd['patch_x'])\n",
    "    y=list(city_gpd['patch_y'])\n",
    "    coords=[[y[i],x[i]] for i in range(len(x))]\n",
    "    ps=pathes_norebuilding[city]\n",
    "    pre_patch=np.load(ps[0].replace('.tif',f'_size_120.npy'))\n",
    "    infos={}\n",
    "    save_root_patch='/ssd/hk/Syria_samples/liveuamap_samples/'\n",
    "    for i in range(1,len(ps)):\n",
    "        print(ps[i])\n",
    "        img_id=os.path.basename(ps[i]).split('_')[1]\n",
    "        post_patch=np.load(ps[i].replace('.tif',f'_size_120.npy'))\n",
    "        infos_p={}\n",
    "        for coord in tqdm(coords):\n",
    "            c_key=str(coord[0]).zfill(3)+str(coord[1]).zfill(3)\n",
    "            pre_path=save_root_patch+'pre/'+f'{city}_{img_id}_{c_key}.png'\n",
    "            post_path=pre_path.replace('/pre/','/post/')\n",
    "            infos_p[c_key]=[pre_path,post_path]\n",
    "            imageio.imwrite(pre_path,pre_patch[:,coord[0],coord[1]].transpose(1,2,0).astype(np.uint8))\n",
    "            imageio.imwrite(post_path,post_patch[:,coord[0],coord[1]].transpose(1,2,0).astype(np.uint8))\n",
    "        infos[ps[i]]=infos_p\n",
    "    torch.save(infos,save_root_patch+f'{city}_samples_info_nointervention.pth')"
   ]
  },
  {
   "cell_type": "code",
   "execution_count": 25,
   "metadata": {},
   "outputs": [],
   "source": [
    "zzz=[]\n",
    "for i in range(len(nointervention_pd)):\n",
    "    p=nointervention_pd.iloc[i]\n",
    "    c_key=str(p['patch_y']).zfill(3)+str(p['patch_x']).zfill(3)\n",
    "    city=p['region']\n",
    "    sample_mt_path=[]\n",
    "    for i in pathes_norebuilding[city]:\n",
    "        img_id=os.path.basename(i).split('_')[1]\n",
    "        if img_id=='A':\n",
    "            continue\n",
    "        else:\n",
    "            sample_path=f'/ssd/hk/Syria_samples/liveuamap_samples/post/{city}_{img_id}_{c_key}.png'\n",
    "            if not os.path.exists(sample_path):\n",
    "                print(sample_path)\n",
    "                raise()\n",
    "            else:\n",
    "                sample_mt_path.append(sample_path)\n",
    "    zzz.append(sample_mt_path)\n",
    "zzz=[i if len(i)<17 else i[-16:] for i in zzz]\n",
    "kkk=[]\n",
    "for kk in zzz:\n",
    "    k=''\n",
    "    for i in kk:\n",
    "        k+='&'\n",
    "        k+=i\n",
    "    k=k[1:]\n",
    "    kkk.append(k)\n",
    "nointervention_pd['img_path']=kkk"
   ]
  },
  {
   "cell_type": "code",
   "execution_count": 31,
   "metadata": {},
   "outputs": [],
   "source": [
    "from torch import nn"
   ]
  },
  {
   "cell_type": "code",
   "execution_count": 32,
   "metadata": {},
   "outputs": [
    {
     "name": "stderr",
     "output_type": "stream",
     "text": [
      "100%|██████████| 10530/10530 [1:05:24<00:00,  2.68it/s]\n"
     ]
    }
   ],
   "source": [
    "pre_results=[]\n",
    "pre_results_softmax=[]\n",
    "for i in tqdm(range(len(nointervention_pd))):\n",
    "    path_post=nointervention_pd.iloc[i]['img_path'].split('&')\n",
    "    out,out_sm=get_pre_result(path_post)\n",
    "    pre_results.append(out)\n",
    "    pre_results_softmax.append(out_sm)"
   ]
  },
  {
   "cell_type": "code",
   "execution_count": 39,
   "metadata": {},
   "outputs": [
    {
     "name": "stderr",
     "output_type": "stream",
     "text": [
      "/home/hk/miniconda3/envs/pythonhzy/lib/python3.7/site-packages/ipykernel_launcher.py:13: UserWarning: Column names longer than 10 characters will be truncated when saved to ESRI Shapefile.\n",
      "  del sys.path[0]\n"
     ]
    }
   ],
   "source": [
    "def to_str(l):\n",
    "    ll=[]\n",
    "    for i in l:\n",
    "        ii=list(i)\n",
    "        k=''\n",
    "        for j in ii:\n",
    "            k+='&'\n",
    "            k+=str(j)\n",
    "        ll.append(k[1:])\n",
    "    return ll\n",
    "nointervention_pd['MTCF-PtNet']=to_str(pre_results)\n",
    "nointervention_pd['MTCF-PtNet-softmax']=to_str(pre_results_softmax)\n",
    "nointervention_pd.to_file('/data4/liveuamap/S_point_use_bomb_xy_withimg_no.shp')"
   ]
  },
  {
   "cell_type": "code",
   "execution_count": 50,
   "metadata": {},
   "outputs": [
    {
     "name": "stderr",
     "output_type": "stream",
     "text": [
      "/home/hk/miniconda3/envs/pythonhzy/lib/python3.7/site-packages/geopandas/geodataframe.py:1322: SettingWithCopyWarning: \n",
      "A value is trying to be set on a copy of a slice from a DataFrame.\n",
      "Try using .loc[row_indexer,col_indexer] = value instead\n",
      "\n",
      "See the caveats in the documentation: https://pandas.pydata.org/pandas-docs/stable/user_guide/indexing.html#returning-a-view-versus-a-copy\n",
      "  super(GeoDataFrame, self).__setitem__(key, value)\n"
     ]
    }
   ],
   "source": [
    "a=[i.split('&') for i in nointervention_pd['MTCF-PtNet']]\n",
    "b=[]\n",
    "for i in a:\n",
    "    b.append(np.array([int(j) for j in i]).sum())\n",
    "nointervention_pd['b']=b\n",
    "nointervention_pd=nointervention_pd[nointervention_pd['b']==0]\n",
    "nointervention_pd['intervention']=[0]*len(nointervention_pd)"
   ]
  },
  {
   "cell_type": "code",
   "execution_count": 97,
   "metadata": {},
   "outputs": [],
   "source": [
    "liveuamap_point=gpd.read_file('/data4/liveuamap/S_point_use_bomb_xy_withresult.shp')\n",
    "\n",
    "del liveuamap_point['MTCF-PtN_2']\n",
    "del liveuamap_point['MTCF-PtN_3']\n",
    "del liveuamap_point['MTCF-PtN_4']\n",
    "del liveuamap_point['MTCF-PtN_5']\n",
    "liveuamap_point=liveuamap_point.rename(columns={'MTCF-PtN_1':'MTCF-PtNet-softmax'})"
   ]
  },
  {
   "cell_type": "code",
   "execution_count": 81,
   "metadata": {},
   "outputs": [],
   "source": [
    "dates={}\n",
    "import pandas as pd\n",
    "for city in pathes_norebuilding.keys():\n",
    "    ps=pathes_norebuilding[city][1:]\n",
    "    dates_city=[]\n",
    "    for p in ps:\n",
    "        dates_city.append(os.path.basename(p).split('_')[2])\n",
    "    if len(dates_city)>16:\n",
    "        dates_city=dates_city[-16:]\n",
    "    dates_city_str=''\n",
    "    for i in dates_city:\n",
    "        dates_city_str+='&'\n",
    "        dates_city_str+=i\n",
    "    \n",
    "    dates[city]=dates_city_str[1:]\n",
    "dd=[]\n",
    "for i in range(len(nointervention_pd)):\n",
    "    p=nointervention_pd.iloc[i]\n",
    "    city=p['region']\n",
    "    dd.append(dates[city])\n",
    "nointervention_pd['img_dates']=dd"
   ]
  },
  {
   "cell_type": "code",
   "execution_count": 86,
   "metadata": {},
   "outputs": [],
   "source": [
    "del nointervention_pd['b']\n",
    "del nointervention_pd['MTCF-PtNet_before']\n",
    "del nointervention_pd['MTCF-PtNet_after']\n",
    "del nointervention_pd['MTCF-PtNet_softmax_before']\n",
    "del nointervention_pd['MTCF-PtNet_softmax_after']"
   ]
  },
  {
   "cell_type": "code",
   "execution_count": 98,
   "metadata": {},
   "outputs": [],
   "source": [
    "liveuamap_point['intervention']=[1]*len(liveuamap_point)"
   ]
  },
  {
   "cell_type": "code",
   "execution_count": 99,
   "metadata": {},
   "outputs": [],
   "source": [
    "all_liveuamap=pd.concat([liveuamap_point,nointervention_pd])"
   ]
  },
  {
   "cell_type": "code",
   "execution_count": 121,
   "metadata": {},
   "outputs": [],
   "source": [
    "all_liveuamap=all_liveuamap.rename(columns={'MTCF-softmax':'MTCF-sm','intervention':'interv'})"
   ]
  },
  {
   "cell_type": "code",
   "execution_count": 123,
   "metadata": {},
   "outputs": [],
   "source": [
    "all_liveuamap.to_file('/data4/liveuamap/S_point_use_bomb_xy_withimg_all.shp')"
   ]
  },
  {
   "cell_type": "code",
   "execution_count": 461,
   "metadata": {},
   "outputs": [],
   "source": [
    "a=[i.split('&') for i in list(all_liveuamap['MTCF-PtNet'])]\n",
    "b=[i.split('&') for i in list(all_liveuamap['MTCF-PtNet_softmax'])]\n",
    "c=[]\n",
    "for i in range(len(a)):\n",
    "    c.append(b[i][:len(a[i])])\n",
    "all_liveuamap['MTCF-PtNet_softmax']=to_str(c)"
   ]
  },
  {
   "cell_type": "code",
   "execution_count": 129,
   "metadata": {},
   "outputs": [
    {
     "data": {
      "text/html": [
       "<div>\n",
       "<style scoped>\n",
       "    .dataframe tbody tr th:only-of-type {\n",
       "        vertical-align: middle;\n",
       "    }\n",
       "\n",
       "    .dataframe tbody tr th {\n",
       "        vertical-align: top;\n",
       "    }\n",
       "\n",
       "    .dataframe thead th {\n",
       "        text-align: right;\n",
       "    }\n",
       "</style>\n",
       "<table border=\"1\" class=\"dataframe\">\n",
       "  <thead>\n",
       "    <tr style=\"text-align: right;\">\n",
       "      <th></th>\n",
       "      <th>id</th>\n",
       "      <th>time</th>\n",
       "      <th>timestamp</th>\n",
       "      <th>type</th>\n",
       "      <th>name</th>\n",
       "      <th>is_use</th>\n",
       "      <th>region</th>\n",
       "      <th>lat</th>\n",
       "      <th>lon</th>\n",
       "      <th>patch_x</th>\n",
       "      <th>patch_y</th>\n",
       "      <th>img_path</th>\n",
       "      <th>img_dates</th>\n",
       "      <th>MTCF-PtNet</th>\n",
       "      <th>MTCF-PtNet-softmax</th>\n",
       "      <th>geometry</th>\n",
       "      <th>intervention</th>\n",
       "    </tr>\n",
       "  </thead>\n",
       "  <tbody>\n",
       "    <tr>\n",
       "      <th>0</th>\n",
       "      <td>21199999</td>\n",
       "      <td>2014-12-27 17:40:00</td>\n",
       "      <td>1419673200</td>\n",
       "      <td>bomb-1</td>\n",
       "      <td>#Assad regime artillery targets a residential ...</td>\n",
       "      <td>1</td>\n",
       "      <td>Homs</td>\n",
       "      <td>34.73083</td>\n",
       "      <td>36.70944</td>\n",
       "      <td>68</td>\n",
       "      <td>55</td>\n",
       "      <td>/ssd/hk/Syria_samples/liveuamap_samples/post/H...</td>\n",
       "      <td>20120531&amp;20120829&amp;20130309&amp;20130926&amp;20131031&amp;2...</td>\n",
       "      <td>0&amp;0&amp;0&amp;0&amp;0&amp;0&amp;0&amp;0&amp;1&amp;1</td>\n",
       "      <td>1.724617e-05&amp;0.00023428141&amp;7.843362e-05&amp;9.1202...</td>\n",
       "      <td>POINT (36.70944 34.73083)</td>\n",
       "      <td>1</td>\n",
       "    </tr>\n",
       "    <tr>\n",
       "      <th>1</th>\n",
       "      <td>21321405</td>\n",
       "      <td>2016-05-31 23:08:00</td>\n",
       "      <td>1464707280</td>\n",
       "      <td>bomb-1</td>\n",
       "      <td>Airstrikes on Lataminah in Hama</td>\n",
       "      <td>1</td>\n",
       "      <td>Homs</td>\n",
       "      <td>34.73243</td>\n",
       "      <td>36.71370</td>\n",
       "      <td>74</td>\n",
       "      <td>52</td>\n",
       "      <td>/ssd/hk/Syria_samples/liveuamap_samples/post/H...</td>\n",
       "      <td>20120531&amp;20120829&amp;20130309&amp;20130926&amp;20131031&amp;2...</td>\n",
       "      <td>0&amp;0&amp;0&amp;0&amp;0&amp;1&amp;1&amp;1&amp;1&amp;1</td>\n",
       "      <td>1.3257952e-05&amp;0.00037756359&amp;0.00017163534&amp;0.00...</td>\n",
       "      <td>POINT (36.71370 34.73243)</td>\n",
       "      <td>1</td>\n",
       "    </tr>\n",
       "    <tr>\n",
       "      <th>2</th>\n",
       "      <td>21405736</td>\n",
       "      <td>2017-02-17 18:40:00</td>\n",
       "      <td>1487328000</td>\n",
       "      <td>bomb-1</td>\n",
       "      <td>Video from Al Waer district of Homs as Russian...</td>\n",
       "      <td>1</td>\n",
       "      <td>Homs</td>\n",
       "      <td>34.73243</td>\n",
       "      <td>36.71370</td>\n",
       "      <td>74</td>\n",
       "      <td>52</td>\n",
       "      <td>/ssd/hk/Syria_samples/liveuamap_samples/post/H...</td>\n",
       "      <td>20120531&amp;20120829&amp;20130309&amp;20130926&amp;20131031&amp;2...</td>\n",
       "      <td>0&amp;0&amp;0&amp;0&amp;0&amp;1&amp;1&amp;1&amp;1&amp;1</td>\n",
       "      <td>1.3257952e-05&amp;0.00037756359&amp;0.00017163534&amp;0.00...</td>\n",
       "      <td>POINT (36.71370 34.73243)</td>\n",
       "      <td>1</td>\n",
       "    </tr>\n",
       "    <tr>\n",
       "      <th>3</th>\n",
       "      <td>21243220</td>\n",
       "      <td>2015-01-23 21:10:00</td>\n",
       "      <td>1422018600</td>\n",
       "      <td>bomb-2</td>\n",
       "      <td>The revolutionary forces targeted the regime t...</td>\n",
       "      <td>1</td>\n",
       "      <td>Homs</td>\n",
       "      <td>34.73075</td>\n",
       "      <td>36.70936</td>\n",
       "      <td>68</td>\n",
       "      <td>55</td>\n",
       "      <td>/ssd/hk/Syria_samples/liveuamap_samples/post/H...</td>\n",
       "      <td>20120531&amp;20120829&amp;20130309&amp;20130926&amp;20131031&amp;2...</td>\n",
       "      <td>0&amp;0&amp;0&amp;0&amp;0&amp;0&amp;0&amp;0&amp;1&amp;1</td>\n",
       "      <td>1.724617e-05&amp;0.00023428141&amp;7.843362e-05&amp;9.1202...</td>\n",
       "      <td>POINT (36.70936 34.73075)</td>\n",
       "      <td>1</td>\n",
       "    </tr>\n",
       "    <tr>\n",
       "      <th>4</th>\n",
       "      <td>21243064</td>\n",
       "      <td>2015-01-22 19:36:00</td>\n",
       "      <td>1421926560</td>\n",
       "      <td>bomb-2</td>\n",
       "      <td>The FSA targeted the regime troops checkpoints...</td>\n",
       "      <td>1</td>\n",
       "      <td>Homs</td>\n",
       "      <td>34.73043</td>\n",
       "      <td>36.71082</td>\n",
       "      <td>70</td>\n",
       "      <td>55</td>\n",
       "      <td>/ssd/hk/Syria_samples/liveuamap_samples/post/H...</td>\n",
       "      <td>20120531&amp;20120829&amp;20130309&amp;20130926&amp;20131031&amp;2...</td>\n",
       "      <td>0&amp;0&amp;0&amp;0&amp;0&amp;0&amp;1&amp;1&amp;1&amp;1</td>\n",
       "      <td>2.4961686e-05&amp;0.00013824353&amp;1.708659e-05&amp;2.931...</td>\n",
       "      <td>POINT (36.71082 34.73043)</td>\n",
       "      <td>1</td>\n",
       "    </tr>\n",
       "    <tr>\n",
       "      <th>...</th>\n",
       "      <td>...</td>\n",
       "      <td>...</td>\n",
       "      <td>...</td>\n",
       "      <td>...</td>\n",
       "      <td>...</td>\n",
       "      <td>...</td>\n",
       "      <td>...</td>\n",
       "      <td>...</td>\n",
       "      <td>...</td>\n",
       "      <td>...</td>\n",
       "      <td>...</td>\n",
       "      <td>...</td>\n",
       "      <td>...</td>\n",
       "      <td>...</td>\n",
       "      <td>...</td>\n",
       "      <td>...</td>\n",
       "      <td>...</td>\n",
       "    </tr>\n",
       "    <tr>\n",
       "      <th>1048</th>\n",
       "      <td>21465749</td>\n",
       "      <td>2017-05-30 01:03:00</td>\n",
       "      <td>1496077380</td>\n",
       "      <td>bomb-3</td>\n",
       "      <td>Many civilians wounded in Qosour neighbourhood...</td>\n",
       "      <td>1</td>\n",
       "      <td>Deir-ez-Zor</td>\n",
       "      <td>35.33900</td>\n",
       "      <td>40.12761</td>\n",
       "      <td>72</td>\n",
       "      <td>38</td>\n",
       "      <td>/ssd/hk/Syria_samples/liveuamap_samples/post/D...</td>\n",
       "      <td>20121205&amp;20130213&amp;20130223&amp;20131024&amp;20140513&amp;2...</td>\n",
       "      <td>0&amp;0&amp;0&amp;0&amp;0&amp;0&amp;0&amp;0&amp;0&amp;0&amp;1&amp;1&amp;1&amp;1</td>\n",
       "      <td>0.15090048&amp;0.0022120294&amp;0.0018230478&amp;0.0015210...</td>\n",
       "      <td>POINT (40.12761 35.33900)</td>\n",
       "      <td>1</td>\n",
       "    </tr>\n",
       "    <tr>\n",
       "      <th>1049</th>\n",
       "      <td>21544911</td>\n",
       "      <td>2017-10-03 03:45:00</td>\n",
       "      <td>1506973500</td>\n",
       "      <td>bomb-3</td>\n",
       "      <td>ISIS targets safe neighborhoods in Deir Ezzor ...</td>\n",
       "      <td>1</td>\n",
       "      <td>Deir-ez-Zor</td>\n",
       "      <td>35.33515</td>\n",
       "      <td>40.12928</td>\n",
       "      <td>75</td>\n",
       "      <td>44</td>\n",
       "      <td>/ssd/hk/Syria_samples/liveuamap_samples/post/D...</td>\n",
       "      <td>20121205&amp;20130213&amp;20130223&amp;20131024&amp;20140513&amp;2...</td>\n",
       "      <td>0&amp;0&amp;0&amp;0&amp;0&amp;0&amp;0&amp;1&amp;0&amp;0&amp;1&amp;1&amp;1&amp;0</td>\n",
       "      <td>0.021988893&amp;0.0011961802&amp;0.0007855611&amp;0.001439...</td>\n",
       "      <td>POINT (40.12928 35.33515)</td>\n",
       "      <td>1</td>\n",
       "    </tr>\n",
       "    <tr>\n",
       "      <th>1050</th>\n",
       "      <td>21247599</td>\n",
       "      <td>2015-03-02 21:32:00</td>\n",
       "      <td>1425303120</td>\n",
       "      <td>bomb-1</td>\n",
       "      <td>Assassination in Damascus city, and aerial bom...</td>\n",
       "      <td>1</td>\n",
       "      <td>Hama</td>\n",
       "      <td>35.13360</td>\n",
       "      <td>36.74965</td>\n",
       "      <td>51</td>\n",
       "      <td>77</td>\n",
       "      <td>/ssd/hk/Syria_samples/liveuamap_samples/post/H...</td>\n",
       "      <td>20120921&amp;20130309&amp;20130827&amp;20130926&amp;20131031&amp;2...</td>\n",
       "      <td>0&amp;0&amp;0&amp;0&amp;0&amp;0&amp;0&amp;0&amp;0&amp;0&amp;1&amp;1&amp;1&amp;1&amp;1&amp;1</td>\n",
       "      <td>0.0004143768&amp;0.00011727475&amp;1.0972935e-05&amp;0.000...</td>\n",
       "      <td>POINT (36.74965 35.13360)</td>\n",
       "      <td>1</td>\n",
       "    </tr>\n",
       "    <tr>\n",
       "      <th>1051</th>\n",
       "      <td>21252215</td>\n",
       "      <td>2015-04-09 20:17:00</td>\n",
       "      <td>1428581820</td>\n",
       "      <td>bomb-1</td>\n",
       "      <td>Explosive barrels targeted the central provinc...</td>\n",
       "      <td>1</td>\n",
       "      <td>Hama</td>\n",
       "      <td>35.13325</td>\n",
       "      <td>36.74987</td>\n",
       "      <td>52</td>\n",
       "      <td>78</td>\n",
       "      <td>/ssd/hk/Syria_samples/liveuamap_samples/post/H...</td>\n",
       "      <td>20120921&amp;20130309&amp;20130827&amp;20130926&amp;20131031&amp;2...</td>\n",
       "      <td>0&amp;0&amp;0&amp;0&amp;0&amp;0&amp;0&amp;0&amp;0&amp;0&amp;1&amp;1&amp;1&amp;1&amp;1&amp;1</td>\n",
       "      <td>0.00018626731&amp;8.0249614e-05&amp;7.2216567e-06&amp;0.00...</td>\n",
       "      <td>POINT (36.74987 35.13325)</td>\n",
       "      <td>1</td>\n",
       "    </tr>\n",
       "    <tr>\n",
       "      <th>1052</th>\n",
       "      <td>21268711</td>\n",
       "      <td>2015-08-25 20:54:00</td>\n",
       "      <td>1440507240</td>\n",
       "      <td>bomb-1</td>\n",
       "      <td>Syrian army troops targeted positions of terro...</td>\n",
       "      <td>1</td>\n",
       "      <td>Hama</td>\n",
       "      <td>35.13683</td>\n",
       "      <td>36.75824</td>\n",
       "      <td>65</td>\n",
       "      <td>72</td>\n",
       "      <td>/ssd/hk/Syria_samples/liveuamap_samples/post/H...</td>\n",
       "      <td>20120921&amp;20130309&amp;20130827&amp;20130926&amp;20131031&amp;2...</td>\n",
       "      <td>0&amp;0&amp;0&amp;0&amp;0&amp;0&amp;0&amp;0&amp;0&amp;0&amp;1&amp;1&amp;1&amp;1&amp;1&amp;1</td>\n",
       "      <td>0.002059693&amp;0.00010241581&amp;9.639064e-06&amp;0.00023...</td>\n",
       "      <td>POINT (36.75824 35.13683)</td>\n",
       "      <td>1</td>\n",
       "    </tr>\n",
       "  </tbody>\n",
       "</table>\n",
       "<p>1053 rows × 17 columns</p>\n",
       "</div>"
      ],
      "text/plain": [
       "            id                 time   timestamp    type  \\\n",
       "0     21199999  2014-12-27 17:40:00  1419673200  bomb-1   \n",
       "1     21321405  2016-05-31 23:08:00  1464707280  bomb-1   \n",
       "2     21405736  2017-02-17 18:40:00  1487328000  bomb-1   \n",
       "3     21243220  2015-01-23 21:10:00  1422018600  bomb-2   \n",
       "4     21243064  2015-01-22 19:36:00  1421926560  bomb-2   \n",
       "...        ...                  ...         ...     ...   \n",
       "1048  21465749  2017-05-30 01:03:00  1496077380  bomb-3   \n",
       "1049  21544911  2017-10-03 03:45:00  1506973500  bomb-3   \n",
       "1050  21247599  2015-03-02 21:32:00  1425303120  bomb-1   \n",
       "1051  21252215  2015-04-09 20:17:00  1428581820  bomb-1   \n",
       "1052  21268711  2015-08-25 20:54:00  1440507240  bomb-1   \n",
       "\n",
       "                                                   name  is_use       region  \\\n",
       "0     #Assad regime artillery targets a residential ...       1         Homs   \n",
       "1                       Airstrikes on Lataminah in Hama       1         Homs   \n",
       "2     Video from Al Waer district of Homs as Russian...       1         Homs   \n",
       "3     The revolutionary forces targeted the regime t...       1         Homs   \n",
       "4     The FSA targeted the regime troops checkpoints...       1         Homs   \n",
       "...                                                 ...     ...          ...   \n",
       "1048  Many civilians wounded in Qosour neighbourhood...       1  Deir-ez-Zor   \n",
       "1049  ISIS targets safe neighborhoods in Deir Ezzor ...       1  Deir-ez-Zor   \n",
       "1050  Assassination in Damascus city, and aerial bom...       1         Hama   \n",
       "1051  Explosive barrels targeted the central provinc...       1         Hama   \n",
       "1052  Syrian army troops targeted positions of terro...       1         Hama   \n",
       "\n",
       "           lat       lon  patch_x  patch_y  \\\n",
       "0     34.73083  36.70944       68       55   \n",
       "1     34.73243  36.71370       74       52   \n",
       "2     34.73243  36.71370       74       52   \n",
       "3     34.73075  36.70936       68       55   \n",
       "4     34.73043  36.71082       70       55   \n",
       "...        ...       ...      ...      ...   \n",
       "1048  35.33900  40.12761       72       38   \n",
       "1049  35.33515  40.12928       75       44   \n",
       "1050  35.13360  36.74965       51       77   \n",
       "1051  35.13325  36.74987       52       78   \n",
       "1052  35.13683  36.75824       65       72   \n",
       "\n",
       "                                               img_path  \\\n",
       "0     /ssd/hk/Syria_samples/liveuamap_samples/post/H...   \n",
       "1     /ssd/hk/Syria_samples/liveuamap_samples/post/H...   \n",
       "2     /ssd/hk/Syria_samples/liveuamap_samples/post/H...   \n",
       "3     /ssd/hk/Syria_samples/liveuamap_samples/post/H...   \n",
       "4     /ssd/hk/Syria_samples/liveuamap_samples/post/H...   \n",
       "...                                                 ...   \n",
       "1048  /ssd/hk/Syria_samples/liveuamap_samples/post/D...   \n",
       "1049  /ssd/hk/Syria_samples/liveuamap_samples/post/D...   \n",
       "1050  /ssd/hk/Syria_samples/liveuamap_samples/post/H...   \n",
       "1051  /ssd/hk/Syria_samples/liveuamap_samples/post/H...   \n",
       "1052  /ssd/hk/Syria_samples/liveuamap_samples/post/H...   \n",
       "\n",
       "                                              img_dates  \\\n",
       "0     20120531&20120829&20130309&20130926&20131031&2...   \n",
       "1     20120531&20120829&20130309&20130926&20131031&2...   \n",
       "2     20120531&20120829&20130309&20130926&20131031&2...   \n",
       "3     20120531&20120829&20130309&20130926&20131031&2...   \n",
       "4     20120531&20120829&20130309&20130926&20131031&2...   \n",
       "...                                                 ...   \n",
       "1048  20121205&20130213&20130223&20131024&20140513&2...   \n",
       "1049  20121205&20130213&20130223&20131024&20140513&2...   \n",
       "1050  20120921&20130309&20130827&20130926&20131031&2...   \n",
       "1051  20120921&20130309&20130827&20130926&20131031&2...   \n",
       "1052  20120921&20130309&20130827&20130926&20131031&2...   \n",
       "\n",
       "                           MTCF-PtNet  \\\n",
       "0                 0&0&0&0&0&0&0&0&1&1   \n",
       "1                 0&0&0&0&0&1&1&1&1&1   \n",
       "2                 0&0&0&0&0&1&1&1&1&1   \n",
       "3                 0&0&0&0&0&0&0&0&1&1   \n",
       "4                 0&0&0&0&0&0&1&1&1&1   \n",
       "...                               ...   \n",
       "1048      0&0&0&0&0&0&0&0&0&0&1&1&1&1   \n",
       "1049      0&0&0&0&0&0&0&1&0&0&1&1&1&0   \n",
       "1050  0&0&0&0&0&0&0&0&0&0&1&1&1&1&1&1   \n",
       "1051  0&0&0&0&0&0&0&0&0&0&1&1&1&1&1&1   \n",
       "1052  0&0&0&0&0&0&0&0&0&0&1&1&1&1&1&1   \n",
       "\n",
       "                                     MTCF-PtNet-softmax  \\\n",
       "0     1.724617e-05&0.00023428141&7.843362e-05&9.1202...   \n",
       "1     1.3257952e-05&0.00037756359&0.00017163534&0.00...   \n",
       "2     1.3257952e-05&0.00037756359&0.00017163534&0.00...   \n",
       "3     1.724617e-05&0.00023428141&7.843362e-05&9.1202...   \n",
       "4     2.4961686e-05&0.00013824353&1.708659e-05&2.931...   \n",
       "...                                                 ...   \n",
       "1048  0.15090048&0.0022120294&0.0018230478&0.0015210...   \n",
       "1049  0.021988893&0.0011961802&0.0007855611&0.001439...   \n",
       "1050  0.0004143768&0.00011727475&1.0972935e-05&0.000...   \n",
       "1051  0.00018626731&8.0249614e-05&7.2216567e-06&0.00...   \n",
       "1052  0.002059693&0.00010241581&9.639064e-06&0.00023...   \n",
       "\n",
       "                       geometry  intervention  \n",
       "0     POINT (36.70944 34.73083)             1  \n",
       "1     POINT (36.71370 34.73243)             1  \n",
       "2     POINT (36.71370 34.73243)             1  \n",
       "3     POINT (36.70936 34.73075)             1  \n",
       "4     POINT (36.71082 34.73043)             1  \n",
       "...                         ...           ...  \n",
       "1048  POINT (40.12761 35.33900)             1  \n",
       "1049  POINT (40.12928 35.33515)             1  \n",
       "1050  POINT (36.74965 35.13360)             1  \n",
       "1051  POINT (36.74987 35.13325)             1  \n",
       "1052  POINT (36.75824 35.13683)             1  \n",
       "\n",
       "[1053 rows x 17 columns]"
      ]
     },
     "execution_count": 129,
     "metadata": {},
     "output_type": "execute_result"
    }
   ],
   "source": [
    "liveuamap_point"
   ]
  },
  {
   "cell_type": "code",
   "execution_count": 138,
   "metadata": {},
   "outputs": [
    {
     "data": {
      "text/plain": [
       "10"
      ]
     },
     "execution_count": 138,
     "metadata": {},
     "output_type": "execute_result"
    }
   ],
   "source": [
    "len(rsc)"
   ]
  },
  {
   "cell_type": "code",
   "execution_count": 139,
   "metadata": {},
   "outputs": [],
   "source": [
    "import time\n",
    "def to_timestamp(t):\n",
    "    if not len(t)==8:\n",
    "        raise('time length error')\n",
    "    t=f'{t[:4]}-{t[4:6]}-{t[6:]}'\n",
    "    struct_time=time.strptime(t,'%Y-%m-%d')\n",
    "    return time.mktime(struct_time)\n",
    "def get_res(event,ts):\n",
    "    for i in range(len(ts)):\n",
    "        if ts[i]>event:\n",
    "            break\n",
    "    return [i*(-1) for i in list(range(1,len(ts[:i])+1)[::-1])]+list(range(1,len(ts[i:])+1))\n",
    "did_pd_list=[]\n",
    "for i in range(len(all_liveuamap)):\n",
    "    s=all_liveuamap.iloc[i]\n",
    "    # rs=[np.float(i) for i in s['MTCF-sm'].split('&')]\n",
    "    rsc=[np.int(i) for i in s['MTCF-PtNet'].split('&')]\n",
    "    regions=[cities.index(s['region'])]*len(rsc)\n",
    "    events=[s['timestamp']]*len(rsc)\n",
    "    ids=[s['id']]*len(rsc)\n",
    "    intervs=[s['interv']]*len(rsc)\n",
    "    ts=[to_timestamp(i) for i in s['img_dates'].split('&')]\n",
    "    if intervs[0]==0:\n",
    "        res=[-99]*len(rsc)\n",
    "    else:\n",
    "        res=get_res(events[0],ts)\n",
    "    did_pd_list.append(pd.DataFrame.from_dict({'id':ids,\n",
    "                                                'time':ts,\n",
    "                                                'interv_time':events,\n",
    "                                                'period_difference':res,\n",
    "                                                # 'value':rs,\n",
    "                                                'value_c':rsc,\n",
    "                                                'is_interv':intervs,\n",
    "                                                'region':regions\n",
    "                                                }))"
   ]
  },
  {
   "cell_type": "code",
   "execution_count": 240,
   "metadata": {},
   "outputs": [],
   "source": [
    "did_pd=pd.concat(did_pd_list)"
   ]
  },
  {
   "cell_type": "code",
   "execution_count": 157,
   "metadata": {},
   "outputs": [],
   "source": []
  },
  {
   "cell_type": "code",
   "execution_count": 171,
   "metadata": {},
   "outputs": [],
   "source": []
  },
  {
   "cell_type": "code",
   "execution_count": 250,
   "metadata": {},
   "outputs": [],
   "source": [
    "ps=[]\n",
    "noexists=[]\n",
    "zzzzz=[]\n",
    "for i in range(len(liveuamap_point)):\n",
    "    p=liveuamap_point.iloc[i]\n",
    "    c_key=str(p['patch_y']).zfill(3)+str(p['patch_x']).zfill(3)\n",
    "    city=p['region']\n",
    "    try:\n",
    "        pathes=[i for i in use_patch_dict[city][c_key][0] if i is not None]\n",
    "        zzzzz.append(use_patch_dict[city][c_key][1])\n",
    "        ps.append(pathes)\n",
    "    except:\n",
    "        noexists.append(p['id'])\n",
    "\n",
    "for i in noexists:\n",
    "    liveuamap_point=liveuamap_point.drop(liveuamap_point[liveuamap_point['id']==i].index)"
   ]
  },
  {
   "cell_type": "code",
   "execution_count": 247,
   "metadata": {},
   "outputs": [
    {
     "data": {
      "text/plain": [
       "0"
      ]
     },
     "execution_count": 247,
     "metadata": {},
     "output_type": "execute_result"
    }
   ],
   "source": [
    "len(noexists)"
   ]
  },
  {
   "cell_type": "code",
   "execution_count": 227,
   "metadata": {},
   "outputs": [],
   "source": [
    "ts=[]\n",
    "for i in ps:\n",
    "    c=os.path.basename(i[0]).split('_')[0]\n",
    "    tt=[]\n",
    "    for j in i:\n",
    "        k=os.path.basename(j).split('_')[1]\n",
    "        t_p=glob(f'/data4/Syria_img/{c}_{k}*_treated.tif')[0]\n",
    "        t=os.path.basename(t_p).split('_')[2]\n",
    "        tt.append(t)\n",
    "    ts.append(tt)"
   ]
  },
  {
   "cell_type": "code",
   "execution_count": 229,
   "metadata": {},
   "outputs": [],
   "source": [
    "liveuamap_point['img_path']=to_str(ps)"
   ]
  },
  {
   "cell_type": "code",
   "execution_count": 231,
   "metadata": {},
   "outputs": [],
   "source": [
    "liveuamap_point['img_dates']=to_str(ts)"
   ]
  },
  {
   "cell_type": "code",
   "execution_count": 237,
   "metadata": {},
   "outputs": [
    {
     "data": {
      "text/plain": [
       "array([3.83616025e-05, 7.58946317e-06, 1.19903576e-04, 2.70611454e-05,\n",
       "       6.68417852e-05, 8.07432400e-04, 1.06878777e-03, 3.48833017e-03],\n",
       "      dtype=float32)"
      ]
     },
     "execution_count": 237,
     "metadata": {},
     "output_type": "execute_result"
    }
   ],
   "source": [
    "pre_results_softmax[0]"
   ]
  },
  {
   "cell_type": "code",
   "execution_count": 232,
   "metadata": {},
   "outputs": [
    {
     "name": "stderr",
     "output_type": "stream",
     "text": [
      "100%|██████████| 940/940 [05:42<00:00,  2.74it/s]\n"
     ]
    }
   ],
   "source": [
    "pre_results=[]\n",
    "pre_results_softmax=[]\n",
    "for i in tqdm(range(len(liveuamap_point))):\n",
    "    path_post=liveuamap_point.iloc[i]['img_path'].split('&')\n",
    "    out,out_sm=get_pre_result(path_post)\n",
    "    pre_results.append(out)\n",
    "    pre_results_softmax.append(out_sm)"
   ]
  },
  {
   "cell_type": "code",
   "execution_count": 234,
   "metadata": {},
   "outputs": [],
   "source": [
    "liveuamap_point['MTCF-PtNet']=to_str(pre_results)\n",
    "liveuamap_point['MTCF-PtNet-softmax']=to_str(pre_results_softmax)"
   ]
  },
  {
   "cell_type": "code",
   "execution_count": 285,
   "metadata": {},
   "outputs": [],
   "source": [
    "liveuamap_point=liveuamap_point.rename(columns={'MTCF-PtNet-softmax':'MTCF-sm','intervention':'interv'})\n",
    "nointervention_pd=nointervention_pd.rename(columns={'MTCF-PtNet-softmax':'MTCF-sm','intervention':'interv'})"
   ]
  },
  {
   "cell_type": "code",
   "execution_count": 286,
   "metadata": {},
   "outputs": [],
   "source": [
    "all_liveuamap2=pd.concat([liveuamap_point,nointervention_pd])"
   ]
  },
  {
   "cell_type": "code",
   "execution_count": 290,
   "metadata": {},
   "outputs": [],
   "source": [
    "import time\n",
    "def to_timestamp(t):\n",
    "    if not len(t)==8:\n",
    "        raise('time length error')\n",
    "    t=f'{t[:4]}-{t[4:6]}-{t[6:]}'\n",
    "    struct_time=time.strptime(t,'%Y-%m-%d')\n",
    "    return time.mktime(struct_time)\n",
    "def get_res(event,ts):\n",
    "    for i in range(len(ts)):\n",
    "        if ts[i]>event:\n",
    "            break\n",
    "    return [i*(-1) for i in list(range(1,len(ts[:i])+1)[::-1])]+list(range(1,len(ts[i:])+1))\n",
    "did_pd_list=[]\n",
    "for i in range(len(all_liveuamap2)):\n",
    "    s=all_liveuamap2.iloc[i]\n",
    "    rs=[np.float(i) for i in s['MTCF-sm'].split('&')]\n",
    "    rsc=[np.int(i) for i in s['MTCF-PtNet'].split('&')]\n",
    "    regions=[cities.index(s['region'])]*len(rsc)\n",
    "    events=[s['timestamp']]*len(rsc)\n",
    "    ids=[s['id']]*len(rsc)\n",
    "    intervs=[s['interv']]*len(rsc)\n",
    "\n",
    "    ts=[to_timestamp(i) for i in s['img_dates'].split('&')]\n",
    "    if intervs[0]==0:\n",
    "        res=[-99]*len(rsc)\n",
    "    else:\n",
    "        res=get_res(events[0],ts)\n",
    "    did_pd_list.append(pd.DataFrame.from_dict({'id':ids,\n",
    "                                                'time':ts,\n",
    "                                                'interv_time':events,\n",
    "                                                'period_difference':res,\n",
    "                                                'value':rs,\n",
    "                                                'value_c':rsc,\n",
    "                                                'is_interv':intervs,\n",
    "                                                'region':regions\n",
    "                                                }))\n",
    "did_pd=pd.concat(did_pd_list)"
   ]
  },
  {
   "cell_type": "code",
   "execution_count": 291,
   "metadata": {},
   "outputs": [
    {
     "data": {
      "text/html": [
       "<div>\n",
       "<style scoped>\n",
       "    .dataframe tbody tr th:only-of-type {\n",
       "        vertical-align: middle;\n",
       "    }\n",
       "\n",
       "    .dataframe tbody tr th {\n",
       "        vertical-align: top;\n",
       "    }\n",
       "\n",
       "    .dataframe thead th {\n",
       "        text-align: right;\n",
       "    }\n",
       "</style>\n",
       "<table border=\"1\" class=\"dataframe\">\n",
       "  <thead>\n",
       "    <tr style=\"text-align: right;\">\n",
       "      <th></th>\n",
       "      <th>id</th>\n",
       "      <th>time</th>\n",
       "      <th>interv_time</th>\n",
       "      <th>period_difference</th>\n",
       "      <th>value</th>\n",
       "      <th>value_c</th>\n",
       "      <th>is_interv</th>\n",
       "      <th>region</th>\n",
       "    </tr>\n",
       "  </thead>\n",
       "  <tbody>\n",
       "    <tr>\n",
       "      <th>0</th>\n",
       "      <td>21199999</td>\n",
       "      <td>1.338394e+09</td>\n",
       "      <td>1419673200</td>\n",
       "      <td>-7</td>\n",
       "      <td>0.000038</td>\n",
       "      <td>0</td>\n",
       "      <td>1</td>\n",
       "      <td>0</td>\n",
       "    </tr>\n",
       "    <tr>\n",
       "      <th>1</th>\n",
       "      <td>21199999</td>\n",
       "      <td>1.338394e+09</td>\n",
       "      <td>1419673200</td>\n",
       "      <td>-6</td>\n",
       "      <td>0.000008</td>\n",
       "      <td>0</td>\n",
       "      <td>1</td>\n",
       "      <td>0</td>\n",
       "    </tr>\n",
       "    <tr>\n",
       "      <th>2</th>\n",
       "      <td>21199999</td>\n",
       "      <td>1.346170e+09</td>\n",
       "      <td>1419673200</td>\n",
       "      <td>-5</td>\n",
       "      <td>0.000120</td>\n",
       "      <td>0</td>\n",
       "      <td>1</td>\n",
       "      <td>0</td>\n",
       "    </tr>\n",
       "    <tr>\n",
       "      <th>3</th>\n",
       "      <td>21199999</td>\n",
       "      <td>1.362758e+09</td>\n",
       "      <td>1419673200</td>\n",
       "      <td>-4</td>\n",
       "      <td>0.000027</td>\n",
       "      <td>0</td>\n",
       "      <td>1</td>\n",
       "      <td>0</td>\n",
       "    </tr>\n",
       "    <tr>\n",
       "      <th>4</th>\n",
       "      <td>21199999</td>\n",
       "      <td>1.380125e+09</td>\n",
       "      <td>1419673200</td>\n",
       "      <td>-3</td>\n",
       "      <td>0.000067</td>\n",
       "      <td>0</td>\n",
       "      <td>1</td>\n",
       "      <td>0</td>\n",
       "    </tr>\n",
       "    <tr>\n",
       "      <th>...</th>\n",
       "      <td>...</td>\n",
       "      <td>...</td>\n",
       "      <td>...</td>\n",
       "      <td>...</td>\n",
       "      <td>...</td>\n",
       "      <td>...</td>\n",
       "      <td>...</td>\n",
       "      <td>...</td>\n",
       "    </tr>\n",
       "    <tr>\n",
       "      <th>11</th>\n",
       "      <td>-10516</td>\n",
       "      <td>1.464538e+09</td>\n",
       "      <td>none</td>\n",
       "      <td>-99</td>\n",
       "      <td>0.100289</td>\n",
       "      <td>0</td>\n",
       "      <td>0</td>\n",
       "      <td>5</td>\n",
       "    </tr>\n",
       "    <tr>\n",
       "      <th>12</th>\n",
       "      <td>-10516</td>\n",
       "      <td>1.473696e+09</td>\n",
       "      <td>none</td>\n",
       "      <td>-99</td>\n",
       "      <td>0.137296</td>\n",
       "      <td>0</td>\n",
       "      <td>0</td>\n",
       "      <td>5</td>\n",
       "    </tr>\n",
       "    <tr>\n",
       "      <th>13</th>\n",
       "      <td>-10516</td>\n",
       "      <td>1.476029e+09</td>\n",
       "      <td>none</td>\n",
       "      <td>-99</td>\n",
       "      <td>0.148432</td>\n",
       "      <td>0</td>\n",
       "      <td>0</td>\n",
       "      <td>5</td>\n",
       "    </tr>\n",
       "    <tr>\n",
       "      <th>14</th>\n",
       "      <td>-10516</td>\n",
       "      <td>1.487606e+09</td>\n",
       "      <td>none</td>\n",
       "      <td>-99</td>\n",
       "      <td>0.011471</td>\n",
       "      <td>0</td>\n",
       "      <td>0</td>\n",
       "      <td>5</td>\n",
       "    </tr>\n",
       "    <tr>\n",
       "      <th>15</th>\n",
       "      <td>-10516</td>\n",
       "      <td>1.501344e+09</td>\n",
       "      <td>none</td>\n",
       "      <td>-99</td>\n",
       "      <td>0.038489</td>\n",
       "      <td>0</td>\n",
       "      <td>0</td>\n",
       "      <td>5</td>\n",
       "    </tr>\n",
       "  </tbody>\n",
       "</table>\n",
       "<p>27741 rows × 8 columns</p>\n",
       "</div>"
      ],
      "text/plain": [
       "          id          time interv_time  period_difference     value  value_c  \\\n",
       "0   21199999  1.338394e+09  1419673200                 -7  0.000038        0   \n",
       "1   21199999  1.338394e+09  1419673200                 -6  0.000008        0   \n",
       "2   21199999  1.346170e+09  1419673200                 -5  0.000120        0   \n",
       "3   21199999  1.362758e+09  1419673200                 -4  0.000027        0   \n",
       "4   21199999  1.380125e+09  1419673200                 -3  0.000067        0   \n",
       "..       ...           ...         ...                ...       ...      ...   \n",
       "11    -10516  1.464538e+09        none                -99  0.100289        0   \n",
       "12    -10516  1.473696e+09        none                -99  0.137296        0   \n",
       "13    -10516  1.476029e+09        none                -99  0.148432        0   \n",
       "14    -10516  1.487606e+09        none                -99  0.011471        0   \n",
       "15    -10516  1.501344e+09        none                -99  0.038489        0   \n",
       "\n",
       "    is_interv  region  \n",
       "0           1       0  \n",
       "1           1       0  \n",
       "2           1       0  \n",
       "3           1       0  \n",
       "4           1       0  \n",
       "..        ...     ...  \n",
       "11          0       5  \n",
       "12          0       5  \n",
       "13          0       5  \n",
       "14          0       5  \n",
       "15          0       5  \n",
       "\n",
       "[27741 rows x 8 columns]"
      ]
     },
     "execution_count": 291,
     "metadata": {},
     "output_type": "execute_result"
    }
   ],
   "source": [
    "did_pd"
   ]
  },
  {
   "cell_type": "code",
   "execution_count": 277,
   "metadata": {},
   "outputs": [
    {
     "name": "stdout",
     "output_type": "stream",
     "text": [
      "-8 930 6 0.6451612833853626\n",
      "-7 938 14 1.4925372975209243\n",
      "-6 939 14 1.4909478009483728\n",
      "-5 940 14 1.4893616862833863\n",
      "-4 940 26 2.7659574173834316\n",
      "-3 940 42 4.468085058850159\n",
      "-2 940 57 6.063829722725216\n",
      "-1 940 72 7.659574386600272\n",
      "0 0 0 0.0\n",
      "1 940 76 8.085106296966954\n",
      "2 285 45 15.789473130193926\n",
      "3 148 40 27.027025200876675\n",
      "4 65 15 23.076919526627766\n",
      "5 19 11 57.89470637120717\n",
      "6 4 2 49.99987500031251\n",
      "7 1 1 99.99900000999989\n",
      "8 1 1 99.99900000999989\n"
     ]
    }
   ],
   "source": [
    "k=did_pd\n",
    "for i in range(-8,9):\n",
    "    a=len(k[k['period_difference']==i])\n",
    "    b=len(k[(k['period_difference']==i) & (k['value_c']==1)])\n",
    "    print(i,a,b,b/(a+0.00001)*100)"
   ]
  },
  {
   "cell_type": "code",
   "execution_count": null,
   "metadata": {},
   "outputs": [],
   "source": [
    "for city in cities:\n",
    "    print(city)\n",
    "    k=did_pd[(did_pd['is_interv']==1) & (did_pd['region']==cities.index(city))]\n",
    "    for i in range(-8,9):\n",
    "        if i==0:\n",
    "            continue\n",
    "        else:\n",
    "            a=len(k[k['period_difference']==i])\n",
    "            b=len(k[(k['period_difference']==i) & (k['value_c']==1)])\n",
    "            print(i,a,b,int(b/(a+0.00001)*100))"
   ]
  },
  {
   "cell_type": "code",
   "execution_count": 294,
   "metadata": {},
   "outputs": [],
   "source": [
    "k=did_pd['interv_time']\n",
    "did_pd['interv_time']=[i if i!='none' else 0 for i in k]"
   ]
  },
  {
   "cell_type": "code",
   "execution_count": 295,
   "metadata": {},
   "outputs": [],
   "source": [
    "did_pd.to_stata('/data4/liveuamap/S_did_mt_c2.dta')"
   ]
  },
  {
   "cell_type": "code",
   "execution_count": null,
   "metadata": {},
   "outputs": [],
   "source": [
    "use_patch_dict\n",
    "map(use_patch_dict[city].pop, code)"
   ]
  },
  {
   "cell_type": "code",
   "execution_count": 321,
   "metadata": {},
   "outputs": [],
   "source": []
  },
  {
   "cell_type": "code",
   "execution_count": 323,
   "metadata": {},
   "outputs": [],
   "source": [
    "all_liveuamap2.to_file('/data4/liveuamap/S_did_mt_c2.shp')"
   ]
  },
  {
   "cell_type": "code",
   "execution_count": 333,
   "metadata": {},
   "outputs": [],
   "source": [
    "import random\n",
    "pathes=[]\n",
    "kk=[]\n",
    "cc=[]\n",
    "for city in cities:\n",
    "    k=liveuamap_point[liveuamap_point['region']==city]\n",
    "    keys=list(use_patch_dict[city].keys())\n",
    "    random.shuffle(keys)\n",
    "    keys_use=keys[:len(k)]\n",
    "    kk+=keys_use\n",
    "    cc+=[city]*len(keys_use)\n",
    "    for i in keys_use:\n",
    "        pathes.append([i for i in use_patch_dict[city][i][0] if i is not None])\n",
    "x=[int(i[3:]) for i in kk]\n",
    "y=[int(i[:3]) for i in kk]"
   ]
  },
  {
   "cell_type": "code",
   "execution_count": 345,
   "metadata": {},
   "outputs": [
    {
     "name": "stdout",
     "output_type": "stream",
     "text": [
      "940 940 940 940 940 940 940\n"
     ]
    }
   ],
   "source": [
    "print(len(pathes),len(kk),len(cc),len(x),len(y),len(ts),len(geop))"
   ]
  },
  {
   "cell_type": "code",
   "execution_count": 339,
   "metadata": {},
   "outputs": [],
   "source": [
    "ts=[]\n",
    "for i in pathes:\n",
    "    c=os.path.basename(i[0]).split('_')[0]\n",
    "    tt=[]\n",
    "    for j in i:\n",
    "        k=os.path.basename(j).split('_')[1]\n",
    "        t_p=glob(f'/data4/Syria_img/{c}_{k}*_treated.tif')[0]\n",
    "        t=os.path.basename(t_p).split('_')[2]\n",
    "        tt.append(t)\n",
    "    ts.append(tt)\n"
   ]
  },
  {
   "cell_type": "code",
   "execution_count": 348,
   "metadata": {},
   "outputs": [],
   "source": [
    "nointervention_pd2=gpd.GeoDataFrame.from_dict({'id':list(range(len(pathes))),\n",
    "'time':[0]*len(pathes),\n",
    "'timestamp':[0]*len(pathes),\n",
    "'type':['none']*len(pathes),\n",
    "'name':['none']*len(pathes),\n",
    "'is_use':[1]*len(pathes),\n",
    "'region':cc,\n",
    "'lat':[0]*len(pathes),\n",
    "'lon':[0]*len(pathes),\n",
    "'patch_x':x,\n",
    "'patch_y':y,\n",
    "'geometry':geop,\n",
    "'interv':[0]*len(pathes),\n",
    "'img_path':to_str(pathes),\n",
    "'img_dates':to_str(ts)\n",
    "})"
   ]
  },
  {
   "cell_type": "code",
   "execution_count": 349,
   "metadata": {},
   "outputs": [
    {
     "data": {
      "text/html": [
       "<div>\n",
       "<style scoped>\n",
       "    .dataframe tbody tr th:only-of-type {\n",
       "        vertical-align: middle;\n",
       "    }\n",
       "\n",
       "    .dataframe tbody tr th {\n",
       "        vertical-align: top;\n",
       "    }\n",
       "\n",
       "    .dataframe thead th {\n",
       "        text-align: right;\n",
       "    }\n",
       "</style>\n",
       "<table border=\"1\" class=\"dataframe\">\n",
       "  <thead>\n",
       "    <tr style=\"text-align: right;\">\n",
       "      <th></th>\n",
       "      <th>id</th>\n",
       "      <th>time</th>\n",
       "      <th>timestamp</th>\n",
       "      <th>type</th>\n",
       "      <th>name</th>\n",
       "      <th>is_use</th>\n",
       "      <th>region</th>\n",
       "      <th>lat</th>\n",
       "      <th>lon</th>\n",
       "      <th>patch_x</th>\n",
       "      <th>patch_y</th>\n",
       "      <th>geometry</th>\n",
       "      <th>interv</th>\n",
       "      <th>img_path</th>\n",
       "      <th>img_dates</th>\n",
       "    </tr>\n",
       "  </thead>\n",
       "  <tbody>\n",
       "    <tr>\n",
       "      <th>0</th>\n",
       "      <td>0</td>\n",
       "      <td>0</td>\n",
       "      <td>0</td>\n",
       "      <td>none</td>\n",
       "      <td>none</td>\n",
       "      <td>1</td>\n",
       "      <td>Homs</td>\n",
       "      <td>0</td>\n",
       "      <td>0</td>\n",
       "      <td>96</td>\n",
       "      <td>77</td>\n",
       "      <td>POINT (0.00000 0.00000)</td>\n",
       "      <td>0</td>\n",
       "      <td>/ssd/hk/Syria_samples/samples_enhance_v2/pre/H...</td>\n",
       "      <td>20120531&amp;20120531&amp;20120829&amp;20130309&amp;20130926&amp;2...</td>\n",
       "    </tr>\n",
       "    <tr>\n",
       "      <th>1</th>\n",
       "      <td>1</td>\n",
       "      <td>0</td>\n",
       "      <td>0</td>\n",
       "      <td>none</td>\n",
       "      <td>none</td>\n",
       "      <td>1</td>\n",
       "      <td>Homs</td>\n",
       "      <td>0</td>\n",
       "      <td>0</td>\n",
       "      <td>69</td>\n",
       "      <td>15</td>\n",
       "      <td>POINT (0.00000 0.00000)</td>\n",
       "      <td>0</td>\n",
       "      <td>/ssd/hk/Syria_samples/samples_enhance_v2/pre/H...</td>\n",
       "      <td>20120531&amp;20120531&amp;20120829&amp;20130309&amp;20130926&amp;2...</td>\n",
       "    </tr>\n",
       "    <tr>\n",
       "      <th>2</th>\n",
       "      <td>2</td>\n",
       "      <td>0</td>\n",
       "      <td>0</td>\n",
       "      <td>none</td>\n",
       "      <td>none</td>\n",
       "      <td>1</td>\n",
       "      <td>Homs</td>\n",
       "      <td>0</td>\n",
       "      <td>0</td>\n",
       "      <td>72</td>\n",
       "      <td>80</td>\n",
       "      <td>POINT (0.00000 0.00000)</td>\n",
       "      <td>0</td>\n",
       "      <td>/ssd/hk/Syria_samples/samples_enhance_v2/pre/H...</td>\n",
       "      <td>20120531&amp;20120531&amp;20120829&amp;20130309&amp;20130926&amp;2...</td>\n",
       "    </tr>\n",
       "    <tr>\n",
       "      <th>3</th>\n",
       "      <td>3</td>\n",
       "      <td>0</td>\n",
       "      <td>0</td>\n",
       "      <td>none</td>\n",
       "      <td>none</td>\n",
       "      <td>1</td>\n",
       "      <td>Homs</td>\n",
       "      <td>0</td>\n",
       "      <td>0</td>\n",
       "      <td>42</td>\n",
       "      <td>94</td>\n",
       "      <td>POINT (0.00000 0.00000)</td>\n",
       "      <td>0</td>\n",
       "      <td>/ssd/hk/Syria_samples/samples_enhance_v2/pre/H...</td>\n",
       "      <td>20120531&amp;20120531&amp;20120829&amp;20130309&amp;20130926&amp;2...</td>\n",
       "    </tr>\n",
       "    <tr>\n",
       "      <th>4</th>\n",
       "      <td>4</td>\n",
       "      <td>0</td>\n",
       "      <td>0</td>\n",
       "      <td>none</td>\n",
       "      <td>none</td>\n",
       "      <td>1</td>\n",
       "      <td>Homs</td>\n",
       "      <td>0</td>\n",
       "      <td>0</td>\n",
       "      <td>70</td>\n",
       "      <td>97</td>\n",
       "      <td>POINT (0.00000 0.00000)</td>\n",
       "      <td>0</td>\n",
       "      <td>/ssd/hk/Syria_samples/samples_enhance_v2/pre/H...</td>\n",
       "      <td>20120531&amp;20120531&amp;20120829&amp;20130309&amp;20130926&amp;2...</td>\n",
       "    </tr>\n",
       "    <tr>\n",
       "      <th>...</th>\n",
       "      <td>...</td>\n",
       "      <td>...</td>\n",
       "      <td>...</td>\n",
       "      <td>...</td>\n",
       "      <td>...</td>\n",
       "      <td>...</td>\n",
       "      <td>...</td>\n",
       "      <td>...</td>\n",
       "      <td>...</td>\n",
       "      <td>...</td>\n",
       "      <td>...</td>\n",
       "      <td>...</td>\n",
       "      <td>...</td>\n",
       "      <td>...</td>\n",
       "      <td>...</td>\n",
       "    </tr>\n",
       "    <tr>\n",
       "      <th>935</th>\n",
       "      <td>935</td>\n",
       "      <td>0</td>\n",
       "      <td>0</td>\n",
       "      <td>none</td>\n",
       "      <td>none</td>\n",
       "      <td>1</td>\n",
       "      <td>Deir-ez-Zor</td>\n",
       "      <td>0</td>\n",
       "      <td>0</td>\n",
       "      <td>116</td>\n",
       "      <td>66</td>\n",
       "      <td>POINT (0.00000 0.00000)</td>\n",
       "      <td>0</td>\n",
       "      <td>/ssd/hk/Syria_samples/samples_enhance_v2/pre/D...</td>\n",
       "      <td>20121205&amp;20121205&amp;20130213&amp;20130223&amp;20131024&amp;2...</td>\n",
       "    </tr>\n",
       "    <tr>\n",
       "      <th>936</th>\n",
       "      <td>936</td>\n",
       "      <td>0</td>\n",
       "      <td>0</td>\n",
       "      <td>none</td>\n",
       "      <td>none</td>\n",
       "      <td>1</td>\n",
       "      <td>Deir-ez-Zor</td>\n",
       "      <td>0</td>\n",
       "      <td>0</td>\n",
       "      <td>83</td>\n",
       "      <td>56</td>\n",
       "      <td>POINT (0.00000 0.00000)</td>\n",
       "      <td>0</td>\n",
       "      <td>/ssd/hk/Syria_samples/samples_enhance_v2/pre/D...</td>\n",
       "      <td>20121205&amp;20121205&amp;20130213&amp;20130223&amp;20131024&amp;2...</td>\n",
       "    </tr>\n",
       "    <tr>\n",
       "      <th>937</th>\n",
       "      <td>937</td>\n",
       "      <td>0</td>\n",
       "      <td>0</td>\n",
       "      <td>none</td>\n",
       "      <td>none</td>\n",
       "      <td>1</td>\n",
       "      <td>Hama</td>\n",
       "      <td>0</td>\n",
       "      <td>0</td>\n",
       "      <td>46</td>\n",
       "      <td>120</td>\n",
       "      <td>POINT (0.00000 0.00000)</td>\n",
       "      <td>0</td>\n",
       "      <td>/ssd/hk/Syria_samples/samples_enhance_v2/pre/H...</td>\n",
       "      <td>20120921&amp;20120921&amp;20130309&amp;20130827&amp;20130926&amp;2...</td>\n",
       "    </tr>\n",
       "    <tr>\n",
       "      <th>938</th>\n",
       "      <td>938</td>\n",
       "      <td>0</td>\n",
       "      <td>0</td>\n",
       "      <td>none</td>\n",
       "      <td>none</td>\n",
       "      <td>1</td>\n",
       "      <td>Hama</td>\n",
       "      <td>0</td>\n",
       "      <td>0</td>\n",
       "      <td>105</td>\n",
       "      <td>34</td>\n",
       "      <td>POINT (0.00000 0.00000)</td>\n",
       "      <td>0</td>\n",
       "      <td>/ssd/hk/Syria_samples/samples_enhance_v2/pre/H...</td>\n",
       "      <td>20120921&amp;20120921&amp;20130309&amp;20130827&amp;20130926&amp;2...</td>\n",
       "    </tr>\n",
       "    <tr>\n",
       "      <th>939</th>\n",
       "      <td>939</td>\n",
       "      <td>0</td>\n",
       "      <td>0</td>\n",
       "      <td>none</td>\n",
       "      <td>none</td>\n",
       "      <td>1</td>\n",
       "      <td>Hama</td>\n",
       "      <td>0</td>\n",
       "      <td>0</td>\n",
       "      <td>25</td>\n",
       "      <td>46</td>\n",
       "      <td>POINT (0.00000 0.00000)</td>\n",
       "      <td>0</td>\n",
       "      <td>/ssd/hk/Syria_samples/samples_enhance_v2/pre/H...</td>\n",
       "      <td>20120921&amp;20120921&amp;20130309&amp;20130827&amp;20130926&amp;2...</td>\n",
       "    </tr>\n",
       "  </tbody>\n",
       "</table>\n",
       "<p>940 rows × 15 columns</p>\n",
       "</div>"
      ],
      "text/plain": [
       "      id  time  timestamp  type  name  is_use       region  lat  lon  patch_x  \\\n",
       "0      0     0          0  none  none       1         Homs    0    0       96   \n",
       "1      1     0          0  none  none       1         Homs    0    0       69   \n",
       "2      2     0          0  none  none       1         Homs    0    0       72   \n",
       "3      3     0          0  none  none       1         Homs    0    0       42   \n",
       "4      4     0          0  none  none       1         Homs    0    0       70   \n",
       "..   ...   ...        ...   ...   ...     ...          ...  ...  ...      ...   \n",
       "935  935     0          0  none  none       1  Deir-ez-Zor    0    0      116   \n",
       "936  936     0          0  none  none       1  Deir-ez-Zor    0    0       83   \n",
       "937  937     0          0  none  none       1         Hama    0    0       46   \n",
       "938  938     0          0  none  none       1         Hama    0    0      105   \n",
       "939  939     0          0  none  none       1         Hama    0    0       25   \n",
       "\n",
       "     patch_y                 geometry  interv  \\\n",
       "0         77  POINT (0.00000 0.00000)       0   \n",
       "1         15  POINT (0.00000 0.00000)       0   \n",
       "2         80  POINT (0.00000 0.00000)       0   \n",
       "3         94  POINT (0.00000 0.00000)       0   \n",
       "4         97  POINT (0.00000 0.00000)       0   \n",
       "..       ...                      ...     ...   \n",
       "935       66  POINT (0.00000 0.00000)       0   \n",
       "936       56  POINT (0.00000 0.00000)       0   \n",
       "937      120  POINT (0.00000 0.00000)       0   \n",
       "938       34  POINT (0.00000 0.00000)       0   \n",
       "939       46  POINT (0.00000 0.00000)       0   \n",
       "\n",
       "                                              img_path  \\\n",
       "0    /ssd/hk/Syria_samples/samples_enhance_v2/pre/H...   \n",
       "1    /ssd/hk/Syria_samples/samples_enhance_v2/pre/H...   \n",
       "2    /ssd/hk/Syria_samples/samples_enhance_v2/pre/H...   \n",
       "3    /ssd/hk/Syria_samples/samples_enhance_v2/pre/H...   \n",
       "4    /ssd/hk/Syria_samples/samples_enhance_v2/pre/H...   \n",
       "..                                                 ...   \n",
       "935  /ssd/hk/Syria_samples/samples_enhance_v2/pre/D...   \n",
       "936  /ssd/hk/Syria_samples/samples_enhance_v2/pre/D...   \n",
       "937  /ssd/hk/Syria_samples/samples_enhance_v2/pre/H...   \n",
       "938  /ssd/hk/Syria_samples/samples_enhance_v2/pre/H...   \n",
       "939  /ssd/hk/Syria_samples/samples_enhance_v2/pre/H...   \n",
       "\n",
       "                                             img_dates  \n",
       "0    20120531&20120531&20120829&20130309&20130926&2...  \n",
       "1    20120531&20120531&20120829&20130309&20130926&2...  \n",
       "2    20120531&20120531&20120829&20130309&20130926&2...  \n",
       "3    20120531&20120531&20120829&20130309&20130926&2...  \n",
       "4    20120531&20120531&20120829&20130309&20130926&2...  \n",
       "..                                                 ...  \n",
       "935  20121205&20121205&20130213&20130223&20131024&2...  \n",
       "936  20121205&20121205&20130213&20130223&20131024&2...  \n",
       "937  20120921&20120921&20130309&20130827&20130926&2...  \n",
       "938  20120921&20120921&20130309&20130827&20130926&2...  \n",
       "939  20120921&20120921&20130309&20130827&20130926&2...  \n",
       "\n",
       "[940 rows x 15 columns]"
      ]
     },
     "execution_count": 349,
     "metadata": {},
     "output_type": "execute_result"
    }
   ],
   "source": [
    "nointervention_pd2"
   ]
  },
  {
   "cell_type": "code",
   "execution_count": 350,
   "metadata": {},
   "outputs": [
    {
     "name": "stderr",
     "output_type": "stream",
     "text": [
      "100%|██████████| 940/940 [05:43<00:00,  2.73it/s]\n"
     ]
    }
   ],
   "source": [
    "pre_results=[]\n",
    "pre_results_softmax=[]\n",
    "for i in tqdm(range(len(nointervention_pd2))):\n",
    "    path_post=nointervention_pd2.iloc[i]['img_path'].split('&')\n",
    "    out,out_sm=get_pre_result(path_post)\n",
    "    pre_results.append(out)\n",
    "    pre_results_softmax.append(out_sm)\n",
    "nointervention_pd2['MTCF-PtNet']=to_str(pre_results)\n",
    "nointervention_pd2['MTCF-sm']=to_str(pre_results_softmax)"
   ]
  },
  {
   "cell_type": "code",
   "execution_count": 352,
   "metadata": {},
   "outputs": [],
   "source": []
  },
  {
   "cell_type": "code",
   "execution_count": 354,
   "metadata": {},
   "outputs": [
    {
     "data": {
      "text/plain": [
       "Index(['id', 'time', 'timestamp', 'type', 'name', 'is_use', 'region', 'lat',\n",
       "       'lon', 'patch_x', 'patch_y', 'img_path', 'img_dates', 'MTCF-PtNet',\n",
       "       'MTCF-sm', 'geometry', 'interv'],\n",
       "      dtype='object')"
      ]
     },
     "execution_count": 354,
     "metadata": {},
     "output_type": "execute_result"
    }
   ],
   "source": [
    "all_liveuamap2.keys()"
   ]
  },
  {
   "cell_type": "code",
   "execution_count": 356,
   "metadata": {},
   "outputs": [],
   "source": [
    "for i in nointervention_pd2.keys():\n",
    "    if not i in list(all_liveuamap2.keys()):\n",
    "        print(i)"
   ]
  },
  {
   "cell_type": "code",
   "execution_count": 359,
   "metadata": {},
   "outputs": [],
   "source": [
    "all_liveuamap2=pd.concat([all_liveuamap2[all_liveuamap2['interv']==1],nointervention_pd])"
   ]
  },
  {
   "cell_type": "code",
   "execution_count": 361,
   "metadata": {},
   "outputs": [],
   "source": [
    "all_liveuamap2.to_file('/data4/liveuamap/S_did_mt_c3.shp')"
   ]
  },
  {
   "cell_type": "code",
   "execution_count": 362,
   "metadata": {},
   "outputs": [],
   "source": [
    "import time\n",
    "def to_timestamp(t):\n",
    "    if not len(t)==8:\n",
    "        raise('time length error')\n",
    "    t=f'{t[:4]}-{t[4:6]}-{t[6:]}'\n",
    "    struct_time=time.strptime(t,'%Y-%m-%d')\n",
    "    return time.mktime(struct_time)\n",
    "def get_res(event,ts):\n",
    "    for i in range(len(ts)):\n",
    "        if ts[i]>event:\n",
    "            break\n",
    "    return [i*(-1) for i in list(range(1,len(ts[:i])+1)[::-1])]+list(range(1,len(ts[i:])+1))\n",
    "did_pd_list=[]\n",
    "for i in range(len(all_liveuamap2)):\n",
    "    s=all_liveuamap2.iloc[i]\n",
    "    rs=[np.float(i) for i in s['MTCF-sm'].split('&')]\n",
    "    rsc=[np.int(i) for i in s['MTCF-PtNet'].split('&')]\n",
    "    regions=[cities.index(s['region'])]*len(rsc)\n",
    "    events=[s['timestamp']]*len(rsc)\n",
    "    ids=[s['id']]*len(rsc)\n",
    "    intervs=[s['interv']]*len(rsc)\n",
    "\n",
    "    ts=[to_timestamp(i) for i in s['img_dates'].split('&')]\n",
    "    if intervs[0]==0:\n",
    "        res=[-99]*len(rsc)\n",
    "    else:\n",
    "        res=get_res(events[0],ts)\n",
    "    did_pd_list.append(pd.DataFrame.from_dict({'id':ids,\n",
    "                                                'time':ts,\n",
    "                                                'interv_time':events,\n",
    "                                                'period_difference':res,\n",
    "                                                'value':rs,\n",
    "                                                'value_c':rsc,\n",
    "                                                'is_interv':intervs,\n",
    "                                                'region':regions\n",
    "                                                }))\n",
    "did_pd=pd.concat(did_pd_list)"
   ]
  },
  {
   "cell_type": "code",
   "execution_count": 364,
   "metadata": {},
   "outputs": [
    {
     "name": "stdout",
     "output_type": "stream",
     "text": [
      "-8 0 0 0.0\n",
      "-7 0 0 0.0\n",
      "-6 0 0 0.0\n",
      "-5 0 0 0.0\n",
      "-4 0 0 0.0\n",
      "-3 0 0 0.0\n",
      "-2 0 0 0.0\n",
      "-1 0 0 0.0\n",
      "0 0 0 0.0\n",
      "1 0 0 0.0\n",
      "2 0 0 0.0\n",
      "3 0 0 0.0\n",
      "4 0 0 0.0\n",
      "5 0 0 0.0\n",
      "6 0 0 0.0\n",
      "7 0 0 0.0\n",
      "8 0 0 0.0\n"
     ]
    }
   ],
   "source": [
    "k=did_pd[did_pd['is_interv']==0]\n",
    "for i in range(-8,9):\n",
    "    a=len(k[k['period_difference']==i])\n",
    "    b=len(k[(k['period_difference']==i) & (k['value_c']==1)])\n",
    "    print(i,a,b,b/(a+0.00001)*100)"
   ]
  },
  {
   "cell_type": "code",
   "execution_count": 367,
   "metadata": {},
   "outputs": [],
   "source": [
    "k=did_pd['interv_time']\n",
    "did_pd['interv_time']=[i if i!='none' else 0 for i in k]\n",
    "did_pd.to_stata('/data4/liveuamap/S_did_mt_c3.dta')"
   ]
  },
  {
   "cell_type": "code",
   "execution_count": 368,
   "metadata": {},
   "outputs": [
    {
     "data": {
      "text/html": [
       "<div>\n",
       "<style scoped>\n",
       "    .dataframe tbody tr th:only-of-type {\n",
       "        vertical-align: middle;\n",
       "    }\n",
       "\n",
       "    .dataframe tbody tr th {\n",
       "        vertical-align: top;\n",
       "    }\n",
       "\n",
       "    .dataframe thead th {\n",
       "        text-align: right;\n",
       "    }\n",
       "</style>\n",
       "<table border=\"1\" class=\"dataframe\">\n",
       "  <thead>\n",
       "    <tr style=\"text-align: right;\">\n",
       "      <th></th>\n",
       "      <th>id</th>\n",
       "      <th>time</th>\n",
       "      <th>interv_time</th>\n",
       "      <th>period_difference</th>\n",
       "      <th>value</th>\n",
       "      <th>value_c</th>\n",
       "      <th>is_interv</th>\n",
       "      <th>region</th>\n",
       "    </tr>\n",
       "  </thead>\n",
       "  <tbody>\n",
       "    <tr>\n",
       "      <th>0</th>\n",
       "      <td>21199999</td>\n",
       "      <td>1.338394e+09</td>\n",
       "      <td>1419673200</td>\n",
       "      <td>-7</td>\n",
       "      <td>0.000038</td>\n",
       "      <td>0</td>\n",
       "      <td>1</td>\n",
       "      <td>0</td>\n",
       "    </tr>\n",
       "    <tr>\n",
       "      <th>1</th>\n",
       "      <td>21199999</td>\n",
       "      <td>1.338394e+09</td>\n",
       "      <td>1419673200</td>\n",
       "      <td>-6</td>\n",
       "      <td>0.000008</td>\n",
       "      <td>0</td>\n",
       "      <td>1</td>\n",
       "      <td>0</td>\n",
       "    </tr>\n",
       "    <tr>\n",
       "      <th>2</th>\n",
       "      <td>21199999</td>\n",
       "      <td>1.346170e+09</td>\n",
       "      <td>1419673200</td>\n",
       "      <td>-5</td>\n",
       "      <td>0.000120</td>\n",
       "      <td>0</td>\n",
       "      <td>1</td>\n",
       "      <td>0</td>\n",
       "    </tr>\n",
       "    <tr>\n",
       "      <th>3</th>\n",
       "      <td>21199999</td>\n",
       "      <td>1.362758e+09</td>\n",
       "      <td>1419673200</td>\n",
       "      <td>-4</td>\n",
       "      <td>0.000027</td>\n",
       "      <td>0</td>\n",
       "      <td>1</td>\n",
       "      <td>0</td>\n",
       "    </tr>\n",
       "    <tr>\n",
       "      <th>4</th>\n",
       "      <td>21199999</td>\n",
       "      <td>1.380125e+09</td>\n",
       "      <td>1419673200</td>\n",
       "      <td>-3</td>\n",
       "      <td>0.000067</td>\n",
       "      <td>0</td>\n",
       "      <td>1</td>\n",
       "      <td>0</td>\n",
       "    </tr>\n",
       "    <tr>\n",
       "      <th>...</th>\n",
       "      <td>...</td>\n",
       "      <td>...</td>\n",
       "      <td>...</td>\n",
       "      <td>...</td>\n",
       "      <td>...</td>\n",
       "      <td>...</td>\n",
       "      <td>...</td>\n",
       "      <td>...</td>\n",
       "    </tr>\n",
       "    <tr>\n",
       "      <th>11</th>\n",
       "      <td>-10516</td>\n",
       "      <td>1.464538e+09</td>\n",
       "      <td>0</td>\n",
       "      <td>-99</td>\n",
       "      <td>0.100289</td>\n",
       "      <td>0</td>\n",
       "      <td>0</td>\n",
       "      <td>5</td>\n",
       "    </tr>\n",
       "    <tr>\n",
       "      <th>12</th>\n",
       "      <td>-10516</td>\n",
       "      <td>1.473696e+09</td>\n",
       "      <td>0</td>\n",
       "      <td>-99</td>\n",
       "      <td>0.137296</td>\n",
       "      <td>0</td>\n",
       "      <td>0</td>\n",
       "      <td>5</td>\n",
       "    </tr>\n",
       "    <tr>\n",
       "      <th>13</th>\n",
       "      <td>-10516</td>\n",
       "      <td>1.476029e+09</td>\n",
       "      <td>0</td>\n",
       "      <td>-99</td>\n",
       "      <td>0.148432</td>\n",
       "      <td>0</td>\n",
       "      <td>0</td>\n",
       "      <td>5</td>\n",
       "    </tr>\n",
       "    <tr>\n",
       "      <th>14</th>\n",
       "      <td>-10516</td>\n",
       "      <td>1.487606e+09</td>\n",
       "      <td>0</td>\n",
       "      <td>-99</td>\n",
       "      <td>0.011471</td>\n",
       "      <td>0</td>\n",
       "      <td>0</td>\n",
       "      <td>5</td>\n",
       "    </tr>\n",
       "    <tr>\n",
       "      <th>15</th>\n",
       "      <td>-10516</td>\n",
       "      <td>1.501344e+09</td>\n",
       "      <td>0</td>\n",
       "      <td>-99</td>\n",
       "      <td>0.038489</td>\n",
       "      <td>0</td>\n",
       "      <td>0</td>\n",
       "      <td>5</td>\n",
       "    </tr>\n",
       "  </tbody>\n",
       "</table>\n",
       "<p>27741 rows × 8 columns</p>\n",
       "</div>"
      ],
      "text/plain": [
       "          id          time  interv_time  period_difference     value  value_c  \\\n",
       "0   21199999  1.338394e+09   1419673200                 -7  0.000038        0   \n",
       "1   21199999  1.338394e+09   1419673200                 -6  0.000008        0   \n",
       "2   21199999  1.346170e+09   1419673200                 -5  0.000120        0   \n",
       "3   21199999  1.362758e+09   1419673200                 -4  0.000027        0   \n",
       "4   21199999  1.380125e+09   1419673200                 -3  0.000067        0   \n",
       "..       ...           ...          ...                ...       ...      ...   \n",
       "11    -10516  1.464538e+09            0                -99  0.100289        0   \n",
       "12    -10516  1.473696e+09            0                -99  0.137296        0   \n",
       "13    -10516  1.476029e+09            0                -99  0.148432        0   \n",
       "14    -10516  1.487606e+09            0                -99  0.011471        0   \n",
       "15    -10516  1.501344e+09            0                -99  0.038489        0   \n",
       "\n",
       "    is_interv  region  \n",
       "0           1       0  \n",
       "1           1       0  \n",
       "2           1       0  \n",
       "3           1       0  \n",
       "4           1       0  \n",
       "..        ...     ...  \n",
       "11          0       5  \n",
       "12          0       5  \n",
       "13          0       5  \n",
       "14          0       5  \n",
       "15          0       5  \n",
       "\n",
       "[27741 rows x 8 columns]"
      ]
     },
     "execution_count": 368,
     "metadata": {},
     "output_type": "execute_result"
    }
   ],
   "source": [
    "did_pd"
   ]
  },
  {
   "cell_type": "code",
   "execution_count": 1,
   "metadata": {},
   "outputs": [],
   "source": []
  },
  {
   "cell_type": "code",
   "execution_count": 2,
   "metadata": {},
   "outputs": [
    {
     "data": {
      "text/html": [
       "<div>\n",
       "<style scoped>\n",
       "    .dataframe tbody tr th:only-of-type {\n",
       "        vertical-align: middle;\n",
       "    }\n",
       "\n",
       "    .dataframe tbody tr th {\n",
       "        vertical-align: top;\n",
       "    }\n",
       "\n",
       "    .dataframe thead th {\n",
       "        text-align: right;\n",
       "    }\n",
       "</style>\n",
       "<table border=\"1\" class=\"dataframe\">\n",
       "  <thead>\n",
       "    <tr style=\"text-align: right;\">\n",
       "      <th></th>\n",
       "      <th>index</th>\n",
       "      <th>id</th>\n",
       "      <th>time</th>\n",
       "      <th>interv_time</th>\n",
       "      <th>period_difference</th>\n",
       "      <th>value</th>\n",
       "      <th>value_c</th>\n",
       "      <th>is_interv</th>\n",
       "      <th>region</th>\n",
       "    </tr>\n",
       "  </thead>\n",
       "  <tbody>\n",
       "    <tr>\n",
       "      <th>0</th>\n",
       "      <td>0</td>\n",
       "      <td>21199999</td>\n",
       "      <td>1.338394e+09</td>\n",
       "      <td>1419673200</td>\n",
       "      <td>-7</td>\n",
       "      <td>0.000038</td>\n",
       "      <td>0</td>\n",
       "      <td>1</td>\n",
       "      <td>0</td>\n",
       "    </tr>\n",
       "    <tr>\n",
       "      <th>1</th>\n",
       "      <td>1</td>\n",
       "      <td>21199999</td>\n",
       "      <td>1.338394e+09</td>\n",
       "      <td>1419673200</td>\n",
       "      <td>-6</td>\n",
       "      <td>0.000008</td>\n",
       "      <td>0</td>\n",
       "      <td>1</td>\n",
       "      <td>0</td>\n",
       "    </tr>\n",
       "    <tr>\n",
       "      <th>2</th>\n",
       "      <td>2</td>\n",
       "      <td>21199999</td>\n",
       "      <td>1.346170e+09</td>\n",
       "      <td>1419673200</td>\n",
       "      <td>-5</td>\n",
       "      <td>0.000120</td>\n",
       "      <td>0</td>\n",
       "      <td>1</td>\n",
       "      <td>0</td>\n",
       "    </tr>\n",
       "    <tr>\n",
       "      <th>3</th>\n",
       "      <td>3</td>\n",
       "      <td>21199999</td>\n",
       "      <td>1.362758e+09</td>\n",
       "      <td>1419673200</td>\n",
       "      <td>-4</td>\n",
       "      <td>0.000027</td>\n",
       "      <td>0</td>\n",
       "      <td>1</td>\n",
       "      <td>0</td>\n",
       "    </tr>\n",
       "    <tr>\n",
       "      <th>4</th>\n",
       "      <td>4</td>\n",
       "      <td>21199999</td>\n",
       "      <td>1.380125e+09</td>\n",
       "      <td>1419673200</td>\n",
       "      <td>-3</td>\n",
       "      <td>0.000067</td>\n",
       "      <td>0</td>\n",
       "      <td>1</td>\n",
       "      <td>0</td>\n",
       "    </tr>\n",
       "    <tr>\n",
       "      <th>...</th>\n",
       "      <td>...</td>\n",
       "      <td>...</td>\n",
       "      <td>...</td>\n",
       "      <td>...</td>\n",
       "      <td>...</td>\n",
       "      <td>...</td>\n",
       "      <td>...</td>\n",
       "      <td>...</td>\n",
       "      <td>...</td>\n",
       "    </tr>\n",
       "    <tr>\n",
       "      <th>13870</th>\n",
       "      <td>8</td>\n",
       "      <td>21268711</td>\n",
       "      <td>1.402589e+09</td>\n",
       "      <td>1440507240</td>\n",
       "      <td>-3</td>\n",
       "      <td>0.059904</td>\n",
       "      <td>0</td>\n",
       "      <td>1</td>\n",
       "      <td>5</td>\n",
       "    </tr>\n",
       "    <tr>\n",
       "      <th>13871</th>\n",
       "      <td>9</td>\n",
       "      <td>21268711</td>\n",
       "      <td>1.407082e+09</td>\n",
       "      <td>1440507240</td>\n",
       "      <td>-2</td>\n",
       "      <td>0.022103</td>\n",
       "      <td>0</td>\n",
       "      <td>1</td>\n",
       "      <td>5</td>\n",
       "    </tr>\n",
       "    <tr>\n",
       "      <th>13872</th>\n",
       "      <td>10</td>\n",
       "      <td>21268711</td>\n",
       "      <td>1.410883e+09</td>\n",
       "      <td>1440507240</td>\n",
       "      <td>-1</td>\n",
       "      <td>0.007681</td>\n",
       "      <td>0</td>\n",
       "      <td>1</td>\n",
       "      <td>5</td>\n",
       "    </tr>\n",
       "    <tr>\n",
       "      <th>13873</th>\n",
       "      <td>11</td>\n",
       "      <td>21268711</td>\n",
       "      <td>1.463501e+09</td>\n",
       "      <td>1440507240</td>\n",
       "      <td>1</td>\n",
       "      <td>0.001225</td>\n",
       "      <td>0</td>\n",
       "      <td>1</td>\n",
       "      <td>5</td>\n",
       "    </tr>\n",
       "    <tr>\n",
       "      <th>13874</th>\n",
       "      <td>12</td>\n",
       "      <td>21268711</td>\n",
       "      <td>1.464538e+09</td>\n",
       "      <td>1440507240</td>\n",
       "      <td>2</td>\n",
       "      <td>0.000871</td>\n",
       "      <td>0</td>\n",
       "      <td>1</td>\n",
       "      <td>5</td>\n",
       "    </tr>\n",
       "  </tbody>\n",
       "</table>\n",
       "<p>13875 rows × 9 columns</p>\n",
       "</div>"
      ],
      "text/plain": [
       "       index        id          time  interv_time  period_difference  \\\n",
       "0          0  21199999  1.338394e+09   1419673200                 -7   \n",
       "1          1  21199999  1.338394e+09   1419673200                 -6   \n",
       "2          2  21199999  1.346170e+09   1419673200                 -5   \n",
       "3          3  21199999  1.362758e+09   1419673200                 -4   \n",
       "4          4  21199999  1.380125e+09   1419673200                 -3   \n",
       "...      ...       ...           ...          ...                ...   \n",
       "13870      8  21268711  1.402589e+09   1440507240                 -3   \n",
       "13871      9  21268711  1.407082e+09   1440507240                 -2   \n",
       "13872     10  21268711  1.410883e+09   1440507240                 -1   \n",
       "13873     11  21268711  1.463501e+09   1440507240                  1   \n",
       "13874     12  21268711  1.464538e+09   1440507240                  2   \n",
       "\n",
       "          value  value_c  is_interv  region  \n",
       "0      0.000038        0          1       0  \n",
       "1      0.000008        0          1       0  \n",
       "2      0.000120        0          1       0  \n",
       "3      0.000027        0          1       0  \n",
       "4      0.000067        0          1       0  \n",
       "...         ...      ...        ...     ...  \n",
       "13870  0.059904        0          1       5  \n",
       "13871  0.022103        0          1       5  \n",
       "13872  0.007681        0          1       5  \n",
       "13873  0.001225        0          1       5  \n",
       "13874  0.000871        0          1       5  \n",
       "\n",
       "[13875 rows x 9 columns]"
      ]
     },
     "execution_count": 2,
     "metadata": {},
     "output_type": "execute_result"
    }
   ],
   "source": []
  },
  {
   "cell_type": "markdown",
   "metadata": {},
   "source": [
    "# 全部负样本"
   ]
  },
  {
   "cell_type": "code",
   "execution_count": 1,
   "metadata": {},
   "outputs": [
    {
     "name": "stderr",
     "output_type": "stream",
     "text": [
      "100%|██████████| 79042/79042 [10:31<00:00, 125.21it/s]\n"
     ]
    },
    {
     "data": {
      "text/html": [
       "<div>\n",
       "<style scoped>\n",
       "    .dataframe tbody tr th:only-of-type {\n",
       "        vertical-align: middle;\n",
       "    }\n",
       "\n",
       "    .dataframe tbody tr th {\n",
       "        vertical-align: top;\n",
       "    }\n",
       "\n",
       "    .dataframe thead th {\n",
       "        text-align: right;\n",
       "    }\n",
       "</style>\n",
       "<table border=\"1\" class=\"dataframe\">\n",
       "  <thead>\n",
       "    <tr style=\"text-align: right;\">\n",
       "      <th></th>\n",
       "      <th>id</th>\n",
       "      <th>time</th>\n",
       "      <th>timestamp</th>\n",
       "      <th>type</th>\n",
       "      <th>name</th>\n",
       "      <th>is_use</th>\n",
       "      <th>region</th>\n",
       "      <th>lat</th>\n",
       "      <th>lon</th>\n",
       "      <th>patch_x</th>\n",
       "      <th>patch_y</th>\n",
       "      <th>geometry</th>\n",
       "      <th>interv</th>\n",
       "      <th>img_path</th>\n",
       "      <th>img_dates</th>\n",
       "    </tr>\n",
       "  </thead>\n",
       "  <tbody>\n",
       "    <tr>\n",
       "      <th>0</th>\n",
       "      <td>0</td>\n",
       "      <td>0</td>\n",
       "      <td>0</td>\n",
       "      <td>none</td>\n",
       "      <td>none</td>\n",
       "      <td>1</td>\n",
       "      <td>Homs</td>\n",
       "      <td>0</td>\n",
       "      <td>0</td>\n",
       "      <td>100</td>\n",
       "      <td>30</td>\n",
       "      <td>POINT (0.00000 0.00000)</td>\n",
       "      <td>0</td>\n",
       "      <td>/ssd/hk/Syria_samples/samples_enhance_v2/pre/H...</td>\n",
       "      <td>20120531&amp;20120531&amp;20120829&amp;20130309&amp;20130926&amp;2...</td>\n",
       "    </tr>\n",
       "    <tr>\n",
       "      <th>1</th>\n",
       "      <td>1</td>\n",
       "      <td>0</td>\n",
       "      <td>0</td>\n",
       "      <td>none</td>\n",
       "      <td>none</td>\n",
       "      <td>1</td>\n",
       "      <td>Homs</td>\n",
       "      <td>0</td>\n",
       "      <td>0</td>\n",
       "      <td>57</td>\n",
       "      <td>88</td>\n",
       "      <td>POINT (0.00000 0.00000)</td>\n",
       "      <td>0</td>\n",
       "      <td>/ssd/hk/Syria_samples/samples_enhance_v2/pre/H...</td>\n",
       "      <td>20120531&amp;20120531&amp;20120829&amp;20130309&amp;20130926&amp;2...</td>\n",
       "    </tr>\n",
       "    <tr>\n",
       "      <th>2</th>\n",
       "      <td>2</td>\n",
       "      <td>0</td>\n",
       "      <td>0</td>\n",
       "      <td>none</td>\n",
       "      <td>none</td>\n",
       "      <td>1</td>\n",
       "      <td>Homs</td>\n",
       "      <td>0</td>\n",
       "      <td>0</td>\n",
       "      <td>73</td>\n",
       "      <td>30</td>\n",
       "      <td>POINT (0.00000 0.00000)</td>\n",
       "      <td>0</td>\n",
       "      <td>/ssd/hk/Syria_samples/samples_enhance_v2/pre/H...</td>\n",
       "      <td>20120531&amp;20120531&amp;20120829&amp;20130309&amp;20130926&amp;2...</td>\n",
       "    </tr>\n",
       "    <tr>\n",
       "      <th>3</th>\n",
       "      <td>3</td>\n",
       "      <td>0</td>\n",
       "      <td>0</td>\n",
       "      <td>none</td>\n",
       "      <td>none</td>\n",
       "      <td>1</td>\n",
       "      <td>Homs</td>\n",
       "      <td>0</td>\n",
       "      <td>0</td>\n",
       "      <td>40</td>\n",
       "      <td>66</td>\n",
       "      <td>POINT (0.00000 0.00000)</td>\n",
       "      <td>0</td>\n",
       "      <td>/ssd/hk/Syria_samples/samples_enhance_v2/pre/H...</td>\n",
       "      <td>20120531&amp;20120531&amp;20120829&amp;20130309&amp;20130926&amp;2...</td>\n",
       "    </tr>\n",
       "    <tr>\n",
       "      <th>4</th>\n",
       "      <td>4</td>\n",
       "      <td>0</td>\n",
       "      <td>0</td>\n",
       "      <td>none</td>\n",
       "      <td>none</td>\n",
       "      <td>1</td>\n",
       "      <td>Homs</td>\n",
       "      <td>0</td>\n",
       "      <td>0</td>\n",
       "      <td>77</td>\n",
       "      <td>34</td>\n",
       "      <td>POINT (0.00000 0.00000)</td>\n",
       "      <td>0</td>\n",
       "      <td>/ssd/hk/Syria_samples/samples_enhance_v2/pre/H...</td>\n",
       "      <td>20120531&amp;20120531&amp;20120829&amp;20130309&amp;20130926&amp;2...</td>\n",
       "    </tr>\n",
       "    <tr>\n",
       "      <th>...</th>\n",
       "      <td>...</td>\n",
       "      <td>...</td>\n",
       "      <td>...</td>\n",
       "      <td>...</td>\n",
       "      <td>...</td>\n",
       "      <td>...</td>\n",
       "      <td>...</td>\n",
       "      <td>...</td>\n",
       "      <td>...</td>\n",
       "      <td>...</td>\n",
       "      <td>...</td>\n",
       "      <td>...</td>\n",
       "      <td>...</td>\n",
       "      <td>...</td>\n",
       "      <td>...</td>\n",
       "    </tr>\n",
       "    <tr>\n",
       "      <th>79037</th>\n",
       "      <td>79037</td>\n",
       "      <td>0</td>\n",
       "      <td>0</td>\n",
       "      <td>none</td>\n",
       "      <td>none</td>\n",
       "      <td>1</td>\n",
       "      <td>Hama</td>\n",
       "      <td>0</td>\n",
       "      <td>0</td>\n",
       "      <td>19</td>\n",
       "      <td>26</td>\n",
       "      <td>POINT (0.00000 0.00000)</td>\n",
       "      <td>0</td>\n",
       "      <td>/ssd/hk/Syria_samples/samples_enhance_v2/pre/H...</td>\n",
       "      <td>20120921&amp;20120921&amp;20130309&amp;20130827&amp;20130926&amp;2...</td>\n",
       "    </tr>\n",
       "    <tr>\n",
       "      <th>79038</th>\n",
       "      <td>79038</td>\n",
       "      <td>0</td>\n",
       "      <td>0</td>\n",
       "      <td>none</td>\n",
       "      <td>none</td>\n",
       "      <td>1</td>\n",
       "      <td>Hama</td>\n",
       "      <td>0</td>\n",
       "      <td>0</td>\n",
       "      <td>63</td>\n",
       "      <td>89</td>\n",
       "      <td>POINT (0.00000 0.00000)</td>\n",
       "      <td>0</td>\n",
       "      <td>/ssd/hk/Syria_samples/samples_enhance_v2/pre/H...</td>\n",
       "      <td>20120921&amp;20120921&amp;20130309&amp;20130827&amp;20130926&amp;2...</td>\n",
       "    </tr>\n",
       "    <tr>\n",
       "      <th>79039</th>\n",
       "      <td>79039</td>\n",
       "      <td>0</td>\n",
       "      <td>0</td>\n",
       "      <td>none</td>\n",
       "      <td>none</td>\n",
       "      <td>1</td>\n",
       "      <td>Hama</td>\n",
       "      <td>0</td>\n",
       "      <td>0</td>\n",
       "      <td>47</td>\n",
       "      <td>112</td>\n",
       "      <td>POINT (0.00000 0.00000)</td>\n",
       "      <td>0</td>\n",
       "      <td>/ssd/hk/Syria_samples/samples_enhance_v2/pre/H...</td>\n",
       "      <td>20120921&amp;20120921&amp;20130309&amp;20130827&amp;20130926&amp;2...</td>\n",
       "    </tr>\n",
       "    <tr>\n",
       "      <th>79040</th>\n",
       "      <td>79040</td>\n",
       "      <td>0</td>\n",
       "      <td>0</td>\n",
       "      <td>none</td>\n",
       "      <td>none</td>\n",
       "      <td>1</td>\n",
       "      <td>Hama</td>\n",
       "      <td>0</td>\n",
       "      <td>0</td>\n",
       "      <td>50</td>\n",
       "      <td>136</td>\n",
       "      <td>POINT (0.00000 0.00000)</td>\n",
       "      <td>0</td>\n",
       "      <td>/ssd/hk/Syria_samples/samples_enhance_v2/pre/H...</td>\n",
       "      <td>20120921&amp;20120921&amp;20130309&amp;20130827&amp;20130926&amp;2...</td>\n",
       "    </tr>\n",
       "    <tr>\n",
       "      <th>79041</th>\n",
       "      <td>79041</td>\n",
       "      <td>0</td>\n",
       "      <td>0</td>\n",
       "      <td>none</td>\n",
       "      <td>none</td>\n",
       "      <td>1</td>\n",
       "      <td>Hama</td>\n",
       "      <td>0</td>\n",
       "      <td>0</td>\n",
       "      <td>32</td>\n",
       "      <td>78</td>\n",
       "      <td>POINT (0.00000 0.00000)</td>\n",
       "      <td>0</td>\n",
       "      <td>/ssd/hk/Syria_samples/samples_enhance_v2/pre/H...</td>\n",
       "      <td>20120921&amp;20120921&amp;20130309&amp;20130827&amp;20130926&amp;2...</td>\n",
       "    </tr>\n",
       "  </tbody>\n",
       "</table>\n",
       "<p>79042 rows × 15 columns</p>\n",
       "</div>"
      ],
      "text/plain": [
       "          id  time  timestamp  type  name  is_use region  lat  lon  patch_x  \\\n",
       "0          0     0          0  none  none       1   Homs    0    0      100   \n",
       "1          1     0          0  none  none       1   Homs    0    0       57   \n",
       "2          2     0          0  none  none       1   Homs    0    0       73   \n",
       "3          3     0          0  none  none       1   Homs    0    0       40   \n",
       "4          4     0          0  none  none       1   Homs    0    0       77   \n",
       "...      ...   ...        ...   ...   ...     ...    ...  ...  ...      ...   \n",
       "79037  79037     0          0  none  none       1   Hama    0    0       19   \n",
       "79038  79038     0          0  none  none       1   Hama    0    0       63   \n",
       "79039  79039     0          0  none  none       1   Hama    0    0       47   \n",
       "79040  79040     0          0  none  none       1   Hama    0    0       50   \n",
       "79041  79041     0          0  none  none       1   Hama    0    0       32   \n",
       "\n",
       "       patch_y                 geometry  interv  \\\n",
       "0           30  POINT (0.00000 0.00000)       0   \n",
       "1           88  POINT (0.00000 0.00000)       0   \n",
       "2           30  POINT (0.00000 0.00000)       0   \n",
       "3           66  POINT (0.00000 0.00000)       0   \n",
       "4           34  POINT (0.00000 0.00000)       0   \n",
       "...        ...                      ...     ...   \n",
       "79037       26  POINT (0.00000 0.00000)       0   \n",
       "79038       89  POINT (0.00000 0.00000)       0   \n",
       "79039      112  POINT (0.00000 0.00000)       0   \n",
       "79040      136  POINT (0.00000 0.00000)       0   \n",
       "79041       78  POINT (0.00000 0.00000)       0   \n",
       "\n",
       "                                                img_path  \\\n",
       "0      /ssd/hk/Syria_samples/samples_enhance_v2/pre/H...   \n",
       "1      /ssd/hk/Syria_samples/samples_enhance_v2/pre/H...   \n",
       "2      /ssd/hk/Syria_samples/samples_enhance_v2/pre/H...   \n",
       "3      /ssd/hk/Syria_samples/samples_enhance_v2/pre/H...   \n",
       "4      /ssd/hk/Syria_samples/samples_enhance_v2/pre/H...   \n",
       "...                                                  ...   \n",
       "79037  /ssd/hk/Syria_samples/samples_enhance_v2/pre/H...   \n",
       "79038  /ssd/hk/Syria_samples/samples_enhance_v2/pre/H...   \n",
       "79039  /ssd/hk/Syria_samples/samples_enhance_v2/pre/H...   \n",
       "79040  /ssd/hk/Syria_samples/samples_enhance_v2/pre/H...   \n",
       "79041  /ssd/hk/Syria_samples/samples_enhance_v2/pre/H...   \n",
       "\n",
       "                                               img_dates  \n",
       "0      20120531&20120531&20120829&20130309&20130926&2...  \n",
       "1      20120531&20120531&20120829&20130309&20130926&2...  \n",
       "2      20120531&20120531&20120829&20130309&20130926&2...  \n",
       "3      20120531&20120531&20120829&20130309&20130926&2...  \n",
       "4      20120531&20120531&20120829&20130309&20130926&2...  \n",
       "...                                                  ...  \n",
       "79037  20120921&20120921&20130309&20130827&20130926&2...  \n",
       "79038  20120921&20120921&20130309&20130827&20130926&2...  \n",
       "79039  20120921&20120921&20130309&20130827&20130926&2...  \n",
       "79040  20120921&20120921&20130309&20130827&20130926&2...  \n",
       "79041  20120921&20120921&20130309&20130827&20130926&2...  \n",
       "\n",
       "[79042 rows x 15 columns]"
      ]
     },
     "execution_count": 1,
     "metadata": {},
     "output_type": "execute_result"
    }
   ],
   "source": [
    "import torch\n",
    "from glob import glob\n",
    "from tqdm import tqdm\n",
    "cities=['Homs', 'Idlib', 'Raqqa', 'Aleppo', 'Deir-ez-Zor', 'Hama']\n",
    "pathes={'Homs':['/data4/Syria_img/Homs_A_20100629_treated.tif',\n",
    " '/data4/Syria_img/Homs_enhance-A-B-1_20120531_treated.tif',\n",
    " '/data4/Syria_img/Homs_enhance-A-B-2_20120829_treated.tif',\n",
    " '/data4/Syria_img/Homs_enhance-A-B-3_20130309_treated.tif',\n",
    " '/data4/Syria_img/Homs_B_20130926_treated.tif',\n",
    " '/data4/Syria_img/Homs_enhance-B-C-1_20131031_treated.tif',\n",
    " '/data4/Syria_img/Homs_enhance-B-C-2_20140403_treated.tif',\n",
    " '/data4/Syria_img/Homs_C_20140421_treated.tif',\n",
    " '/data4/Syria_img/Homs_enhance-C-Z-1_20140609_treated.tif',\n",
    " '/data4/Syria_img/Homs_enhance-C-Z-2_20160530_treated.tif',\n",
    " '/data4/Syria_img/Homs_enhance-C-Z-3_20160601_treated.tif',\n",
    " '/data4/Syria_img/Homs_rebuilding-1_20200508_treated.tif',\n",
    " '/data4/Syria_img/Homs_rebuilding-2_20201228_treated.tif',\n",
    " '/data4/Syria_img/Homs_rebuilding-3_20210629_treated.tif'],\n",
    " 'Idlib':['/data4/Syria_img/Idlib_A_20100322_treated.tif',\n",
    " '/data4/Syria_img/Idlib_enhance-A-B-1_20120927_treated.tif',\n",
    " '/data4/Syria_img/Idlib_enhance-A-B-2_20121003_treated.tif',\n",
    " '/data4/Syria_img/Idlib_enhance-A-B-3_20130824_treated.tif',\n",
    " '/data4/Syria_img/Idlib_B_20130915_treated.tif',\n",
    " '/data4/Syria_img/Idlib_enhance-B-C-1_20140207_treated.tif',\n",
    " '/data4/Syria_img/Idlib_C_20140502_treated.tif',\n",
    " '/data4/Syria_img/Idlib_enhance-C-D-1_20140531_treated.tif',\n",
    " '/data4/Syria_img/Idlib_enhance-C-D-2_20140924_treated.tif',\n",
    " '/data4/Syria_img/Idlib_D_20150406_treated.tif',\n",
    " '/data4/Syria_img/Idlib_enhance-D-E-1_20150417_treated.tif',\n",
    " '/data4/Syria_img/Idlib_enhance-D-E-3_20160601_treated.tif',\n",
    " '/data4/Syria_img/Idlib_E_20160801_treated.tif',\n",
    " '/data4/Syria_img/Idlib_enhance-E-Z-1_20161001_treated.tif',\n",
    " '/data4/Syria_img/Idlib_enhance-E-Z-2_20170221_treated.tif',\n",
    " '/data4/Syria_img/Idlib_enhance-E-Z-3_20170717_treated.tif',\n",
    " '/data4/Syria_img/Idlib_rebuilding-1_20201023_treated.tif',\n",
    " '/data4/Syria_img/Idlib_rebuilding-2_20201227_treated.tif',\n",
    " '/data4/Syria_img/Idlib_rebuilding-3_20210819_treated.tif'],\n",
    " 'Raqqa':['/data4/Syria_img/Raqqa_A_20100703_treated.tif',\n",
    " '/data4/Syria_img/Raqqa_enhance-A-B-1_20120928_treated.tif',\n",
    " '/data4/Syria_img/Raqqa_enhance-A-B-2_20121010_treated.tif',\n",
    " '/data4/Syria_img/Raqqa_enhance-A-B-3_20130117_treated.tif',\n",
    " '/data4/Syria_img/Raqqa_enhance-A-B-4_20130213_treated.tif',\n",
    " '/data4/Syria_img/Raqqa_C_20140212_treated.tif',\n",
    " '/data4/Syria_img/Raqqa_enhance-C-D-1_20140321_treated.tif',\n",
    " '/data4/Syria_img/Raqqa_enhance-C-D-2_20141006_treated.tif',\n",
    " '/data4/Syria_img/Raqqa_enhance-C-D-3_20150202_treated.tif',\n",
    " '/data4/Syria_img/Raqqa_D_20150529_treated.tif',\n",
    " '/data4/Syria_img/Raqqa_enhance-D-Z-1_20160220_treated.tif',\n",
    " '/data4/Syria_img/Raqqa_enhance-D-Z-2_20160613_treated.tif',\n",
    " '/data4/Syria_img/Raqqa_enhance-D-Z-3_20160916_treated.tif',\n",
    " '/data4/Syria_img/Raqqa_enhance-D-Z-4_20170701_treated.tif',\n",
    "  '/data4/Syria_img/Raqqa_rebuilding-1_20200703_treated.tif'],\n",
    " 'Aleppo':['/data4/Syria_img/Aleppo_A_20100704_treated.tif',\n",
    " '/data4/Syria_img/Aleppo_enhance-A-B-1_20121230_treated.tif',\n",
    " '/data4/Syria_img/Aleppo_enhance-A-B-2_20130226_treated.tif',\n",
    " '/data4/Syria_img/Aleppo_enhance-A-B-3_20130526_treated.tif',\n",
    " '/data4/Syria_img/Aleppo_B_20130923_treated.tif',\n",
    " '/data4/Syria_img/Aleppo_enhance-B-C-1_20131031_treated.tif',\n",
    " '/data4/Syria_img/Aleppo_enhance-B-C-2_20140131_treated.tif',\n",
    " '/data4/Syria_img/Aleppo_enhance-B-C-3_20140426_treated.tif',\n",
    " '/data4/Syria_img/Aleppo_C_20140523_treated.tif',\n",
    " '/data4/Syria_img/Aleppo_enhance-C-D-1_20140714_treated.tif',\n",
    " '/data4/Syria_img/Aleppo_enhance-C-D-2_20140918_treated.tif',\n",
    " '/data4/Syria_img/Aleppo_enhance-C-D-3_20141215_treated.tif',\n",
    " '/data4/Syria_img/Aleppo_D_20150426_treated.tif',\n",
    " '/data4/Syria_img/Aleppo_enhance-D-E-1_20151122_treated.tif',\n",
    " '/data4/Syria_img/Aleppo_enhance-D-E-2_20160425_treated.tif',\n",
    " '/data4/Syria_img/Aleppo_enhance-D-E-3_20160803_treated.tif',\n",
    " '/data4/Syria_img/Aleppo_E_20150918_treated.tif',\n",
    " '/data4/Syria_img/Aleppo_enhance-E-Z-1_20160925_treated.tif',\n",
    " '/data4/Syria_img/Aleppo_enhance-E-Z-2_20161001_treated.tif',\n",
    " '/data4/Syria_img/Aleppo_enhance-E-Z-3_20161010_treated.tif',\n",
    "  '/data4/Syria_img/Aleppo_rebuilding-1_20210110_treated.tif',\n",
    " '/data4/Syria_img/Aleppo_rebuilding-2_20210327_treated.tif',\n",
    " '/data4/Syria_img/Aleppo_rebuilding-3_20210730_treated.tif'],\n",
    " 'Deir-ez-Zor': ['/data4/Syria_img/Deir-ez-Zor_A_20090327_treated.tif',\n",
    " '/data4/Syria_img/Deir-ez-Zor_enhance-A-B-1_20121205_treated.tif',\n",
    " '/data4/Syria_img/Deir-ez-Zor_enhance-A-B-2_20130213_treated.tif',\n",
    " '/data4/Syria_img/Deir-ez-Zor_enhance-A-B-3_20130223_treated.tif',\n",
    " '/data4/Syria_img/Deir-ez-Zor_B_20131024_treated.tif',\n",
    " '/data4/Syria_img/Deir-ez-Zor_C_20140513_treated.tif',\n",
    " '/data4/Syria_img/Deir-ez-Zor_enhance-C-D-1_20140916_treated.tif',\n",
    " '/data4/Syria_img/Deir-ez-Zor_enhance-C-D-2_20141015_treated.tif',\n",
    " '/data4/Syria_img/Deir-ez-Zor_enhance-C-D-3_20141125_treated.tif',\n",
    " '/data4/Syria_img/Deir-ez-Zor_D_20150510_treated.tif',\n",
    " '/data4/Syria_img/Deir-ez-Zor_enhance-D-E-1_20160417_treated.tif',\n",
    " '/data4/Syria_img/Deir-ez-Zor_E_20160525_treated.tif',\n",
    " '/data4/Syria_img/Deir-ez-Zor_enhance-E-Z-1_20160706_treated.tif',\n",
    " '/data4/Syria_img/Deir-ez-Zor_enhance-E-Z-2_20160813_treated.tif',\n",
    " '/data4/Syria_img/Deir-ez-Zor_enhance-E-Z-3_20160913_treated.tif',\n",
    "  '/data4/Syria_img/Deir-ez-Zor_rebuilding-1_20210717_treated.tif',\n",
    " '/data4/Syria_img/Deir-ez-Zor_rebuilding-2_20210818_treated.tif',\n",
    " '/data4/Syria_img/Deir-ez-Zor_rebuilding-3_20210829_treated.tif'],\n",
    " 'Hama':['/data4/Syria_img/Hama_A_20090607_treated.tif',\n",
    " '/data4/Syria_img/Hama_enhance-A-B-1_20120921_treated.tif',\n",
    " '/data4/Syria_img/Hama_enhance-A-B-2_20130309_treated.tif',\n",
    " '/data4/Syria_img/Hama_enhance-A-B-3_20130827_treated.tif',\n",
    " '/data4/Syria_img/Hama_B_20130926_treated.tif',\n",
    " '/data4/Syria_img/Hama_enhance-B-C-1_20131031_treated.tif',\n",
    " '/data4/Syria_img/Hama_C_20140305_treated.tif',\n",
    " '/data4/Syria_img/Hama_enhance-C-D-1_20140526_treated.tif',\n",
    " '/data4/Syria_img/Hama_enhance-C-D-2_20140613_treated.tif',\n",
    " '/data4/Syria_img/Hama_enhance-C-D-3_20140804_treated.tif',\n",
    " '/data4/Syria_img/Hama_enhance-C-D-4_20140917_treated.tif',\n",
    " '/data4/Syria_img/Hama_enhance-C-D-5_20160518_treated.tif',\n",
    " '/data4/Syria_img/Hama_enhance-C-D-6_20160530_treated.tif',\n",
    " '/data4/Syria_img/Hama_enhance-D-Z-1_20160913_treated.tif',\n",
    " '/data4/Syria_img/Hama_enhance-D-Z-2_20161010_treated.tif',\n",
    " '/data4/Syria_img/Hama_enhance-D-Z-3_20170221_treated.tif',\n",
    " '/data4/Syria_img/Hama_enhance-D-Z-4_20170730_treated.tif',\n",
    "  '/data4/Syria_img/Hama_rebuilding-1_20200626_treated.tif',\n",
    " '/data4/Syria_img/Hama_rebuilding-2_20200819_treated.tif',\n",
    " '/data4/Syria_img/Hama_rebuilding-3_20210812_treated.tif']}\n",
    "\n",
    "\n",
    "s_all=torch.load(f'/ssd/hk/Syria_samples/split_havedamaged_size120_all_v3/train.pth')+torch.load(f'/ssd/hk/Syria_samples/split_havedamaged_size120_all_v3/val.pth')\n",
    "use_patch_dict={}\n",
    "for city in cities:\n",
    "    use_patch_dict[city]={}\n",
    "for i in range(len(s_all)):\n",
    "    \n",
    "    id=os.path.basename(s_all[i][0][0]).split('_')[2][:6]\n",
    "    city=os.path.basename(s_all[i][0][0]).split('_')[0]\n",
    "\n",
    "    use_patch_dict[city][id]=s_all[i]\n",
    "import geopandas as gpd\n",
    "all_liveuamap2=gpd.read_file('/data4/liveuamap/S_did_mt_c2.shp')\n",
    "liveuamap_point=all_liveuamap2[all_liveuamap2['interv']==1]\n",
    "for city in cities:\n",
    "    k=liveuamap_point[liveuamap_point['region']==city]\n",
    "    c_key=[str(k.iloc[i]['patch_y']).zfill(3)+str(k.iloc[i]['patch_x']).zfill(3) for i in range(len(k))]\n",
    "    for i in c_key:\n",
    "        try:\n",
    "            del use_patch_dict[city][i]\n",
    "        except:\n",
    "            pass\n",
    "import random\n",
    "pathes=[]\n",
    "kk=[]\n",
    "cc=[]\n",
    "for city in cities:\n",
    "    k=liveuamap_point[liveuamap_point['region']==city]\n",
    "    keys=list(use_patch_dict[city].keys())\n",
    "    random.shuffle(keys)\n",
    "    keys_use=keys\n",
    "    kk+=keys_use\n",
    "    cc+=[city]*len(keys_use)\n",
    "    for i in keys_use:\n",
    "        pathes.append([i for i in use_patch_dict[city][i][0] if i is not None])\n",
    "x=[int(i[3:]) for i in kk]\n",
    "y=[int(i[:3]) for i in kk]\n",
    "ts=[]\n",
    "for i in tqdm(pathes):\n",
    "    c=os.path.basename(i[0]).split('_')[0]\n",
    "    tt=[]\n",
    "    for j in i:\n",
    "        k=os.path.basename(j).split('_')[1]\n",
    "        t_p=glob(f'/data4/Syria_img/{c}_{k}*_treated.tif')[0]\n",
    "        t=os.path.basename(t_p).split('_')[2]\n",
    "        tt.append(t)\n",
    "    ts.append(tt)\n",
    "from shapely.geometry import Point\n",
    "gpeo=[Point([0,0])]*len(pathes)\n",
    "\n",
    "def to_str(l):\n",
    "    ll=[]\n",
    "    for i in l:\n",
    "        ii=list(i)\n",
    "        k=''\n",
    "        for j in ii:\n",
    "            k+='&'\n",
    "            k+=str(j)\n",
    "        ll.append(k[1:])\n",
    "    return ll\n",
    "nointervention_pd2=gpd.GeoDataFrame.from_dict({'id':list(range(len(pathes))),\n",
    "'time':[0]*len(pathes),\n",
    "'timestamp':[0]*len(pathes),\n",
    "'type':['none']*len(pathes),\n",
    "'name':['none']*len(pathes),\n",
    "'is_use':[1]*len(pathes),\n",
    "'region':cc,\n",
    "'lat':[0]*len(pathes),\n",
    "'lon':[0]*len(pathes),\n",
    "'patch_x':x,\n",
    "'patch_y':y,\n",
    "'geometry':gpeo,\n",
    "'interv':[0]*len(pathes),\n",
    "'img_path':to_str(pathes),\n",
    "'img_dates':to_str(ts)\n",
    "})\n",
    "nointervention_pd2"
   ]
  },
  {
   "cell_type": "code",
   "execution_count": 100,
   "metadata": {},
   "outputs": [
    {
     "name": "stderr",
     "output_type": "stream",
     "text": [
      "100%|██████████| 79042/79042 [39:50<00:00, 33.06it/s]\n"
     ]
    }
   ],
   "source": [
    "import sys\n",
    "import imageio\n",
    "import matplotlib.pyplot as plt\n",
    "import torch\n",
    "import numpy as np\n",
    "from torch import nn\n",
    "sys.path.append('..')\n",
    "from model import mynet6size120mtc1v7\n",
    "from model import mynet6size120\n",
    "from model import resnet50\n",
    "# model=mynet6size120mtc1v7.mynet6size120mtc1v7()\n",
    "from collections import OrderedDict\n",
    "def cat(img_pre,img_post):\n",
    "    data=np.concatenate((img_pre,img_post),axis=0)\n",
    "    data=torch.Tensor(data)\n",
    "    return data\n",
    "def get_pre_result(path_post1,model):\n",
    "    path_post=path_post1.copy()\n",
    "    # model.eval()\n",
    "    labels_v=[1]*len(path_post)\n",
    "    zeros_img_len=17-len(path_post)\n",
    "    path_post+=[None]*zeros_img_len\n",
    "    labels_v+=[-1]*zeros_img_len\n",
    "    path_pre=path_post[0]\n",
    "    path_post=path_post[1:]\n",
    "    img_pre=imageio.imread(path_pre).transpose(2,0,1)\n",
    "    imgs=[cat(img_pre,imageio.imread(post).transpose(2,0,1)) if post is not None else np.zeros((6,120,120)) for post in path_post]\n",
    "    data=np.concatenate(imgs,axis=0)\n",
    "    labels_v=torch.tensor(labels_v)\n",
    "    input=[data,labels_v]\n",
    "    input[0]=torch.Tensor(input[0])\n",
    "    output=model(torch.Tensor(input[0]).unsqueeze(0).cuda())\n",
    "    # print('feature1 shape:',feature1.shape)\n",
    "    # print('feature2 shape:',feature2.shape)\n",
    "    ll=input[1].cpu().numpy()\n",
    "    pp=torch.argmax(output,dim=2)[0].cpu().numpy()\n",
    "    pre_result=torch.argmax(output,dim=2)[0].cpu().numpy()[:16-zeros_img_len]\n",
    "    softmax_0 = nn.Softmax(dim=1)\n",
    "    output_softmax=softmax_0(output[0])[:,1].cpu().detach().numpy()[:16-zeros_img_len]\n",
    "    return pre_result,output_softmax\n",
    "w=torch.load('/home/hk/python_script/Ukraine/checkpoints/试一试_mynet6size120mtc1v7_Syria_size120_allcitiesall_effectweight_v3_multi-time_RandomDelandCopyv2_6/best_ckpt.pt')['model_state_dict']\n",
    "w2={}\n",
    "for k in w.keys():\n",
    "\n",
    "    k2=k.replace('module.','')\n",
    "    w2[k2]=w[k]\n",
    "w2=OrderedDict(w2)\n",
    "model=mynet6size120mtc1v7.mynet6size120mtc1v7()\n",
    "model.load_state_dict(w2)\n",
    "model=model.cuda()\n",
    "pre_results=[]\n",
    "pre_results_softmax=[]\n",
    "for i in tqdm(range(len(nointervention_pd2))):\n",
    "    path_post=nointervention_pd2.iloc[i]['img_path'].split('&')\n",
    "    out,out_sm=get_pre_result(path_post,model)\n",
    "    pre_results.append(out)\n",
    "    pre_results_softmax.append(out_sm)\n",
    "nointervention_pd2['MTCF-PtNet']=to_str(pre_results)\n",
    "nointervention_pd2['MTCF-sm']=to_str(pre_results_softmax)"
   ]
  },
  {
   "cell_type": "code",
   "execution_count": 171,
   "metadata": {},
   "outputs": [],
   "source": [
    "s_all=torch.load(f'/ssd/hk/Syria_samples/split_havedamaged_size120_all_v3/train.pth')+torch.load(f'/ssd/hk/Syria_samples/split_havedamaged_size120_all_v3/val.pth')\n",
    "use_patch_dict={}\n",
    "for city in cities:\n",
    "    use_patch_dict[city]={}\n",
    "for i in range(len(s_all)):\n",
    "    \n",
    "    id=os.path.basename(s_all[i][0][0]).split('_')[2][:6]\n",
    "    city=os.path.basename(s_all[i][0][0]).split('_')[0]\n",
    "\n",
    "    use_patch_dict[city][id]=s_all[i]\n",
    "liveuamap_point2=all_liveuamap2[all_liveuamap2['interv']==1]\n",
    "x=list(liveuamap_point2['patch_x'])\n",
    "y=list(liveuamap_point2['patch_y'])\n",
    "c_key=[str(y[i]).zfill(3)+str(x[i]).zfill(3) for i in range(len(x))]\n",
    "region=list(liveuamap_point2['region'])\n",
    "pp=[]\n",
    "for i in range(len(x)):\n",
    "    p=use_patch_dict[region[i]][c_key[i]][0]\n",
    "    pp.append([i for i in p if i is not None])\n",
    "liveuamap_point2['img_path']=to_str(pp)"
   ]
  },
  {
   "cell_type": "code",
   "execution_count": 195,
   "metadata": {},
   "outputs": [
    {
     "name": "stderr",
     "output_type": "stream",
     "text": [
      "100%|██████████| 940/940 [00:27<00:00, 34.39it/s]\n",
      "/home/hk/miniconda3/envs/pythonhzy/lib/python3.7/site-packages/geopandas/geodataframe.py:1322: SettingWithCopyWarning: \n",
      "A value is trying to be set on a copy of a slice from a DataFrame.\n",
      "Try using .loc[row_indexer,col_indexer] = value instead\n",
      "\n",
      "See the caveats in the documentation: https://pandas.pydata.org/pandas-docs/stable/user_guide/indexing.html#returning-a-view-versus-a-copy\n",
      "  super(GeoDataFrame, self).__setitem__(key, value)\n"
     ]
    }
   ],
   "source": [
    "pre_results=[]\n",
    "pre_results_softmax=[]\n",
    "for i in tqdm(range(len(liveuamap_point2))):\n",
    "    path_post=liveuamap_point2.iloc[i]['img_path'].split('&')\n",
    "    out,out_sm=get_pre_result(path_post,model)\n",
    "    pre_results.append(out)\n",
    "    pre_results_softmax.append(out_sm)\n",
    "liveuamap_point2['MTCF-PtNet']=to_str(pre_results)\n",
    "liveuamap_point2['MTCF-sm']=to_str(pre_results_softmax)"
   ]
  },
  {
   "cell_type": "code",
   "execution_count": 196,
   "metadata": {},
   "outputs": [],
   "source": [
    "nointervention_pd2['id']=list(np.array(range(len(nointervention_pd2)))*(-1))\n",
    "import pandas as pd\n",
    "all_liveuamap3=pd.concat([liveuamap_point2,nointervention_pd2],axis=0)\n",
    "all_liveuamap3.to_file('/data4/liveuamap/S_did_mt_c3.shp')"
   ]
  },
  {
   "cell_type": "code",
   "execution_count": 197,
   "metadata": {},
   "outputs": [
    {
     "name": "stderr",
     "output_type": "stream",
     "text": [
      "100%|██████████| 79982/79982 [01:05<00:00, 1223.93it/s]\n"
     ]
    }
   ],
   "source": [
    "import time\n",
    "def to_timestamp(t):\n",
    "    if not len(t)==8:\n",
    "        raise('time length error')\n",
    "    t=f'{t[:4]}-{t[4:6]}-{t[6:]}'\n",
    "    struct_time=time.strptime(t,'%Y-%m-%d')\n",
    "    return time.mktime(struct_time)\n",
    "def get_res(event,ts):\n",
    "    for i in range(len(ts)):\n",
    "        if ts[i]>event:\n",
    "            break\n",
    "    return [i*(-1) for i in list(range(1,len(ts[:i])+1)[::-1])]+list(range(1,len(ts[i:])+1))\n",
    "did_pd_list=[]\n",
    "for i in tqdm(range(len(all_liveuamap3))):\n",
    "    s=all_liveuamap3.iloc[i]\n",
    "    rs=[np.float(i) for i in s['MTCF-sm'].split('&')]\n",
    "    rsc=[np.int(i) for i in s['MTCF-PtNet'].split('&')]\n",
    "    regions=[cities.index(s['region'])]*len(rsc)\n",
    "    events=[s['timestamp']]*len(rsc)\n",
    "    ids=[s['id']]*len(rsc)\n",
    "    intervs=[s['interv']]*len(rsc)\n",
    "\n",
    "    ts=[to_timestamp(i) for i in s['img_dates'].split('&')]\n",
    "    # if intervs[0]==0:\n",
    "    #     res=[-99]*len(rsc)\n",
    "    # else:\n",
    "    #     res=get_res(events[0],ts)\n",
    "    did_pd_list.append(pd.DataFrame.from_dict({'id':ids,\n",
    "                                                'time':ts,\n",
    "                                                'interv_time':events,\n",
    "                                                # 'period_difference':res,\n",
    "                                                'value':rs,\n",
    "                                                'value_c':rsc,\n",
    "                                                'is_interv':intervs,\n",
    "                                                'region':regions\n",
    "                                                }))\n",
    "did_pd=pd.concat(did_pd_list)"
   ]
  },
  {
   "cell_type": "code",
   "execution_count": 198,
   "metadata": {},
   "outputs": [],
   "source": [
    "did_pd.to_csv('/data4/liveuamap/S_did_mt_c3.csv')"
   ]
  },
  {
   "cell_type": "code",
   "execution_count": 325,
   "metadata": {},
   "outputs": [],
   "source": [
    "did_pd=pd.read_csv('/data4/liveuamap/S_did_mt_c3.csv')"
   ]
  },
  {
   "cell_type": "code",
   "execution_count": null,
   "metadata": {},
   "outputs": [],
   "source": []
  },
  {
   "cell_type": "code",
   "execution_count": 326,
   "metadata": {},
   "outputs": [
    {
     "name": "stdout",
     "output_type": "stream",
     "text": [
      "1\n",
      "2\n",
      "3\n"
     ]
    }
   ],
   "source": [
    "did_pd['time_period']=[int(int(i)/7776000)-172 for i in list(did_pd['time'])]\n",
    "print(1)\n",
    "did_pd['interv_time_period']=[int(int(i)/7776000)-172 for i in list(did_pd['interv_time'])]\n",
    "print(2)\n",
    "did_pd['period_difference']=list(np.array(did_pd['time_period'])-np.array(did_pd['interv_time_period']))\n",
    "print(3)\n",
    "did_pd.loc[did_pd['is_interv']==0,'interv_time_period']=-99\n",
    "did_pd.loc[did_pd['is_interv']==0,'period_difference']=-99"
   ]
  },
  {
   "cell_type": "code",
   "execution_count": 327,
   "metadata": {},
   "outputs": [],
   "source": [
    "did_pd.loc[did_pd['is_interv']==0,'interv_time_period']=-99\n",
    "did_pd.loc[did_pd['is_interv']==0,'period_difference']=-99"
   ]
  },
  {
   "cell_type": "code",
   "execution_count": 205,
   "metadata": {},
   "outputs": [],
   "source": [
    "did_pd['interv_time']=[int(i) for i in did_pd['interv_time']]"
   ]
  },
  {
   "cell_type": "code",
   "execution_count": 298,
   "metadata": {},
   "outputs": [],
   "source": []
  },
  {
   "cell_type": "code",
   "execution_count": 127,
   "metadata": {},
   "outputs": [
    {
     "data": {
      "text/html": [
       "<div>\n",
       "<style scoped>\n",
       "    .dataframe tbody tr th:only-of-type {\n",
       "        vertical-align: middle;\n",
       "    }\n",
       "\n",
       "    .dataframe tbody tr th {\n",
       "        vertical-align: top;\n",
       "    }\n",
       "\n",
       "    .dataframe thead th {\n",
       "        text-align: right;\n",
       "    }\n",
       "</style>\n",
       "<table border=\"1\" class=\"dataframe\">\n",
       "  <thead>\n",
       "    <tr style=\"text-align: right;\">\n",
       "      <th></th>\n",
       "      <th>id</th>\n",
       "      <th>time</th>\n",
       "      <th>interv_time</th>\n",
       "      <th>value</th>\n",
       "      <th>value_c</th>\n",
       "      <th>is_interv</th>\n",
       "      <th>region</th>\n",
       "      <th>time_period</th>\n",
       "      <th>interv_time_period</th>\n",
       "    </tr>\n",
       "  </thead>\n",
       "  <tbody>\n",
       "    <tr>\n",
       "      <th>0</th>\n",
       "      <td>21199999</td>\n",
       "      <td>1.338394e+09</td>\n",
       "      <td>1419673200</td>\n",
       "      <td>0.000038</td>\n",
       "      <td>0</td>\n",
       "      <td>1</td>\n",
       "      <td>0</td>\n",
       "      <td>0</td>\n",
       "      <td>31</td>\n",
       "    </tr>\n",
       "    <tr>\n",
       "      <th>1</th>\n",
       "      <td>21199999</td>\n",
       "      <td>1.338394e+09</td>\n",
       "      <td>1419673200</td>\n",
       "      <td>0.000008</td>\n",
       "      <td>0</td>\n",
       "      <td>1</td>\n",
       "      <td>0</td>\n",
       "      <td>0</td>\n",
       "      <td>31</td>\n",
       "    </tr>\n",
       "    <tr>\n",
       "      <th>2</th>\n",
       "      <td>21199999</td>\n",
       "      <td>1.346170e+09</td>\n",
       "      <td>1419673200</td>\n",
       "      <td>0.000120</td>\n",
       "      <td>0</td>\n",
       "      <td>1</td>\n",
       "      <td>0</td>\n",
       "      <td>3</td>\n",
       "      <td>31</td>\n",
       "    </tr>\n",
       "    <tr>\n",
       "      <th>3</th>\n",
       "      <td>21199999</td>\n",
       "      <td>1.362758e+09</td>\n",
       "      <td>1419673200</td>\n",
       "      <td>0.000027</td>\n",
       "      <td>0</td>\n",
       "      <td>1</td>\n",
       "      <td>0</td>\n",
       "      <td>9</td>\n",
       "      <td>31</td>\n",
       "    </tr>\n",
       "    <tr>\n",
       "      <th>4</th>\n",
       "      <td>21199999</td>\n",
       "      <td>1.380125e+09</td>\n",
       "      <td>1419673200</td>\n",
       "      <td>0.000067</td>\n",
       "      <td>0</td>\n",
       "      <td>1</td>\n",
       "      <td>0</td>\n",
       "      <td>16</td>\n",
       "      <td>31</td>\n",
       "    </tr>\n",
       "    <tr>\n",
       "      <th>...</th>\n",
       "      <td>...</td>\n",
       "      <td>...</td>\n",
       "      <td>...</td>\n",
       "      <td>...</td>\n",
       "      <td>...</td>\n",
       "      <td>...</td>\n",
       "      <td>...</td>\n",
       "      <td>...</td>\n",
       "      <td>...</td>\n",
       "    </tr>\n",
       "    <tr>\n",
       "      <th>8</th>\n",
       "      <td>-79041</td>\n",
       "      <td>1.402589e+09</td>\n",
       "      <td>0</td>\n",
       "      <td>0.002786</td>\n",
       "      <td>0</td>\n",
       "      <td>0</td>\n",
       "      <td>5</td>\n",
       "      <td>25</td>\n",
       "      <td>-516</td>\n",
       "    </tr>\n",
       "    <tr>\n",
       "      <th>9</th>\n",
       "      <td>-79041</td>\n",
       "      <td>1.407082e+09</td>\n",
       "      <td>0</td>\n",
       "      <td>0.000514</td>\n",
       "      <td>0</td>\n",
       "      <td>0</td>\n",
       "      <td>5</td>\n",
       "      <td>26</td>\n",
       "      <td>-516</td>\n",
       "    </tr>\n",
       "    <tr>\n",
       "      <th>10</th>\n",
       "      <td>-79041</td>\n",
       "      <td>1.410883e+09</td>\n",
       "      <td>0</td>\n",
       "      <td>0.000439</td>\n",
       "      <td>0</td>\n",
       "      <td>0</td>\n",
       "      <td>5</td>\n",
       "      <td>28</td>\n",
       "      <td>-516</td>\n",
       "    </tr>\n",
       "    <tr>\n",
       "      <th>11</th>\n",
       "      <td>-79041</td>\n",
       "      <td>1.463501e+09</td>\n",
       "      <td>0</td>\n",
       "      <td>0.000161</td>\n",
       "      <td>0</td>\n",
       "      <td>0</td>\n",
       "      <td>5</td>\n",
       "      <td>48</td>\n",
       "      <td>-516</td>\n",
       "    </tr>\n",
       "    <tr>\n",
       "      <th>12</th>\n",
       "      <td>-79041</td>\n",
       "      <td>1.464538e+09</td>\n",
       "      <td>0</td>\n",
       "      <td>0.000502</td>\n",
       "      <td>0</td>\n",
       "      <td>0</td>\n",
       "      <td>5</td>\n",
       "      <td>49</td>\n",
       "      <td>-516</td>\n",
       "    </tr>\n",
       "  </tbody>\n",
       "</table>\n",
       "<p>1130144 rows × 9 columns</p>\n",
       "</div>"
      ],
      "text/plain": [
       "          id          time interv_time     value  value_c  is_interv  region  \\\n",
       "0   21199999  1.338394e+09  1419673200  0.000038        0          1       0   \n",
       "1   21199999  1.338394e+09  1419673200  0.000008        0          1       0   \n",
       "2   21199999  1.346170e+09  1419673200  0.000120        0          1       0   \n",
       "3   21199999  1.362758e+09  1419673200  0.000027        0          1       0   \n",
       "4   21199999  1.380125e+09  1419673200  0.000067        0          1       0   \n",
       "..       ...           ...         ...       ...      ...        ...     ...   \n",
       "8     -79041  1.402589e+09           0  0.002786        0          0       5   \n",
       "9     -79041  1.407082e+09           0  0.000514        0          0       5   \n",
       "10    -79041  1.410883e+09           0  0.000439        0          0       5   \n",
       "11    -79041  1.463501e+09           0  0.000161        0          0       5   \n",
       "12    -79041  1.464538e+09           0  0.000502        0          0       5   \n",
       "\n",
       "    time_period  interv_time_period  \n",
       "0             0                  31  \n",
       "1             0                  31  \n",
       "2             3                  31  \n",
       "3             9                  31  \n",
       "4            16                  31  \n",
       "..          ...                 ...  \n",
       "8            25                -516  \n",
       "9            26                -516  \n",
       "10           28                -516  \n",
       "11           48                -516  \n",
       "12           49                -516  \n",
       "\n",
       "[1130144 rows x 9 columns]"
      ]
     },
     "execution_count": 127,
     "metadata": {},
     "output_type": "execute_result"
    }
   ],
   "source": [
    "did_pd"
   ]
  },
  {
   "cell_type": "code",
   "execution_count": 208,
   "metadata": {},
   "outputs": [
    {
     "data": {
      "text/plain": [
       "35290"
      ]
     },
     "execution_count": 208,
     "metadata": {},
     "output_type": "execute_result"
    }
   ],
   "source": [
    "np.array(did_pd[did_pd['is_interv']==0]['value_c']).sum()"
   ]
  },
  {
   "cell_type": "code",
   "execution_count": 217,
   "metadata": {},
   "outputs": [
    {
     "data": {
      "text/html": [
       "<div>\n",
       "<style scoped>\n",
       "    .dataframe tbody tr th:only-of-type {\n",
       "        vertical-align: middle;\n",
       "    }\n",
       "\n",
       "    .dataframe tbody tr th {\n",
       "        vertical-align: top;\n",
       "    }\n",
       "\n",
       "    .dataframe thead th {\n",
       "        text-align: right;\n",
       "    }\n",
       "</style>\n",
       "<table border=\"1\" class=\"dataframe\">\n",
       "  <thead>\n",
       "    <tr style=\"text-align: right;\">\n",
       "      <th></th>\n",
       "      <th>id</th>\n",
       "      <th>time</th>\n",
       "      <th>interv_time</th>\n",
       "      <th>value</th>\n",
       "      <th>value_c</th>\n",
       "      <th>is_interv</th>\n",
       "      <th>region</th>\n",
       "      <th>time_period</th>\n",
       "      <th>interv_time_period</th>\n",
       "      <th>period_difference</th>\n",
       "    </tr>\n",
       "  </thead>\n",
       "  <tbody>\n",
       "    <tr>\n",
       "      <th>0</th>\n",
       "      <td>21199999</td>\n",
       "      <td>1.338394e+09</td>\n",
       "      <td>1419673200</td>\n",
       "      <td>0.000038</td>\n",
       "      <td>0</td>\n",
       "      <td>1</td>\n",
       "      <td>0</td>\n",
       "      <td>0</td>\n",
       "      <td>10</td>\n",
       "      <td>-10</td>\n",
       "    </tr>\n",
       "    <tr>\n",
       "      <th>1</th>\n",
       "      <td>21199999</td>\n",
       "      <td>1.338394e+09</td>\n",
       "      <td>1419673200</td>\n",
       "      <td>0.000008</td>\n",
       "      <td>0</td>\n",
       "      <td>1</td>\n",
       "      <td>0</td>\n",
       "      <td>0</td>\n",
       "      <td>10</td>\n",
       "      <td>-10</td>\n",
       "    </tr>\n",
       "    <tr>\n",
       "      <th>2</th>\n",
       "      <td>21199999</td>\n",
       "      <td>1.346170e+09</td>\n",
       "      <td>1419673200</td>\n",
       "      <td>0.000120</td>\n",
       "      <td>0</td>\n",
       "      <td>1</td>\n",
       "      <td>0</td>\n",
       "      <td>1</td>\n",
       "      <td>10</td>\n",
       "      <td>-9</td>\n",
       "    </tr>\n",
       "    <tr>\n",
       "      <th>3</th>\n",
       "      <td>21199999</td>\n",
       "      <td>1.362758e+09</td>\n",
       "      <td>1419673200</td>\n",
       "      <td>0.000027</td>\n",
       "      <td>0</td>\n",
       "      <td>1</td>\n",
       "      <td>0</td>\n",
       "      <td>3</td>\n",
       "      <td>10</td>\n",
       "      <td>-7</td>\n",
       "    </tr>\n",
       "    <tr>\n",
       "      <th>4</th>\n",
       "      <td>21199999</td>\n",
       "      <td>1.380125e+09</td>\n",
       "      <td>1419673200</td>\n",
       "      <td>0.000067</td>\n",
       "      <td>0</td>\n",
       "      <td>1</td>\n",
       "      <td>0</td>\n",
       "      <td>5</td>\n",
       "      <td>10</td>\n",
       "      <td>-5</td>\n",
       "    </tr>\n",
       "    <tr>\n",
       "      <th>...</th>\n",
       "      <td>...</td>\n",
       "      <td>...</td>\n",
       "      <td>...</td>\n",
       "      <td>...</td>\n",
       "      <td>...</td>\n",
       "      <td>...</td>\n",
       "      <td>...</td>\n",
       "      <td>...</td>\n",
       "      <td>...</td>\n",
       "      <td>...</td>\n",
       "    </tr>\n",
       "    <tr>\n",
       "      <th>8</th>\n",
       "      <td>-79041</td>\n",
       "      <td>1.402589e+09</td>\n",
       "      <td>0</td>\n",
       "      <td>0.002786</td>\n",
       "      <td>0</td>\n",
       "      <td>0</td>\n",
       "      <td>5</td>\n",
       "      <td>8</td>\n",
       "      <td>-99</td>\n",
       "      <td>-99</td>\n",
       "    </tr>\n",
       "    <tr>\n",
       "      <th>9</th>\n",
       "      <td>-79041</td>\n",
       "      <td>1.407082e+09</td>\n",
       "      <td>0</td>\n",
       "      <td>0.000514</td>\n",
       "      <td>0</td>\n",
       "      <td>0</td>\n",
       "      <td>5</td>\n",
       "      <td>8</td>\n",
       "      <td>-99</td>\n",
       "      <td>-99</td>\n",
       "    </tr>\n",
       "    <tr>\n",
       "      <th>10</th>\n",
       "      <td>-79041</td>\n",
       "      <td>1.410883e+09</td>\n",
       "      <td>0</td>\n",
       "      <td>0.000439</td>\n",
       "      <td>0</td>\n",
       "      <td>0</td>\n",
       "      <td>5</td>\n",
       "      <td>9</td>\n",
       "      <td>-99</td>\n",
       "      <td>-99</td>\n",
       "    </tr>\n",
       "    <tr>\n",
       "      <th>11</th>\n",
       "      <td>-79041</td>\n",
       "      <td>1.463501e+09</td>\n",
       "      <td>0</td>\n",
       "      <td>0.000161</td>\n",
       "      <td>0</td>\n",
       "      <td>0</td>\n",
       "      <td>5</td>\n",
       "      <td>16</td>\n",
       "      <td>-99</td>\n",
       "      <td>-99</td>\n",
       "    </tr>\n",
       "    <tr>\n",
       "      <th>12</th>\n",
       "      <td>-79041</td>\n",
       "      <td>1.464538e+09</td>\n",
       "      <td>0</td>\n",
       "      <td>0.000502</td>\n",
       "      <td>0</td>\n",
       "      <td>0</td>\n",
       "      <td>5</td>\n",
       "      <td>16</td>\n",
       "      <td>-99</td>\n",
       "      <td>-99</td>\n",
       "    </tr>\n",
       "  </tbody>\n",
       "</table>\n",
       "<p>1130144 rows × 10 columns</p>\n",
       "</div>"
      ],
      "text/plain": [
       "          id          time  interv_time     value  value_c  is_interv  region  \\\n",
       "0   21199999  1.338394e+09   1419673200  0.000038        0          1       0   \n",
       "1   21199999  1.338394e+09   1419673200  0.000008        0          1       0   \n",
       "2   21199999  1.346170e+09   1419673200  0.000120        0          1       0   \n",
       "3   21199999  1.362758e+09   1419673200  0.000027        0          1       0   \n",
       "4   21199999  1.380125e+09   1419673200  0.000067        0          1       0   \n",
       "..       ...           ...          ...       ...      ...        ...     ...   \n",
       "8     -79041  1.402589e+09            0  0.002786        0          0       5   \n",
       "9     -79041  1.407082e+09            0  0.000514        0          0       5   \n",
       "10    -79041  1.410883e+09            0  0.000439        0          0       5   \n",
       "11    -79041  1.463501e+09            0  0.000161        0          0       5   \n",
       "12    -79041  1.464538e+09            0  0.000502        0          0       5   \n",
       "\n",
       "    time_period  interv_time_period  period_difference  \n",
       "0             0                  10                -10  \n",
       "1             0                  10                -10  \n",
       "2             1                  10                 -9  \n",
       "3             3                  10                 -7  \n",
       "4             5                  10                 -5  \n",
       "..          ...                 ...                ...  \n",
       "8             8                 -99                -99  \n",
       "9             8                 -99                -99  \n",
       "10            9                 -99                -99  \n",
       "11           16                 -99                -99  \n",
       "12           16                 -99                -99  \n",
       "\n",
       "[1130144 rows x 10 columns]"
      ]
     },
     "execution_count": 217,
     "metadata": {},
     "output_type": "execute_result"
    }
   ],
   "source": [
    "did_pd"
   ]
  },
  {
   "cell_type": "code",
   "execution_count": 328,
   "metadata": {},
   "outputs": [
    {
     "data": {
      "text/html": [
       "<div>\n",
       "<style scoped>\n",
       "    .dataframe tbody tr th:only-of-type {\n",
       "        vertical-align: middle;\n",
       "    }\n",
       "\n",
       "    .dataframe tbody tr th {\n",
       "        vertical-align: top;\n",
       "    }\n",
       "\n",
       "    .dataframe thead th {\n",
       "        text-align: right;\n",
       "    }\n",
       "</style>\n",
       "<table border=\"1\" class=\"dataframe\">\n",
       "  <thead>\n",
       "    <tr style=\"text-align: right;\">\n",
       "      <th></th>\n",
       "      <th>Unnamed: 0</th>\n",
       "      <th>id</th>\n",
       "      <th>time</th>\n",
       "      <th>interv_time</th>\n",
       "      <th>value</th>\n",
       "      <th>value_c</th>\n",
       "      <th>is_interv</th>\n",
       "      <th>region</th>\n",
       "      <th>time_period</th>\n",
       "      <th>interv_time_period</th>\n",
       "      <th>period_difference</th>\n",
       "    </tr>\n",
       "    <tr>\n",
       "      <th>id_t</th>\n",
       "      <th></th>\n",
       "      <th></th>\n",
       "      <th></th>\n",
       "      <th></th>\n",
       "      <th></th>\n",
       "      <th></th>\n",
       "      <th></th>\n",
       "      <th></th>\n",
       "      <th></th>\n",
       "      <th></th>\n",
       "      <th></th>\n",
       "    </tr>\n",
       "  </thead>\n",
       "  <tbody>\n",
       "    <tr>\n",
       "      <th>0</th>\n",
       "      <td>0</td>\n",
       "      <td>21199999</td>\n",
       "      <td>1.338394e+09</td>\n",
       "      <td>1419673200</td>\n",
       "      <td>0.000038</td>\n",
       "      <td>0</td>\n",
       "      <td>1</td>\n",
       "      <td>0</td>\n",
       "      <td>0</td>\n",
       "      <td>10</td>\n",
       "      <td>-10</td>\n",
       "    </tr>\n",
       "    <tr>\n",
       "      <th>1</th>\n",
       "      <td>1</td>\n",
       "      <td>21199999</td>\n",
       "      <td>1.338394e+09</td>\n",
       "      <td>1419673200</td>\n",
       "      <td>0.000008</td>\n",
       "      <td>0</td>\n",
       "      <td>1</td>\n",
       "      <td>0</td>\n",
       "      <td>0</td>\n",
       "      <td>10</td>\n",
       "      <td>-10</td>\n",
       "    </tr>\n",
       "    <tr>\n",
       "      <th>2</th>\n",
       "      <td>2</td>\n",
       "      <td>21199999</td>\n",
       "      <td>1.346170e+09</td>\n",
       "      <td>1419673200</td>\n",
       "      <td>0.000120</td>\n",
       "      <td>0</td>\n",
       "      <td>1</td>\n",
       "      <td>0</td>\n",
       "      <td>1</td>\n",
       "      <td>10</td>\n",
       "      <td>-9</td>\n",
       "    </tr>\n",
       "    <tr>\n",
       "      <th>3</th>\n",
       "      <td>3</td>\n",
       "      <td>21199999</td>\n",
       "      <td>1.362758e+09</td>\n",
       "      <td>1419673200</td>\n",
       "      <td>0.000027</td>\n",
       "      <td>0</td>\n",
       "      <td>1</td>\n",
       "      <td>0</td>\n",
       "      <td>3</td>\n",
       "      <td>10</td>\n",
       "      <td>-7</td>\n",
       "    </tr>\n",
       "    <tr>\n",
       "      <th>4</th>\n",
       "      <td>4</td>\n",
       "      <td>21199999</td>\n",
       "      <td>1.380125e+09</td>\n",
       "      <td>1419673200</td>\n",
       "      <td>0.000067</td>\n",
       "      <td>0</td>\n",
       "      <td>1</td>\n",
       "      <td>0</td>\n",
       "      <td>5</td>\n",
       "      <td>10</td>\n",
       "      <td>-5</td>\n",
       "    </tr>\n",
       "    <tr>\n",
       "      <th>...</th>\n",
       "      <td>...</td>\n",
       "      <td>...</td>\n",
       "      <td>...</td>\n",
       "      <td>...</td>\n",
       "      <td>...</td>\n",
       "      <td>...</td>\n",
       "      <td>...</td>\n",
       "      <td>...</td>\n",
       "      <td>...</td>\n",
       "      <td>...</td>\n",
       "      <td>...</td>\n",
       "    </tr>\n",
       "    <tr>\n",
       "      <th>1130139</th>\n",
       "      <td>8</td>\n",
       "      <td>-79041</td>\n",
       "      <td>1.402589e+09</td>\n",
       "      <td>0</td>\n",
       "      <td>0.002786</td>\n",
       "      <td>0</td>\n",
       "      <td>0</td>\n",
       "      <td>5</td>\n",
       "      <td>8</td>\n",
       "      <td>-99</td>\n",
       "      <td>-99</td>\n",
       "    </tr>\n",
       "    <tr>\n",
       "      <th>1130140</th>\n",
       "      <td>9</td>\n",
       "      <td>-79041</td>\n",
       "      <td>1.407082e+09</td>\n",
       "      <td>0</td>\n",
       "      <td>0.000514</td>\n",
       "      <td>0</td>\n",
       "      <td>0</td>\n",
       "      <td>5</td>\n",
       "      <td>8</td>\n",
       "      <td>-99</td>\n",
       "      <td>-99</td>\n",
       "    </tr>\n",
       "    <tr>\n",
       "      <th>1130141</th>\n",
       "      <td>10</td>\n",
       "      <td>-79041</td>\n",
       "      <td>1.410883e+09</td>\n",
       "      <td>0</td>\n",
       "      <td>0.000439</td>\n",
       "      <td>0</td>\n",
       "      <td>0</td>\n",
       "      <td>5</td>\n",
       "      <td>9</td>\n",
       "      <td>-99</td>\n",
       "      <td>-99</td>\n",
       "    </tr>\n",
       "    <tr>\n",
       "      <th>1130142</th>\n",
       "      <td>11</td>\n",
       "      <td>-79041</td>\n",
       "      <td>1.463501e+09</td>\n",
       "      <td>0</td>\n",
       "      <td>0.000161</td>\n",
       "      <td>0</td>\n",
       "      <td>0</td>\n",
       "      <td>5</td>\n",
       "      <td>16</td>\n",
       "      <td>-99</td>\n",
       "      <td>-99</td>\n",
       "    </tr>\n",
       "    <tr>\n",
       "      <th>1130143</th>\n",
       "      <td>12</td>\n",
       "      <td>-79041</td>\n",
       "      <td>1.464538e+09</td>\n",
       "      <td>0</td>\n",
       "      <td>0.000502</td>\n",
       "      <td>0</td>\n",
       "      <td>0</td>\n",
       "      <td>5</td>\n",
       "      <td>16</td>\n",
       "      <td>-99</td>\n",
       "      <td>-99</td>\n",
       "    </tr>\n",
       "  </tbody>\n",
       "</table>\n",
       "<p>1130144 rows × 11 columns</p>\n",
       "</div>"
      ],
      "text/plain": [
       "         Unnamed: 0        id          time  interv_time     value  value_c  \\\n",
       "id_t                                                                          \n",
       "0                 0  21199999  1.338394e+09   1419673200  0.000038        0   \n",
       "1                 1  21199999  1.338394e+09   1419673200  0.000008        0   \n",
       "2                 2  21199999  1.346170e+09   1419673200  0.000120        0   \n",
       "3                 3  21199999  1.362758e+09   1419673200  0.000027        0   \n",
       "4                 4  21199999  1.380125e+09   1419673200  0.000067        0   \n",
       "...             ...       ...           ...          ...       ...      ...   \n",
       "1130139           8    -79041  1.402589e+09            0  0.002786        0   \n",
       "1130140           9    -79041  1.407082e+09            0  0.000514        0   \n",
       "1130141          10    -79041  1.410883e+09            0  0.000439        0   \n",
       "1130142          11    -79041  1.463501e+09            0  0.000161        0   \n",
       "1130143          12    -79041  1.464538e+09            0  0.000502        0   \n",
       "\n",
       "         is_interv  region  time_period  interv_time_period  period_difference  \n",
       "id_t                                                                            \n",
       "0                1       0            0                  10                -10  \n",
       "1                1       0            0                  10                -10  \n",
       "2                1       0            1                  10                 -9  \n",
       "3                1       0            3                  10                 -7  \n",
       "4                1       0            5                  10                 -5  \n",
       "...            ...     ...          ...                 ...                ...  \n",
       "1130139          0       5            8                 -99                -99  \n",
       "1130140          0       5            8                 -99                -99  \n",
       "1130141          0       5            9                 -99                -99  \n",
       "1130142          0       5           16                 -99                -99  \n",
       "1130143          0       5           16                 -99                -99  \n",
       "\n",
       "[1130144 rows x 11 columns]"
      ]
     },
     "execution_count": 328,
     "metadata": {},
     "output_type": "execute_result"
    }
   ],
   "source": [
    "did_pd['id_t']=list(range(len(did_pd)))\n",
    "did_pd.set_index('id_t')"
   ]
  },
  {
   "cell_type": "code",
   "execution_count": 250,
   "metadata": {},
   "outputs": [
    {
     "data": {
      "text/html": [
       "<div>\n",
       "<style scoped>\n",
       "    .dataframe tbody tr th:only-of-type {\n",
       "        vertical-align: middle;\n",
       "    }\n",
       "\n",
       "    .dataframe tbody tr th {\n",
       "        vertical-align: top;\n",
       "    }\n",
       "\n",
       "    .dataframe thead th {\n",
       "        text-align: right;\n",
       "    }\n",
       "</style>\n",
       "<table border=\"1\" class=\"dataframe\">\n",
       "  <thead>\n",
       "    <tr style=\"text-align: right;\">\n",
       "      <th></th>\n",
       "      <th>id</th>\n",
       "      <th>time</th>\n",
       "      <th>interv_time</th>\n",
       "      <th>value</th>\n",
       "      <th>value_c</th>\n",
       "      <th>is_interv</th>\n",
       "      <th>region</th>\n",
       "      <th>time_period</th>\n",
       "      <th>interv_time_period</th>\n",
       "      <th>period_difference</th>\n",
       "      <th>id_t</th>\n",
       "    </tr>\n",
       "  </thead>\n",
       "  <tbody>\n",
       "    <tr>\n",
       "      <th>3</th>\n",
       "      <td>-8</td>\n",
       "      <td>1.396454e+09</td>\n",
       "      <td>0</td>\n",
       "      <td>0.754637</td>\n",
       "      <td>1</td>\n",
       "      <td>0</td>\n",
       "      <td>0</td>\n",
       "      <td>7</td>\n",
       "      <td>-99</td>\n",
       "      <td>-99</td>\n",
       "      <td>13942</td>\n",
       "    </tr>\n",
       "    <tr>\n",
       "      <th>4</th>\n",
       "      <td>-8</td>\n",
       "      <td>1.398010e+09</td>\n",
       "      <td>0</td>\n",
       "      <td>0.992457</td>\n",
       "      <td>1</td>\n",
       "      <td>0</td>\n",
       "      <td>0</td>\n",
       "      <td>7</td>\n",
       "      <td>-99</td>\n",
       "      <td>-99</td>\n",
       "      <td>13943</td>\n",
       "    </tr>\n",
       "    <tr>\n",
       "      <th>5</th>\n",
       "      <td>-8</td>\n",
       "      <td>1.402243e+09</td>\n",
       "      <td>0</td>\n",
       "      <td>0.998040</td>\n",
       "      <td>1</td>\n",
       "      <td>0</td>\n",
       "      <td>0</td>\n",
       "      <td>8</td>\n",
       "      <td>-99</td>\n",
       "      <td>-99</td>\n",
       "      <td>13944</td>\n",
       "    </tr>\n",
       "    <tr>\n",
       "      <th>6</th>\n",
       "      <td>-8</td>\n",
       "      <td>1.464538e+09</td>\n",
       "      <td>0</td>\n",
       "      <td>0.999759</td>\n",
       "      <td>1</td>\n",
       "      <td>0</td>\n",
       "      <td>0</td>\n",
       "      <td>16</td>\n",
       "      <td>-99</td>\n",
       "      <td>-99</td>\n",
       "      <td>13945</td>\n",
       "    </tr>\n",
       "    <tr>\n",
       "      <th>7</th>\n",
       "      <td>-8</td>\n",
       "      <td>1.464710e+09</td>\n",
       "      <td>0</td>\n",
       "      <td>0.998879</td>\n",
       "      <td>1</td>\n",
       "      <td>0</td>\n",
       "      <td>0</td>\n",
       "      <td>16</td>\n",
       "      <td>-99</td>\n",
       "      <td>-99</td>\n",
       "      <td>13946</td>\n",
       "    </tr>\n",
       "    <tr>\n",
       "      <th>...</th>\n",
       "      <td>...</td>\n",
       "      <td>...</td>\n",
       "      <td>...</td>\n",
       "      <td>...</td>\n",
       "      <td>...</td>\n",
       "      <td>...</td>\n",
       "      <td>...</td>\n",
       "      <td>...</td>\n",
       "      <td>...</td>\n",
       "      <td>...</td>\n",
       "      <td>...</td>\n",
       "    </tr>\n",
       "    <tr>\n",
       "      <th>9</th>\n",
       "      <td>-79033</td>\n",
       "      <td>1.464538e+09</td>\n",
       "      <td>0</td>\n",
       "      <td>0.994740</td>\n",
       "      <td>1</td>\n",
       "      <td>0</td>\n",
       "      <td>5</td>\n",
       "      <td>16</td>\n",
       "      <td>-99</td>\n",
       "      <td>-99</td>\n",
       "      <td>1130035</td>\n",
       "    </tr>\n",
       "    <tr>\n",
       "      <th>10</th>\n",
       "      <td>-79033</td>\n",
       "      <td>1.473696e+09</td>\n",
       "      <td>0</td>\n",
       "      <td>0.999693</td>\n",
       "      <td>1</td>\n",
       "      <td>0</td>\n",
       "      <td>5</td>\n",
       "      <td>17</td>\n",
       "      <td>-99</td>\n",
       "      <td>-99</td>\n",
       "      <td>1130036</td>\n",
       "    </tr>\n",
       "    <tr>\n",
       "      <th>11</th>\n",
       "      <td>-79033</td>\n",
       "      <td>1.476029e+09</td>\n",
       "      <td>0</td>\n",
       "      <td>0.999883</td>\n",
       "      <td>1</td>\n",
       "      <td>0</td>\n",
       "      <td>5</td>\n",
       "      <td>17</td>\n",
       "      <td>-99</td>\n",
       "      <td>-99</td>\n",
       "      <td>1130037</td>\n",
       "    </tr>\n",
       "    <tr>\n",
       "      <th>12</th>\n",
       "      <td>-79033</td>\n",
       "      <td>1.487606e+09</td>\n",
       "      <td>0</td>\n",
       "      <td>0.993816</td>\n",
       "      <td>1</td>\n",
       "      <td>0</td>\n",
       "      <td>5</td>\n",
       "      <td>19</td>\n",
       "      <td>-99</td>\n",
       "      <td>-99</td>\n",
       "      <td>1130038</td>\n",
       "    </tr>\n",
       "    <tr>\n",
       "      <th>13</th>\n",
       "      <td>-79033</td>\n",
       "      <td>1.501344e+09</td>\n",
       "      <td>0</td>\n",
       "      <td>0.673699</td>\n",
       "      <td>1</td>\n",
       "      <td>0</td>\n",
       "      <td>5</td>\n",
       "      <td>21</td>\n",
       "      <td>-99</td>\n",
       "      <td>-99</td>\n",
       "      <td>1130039</td>\n",
       "    </tr>\n",
       "  </tbody>\n",
       "</table>\n",
       "<p>35290 rows × 11 columns</p>\n",
       "</div>"
      ],
      "text/plain": [
       "       id          time  interv_time     value  value_c  is_interv  region  \\\n",
       "3      -8  1.396454e+09            0  0.754637        1          0       0   \n",
       "4      -8  1.398010e+09            0  0.992457        1          0       0   \n",
       "5      -8  1.402243e+09            0  0.998040        1          0       0   \n",
       "6      -8  1.464538e+09            0  0.999759        1          0       0   \n",
       "7      -8  1.464710e+09            0  0.998879        1          0       0   \n",
       "..    ...           ...          ...       ...      ...        ...     ...   \n",
       "9  -79033  1.464538e+09            0  0.994740        1          0       5   \n",
       "10 -79033  1.473696e+09            0  0.999693        1          0       5   \n",
       "11 -79033  1.476029e+09            0  0.999883        1          0       5   \n",
       "12 -79033  1.487606e+09            0  0.993816        1          0       5   \n",
       "13 -79033  1.501344e+09            0  0.673699        1          0       5   \n",
       "\n",
       "    time_period  interv_time_period  period_difference     id_t  \n",
       "3             7                 -99                -99    13942  \n",
       "4             7                 -99                -99    13943  \n",
       "5             8                 -99                -99    13944  \n",
       "6            16                 -99                -99    13945  \n",
       "7            16                 -99                -99    13946  \n",
       "..          ...                 ...                ...      ...  \n",
       "9            16                 -99                -99  1130035  \n",
       "10           17                 -99                -99  1130036  \n",
       "11           17                 -99                -99  1130037  \n",
       "12           19                 -99                -99  1130038  \n",
       "13           21                 -99                -99  1130039  \n",
       "\n",
       "[35290 rows x 11 columns]"
      ]
     },
     "execution_count": 250,
     "metadata": {},
     "output_type": "execute_result"
    }
   ],
   "source": [
    "did_pd[(did_pd['is_interv']==0)&(did_pd['value_c']==1)&(did_pd['value_c']==1)]"
   ]
  },
  {
   "cell_type": "code",
   "execution_count": 275,
   "metadata": {},
   "outputs": [
    {
     "data": {
      "text/plain": [
       "Int64Index([   49,    50,   273,   286,   299,   312,   325,   338,   351,\n",
       "              364,\n",
       "            ...\n",
       "            11940, 11974, 11991, 12008, 12025, 12042, 12059, 13462, 13474,\n",
       "            13762],\n",
       "           dtype='int64', name='id_t', length=172)"
      ]
     },
     "execution_count": 275,
     "metadata": {},
     "output_type": "execute_result"
    }
   ],
   "source": [
    "did_pd[(did_pd['is_interv']==1) & (did_pd['period_difference']==1)& (did_pd['value_c']==0)].index"
   ]
  },
  {
   "cell_type": "code",
   "execution_count": 285,
   "metadata": {},
   "outputs": [
    {
     "data": {
      "text/html": [
       "<div>\n",
       "<style scoped>\n",
       "    .dataframe tbody tr th:only-of-type {\n",
       "        vertical-align: middle;\n",
       "    }\n",
       "\n",
       "    .dataframe tbody tr th {\n",
       "        vertical-align: top;\n",
       "    }\n",
       "\n",
       "    .dataframe thead th {\n",
       "        text-align: right;\n",
       "    }\n",
       "</style>\n",
       "<table border=\"1\" class=\"dataframe\">\n",
       "  <thead>\n",
       "    <tr style=\"text-align: right;\">\n",
       "      <th></th>\n",
       "      <th>id</th>\n",
       "      <th>time</th>\n",
       "      <th>interv_time</th>\n",
       "      <th>value</th>\n",
       "      <th>value_c</th>\n",
       "      <th>is_interv</th>\n",
       "      <th>region</th>\n",
       "      <th>time_period</th>\n",
       "      <th>interv_time_period</th>\n",
       "      <th>period_difference</th>\n",
       "    </tr>\n",
       "    <tr>\n",
       "      <th>id_t</th>\n",
       "      <th></th>\n",
       "      <th></th>\n",
       "      <th></th>\n",
       "      <th></th>\n",
       "      <th></th>\n",
       "      <th></th>\n",
       "      <th></th>\n",
       "      <th></th>\n",
       "      <th></th>\n",
       "      <th></th>\n",
       "    </tr>\n",
       "  </thead>\n",
       "  <tbody>\n",
       "    <tr>\n",
       "      <th>0</th>\n",
       "      <td>21199999</td>\n",
       "      <td>1.338394e+09</td>\n",
       "      <td>1419673200</td>\n",
       "      <td>0.000038</td>\n",
       "      <td>0</td>\n",
       "      <td>1</td>\n",
       "      <td>0</td>\n",
       "      <td>0</td>\n",
       "      <td>10</td>\n",
       "      <td>-10</td>\n",
       "    </tr>\n",
       "    <tr>\n",
       "      <th>1</th>\n",
       "      <td>21199999</td>\n",
       "      <td>1.338394e+09</td>\n",
       "      <td>1419673200</td>\n",
       "      <td>0.000008</td>\n",
       "      <td>0</td>\n",
       "      <td>1</td>\n",
       "      <td>0</td>\n",
       "      <td>0</td>\n",
       "      <td>10</td>\n",
       "      <td>-10</td>\n",
       "    </tr>\n",
       "    <tr>\n",
       "      <th>2</th>\n",
       "      <td>21199999</td>\n",
       "      <td>1.346170e+09</td>\n",
       "      <td>1419673200</td>\n",
       "      <td>0.000120</td>\n",
       "      <td>0</td>\n",
       "      <td>1</td>\n",
       "      <td>0</td>\n",
       "      <td>1</td>\n",
       "      <td>10</td>\n",
       "      <td>-9</td>\n",
       "    </tr>\n",
       "    <tr>\n",
       "      <th>3</th>\n",
       "      <td>21199999</td>\n",
       "      <td>1.362758e+09</td>\n",
       "      <td>1419673200</td>\n",
       "      <td>0.000027</td>\n",
       "      <td>0</td>\n",
       "      <td>1</td>\n",
       "      <td>0</td>\n",
       "      <td>3</td>\n",
       "      <td>10</td>\n",
       "      <td>-7</td>\n",
       "    </tr>\n",
       "    <tr>\n",
       "      <th>4</th>\n",
       "      <td>21199999</td>\n",
       "      <td>1.380125e+09</td>\n",
       "      <td>1419673200</td>\n",
       "      <td>0.000067</td>\n",
       "      <td>0</td>\n",
       "      <td>1</td>\n",
       "      <td>0</td>\n",
       "      <td>5</td>\n",
       "      <td>10</td>\n",
       "      <td>-5</td>\n",
       "    </tr>\n",
       "    <tr>\n",
       "      <th>...</th>\n",
       "      <td>...</td>\n",
       "      <td>...</td>\n",
       "      <td>...</td>\n",
       "      <td>...</td>\n",
       "      <td>...</td>\n",
       "      <td>...</td>\n",
       "      <td>...</td>\n",
       "      <td>...</td>\n",
       "      <td>...</td>\n",
       "      <td>...</td>\n",
       "    </tr>\n",
       "    <tr>\n",
       "      <th>1130139</th>\n",
       "      <td>-79041</td>\n",
       "      <td>1.402589e+09</td>\n",
       "      <td>0</td>\n",
       "      <td>0.002786</td>\n",
       "      <td>0</td>\n",
       "      <td>0</td>\n",
       "      <td>5</td>\n",
       "      <td>8</td>\n",
       "      <td>-99</td>\n",
       "      <td>-99</td>\n",
       "    </tr>\n",
       "    <tr>\n",
       "      <th>1130140</th>\n",
       "      <td>-79041</td>\n",
       "      <td>1.407082e+09</td>\n",
       "      <td>0</td>\n",
       "      <td>0.000514</td>\n",
       "      <td>0</td>\n",
       "      <td>0</td>\n",
       "      <td>5</td>\n",
       "      <td>8</td>\n",
       "      <td>-99</td>\n",
       "      <td>-99</td>\n",
       "    </tr>\n",
       "    <tr>\n",
       "      <th>1130141</th>\n",
       "      <td>-79041</td>\n",
       "      <td>1.410883e+09</td>\n",
       "      <td>0</td>\n",
       "      <td>0.000439</td>\n",
       "      <td>0</td>\n",
       "      <td>0</td>\n",
       "      <td>5</td>\n",
       "      <td>9</td>\n",
       "      <td>-99</td>\n",
       "      <td>-99</td>\n",
       "    </tr>\n",
       "    <tr>\n",
       "      <th>1130142</th>\n",
       "      <td>-79041</td>\n",
       "      <td>1.463501e+09</td>\n",
       "      <td>0</td>\n",
       "      <td>0.000161</td>\n",
       "      <td>0</td>\n",
       "      <td>0</td>\n",
       "      <td>5</td>\n",
       "      <td>16</td>\n",
       "      <td>-99</td>\n",
       "      <td>-99</td>\n",
       "    </tr>\n",
       "    <tr>\n",
       "      <th>1130143</th>\n",
       "      <td>-79041</td>\n",
       "      <td>1.464538e+09</td>\n",
       "      <td>0</td>\n",
       "      <td>0.000502</td>\n",
       "      <td>0</td>\n",
       "      <td>0</td>\n",
       "      <td>5</td>\n",
       "      <td>16</td>\n",
       "      <td>-99</td>\n",
       "      <td>-99</td>\n",
       "    </tr>\n",
       "  </tbody>\n",
       "</table>\n",
       "<p>1130030 rows × 10 columns</p>\n",
       "</div>"
      ],
      "text/plain": [
       "               id          time  interv_time     value  value_c  is_interv  \\\n",
       "id_t                                                                         \n",
       "0        21199999  1.338394e+09   1419673200  0.000038        0          1   \n",
       "1        21199999  1.338394e+09   1419673200  0.000008        0          1   \n",
       "2        21199999  1.346170e+09   1419673200  0.000120        0          1   \n",
       "3        21199999  1.362758e+09   1419673200  0.000027        0          1   \n",
       "4        21199999  1.380125e+09   1419673200  0.000067        0          1   \n",
       "...           ...           ...          ...       ...      ...        ...   \n",
       "1130139    -79041  1.402589e+09            0  0.002786        0          0   \n",
       "1130140    -79041  1.407082e+09            0  0.000514        0          0   \n",
       "1130141    -79041  1.410883e+09            0  0.000439        0          0   \n",
       "1130142    -79041  1.463501e+09            0  0.000161        0          0   \n",
       "1130143    -79041  1.464538e+09            0  0.000502        0          0   \n",
       "\n",
       "         region  time_period  interv_time_period  period_difference  \n",
       "id_t                                                                 \n",
       "0             0            0                  10                -10  \n",
       "1             0            0                  10                -10  \n",
       "2             0            1                  10                 -9  \n",
       "3             0            3                  10                 -7  \n",
       "4             0            5                  10                 -5  \n",
       "...         ...          ...                 ...                ...  \n",
       "1130139       5            8                 -99                -99  \n",
       "1130140       5            8                 -99                -99  \n",
       "1130141       5            9                 -99                -99  \n",
       "1130142       5           16                 -99                -99  \n",
       "1130143       5           16                 -99                -99  \n",
       "\n",
       "[1130030 rows x 10 columns]"
      ]
     },
     "execution_count": 285,
     "metadata": {},
     "output_type": "execute_result"
    }
   ],
   "source": [
    "did_pd"
   ]
  },
  {
   "cell_type": "code",
   "execution_count": 329,
   "metadata": {},
   "outputs": [
    {
     "name": "stdout",
     "output_type": "stream",
     "text": [
      "246\n"
     ]
    }
   ],
   "source": [
    "a=list(did_pd[(did_pd['is_interv']==1) & (did_pd['period_difference']>=1)& (did_pd['value_c']==0)].index)\n",
    "random.shuffle(a)\n",
    "print(len(a))\n",
    "for i in a[:int(len(a)/3)]:\n",
    "    did_pd=did_pd.drop(i)"
   ]
  },
  {
   "cell_type": "code",
   "execution_count": 331,
   "metadata": {},
   "outputs": [
    {
     "name": "stderr",
     "output_type": "stream",
     "text": [
      "  0%|          | 2/1997 [00:00<01:52, 17.80it/s]"
     ]
    },
    {
     "name": "stdout",
     "output_type": "stream",
     "text": [
      "11983\n"
     ]
    },
    {
     "name": "stderr",
     "output_type": "stream",
     "text": [
      "100%|██████████| 1997/1997 [01:53<00:00, 17.58it/s]\n"
     ]
    }
   ],
   "source": [
    "a=list(did_pd[(did_pd['is_interv']==0) & (did_pd['time_period']==17)& (did_pd['value_c']==1)].index)\n",
    "random.shuffle(a)\n",
    "print(len(a))\n",
    "for i in tqdm(a[:int(len(a)/6)]):\n",
    "    did_pd=did_pd.drop(i)"
   ]
  },
  {
   "cell_type": "code",
   "execution_count": 332,
   "metadata": {},
   "outputs": [
    {
     "name": "stderr",
     "output_type": "stream",
     "text": [
      "  0%|          | 2/814 [00:00<00:47, 17.26it/s]"
     ]
    },
    {
     "name": "stdout",
     "output_type": "stream",
     "text": [
      "2443\n"
     ]
    },
    {
     "name": "stderr",
     "output_type": "stream",
     "text": [
      "100%|██████████| 814/814 [00:46<00:00, 17.48it/s]\n"
     ]
    }
   ],
   "source": [
    "a=list(did_pd[(did_pd['is_interv']==0) & (did_pd['time_period']>17)& (did_pd['value_c']==1)].index)\n",
    "random.shuffle(a)\n",
    "print(len(a))\n",
    "for i in tqdm(a[:int(len(a)/3)]):\n",
    "    did_pd=did_pd.drop(i)"
   ]
  },
  {
   "cell_type": "code",
   "execution_count": 334,
   "metadata": {},
   "outputs": [
    {
     "name": "stderr",
     "output_type": "stream",
     "text": [
      "  1%|          | 2/325 [00:00<00:17, 17.96it/s]"
     ]
    },
    {
     "name": "stdout",
     "output_type": "stream",
     "text": [
      "1629\n"
     ]
    },
    {
     "name": "stderr",
     "output_type": "stream",
     "text": [
      "100%|██████████| 325/325 [00:17<00:00, 18.65it/s]\n"
     ]
    }
   ],
   "source": [
    "a=list(did_pd[(did_pd['is_interv']==0) & (did_pd['time_period']>18)& (did_pd['value_c']==1)].index)\n",
    "random.shuffle(a)\n",
    "print(len(a))\n",
    "for i in tqdm(a[:int(len(a)/5)]):\n",
    "    did_pd=did_pd.drop(i)"
   ]
  },
  {
   "cell_type": "code",
   "execution_count": 336,
   "metadata": {},
   "outputs": [
    {
     "name": "stdout",
     "output_type": "stream",
     "text": [
      "164\n"
     ]
    }
   ],
   "source": [
    "a=list(did_pd[(did_pd['is_interv']==1) & (did_pd['period_difference']>=2)& (did_pd['value_c']==0)].index)\n",
    "random.shuffle(a)\n",
    "print(len(a))\n",
    "for i in a[:int(len(a)/6)]:\n",
    "    did_pd=did_pd.drop(i)"
   ]
  },
  {
   "cell_type": "code",
   "execution_count": 337,
   "metadata": {},
   "outputs": [],
   "source": [
    "did_pd.to_stata('/data4/liveuamap/S_did_mt_c4.dta')"
   ]
  },
  {
   "cell_type": "code",
   "execution_count": 347,
   "metadata": {},
   "outputs": [
    {
     "data": {
      "text/plain": [
       "['20120531',\n",
       " '20120531',\n",
       " '20120829',\n",
       " '20130309',\n",
       " '20130926',\n",
       " '20131031',\n",
       " '20140403',\n",
       " '20140421']"
      ]
     },
     "execution_count": 347,
     "metadata": {},
     "output_type": "execute_result"
    }
   ],
   "source": [
    "liveuamap_point.iloc[0]['img_dates'].split('&')"
   ]
  },
  {
   "cell_type": "code",
   "execution_count": 342,
   "metadata": {},
   "outputs": [
    {
     "data": {
      "text/plain": [
       "['/ssd/hk/Syria_samples/samples_enhance_v2/pre/Hama_enhance-A-B-1_072065.png',\n",
       " '/ssd/hk/Syria_samples/samples_enhance_v2/post/Hama_enhance-A-B-1_072065.png',\n",
       " '/ssd/hk/Syria_samples/samples_enhance_v2/post/Hama_enhance-A-B-2_072065.png',\n",
       " '/ssd/hk/Syria_samples/samples_enhance_v2/post/Hama_enhance-A-B-3_072065.png',\n",
       " '/ssd/hk/Syria_samples/samples_v2/post/Hama_B_072065.png',\n",
       " '/ssd/hk/Syria_samples/samples_enhance_v2/post/Hama_enhance-B-C-1_072065.png',\n",
       " '/ssd/hk/Syria_samples/samples_v2/post/Hama_C_072065.png',\n",
       " '/ssd/hk/Syria_samples/samples_enhance_v2/post/Hama_enhance-C-D-1_072065.png',\n",
       " '/ssd/hk/Syria_samples/samples_enhance_v2/post/Hama_enhance-C-D-2_072065.png',\n",
       " '/ssd/hk/Syria_samples/samples_enhance_v2/post/Hama_enhance-C-D-3_072065.png',\n",
       " '/ssd/hk/Syria_samples/samples_enhance_v2/post/Hama_enhance-C-D-4_072065.png',\n",
       " '/ssd/hk/Syria_samples/samples_enhance_v2/post/Hama_enhance-C-D-5_072065.png',\n",
       " '/ssd/hk/Syria_samples/samples_enhance_v2/post/Hama_enhance-C-D-6_072065.png']"
      ]
     },
     "execution_count": 342,
     "metadata": {},
     "output_type": "execute_result"
    }
   ],
   "source": [
    "path_post"
   ]
  },
  {
   "cell_type": "code",
   "execution_count": 343,
   "metadata": {},
   "outputs": [],
   "source": [
    "\n",
    "labels_v=[1]*len(path_post)\n",
    "zeros_img_len=20-len(path_post)\n",
    "path_post+=[None]*zeros_img_len\n",
    "labels_v+=[-1]*zeros_img_len\n",
    "path_pre=path_post[0].replace('/post/','/pre/')\n",
    "img_pre=imageio.imread(path_pre).transpose(2,0,1)\n",
    "imgs=[cat(img_pre,imageio.imread(post).transpose(2,0,1)) if post is not None else np.zeros((6,120,120)) for post in path_post]\n",
    "data=np.concatenate(imgs,axis=0)\n",
    "labels_v=torch.tensor(labels_v)\n",
    "input=[data,labels_v]\n",
    "input[0]=torch.Tensor(input[0])\n",
    "output=model(torch.Tensor(input[0]).unsqueeze(0).cuda())\n",
    "# print('feature1 shape:',feature1.shape)\n",
    "# print('feature2 shape:',feature2.shape)\n",
    "ll=input[1].cpu().numpy()\n",
    "pp=torch.argmax(output,dim=2)[0].cpu().numpy()\n",
    "pre_result=torch.argmax(output,dim=2)[0].cpu().numpy()[:20-zeros_img_len]\n",
    "softmax_0 = nn.Softmax(dim=1)\n",
    "output_softmax=softmax_0(output[0])[:,1].cpu().detach().numpy()[:20-zeros_img_len]"
   ]
  },
  {
   "cell_type": "code",
   "execution_count": 344,
   "metadata": {},
   "outputs": [
    {
     "data": {
      "text/plain": [
       "['/ssd/hk/Syria_samples/samples_enhance_v2/pre/Hama_enhance-A-B-1_072065.png',\n",
       " '/ssd/hk/Syria_samples/samples_enhance_v2/post/Hama_enhance-A-B-1_072065.png',\n",
       " '/ssd/hk/Syria_samples/samples_enhance_v2/post/Hama_enhance-A-B-2_072065.png',\n",
       " '/ssd/hk/Syria_samples/samples_enhance_v2/post/Hama_enhance-A-B-3_072065.png',\n",
       " '/ssd/hk/Syria_samples/samples_v2/post/Hama_B_072065.png',\n",
       " '/ssd/hk/Syria_samples/samples_enhance_v2/post/Hama_enhance-B-C-1_072065.png',\n",
       " '/ssd/hk/Syria_samples/samples_v2/post/Hama_C_072065.png',\n",
       " '/ssd/hk/Syria_samples/samples_enhance_v2/post/Hama_enhance-C-D-1_072065.png',\n",
       " '/ssd/hk/Syria_samples/samples_enhance_v2/post/Hama_enhance-C-D-2_072065.png',\n",
       " '/ssd/hk/Syria_samples/samples_enhance_v2/post/Hama_enhance-C-D-3_072065.png',\n",
       " '/ssd/hk/Syria_samples/samples_enhance_v2/post/Hama_enhance-C-D-4_072065.png',\n",
       " '/ssd/hk/Syria_samples/samples_enhance_v2/post/Hama_enhance-C-D-5_072065.png',\n",
       " '/ssd/hk/Syria_samples/samples_enhance_v2/post/Hama_enhance-C-D-6_072065.png',\n",
       " None,\n",
       " None,\n",
       " None,\n",
       " None,\n",
       " None,\n",
       " None,\n",
       " None]"
      ]
     },
     "execution_count": 344,
     "metadata": {},
     "output_type": "execute_result"
    }
   ],
   "source": [
    "path_post"
   ]
  },
  {
   "cell_type": "code",
   "execution_count": 345,
   "metadata": {},
   "outputs": [
    {
     "data": {
      "text/plain": [
       "'/ssd/hk/Syria_samples/samples_enhance_v2/pre/Hama_enhance-A-B-1_072065.png'"
      ]
     },
     "execution_count": 345,
     "metadata": {},
     "output_type": "execute_result"
    }
   ],
   "source": [
    "path_pre"
   ]
  },
  {
   "cell_type": "code",
   "execution_count": 3,
   "metadata": {},
   "outputs": [],
   "source": [
    "import geopandas as gpd\n",
    "all_liveuamap=gpd.read_file('/data4/liveuamap/S_did_mt_c3.shp')"
   ]
  },
  {
   "cell_type": "code",
   "execution_count": 5,
   "metadata": {},
   "outputs": [
    {
     "data": {
      "text/html": [
       "<div>\n",
       "<style scoped>\n",
       "    .dataframe tbody tr th:only-of-type {\n",
       "        vertical-align: middle;\n",
       "    }\n",
       "\n",
       "    .dataframe tbody tr th {\n",
       "        vertical-align: top;\n",
       "    }\n",
       "\n",
       "    .dataframe thead th {\n",
       "        text-align: right;\n",
       "    }\n",
       "</style>\n",
       "<table border=\"1\" class=\"dataframe\">\n",
       "  <thead>\n",
       "    <tr style=\"text-align: right;\">\n",
       "      <th></th>\n",
       "      <th>id</th>\n",
       "      <th>time</th>\n",
       "      <th>timestamp</th>\n",
       "      <th>type</th>\n",
       "      <th>name</th>\n",
       "      <th>is_use</th>\n",
       "      <th>region</th>\n",
       "      <th>lat</th>\n",
       "      <th>lon</th>\n",
       "      <th>patch_x</th>\n",
       "      <th>patch_y</th>\n",
       "      <th>img_path</th>\n",
       "      <th>img_dates</th>\n",
       "      <th>MTCF-PtNet</th>\n",
       "      <th>MTCF-sm</th>\n",
       "      <th>interv</th>\n",
       "      <th>geometry</th>\n",
       "    </tr>\n",
       "  </thead>\n",
       "  <tbody>\n",
       "    <tr>\n",
       "      <th>0</th>\n",
       "      <td>21199999</td>\n",
       "      <td>2014-12-27 17:40:00</td>\n",
       "      <td>1419673200</td>\n",
       "      <td>bomb-1</td>\n",
       "      <td>#Assad regime artillery targets a residential ...</td>\n",
       "      <td>1</td>\n",
       "      <td>Homs</td>\n",
       "      <td>34.73083</td>\n",
       "      <td>36.70944</td>\n",
       "      <td>68</td>\n",
       "      <td>55</td>\n",
       "      <td>/ssd/hk/Syria_samples/samples_enhance_v2/pre/H...</td>\n",
       "      <td>20120531&amp;20120531&amp;20120829&amp;20130309&amp;20130926&amp;2...</td>\n",
       "      <td>0&amp;0&amp;0&amp;0&amp;0&amp;0&amp;0&amp;0</td>\n",
       "      <td>3.8361602e-05&amp;7.5894554e-06&amp;0.00011990392&amp;2.70...</td>\n",
       "      <td>1</td>\n",
       "      <td>POINT (36.70944 34.73083)</td>\n",
       "    </tr>\n",
       "    <tr>\n",
       "      <th>1</th>\n",
       "      <td>21321405</td>\n",
       "      <td>2016-05-31 23:08:00</td>\n",
       "      <td>1464707280</td>\n",
       "      <td>bomb-1</td>\n",
       "      <td>Airstrikes on Lataminah in Hama</td>\n",
       "      <td>1</td>\n",
       "      <td>Homs</td>\n",
       "      <td>34.73243</td>\n",
       "      <td>36.71370</td>\n",
       "      <td>74</td>\n",
       "      <td>52</td>\n",
       "      <td>/ssd/hk/Syria_samples/samples_enhance_v2/pre/H...</td>\n",
       "      <td>20120531&amp;20120531&amp;20120829&amp;20130309&amp;20130926&amp;2...</td>\n",
       "      <td>0&amp;0&amp;0&amp;0&amp;0&amp;0&amp;0&amp;0</td>\n",
       "      <td>8.900909e-05&amp;1.2008491e-05&amp;0.00022514656&amp;9.146...</td>\n",
       "      <td>1</td>\n",
       "      <td>POINT (36.71370 34.73243)</td>\n",
       "    </tr>\n",
       "    <tr>\n",
       "      <th>2</th>\n",
       "      <td>21405736</td>\n",
       "      <td>2017-02-17 18:40:00</td>\n",
       "      <td>1487328000</td>\n",
       "      <td>bomb-1</td>\n",
       "      <td>Video from Al Waer district of Homs as Russian...</td>\n",
       "      <td>1</td>\n",
       "      <td>Homs</td>\n",
       "      <td>34.73243</td>\n",
       "      <td>36.71370</td>\n",
       "      <td>74</td>\n",
       "      <td>52</td>\n",
       "      <td>/ssd/hk/Syria_samples/samples_enhance_v2/pre/H...</td>\n",
       "      <td>20120531&amp;20120531&amp;20120829&amp;20130309&amp;20130926&amp;2...</td>\n",
       "      <td>0&amp;0&amp;0&amp;0&amp;0&amp;0&amp;0&amp;0</td>\n",
       "      <td>8.900909e-05&amp;1.2008491e-05&amp;0.00022514656&amp;9.146...</td>\n",
       "      <td>1</td>\n",
       "      <td>POINT (36.71370 34.73243)</td>\n",
       "    </tr>\n",
       "    <tr>\n",
       "      <th>3</th>\n",
       "      <td>21243220</td>\n",
       "      <td>2015-01-23 21:10:00</td>\n",
       "      <td>1422018600</td>\n",
       "      <td>bomb-2</td>\n",
       "      <td>The revolutionary forces targeted the regime t...</td>\n",
       "      <td>1</td>\n",
       "      <td>Homs</td>\n",
       "      <td>34.73075</td>\n",
       "      <td>36.70936</td>\n",
       "      <td>68</td>\n",
       "      <td>55</td>\n",
       "      <td>/ssd/hk/Syria_samples/samples_enhance_v2/pre/H...</td>\n",
       "      <td>20120531&amp;20120531&amp;20120829&amp;20130309&amp;20130926&amp;2...</td>\n",
       "      <td>0&amp;0&amp;0&amp;0&amp;0&amp;0&amp;0&amp;0</td>\n",
       "      <td>3.8361602e-05&amp;7.5894554e-06&amp;0.00011990392&amp;2.70...</td>\n",
       "      <td>1</td>\n",
       "      <td>POINT (36.70936 34.73075)</td>\n",
       "    </tr>\n",
       "    <tr>\n",
       "      <th>4</th>\n",
       "      <td>21243064</td>\n",
       "      <td>2015-01-22 19:36:00</td>\n",
       "      <td>1421926560</td>\n",
       "      <td>bomb-2</td>\n",
       "      <td>The FSA targeted the regime troops checkpoints...</td>\n",
       "      <td>1</td>\n",
       "      <td>Homs</td>\n",
       "      <td>34.73043</td>\n",
       "      <td>36.71082</td>\n",
       "      <td>70</td>\n",
       "      <td>55</td>\n",
       "      <td>/ssd/hk/Syria_samples/samples_enhance_v2/pre/H...</td>\n",
       "      <td>20120531&amp;20120531&amp;20120829&amp;20130309&amp;20130926&amp;2...</td>\n",
       "      <td>0&amp;0&amp;0&amp;0&amp;0&amp;0&amp;0&amp;0</td>\n",
       "      <td>0.00030511845&amp;4.9528e-05&amp;0.00022399718&amp;1.00123...</td>\n",
       "      <td>1</td>\n",
       "      <td>POINT (36.71082 34.73043)</td>\n",
       "    </tr>\n",
       "    <tr>\n",
       "      <th>...</th>\n",
       "      <td>...</td>\n",
       "      <td>...</td>\n",
       "      <td>...</td>\n",
       "      <td>...</td>\n",
       "      <td>...</td>\n",
       "      <td>...</td>\n",
       "      <td>...</td>\n",
       "      <td>...</td>\n",
       "      <td>...</td>\n",
       "      <td>...</td>\n",
       "      <td>...</td>\n",
       "      <td>...</td>\n",
       "      <td>...</td>\n",
       "      <td>...</td>\n",
       "      <td>...</td>\n",
       "      <td>...</td>\n",
       "      <td>...</td>\n",
       "    </tr>\n",
       "    <tr>\n",
       "      <th>79977</th>\n",
       "      <td>-79037</td>\n",
       "      <td>0</td>\n",
       "      <td>0</td>\n",
       "      <td>none</td>\n",
       "      <td>none</td>\n",
       "      <td>1</td>\n",
       "      <td>Hama</td>\n",
       "      <td>0.00000</td>\n",
       "      <td>0.00000</td>\n",
       "      <td>19</td>\n",
       "      <td>26</td>\n",
       "      <td>/ssd/hk/Syria_samples/samples_enhance_v2/pre/H...</td>\n",
       "      <td>20120921&amp;20120921&amp;20130309&amp;20130827&amp;20130926&amp;2...</td>\n",
       "      <td>0&amp;0&amp;0&amp;0&amp;0&amp;0&amp;0&amp;0&amp;0&amp;0&amp;0&amp;0&amp;0</td>\n",
       "      <td>0.0035164508&amp;0.00034203345&amp;3.791437e-05&amp;8.2971...</td>\n",
       "      <td>0</td>\n",
       "      <td>POINT (0.00000 0.00000)</td>\n",
       "    </tr>\n",
       "    <tr>\n",
       "      <th>79978</th>\n",
       "      <td>-79038</td>\n",
       "      <td>0</td>\n",
       "      <td>0</td>\n",
       "      <td>none</td>\n",
       "      <td>none</td>\n",
       "      <td>1</td>\n",
       "      <td>Hama</td>\n",
       "      <td>0.00000</td>\n",
       "      <td>0.00000</td>\n",
       "      <td>63</td>\n",
       "      <td>89</td>\n",
       "      <td>/ssd/hk/Syria_samples/samples_enhance_v2/pre/H...</td>\n",
       "      <td>20120921&amp;20120921&amp;20130309&amp;20130827&amp;20130926&amp;2...</td>\n",
       "      <td>0&amp;0&amp;0&amp;0&amp;0&amp;0&amp;0&amp;0&amp;0&amp;0&amp;0&amp;0&amp;0</td>\n",
       "      <td>0.24160022&amp;0.041354924&amp;0.00041384518&amp;4.2015226...</td>\n",
       "      <td>0</td>\n",
       "      <td>POINT (0.00000 0.00000)</td>\n",
       "    </tr>\n",
       "    <tr>\n",
       "      <th>79979</th>\n",
       "      <td>-79039</td>\n",
       "      <td>0</td>\n",
       "      <td>0</td>\n",
       "      <td>none</td>\n",
       "      <td>none</td>\n",
       "      <td>1</td>\n",
       "      <td>Hama</td>\n",
       "      <td>0.00000</td>\n",
       "      <td>0.00000</td>\n",
       "      <td>47</td>\n",
       "      <td>112</td>\n",
       "      <td>/ssd/hk/Syria_samples/samples_enhance_v2/pre/H...</td>\n",
       "      <td>20120921&amp;20120921&amp;20130309&amp;20130827&amp;20130926&amp;2...</td>\n",
       "      <td>0&amp;0&amp;0&amp;0&amp;0&amp;0&amp;0&amp;0&amp;0&amp;0&amp;0&amp;0&amp;0</td>\n",
       "      <td>0.00017141702&amp;3.0933636e-05&amp;4.2089418e-05&amp;2.48...</td>\n",
       "      <td>0</td>\n",
       "      <td>POINT (0.00000 0.00000)</td>\n",
       "    </tr>\n",
       "    <tr>\n",
       "      <th>79980</th>\n",
       "      <td>-79040</td>\n",
       "      <td>0</td>\n",
       "      <td>0</td>\n",
       "      <td>none</td>\n",
       "      <td>none</td>\n",
       "      <td>1</td>\n",
       "      <td>Hama</td>\n",
       "      <td>0.00000</td>\n",
       "      <td>0.00000</td>\n",
       "      <td>50</td>\n",
       "      <td>136</td>\n",
       "      <td>/ssd/hk/Syria_samples/samples_enhance_v2/pre/H...</td>\n",
       "      <td>20120921&amp;20120921&amp;20130309&amp;20130827&amp;20130926&amp;2...</td>\n",
       "      <td>0&amp;0&amp;0&amp;0&amp;0&amp;0&amp;0&amp;0&amp;0&amp;0&amp;0&amp;0&amp;0</td>\n",
       "      <td>0.022492489&amp;0.0047461954&amp;0.00046552892&amp;1.80827...</td>\n",
       "      <td>0</td>\n",
       "      <td>POINT (0.00000 0.00000)</td>\n",
       "    </tr>\n",
       "    <tr>\n",
       "      <th>79981</th>\n",
       "      <td>-79041</td>\n",
       "      <td>0</td>\n",
       "      <td>0</td>\n",
       "      <td>none</td>\n",
       "      <td>none</td>\n",
       "      <td>1</td>\n",
       "      <td>Hama</td>\n",
       "      <td>0.00000</td>\n",
       "      <td>0.00000</td>\n",
       "      <td>32</td>\n",
       "      <td>78</td>\n",
       "      <td>/ssd/hk/Syria_samples/samples_enhance_v2/pre/H...</td>\n",
       "      <td>20120921&amp;20120921&amp;20130309&amp;20130827&amp;20130926&amp;2...</td>\n",
       "      <td>0&amp;0&amp;0&amp;0&amp;0&amp;0&amp;0&amp;0&amp;0&amp;0&amp;0&amp;0&amp;0</td>\n",
       "      <td>0.115595676&amp;0.0045907684&amp;9.121288e-05&amp;3.589830...</td>\n",
       "      <td>0</td>\n",
       "      <td>POINT (0.00000 0.00000)</td>\n",
       "    </tr>\n",
       "  </tbody>\n",
       "</table>\n",
       "<p>79982 rows × 17 columns</p>\n",
       "</div>"
      ],
      "text/plain": [
       "             id                 time   timestamp    type  \\\n",
       "0      21199999  2014-12-27 17:40:00  1419673200  bomb-1   \n",
       "1      21321405  2016-05-31 23:08:00  1464707280  bomb-1   \n",
       "2      21405736  2017-02-17 18:40:00  1487328000  bomb-1   \n",
       "3      21243220  2015-01-23 21:10:00  1422018600  bomb-2   \n",
       "4      21243064  2015-01-22 19:36:00  1421926560  bomb-2   \n",
       "...         ...                  ...         ...     ...   \n",
       "79977    -79037                    0           0    none   \n",
       "79978    -79038                    0           0    none   \n",
       "79979    -79039                    0           0    none   \n",
       "79980    -79040                    0           0    none   \n",
       "79981    -79041                    0           0    none   \n",
       "\n",
       "                                                    name  is_use region  \\\n",
       "0      #Assad regime artillery targets a residential ...       1   Homs   \n",
       "1                        Airstrikes on Lataminah in Hama       1   Homs   \n",
       "2      Video from Al Waer district of Homs as Russian...       1   Homs   \n",
       "3      The revolutionary forces targeted the regime t...       1   Homs   \n",
       "4      The FSA targeted the regime troops checkpoints...       1   Homs   \n",
       "...                                                  ...     ...    ...   \n",
       "79977                                               none       1   Hama   \n",
       "79978                                               none       1   Hama   \n",
       "79979                                               none       1   Hama   \n",
       "79980                                               none       1   Hama   \n",
       "79981                                               none       1   Hama   \n",
       "\n",
       "            lat       lon  patch_x  patch_y  \\\n",
       "0      34.73083  36.70944       68       55   \n",
       "1      34.73243  36.71370       74       52   \n",
       "2      34.73243  36.71370       74       52   \n",
       "3      34.73075  36.70936       68       55   \n",
       "4      34.73043  36.71082       70       55   \n",
       "...         ...       ...      ...      ...   \n",
       "79977   0.00000   0.00000       19       26   \n",
       "79978   0.00000   0.00000       63       89   \n",
       "79979   0.00000   0.00000       47      112   \n",
       "79980   0.00000   0.00000       50      136   \n",
       "79981   0.00000   0.00000       32       78   \n",
       "\n",
       "                                                img_path  \\\n",
       "0      /ssd/hk/Syria_samples/samples_enhance_v2/pre/H...   \n",
       "1      /ssd/hk/Syria_samples/samples_enhance_v2/pre/H...   \n",
       "2      /ssd/hk/Syria_samples/samples_enhance_v2/pre/H...   \n",
       "3      /ssd/hk/Syria_samples/samples_enhance_v2/pre/H...   \n",
       "4      /ssd/hk/Syria_samples/samples_enhance_v2/pre/H...   \n",
       "...                                                  ...   \n",
       "79977  /ssd/hk/Syria_samples/samples_enhance_v2/pre/H...   \n",
       "79978  /ssd/hk/Syria_samples/samples_enhance_v2/pre/H...   \n",
       "79979  /ssd/hk/Syria_samples/samples_enhance_v2/pre/H...   \n",
       "79980  /ssd/hk/Syria_samples/samples_enhance_v2/pre/H...   \n",
       "79981  /ssd/hk/Syria_samples/samples_enhance_v2/pre/H...   \n",
       "\n",
       "                                               img_dates  \\\n",
       "0      20120531&20120531&20120829&20130309&20130926&2...   \n",
       "1      20120531&20120531&20120829&20130309&20130926&2...   \n",
       "2      20120531&20120531&20120829&20130309&20130926&2...   \n",
       "3      20120531&20120531&20120829&20130309&20130926&2...   \n",
       "4      20120531&20120531&20120829&20130309&20130926&2...   \n",
       "...                                                  ...   \n",
       "79977  20120921&20120921&20130309&20130827&20130926&2...   \n",
       "79978  20120921&20120921&20130309&20130827&20130926&2...   \n",
       "79979  20120921&20120921&20130309&20130827&20130926&2...   \n",
       "79980  20120921&20120921&20130309&20130827&20130926&2...   \n",
       "79981  20120921&20120921&20130309&20130827&20130926&2...   \n",
       "\n",
       "                      MTCF-PtNet  \\\n",
       "0                0&0&0&0&0&0&0&0   \n",
       "1                0&0&0&0&0&0&0&0   \n",
       "2                0&0&0&0&0&0&0&0   \n",
       "3                0&0&0&0&0&0&0&0   \n",
       "4                0&0&0&0&0&0&0&0   \n",
       "...                          ...   \n",
       "79977  0&0&0&0&0&0&0&0&0&0&0&0&0   \n",
       "79978  0&0&0&0&0&0&0&0&0&0&0&0&0   \n",
       "79979  0&0&0&0&0&0&0&0&0&0&0&0&0   \n",
       "79980  0&0&0&0&0&0&0&0&0&0&0&0&0   \n",
       "79981  0&0&0&0&0&0&0&0&0&0&0&0&0   \n",
       "\n",
       "                                                 MTCF-sm  interv  \\\n",
       "0      3.8361602e-05&7.5894554e-06&0.00011990392&2.70...       1   \n",
       "1      8.900909e-05&1.2008491e-05&0.00022514656&9.146...       1   \n",
       "2      8.900909e-05&1.2008491e-05&0.00022514656&9.146...       1   \n",
       "3      3.8361602e-05&7.5894554e-06&0.00011990392&2.70...       1   \n",
       "4      0.00030511845&4.9528e-05&0.00022399718&1.00123...       1   \n",
       "...                                                  ...     ...   \n",
       "79977  0.0035164508&0.00034203345&3.791437e-05&8.2971...       0   \n",
       "79978  0.24160022&0.041354924&0.00041384518&4.2015226...       0   \n",
       "79979  0.00017141702&3.0933636e-05&4.2089418e-05&2.48...       0   \n",
       "79980  0.022492489&0.0047461954&0.00046552892&1.80827...       0   \n",
       "79981  0.115595676&0.0045907684&9.121288e-05&3.589830...       0   \n",
       "\n",
       "                        geometry  \n",
       "0      POINT (36.70944 34.73083)  \n",
       "1      POINT (36.71370 34.73243)  \n",
       "2      POINT (36.71370 34.73243)  \n",
       "3      POINT (36.70936 34.73075)  \n",
       "4      POINT (36.71082 34.73043)  \n",
       "...                          ...  \n",
       "79977    POINT (0.00000 0.00000)  \n",
       "79978    POINT (0.00000 0.00000)  \n",
       "79979    POINT (0.00000 0.00000)  \n",
       "79980    POINT (0.00000 0.00000)  \n",
       "79981    POINT (0.00000 0.00000)  \n",
       "\n",
       "[79982 rows x 17 columns]"
      ]
     },
     "execution_count": 5,
     "metadata": {},
     "output_type": "execute_result"
    }
   ],
   "source": [
    "all_liveuamap"
   ]
  },
  {
   "cell_type": "code",
   "execution_count": 7,
   "metadata": {},
   "outputs": [
    {
     "name": "stderr",
     "output_type": "stream",
     "text": [
      "100%|██████████| 7327/7327 [00:00<00:00, 10779.89it/s]\n",
      "/home/hk/miniconda3/envs/pythonhzy/lib/python3.7/site-packages/geopandas/geodataframe.py:1322: SettingWithCopyWarning: \n",
      "A value is trying to be set on a copy of a slice from a DataFrame.\n",
      "Try using .loc[row_indexer,col_indexer] = value instead\n",
      "\n",
      "See the caveats in the documentation: https://pandas.pydata.org/pandas-docs/stable/user_guide/indexing.html#returning-a-view-versus-a-copy\n",
      "  super(GeoDataFrame, self).__setitem__(key, value)\n",
      "100%|██████████| 2585/2585 [00:00<00:00, 10468.75it/s]\n",
      "100%|██████████| 9654/9654 [00:00<00:00, 11063.53it/s]\n",
      "100%|██████████| 11894/11894 [00:01<00:00, 9110.05it/s]\n",
      "100%|██████████| 41989/41989 [00:04<00:00, 10035.52it/s]\n",
      "100%|██████████| 6533/6533 [00:00<00:00, 8382.47it/s] \n"
     ]
    }
   ],
   "source": [
    "import gdal\n",
    "import numpy as np\n",
    "import pandas as pd\n",
    "import os\n",
    "import geopandas as gpd\n",
    "import matplotlib.pyplot as plt\n",
    "import torch\n",
    "from glob import glob\n",
    "import shapely\n",
    "import random\n",
    "from tqdm import tqdm\n",
    "from collections import Counter\n",
    "from pybob.GeoImg import GeoImg\n",
    "import osr\n",
    "from pybob.image_tools import create_mask_from_shapefile\n",
    "import gc\n",
    "import imageio\n",
    "import time\n",
    "import shutil\n",
    "import torch\n",
    "def to_str(l):\n",
    "    ll=[]\n",
    "    for i in l:\n",
    "        ii=list(i)\n",
    "        k=''\n",
    "        for j in ii:\n",
    "            k+='&'\n",
    "            k+=str(j)\n",
    "        ll.append(k[1:])\n",
    "    return ll\n",
    "\n",
    "def to_timestamp(t):\n",
    "    if not len(t)==8:\n",
    "        raise('time length error')\n",
    "    t=f'{t[:4]}-{t[4:6]}-{t[6:]}'\n",
    "    struct_time=time.strptime(t,'%Y-%m-%d')\n",
    "    return time.mktime(struct_time)\n",
    "all_liveuamap=gpd.read_file('/data4/liveuamap/S_did_mt_c3.shp')\n",
    "cities=list(set(all_liveuamap['region']))\n",
    "cubes={}\n",
    "c_pd=[]\n",
    "for c in cities:\n",
    "    all_liveuamap_c=all_liveuamap[all_liveuamap['region']==c]\n",
    "    date_all=list(set(all_liveuamap_c['img_dates']))\n",
    "    dates_c=[]\n",
    "    for i in date_all:\n",
    "        dates_c+=i.split('&')\n",
    "    dates_c=list(set(dates_c))\n",
    "    dates_c.sort()\n",
    "    x=np.array(all_liveuamap_c['patch_x']).max()+2\n",
    "    y=np.array(all_liveuamap_c['patch_y']).max()+2\n",
    "    cube_c_mt=np.ones((len(dates_c),y,x))*-1\n",
    "    vs_interp_s=[]\n",
    "    vcs_interp_s=[]\n",
    "    for i in tqdm(range(len(all_liveuamap_c))):\n",
    "        s=all_liveuamap_c.iloc[i]\n",
    "        vs=[np.float(i) for i in s['MTCF-sm'].split('&')]\n",
    "        ds=list(s['img_dates'].split('&'))\n",
    "        vs_interp=[0 if i not in ds else vs[ds.index(i)] for i in dates_c]\n",
    "        vs_interp_s.append(vs_interp)\n",
    "        vcs_interp=[0 if i <=0.5 else 1 for i in vs_interp]\n",
    "        vcs_interp_s.append(vcs_interp)\n",
    "        cube_c_mt[:,s['patch_y'],s['patch_x']]=np.array(vs_interp)\n",
    "    cube_c=cube_c_mt.copy()\n",
    "    cube_c[cube_c>0.5]=1\n",
    "    cube_c[(cube_c<=0.5)&(cube_c>=0)]=0\n",
    "    cubes[c]=[dates_c,cube_c,cube_c_mt]\n",
    "    all_liveuamap_c['MTCF-PtNet']=to_str(vcs_interp_s)\n",
    "    all_liveuamap_c['MTCF-sm']=to_str(vs_interp_s)\n",
    "    all_liveuamap_c['img_dates']=to_str([dates_c]*len(all_liveuamap_c))\n",
    "    c_pd.append(all_liveuamap_c)\n",
    "all_liveuamap=pd.concat(c_pd,axis=0)"
   ]
  },
  {
   "cell_type": "code",
   "execution_count": 11,
   "metadata": {},
   "outputs": [
    {
     "name": "stderr",
     "output_type": "stream",
     "text": [
      "100%|██████████| 79982/79982 [01:12<00:00, 1109.65it/s]\n"
     ]
    }
   ],
   "source": [
    "did_pd_list=[]\n",
    "for i in tqdm(range(len(all_liveuamap))):\n",
    "    s=all_liveuamap.iloc[i]\n",
    "    rs=[np.float(i) for i in s['MTCF-sm'].split('&')]\n",
    "    rsc=[np.int(i) for i in s['MTCF-PtNet'].split('&')]\n",
    "    x=[np.int(i) for i in [s['patch_x']]*len(s['MTCF-PtNet'].split('&'))]\n",
    "    y=[np.int(i) for i in [s['patch_y']]*len(s['MTCF-PtNet'].split('&'))]\n",
    "    regions=[cities.index(s['region'])]*len(rsc)\n",
    "    events=[s['timestamp']]*len(rsc)\n",
    "    ids=[s['id']]*len(rsc)\n",
    "    intervs=[s['interv']]*len(rsc)\n",
    "\n",
    "    ts=[to_timestamp(i) for i in s['img_dates'].split('&')]\n",
    "    # if intervs[0]==0:\n",
    "    #     res=[-99]*len(rsc)\n",
    "    # else:\n",
    "    #     res=get_res(events[0],ts)\n",
    "    did_pd_list.append(pd.DataFrame.from_dict({'id':ids,\n",
    "                                                'time':ts,\n",
    "                                                'interv_time':events,\n",
    "                                                # 'period_difference':res,\n",
    "                                                'value':rs,\n",
    "                                                'value_c':rsc,\n",
    "                                                'is_interv':intervs,\n",
    "                                                'region':regions,\n",
    "                                                'x':x,\n",
    "                                                'y':y\n",
    "                                                }))\n",
    "did_pd=pd.concat(did_pd_list)"
   ]
  },
  {
   "cell_type": "code",
   "execution_count": 20,
   "metadata": {},
   "outputs": [
    {
     "name": "stdout",
     "output_type": "stream",
     "text": [
      "1\n",
      "2\n",
      "3\n"
     ]
    }
   ],
   "source": [
    "did_pd['time_period']=[int(int(i)/7776000)-172 for i in list(did_pd['time'])]\n",
    "print(1)\n",
    "did_pd['interv_time_period']=[int(int(i)/7776000)-172 for i in list(did_pd['interv_time'])]\n",
    "print(2)\n",
    "did_pd['period_difference']=list(np.array(did_pd['time_period'])-np.array(did_pd['interv_time_period']))\n",
    "print(3)\n",
    "did_pd.loc[did_pd['is_interv']==0,'interv_time_period']=-99\n",
    "did_pd.loc[did_pd['is_interv']==0,'period_difference']=-99\n",
    "did_pd['interv_time']=[int(i) for i in list(did_pd['interv_time'])]"
   ]
  },
  {
   "cell_type": "code",
   "execution_count": 12,
   "metadata": {},
   "outputs": [],
   "source": [
    "all_liveuamap.to_file('/data4/liveuamap/S_did_mt_c4.shp')\n",
    "did_pd.to_stata('/data4/liveuamap/S_did_mt_c4.dta')"
   ]
  },
  {
   "cell_type": "code",
   "execution_count": 2,
   "metadata": {},
   "outputs": [],
   "source": [
    "import torch\n",
    "ss=torch.load(f'/ssd/hk/Syria_samples/split_havedamaged_size120_all_v3/val.pth')"
   ]
  },
  {
   "cell_type": "code",
   "execution_count": null,
   "metadata": {},
   "outputs": [],
   "source": []
  },
  {
   "cell_type": "code",
   "execution_count": 8,
   "metadata": {},
   "outputs": [
    {
     "name": "stdout",
     "output_type": "stream",
     "text": [
      "[['/ssd/hk/Syria_samples/samples_enhance_v2/pre/Aleppo_enhance-A-B-1_180441.png', '/ssd/hk/Syria_samples/samples_enhance_v2/post/Aleppo_enhance-A-B-1_180441.png', '/ssd/hk/Syria_samples/samples_enhance_v2/post/Aleppo_enhance-A-B-2_180441.png', '/ssd/hk/Syria_samples/samples_enhance_v2/post/Aleppo_enhance-A-B-3_180441.png', '/ssd/hk/Syria_samples/samples_v2/post/Aleppo_B_180441.png', '/ssd/hk/Syria_samples/samples_enhance_v2/post/Aleppo_enhance-B-C-1_180441.png', '/ssd/hk/Syria_samples/samples_enhance_v2/post/Aleppo_enhance-B-C-2_180441.png', '/ssd/hk/Syria_samples/samples_enhance_v2/post/Aleppo_enhance-B-C-3_180441.png', '/ssd/hk/Syria_samples/samples_v2/post/Aleppo_C_180441.png', '/ssd/hk/Syria_samples/samples_enhance_v2/post/Aleppo_enhance-C-D-1_180441.png', '/ssd/hk/Syria_samples/samples_enhance_v2/post/Aleppo_enhance-C-D-2_180441.png', '/ssd/hk/Syria_samples/samples_enhance_v2/post/Aleppo_enhance-C-D-3_180441.png', '/ssd/hk/Syria_samples/samples_v2/post/Aleppo_D_180441.png', '/ssd/hk/Syria_samples/samples_enhance_v2/post/Aleppo_enhance-D-E-1_180441.png', '/ssd/hk/Syria_samples/samples_enhance_v2/post/Aleppo_enhance-D-E-2_180441.png', '/ssd/hk/Syria_samples/samples_enhance_v2/post/Aleppo_enhance-D-E-3_180441.png', '/ssd/hk/Syria_samples/samples_v2/post/Aleppo_E_180441.png'], ['n', 'n', 'n', 'n', 'n', 'n', 'n', 'n', 'n', 'n', 'n', 'n', 'n', 'n', 'n', 'n', 'n']]\n"
     ]
    },
    {
     "ename": "TypeError",
     "evalue": "exceptions must derive from BaseException",
     "output_type": "error",
     "traceback": [
      "\u001b[0;31m---------------------------------------------------------------------------\u001b[0m",
      "\u001b[0;31mTypeError\u001b[0m                                 Traceback (most recent call last)",
      "\u001b[0;32m/tmp/ipykernel_1776/2582279574.py\u001b[0m in \u001b[0;36m<module>\u001b[0;34m\u001b[0m\n\u001b[1;32m      2\u001b[0m     \u001b[0;32mif\u001b[0m \u001b[0mlen\u001b[0m\u001b[0;34m(\u001b[0m\u001b[0mi\u001b[0m\u001b[0;34m[\u001b[0m\u001b[0;36m0\u001b[0m\u001b[0;34m]\u001b[0m\u001b[0;34m)\u001b[0m\u001b[0;34m>\u001b[0m\u001b[0;36m16\u001b[0m\u001b[0;34m:\u001b[0m\u001b[0;34m\u001b[0m\u001b[0;34m\u001b[0m\u001b[0m\n\u001b[1;32m      3\u001b[0m         \u001b[0mprint\u001b[0m\u001b[0;34m(\u001b[0m\u001b[0mi\u001b[0m\u001b[0;34m)\u001b[0m\u001b[0;34m\u001b[0m\u001b[0;34m\u001b[0m\u001b[0m\n\u001b[0;32m----> 4\u001b[0;31m         \u001b[0;32mraise\u001b[0m\u001b[0;34m(\u001b[0m\u001b[0;34m)\u001b[0m\u001b[0;34m\u001b[0m\u001b[0;34m\u001b[0m\u001b[0m\n\u001b[0m\u001b[1;32m      5\u001b[0m     \u001b[0;32melse\u001b[0m\u001b[0;34m:\u001b[0m\u001b[0;34m\u001b[0m\u001b[0;34m\u001b[0m\u001b[0m\n\u001b[1;32m      6\u001b[0m         \u001b[0mprint\u001b[0m\u001b[0;34m(\u001b[0m\u001b[0mlen\u001b[0m\u001b[0;34m(\u001b[0m\u001b[0mi\u001b[0m\u001b[0;34m[\u001b[0m\u001b[0;36m0\u001b[0m\u001b[0;34m]\u001b[0m\u001b[0;34m)\u001b[0m\u001b[0;34m)\u001b[0m\u001b[0;34m\u001b[0m\u001b[0;34m\u001b[0m\u001b[0m\n",
      "\u001b[0;31mTypeError\u001b[0m: exceptions must derive from BaseException"
     ]
    }
   ],
   "source": [
    "for i in ss:\n",
    "    if len(i[0])>16:\n",
    "        print(i)\n",
    "        raise()\n",
    "    else:\n",
    "        print(len(i[0]))"
   ]
  },
  {
   "cell_type": "code",
   "execution_count": null,
   "metadata": {},
   "outputs": [],
   "source": []
  }
 ],
 "metadata": {
  "kernelspec": {
   "display_name": "Python 3.7.7 ('pythonhzy')",
   "language": "python",
   "name": "python3"
  },
  "language_info": {
   "codemirror_mode": {
    "name": "ipython",
    "version": 3
   },
   "file_extension": ".py",
   "mimetype": "text/x-python",
   "name": "python",
   "nbconvert_exporter": "python",
   "pygments_lexer": "ipython3",
   "version": "3.7.7"
  },
  "orig_nbformat": 4,
  "vscode": {
   "interpreter": {
    "hash": "4d718dcce6334846a10299329eb191d6bfc6359cfbd5881c6d9cc2e2d9a36aa3"
   }
  }
 },
 "nbformat": 4,
 "nbformat_minor": 2
}
