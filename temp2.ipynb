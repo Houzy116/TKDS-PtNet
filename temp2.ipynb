{
 "cells": [
  {
   "cell_type": "code",
   "execution_count": 41,
   "metadata": {},
   "outputs": [
    {
     "name": "stderr",
     "output_type": "stream",
     "text": [
      "100%|██████████| 607/607 [00:00<00:00, 1001.86it/s]\n"
     ]
    }
   ],
   "source": [
    "from shapely.geometry import MultiPolygon, Polygon, LineString\n",
    "import gdal\n",
    "import geopandas as gpd\n",
    "ds=gdal.Open('/data4/Ukraine_img/M_and_L_inference/20220528T082611_20220528T083641_T37TCN2_MRSV4.tif')\n",
    "img=ds.ReadAsArray()\n",
    "\n",
    "trf=ds.GetGeoTransform()\n",
    "def get_patch_geometry(trf,coord):\n",
    "    lightup_all=[trf[0]-trf[1]/2,trf[3]-trf[5]/2]\n",
    "    patch_size=trf[1]\n",
    "    lightup_patch=[lightup_all[0]+patch_size*coord[0],lightup_all[1]-patch_size*coord[1]]\n",
    "    bound=[(lightup_patch[0],lightup_patch[1]),\n",
    "        (lightup_patch[0]+patch_size,lightup_patch[1]),\n",
    "        (lightup_patch[0]+patch_size,lightup_patch[1]-patch_size),\n",
    "        (lightup_patch[0],lightup_patch[1]-patch_size)]\n",
    "    square=Polygon(bound)\n",
    "    return square\n",
    "from tqdm import tqdm\n",
    "geometry=[]\n",
    "value=[]\n",
    "coords=[]\n",
    "for x in tqdm(range(img.shape[1])):\n",
    "    for y in range(img.shape[0]):\n",
    "        if img[y,x]>1:\n",
    "            geometry.append(get_patch_geometry(trf,[x,y]))\n",
    "            value.append(img[y,x])\n",
    "            coords.append([y,x])\n",
    "        elif img[y,x]==-1:\n",
    "            geometry.append(get_patch_geometry(trf,[x,y]))\n",
    "            value.append(0)\n",
    "            coords.append([y,x])\n",
    "x=[i[1] for i in coords]\n",
    "y=[i[0] for i in coords]            \n",
    "import datetime\n",
    "date_index={}\n",
    "for i in range(25):\n",
    "    date_index[i*5+4]=(datetime.datetime.strptime('2022-2-27', \"%Y-%m-%d\")+datetime.timedelta(days=5*i)).strftime(\"%Y-%m-%d\")\n",
    "date_index[0]=None\n",
    "date_index[1]=None\n",
    "date_index[2]=None\n",
    "date=[date_index[i] for i in value]\n",
    "id=list(range(len(value)))\n",
    "patch_ploygon=gpd.GeoDataFrame({'patch_id':id,'geometry':geometry,'date_id':value,'x':x,'y':y,'date':date})\n",
    "patch_ploygon=patch_ploygon.set_crs(4326)"
   ]
  },
  {
   "cell_type": "code",
   "execution_count": 13,
   "metadata": {},
   "outputs": [
    {
     "data": {
      "text/html": [
       "<div>\n",
       "<style scoped>\n",
       "    .dataframe tbody tr th:only-of-type {\n",
       "        vertical-align: middle;\n",
       "    }\n",
       "\n",
       "    .dataframe tbody tr th {\n",
       "        vertical-align: top;\n",
       "    }\n",
       "\n",
       "    .dataframe thead th {\n",
       "        text-align: right;\n",
       "    }\n",
       "</style>\n",
       "<table border=\"1\" class=\"dataframe\">\n",
       "  <thead>\n",
       "    <tr style=\"text-align: right;\">\n",
       "      <th></th>\n",
       "      <th>osm_id</th>\n",
       "      <th>type</th>\n",
       "      <th>geometry</th>\n",
       "    </tr>\n",
       "  </thead>\n",
       "  <tbody>\n",
       "    <tr>\n",
       "      <th>0</th>\n",
       "      <td>50449693</td>\n",
       "      <td>school</td>\n",
       "      <td>POINT (37.51316 47.18676)</td>\n",
       "    </tr>\n",
       "    <tr>\n",
       "      <th>1</th>\n",
       "      <td>50449694</td>\n",
       "      <td>Nonee</td>\n",
       "      <td>POINT (37.51301 47.18652)</td>\n",
       "    </tr>\n",
       "    <tr>\n",
       "      <th>2</th>\n",
       "      <td>93130390</td>\n",
       "      <td>Nonee</td>\n",
       "      <td>POINT (37.55535 47.11385)</td>\n",
       "    </tr>\n",
       "    <tr>\n",
       "      <th>3</th>\n",
       "      <td>93130424</td>\n",
       "      <td>Nonee</td>\n",
       "      <td>POINT (37.56023 47.14006)</td>\n",
       "    </tr>\n",
       "    <tr>\n",
       "      <th>4</th>\n",
       "      <td>93953126</td>\n",
       "      <td>Nonee</td>\n",
       "      <td>POINT (37.55990 47.10670)</td>\n",
       "    </tr>\n",
       "    <tr>\n",
       "      <th>...</th>\n",
       "      <td>...</td>\n",
       "      <td>...</td>\n",
       "      <td>...</td>\n",
       "    </tr>\n",
       "    <tr>\n",
       "      <th>110710</th>\n",
       "      <td>1116104061</td>\n",
       "      <td>Nonee</td>\n",
       "      <td>POINT (37.31749 47.04477)</td>\n",
       "    </tr>\n",
       "    <tr>\n",
       "      <th>110711</th>\n",
       "      <td>1116104062</td>\n",
       "      <td>Nonee</td>\n",
       "      <td>POINT (37.31732 47.04444)</td>\n",
       "    </tr>\n",
       "    <tr>\n",
       "      <th>110712</th>\n",
       "      <td>1116104063</td>\n",
       "      <td>Nonee</td>\n",
       "      <td>POINT (37.31719 47.04577)</td>\n",
       "    </tr>\n",
       "    <tr>\n",
       "      <th>110713</th>\n",
       "      <td>1116104064</td>\n",
       "      <td>Nonee</td>\n",
       "      <td>POINT (37.31648 47.04539)</td>\n",
       "    </tr>\n",
       "    <tr>\n",
       "      <th>110714</th>\n",
       "      <td>1116104068</td>\n",
       "      <td>garage</td>\n",
       "      <td>POINT (37.31665 47.04719)</td>\n",
       "    </tr>\n",
       "  </tbody>\n",
       "</table>\n",
       "<p>110715 rows × 3 columns</p>\n",
       "</div>"
      ],
      "text/plain": [
       "            osm_id    type                   geometry\n",
       "0         50449693  school  POINT (37.51316 47.18676)\n",
       "1         50449694   Nonee  POINT (37.51301 47.18652)\n",
       "2         93130390   Nonee  POINT (37.55535 47.11385)\n",
       "3         93130424   Nonee  POINT (37.56023 47.14006)\n",
       "4         93953126   Nonee  POINT (37.55990 47.10670)\n",
       "...            ...     ...                        ...\n",
       "110710  1116104061   Nonee  POINT (37.31749 47.04477)\n",
       "110711  1116104062   Nonee  POINT (37.31732 47.04444)\n",
       "110712  1116104063   Nonee  POINT (37.31719 47.04577)\n",
       "110713  1116104064   Nonee  POINT (37.31648 47.04539)\n",
       "110714  1116104068  garage  POINT (37.31665 47.04719)\n",
       "\n",
       "[110715 rows x 3 columns]"
      ]
     },
     "execution_count": 13,
     "metadata": {},
     "output_type": "execute_result"
    }
   ],
   "source": [
    "import geopandas as gpd\n",
    "f=gpd.read_file('/home/hk/python_script/Ukraine/data/UNOSAT/OSM_MandL/buildings.shp')\n",
    "del f['name']\n",
    "building_type=list(f['type'])\n",
    "building_type=[i if i is not None else 'Nonee' for i in building_type]\n",
    "f['type']=building_type\n",
    "points=[i.centroid for i in f['geometry']]\n",
    "point_gpd=f.copy()\n",
    "point_gpd['geometry']=points\n",
    "point_gpd"
   ]
  },
  {
   "cell_type": "code",
   "execution_count": 58,
   "metadata": {},
   "outputs": [
    {
     "data": {
      "text/plain": [
       "house            1311\n",
       "Nonee             149\n",
       "detached           70\n",
       "industrial         66\n",
       "apartments         35\n",
       "garages            11\n",
       "kindergarten        2\n",
       "school              2\n",
       "roof                2\n",
       "service             2\n",
       "sports_centre       1\n",
       "grandstand          1\n",
       "dtype: int64"
      ]
     },
     "execution_count": 58,
     "metadata": {},
     "output_type": "execute_result"
    }
   ],
   "source": [
    "join=gpd.sjoin(f,patch_ploygon)\n",
    "import pandas as pd\n",
    "pd.value_counts(list(join['type']))"
   ]
  },
  {
   "cell_type": "code",
   "execution_count": 59,
   "metadata": {},
   "outputs": [
    {
     "name": "stderr",
     "output_type": "stream",
     "text": [
      "/home/hk/miniconda3/envs/pythonhzy/lib/python3.7/site-packages/ipykernel_launcher.py:4: UserWarning: Column names longer than 10 characters will be truncated when saved to ESRI Shapefile.\n",
      "  after removing the cwd from sys.path.\n",
      "/home/hk/miniconda3/envs/pythonhzy/lib/python3.7/site-packages/ipykernel_launcher.py:6: UserWarning: Column names longer than 10 characters will be truncated when saved to ESRI Shapefile.\n",
      "  \n",
      "/home/hk/miniconda3/envs/pythonhzy/lib/python3.7/site-packages/ipykernel_launcher.py:8: UserWarning: Column names longer than 10 characters will be truncated when saved to ESRI Shapefile.\n",
      "  \n",
      "/home/hk/miniconda3/envs/pythonhzy/lib/python3.7/site-packages/ipykernel_launcher.py:10: UserWarning: Column names longer than 10 characters will be truncated when saved to ESRI Shapefile.\n",
      "  # Remove the CWD from sys.path while we load stuff.\n",
      "/home/hk/miniconda3/envs/pythonhzy/lib/python3.7/site-packages/ipykernel_launcher.py:12: UserWarning: Column names longer than 10 characters will be truncated when saved to ESRI Shapefile.\n",
      "  if sys.path[0] == '':\n",
      "/home/hk/miniconda3/envs/pythonhzy/lib/python3.7/site-packages/ipykernel_launcher.py:14: UserWarning: Column names longer than 10 characters will be truncated when saved to ESRI Shapefile.\n",
      "  \n",
      "/home/hk/miniconda3/envs/pythonhzy/lib/python3.7/site-packages/ipykernel_launcher.py:16: UserWarning: Column names longer than 10 characters will be truncated when saved to ESRI Shapefile.\n",
      "  app.launch_new_instance()\n"
     ]
    }
   ],
   "source": [
    "patch_ploygon.to_file('/home/hk/python_script/Ukraine/data/UNOSAT/OSM_MandL/d_patch.shp')\n",
    "\n",
    "d_house_and_apartments=join[(join['type']=='house') | (join['type']=='apartments')]\n",
    "d_house_and_apartments.to_file('/home/hk/python_script/Ukraine/data/UNOSAT/OSM_MandL/d_house-and-apartments.shp')\n",
    "d_industrial=join[join['type']=='industrial']\n",
    "d_industrial.to_file('/home/hk/python_script/Ukraine/data/UNOSAT/OSM_MandL/d_industrial.shp')\n",
    "d_school=join[join['type']=='school']\n",
    "d_school.to_file('/home/hk/python_script/Ukraine/data/UNOSAT/OSM_MandL/d_school.shp')\n",
    "d_garages=join[join['type']=='garages']\n",
    "d_garages.to_file('/home/hk/python_script/Ukraine/data/UNOSAT/OSM_MandL/d_garages.shp')\n",
    "d_kindergarten=join[join['type']=='kindergarten']\n",
    "d_kindergarten.to_file('/home/hk/python_script/Ukraine/data/UNOSAT/OSM_MandL/d_kindergarten.shp')\n",
    "d_sports_centre=join[join['type']=='sports_centre']\n",
    "d_sports_centre.to_file('/home/hk/python_script/Ukraine/data/UNOSAT/OSM_MandL/d_sportscentre.shp')\n",
    "d_other=join[(join['type']=='Nonee') | (join['type']=='detached') | (join['type']=='service') | (join['type']=='roof') | (join['type']=='grandstand')]\n",
    "d_other.to_file('/home/hk/python_script/Ukraine/data/UNOSAT/OSM_MandL/d_other.shp')"
   ]
  },
  {
   "cell_type": "code",
   "execution_count": 62,
   "metadata": {},
   "outputs": [
    {
     "data": {
      "image/svg+xml": "<svg xmlns=\"http://www.w3.org/2000/svg\" xmlns:xlink=\"http://www.w3.org/1999/xlink\" width=\"100.0\" height=\"100.0\" viewBox=\"37.555129232 47.108886332 0.0010116360000012037 0.0007650360000042156\" preserveAspectRatio=\"xMinYMin meet\"><g transform=\"matrix(1,0,0,-1,0,94.2185377)\"><path fill-rule=\"evenodd\" fill=\"#66cc99\" stroke=\"#555555\" stroke-width=\"2.0232720000024074e-05\" opacity=\"0.6\" d=\"M 37.5555226,47.1089863 L 37.5551667,47.1091397 L 37.5553845,47.1093738 L 37.555416,47.1093603 L 37.5554957,47.1094459 L 37.5554605,47.109461 L 37.5556028,47.1096139 L 37.5558531,47.109506 L 37.5561034,47.1093982 L 37.5559638,47.1092481 L 37.5559314,47.1092621 L 37.5558517,47.1091765 L 37.555888,47.1091609 L 37.5556675,47.1089238 L 37.555595,47.1089551 L 37.5555226,47.1089863 z\" /></g></svg>",
      "text/plain": [
       "<shapely.geometry.polygon.Polygon at 0x7f596f3dd890>"
      ]
     },
     "execution_count": 62,
     "metadata": {},
     "output_type": "execute_result"
    }
   ],
   "source": [
    "join.iloc[0]['geometry']"
   ]
  },
  {
   "cell_type": "code",
   "execution_count": 35,
   "metadata": {},
   "outputs": [],
   "source": [
    "import rasterio\n",
    "import numpy as np\n",
    "from rasterio import crs\n",
    "import os\n",
    "import glob\n",
    "import gdal\n",
    "import osr\n",
    "from pybob.image_tools import create_mask_from_shapefile\n",
    "from pybob.GeoImg import GeoImg\n",
    "def get_mask(maskshp,geotrf,shape,p='4326'):\n",
    "    img=np.zeros((shape[0],shape[1]))\n",
    "    \n",
    "    if p=='4326':\n",
    "        sref = osr.SpatialReference()\n",
    "        sref.ImportFromEPSG(4326)\n",
    "        proj = sref.ExportToWkt()\n",
    "    else:\n",
    "        proj=p\n",
    "    \n",
    "    trf=(geotrf[0], geotrf[1], geotrf[2], geotrf[3], geotrf[4], geotrf[5])\n",
    "    drv = gdal.GetDriverByName('MEM')\n",
    "    dst = drv.Create('', shape[1], shape[0], 1, gdal.GDT_Float32)\n",
    "\n",
    "    sp = dst.SetProjection(proj)\n",
    "    sg = dst.SetGeoTransform(trf)\n",
    "\n",
    "    wa = dst.GetRasterBand(1).WriteArray(img)\n",
    "    del wa, sg, sp\n",
    "    img_bob = GeoImg(dst)\n",
    "    mask = create_mask_from_shapefile(img_bob, maskshp)\n",
    "    return mask\n",
    "def tif_save(img,save_name,trf,p='4326'):\n",
    "    driver=gdal.GetDriverByName('GTiff')\n",
    "    new_img=driver.Create(save_name,img.shape[1],img.shape[0],1,6,['COMPRESS=LZW','BIGTIFF=YES'])\n",
    "    new_img.SetGeoTransform(trf)\n",
    "    \n",
    "    if p=='4326':\n",
    "        sref = osr.SpatialReference()\n",
    "        sref.ImportFromEPSG(4326)\n",
    "        proj = sref.ExportToWkt()\n",
    "    else:\n",
    "        proj=p\n",
    "    new_img.SetProjection(proj)\n",
    "    new_img.GetRasterBand(1).SetNoDataValue(0)\n",
    "    new_img.GetRasterBand(1).WriteArray(img)\n",
    "    new_img.FlushCache()\n",
    "    del new_img\n",
    "import geopandas as gpd\n",
    "from glob import glob\n",
    "import rasterio\n",
    "def cut_img(shp_file,tif_file):\n",
    "    #把shp投影转换为tif投影\n",
    "    f=gpd.read_file(shp_file)\n",
    "    f=f.to_crs(rasterio.open(tif_file).crs)\n",
    "    f.to_file(shp_file.replace('.shp','_54009.shp'))\n",
    "    ds=gdal.Open(tif_file)\n",
    "    #建立mask\n",
    "    mask=get_mask(shp_file.replace('.shp','_54009.shp'),ds.GetGeoTransform(),(50000,60000),p=ds.GetProjection())\n",
    "    #mask cut img\n",
    "    img=ds.ReadAsArray()\n",
    "    img[mask==0]=np.nan\n",
    "    p=ds.GetProjection()\n",
    "    trf=ds.GetGeoTransform()\n",
    "    #保存图像\n",
    "    tif_save(img,tif_file.replace('.tif','_cut.tif'),trf,p=p)\n",
    "    return img,mask\n",
    "shp_file='/data4/urban2015_shp/urban_2015_dissolved/urban2015_extent_Kra_Dissolve.shp'\n",
    "tif_file='/data4/urban2015_shp/CA_gdal/CA_1990_asian_gdal.tif'\n",
    "img_cut,mask=cut_img(shp_file,tif_file)"
   ]
  },
  {
   "cell_type": "code",
   "execution_count": 9,
   "metadata": {},
   "outputs": [],
   "source": [
    "import torch\n",
    "import os\n",
    "os.environ['CUDA_VISIBLE_DEVICES']='2'\n",
    "device=torch.device(\"cpu\")"
   ]
  },
  {
   "cell_type": "code",
   "execution_count": 11,
   "metadata": {},
   "outputs": [],
   "source": [
    "w=torch.load('/home/hk/python_script/SupContrast-master/SupContrast-master/save/SupCon/allcities_size6v2_models/SupCon_allcities_size6v2_mynet6_lr_0.05_decay_0.0001_bsz_1024_temp_0.07_trial_0_cosine_warm/ckpt_epoch_1000.pth',map_location=device)"
   ]
  },
  {
   "cell_type": "code",
   "execution_count": 24,
   "metadata": {},
   "outputs": [],
   "source": [
    "del w['model']['encoder.module.fn1.bias']"
   ]
  },
  {
   "cell_type": "code",
   "execution_count": 23,
   "metadata": {},
   "outputs": [],
   "source": [
    "del w['model']['encoder.module.fn2.weight']"
   ]
  },
  {
   "cell_type": "code",
   "execution_count": 25,
   "metadata": {},
   "outputs": [],
   "source": [
    "torch.save(w,'/home/hk/python_script/SupContrast-master/SupContrast-master/save/SupCon/allcities_size6v2_models/SupCon_allcities_size6v2_mynet6_lr_0.05_decay_0.0001_bsz_1024_temp_0.07_trial_0_cosine_warm/ckpt_epoch_1000_2.pth')"
   ]
  },
  {
   "cell_type": "code",
   "execution_count": null,
   "metadata": {},
   "outputs": [],
   "source": []
  }
 ],
 "metadata": {
  "kernelspec": {
   "display_name": "Python 3.7.7 ('pythonhzy': conda)",
   "language": "python",
   "name": "python3"
  },
  "language_info": {
   "codemirror_mode": {
    "name": "ipython",
    "version": 3
   },
   "file_extension": ".py",
   "mimetype": "text/x-python",
   "name": "python",
   "nbconvert_exporter": "python",
   "pygments_lexer": "ipython3",
   "version": "3.7.7"
  },
  "orig_nbformat": 4,
  "vscode": {
   "interpreter": {
    "hash": "4d718dcce6334846a10299329eb191d6bfc6359cfbd5881c6d9cc2e2d9a36aa3"
   }
  }
 },
 "nbformat": 4,
 "nbformat_minor": 2
}
